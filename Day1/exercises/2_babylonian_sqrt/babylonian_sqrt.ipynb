{
 "cells": [
  {
   "cell_type": "markdown",
   "metadata": {},
   "source": [
    "# Exercise: Babylonian Square Root\n",
    "\n",
    "The Babylonians introduced a simple but clever iterative algorithm for computing the square root of a number:"
   ]
  },
  {
   "cell_type": "markdown",
   "metadata": {},
   "source": [
    "> Repeat $t \\leftarrow (t + x/2)/2$ until $t$ converges to $\\sqrt{x}$."
   ]
  },
  {
   "cell_type": "markdown",
   "metadata": {},
   "source": [
    "Here a Julia implementation that performs the iterative procedure `N` times."
   ]
  },
  {
   "cell_type": "code",
   "execution_count": 7,
   "metadata": {},
   "outputs": [
    {
     "data": {
      "text/plain": [
       "sqrt_babylonian (generic function with 1 method)"
      ]
     },
     "execution_count": 7,
     "metadata": {},
     "output_type": "execute_result"
    }
   ],
   "source": [
    "function sqrt_babylonian(x; N = 10)\n",
    "    t = (1+x)/2\n",
    "    for i = 2:N\n",
    "        t = (t + x/t)/2\n",
    "    end\n",
    "    t\n",
    "end"
   ]
  },
  {
   "cell_type": "markdown",
   "metadata": {},
   "source": [
    "### Tasks\n",
    "\n",
    "1. Confirm that the iterative algorithm indeed converges to the square root by comparing the output of `sqrt_babylonian` to `sqrt(big\"2.0\")` for `N` increasing from `1` to `10`.\n",
    "    - How big is the difference to the \"exact\" result?\n",
    "    - Does increasing `N` any further help?\n",
    "    - How can we get a more accurate result without changing the implementation?\n",
    "2. Do the same as in task 1 but vary the data type of the input number. Specifically, use `Float16`, `Float32`, `Float64`, and `BigFloat`.\n",
    "\n",
    "We can obtain fancy features just by changing the input argument type. A powerful number type invented by Clifford in 1873 is the [*dual number*](https://en.wikipedia.org/wiki/Dual_number). One application of these numbers is what is known as forward-mode automatic differentiation (AD) these days. Here a simple (incomplete) Julia implementation:"
   ]
  },
  {
   "cell_type": "code",
   "execution_count": 18,
   "metadata": {},
   "outputs": [],
   "source": [
    "# D for \"dual number\", invented by Clifford in 1873.\n",
    "struct D <: Number\n",
    "    x::Float64 # value\n",
    "    ϵ::Float64 # derivative\n",
    "end\n",
    "\n",
    "Base.:+(a::D, b::D) = D(a.x + b.x, a.ϵ + b.ϵ) # sum rule\n",
    "Base.:-(a::D, b::D) = D(a.x - b.x, a.ϵ - b.ϵ) # sum rule\n",
    "Base.:*(a::D, b::D) = D(a.x * b.x, a.x * b.ϵ + a.ϵ * b.x) # product rule\n",
    "Base.:/(a::D, b::D) = D(a.x / b.x, (b.x * a.ϵ - a.x * b.ϵ)/b.x^2) # quotient rule\n",
    "\n",
    "Base.convert(::Type{D}, x::Real) = D(x, zero(x))\n",
    "Base.promote_rule(::Type{D}, ::Type{<:Number}) = D"
   ]
  },
  {
   "cell_type": "markdown",
   "metadata": {},
   "source": [
    "The derivative of a generic Julia function (that fundamentally relies on `+`, `-`, `*`, and `/`) can know be obtained with the following function"
   ]
  },
  {
   "cell_type": "code",
   "execution_count": 19,
   "metadata": {},
   "outputs": [
    {
     "data": {
      "text/plain": [
       "derivative (generic function with 1 method)"
      ]
     },
     "execution_count": 19,
     "metadata": {},
     "output_type": "execute_result"
    }
   ],
   "source": [
    "# utility function for our small forward-mode AD\n",
    "derivative(f::Function, x::Number) = f(D(x, one(x))).ϵ"
   ]
  },
  {
   "cell_type": "markdown",
   "metadata": {},
   "source": [
    "3. What is the derivative of $\\sqrt{x}$?\n",
    "\n",
    "4. Check that `derivative(sqrt_babylonian, some_number)` indeed automagically gives the correct value of the derivative.\n",
    "    - Try other functions/algorithms as well! (e.g. maybe something recursive like `pow(x, n) = n <= 0 ? 1 : x*pow(x, n-1)`)\n",
    "\n",
    "\n",
    "Now, imagine your boss coming to your office and telling you that he thinks that the Babylonian approximation for `N=4` is equivalent to the analytical form\n",
    "$$ \\text{sqrt_babylonian}(x; N=4) \\approx \\begin{equation}\n",
    "\\frac{\\frac{1}{32768} + \\frac{15}{4096} x + \\frac{455}{8192} x^{2} + \\frac{15}{4096} x^{7} + \\frac{455}{8192} x^{6} + \\frac{1001}{4096} x^{3} + \\frac{6435}{16384} x^{4} + \\frac{1001}{4096} x^{5} + \\frac{1}{32768} x^{8}}{\\left( \\frac{1}{2} + \\frac{1}{2} x \\right) \\left( \\frac{1}{8} + \\frac{1}{8} x^{2} + \\frac{3}{4} x \\right) \\left( \\frac{1}{128} + \\frac{1}{128} x^{4} + \\frac{7}{32} x + \\frac{35}{64} x^{2} + \\frac{7}{32} x^{3} \\right)}\n",
    "\\end{equation} $$\n",
    "\n",
    "Of course, he asks you to \"quickly\" confirm this.\n",
    "\n",
    "5. Is your boss correct?\n",
    "    - Hint: Use the `Symbolics` package, in particular `@variables x` and `simplify`.\n",
    "    - Note: Make sure you have `N=4` since for larger `N` problems might start to occur."
   ]
  },
  {
   "cell_type": "markdown",
   "metadata": {},
   "source": [
    "### Your solution"
   ]
  },
  {
   "cell_type": "code",
   "execution_count": 1,
   "metadata": {},
   "outputs": [],
   "source": [
    "# 1.\n",
    "# ..."
   ]
  }
 ],
 "metadata": {
  "@webio": {
   "lastCommId": null,
   "lastKernelId": null
  },
  "kernelspec": {
   "display_name": "Julia 1.8.0",
   "language": "julia",
   "name": "julia-1.8"
  },
  "language_info": {
   "file_extension": ".jl",
   "mimetype": "application/julia",
   "name": "julia",
   "version": "1.8.0"
  }
 },
 "nbformat": 4,
 "nbformat_minor": 4
}
