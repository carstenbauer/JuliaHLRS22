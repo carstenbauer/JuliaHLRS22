{
 "cells": [
  {
   "cell_type": "markdown",
   "metadata": {},
   "source": [
    "# Exercise: Babylonian Square Root\n",
    "\n",
    "The Babylonians introduced a simple but clever iterative algorithm for computing the square root of a number:"
   ]
  },
  {
   "cell_type": "markdown",
   "metadata": {},
   "source": [
    "> Repeat $t \\leftarrow (t + x/2)/2$ until $t$ converges to $\\sqrt{x}$."
   ]
  },
  {
   "cell_type": "markdown",
   "metadata": {},
   "source": [
    "Here a Julia implementation that performs the iterative procedure `N` times."
   ]
  },
  {
   "cell_type": "code",
   "execution_count": 1,
   "metadata": {},
   "outputs": [
    {
     "data": {
      "text/plain": [
       "sqrt_babylonian (generic function with 1 method)"
      ]
     },
     "execution_count": 1,
     "metadata": {},
     "output_type": "execute_result"
    }
   ],
   "source": [
    "function sqrt_babylonian(x; N = 10)\n",
    "    t = (1+x)/2\n",
    "    for i = 2:N\n",
    "        t = (t + x/t)/2\n",
    "    end\n",
    "    t\n",
    "end"
   ]
  },
  {
   "cell_type": "markdown",
   "metadata": {},
   "source": [
    "### Tasks\n",
    "\n",
    "1. Confirm that the iterative algorithm indeed converges to the square root by comparing the output of `sqrt_babylonian` to `sqrt(big\"2.0\")` for `N` increasing from `1` to `10`.\n",
    "    - How big is the difference to the \"exact\" result?\n",
    "    - Does increasing `N` any further help?\n",
    "    - How can we get a more accurate result without changing the implementation?\n",
    "2. Do the same as in task 1 but vary the data type of the input number. Specifically, use `Float16`, `Float32`, `Float64`, and `BigFloat`.\n",
    "\n",
    "We can obtain fancy features just by changing the input argument type. A powerful number type invented by Clifford in 1873 is the [*dual number*](https://en.wikipedia.org/wiki/Dual_number). One application of these numbers is what is known as forward-mode automatic differentiation (AD) these days. Here a simple (incomplete) Julia implementation:"
   ]
  },
  {
   "cell_type": "code",
   "execution_count": 2,
   "metadata": {},
   "outputs": [],
   "source": [
    "# D for \"dual number\", invented by Clifford in 1873.\n",
    "struct D <: Number\n",
    "    x::Float64 # value\n",
    "    ϵ::Float64 # derivative\n",
    "end\n",
    "\n",
    "Base.:+(a::D, b::D) = D(a.x + b.x, a.ϵ + b.ϵ) # sum rule\n",
    "Base.:-(a::D, b::D) = D(a.x - b.x, a.ϵ - b.ϵ) # sum rule\n",
    "Base.:*(a::D, b::D) = D(a.x * b.x, a.x * b.ϵ + a.ϵ * b.x) # product rule\n",
    "Base.:/(a::D, b::D) = D(a.x / b.x, (b.x * a.ϵ - a.x * b.ϵ)/b.x^2) # quotient rule\n",
    "\n",
    "Base.convert(::Type{D}, x::Real) = D(x, zero(x))\n",
    "Base.promote_rule(::Type{D}, ::Type{<:Number}) = D"
   ]
  },
  {
   "cell_type": "markdown",
   "metadata": {},
   "source": [
    "The derivative of a generic Julia function (that fundamentally relies on `+`, `-`, `*`, and `/`) can know be obtained with the following function"
   ]
  },
  {
   "cell_type": "code",
   "execution_count": 3,
   "metadata": {},
   "outputs": [
    {
     "data": {
      "text/plain": [
       "derivative (generic function with 1 method)"
      ]
     },
     "execution_count": 3,
     "metadata": {},
     "output_type": "execute_result"
    }
   ],
   "source": [
    "# utility function for our small forward-mode AD\n",
    "derivative(f::Function, x::Number) = f(D(x, one(x))).ϵ"
   ]
  },
  {
   "cell_type": "markdown",
   "metadata": {},
   "source": [
    "3. What is the derivative of $\\sqrt{x}$?\n",
    "\n",
    "4. Check that `derivative(sqrt_babylonian, some_number)` indeed automagically gives the correct value of the derivative.\n",
    "    - Try other functions/algorithms as well! (e.g. maybe something recursive like `pow(x, n) = n <= 0 ? 1 : x*pow(x, n-1)`)\n",
    "\n",
    "\n",
    "Now, imagine your boss coming to your office and telling you that he thinks that the Babylonian approximation for `N=4` is equivalent to the analytical form\n",
    "$$ \\text{sqrt_babylonian}(x; N=4) \\approx \\begin{equation}\n",
    "\\frac{\\frac{1}{32768} + \\frac{15}{4096} x + \\frac{455}{8192} x^{2} + \\frac{15}{4096} x^{7} + \\frac{455}{8192} x^{6} + \\frac{1001}{4096} x^{3} + \\frac{6435}{16384} x^{4} + \\frac{1001}{4096} x^{5} + \\frac{1}{32768} x^{8}}{\\left( \\frac{1}{2} + \\frac{1}{2} x \\right) \\left( \\frac{1}{8} + \\frac{1}{8} x^{2} + \\frac{3}{4} x \\right) \\left( \\frac{1}{128} + \\frac{1}{128} x^{4} + \\frac{7}{32} x + \\frac{35}{64} x^{2} + \\frac{7}{32} x^{3} \\right)}\n",
    "\\end{equation} $$\n",
    "\n",
    "Of course, he asks you to \"quickly\" confirm this.\n",
    "\n",
    "5. Is your boss correct?\n",
    "    - Hint: Use the `Symbolics` package, in particular `@variables x` and `simplify`.\n",
    "    - Note: Make sure you have `N=4` since for larger `N` problems might start to occur."
   ]
  },
  {
   "cell_type": "markdown",
   "metadata": {},
   "source": [
    "### Possible solution"
   ]
  },
  {
   "cell_type": "code",
   "execution_count": 4,
   "metadata": {},
   "outputs": [
    {
     "name": "stdout",
     "output_type": "stream",
     "text": [
      "0.08578643762690495119831127579030192143032812462305192682332026200926752153789802\n",
      "0.00245310429357146983524132576942986494610571251367692682332026200926752153789802\n",
      "2.123901414615797774852241245868268707030873051926823320262009267521537898020485e-06\n",
      "1.594821025504709383794876399734252552739426823320262009267521537898020485288439e-12\n",
      "-1.253716717905021777128546450199081980731766797379907324784621019795147115605803e-16\n",
      "-1.253716717905021777128546450199081980731766797379907324784621019795147115605803e-16\n",
      "-1.253716717905021777128546450199081980731766797379907324784621019795147115605803e-16\n",
      "-1.253716717905021777128546450199081980731766797379907324784621019795147115605803e-16\n",
      "-1.253716717905021777128546450199081980731766797379907324784621019795147115605803e-16\n",
      "-1.253716717905021777128546450199081980731766797379907324784621019795147115605803e-16\n"
     ]
    }
   ],
   "source": [
    "# 1.\n",
    "for i in 1:10\n",
    "    println(sqrt_babylonian(2.0; N=i) - sqrt(big\"2.0\"))\n",
    "end"
   ]
  },
  {
   "cell_type": "code",
   "execution_count": 5,
   "metadata": {},
   "outputs": [
    {
     "name": "stdout",
     "output_type": "stream",
     "text": [
      "dtype = Float16\n",
      "0.08578643762690495119831127579030192143032812462305192682332026200926752153789802\n",
      "0.00180206262690495119831127579030192143032812462305192682332026200926752153789802\n",
      "-0.0001510623730950488016887242096980785696718753769480731766797379907324784621019795\n",
      "-0.0001510623730950488016887242096980785696718753769480731766797379907324784621019795\n",
      "-0.0001510623730950488016887242096980785696718753769480731766797379907324784621019795\n",
      "-0.0001510623730950488016887242096980785696718753769480731766797379907324784621019795\n",
      "-0.0001510623730950488016887242096980785696718753769480731766797379907324784621019795\n",
      "-0.0001510623730950488016887242096980785696718753769480731766797379907324784621019795\n",
      "-0.0001510623730950488016887242096980785696718753769480731766797379907324784621019795\n",
      "-0.0001510623730950488016887242096980785696718753769480731766797379907324784621019795\n",
      "\n",
      "dtype = Float32\n",
      "0.08578643762690495119831127579030192143032812462305192682332026200926752153789802\n",
      "0.00245318376643131838581127579030192143032812462305192682332026200926752153789802\n",
      "2.121563977705104561275790301921430328124623051926823320262009267521537898020485e-06\n",
      "-2.420323420895793872420969807856967187537694807317667973799073247846210197951471e-08\n",
      "-2.420323420895793872420969807856967187537694807317667973799073247846210197951471e-08\n",
      "-2.420323420895793872420969807856967187537694807317667973799073247846210197951471e-08\n",
      "-2.420323420895793872420969807856967187537694807317667973799073247846210197951471e-08\n",
      "-2.420323420895793872420969807856967187537694807317667973799073247846210197951471e-08\n",
      "-2.420323420895793872420969807856967187537694807317667973799073247846210197951471e-08\n",
      "-2.420323420895793872420969807856967187537694807317667973799073247846210197951471e-08\n",
      "\n",
      "dtype = Float64\n",
      "0.08578643762690495119831127579030192143032812462305192682332026200926752153789802\n",
      "0.00245310429357146983524132576942986494610571251367692682332026200926752153789802\n",
      "2.123901414615797774852241245868268707030873051926823320262009267521537898020485e-06\n",
      "1.594821025504709383794876399734252552739426823320262009267521537898020485288439e-12\n",
      "-1.253716717905021777128546450199081980731766797379907324784621019795147115605803e-16\n",
      "-1.253716717905021777128546450199081980731766797379907324784621019795147115605803e-16\n",
      "-1.253716717905021777128546450199081980731766797379907324784621019795147115605803e-16\n",
      "-1.253716717905021777128546450199081980731766797379907324784621019795147115605803e-16\n",
      "-1.253716717905021777128546450199081980731766797379907324784621019795147115605803e-16\n",
      "-1.253716717905021777128546450199081980731766797379907324784621019795147115605803e-16\n",
      "\n",
      "dtype = BigFloat\n",
      "0.08578643762690495119831127579030192143032812462305192682332026200926752153789802\n",
      "0.002453104293571617864977942456968588096994791289718593489986928675934188204576202\n",
      "2.123901414755119879903241282313587190869721091142509594771813189090165348662204e-06\n",
      "1.594861824606854680436831546887746738795971408225281209321893373282554461870123e-12\n",
      "8.992928321650453100503992493553216097606324633457668137499347571936627462501505e-25\n",
      "2.85928384333395122532777168230583522433177744630519065794809400186552252353298e-49\n",
      "1.727233711018888925077270372560079914223200072887256277004740694033718360632485e-77\n",
      "1.727233711018888925077270372560079914223200072887256277004740694033718360632485e-77\n",
      "1.727233711018888925077270372560079914223200072887256277004740694033718360632485e-77\n",
      "1.727233711018888925077270372560079914223200072887256277004740694033718360632485e-77\n",
      "\n"
     ]
    }
   ],
   "source": [
    "# 2.\n",
    "for dtype in (Float16, Float32, Float64, BigFloat)\n",
    "    println(\"dtype = $dtype\")\n",
    "    for i in 1:10\n",
    "        println(sqrt_babylonian(dtype(2.0); N=i) - sqrt(big\"2.0\"))\n",
    "    end\n",
    "    println()\n",
    "end"
   ]
  },
  {
   "cell_type": "code",
   "execution_count": 6,
   "metadata": {},
   "outputs": [
    {
     "data": {
      "text/plain": [
       "0.35355339059327373"
      ]
     },
     "execution_count": 6,
     "metadata": {},
     "output_type": "execute_result"
    }
   ],
   "source": [
    "# 3.\n",
    "derivative(sqrt_babylonian, 2.0)"
   ]
  },
  {
   "cell_type": "markdown",
   "metadata": {},
   "source": [
    "Derivative of $\\sqrt{x}$ is $\\dfrac{1}{2\\sqrt{x}}$"
   ]
  },
  {
   "cell_type": "code",
   "execution_count": 7,
   "metadata": {},
   "outputs": [
    {
     "data": {
      "text/plain": [
       "0.35355339059327373"
      ]
     },
     "execution_count": 7,
     "metadata": {},
     "output_type": "execute_result"
    }
   ],
   "source": [
    "1/(2*sqrt(2))"
   ]
  },
  {
   "cell_type": "code",
   "execution_count": 8,
   "metadata": {},
   "outputs": [
    {
     "data": {
      "text/plain": [
       "true"
      ]
     },
     "execution_count": 8,
     "metadata": {},
     "output_type": "execute_result"
    }
   ],
   "source": [
    "derivative(x->2*x^2, 1.23) == 4*1.23"
   ]
  },
  {
   "cell_type": "code",
   "execution_count": 9,
   "metadata": {},
   "outputs": [
    {
     "data": {
      "text/plain": [
       "pow (generic function with 1 method)"
      ]
     },
     "execution_count": 9,
     "metadata": {},
     "output_type": "execute_result"
    }
   ],
   "source": [
    "pow(x, n) = n <= 0 ? 1 : x*pow(x, n-1)"
   ]
  },
  {
   "cell_type": "code",
   "execution_count": 10,
   "metadata": {},
   "outputs": [
    {
     "data": {
      "text/plain": [
       "12.0"
      ]
     },
     "execution_count": 10,
     "metadata": {},
     "output_type": "execute_result"
    }
   ],
   "source": [
    "derivative(x -> pow(x,3), 2)"
   ]
  },
  {
   "cell_type": "code",
   "execution_count": 11,
   "metadata": {},
   "outputs": [
    {
     "data": {
      "text/latex": [
       "\\begin{equation}\n",
       "\\frac{1}{2} + \\frac{1}{2} x\n",
       "\\end{equation}\n"
      ],
      "text/plain": [
       "(1//2) + (1//2)*x"
      ]
     },
     "metadata": {},
     "output_type": "display_data"
    },
    {
     "data": {
      "text/latex": [
       "\\begin{equation}\n",
       "\\frac{1}{4} + \\frac{1}{4} x + \\frac{\\frac{1}{2} x}{\\frac{1}{2} + \\frac{1}{2} x}\n",
       "\\end{equation}\n"
      ],
      "text/plain": [
       "(1//4) + (1//4)*x + ((1//2)*x) / ((1//2) + (1//2)*x)"
      ]
     },
     "metadata": {},
     "output_type": "display_data"
    },
    {
     "data": {
      "text/latex": [
       "\\begin{equation}\n",
       "\\frac{1}{8} + \\frac{1}{8} x + \\frac{\\frac{1}{4} x}{\\frac{1}{2} + \\frac{1}{2} x} + \\frac{\\frac{1}{2} x}{\\frac{1}{4} + \\frac{1}{4} x + \\frac{\\frac{1}{2} x}{\\frac{1}{2} + \\frac{1}{2} x}}\n",
       "\\end{equation}\n"
      ],
      "text/plain": [
       "(1//8) + (1//8)*x + ((1//4)*x) / ((1//2) + (1//2)*x) + ((1//2)*x) / ((1//4) + (1//4)*x + ((1//2)*x) / ((1//2) + (1//2)*x))"
      ]
     },
     "metadata": {},
     "output_type": "display_data"
    },
    {
     "data": {
      "text/latex": [
       "\\begin{equation}\n",
       "\\frac{1}{16} + \\frac{1}{16} x + \\frac{\\frac{1}{8} x}{\\frac{1}{2} + \\frac{1}{2} x} + \\frac{\\frac{1}{4} x}{\\frac{1}{4} + \\frac{1}{4} x + \\frac{\\frac{1}{2} x}{\\frac{1}{2} + \\frac{1}{2} x}} + \\frac{\\frac{1}{2} x}{\\frac{1}{8} + \\frac{1}{8} x + \\frac{\\frac{1}{4} x}{\\frac{1}{2} + \\frac{1}{2} x} + \\frac{\\frac{1}{2} x}{\\frac{1}{4} + \\frac{1}{4} x + \\frac{\\frac{1}{2} x}{\\frac{1}{2} + \\frac{1}{2} x}}}\n",
       "\\end{equation}\n"
      ],
      "text/plain": [
       "(1//16) + (1//16)*x + ((1//8)*x) / ((1//2) + (1//2)*x) + ((1//4)*x) / ((1//4) + (1//4)*x + ((1//2)*x) / ((1//2) + (1//2)*x)) + ((1//2)*x) / ((1//8) + (1//8)*x + ((1//4)*x) / ((1//2) + (1//2)*x) + ((1//2)*x) / ((1//4) + (1//4)*x + ((1//2)*x) / ((1//2) + (1//2)*x)))"
      ]
     },
     "metadata": {},
     "output_type": "display_data"
    }
   ],
   "source": [
    "# X.\n",
    "using Symbolics\n",
    "@variables x\n",
    "\n",
    "for i in 1:4\n",
    "    display(sqrt_babylonian(x; N=i))\n",
    "end"
   ]
  },
  {
   "cell_type": "code",
   "execution_count": 26,
   "metadata": {},
   "outputs": [
    {
     "data": {
      "text/latex": [
       "\\begin{equation}\n",
       "\\frac{\\frac{1}{32768} + \\frac{15}{4096} x + \\frac{455}{8192} x^{2} + \\frac{15}{4096} x^{7} + \\frac{455}{8192} x^{6} + \\frac{1001}{4096} x^{3} + \\frac{6435}{16384} x^{4} + \\frac{1001}{4096} x^{5} + \\frac{1}{32768} x^{8}}{\\left( \\frac{1}{2} + \\frac{1}{2} x \\right) \\left( \\frac{1}{8} + \\frac{1}{8} x^{2} + \\frac{3}{4} x \\right) \\left( \\frac{1}{128} + \\frac{1}{128} x^{4} + \\frac{7}{32} x + \\frac{35}{64} x^{2} + \\frac{7}{32} x^{3} \\right)}\n",
       "\\end{equation}\n"
      ],
      "text/plain": [
       "((1//32768) + (15//4096)*x + (455//8192)*(x^2) + (15//4096)*(x^7) + (455//8192)*(x^6) + (1001//4096)*(x^3) + (6435//16384)*(x^4) + (1001//4096)*(x^5) + (1//32768)*(x^8)) / (((1//2) + (1//2)*x)*((1//8) + (1//8)*(x^2) + (3//4)*x)*((1//128) + (1//128)*(x^4) + (7//32)*x + (35//64)*(x^2) + (7//32)*(x^3)))"
      ]
     },
     "execution_count": 26,
     "metadata": {},
     "output_type": "execute_result"
    }
   ],
   "source": [
    "simplify(sqrt_babylonian(x; N=4))"
   ]
  }
 ],
 "metadata": {
  "@webio": {
   "lastCommId": null,
   "lastKernelId": null
  },
  "kernelspec": {
   "display_name": "Julia 1.8.0",
   "language": "julia",
   "name": "julia-1.8"
  },
  "language_info": {
   "file_extension": ".jl",
   "mimetype": "application/julia",
   "name": "julia",
   "version": "1.8.0"
  }
 },
 "nbformat": 4,
 "nbformat_minor": 4
}
