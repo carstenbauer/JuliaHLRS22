{
 "cells": [
  {
   "cell_type": "markdown",
   "metadata": {},
   "source": [
    "# Exercise: One-Hot Vector\n",
    "\n",
    "[One-hot encoding](https://en.wikipedia.org/wiki/One-hot): Among a group of bits (all either `0` or `1`) only one is hot (`1`) while all others are cold (`0`).\n",
    "\n",
    "Example: `v = [0, 0, 0, 0, 0, 1, 0, 0, 0]`\n",
    "\n",
    "One-hot encoding has applications in machine learning, specifically in classification tasks where there is a finite set of categories (think of [MNIST](https://en.wikipedia.org/wiki/MNIST_database) where images can show numbers from 0 to 9)."
   ]
  },
  {
   "cell_type": "markdown",
   "metadata": {},
   "source": [
    "### Task\n",
    "\n",
    "1. Think about what information an implementation of a one-hot vector actually has to store.\n",
    "2. Using `struct`, define a `OneHot` type which represents a vector with only a single hot (i.e. `== 1`) bit.\n",
    "3. Extend all the necessary `Base` functions such that the following computation works for a matrix `A` and a vector of `OneHot` vectors `vs` (i.e. `vs isa Vector{OneHot}`).\n",
    "\n",
    "    ```julia\n",
    "    function innersum(A, vs)\n",
    "        t = zero(eltype(A))\n",
    "        for v in vs\n",
    "            y = A*v\n",
    "            for i in 1:length(vs[1])\n",
    "                t += v[i] * y[i]\n",
    "            end\n",
    "        end\n",
    "        return t\n",
    "    end\n",
    "\n",
    "    A = rand(3,3)\n",
    "    vs = [rand(3) for i in 1:10] # This should be replaced by a `Vector{OneHot}`\n",
    "\n",
    "    innersum(A, vs)\n",
    "\n",
    "    ```\n",
    "\n",
    "4. Benchmark the speed of `innersum` when called with a vector of `OneHot` vectors (i.e. `vs = [OneHot(3, rand(1:3)) for i in 1:10]`) and when called with a vector of `Vector{Float64}` vectors, respectively.\n",
    "    - What do you observe?\n",
    "\n",
    "\n",
    "5. Now, define a `OneHotVector` type which is identical to `OneHot` but is declared to be a subtype of `AbstractVector{Bool}` and extend only the functions `Base.getindex(v::OneHotVector, i::Int)` and `Base.size(v::OneHotVector)`.\n",
    "    - Here, the function `size` should return a `Tuple{Int64}` indicating the length of the vector, i.e. `(3,)` for a one-hot vector of length 3.\n",
    " \n",
    "\n",
    "6. Try to create a single `OneHotVector` and try to run the `innersum` function using the new `OneHotVector` type.\n",
    "    - What changes do you observe?\n",
    "    - Do you have to implement any further methods?"
   ]
  },
  {
   "cell_type": "code",
   "execution_count": 4,
   "metadata": {},
   "outputs": [
    {
     "data": {
      "text/plain": [
       "innersum (generic function with 1 method)"
      ]
     },
     "execution_count": 4,
     "metadata": {},
     "output_type": "execute_result"
    }
   ],
   "source": [
    "function innersum(A, vs)\n",
    "     t = zero(eltype(A))\n",
    "     for v in vs\n",
    "         y = A*v\n",
    "         for i in 1:length(vs[1])\n",
    "             t += v[i] * y[i]\n",
    "         end\n",
    "     end\n",
    "     return t\n",
    " end"
   ]
  },
  {
   "cell_type": "markdown",
   "metadata": {},
   "source": [
    "### Possible solution"
   ]
  },
  {
   "cell_type": "markdown",
   "metadata": {},
   "source": [
    "1. It must store it's length and the position of the hot bit."
   ]
  },
  {
   "cell_type": "code",
   "execution_count": 5,
   "metadata": {},
   "outputs": [],
   "source": [
    "# 2.\n",
    "# One-hot vector\n",
    "# v = (0, ..., 0, 1, 0, .., 0)\n",
    "struct OneHot\n",
    "    len::Int\n",
    "    ind::Int\n",
    "end"
   ]
  },
  {
   "cell_type": "code",
   "execution_count": null,
   "metadata": {},
   "outputs": [],
   "source": [
    "?(Float64, )"
   ]
  },
  {
   "cell_type": "code",
   "execution_count": 12,
   "metadata": {},
   "outputs": [
    {
     "data": {
      "text/html": [
       "179-element Vector{Method}:<ul><li> Float16(x::<b>Float64</b>) in Base at <a href=\"https://github.com/JuliaLang/julia/tree/5544a0fab7648cfa61fe79cd557a7504a92ec1b5/base/float.jl#L232\" target=\"_blank\">float.jl:232</a><li> Float32(x::<b>Float64</b>) in Base at <a href=\"https://github.com/JuliaLang/julia/tree/5544a0fab7648cfa61fe79cd557a7504a92ec1b5/base/float.jl#L233\" target=\"_blank\">float.jl:233</a><li> Int64(x::<b>Float64</b>) in Base at <a href=\"https://github.com/JuliaLang/julia/tree/5544a0fab7648cfa61fe79cd557a7504a92ec1b5/base/float.jl#L784\" target=\"_blank\">float.jl:784</a><li> Int128(x::<b>Float64</b>) in Base at <a href=\"https://github.com/JuliaLang/julia/tree/5544a0fab7648cfa61fe79cd557a7504a92ec1b5/base/float.jl#L784\" target=\"_blank\">float.jl:784</a><li> Int16(x::<b>Float64</b>) in Base at <a href=\"https://github.com/JuliaLang/julia/tree/5544a0fab7648cfa61fe79cd557a7504a92ec1b5/base/float.jl#L763\" target=\"_blank\">float.jl:763</a><li> Int32(x::<b>Float64</b>) in Base at <a href=\"https://github.com/JuliaLang/julia/tree/5544a0fab7648cfa61fe79cd557a7504a92ec1b5/base/float.jl#L763\" target=\"_blank\">float.jl:763</a><li> Int8(x::<b>Float64</b>) in Base at <a href=\"https://github.com/JuliaLang/julia/tree/5544a0fab7648cfa61fe79cd557a7504a92ec1b5/base/float.jl#L763\" target=\"_blank\">float.jl:763</a><li> Integer(x::<b>Union{Float16, Float32, Float64}</b>) in Core at <a href=\"file:///Users/crstnbr/.julia/juliaup/julia-1.8.0+0.x64/share/julia/base/boot.jl\" target=\"_blank\">boot.jl:798</a><li> Signed(x::<b>Union{Bool, Float16, Float32, Float64}</b>) in Core at <a href=\"file:///Users/crstnbr/.julia/juliaup/julia-1.8.0+0.x64/share/julia/base/boot.jl\" target=\"_blank\">boot.jl:794</a><li> UInt64(x::<b>Float64</b>) in Base at <a href=\"https://github.com/JuliaLang/julia/tree/5544a0fab7648cfa61fe79cd557a7504a92ec1b5/base/float.jl#L763\" target=\"_blank\">float.jl:763</a><li> UInt128(x::<b>Float64</b>) in Base at <a href=\"https://github.com/JuliaLang/julia/tree/5544a0fab7648cfa61fe79cd557a7504a92ec1b5/base/float.jl#L763\" target=\"_blank\">float.jl:763</a><li> UInt16(x::<b>Float64</b>) in Base at <a href=\"https://github.com/JuliaLang/julia/tree/5544a0fab7648cfa61fe79cd557a7504a92ec1b5/base/float.jl#L763\" target=\"_blank\">float.jl:763</a><li> UInt32(x::<b>Float64</b>) in Base at <a href=\"https://github.com/JuliaLang/julia/tree/5544a0fab7648cfa61fe79cd557a7504a92ec1b5/base/float.jl#L763\" target=\"_blank\">float.jl:763</a><li> UInt8(x::<b>Float64</b>) in Base at <a href=\"https://github.com/JuliaLang/julia/tree/5544a0fab7648cfa61fe79cd557a7504a92ec1b5/base/float.jl#L763\" target=\"_blank\">float.jl:763</a><li> Unsigned(x::<b>Union{Bool, Float16, Float32, Float64}</b>) in Core at <a href=\"file:///Users/crstnbr/.julia/juliaup/julia-1.8.0+0.x64/share/julia/base/boot.jl\" target=\"_blank\">boot.jl:795</a><li> !=(x::<b>T</b>, y::<b>T</b>)<i> where T<:Union{Float16, Float32, Float64}</i> in Base at <a href=\"https://github.com/JuliaLang/julia/tree/5544a0fab7648cfa61fe79cd557a7504a92ec1b5/base/float.jl#L411\" target=\"_blank\">float.jl:411</a><li> rem(x::<b>T</b>, y::<b>T</b>)<i> where T<:Union{Float16, Float32, Float64}</i> in Base at <a href=\"https://github.com/JuliaLang/julia/tree/5544a0fab7648cfa61fe79cd557a7504a92ec1b5/base/float.jl#L394\" target=\"_blank\">float.jl:394</a><li> rem(x::<b>T</b>, p::<b>T</b>, ::<b>RoundingMode{:Nearest}</b>)<i> where T<:Union{Float16, Float32, Float64}</i> in Base.Math at <a href=\"https://github.com/JuliaLang/julia/tree/5544a0fab7648cfa61fe79cd557a7504a92ec1b5/base/math.jl#L946\" target=\"_blank\">math.jl:946</a><li> *(x::<b>T</b>, y::<b>T</b>)<i> where T<:Union{Float16, Float32, Float64}</i> in Base at <a href=\"https://github.com/JuliaLang/julia/tree/5544a0fab7648cfa61fe79cd557a7504a92ec1b5/base/float.jl#L385\" target=\"_blank\">float.jl:385</a><li> *(c::<b>Union{Float16, Float32, Float64}</b>, x::<b>BigFloat</b>) in Base.MPFR at <a href=\"https://github.com/JuliaLang/julia/tree/5544a0fab7648cfa61fe79cd557a7504a92ec1b5/base/mpfr.jl#L414\" target=\"_blank\">mpfr.jl:414</a><li> *(x::<b>BigFloat</b>, c::<b>Union{Float16, Float32, Float64}</b>) in Base.MPFR at <a href=\"https://github.com/JuliaLang/julia/tree/5544a0fab7648cfa61fe79cd557a7504a92ec1b5/base/mpfr.jl#L409\" target=\"_blank\">mpfr.jl:409</a><li> +(x::<b>T</b>, y::<b>T</b>)<i> where T<:Union{Float16, Float32, Float64}</i> in Base at <a href=\"https://github.com/JuliaLang/julia/tree/5544a0fab7648cfa61fe79cd557a7504a92ec1b5/base/float.jl#L383\" target=\"_blank\">float.jl:383</a><li> +(c::<b>Union{Float16, Float32, Float64}</b>, x::<b>BigFloat</b>) in Base.MPFR at <a href=\"https://github.com/JuliaLang/julia/tree/5544a0fab7648cfa61fe79cd557a7504a92ec1b5/base/mpfr.jl#L414\" target=\"_blank\">mpfr.jl:414</a><li> +(x::<b>BigFloat</b>, c::<b>Union{Float16, Float32, Float64}</b>) in Base.MPFR at <a href=\"https://github.com/JuliaLang/julia/tree/5544a0fab7648cfa61fe79cd557a7504a92ec1b5/base/mpfr.jl#L409\" target=\"_blank\">mpfr.jl:409</a><li> -(x::<b>Union{Float16, Float32, Float64}</b>) in Base at <a href=\"https://github.com/JuliaLang/julia/tree/5544a0fab7648cfa61fe79cd557a7504a92ec1b5/base/float.jl#L381\" target=\"_blank\">float.jl:381</a><li> -(x::<b>T</b>, y::<b>T</b>)<i> where T<:Union{Float16, Float32, Float64}</i> in Base at <a href=\"https://github.com/JuliaLang/julia/tree/5544a0fab7648cfa61fe79cd557a7504a92ec1b5/base/float.jl#L384\" target=\"_blank\">float.jl:384</a><li> -(c::<b>Union{Float16, Float32, Float64}</b>, x::<b>BigFloat</b>) in Base.MPFR at <a href=\"https://github.com/JuliaLang/julia/tree/5544a0fab7648cfa61fe79cd557a7504a92ec1b5/base/mpfr.jl#L465\" target=\"_blank\">mpfr.jl:465</a><li> -(x::<b>BigFloat</b>, c::<b>Union{Float16, Float32, Float64}</b>) in Base.MPFR at <a href=\"https://github.com/JuliaLang/julia/tree/5544a0fab7648cfa61fe79cd557a7504a92ec1b5/base/mpfr.jl#L460\" target=\"_blank\">mpfr.jl:460</a><li> /(x::<b>T</b>, y::<b>T</b>)<i> where T<:Union{Float16, Float32, Float64}</i> in Base at <a href=\"https://github.com/JuliaLang/julia/tree/5544a0fab7648cfa61fe79cd557a7504a92ec1b5/base/float.jl#L386\" target=\"_blank\">float.jl:386</a><li> /(c::<b>Union{Float16, Float32, Float64}</b>, x::<b>BigFloat</b>) in Base.MPFR at <a href=\"https://github.com/JuliaLang/julia/tree/5544a0fab7648cfa61fe79cd557a7504a92ec1b5/base/mpfr.jl#L465\" target=\"_blank\">mpfr.jl:465</a><li> /(x::<b>BigFloat</b>, c::<b>Union{Float16, Float32, Float64}</b>) in Base.MPFR at <a href=\"https://github.com/JuliaLang/julia/tree/5544a0fab7648cfa61fe79cd557a7504a92ec1b5/base/mpfr.jl#L460\" target=\"_blank\">mpfr.jl:460</a><li> (::<b>Colon</b>)(start::<b>T</b>, step::<b>T</b>, stop::<b>T</b>)<i> where T<:Union{Float16, Float32, Float64}</i> in Base at <a href=\"https://github.com/JuliaLang/julia/tree/5544a0fab7648cfa61fe79cd557a7504a92ec1b5/base/twiceprecision.jl#L411\" target=\"_blank\">twiceprecision.jl:411</a><li> <(x::<b>T</b>, y::<b>T</b>)<i> where T<:Union{Float16, Float32, Float64}</i> in Base at <a href=\"https://github.com/JuliaLang/julia/tree/5544a0fab7648cfa61fe79cd557a7504a92ec1b5/base/float.jl#L412\" target=\"_blank\">float.jl:412</a><li> <(f::<b>Union{Float16, Float32, Float64}</b>, x::<b>BigInt</b>) in Base.GMP at <a href=\"https://github.com/JuliaLang/julia/tree/5544a0fab7648cfa61fe79cd557a7504a92ec1b5/base/gmp.jl#L701\" target=\"_blank\">gmp.jl:701</a><li> <(x::<b>Union{Float16, Float32, Float64}</b>, y::<b>BigFloat</b>) in Base.MPFR at <a href=\"https://github.com/JuliaLang/julia/tree/5544a0fab7648cfa61fe79cd557a7504a92ec1b5/base/mpfr.jl#L803\" target=\"_blank\">mpfr.jl:803</a><li> <(x::<b>AbstractIrrational</b>, y::<b>Float64</b>) in Base at <a href=\"https://github.com/JuliaLang/julia/tree/5544a0fab7648cfa61fe79cd557a7504a92ec1b5/base/irrationals.jl#L92\" target=\"_blank\">irrationals.jl:92</a><li> <(x::<b>BigFloat</b>, y::<b>Union{Float16, Float32, Float64}</b>) in Base.MPFR at <a href=\"https://github.com/JuliaLang/julia/tree/5544a0fab7648cfa61fe79cd557a7504a92ec1b5/base/mpfr.jl#L802\" target=\"_blank\">mpfr.jl:802</a><li> <(x::<b>BigInt</b>, f::<b>Union{Float16, Float32, Float64}</b>) in Base.GMP at <a href=\"https://github.com/JuliaLang/julia/tree/5544a0fab7648cfa61fe79cd557a7504a92ec1b5/base/gmp.jl#L700\" target=\"_blank\">gmp.jl:700</a><li> <(x::<b>UInt64</b>, y::<b>Float64</b>) in Base at <a href=\"https://github.com/JuliaLang/julia/tree/5544a0fab7648cfa61fe79cd557a7504a92ec1b5/base/float.jl#L452\" target=\"_blank\">float.jl:452</a><li> <(x::<b>Int128</b>, y::<b>Float64</b>) in Base at <a href=\"https://github.com/JuliaLang/julia/tree/5544a0fab7648cfa61fe79cd557a7504a92ec1b5/base/float.jl#L452\" target=\"_blank\">float.jl:452</a><li> <(x::<b>UInt128</b>, y::<b>Float64</b>) in Base at <a href=\"https://github.com/JuliaLang/julia/tree/5544a0fab7648cfa61fe79cd557a7504a92ec1b5/base/float.jl#L452\" target=\"_blank\">float.jl:452</a><li> <(x::<b>Int64</b>, y::<b>Float64</b>) in Base at <a href=\"https://github.com/JuliaLang/julia/tree/5544a0fab7648cfa61fe79cd557a7504a92ec1b5/base/float.jl#L452\" target=\"_blank\">float.jl:452</a><li> <(x::<b>Float64</b>, y::<b>AbstractIrrational</b>) in Base at <a href=\"https://github.com/JuliaLang/julia/tree/5544a0fab7648cfa61fe79cd557a7504a92ec1b5/base/irrationals.jl#L93\" target=\"_blank\">irrationals.jl:93</a><li> <(x::<b>Float64</b>, y::<b>Int64</b>) in Base at <a href=\"https://github.com/JuliaLang/julia/tree/5544a0fab7648cfa61fe79cd557a7504a92ec1b5/base/float.jl#L461\" target=\"_blank\">float.jl:461</a><li> <(x::<b>Float64</b>, y::<b>UInt64</b>) in Base at <a href=\"https://github.com/JuliaLang/julia/tree/5544a0fab7648cfa61fe79cd557a7504a92ec1b5/base/float.jl#L461\" target=\"_blank\">float.jl:461</a><li> <(x::<b>Float64</b>, y::<b>Int128</b>) in Base at <a href=\"https://github.com/JuliaLang/julia/tree/5544a0fab7648cfa61fe79cd557a7504a92ec1b5/base/float.jl#L461\" target=\"_blank\">float.jl:461</a><li> <(x::<b>Float64</b>, y::<b>UInt128</b>) in Base at <a href=\"https://github.com/JuliaLang/julia/tree/5544a0fab7648cfa61fe79cd557a7504a92ec1b5/base/float.jl#L461\" target=\"_blank\">float.jl:461</a><li> <=(x::<b>T</b>, y::<b>T</b>)<i> where T<:Union{Float16, Float32, Float64}</i> in Base at <a href=\"https://github.com/JuliaLang/julia/tree/5544a0fab7648cfa61fe79cd557a7504a92ec1b5/base/float.jl#L413\" target=\"_blank\">float.jl:413</a><li> <=(f::<b>Union{Float16, Float32, Float64}</b>, x::<b>BigInt</b>) in Base.GMP at <a href=\"https://github.com/JuliaLang/julia/tree/5544a0fab7648cfa61fe79cd557a7504a92ec1b5/base/gmp.jl#L695\" target=\"_blank\">gmp.jl:695</a><li> <=(x::<b>Union{Float16, Float32, Float64}</b>, y::<b>BigFloat</b>) in Base.MPFR at <a href=\"https://github.com/JuliaLang/julia/tree/5544a0fab7648cfa61fe79cd557a7504a92ec1b5/base/mpfr.jl#L808\" target=\"_blank\">mpfr.jl:808</a><li> <=(x::<b>BigFloat</b>, y::<b>Union{Float16, Float32, Float64}</b>) in Base.MPFR at <a href=\"https://github.com/JuliaLang/julia/tree/5544a0fab7648cfa61fe79cd557a7504a92ec1b5/base/mpfr.jl#L807\" target=\"_blank\">mpfr.jl:807</a><li> <=(x::<b>UInt64</b>, y::<b>Float64</b>) in Base at <a href=\"https://github.com/JuliaLang/julia/tree/5544a0fab7648cfa61fe79cd557a7504a92ec1b5/base/float.jl#L456\" target=\"_blank\">float.jl:456</a><li> <=(x::<b>BigInt</b>, f::<b>Union{Float16, Float32, Float64}</b>) in Base.GMP at <a href=\"https://github.com/JuliaLang/julia/tree/5544a0fab7648cfa61fe79cd557a7504a92ec1b5/base/gmp.jl#L694\" target=\"_blank\">gmp.jl:694</a><li> <=(x::<b>Int128</b>, y::<b>Float64</b>) in Base at <a href=\"https://github.com/JuliaLang/julia/tree/5544a0fab7648cfa61fe79cd557a7504a92ec1b5/base/float.jl#L456\" target=\"_blank\">float.jl:456</a><li> <=(x::<b>UInt128</b>, y::<b>Float64</b>) in Base at <a href=\"https://github.com/JuliaLang/julia/tree/5544a0fab7648cfa61fe79cd557a7504a92ec1b5/base/float.jl#L456\" target=\"_blank\">float.jl:456</a><li> <=(x::<b>Int64</b>, y::<b>Float64</b>) in Base at <a href=\"https://github.com/JuliaLang/julia/tree/5544a0fab7648cfa61fe79cd557a7504a92ec1b5/base/float.jl#L456\" target=\"_blank\">float.jl:456</a><li> <=(x::<b>Float64</b>, y::<b>Int64</b>) in Base at <a href=\"https://github.com/JuliaLang/julia/tree/5544a0fab7648cfa61fe79cd557a7504a92ec1b5/base/float.jl#L465\" target=\"_blank\">float.jl:465</a><li> <=(x::<b>Float64</b>, y::<b>UInt64</b>) in Base at <a href=\"https://github.com/JuliaLang/julia/tree/5544a0fab7648cfa61fe79cd557a7504a92ec1b5/base/float.jl#L465\" target=\"_blank\">float.jl:465</a><li> <=(x::<b>Float64</b>, y::<b>Int128</b>) in Base at <a href=\"https://github.com/JuliaLang/julia/tree/5544a0fab7648cfa61fe79cd557a7504a92ec1b5/base/float.jl#L465\" target=\"_blank\">float.jl:465</a><li> <=(x::<b>Float64</b>, y::<b>UInt128</b>) in Base at <a href=\"https://github.com/JuliaLang/julia/tree/5544a0fab7648cfa61fe79cd557a7504a92ec1b5/base/float.jl#L465\" target=\"_blank\">float.jl:465</a><li> ==(x::<b>T</b>, y::<b>T</b>)<i> where T<:Union{Float16, Float32, Float64}</i> in Base at <a href=\"https://github.com/JuliaLang/julia/tree/5544a0fab7648cfa61fe79cd557a7504a92ec1b5/base/float.jl#L410\" target=\"_blank\">float.jl:410</a><li> ==(f::<b>Union{Float16, Float32, Float64}</b>, x::<b>BigInt</b>) in Base.GMP at <a href=\"https://github.com/JuliaLang/julia/tree/5544a0fab7648cfa61fe79cd557a7504a92ec1b5/base/gmp.jl#L687\" target=\"_blank\">gmp.jl:687</a><li> ==(x::<b>Union{Float16, Float32, Float64}</b>, y::<b>BigFloat</b>) in Base.MPFR at <a href=\"https://github.com/JuliaLang/julia/tree/5544a0fab7648cfa61fe79cd557a7504a92ec1b5/base/mpfr.jl#L798\" target=\"_blank\">mpfr.jl:798</a><li> ==(y::<b>UInt64</b>, x::<b>Float64</b>) in Base at <a href=\"https://github.com/JuliaLang/julia/tree/5544a0fab7648cfa61fe79cd557a7504a92ec1b5/base/float.jl#L450\" target=\"_blank\">float.jl:450</a><li> ==(x::<b>BigFloat</b>, y::<b>Union{Float16, Float32, Float64}</b>) in Base.MPFR at <a href=\"https://github.com/JuliaLang/julia/tree/5544a0fab7648cfa61fe79cd557a7504a92ec1b5/base/mpfr.jl#L797\" target=\"_blank\">mpfr.jl:797</a><li> ==(x::<b>Float64</b>, y::<b>Int64</b>) in Base at <a href=\"https://github.com/JuliaLang/julia/tree/5544a0fab7648cfa61fe79cd557a7504a92ec1b5/base/float.jl#L446\" target=\"_blank\">float.jl:446</a><li> ==(x::<b>Float64</b>, y::<b>UInt64</b>) in Base at <a href=\"https://github.com/JuliaLang/julia/tree/5544a0fab7648cfa61fe79cd557a7504a92ec1b5/base/float.jl#L446\" target=\"_blank\">float.jl:446</a><li> ==(x::<b>Float64</b>, y::<b>Int128</b>) in Base at <a href=\"https://github.com/JuliaLang/julia/tree/5544a0fab7648cfa61fe79cd557a7504a92ec1b5/base/float.jl#L446\" target=\"_blank\">float.jl:446</a><li> ==(x::<b>Float64</b>, y::<b>UInt128</b>) in Base at <a href=\"https://github.com/JuliaLang/julia/tree/5544a0fab7648cfa61fe79cd557a7504a92ec1b5/base/float.jl#L446\" target=\"_blank\">float.jl:446</a><li> ==(x::<b>BigInt</b>, f::<b>Union{Float16, Float32, Float64}</b>) in Base.GMP at <a href=\"https://github.com/JuliaLang/julia/tree/5544a0fab7648cfa61fe79cd557a7504a92ec1b5/base/gmp.jl#L686\" target=\"_blank\">gmp.jl:686</a><li> ==(y::<b>UInt128</b>, x::<b>Float64</b>) in Base at <a href=\"https://github.com/JuliaLang/julia/tree/5544a0fab7648cfa61fe79cd557a7504a92ec1b5/base/float.jl#L450\" target=\"_blank\">float.jl:450</a><li> ==(y::<b>Int128</b>, x::<b>Float64</b>) in Base at <a href=\"https://github.com/JuliaLang/julia/tree/5544a0fab7648cfa61fe79cd557a7504a92ec1b5/base/float.jl#L450\" target=\"_blank\">float.jl:450</a><li> ==(y::<b>Int64</b>, x::<b>Float64</b>) in Base at <a href=\"https://github.com/JuliaLang/julia/tree/5544a0fab7648cfa61fe79cd557a7504a92ec1b5/base/float.jl#L450\" target=\"_blank\">float.jl:450</a><li> BigFloat(x::<b>Float64</b>) in Base.MPFR at <a href=\"https://github.com/JuliaLang/julia/tree/5544a0fab7648cfa61fe79cd557a7504a92ec1b5/base/mpfr.jl#L211\" target=\"_blank\">mpfr.jl:211</a><li> BigFloat(x::<b>Float64</b>, r::<b>Base.MPFR.MPFRRoundingMode</b>; <i>precision</i>) in Base.MPFR at <a href=\"https://github.com/JuliaLang/julia/tree/5544a0fab7648cfa61fe79cd557a7504a92ec1b5/base/mpfr.jl#L211\" target=\"_blank\">mpfr.jl:211</a><li> BigInt(x::<b>Float64</b>) in Base.GMP at <a href=\"https://github.com/JuliaLang/julia/tree/5544a0fab7648cfa61fe79cd557a7504a92ec1b5/base/gmp.jl#L299\" target=\"_blank\">gmp.jl:299</a><li> Rational(x::<b>Float64</b>) in Base at <a href=\"https://github.com/JuliaLang/julia/tree/5544a0fab7648cfa61fe79cd557a7504a92ec1b5/base/rational.jl#L124\" target=\"_blank\">rational.jl:124</a><li> ^(x::<b>Float64</b>, n::<b>Integer</b>) in Base.Math at <a href=\"https://github.com/JuliaLang/julia/tree/5544a0fab7648cfa61fe79cd557a7504a92ec1b5/base/math.jl#L1035\" target=\"_blank\">math.jl:1035</a><li> ^(x::<b>Float64</b>, y::<b>Float64</b>) in Base.Math at <a href=\"https://github.com/JuliaLang/julia/tree/5544a0fab7648cfa61fe79cd557a7504a92ec1b5/base/math.jl#L998\" target=\"_blank\">math.jl:998</a><li> abs(x::<b>Union{Float16, Float32, Float64}</b>) in Base at <a href=\"https://github.com/JuliaLang/julia/tree/5544a0fab7648cfa61fe79cd557a7504a92ec1b5/base/float.jl#L486\" target=\"_blank\">float.jl:486</a><li> acos(x::<b>T</b>)<i> where T<:Union{Float32, Float64}</i> in Base.Math at <a href=\"https://github.com/JuliaLang/julia/tree/5544a0fab7648cfa61fe79cd557a7504a92ec1b5/base/special/trig.jl#L670\" target=\"_blank\">special/trig.jl:670</a><li> acosh(x::<b>T</b>)<i> where T<:Union{Float32, Float64}</i> in Base.Math at <a href=\"https://github.com/JuliaLang/julia/tree/5544a0fab7648cfa61fe79cd557a7504a92ec1b5/base/special/hyperbolic.jl#L203\" target=\"_blank\">special/hyperbolic.jl:203</a><li> asin(x::<b>T</b>)<i> where T<:Union{Float32, Float64}</i> in Base.Math at <a href=\"https://github.com/JuliaLang/julia/tree/5544a0fab7648cfa61fe79cd557a7504a92ec1b5/base/special/trig.jl#L427\" target=\"_blank\">special/trig.jl:427</a><li> asinh(x::<b>T</b>)<i> where T<:Union{Float32, Float64}</i> in Base.Math at <a href=\"https://github.com/JuliaLang/julia/tree/5544a0fab7648cfa61fe79cd557a7504a92ec1b5/base/special/hyperbolic.jl#L165\" target=\"_blank\">special/hyperbolic.jl:165</a><li> atan(x::<b>T</b>)<i> where T<:Union{Float32, Float64}</i> in Base.Math at <a href=\"https://github.com/JuliaLang/julia/tree/5544a0fab7648cfa61fe79cd557a7504a92ec1b5/base/special/trig.jl#L501\" target=\"_blank\">special/trig.jl:501</a><li> atan(y::<b>T</b>, x::<b>T</b>)<i> where T<:Union{Float32, Float64}</i> in Base.Math at <a href=\"https://github.com/JuliaLang/julia/tree/5544a0fab7648cfa61fe79cd557a7504a92ec1b5/base/special/trig.jl#L565\" target=\"_blank\">special/trig.jl:565</a><li> atanh(x::<b>T</b>)<i> where T<:Union{Float32, Float64}</i> in Base.Math at <a href=\"https://github.com/JuliaLang/julia/tree/5544a0fab7648cfa61fe79cd557a7504a92ec1b5/base/special/hyperbolic.jl#L241\" target=\"_blank\">special/hyperbolic.jl:241</a><li> bswap(x::<b>Union{Float16, Float32, Float64}</b>) in Base at <a href=\"https://github.com/JuliaLang/julia/tree/5544a0fab7648cfa61fe79cd557a7504a92ec1b5/base/float.jl#L955\" target=\"_blank\">float.jl:955</a><li> cbrt(x::<b>Union{Float32, Float64}</b>) in Base.Math at <a href=\"https://github.com/JuliaLang/julia/tree/5544a0fab7648cfa61fe79cd557a7504a92ec1b5/base/special/cbrt.jl#L142\" target=\"_blank\">special/cbrt.jl:142</a><li> cmp(x::<b>Union{Float16, Float32, Float64}</b>, y::<b>BigInt</b>) in Base.GMP at <a href=\"https://github.com/JuliaLang/julia/tree/5544a0fab7648cfa61fe79cd557a7504a92ec1b5/base/gmp.jl#L598\" target=\"_blank\">gmp.jl:598</a><li> cmp(x::<b>Union{Float16, Float32, Float64}</b>, y::<b>BigFloat</b>) in Base.MPFR at <a href=\"https://github.com/JuliaLang/julia/tree/5544a0fab7648cfa61fe79cd557a7504a92ec1b5/base/mpfr.jl#L793\" target=\"_blank\">mpfr.jl:793</a><li> cmp(x::<b>BigInt</b>, y::<b>Union{Float16, Float32, Float64}</b>) in Base.GMP at <a href=\"https://github.com/JuliaLang/julia/tree/5544a0fab7648cfa61fe79cd557a7504a92ec1b5/base/gmp.jl#L597\" target=\"_blank\">gmp.jl:597</a><li> cmp(x::<b>BigFloat</b>, y::<b>Union{Float16, Float32, Float64}</b>) in Base.MPFR at <a href=\"https://github.com/JuliaLang/julia/tree/5544a0fab7648cfa61fe79cd557a7504a92ec1b5/base/mpfr.jl#L788\" target=\"_blank\">mpfr.jl:788</a><li> copysign(x::<b>Signed</b>, y::<b>Float64</b>) in Base at <a href=\"https://github.com/JuliaLang/julia/tree/5544a0fab7648cfa61fe79cd557a7504a92ec1b5/base/int.jl#L153\" target=\"_blank\">int.jl:153</a><li> copysign(x::<b>Float64</b>, y::<b>Float64</b>) in Base at <a href=\"https://github.com/JuliaLang/julia/tree/5544a0fab7648cfa61fe79cd557a7504a92ec1b5/base/floatfuncs.jl#L5\" target=\"_blank\">floatfuncs.jl:5</a><li> copysign(x::<b>Float64</b>, y::<b>Real</b>) in Base at <a href=\"https://github.com/JuliaLang/julia/tree/5544a0fab7648cfa61fe79cd557a7504a92ec1b5/base/floatfuncs.jl#L8\" target=\"_blank\">floatfuncs.jl:8</a><li> cos(x::<b>T</b>)<i> where T<:Union{Float32, Float64}</i> in Base.Math at <a href=\"https://github.com/JuliaLang/julia/tree/5544a0fab7648cfa61fe79cd557a7504a92ec1b5/base/special/trig.jl#L98\" target=\"_blank\">special/trig.jl:98</a><li> cosh(x::<b>T</b>)<i> where T<:Union{Float32, Float64}</i> in Base.Math at <a href=\"https://github.com/JuliaLang/julia/tree/5544a0fab7648cfa61fe79cd557a7504a92ec1b5/base/special/hyperbolic.jl#L103\" target=\"_blank\">special/hyperbolic.jl:103</a><li> div(c::<b>Union{Float16, Float32, Float64}</b>, x::<b>BigFloat</b>) in Base.MPFR at <a href=\"https://github.com/JuliaLang/julia/tree/5544a0fab7648cfa61fe79cd557a7504a92ec1b5/base/mpfr.jl#L539\" target=\"_blank\">mpfr.jl:539</a><li> div(x::<b>BigFloat</b>, c::<b>Union{Float16, Float32, Float64}</b>) in Base.MPFR at <a href=\"https://github.com/JuliaLang/julia/tree/5544a0fab7648cfa61fe79cd557a7504a92ec1b5/base/mpfr.jl#L533\" target=\"_blank\">mpfr.jl:533</a><li> exp(x::<b>Union{Float16, Float32, Float64}</b>) in Base.Math at <a href=\"https://github.com/JuliaLang/julia/tree/5544a0fab7648cfa61fe79cd557a7504a92ec1b5/base/special/exp.jl#L327\" target=\"_blank\">special/exp.jl:327</a><li> exp10(x::<b>Union{Float16, Float32, Float64}</b>) in Base.Math at <a href=\"https://github.com/JuliaLang/julia/tree/5544a0fab7648cfa61fe79cd557a7504a92ec1b5/base/special/exp.jl#L327\" target=\"_blank\">special/exp.jl:327</a><li> exp2(x::<b>Union{Float16, Float32, Float64}</b>) in Base.Math at <a href=\"https://github.com/JuliaLang/julia/tree/5544a0fab7648cfa61fe79cd557a7504a92ec1b5/base/special/exp.jl#L327\" target=\"_blank\">special/exp.jl:327</a><li> expm1(x::<b>Float64</b>) in Base.Math at <a href=\"https://github.com/JuliaLang/julia/tree/5544a0fab7648cfa61fe79cd557a7504a92ec1b5/base/special/exp.jl#L429\" target=\"_blank\">special/exp.jl:429</a><li> exponent(x::<b>T</b>)<i> where T<:Union{Float16, Float32, Float64}</i> in Base.Math at <a href=\"https://github.com/JuliaLang/julia/tree/5544a0fab7648cfa61fe79cd557a7504a92ec1b5/base/math.jl#L843\" target=\"_blank\">math.jl:843</a><li> flipsign(x::<b>Signed</b>, y::<b>Float64</b>) in Base at <a href=\"https://github.com/JuliaLang/julia/tree/5544a0fab7648cfa61fe79cd557a7504a92ec1b5/base/int.jl#L147\" target=\"_blank\">int.jl:147</a><li> flipsign(x::<b>Float64</b>, y::<b>Float64</b>) in Base at <a href=\"https://github.com/JuliaLang/julia/tree/5544a0fab7648cfa61fe79cd557a7504a92ec1b5/base/floatfuncs.jl#L10\" target=\"_blank\">floatfuncs.jl:10</a><li> flipsign(x::<b>Float64</b>, y::<b>Real</b>) in Base at <a href=\"https://github.com/JuliaLang/julia/tree/5544a0fab7648cfa61fe79cd557a7504a92ec1b5/base/floatfuncs.jl#L13\" target=\"_blank\">floatfuncs.jl:13</a><li> fma(x::<b>Float64</b>, y::<b>Float64</b>, z::<b>Float64</b>) in Base at <a href=\"https://github.com/JuliaLang/julia/tree/5544a0fab7648cfa61fe79cd557a7504a92ec1b5/base/floatfuncs.jl#L422\" target=\"_blank\">floatfuncs.jl:422</a><li> frexp(x::<b>T</b>)<i> where T<:Union{Float16, Float32, Float64}</i> in Base.Math at <a href=\"https://github.com/JuliaLang/julia/tree/5544a0fab7648cfa61fe79cd557a7504a92ec1b5/base/math.jl#L920\" target=\"_blank\">math.jl:920</a><li> hash(x::<b>Float64</b>, h::<b>UInt64</b>) in Base at <a href=\"https://github.com/JuliaLang/julia/tree/5544a0fab7648cfa61fe79cd557a7504a92ec1b5/base/float.jl#L514\" target=\"_blank\">float.jl:514</a><li> isequal(x::<b>T</b>, y::<b>T</b>)<i> where T<:Union{Float16, Float32, Float64}</i> in Base at <a href=\"https://github.com/JuliaLang/julia/tree/5544a0fab7648cfa61fe79cd557a7504a92ec1b5/base/float.jl#L415\" target=\"_blank\">float.jl:415</a><li> isless(a::<b>T</b>, b::<b>T</b>)<i> where T<:Union{Float16, Float32, Float64}</i> in Base at <a href=\"https://github.com/JuliaLang/julia/tree/5544a0fab7648cfa61fe79cd557a7504a92ec1b5/base/float.jl#L424\" target=\"_blank\">float.jl:424</a><li> issubnormal(x::<b>T</b>)<i> where T<:Union{Float16, Float32, Float64}</i> in Base at <a href=\"https://github.com/JuliaLang/julia/tree/5544a0fab7648cfa61fe79cd557a7504a92ec1b5/base/float.jl#L801\" target=\"_blank\">float.jl:801</a><li> ldexp(x::<b>T</b>, e::<b>Integer</b>)<i> where T<:Union{Float16, Float32, Float64}</i> in Base.Math at <a href=\"https://github.com/JuliaLang/julia/tree/5544a0fab7648cfa61fe79cd557a7504a92ec1b5/base/math.jl#L783\" target=\"_blank\">math.jl:783</a><li> log(x::<b>Float64</b>) in Base.Math at <a href=\"https://github.com/JuliaLang/julia/tree/5544a0fab7648cfa61fe79cd557a7504a92ec1b5/base/special/log.jl#L267\" target=\"_blank\">special/log.jl:267</a><li> log10(x::<b>Float64</b>) in Base.Math at <a href=\"https://github.com/JuliaLang/julia/tree/5544a0fab7648cfa61fe79cd557a7504a92ec1b5/base/special/log.jl#L268\" target=\"_blank\">special/log.jl:268</a><li> log1p(x::<b>Float64</b>) in Base.Math at <a href=\"https://github.com/JuliaLang/julia/tree/5544a0fab7648cfa61fe79cd557a7504a92ec1b5/base/special/log.jl#L341\" target=\"_blank\">special/log.jl:341</a><li> log2(x::<b>Float64</b>) in Base.Math at <a href=\"https://github.com/JuliaLang/julia/tree/5544a0fab7648cfa61fe79cd557a7504a92ec1b5/base/special/log.jl#L266\" target=\"_blank\">special/log.jl:266</a><li> modf(x::<b>T</b>)<i> where T<:Union{Float16, Float32, Float64}</i> in Base.Math at <a href=\"https://github.com/JuliaLang/julia/tree/5544a0fab7648cfa61fe79cd557a7504a92ec1b5/base/math.jl#L989\" target=\"_blank\">math.jl:989</a><li> muladd(x::<b>T</b>, y::<b>T</b>, z::<b>T</b>)<i> where T<:Union{Float16, Float32, Float64}</i> in Base at <a href=\"https://github.com/JuliaLang/julia/tree/5544a0fab7648cfa61fe79cd557a7504a92ec1b5/base/float.jl#L388\" target=\"_blank\">float.jl:388</a><li> nextfloat(f::<b>Union{Float16, Float32, Float64}</b>, d::<b>Integer</b>) in Base at <a href=\"https://github.com/JuliaLang/julia/tree/5544a0fab7648cfa61fe79cd557a7504a92ec1b5/base/float.jl#L685\" target=\"_blank\">float.jl:685</a><li> reinterpret(::<b>Type{Signed}</b>, x::<b>Float64</b>) in Base at <a href=\"https://github.com/JuliaLang/julia/tree/5544a0fab7648cfa61fe79cd557a7504a92ec1b5/base/float.jl#L82\" target=\"_blank\">float.jl:82</a><li> reinterpret(::<b>Type{Unsigned}</b>, x::<b>Float64</b>) in Base at <a href=\"https://github.com/JuliaLang/julia/tree/5544a0fab7648cfa61fe79cd557a7504a92ec1b5/base/float.jl#L79\" target=\"_blank\">float.jl:79</a><li> rem2pi(x::<b>Float64</b>, ::<b>RoundingMode{:Nearest}</b>) in Base.Math at <a href=\"https://github.com/JuliaLang/julia/tree/5544a0fab7648cfa61fe79cd557a7504a92ec1b5/base/math.jl#L1133\" target=\"_blank\">math.jl:1133</a><li> rem2pi(x::<b>Float64</b>, ::<b>RoundingMode{:ToZero}</b>) in Base.Math at <a href=\"https://github.com/JuliaLang/julia/tree/5544a0fab7648cfa61fe79cd557a7504a92ec1b5/base/math.jl#L1158\" target=\"_blank\">math.jl:1158</a><li> rem2pi(x::<b>Float64</b>, ::<b>RoundingMode{:Down}</b>) in Base.Math at <a href=\"https://github.com/JuliaLang/julia/tree/5544a0fab7648cfa61fe79cd557a7504a92ec1b5/base/math.jl#L1185\" target=\"_blank\">math.jl:1185</a><li> rem2pi(x::<b>Float64</b>, ::<b>RoundingMode{:Up}</b>) in Base.Math at <a href=\"https://github.com/JuliaLang/julia/tree/5544a0fab7648cfa61fe79cd557a7504a92ec1b5/base/math.jl#L1216\" target=\"_blank\">math.jl:1216</a><li> round(x::<b>Union{Float16, Float32, Float64}</b>, r::<b>RoundingMode{:ToZero}</b>) in Base at <a href=\"https://github.com/JuliaLang/julia/tree/5544a0fab7648cfa61fe79cd557a7504a92ec1b5/base/float.jl#L367\" target=\"_blank\">float.jl:367</a><li> round(x::<b>Union{Float16, Float32, Float64}</b>, r::<b>RoundingMode{:Down}</b>) in Base at <a href=\"https://github.com/JuliaLang/julia/tree/5544a0fab7648cfa61fe79cd557a7504a92ec1b5/base/float.jl#L368\" target=\"_blank\">float.jl:368</a><li> round(x::<b>Union{Float16, Float32, Float64}</b>, r::<b>RoundingMode{:Up}</b>) in Base at <a href=\"https://github.com/JuliaLang/julia/tree/5544a0fab7648cfa61fe79cd557a7504a92ec1b5/base/float.jl#L369\" target=\"_blank\">float.jl:369</a><li> round(x::<b>Union{Float16, Float32, Float64}</b>, r::<b>RoundingMode{:Nearest}</b>) in Base at <a href=\"https://github.com/JuliaLang/julia/tree/5544a0fab7648cfa61fe79cd557a7504a92ec1b5/base/float.jl#L370\" target=\"_blank\">float.jl:370</a><li> setindex!(x::<b>Base.Threads.Atomic{Float64}</b>, v::<b>Float64</b>) in Base.Threads at <a href=\"https://github.com/JuliaLang/julia/tree/5544a0fab7648cfa61fe79cd557a7504a92ec1b5/base/atomics.jl#L364\" target=\"_blank\">atomics.jl:364</a><li> show(io::<b>IO</b>, x::<b>T</b>)<i> where T<:Union{Float16, Float32, Float64}</i> in Base.Ryu at <a href=\"https://github.com/JuliaLang/julia/tree/5544a0fab7648cfa61fe79cd557a7504a92ec1b5/base/ryu/Ryu.jl#L111\" target=\"_blank\">ryu/Ryu.jl:111</a><li> show(io::<b>IO</b>, x::<b>T</b>, forceuntyped::<b>Bool</b>)<i> where T<:Union{Float16, Float32, Float64}</i> in Base.Ryu at <a href=\"https://github.com/JuliaLang/julia/tree/5544a0fab7648cfa61fe79cd557a7504a92ec1b5/base/ryu/Ryu.jl#L111\" target=\"_blank\">ryu/Ryu.jl:111</a><li> show(io::<b>IO</b>, x::<b>T</b>, forceuntyped::<b>Bool</b>, fromprint::<b>Bool</b>)<i> where T<:Union{Float16, Float32, Float64}</i> in Base.Ryu at <a href=\"https://github.com/JuliaLang/julia/tree/5544a0fab7648cfa61fe79cd557a7504a92ec1b5/base/ryu/Ryu.jl#L111\" target=\"_blank\">ryu/Ryu.jl:111</a><li> signbit(x::<b>Float64</b>) in Base at <a href=\"https://github.com/JuliaLang/julia/tree/5544a0fab7648cfa61fe79cd557a7504a92ec1b5/base/floatfuncs.jl#L15\" target=\"_blank\">floatfuncs.jl:15</a><li> significand(x::<b>T</b>)<i> where T<:Union{Float16, Float32, Float64}</i> in Base.Math at <a href=\"https://github.com/JuliaLang/julia/tree/5544a0fab7648cfa61fe79cd557a7504a92ec1b5/base/math.jl#L895\" target=\"_blank\">math.jl:895</a><li> sin(x::<b>T</b>)<i> where T<:Union{Float32, Float64}</i> in Base.Math at <a href=\"https://github.com/JuliaLang/julia/tree/5544a0fab7648cfa61fe79cd557a7504a92ec1b5/base/special/trig.jl#L29\" target=\"_blank\">special/trig.jl:29</a><li> sincos(x::<b>T</b>)<i> where T<:Union{Float32, Float64}</i> in Base.Math at <a href=\"https://github.com/JuliaLang/julia/tree/5544a0fab7648cfa61fe79cd557a7504a92ec1b5/base/special/trig.jl#L174\" target=\"_blank\">special/trig.jl:174</a><li> sinh(x::<b>T</b>)<i> where T<:Union{Float32, Float64}</i> in Base.Math at <a href=\"https://github.com/JuliaLang/julia/tree/5544a0fab7648cfa61fe79cd557a7504a92ec1b5/base/special/hyperbolic.jl#L58\" target=\"_blank\">special/hyperbolic.jl:58</a><li> sqrt(x::<b>Union{Float32, Float64}</b>) in Base.Math at <a href=\"https://github.com/JuliaLang/julia/tree/5544a0fab7648cfa61fe79cd557a7504a92ec1b5/base/math.jl#L590\" target=\"_blank\">math.jl:590</a><li> string(x::<b>T</b>)<i> where T<:Union{Float16, Float32, Float64}</i> in Base.Ryu at <a href=\"https://github.com/JuliaLang/julia/tree/5544a0fab7648cfa61fe79cd557a7504a92ec1b5/base/ryu/Ryu.jl#L121\" target=\"_blank\">ryu/Ryu.jl:121</a><li> tan(x::<b>T</b>)<i> where T<:Union{Float32, Float64}</i> in Base.Math at <a href=\"https://github.com/JuliaLang/julia/tree/5544a0fab7648cfa61fe79cd557a7504a92ec1b5/base/special/trig.jl#L215\" target=\"_blank\">special/trig.jl:215</a><li> tanh(x::<b>T</b>)<i> where T<:Union{Float32, Float64}</i> in Base.Math at <a href=\"https://github.com/JuliaLang/julia/tree/5544a0fab7648cfa61fe79cd557a7504a92ec1b5/base/special/hyperbolic.jl#L143\" target=\"_blank\">special/hyperbolic.jl:143</a><li> trunc(::<b>Type{Signed}</b>, x::<b>Union{Float16, Float32, Float64}</b>) in Base at <a href=\"https://github.com/JuliaLang/julia/tree/5544a0fab7648cfa61fe79cd557a7504a92ec1b5/base/float.jl#L352\" target=\"_blank\">float.jl:352</a><li> trunc(::<b>Type{Unsigned}</b>, x::<b>Union{Float16, Float32, Float64}</b>) in Base at <a href=\"https://github.com/JuliaLang/julia/tree/5544a0fab7648cfa61fe79cd557a7504a92ec1b5/base/float.jl#L353\" target=\"_blank\">float.jl:353</a><li> trunc(::<b>Type{Integer}</b>, x::<b>Union{Float16, Float32, Float64}</b>) in Base at <a href=\"https://github.com/JuliaLang/julia/tree/5544a0fab7648cfa61fe79cd557a7504a92ec1b5/base/float.jl#L354\" target=\"_blank\">float.jl:354</a><li> trunc(::<b>Type{UInt64}</b>, x::<b>Float64</b>) in Base at <a href=\"https://github.com/JuliaLang/julia/tree/5544a0fab7648cfa61fe79cd557a7504a92ec1b5/base/float.jl#L756\" target=\"_blank\">float.jl:756</a><li> trunc(::<b>Type{UInt8}</b>, x::<b>Float64</b>) in Base at <a href=\"https://github.com/JuliaLang/julia/tree/5544a0fab7648cfa61fe79cd557a7504a92ec1b5/base/float.jl#L756\" target=\"_blank\">float.jl:756</a><li> trunc(::<b>Type{Int8}</b>, x::<b>Float64</b>) in Base at <a href=\"https://github.com/JuliaLang/julia/tree/5544a0fab7648cfa61fe79cd557a7504a92ec1b5/base/float.jl#L756\" target=\"_blank\">float.jl:756</a><li> trunc(::<b>Type{UInt32}</b>, x::<b>Float64</b>) in Base at <a href=\"https://github.com/JuliaLang/julia/tree/5544a0fab7648cfa61fe79cd557a7504a92ec1b5/base/float.jl#L756\" target=\"_blank\">float.jl:756</a><li> trunc(::<b>Type{Int32}</b>, x::<b>Float64</b>) in Base at <a href=\"https://github.com/JuliaLang/julia/tree/5544a0fab7648cfa61fe79cd557a7504a92ec1b5/base/float.jl#L756\" target=\"_blank\">float.jl:756</a><li> trunc(::<b>Type{BigInt}</b>, x::<b>Union{Float16, Float32, Float64}</b>) in Base.GMP at <a href=\"https://github.com/JuliaLang/julia/tree/5544a0fab7648cfa61fe79cd557a7504a92ec1b5/base/gmp.jl#L304\" target=\"_blank\">gmp.jl:304</a><li> trunc(::<b>Type{Int128}</b>, x::<b>Float64</b>) in Base at <a href=\"https://github.com/JuliaLang/julia/tree/5544a0fab7648cfa61fe79cd557a7504a92ec1b5/base/float.jl#L777\" target=\"_blank\">float.jl:777</a><li> trunc(::<b>Type{UInt128}</b>, x::<b>Float64</b>) in Base at <a href=\"https://github.com/JuliaLang/julia/tree/5544a0fab7648cfa61fe79cd557a7504a92ec1b5/base/float.jl#L756\" target=\"_blank\">float.jl:756</a><li> trunc(::<b>Type{Int64}</b>, x::<b>Float64</b>) in Base at <a href=\"https://github.com/JuliaLang/julia/tree/5544a0fab7648cfa61fe79cd557a7504a92ec1b5/base/float.jl#L777\" target=\"_blank\">float.jl:777</a><li> trunc(::<b>Type{UInt16}</b>, x::<b>Float64</b>) in Base at <a href=\"https://github.com/JuliaLang/julia/tree/5544a0fab7648cfa61fe79cd557a7504a92ec1b5/base/float.jl#L756\" target=\"_blank\">float.jl:756</a><li> trunc(::<b>Type{Int16}</b>, x::<b>Float64</b>) in Base at <a href=\"https://github.com/JuliaLang/julia/tree/5544a0fab7648cfa61fe79cd557a7504a92ec1b5/base/float.jl#L756\" target=\"_blank\">float.jl:756</a><li> unsafe_trunc(::<b>Type{UInt8}</b>, x::<b>Union{Float16, Float32, Float64}</b>) in Base at <a href=\"https://github.com/JuliaLang/julia/tree/5544a0fab7648cfa61fe79cd557a7504a92ec1b5/base/float.jl#L315\" target=\"_blank\">float.jl:315</a><li> unsafe_trunc(::<b>Type{Int8}</b>, x::<b>Union{Float16, Float32, Float64}</b>) in Base at <a href=\"https://github.com/JuliaLang/julia/tree/5544a0fab7648cfa61fe79cd557a7504a92ec1b5/base/float.jl#L310\" target=\"_blank\">float.jl:310</a><li> unsafe_trunc(::<b>Type{UInt32}</b>, x::<b>Union{Float16, Float32, Float64}</b>) in Base at <a href=\"https://github.com/JuliaLang/julia/tree/5544a0fab7648cfa61fe79cd557a7504a92ec1b5/base/float.jl#L315\" target=\"_blank\">float.jl:315</a><li> unsafe_trunc(::<b>Type{UInt64}</b>, x::<b>Union{Float16, Float32, Float64}</b>) in Base at <a href=\"https://github.com/JuliaLang/julia/tree/5544a0fab7648cfa61fe79cd557a7504a92ec1b5/base/float.jl#L315\" target=\"_blank\">float.jl:315</a><li> unsafe_trunc(::<b>Type{Int32}</b>, x::<b>Union{Float16, Float32, Float64}</b>) in Base at <a href=\"https://github.com/JuliaLang/julia/tree/5544a0fab7648cfa61fe79cd557a7504a92ec1b5/base/float.jl#L310\" target=\"_blank\">float.jl:310</a><li> unsafe_trunc(::<b>Type{BigInt}</b>, x::<b>Union{Float16, Float32, Float64}</b>) in Base.GMP at <a href=\"https://github.com/JuliaLang/julia/tree/5544a0fab7648cfa61fe79cd557a7504a92ec1b5/base/gmp.jl#L297\" target=\"_blank\">gmp.jl:297</a><li> unsafe_trunc(::<b>Type{Int128}</b>, x::<b>Float64</b>) in Base at <a href=\"https://github.com/JuliaLang/julia/tree/5544a0fab7648cfa61fe79cd557a7504a92ec1b5/base/float.jl#L329\" target=\"_blank\">float.jl:329</a><li> unsafe_trunc(::<b>Type{UInt128}</b>, x::<b>Float64</b>) in Base at <a href=\"https://github.com/JuliaLang/julia/tree/5544a0fab7648cfa61fe79cd557a7504a92ec1b5/base/float.jl#L319\" target=\"_blank\">float.jl:319</a><li> unsafe_trunc(::<b>Type{Int64}</b>, x::<b>Union{Float16, Float32, Float64}</b>) in Base at <a href=\"https://github.com/JuliaLang/julia/tree/5544a0fab7648cfa61fe79cd557a7504a92ec1b5/base/float.jl#L310\" target=\"_blank\">float.jl:310</a><li> unsafe_trunc(::<b>Type{UInt16}</b>, x::<b>Union{Float16, Float32, Float64}</b>) in Base at <a href=\"https://github.com/JuliaLang/julia/tree/5544a0fab7648cfa61fe79cd557a7504a92ec1b5/base/float.jl#L315\" target=\"_blank\">float.jl:315</a><li> unsafe_trunc(::<b>Type{Int16}</b>, x::<b>Union{Float16, Float32, Float64}</b>) in Base at <a href=\"https://github.com/JuliaLang/julia/tree/5544a0fab7648cfa61fe79cd557a7504a92ec1b5/base/float.jl#L310\" target=\"_blank\">float.jl:310</a><li> write(ctx::<b>MbedTLS.MD</b>, i::<b>Union{Float16, Float32, Float64, Int128, Int16, Int32, Int64, UInt128, UInt16, UInt32, UInt64}</b>) in MbedTLS at <a href=\"file:///Users/crstnbr/.julia/packages/MbedTLS/4i6Lh/src/md.jl\" target=\"_blank\">/Users/crstnbr/.julia/packages/MbedTLS/4i6Lh/src/md.jl:140</a><li> write(s::<b>IO</b>, x::<b>Union{Float16, Float32, Float64, Int128, Int16, Int32, Int64, UInt128, UInt16, UInt32, UInt64}</b>) in Base at <a href=\"https://github.com/JuliaLang/julia/tree/5544a0fab7648cfa61fe79cd557a7504a92ec1b5/base/io.jl#L686\" target=\"_blank\">io.jl:686</a><li> FileWatching.PollingFileWatcher(file::<b>String</b>, interval::<b>Float64</b>) in FileWatching at <a href=\"file:///Users/julia/.julia/scratchspaces/a66863c6-20e8-4ff4-8a62-49f30b1f605e/agent-cache/default-macmini-x64-6.0/build/default-macmini-x64-6-0/julialang/julia-release-1-dot-8/usr/share/julia/stdlib/v1.8/FileWatching/src/FileWatching.jl\" target=\"_blank\">/Users/crstnbr/.julia/juliaup/julia-1.8.0+0.x64/share/julia/stdlib/v1.8/FileWatching/src/FileWatching.jl:133</a><li> FileWatching.PollingFileWatcher(file::<b>AbstractString</b>, interval::<b>Float64</b>) in FileWatching at <a href=\"file:///Users/julia/.julia/scratchspaces/a66863c6-20e8-4ff4-8a62-49f30b1f605e/agent-cache/default-macmini-x64-6.0/build/default-macmini-x64-6-0/julialang/julia-release-1-dot-8/usr/share/julia/stdlib/v1.8/FileWatching/src/FileWatching.jl\" target=\"_blank\">/Users/crstnbr/.julia/juliaup/julia-1.8.0+0.x64/share/julia/stdlib/v1.8/FileWatching/src/FileWatching.jl:132</a><li> watch_file(s::<b>String</b>, timeout_s::<b>Float64</b>) in FileWatching at <a href=\"file:///Users/julia/.julia/scratchspaces/a66863c6-20e8-4ff4-8a62-49f30b1f605e/agent-cache/default-macmini-x64-6.0/build/default-macmini-x64-6-0/julialang/julia-release-1-dot-8/usr/share/julia/stdlib/v1.8/FileWatching/src/FileWatching.jl\" target=\"_blank\">/Users/crstnbr/.julia/juliaup/julia-1.8.0+0.x64/share/julia/stdlib/v1.8/FileWatching/src/FileWatching.jl:739</a><li> serialize(s::<b>Serialization.AbstractSerializer</b>, n::<b>Float64</b>) in Serialization at <a href=\"file:///Users/julia/.julia/scratchspaces/a66863c6-20e8-4ff4-8a62-49f30b1f605e/agent-cache/default-macmini-x64-6.0/build/default-macmini-x64-6-0/julialang/julia-release-1-dot-8/usr/share/julia/stdlib/v1.8/Serialization/src/Serialization.jl\" target=\"_blank\">/Users/crstnbr/.julia/juliaup/julia-1.8.0+0.x64/share/julia/stdlib/v1.8/Serialization/src/Serialization.jl:631</a><li> axpby!(n::<b>Integer</b>, alpha::<b>Float64</b>, dx::<b>Union{Ptr{Float64}, AbstractArray{Float64}}</b>, incx::<b>Integer</b>, beta::<b>Float64</b>, dy::<b>Union{Ptr{Float64}, AbstractArray{Float64}}</b>, incy::<b>Integer</b>) in LinearAlgebra.BLAS at <a href=\"file:///Users/julia/.julia/scratchspaces/a66863c6-20e8-4ff4-8a62-49f30b1f605e/agent-cache/default-macmini-x64-6.0/build/default-macmini-x64-6-0/julialang/julia-release-1-dot-8/usr/share/julia/stdlib/v1.8/LinearAlgebra/src/blas.jl\" target=\"_blank\">/Users/crstnbr/.julia/juliaup/julia-1.8.0+0.x64/share/julia/stdlib/v1.8/LinearAlgebra/src/blas.jl:577</a><li> axpy!(n::<b>Integer</b>, alpha::<b>Float64</b>, dx::<b>Union{Ptr{Float64}, AbstractArray{Float64}}</b>, incx::<b>Integer</b>, dy::<b>Union{Ptr{Float64}, AbstractArray{Float64}}</b>, incy::<b>Integer</b>) in LinearAlgebra.BLAS at <a href=\"file:///Users/julia/.julia/scratchspaces/a66863c6-20e8-4ff4-8a62-49f30b1f605e/agent-cache/default-macmini-x64-6.0/build/default-macmini-x64-6-0/julialang/julia-release-1-dot-8/usr/share/julia/stdlib/v1.8/LinearAlgebra/src/blas.jl\" target=\"_blank\">/Users/crstnbr/.julia/juliaup/julia-1.8.0+0.x64/share/julia/stdlib/v1.8/LinearAlgebra/src/blas.jl:506</a><li> judge(ratio::<b>Real</b>, tolerance::<b>Float64</b>) in BenchmarkTools at <a href=\"file:///Users/crstnbr/.julia/packages/BenchmarkTools/7xSXH/src/trials.jl\" target=\"_blank\">/Users/crstnbr/.julia/packages/BenchmarkTools/7xSXH/src/trials.jl:215</a></ul>"
      ],
      "text/plain": [
       "[1] Float16(x::Float64) in Base at float.jl:232\n",
       "[2] Float32(x::Float64) in Base at float.jl:233\n",
       "[3] Int64(x::Float64) in Base at float.jl:784\n",
       "[4] Int128(x::Float64) in Base at float.jl:784\n",
       "[5] Int16(x::Float64) in Base at float.jl:763\n",
       "[6] Int32(x::Float64) in Base at float.jl:763\n",
       "[7] Int8(x::Float64) in Base at float.jl:763\n",
       "[8] Integer(x::Union{Float16, Float32, Float64}) in Core at boot.jl:798\n",
       "[9] Signed(x::Union{Bool, Float16, Float32, Float64}) in Core at boot.jl:794\n",
       "[10] UInt64(x::Float64) in Base at float.jl:763\n",
       "[11] UInt128(x::Float64) in Base at float.jl:763\n",
       "[12] UInt16(x::Float64) in Base at float.jl:763\n",
       "[13] UInt32(x::Float64) in Base at float.jl:763\n",
       "[14] UInt8(x::Float64) in Base at float.jl:763\n",
       "[15] Unsigned(x::Union{Bool, Float16, Float32, Float64}) in Core at boot.jl:795\n",
       "[16] !=(x::T, y::T) where T<:Union{Float16, Float32, Float64} in Base at float.jl:411\n",
       "[17] rem(x::T, y::T) where T<:Union{Float16, Float32, Float64} in Base at float.jl:394\n",
       "[18] rem(x::T, p::T, ::RoundingMode{:Nearest}) where T<:Union{Float16, Float32, Float64} in Base.Math at math.jl:946\n",
       "[19] *(x::T, y::T) where T<:Union{Float16, Float32, Float64} in Base at float.jl:385\n",
       "[20] *(c::Union{Float16, Float32, Float64}, x::BigFloat) in Base.MPFR at mpfr.jl:414\n",
       "[21] *(x::BigFloat, c::Union{Float16, Float32, Float64}) in Base.MPFR at mpfr.jl:409\n",
       "[22] +(x::T, y::T) where T<:Union{Float16, Float32, Float64} in Base at float.jl:383\n",
       "[23] +(c::Union{Float16, Float32, Float64}, x::BigFloat) in Base.MPFR at mpfr.jl:414\n",
       "[24] +(x::BigFloat, c::Union{Float16, Float32, Float64}) in Base.MPFR at mpfr.jl:409\n",
       "[25] -(x::Union{Float16, Float32, Float64}) in Base at float.jl:381\n",
       "[26] -(x::T, y::T) where T<:Union{Float16, Float32, Float64} in Base at float.jl:384\n",
       "[27] -(c::Union{Float16, Float32, Float64}, x::BigFloat) in Base.MPFR at mpfr.jl:465\n",
       "[28] -(x::BigFloat, c::Union{Float16, Float32, Float64}) in Base.MPFR at mpfr.jl:460\n",
       "[29] /(x::T, y::T) where T<:Union{Float16, Float32, Float64} in Base at float.jl:386\n",
       "[30] /(c::Union{Float16, Float32, Float64}, x::BigFloat) in Base.MPFR at mpfr.jl:465\n",
       "[31] /(x::BigFloat, c::Union{Float16, Float32, Float64}) in Base.MPFR at mpfr.jl:460\n",
       "[32] (::Colon)(start::T, step::T, stop::T) where T<:Union{Float16, Float32, Float64} in Base at twiceprecision.jl:411\n",
       "[33] <(x::T, y::T) where T<:Union{Float16, Float32, Float64} in Base at float.jl:412\n",
       "[34] <(f::Union{Float16, Float32, Float64}, x::BigInt) in Base.GMP at gmp.jl:701\n",
       "[35] <(x::Union{Float16, Float32, Float64}, y::BigFloat) in Base.MPFR at mpfr.jl:803\n",
       "[36] <(x::AbstractIrrational, y::Float64) in Base at irrationals.jl:92\n",
       "[37] <(x::BigFloat, y::Union{Float16, Float32, Float64}) in Base.MPFR at mpfr.jl:802\n",
       "[38] <(x::BigInt, f::Union{Float16, Float32, Float64}) in Base.GMP at gmp.jl:700\n",
       "[39] <(x::UInt64, y::Float64) in Base at float.jl:452\n",
       "[40] <(x::Int128, y::Float64) in Base at float.jl:452\n",
       "[41] <(x::UInt128, y::Float64) in Base at float.jl:452\n",
       "[42] <(x::Int64, y::Float64) in Base at float.jl:452\n",
       "[43] <(x::Float64, y::AbstractIrrational) in Base at irrationals.jl:93\n",
       "[44] <(x::Float64, y::Int64) in Base at float.jl:461\n",
       "[45] <(x::Float64, y::UInt64) in Base at float.jl:461\n",
       "[46] <(x::Float64, y::Int128) in Base at float.jl:461\n",
       "[47] <(x::Float64, y::UInt128) in Base at float.jl:461\n",
       "[48] <=(x::T, y::T) where T<:Union{Float16, Float32, Float64} in Base at float.jl:413\n",
       "[49] <=(f::Union{Float16, Float32, Float64}, x::BigInt) in Base.GMP at gmp.jl:695\n",
       "[50] <=(x::Union{Float16, Float32, Float64}, y::BigFloat) in Base.MPFR at mpfr.jl:808\n",
       "[51] <=(x::BigFloat, y::Union{Float16, Float32, Float64}) in Base.MPFR at mpfr.jl:807\n",
       "[52] <=(x::UInt64, y::Float64) in Base at float.jl:456\n",
       "[53] <=(x::BigInt, f::Union{Float16, Float32, Float64}) in Base.GMP at gmp.jl:694\n",
       "[54] <=(x::Int128, y::Float64) in Base at float.jl:456\n",
       "[55] <=(x::UInt128, y::Float64) in Base at float.jl:456\n",
       "[56] <=(x::Int64, y::Float64) in Base at float.jl:456\n",
       "[57] <=(x::Float64, y::Int64) in Base at float.jl:465\n",
       "[58] <=(x::Float64, y::UInt64) in Base at float.jl:465\n",
       "[59] <=(x::Float64, y::Int128) in Base at float.jl:465\n",
       "[60] <=(x::Float64, y::UInt128) in Base at float.jl:465\n",
       "[61] ==(x::T, y::T) where T<:Union{Float16, Float32, Float64} in Base at float.jl:410\n",
       "[62] ==(f::Union{Float16, Float32, Float64}, x::BigInt) in Base.GMP at gmp.jl:687\n",
       "[63] ==(x::Union{Float16, Float32, Float64}, y::BigFloat) in Base.MPFR at mpfr.jl:798\n",
       "[64] ==(y::UInt64, x::Float64) in Base at float.jl:450\n",
       "[65] ==(x::BigFloat, y::Union{Float16, Float32, Float64}) in Base.MPFR at mpfr.jl:797\n",
       "[66] ==(x::Float64, y::Int64) in Base at float.jl:446\n",
       "[67] ==(x::Float64, y::UInt64) in Base at float.jl:446\n",
       "[68] ==(x::Float64, y::Int128) in Base at float.jl:446\n",
       "[69] ==(x::Float64, y::UInt128) in Base at float.jl:446\n",
       "[70] ==(x::BigInt, f::Union{Float16, Float32, Float64}) in Base.GMP at gmp.jl:686\n",
       "[71] ==(y::UInt128, x::Float64) in Base at float.jl:450\n",
       "[72] ==(y::Int128, x::Float64) in Base at float.jl:450\n",
       "[73] ==(y::Int64, x::Float64) in Base at float.jl:450\n",
       "[74] BigFloat(x::Float64) in Base.MPFR at mpfr.jl:211\n",
       "[75] BigFloat(x::Float64, r::Base.MPFR.MPFRRoundingMode; precision) in Base.MPFR at mpfr.jl:211\n",
       "[76] BigInt(x::Float64) in Base.GMP at gmp.jl:299\n",
       "[77] Rational(x::Float64) in Base at rational.jl:124\n",
       "[78] ^(x::Float64, n::Integer) in Base.Math at math.jl:1035\n",
       "[79] ^(x::Float64, y::Float64) in Base.Math at math.jl:998\n",
       "[80] abs(x::Union{Float16, Float32, Float64}) in Base at float.jl:486\n",
       "[81] acos(x::T) where T<:Union{Float32, Float64} in Base.Math at special/trig.jl:670\n",
       "[82] acosh(x::T) where T<:Union{Float32, Float64} in Base.Math at special/hyperbolic.jl:203\n",
       "[83] asin(x::T) where T<:Union{Float32, Float64} in Base.Math at special/trig.jl:427\n",
       "[84] asinh(x::T) where T<:Union{Float32, Float64} in Base.Math at special/hyperbolic.jl:165\n",
       "[85] atan(x::T) where T<:Union{Float32, Float64} in Base.Math at special/trig.jl:501\n",
       "[86] atan(y::T, x::T) where T<:Union{Float32, Float64} in Base.Math at special/trig.jl:565\n",
       "[87] atanh(x::T) where T<:Union{Float32, Float64} in Base.Math at special/hyperbolic.jl:241\n",
       "[88] bswap(x::Union{Float16, Float32, Float64}) in Base at float.jl:955\n",
       "[89] cbrt(x::Union{Float32, Float64}) in Base.Math at special/cbrt.jl:142\n",
       "[90] cmp(x::Union{Float16, Float32, Float64}, y::BigInt) in Base.GMP at gmp.jl:598\n",
       "[91] cmp(x::Union{Float16, Float32, Float64}, y::BigFloat) in Base.MPFR at mpfr.jl:793\n",
       "[92] cmp(x::BigInt, y::Union{Float16, Float32, Float64}) in Base.GMP at gmp.jl:597\n",
       "[93] cmp(x::BigFloat, y::Union{Float16, Float32, Float64}) in Base.MPFR at mpfr.jl:788\n",
       "[94] copysign(x::Signed, y::Float64) in Base at int.jl:153\n",
       "[95] copysign(x::Float64, y::Float64) in Base at floatfuncs.jl:5\n",
       "[96] copysign(x::Float64, y::Real) in Base at floatfuncs.jl:8\n",
       "[97] cos(x::T) where T<:Union{Float32, Float64} in Base.Math at special/trig.jl:98\n",
       "[98] cosh(x::T) where T<:Union{Float32, Float64} in Base.Math at special/hyperbolic.jl:103\n",
       "[99] div(c::Union{Float16, Float32, Float64}, x::BigFloat) in Base.MPFR at mpfr.jl:539\n",
       "[100] div(x::BigFloat, c::Union{Float16, Float32, Float64}) in Base.MPFR at mpfr.jl:533\n",
       "[101] exp(x::Union{Float16, Float32, Float64}) in Base.Math at special/exp.jl:327\n",
       "[102] exp10(x::Union{Float16, Float32, Float64}) in Base.Math at special/exp.jl:327\n",
       "[103] exp2(x::Union{Float16, Float32, Float64}) in Base.Math at special/exp.jl:327\n",
       "[104] expm1(x::Float64) in Base.Math at special/exp.jl:429\n",
       "[105] exponent(x::T) where T<:Union{Float16, Float32, Float64} in Base.Math at math.jl:843\n",
       "[106] flipsign(x::Signed, y::Float64) in Base at int.jl:147\n",
       "[107] flipsign(x::Float64, y::Float64) in Base at floatfuncs.jl:10\n",
       "[108] flipsign(x::Float64, y::Real) in Base at floatfuncs.jl:13\n",
       "[109] fma(x::Float64, y::Float64, z::Float64) in Base at floatfuncs.jl:422\n",
       "[110] frexp(x::T) where T<:Union{Float16, Float32, Float64} in Base.Math at math.jl:920\n",
       "[111] hash(x::Float64, h::UInt64) in Base at float.jl:514\n",
       "[112] isequal(x::T, y::T) where T<:Union{Float16, Float32, Float64} in Base at float.jl:415\n",
       "[113] isless(a::T, b::T) where T<:Union{Float16, Float32, Float64} in Base at float.jl:424\n",
       "[114] issubnormal(x::T) where T<:Union{Float16, Float32, Float64} in Base at float.jl:801\n",
       "[115] ldexp(x::T, e::Integer) where T<:Union{Float16, Float32, Float64} in Base.Math at math.jl:783\n",
       "[116] log(x::Float64) in Base.Math at special/log.jl:267\n",
       "[117] log10(x::Float64) in Base.Math at special/log.jl:268\n",
       "[118] log1p(x::Float64) in Base.Math at special/log.jl:341\n",
       "[119] log2(x::Float64) in Base.Math at special/log.jl:266\n",
       "[120] modf(x::T) where T<:Union{Float16, Float32, Float64} in Base.Math at math.jl:989\n",
       "[121] muladd(x::T, y::T, z::T) where T<:Union{Float16, Float32, Float64} in Base at float.jl:388\n",
       "[122] nextfloat(f::Union{Float16, Float32, Float64}, d::Integer) in Base at float.jl:685\n",
       "[123] reinterpret(::Type{Signed}, x::Float64) in Base at float.jl:82\n",
       "[124] reinterpret(::Type{Unsigned}, x::Float64) in Base at float.jl:79\n",
       "[125] rem2pi(x::Float64, ::RoundingMode{:Nearest}) in Base.Math at math.jl:1133\n",
       "[126] rem2pi(x::Float64, ::RoundingMode{:ToZero}) in Base.Math at math.jl:1158\n",
       "[127] rem2pi(x::Float64, ::RoundingMode{:Down}) in Base.Math at math.jl:1185\n",
       "[128] rem2pi(x::Float64, ::RoundingMode{:Up}) in Base.Math at math.jl:1216\n",
       "[129] round(x::Union{Float16, Float32, Float64}, r::RoundingMode{:ToZero}) in Base at float.jl:367\n",
       "[130] round(x::Union{Float16, Float32, Float64}, r::RoundingMode{:Down}) in Base at float.jl:368\n",
       "[131] round(x::Union{Float16, Float32, Float64}, r::RoundingMode{:Up}) in Base at float.jl:369\n",
       "[132] round(x::Union{Float16, Float32, Float64}, r::RoundingMode{:Nearest}) in Base at float.jl:370\n",
       "[133] setindex!(x::Base.Threads.Atomic{Float64}, v::Float64) in Base.Threads at atomics.jl:364\n",
       "[134] show(io::IO, x::T) where T<:Union{Float16, Float32, Float64} in Base.Ryu at ryu/Ryu.jl:111\n",
       "[135] show(io::IO, x::T, forceuntyped::Bool) where T<:Union{Float16, Float32, Float64} in Base.Ryu at ryu/Ryu.jl:111\n",
       "[136] show(io::IO, x::T, forceuntyped::Bool, fromprint::Bool) where T<:Union{Float16, Float32, Float64} in Base.Ryu at ryu/Ryu.jl:111\n",
       "[137] signbit(x::Float64) in Base at floatfuncs.jl:15\n",
       "[138] significand(x::T) where T<:Union{Float16, Float32, Float64} in Base.Math at math.jl:895\n",
       "[139] sin(x::T) where T<:Union{Float32, Float64} in Base.Math at special/trig.jl:29\n",
       "[140] sincos(x::T) where T<:Union{Float32, Float64} in Base.Math at special/trig.jl:174\n",
       "[141] sinh(x::T) where T<:Union{Float32, Float64} in Base.Math at special/hyperbolic.jl:58\n",
       "[142] sqrt(x::Union{Float32, Float64}) in Base.Math at math.jl:590\n",
       "[143] string(x::T) where T<:Union{Float16, Float32, Float64} in Base.Ryu at ryu/Ryu.jl:121\n",
       "[144] tan(x::T) where T<:Union{Float32, Float64} in Base.Math at special/trig.jl:215\n",
       "[145] tanh(x::T) where T<:Union{Float32, Float64} in Base.Math at special/hyperbolic.jl:143\n",
       "[146] trunc(::Type{Signed}, x::Union{Float16, Float32, Float64}) in Base at float.jl:352\n",
       "[147] trunc(::Type{Unsigned}, x::Union{Float16, Float32, Float64}) in Base at float.jl:353\n",
       "[148] trunc(::Type{Integer}, x::Union{Float16, Float32, Float64}) in Base at float.jl:354\n",
       "[149] trunc(::Type{UInt64}, x::Float64) in Base at float.jl:756\n",
       "[150] trunc(::Type{UInt8}, x::Float64) in Base at float.jl:756\n",
       "[151] trunc(::Type{Int8}, x::Float64) in Base at float.jl:756\n",
       "[152] trunc(::Type{UInt32}, x::Float64) in Base at float.jl:756\n",
       "[153] trunc(::Type{Int32}, x::Float64) in Base at float.jl:756\n",
       "[154] trunc(::Type{BigInt}, x::Union{Float16, Float32, Float64}) in Base.GMP at gmp.jl:304\n",
       "[155] trunc(::Type{Int128}, x::Float64) in Base at float.jl:777\n",
       "[156] trunc(::Type{UInt128}, x::Float64) in Base at float.jl:756\n",
       "[157] trunc(::Type{Int64}, x::Float64) in Base at float.jl:777\n",
       "[158] trunc(::Type{UInt16}, x::Float64) in Base at float.jl:756\n",
       "[159] trunc(::Type{Int16}, x::Float64) in Base at float.jl:756\n",
       "[160] unsafe_trunc(::Type{UInt8}, x::Union{Float16, Float32, Float64}) in Base at float.jl:315\n",
       "[161] unsafe_trunc(::Type{Int8}, x::Union{Float16, Float32, Float64}) in Base at float.jl:310\n",
       "[162] unsafe_trunc(::Type{UInt32}, x::Union{Float16, Float32, Float64}) in Base at float.jl:315\n",
       "[163] unsafe_trunc(::Type{UInt64}, x::Union{Float16, Float32, Float64}) in Base at float.jl:315\n",
       "[164] unsafe_trunc(::Type{Int32}, x::Union{Float16, Float32, Float64}) in Base at float.jl:310\n",
       "[165] unsafe_trunc(::Type{BigInt}, x::Union{Float16, Float32, Float64}) in Base.GMP at gmp.jl:297\n",
       "[166] unsafe_trunc(::Type{Int128}, x::Float64) in Base at float.jl:329\n",
       "[167] unsafe_trunc(::Type{UInt128}, x::Float64) in Base at float.jl:319\n",
       "[168] unsafe_trunc(::Type{Int64}, x::Union{Float16, Float32, Float64}) in Base at float.jl:310\n",
       "[169] unsafe_trunc(::Type{UInt16}, x::Union{Float16, Float32, Float64}) in Base at float.jl:315\n",
       "[170] unsafe_trunc(::Type{Int16}, x::Union{Float16, Float32, Float64}) in Base at float.jl:310\n",
       "[171] write(ctx::MbedTLS.MD, i::Union{Float16, Float32, Float64, Int128, Int16, Int32, Int64, UInt128, UInt16, UInt32, UInt64}) in MbedTLS at /Users/crstnbr/.julia/packages/MbedTLS/4i6Lh/src/md.jl:140\n",
       "[172] write(s::IO, x::Union{Float16, Float32, Float64, Int128, Int16, Int32, Int64, UInt128, UInt16, UInt32, UInt64}) in Base at io.jl:686\n",
       "[173] FileWatching.PollingFileWatcher(file::String, interval::Float64) in FileWatching at /Users/crstnbr/.julia/juliaup/julia-1.8.0+0.x64/share/julia/stdlib/v1.8/FileWatching/src/FileWatching.jl:133\n",
       "[174] FileWatching.PollingFileWatcher(file::AbstractString, interval::Float64) in FileWatching at /Users/crstnbr/.julia/juliaup/julia-1.8.0+0.x64/share/julia/stdlib/v1.8/FileWatching/src/FileWatching.jl:132\n",
       "[175] watch_file(s::String, timeout_s::Float64) in FileWatching at /Users/crstnbr/.julia/juliaup/julia-1.8.0+0.x64/share/julia/stdlib/v1.8/FileWatching/src/FileWatching.jl:739\n",
       "[176] serialize(s::Serialization.AbstractSerializer, n::Float64) in Serialization at /Users/crstnbr/.julia/juliaup/julia-1.8.0+0.x64/share/julia/stdlib/v1.8/Serialization/src/Serialization.jl:631\n",
       "[177] axpby!(n::Integer, alpha::Float64, dx::Union{Ptr{Float64}, AbstractArray{Float64}}, incx::Integer, beta::Float64, dy::Union{Ptr{Float64}, AbstractArray{Float64}}, incy::Integer) in LinearAlgebra.BLAS at /Users/crstnbr/.julia/juliaup/julia-1.8.0+0.x64/share/julia/stdlib/v1.8/LinearAlgebra/src/blas.jl:577\n",
       "[178] axpy!(n::Integer, alpha::Float64, dx::Union{Ptr{Float64}, AbstractArray{Float64}}, incx::Integer, dy::Union{Ptr{Float64}, AbstractArray{Float64}}, incy::Integer) in LinearAlgebra.BLAS at /Users/crstnbr/.julia/juliaup/julia-1.8.0+0.x64/share/julia/stdlib/v1.8/LinearAlgebra/src/blas.jl:506\n",
       "[179] judge(ratio::Real, tolerance::Float64) in BenchmarkTools at /Users/crstnbr/.julia/packages/BenchmarkTools/7xSXH/src/trials.jl:215"
      ]
     },
     "execution_count": 12,
     "metadata": {},
     "output_type": "execute_result"
    }
   ],
   "source": [
    "methodswith(Float64)"
   ]
  },
  {
   "cell_type": "code",
   "execution_count": null,
   "metadata": {},
   "outputs": [],
   "source": [
    "f(x,y) = x + y\n",
    "\n",
    "a f y"
   ]
  },
  {
   "cell_type": "code",
   "execution_count": 11,
   "metadata": {},
   "outputs": [
    {
     "data": {
      "text/plain": [
       "Symbol"
      ]
     },
     "execution_count": 11,
     "metadata": {},
     "output_type": "execute_result"
    }
   ],
   "source": [
    "typeof(:*)"
   ]
  },
  {
   "cell_type": "code",
   "execution_count": null,
   "metadata": {},
   "outputs": [],
   "source": [
    "Base.:*(A, v)"
   ]
  },
  {
   "cell_type": "code",
   "execution_count": 6,
   "metadata": {},
   "outputs": [
    {
     "data": {
      "text/plain": [
       "* (generic function with 324 methods)"
      ]
     },
     "execution_count": 6,
     "metadata": {},
     "output_type": "execute_result"
    }
   ],
   "source": [
    "# 3.\n",
    "import Base: *, getindex, length\n",
    "\n",
    "length(v::OneHot) = v.len\n",
    "getindex(v::OneHot, i::Int) = i == v.ind\n",
    "*(A::AbstractMatrix, v::OneHot) = A[:, v.ind]"
   ]
  },
  {
   "cell_type": "code",
   "execution_count": 7,
   "metadata": {},
   "outputs": [
    {
     "name": "stdout",
     "output_type": "stream",
     "text": [
      "  660.665 ns (10 allocations: 800 bytes)\n",
      "  1.187 μs (10 allocations: 800 bytes)\n"
     ]
    }
   ],
   "source": [
    "# 4.\n",
    "using BenchmarkTools\n",
    "A = rand(3,3)\n",
    "vs = [OneHot(3, rand(1:3)) for _ in 1:10]\n",
    "vs_float64 = [rand(3) for _ in 1:10]\n",
    "\n",
    "@btime innersum($A, $vs);\n",
    "@btime innersum($A, $vs_float64);"
   ]
  },
  {
   "cell_type": "markdown",
   "metadata": {},
   "source": [
    " I see a good speed up!"
   ]
  },
  {
   "cell_type": "code",
   "execution_count": 8,
   "metadata": {},
   "outputs": [],
   "source": [
    "# 5.\n",
    "struct OneHotVector <: AbstractVector{Bool}\n",
    "    len::Int\n",
    "    ind::Int\n",
    "end\n",
    "\n",
    "Base.size(v::OneHotVector) = (v.len,)\n",
    "Base.getindex(v::OneHotVector, i::Integer) = i == v.ind"
   ]
  },
  {
   "cell_type": "code",
   "execution_count": 9,
   "metadata": {},
   "outputs": [
    {
     "data": {
      "text/plain": [
       "4-element OneHotVector:\n",
       " 0\n",
       " 1\n",
       " 0\n",
       " 0"
      ]
     },
     "execution_count": 9,
     "metadata": {},
     "output_type": "execute_result"
    }
   ],
   "source": [
    "# 6.\n",
    "\n",
    "# Automatically, we get a nice visualization\n",
    "OneHotVector(4, 2)"
   ]
  },
  {
   "cell_type": "code",
   "execution_count": 10,
   "metadata": {},
   "outputs": [
    {
     "data": {
      "text/plain": [
       "2.1279948275227936"
      ]
     },
     "execution_count": 10,
     "metadata": {},
     "output_type": "execute_result"
    }
   ],
   "source": [
    "# Also, innersum just works.\n",
    "A = rand(3,3)\n",
    "vs = [OneHotVector(3, rand(1:3)) for _ in 1:10]\n",
    "\n",
    "innersum(A, vs)"
   ]
  },
  {
   "cell_type": "markdown",
   "metadata": {},
   "source": [
    "Extra:"
   ]
  },
  {
   "cell_type": "code",
   "execution_count": 9,
   "metadata": {},
   "outputs": [
    {
     "name": "stdout",
     "output_type": "stream",
     "text": [
      "  335.023 ns (10 allocations: 800 bytes)\n"
     ]
    }
   ],
   "source": [
    "vs_onehot = [OneHotVector(3, rand(1:3)) for _ in 1:10]\n",
    "@btime innersum($A, $vs_onehot);"
   ]
  },
  {
   "cell_type": "code",
   "execution_count": 11,
   "metadata": {},
   "outputs": [
    {
     "name": "stdout",
     "output_type": "stream",
     "text": [
      "  243.441 ns (10 allocations: 800 bytes)\n"
     ]
    }
   ],
   "source": [
    "*(A::AbstractMatrix, v::OneHotVector) = A[:, v.ind]\n",
    "@btime innersum($A, $vs_onehot);"
   ]
  }
 ],
 "metadata": {
  "@webio": {
   "lastCommId": null,
   "lastKernelId": null
  },
  "kernelspec": {
   "display_name": "Julia 1.8.0",
   "language": "julia",
   "name": "julia-1.8"
  },
  "language_info": {
   "file_extension": ".jl",
   "mimetype": "application/julia",
   "name": "julia",
   "version": "1.8.0"
  }
 },
 "nbformat": 4,
 "nbformat_minor": 4
}
