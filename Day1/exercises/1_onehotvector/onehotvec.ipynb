{
 "cells": [
  {
   "cell_type": "markdown",
   "metadata": {},
   "source": [
    "# Exercise: One-Hot Vector\n",
    "\n",
    "[One-hot encoding](https://en.wikipedia.org/wiki/One-hot): Among a group of bits (all either `0` or `1`) only one is hot (`1`) while all others are cold (`0`).\n",
    "\n",
    "Example: `v = [0, 0, 0, 0, 0, 1, 0, 0, 0]`\n",
    "\n",
    "One-hot encoding has applications in machine learning, specifically in classification tasks where there is a finite set of categories (think of [MNIST](https://en.wikipedia.org/wiki/MNIST_database) where images can show numbers from 0 to 9)."
   ]
  },
  {
   "cell_type": "markdown",
   "metadata": {},
   "source": [
    "### Task\n",
    "\n",
    "1. Think about what information an implementation of a one-hot vector actually has to store.\n",
    "2. Using `struct`, define a `OneHot` type which represents a vector with only a single hot (i.e. `== 1`) bit.\n",
    "3. Extend all the necessary `Base` functions such that the following computation works for a matrix `A` and a vector of `OneHot` vectors `vs` (i.e. `vs isa Vector{OneHot}`).\n",
    "\n",
    "    ```julia\n",
    "    function innersum(A, vs)\n",
    "        t = zero(eltype(A))\n",
    "        for v in vs\n",
    "            y = A*v\n",
    "            for i in 1:length(vs[1])\n",
    "                t += v[i] * y[i]\n",
    "            end\n",
    "        end\n",
    "        return t\n",
    "    end\n",
    "\n",
    "    A = rand(3,3)\n",
    "    vs = [rand(3) for i in 1:10] # This should be replaced by a `Vector{OneHot}`\n",
    "\n",
    "    innersum(A, vs)\n",
    "\n",
    "    ```\n",
    "\n",
    "4. Benchmark the speed of `innersum` when called with a vector of `OneHot` vectors (i.e. `vs = [OneHot(3, rand(1:3)) for i in 1:10]`) and when called with a vector of `Vector{Float64}` vectors, respectively.\n",
    "    - What do you observe?\n",
    "\n",
    "\n",
    "5. Now, define a `OneHotVector` type which is identical to `OneHot` but is declared to be a subtype of `AbstractVector{Bool}` and extend only the functions `Base.getindex(v::OneHotVector, i::Int)` and `Base.size(v::OneHotVector)`.\n",
    "    - Here, the function `size` should return a `Tuple{Int64}` indicating the length of the vector, i.e. `(3,)` for a one-hot vector of length 3.\n",
    " \n",
    "\n",
    "6. Try to create a single `OneHotVector` and try to run the `innersum` function using the new `OneHotVector` type.\n",
    "    - What changes do you observe?\n",
    "    - Do you have to implement any further methods?"
   ]
  },
  {
   "cell_type": "code",
   "execution_count": 1,
   "metadata": {},
   "outputs": [
    {
     "data": {
      "text/plain": [
       "innersum (generic function with 1 method)"
      ]
     },
     "execution_count": 1,
     "metadata": {},
     "output_type": "execute_result"
    }
   ],
   "source": [
    "function innersum(A, vs)\n",
    "     t = zero(eltype(A))\n",
    "     for v in vs\n",
    "         y = A*v\n",
    "         for i in 1:length(vs[1])\n",
    "             t += v[i] * y[i]\n",
    "         end\n",
    "     end\n",
    "     return t\n",
    " end"
   ]
  },
  {
   "cell_type": "markdown",
   "metadata": {},
   "source": [
    "### Your solution:"
   ]
  },
  {
   "cell_type": "code",
   "execution_count": 1,
   "metadata": {},
   "outputs": [],
   "source": [
    "#..."
   ]
  },
  {
   "cell_type": "code",
   "execution_count": null,
   "metadata": {},
   "outputs": [],
   "source": []
  }
 ],
 "metadata": {
  "@webio": {
   "lastCommId": null,
   "lastKernelId": null
  },
  "kernelspec": {
   "display_name": "Julia 1.8.0",
   "language": "julia",
   "name": "julia-1.8"
  },
  "language_info": {
   "file_extension": ".jl",
   "mimetype": "application/julia",
   "name": "julia",
   "version": "1.8.0"
  }
 },
 "nbformat": 4,
 "nbformat_minor": 4
}
