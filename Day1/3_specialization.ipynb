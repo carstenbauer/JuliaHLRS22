{
 "cells": [
  {
   "cell_type": "markdown",
   "id": "42d3d18f",
   "metadata": {},
   "source": [
    "# Code Specialization\n",
    "\n",
    "To be fast, Julia needs to **specialize** code, that is compile specific native versions of the code. **The better the specialization the faster the code!** In the following we will investigate how Julia achieves good code specialization while retaining the power of generic programming."
   ]
  },
  {
   "cell_type": "markdown",
   "id": "6add0fc5",
   "metadata": {},
   "source": [
    "## Just Ahead of Time (JAOT) Compilation\n",
    "\n",
    "<p><img src=\"../imgs/from_source_to_native.png\" alt=\"drawing\" width=\"800\"/></p>\n",
    " \n",
    "\n",
    "**AST = Abstract Syntax Tree**\n",
    "\n",
    "**IR = Intermediate Representation**\n",
    "\n",
    "**SSA = Static Single Assignment**\n",
    "\n",
    "**[LLVM](https://de.wikipedia.org/wiki/LLVM) = Low Level Virtual Machine**\n",
    "\n",
    "## Specialization\n",
    "\n",
    "**Julia specializes on the types of function arguments**, i.e. Julia compiles efficient machine code for the given input types, **when a function is called for the first time**.\n",
    "\n",
    "If it is called again, the already existing machine code is reused, until we call the function with different input types.\n"
   ]
  },
  {
   "cell_type": "code",
   "execution_count": 1,
   "id": "fc2352e8",
   "metadata": {},
   "outputs": [
    {
     "data": {
      "text/plain": [
       "func (generic function with 1 method)"
      ]
     },
     "execution_count": 1,
     "metadata": {},
     "output_type": "execute_result"
    }
   ],
   "source": [
    "func(x,y) = 2x + y"
   ]
  },
  {
   "cell_type": "code",
   "execution_count": 2,
   "id": "5fa5f7c9",
   "metadata": {},
   "outputs": [
    {
     "name": "stdout",
     "output_type": "stream",
     "text": [
      "  0.185945 seconds (496.05 k allocations: 25.883 MiB, 5.20% gc time, 99.99% compilation time)\n",
      "  0.000006 seconds (2 allocations: 160 bytes)\n"
     ]
    }
   ],
   "source": [
    "x = [1.2, 3.4, 5.6] # Vector{Float64}\n",
    "y = [0.4, 0.7, 0.9] # Vector{Float64}\n",
    "\n",
    "@time func(x,y);\n",
    "@time func(x,y);"
   ]
  },
  {
   "cell_type": "markdown",
   "id": "b4a475ea",
   "metadata": {},
   "source": [
    "**First call:** compilation + running the code\n",
    "\n",
    "**Second call:** running the code\n"
   ]
  },
  {
   "cell_type": "code",
   "execution_count": 3,
   "id": "44115394",
   "metadata": {},
   "outputs": [
    {
     "name": "stdout",
     "output_type": "stream",
     "text": [
      "  0.000007 seconds (2 allocations: 160 bytes)\n"
     ]
    }
   ],
   "source": [
    "@time func(x,y);"
   ]
  },
  {
   "cell_type": "markdown",
   "id": "f74b788e",
   "metadata": {},
   "source": [
    "If one of the input types changes, Julia compiles a new specialization of the function!\n"
   ]
  },
  {
   "cell_type": "code",
   "execution_count": 4,
   "id": "21df8af7",
   "metadata": {},
   "outputs": [
    {
     "data": {
      "text/plain": [
       "Vector{Float64}\u001b[90m (alias for \u001b[39m\u001b[90mArray{Float64, 1}\u001b[39m\u001b[90m)\u001b[39m"
      ]
     },
     "execution_count": 4,
     "metadata": {},
     "output_type": "execute_result"
    }
   ],
   "source": [
    "typeof(x)"
   ]
  },
  {
   "cell_type": "code",
   "execution_count": 5,
   "id": "4add9224",
   "metadata": {},
   "outputs": [
    {
     "data": {
      "text/plain": [
       "3-element Vector{Int64}:\n",
       " 1\n",
       " 3\n",
       " 5"
      ]
     },
     "execution_count": 5,
     "metadata": {},
     "output_type": "execute_result"
    }
   ],
   "source": [
    "x = [1, 3, 5]"
   ]
  },
  {
   "cell_type": "code",
   "execution_count": 6,
   "id": "0eb28c62",
   "metadata": {},
   "outputs": [
    {
     "data": {
      "text/plain": [
       "Vector{Int64}\u001b[90m (alias for \u001b[39m\u001b[90mArray{Int64, 1}\u001b[39m\u001b[90m)\u001b[39m"
      ]
     },
     "execution_count": 6,
     "metadata": {},
     "output_type": "execute_result"
    }
   ],
   "source": [
    "typeof(x)"
   ]
  },
  {
   "cell_type": "code",
   "execution_count": 7,
   "id": "49854ab2",
   "metadata": {},
   "outputs": [
    {
     "name": "stdout",
     "output_type": "stream",
     "text": [
      "  0.166157 seconds (415.98 k allocations: 21.285 MiB, 99.98% compilation time)\n",
      "  0.000008 seconds (2 allocations: 160 bytes)\n"
     ]
    }
   ],
   "source": [
    "@time func(x,y); # Vector{Int64}, Vector{Float64}\n",
    "@time func(x,y);"
   ]
  },
  {
   "cell_type": "markdown",
   "id": "b5c9af6e-a348-4871-aa89-53f310098baa",
   "metadata": {},
   "source": [
    "We now have two efficient native codes in the cache: one for all `Vector{Float64}` inputs and another one for `Vector{Int64}` as the first and `Vector{Float64}` as the second argument type."
   ]
  },
  {
   "cell_type": "code",
   "execution_count": 8,
   "id": "ee58ca00-ff3b-42fa-a34a-5500f0202c91",
   "metadata": {},
   "outputs": [],
   "source": [
    "using MethodAnalysis"
   ]
  },
  {
   "cell_type": "code",
   "execution_count": 9,
   "id": "37b8c246-cad7-4155-8fc5-899862be6cee",
   "metadata": {},
   "outputs": [
    {
     "data": {
      "text/html": [
       "# 1 method for generic function <b>func</b>:<ul><li> func(x, y) in Main at In[1]:1</li> </ul>"
      ],
      "text/plain": [
       "# 1 method for generic function \"func\":\n",
       "[1] func(x, y) in Main at In[1]:1"
      ]
     },
     "execution_count": 9,
     "metadata": {},
     "output_type": "execute_result"
    }
   ],
   "source": [
    "methods(func)"
   ]
  },
  {
   "cell_type": "code",
   "execution_count": 10,
   "id": "a8254a81-c2a3-4773-9c4f-7ed7ef160dee",
   "metadata": {},
   "outputs": [
    {
     "data": {
      "text/plain": [
       "2-element Vector{Core.MethodInstance}:\n",
       " MethodInstance for func(::Vector{Float64}, ::Vector{Float64})\n",
       " MethodInstance for func(::Vector{Int64}, ::Vector{Float64})"
      ]
     },
     "execution_count": 10,
     "metadata": {},
     "output_type": "execute_result"
    }
   ],
   "source": [
    "methodinstances(func)"
   ]
  },
  {
   "cell_type": "markdown",
   "id": "75b6c894-0b8b-4457-aa21-c82389fa7671",
   "metadata": {},
   "source": [
    "## Introspection\n",
    "#### (*But I really want to see what happens!*)\n",
    "\n",
    "We can inspect the code at all transformation stages with a bunch of macros:\n",
    "\n",
    "<img src=\"../imgs/julia_introspection_macros.png\" width=350px>"
   ]
  },
  {
   "cell_type": "code",
   "execution_count": 11,
   "id": "37142078-1109-43d0-ab3b-a6af1f69bc91",
   "metadata": {},
   "outputs": [
    {
     "data": {
      "text/plain": [
       "quote\n",
       "    \u001b[90m#= timing.jl:253 =#\u001b[39m\n",
       "    begin\n",
       "        \u001b[90m#= timing.jl:258 =#\u001b[39m\n",
       "        $(Expr(:meta, :force_compile))\n",
       "        \u001b[90m#= timing.jl:259 =#\u001b[39m\n",
       "        local var\"#101#stats\" = Base.gc_num()\n",
       "        \u001b[90m#= timing.jl:260 =#\u001b[39m\n",
       "        local var\"#103#elapsedtime\" = Base.time_ns()\n",
       "        \u001b[90m#= timing.jl:261 =#\u001b[39m\n",
       "        Base.cumulative_compile_timing(true)\n",
       "        \u001b[90m#= timing.jl:262 =#\u001b[39m\n",
       "        local var\"#104#compile_elapsedtimes\" = Base.cumulative_compile_time_ns()\n",
       "        \u001b[90m#= timing.jl:263 =#\u001b[39m\n",
       "        local var\"#102#val\" = $(Expr(:tryfinally, :(3 + 3), quote\n",
       "    var\"#103#elapsedtime\" = Base.time_ns() - var\"#103#elapsedtime\"\n",
       "    \u001b[90m#= timing.jl:265 =#\u001b[39m\n",
       "    Base.cumulative_compile_timing(false)\n",
       "    \u001b[90m#= timing.jl:266 =#\u001b[39m\n",
       "    var\"#104#compile_elapsedtimes\" = Base.cumulative_compile_time_ns() .- var\"#104#compile_elapsedtimes\"\n",
       "end))\n",
       "        \u001b[90m#= timing.jl:268 =#\u001b[39m\n",
       "        local var\"#105#diff\" = Base.GC_Diff(Base.gc_num(), var\"#101#stats\")\n",
       "        \u001b[90m#= timing.jl:269 =#\u001b[39m\n",
       "        local var\"#106#_msg\" = Base.nothing\n",
       "        \u001b[90m#= timing.jl:270 =#\u001b[39m\n",
       "        local var\"#107#has_msg\" = !(Base.isnothing(var\"#106#_msg\"))\n",
       "        \u001b[90m#= timing.jl:271 =#\u001b[39m\n",
       "        var\"#107#has_msg\" && Base.print(var\"#106#_msg\", \": \")\n",
       "        \u001b[90m#= timing.jl:272 =#\u001b[39m\n",
       "        Base.time_print(var\"#103#elapsedtime\", (var\"#105#diff\").allocd, (var\"#105#diff\").total_time, Base.gc_alloc_count(var\"#105#diff\"), Base.first(var\"#104#compile_elapsedtimes\"), Base.last(var\"#104#compile_elapsedtimes\"), true, !var\"#107#has_msg\")\n",
       "        \u001b[90m#= timing.jl:273 =#\u001b[39m\n",
       "        var\"#102#val\"\n",
       "    end\n",
       "end"
      ]
     },
     "execution_count": 11,
     "metadata": {},
     "output_type": "execute_result"
    }
   ],
   "source": [
    "@macroexpand @time 3+3"
   ]
  },
  {
   "cell_type": "code",
   "execution_count": 46,
   "id": "248008eb",
   "metadata": {},
   "outputs": [
    {
     "data": {
      "text/plain": [
       "CodeInfo(\n",
       "\u001b[90m1 ─\u001b[39m %1 = 2 * x\n",
       "\u001b[90m│  \u001b[39m %2 = %1 + y\n",
       "\u001b[90m└──\u001b[39m      return %2\n",
       ")"
      ]
     },
     "execution_count": 46,
     "metadata": {},
     "output_type": "execute_result"
    }
   ],
   "source": [
    "@code_lowered func(1.0,2.0)"
   ]
  },
  {
   "cell_type": "code",
   "execution_count": 47,
   "id": "42a0d257",
   "metadata": {},
   "outputs": [
    {
     "data": {
      "text/plain": [
       "CodeInfo(\n",
       "\u001b[90m1 ─\u001b[39m %1 = Base.mul_float(2.0, x)\u001b[36m::Float64\u001b[39m\n",
       "\u001b[90m│  \u001b[39m %2 = Base.add_float(%1, y)\u001b[36m::Float64\u001b[39m\n",
       "\u001b[90m└──\u001b[39m      return %2\n",
       ") => Float64"
      ]
     },
     "execution_count": 47,
     "metadata": {},
     "output_type": "execute_result"
    }
   ],
   "source": [
    "@code_typed func(1.0,2.0)"
   ]
  },
  {
   "cell_type": "markdown",
   "id": "da51e422-1f83-4f56-9761-4f915612dc5d",
   "metadata": {},
   "source": [
    "From the types of the input arguments, Julia has figured out all the intermediate types and replaced the generic functions `*` and `+` by specific implementations. This crucial process is known as **type inference** and its success is the basis for a good specialization (i.e. performant native code as a result). It will concern us in much more detail tomorrow."
   ]
  },
  {
   "cell_type": "code",
   "execution_count": 48,
   "id": "a72a453c",
   "metadata": {},
   "outputs": [
    {
     "name": "stdout",
     "output_type": "stream",
     "text": [
      "\u001b[90m;  @ In[1]:1 within `func`\u001b[39m\n",
      "\u001b[95mdefine\u001b[39m \u001b[36mdouble\u001b[39m \u001b[93m@julia_func_4161\u001b[39m\u001b[33m(\u001b[39m\u001b[36mdouble\u001b[39m \u001b[0m%0\u001b[0m, \u001b[36mdouble\u001b[39m \u001b[0m%1\u001b[33m)\u001b[39m \u001b[0m#0 \u001b[33m{\u001b[39m\n",
      "\u001b[91mtop:\u001b[39m\n",
      "\u001b[90m; ┌ @ promotion.jl:389 within `*` @ float.jl:385\u001b[39m\n",
      "   \u001b[0m%2 \u001b[0m= \u001b[96m\u001b[1mfmul\u001b[22m\u001b[39m \u001b[36mdouble\u001b[39m \u001b[0m%0\u001b[0m, \u001b[33m2.000000e+00\u001b[39m\n",
      "\u001b[90m; └\u001b[39m\n",
      "\u001b[90m; ┌ @ float.jl:383 within `+`\u001b[39m\n",
      "   \u001b[0m%3 \u001b[0m= \u001b[96m\u001b[1mfadd\u001b[22m\u001b[39m \u001b[36mdouble\u001b[39m \u001b[0m%2\u001b[0m, \u001b[0m%1\n",
      "\u001b[90m; └\u001b[39m\n",
      "  \u001b[96m\u001b[1mret\u001b[22m\u001b[39m \u001b[36mdouble\u001b[39m \u001b[0m%3\n",
      "\u001b[33m}\u001b[39m\n"
     ]
    }
   ],
   "source": [
    "@code_llvm func(1.0,2.0)"
   ]
  },
  {
   "cell_type": "markdown",
   "id": "8a6a4e41",
   "metadata": {},
   "source": [
    "We can remove the comments (lines starting with `;` using `debuginfo=:none`).\n"
   ]
  },
  {
   "cell_type": "code",
   "execution_count": 49,
   "id": "01a33e20",
   "metadata": {},
   "outputs": [
    {
     "name": "stdout",
     "output_type": "stream",
     "text": [
      "\u001b[95mdefine\u001b[39m \u001b[36mdouble\u001b[39m \u001b[93m@julia_func_4163\u001b[39m\u001b[33m(\u001b[39m\u001b[36mdouble\u001b[39m \u001b[0m%0\u001b[0m, \u001b[36mdouble\u001b[39m \u001b[0m%1\u001b[33m)\u001b[39m \u001b[0m#0 \u001b[33m{\u001b[39m\n",
      "\u001b[91mtop:\u001b[39m\n",
      "  \u001b[0m%2 \u001b[0m= \u001b[96m\u001b[1mfmul\u001b[22m\u001b[39m \u001b[36mdouble\u001b[39m \u001b[0m%0\u001b[0m, \u001b[33m2.000000e+00\u001b[39m\n",
      "  \u001b[0m%3 \u001b[0m= \u001b[96m\u001b[1mfadd\u001b[22m\u001b[39m \u001b[36mdouble\u001b[39m \u001b[0m%2\u001b[0m, \u001b[0m%1\n",
      "  \u001b[96m\u001b[1mret\u001b[22m\u001b[39m \u001b[36mdouble\u001b[39m \u001b[0m%3\n",
      "\u001b[33m}\u001b[39m\n"
     ]
    }
   ],
   "source": [
    "@code_llvm debuginfo=:none func(1.0,2.0)"
   ]
  },
  {
   "cell_type": "code",
   "execution_count": 50,
   "id": "dae32331",
   "metadata": {},
   "outputs": [
    {
     "name": "stdout",
     "output_type": "stream",
     "text": [
      "\t\u001b[0m.section\t\u001b[0m__TEXT\u001b[0m,\u001b[0m__text\u001b[0m,\u001b[0mregular\u001b[0m,\u001b[0mpure_instructions\n",
      "\t\u001b[0m.build_version \u001b[0mmacos\u001b[0m, \u001b[33m12\u001b[39m\u001b[0m, \u001b[33m0\u001b[39m\n",
      "\t\u001b[0m.globl\t\u001b[0m_julia_func_4165                \u001b[0m## \u001b[0m-- \u001b[0mBegin \u001b[0mfunction \u001b[0mjulia_func_4165\n",
      "\t\u001b[0m.p2align\t\u001b[33m4\u001b[39m\u001b[0m, \u001b[33m0x90\u001b[39m\n",
      "\u001b[91m_julia_func_4165:\u001b[39m                       \u001b[0m## \u001b[0m@julia_func_4165\n",
      "\t\u001b[0m.cfi_startproc\n",
      "\u001b[0m## \u001b[0m%bb.0\u001b[0m:                               \u001b[0m## \u001b[0m%top\n",
      "\t\u001b[96m\u001b[1mvaddsd\u001b[22m\u001b[39m\t\u001b[0mxmm0\u001b[0m, \u001b[0mxmm0\u001b[0m, \u001b[0mxmm0\n",
      "\t\u001b[96m\u001b[1mvaddsd\u001b[22m\u001b[39m\t\u001b[0mxmm0\u001b[0m, \u001b[0mxmm0\u001b[0m, \u001b[0mxmm1\n",
      "\t\u001b[96m\u001b[1mret\u001b[22m\u001b[39m\n",
      "\t\u001b[0m.cfi_endproc\n",
      "                                        \u001b[0m## \u001b[0m-- \u001b[0mEnd \u001b[0mfunction\n",
      "\u001b[0m.subsections_via_symbols\n"
     ]
    }
   ],
   "source": [
    "@code_native debuginfo=:none syntax=:intel func(1.0,2.0)"
   ]
  },
  {
   "cell_type": "markdown",
   "id": "c8b6ed56",
   "metadata": {},
   "source": [
    "Let's compare this to integer input.\n"
   ]
  },
  {
   "cell_type": "code",
   "execution_count": 51,
   "id": "ff6e9653",
   "metadata": {},
   "outputs": [
    {
     "name": "stdout",
     "output_type": "stream",
     "text": [
      "\t\u001b[0m.section\t\u001b[0m__TEXT\u001b[0m,\u001b[0m__text\u001b[0m,\u001b[0mregular\u001b[0m,\u001b[0mpure_instructions\n",
      "\t\u001b[0m.build_version \u001b[0mmacos\u001b[0m, \u001b[33m12\u001b[39m\u001b[0m, \u001b[33m0\u001b[39m\n",
      "\t\u001b[0m.globl\t\u001b[0m_julia_func_4167                \u001b[0m## \u001b[0m-- \u001b[0mBegin \u001b[0mfunction \u001b[0mjulia_func_4167\n",
      "\t\u001b[0m.p2align\t\u001b[33m4\u001b[39m\u001b[0m, \u001b[33m0x90\u001b[39m\n",
      "\u001b[91m_julia_func_4167:\u001b[39m                       \u001b[0m## \u001b[0m@julia_func_4167\n",
      "\t\u001b[0m.cfi_startproc\n",
      "\u001b[0m## \u001b[0m%bb.0\u001b[0m:                               \u001b[0m## \u001b[0m%top\n",
      "\t\u001b[96m\u001b[1mlea\u001b[22m\u001b[39m\t\u001b[0mrax\u001b[0m, \u001b[33m[\u001b[39m\u001b[0mrsi \u001b[0m+ \u001b[33m2\u001b[39m\u001b[0m*\u001b[0mrdi\u001b[33m]\u001b[39m\n",
      "\t\u001b[96m\u001b[1mret\u001b[22m\u001b[39m\n",
      "\t\u001b[0m.cfi_endproc\n",
      "                                        \u001b[0m## \u001b[0m-- \u001b[0mEnd \u001b[0mfunction\n",
      "\u001b[0m.subsections_via_symbols\n"
     ]
    }
   ],
   "source": [
    "@code_native debuginfo=:none syntax=:intel func(1,2)"
   ]
  },
  {
   "cell_type": "markdown",
   "id": "45872508",
   "metadata": {},
   "source": [
    "## How important is specialization?\n",
    "\n",
    "Let's try to estimate the performance gain by specialization.\n",
    "\n",
    "To prevent specialization, we deliberately throw away any useful type information and operate on a `Vector{Any}` that can literally store anything!\n",
    "\n",
    "(This is qualitatively comparable to what Python does.)\n"
   ]
  },
  {
   "cell_type": "code",
   "execution_count": 18,
   "id": "307bed1e",
   "metadata": {},
   "outputs": [
    {
     "data": {
      "text/plain": [
       "func (generic function with 2 methods)"
      ]
     },
     "execution_count": 18,
     "metadata": {},
     "output_type": "execute_result"
    }
   ],
   "source": [
    "func(v) = 2*v[1] + v[2] # version of func that takes in a vector"
   ]
  },
  {
   "cell_type": "code",
   "execution_count": 19,
   "id": "6ef3134a-027f-41c3-8d7f-11ffe11ca355",
   "metadata": {},
   "outputs": [
    {
     "data": {
      "text/plain": [
       "2-element Vector{Float64}:\n",
       " 0.5426636707323305\n",
       " 0.009070281415085368"
      ]
     },
     "execution_count": 19,
     "metadata": {},
     "output_type": "execute_result"
    }
   ],
   "source": [
    "rand(2)"
   ]
  },
  {
   "cell_type": "code",
   "execution_count": 20,
   "id": "e3c6ae38-70dd-42a3-a723-8b4eea2bacab",
   "metadata": {},
   "outputs": [
    {
     "data": {
      "text/plain": [
       "2-element Vector{Any}:\n",
       " 0.6131532350844942\n",
       " 0.5634086668836824"
      ]
     },
     "execution_count": 20,
     "metadata": {},
     "output_type": "execute_result"
    }
   ],
   "source": [
    "Any[rand(), rand()]"
   ]
  },
  {
   "cell_type": "code",
   "execution_count": 21,
   "id": "d7eadf19",
   "metadata": {},
   "outputs": [
    {
     "name": "stdout",
     "output_type": "stream",
     "text": [
      "  3.916 ns (0 allocations: 0 bytes)\n",
      "  60.928 ns (2 allocations: 32 bytes)\n"
     ]
    }
   ],
   "source": [
    "using BenchmarkTools\n",
    "\n",
    "@btime func(v) setup=(v=rand(2));\n",
    "@btime func(v) setup=(v=Any[rand(), rand()]);"
   ]
  },
  {
   "cell_type": "markdown",
   "id": "181c0a60",
   "metadata": {},
   "source": [
    "**That's a huge slowdown!**\n"
   ]
  },
  {
   "cell_type": "code",
   "execution_count": 22,
   "id": "aaaf2ba3-ac9b-4cdf-a5a0-17e748f1b4cc",
   "metadata": {},
   "outputs": [
    {
     "data": {
      "text/plain": [
       "CodeInfo(\n",
       "\u001b[90m1 ─\u001b[39m %1 = Base.arrayref(true, v, 1)\u001b[36m::Float64\u001b[39m\n",
       "\u001b[90m│  \u001b[39m %2 = Base.mul_float(2.0, %1)\u001b[36m::Float64\u001b[39m\n",
       "\u001b[90m│  \u001b[39m %3 = Base.arrayref(true, v, 2)\u001b[36m::Float64\u001b[39m\n",
       "\u001b[90m│  \u001b[39m %4 = Base.add_float(%2, %3)\u001b[36m::Float64\u001b[39m\n",
       "\u001b[90m└──\u001b[39m      return %4\n",
       ") => Float64"
      ]
     },
     "execution_count": 22,
     "metadata": {},
     "output_type": "execute_result"
    }
   ],
   "source": [
    "@code_typed func(rand(2))"
   ]
  },
  {
   "cell_type": "code",
   "execution_count": 23,
   "id": "c70cd881-b2f0-4559-8015-5953c3fea257",
   "metadata": {},
   "outputs": [
    {
     "data": {
      "text/plain": [
       "CodeInfo(\n",
       "\u001b[90m1 ─\u001b[39m %1 = Base.arrayref(true, v, 1)\u001b[36m::Any\u001b[39m\n",
       "\u001b[90m│  \u001b[39m %2 = (2 * %1)\u001b[36m::Any\u001b[39m\n",
       "\u001b[90m│  \u001b[39m %3 = Base.arrayref(true, v, 2)\u001b[36m::Any\u001b[39m\n",
       "\u001b[90m│  \u001b[39m %4 = (%2 + %3)\u001b[36m::Any\u001b[39m\n",
       "\u001b[90m└──\u001b[39m      return %4\n",
       ") => Any"
      ]
     },
     "execution_count": 23,
     "metadata": {},
     "output_type": "execute_result"
    }
   ],
   "source": [
    "@code_typed func(Any[rand(), rand()])"
   ]
  },
  {
   "cell_type": "code",
   "execution_count": 24,
   "id": "e5cbbc7b",
   "metadata": {},
   "outputs": [],
   "source": [
    "# @code_native debuginfo=:none syntax=:intel func(rand(2))\n",
    "# @code_native debuginfo=:none syntax=:intel func(Any[rand(), rand()])"
   ]
  },
  {
   "cell_type": "markdown",
   "id": "da5f9544",
   "metadata": {},
   "source": [
    "## Types vs values\n",
    "\n",
    "In high performance computing, compilation time (order of seconds or minutes) is typically neglectable compared to the actual time it takes to perform the computation (readily on the orders of hours/days/weeks). Therefore, we generally want to optimize for runtime efficiency even if this means that compilation time goes up by a reasonable amount.\n",
    "\n",
    "**Julia specializes on input types and not values!**\n",
    "\n",
    "Primarily it is **type information** that is used by the compiler to specialize code. (There are special techniques like, e.g., constant propagation and others that we are neglecting here.)\n",
    "\n",
    "(Very) roughly speaking, the more information there is in *type space* (e.g. in type parameters) the higher the likelihood that the compiler produces fast and efficient code."
   ]
  },
  {
   "cell_type": "code",
   "execution_count": 25,
   "id": "a0af51d7-1d2c-416c-a935-440012155dbe",
   "metadata": {},
   "outputs": [
    {
     "name": "stdout",
     "output_type": "stream",
     "text": [
      "  193.079 ns (1 allocation: 896 bytes)\n"
     ]
    }
   ],
   "source": [
    "A = rand(10,10);\n",
    "B = rand(10,10);\n",
    "@btime $A + $B;"
   ]
  },
  {
   "cell_type": "code",
   "execution_count": 26,
   "id": "11b5657f-825a-4211-9848-46351c589afa",
   "metadata": {},
   "outputs": [
    {
     "data": {
      "text/plain": [
       "Matrix{Float64}\u001b[90m (alias for \u001b[39m\u001b[90mArray{Float64, 2}\u001b[39m\u001b[90m)\u001b[39m"
      ]
     },
     "execution_count": 26,
     "metadata": {},
     "output_type": "execute_result"
    }
   ],
   "source": [
    "typeof(A)"
   ]
  },
  {
   "cell_type": "code",
   "execution_count": 27,
   "id": "17f87615-b7bc-4c32-a775-5e8c41704880",
   "metadata": {},
   "outputs": [
    {
     "data": {
      "text/plain": [
       "(10, 10)"
      ]
     },
     "execution_count": 27,
     "metadata": {},
     "output_type": "execute_result"
    }
   ],
   "source": [
    "size(A)"
   ]
  },
  {
   "cell_type": "code",
   "execution_count": 28,
   "id": "bd2fb5d0-c3c7-487d-a7a0-13ca16502dd3",
   "metadata": {},
   "outputs": [
    {
     "ename": "LoadError",
     "evalue": "MethodError: no method matching size(::Type{Matrix{Float64}})\n\u001b[0mClosest candidates are:\n\u001b[0m  size(\u001b[91m::Union{LinearAlgebra.Adjoint{T, var\"#s884\"}, LinearAlgebra.Transpose{T, var\"#s884\"}} where {T, var\"#s884\"<:(AbstractVector)}\u001b[39m) at ~/.julia/juliaup/julia-1.8.0+0.x64/share/julia/stdlib/v1.8/LinearAlgebra/src/adjtrans.jl:173\n\u001b[0m  size(\u001b[91m::Union{LinearAlgebra.Adjoint{T, var\"#s884\"}, LinearAlgebra.Transpose{T, var\"#s884\"}} where {T, var\"#s884\"<:(AbstractMatrix)}\u001b[39m) at ~/.julia/juliaup/julia-1.8.0+0.x64/share/julia/stdlib/v1.8/LinearAlgebra/src/adjtrans.jl:174\n\u001b[0m  size(\u001b[91m::Union{LinearAlgebra.QR, LinearAlgebra.QRCompactWY, LinearAlgebra.QRPivoted}\u001b[39m) at ~/.julia/juliaup/julia-1.8.0+0.x64/share/julia/stdlib/v1.8/LinearAlgebra/src/qr.jl:581\n\u001b[0m  ...",
     "output_type": "error",
     "traceback": [
      "MethodError: no method matching size(::Type{Matrix{Float64}})\n\u001b[0mClosest candidates are:\n\u001b[0m  size(\u001b[91m::Union{LinearAlgebra.Adjoint{T, var\"#s884\"}, LinearAlgebra.Transpose{T, var\"#s884\"}} where {T, var\"#s884\"<:(AbstractVector)}\u001b[39m) at ~/.julia/juliaup/julia-1.8.0+0.x64/share/julia/stdlib/v1.8/LinearAlgebra/src/adjtrans.jl:173\n\u001b[0m  size(\u001b[91m::Union{LinearAlgebra.Adjoint{T, var\"#s884\"}, LinearAlgebra.Transpose{T, var\"#s884\"}} where {T, var\"#s884\"<:(AbstractMatrix)}\u001b[39m) at ~/.julia/juliaup/julia-1.8.0+0.x64/share/julia/stdlib/v1.8/LinearAlgebra/src/adjtrans.jl:174\n\u001b[0m  size(\u001b[91m::Union{LinearAlgebra.QR, LinearAlgebra.QRCompactWY, LinearAlgebra.QRPivoted}\u001b[39m) at ~/.julia/juliaup/julia-1.8.0+0.x64/share/julia/stdlib/v1.8/LinearAlgebra/src/qr.jl:581\n\u001b[0m  ...",
      "",
      "Stacktrace:",
      " [1] top-level scope",
      "   @ In[28]:1",
      " [2] eval",
      "   @ ./boot.jl:368 [inlined]",
      " [3] include_string(mapexpr::typeof(REPL.softscope), mod::Module, code::String, filename::String)",
      "   @ Base ./loading.jl:1428"
     ]
    }
   ],
   "source": [
    "size(typeof(A)) # the size of A isn't type information"
   ]
  },
  {
   "cell_type": "code",
   "execution_count": 29,
   "id": "0479abf8-6736-496a-8edc-8d448c914ada",
   "metadata": {},
   "outputs": [],
   "source": [
    "using StaticArrays"
   ]
  },
  {
   "cell_type": "code",
   "execution_count": 30,
   "id": "02b3c143-ed54-4646-82e9-bbfd9e341c9e",
   "metadata": {},
   "outputs": [],
   "source": [
    "A = @SMatrix rand(10,10);\n",
    "B = @SMatrix rand(10,10);"
   ]
  },
  {
   "cell_type": "code",
   "execution_count": 31,
   "id": "c67369e7-e0a7-4394-a762-2e01f327a6a5",
   "metadata": {},
   "outputs": [
    {
     "data": {
      "text/plain": [
       "SMatrix{10, 10, Float64, 100}\u001b[90m (alias for \u001b[39m\u001b[90mSArray{Tuple{10, 10}, Float64, 2, 100}\u001b[39m\u001b[90m)\u001b[39m"
      ]
     },
     "execution_count": 31,
     "metadata": {},
     "output_type": "execute_result"
    }
   ],
   "source": [
    "typeof(A)"
   ]
  },
  {
   "cell_type": "code",
   "execution_count": 32,
   "id": "54aeddb0-6785-41ce-94c6-e14a8b42a979",
   "metadata": {},
   "outputs": [
    {
     "data": {
      "text/plain": [
       "(10, 10)"
      ]
     },
     "execution_count": 32,
     "metadata": {},
     "output_type": "execute_result"
    }
   ],
   "source": [
    "size(typeof(A)) # the size of A is type information!"
   ]
  },
  {
   "cell_type": "code",
   "execution_count": 33,
   "id": "1923b787-c8f6-4f71-802b-b18580412fe5",
   "metadata": {},
   "outputs": [
    {
     "name": "stdout",
     "output_type": "stream",
     "text": [
      "  33.012 ns (0 allocations: 0 bytes)\n"
     ]
    }
   ],
   "source": [
    "@btime $A + $B;"
   ]
  },
  {
   "cell_type": "markdown",
   "id": "2db23462-d3a6-4959-abb5-0f3343a69a2d",
   "metadata": {},
   "source": [
    "**StaticArrays.jl**\n",
    "\n",
    "```\n",
    "============================================\n",
    "    Benchmarks for 3×3 Float64 matrices\n",
    "============================================\n",
    "Matrix multiplication               -> 5.9x speedup\n",
    "Matrix multiplication (mutating)    -> 1.8x speedup\n",
    "Matrix addition                     -> 33.1x speedup\n",
    "Matrix addition (mutating)          -> 2.5x speedup\n",
    "Matrix determinant                  -> 112.9x speedup\n",
    "Matrix inverse                      -> 67.8x speedup\n",
    "Matrix symmetric eigendecomposition -> 25.0x speedup\n",
    "Matrix Cholesky decomposition       -> 8.8x speedup\n",
    "Matrix LU decomposition             -> 6.1x speedup\n",
    "Matrix QR decomposition             -> 65.0x speedup\n",
    "```"
   ]
  },
  {
   "cell_type": "markdown",
   "id": "93c1f27c-daf2-4072-b165-847af504760e",
   "metadata": {},
   "source": [
    "### Why not always use static arrays then?!\n",
    "\n",
    "By putting more information in the type you are putting more stress on the compiler to optimize things.\n",
    "\n",
    "Specifically, if static arrays are too big compile time can explode or the compiler might just give up and fall back to an inefficient default version.\n",
    "\n",
    "Generally speaking, static arrays are only useful as small fixed-size arrays."
   ]
  },
  {
   "cell_type": "code",
   "execution_count": 34,
   "id": "4001e71a",
   "metadata": {},
   "outputs": [],
   "source": [
    "# # should take (much) longer to compile and the speedup should be gone as well\n",
    "# # if it isn't, increase N a little bit\n",
    "# N = 50\n",
    "# M = rand(N,N);\n",
    "# Mstatic = SMatrix{N,N}(M);\n",
    "\n",
    "# @btime $Mstatic + $Mstatic;\n",
    "# @btime $M + $M;"
   ]
  },
  {
   "cell_type": "markdown",
   "id": "c73d775e-d103-46b4-9df7-6d99cfe6a0d9",
   "metadata": {},
   "source": [
    "### Dispatch and specialization\n",
    "\n",
    "Having a reasonable amount of information encoded in the type domain isn't only useful to help the compiler (specialization) but also for dispatching to the most specific (and therefore hopfully most performant) method of a function.\n",
    "\n",
    "**Types drive both specialization and multiple dispatch!**\n",
    "\n",
    "In this sense, multiple dispatch is essentially the first step of the specialization process where Julia chooses between different implementations.\n",
    "\n",
    "#### Example: Determinant of a 2x2 matrix\n",
    "\n",
    "Let's say your task would be to write a function computing the determinant of a 2x2 matrix. How would you implement it?\n",
    "\n",
    "Probably you'd say, well I know the formula for computing the determinant of a 2x2 matrix! Let's just implement it.\n"
   ]
  },
  {
   "cell_type": "code",
   "execution_count": 35,
   "id": "a289b82e",
   "metadata": {},
   "outputs": [
    {
     "data": {
      "text/plain": [
       "det_2x2 (generic function with 1 method)"
      ]
     },
     "execution_count": 35,
     "metadata": {},
     "output_type": "execute_result"
    }
   ],
   "source": [
    "det_2x2(X) = X[1,1] * X[2,2] - X[1,2] * X[2,1]"
   ]
  },
  {
   "cell_type": "code",
   "execution_count": 36,
   "id": "a9090407",
   "metadata": {},
   "outputs": [
    {
     "data": {
      "text/plain": [
       "2×2 Matrix{Int64}:\n",
       " 1  2\n",
       " 3  4"
      ]
     },
     "execution_count": 36,
     "metadata": {},
     "output_type": "execute_result"
    }
   ],
   "source": [
    "M = [1 2; 3 4]"
   ]
  },
  {
   "cell_type": "code",
   "execution_count": 37,
   "id": "9b039f2b",
   "metadata": {},
   "outputs": [
    {
     "data": {
      "text/plain": [
       "-2"
      ]
     },
     "execution_count": 37,
     "metadata": {},
     "output_type": "execute_result"
    }
   ],
   "source": [
    "det_2x2(M)"
   ]
  },
  {
   "cell_type": "code",
   "execution_count": 38,
   "id": "af901176",
   "metadata": {},
   "outputs": [
    {
     "name": "stdout",
     "output_type": "stream",
     "text": [
      "  23.857 ns (0 allocations: 0 bytes)\n"
     ]
    }
   ],
   "source": [
    "@btime det_2x2(M);"
   ]
  },
  {
   "cell_type": "markdown",
   "id": "ac3e1c3e",
   "metadata": {},
   "source": [
    "Let's see how Julia's built-in `det` function compares to our algorithm:\n"
   ]
  },
  {
   "cell_type": "code",
   "execution_count": 39,
   "id": "e5bc6916",
   "metadata": {},
   "outputs": [
    {
     "data": {
      "text/plain": [
       "-2.0"
      ]
     },
     "execution_count": 39,
     "metadata": {},
     "output_type": "execute_result"
    }
   ],
   "source": [
    "using LinearAlgebra\n",
    "\n",
    "det(M)"
   ]
  },
  {
   "cell_type": "code",
   "execution_count": 40,
   "id": "7b503641",
   "metadata": {},
   "outputs": [
    {
     "name": "stdout",
     "output_type": "stream",
     "text": [
      "  337.776 ns (3 allocations: 192 bytes)\n"
     ]
    }
   ],
   "source": [
    "@btime det(M);"
   ]
  },
  {
   "cell_type": "markdown",
   "id": "ef07dce3",
   "metadata": {},
   "source": [
    "It's much slower!!\n",
    "\n",
    "The reason isn't just that the compiler doesn't just know the size of the matrix from its type but also that [the code it considers](https://github.com/JuliaLang/julia/blob/release-1.8/stdlib/LinearAlgebra/src/generic.jl#L1544-L1550) (selected by the dispatch mechanism) is too general to compete with our implementation in `det_2x2`."
   ]
  },
  {
   "cell_type": "markdown",
   "id": "a1339503",
   "metadata": {},
   "source": [
    "Let's now move the size information to the type domain and see how things change."
   ]
  },
  {
   "cell_type": "code",
   "execution_count": 41,
   "id": "32a5d12b",
   "metadata": {},
   "outputs": [
    {
     "data": {
      "text/plain": [
       "2×2 SMatrix{2, 2, Int64, 4} with indices SOneTo(2)×SOneTo(2):\n",
       " 1  2\n",
       " 3  4"
      ]
     },
     "execution_count": 41,
     "metadata": {},
     "output_type": "execute_result"
    }
   ],
   "source": [
    "using StaticArrays\n",
    "S = @SMatrix [1 2; 3 4]"
   ]
  },
  {
   "cell_type": "code",
   "execution_count": 42,
   "id": "3550b299-21fd-47cb-a56e-a3d4b1e478f2",
   "metadata": {},
   "outputs": [
    {
     "name": "stdout",
     "output_type": "stream",
     "text": [
      "  4.666 ns (0 allocations: 0 bytes)\n"
     ]
    }
   ],
   "source": [
    "@btime det($S);"
   ]
  },
  {
   "cell_type": "markdown",
   "id": "7538c736",
   "metadata": {},
   "source": [
    "Note that it is super faster because StaticArrays.jl provides [a hand-coded version](https://github.com/JuliaArrays/StaticArrays.jl/blob/master/src/det.jl#L10-L12), similar to our `det_2x2` above, which gets selected because of the size information in the type.\n",
    "\n",
    "The (tiny) speed difference compared to our own `det_2x2` is only due to bounds checking and matrix vs linear indexing."
   ]
  },
  {
   "cell_type": "code",
   "execution_count": 43,
   "id": "967173a5-ee6b-4e90-b908-2077b084acc7",
   "metadata": {},
   "outputs": [
    {
     "name": "stdout",
     "output_type": "stream",
     "text": [
      "  4.292 ns (0 allocations: 0 bytes)\n"
     ]
    }
   ],
   "source": [
    "det_2x2_optimized(X) = X[1] * X[4] - X[3] * X[2]\n",
    "@btime det_2x2_optimized($M);"
   ]
  },
  {
   "cell_type": "markdown",
   "id": "441bd83f",
   "metadata": {},
   "source": [
    "## Are explicit type annotations necessary? (think C or Fortran)\n",
    "\n",
    "Note that Julia's type inference is powerful. Specifying types **is not** necessary for best performance!\n"
   ]
  },
  {
   "cell_type": "code",
   "execution_count": 44,
   "id": "7aa6dc3b",
   "metadata": {},
   "outputs": [
    {
     "data": {
      "text/plain": [
       "my_function_typed (generic function with 1 method)"
      ]
     },
     "execution_count": 44,
     "metadata": {},
     "output_type": "execute_result"
    }
   ],
   "source": [
    "function my_function(x)\n",
    "    y = rand()\n",
    "    z = rand()\n",
    "    x+y+z\n",
    "end\n",
    "\n",
    "function my_function_typed(x::Int)::Float64\n",
    "    y::Float64 = rand()\n",
    "    z::Float64 = rand()\n",
    "    x+y+z\n",
    "end"
   ]
  },
  {
   "cell_type": "code",
   "execution_count": 45,
   "id": "9508d8dc",
   "metadata": {},
   "outputs": [
    {
     "name": "stdout",
     "output_type": "stream",
     "text": [
      "  9.046 ns (0 allocations: 0 bytes)\n",
      "  8.903 ns (0 allocations: 0 bytes)\n"
     ]
    }
   ],
   "source": [
    "@btime my_function(10);\n",
    "@btime my_function_typed(10);"
   ]
  },
  {
   "cell_type": "markdown",
   "id": "6e289d4e-1f72-4f8b-9a4b-b5ae6d39dc38",
   "metadata": {},
   "source": [
    "Annotating types explicitly can serve a purpose.\n",
    "\n",
    "* Enforce conversions\n",
    "* Very rarely: help the compiler infer types in tricky situations\n",
    "\n",
    "However, more often than not it is an indication of suboptimal code design. (It also makes functions much less generic and reusable!)"
   ]
  },
  {
   "cell_type": "markdown",
   "id": "7decf680-6766-4e52-a75e-530ff7abd65a",
   "metadata": {},
   "source": [
    "# Core messages of this Notebook\n",
    "\n",
    "* **A function is compiled when called for the first time** with a given set of argument types.\n",
    "* The are **multiple compilation steps** which can be inspected through macros like `@code_warntype`.\n",
    "* **Code specialization** based on the types of all of the input arguments is important for speed.\n",
    "* Critical information can be moved to the **type domain** for better dispatch and specialization.\n",
    "* In virtually all cases, **explicit type annotations are irrelevant for performance**."
   ]
  }
 ],
 "metadata": {
  "kernelspec": {
   "display_name": "Julia 1.8.0",
   "language": "julia",
   "name": "julia-1.8"
  },
  "language_info": {
   "file_extension": ".jl",
   "mimetype": "application/julia",
   "name": "julia",
   "version": "1.8.0"
  }
 },
 "nbformat": 4,
 "nbformat_minor": 5
}
