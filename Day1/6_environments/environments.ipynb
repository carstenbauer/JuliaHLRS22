{
 "cells": [
  {
   "cell_type": "markdown",
   "metadata": {},
   "source": [
    "# Projects"
   ]
  },
  {
   "cell_type": "markdown",
   "metadata": {},
   "source": [
    "When working on a project in Julia we're almost always using external packages.\n",
    "\n",
    "This means that our **project code depends on packages**. It can only be executed when those packages are present on the executing machine.\n",
    "\n",
    "Even then, since packages change over time, executability is only guaranteed if we have the **exact same versions of the packages** that we had when writing the code.\n",
    "\n",
    "Imagine you want to share the code with someone, like a colleague or **your future self**.\n",
    "\n",
    "**Sharing the code alone is often not enough!**\n",
    "\n",
    "Instead you'd want to share your code and a snapshot of your package [environment](https://docs.julialang.org/en/v1/manual/code-loading/#Environments-1).\n",
    "\n",
    "Fortunately, this is pretty straightforward in Julia.\n",
    "\n",
    "### Let's switch to the REPL to explore environment.....\n",
    "\n",
    "To learn more about Julia's package manager and environments in particular, feel free to checkout the following videos:\n",
    "\n",
    "* [Pkg3 The new Julia package manager ](https://www.youtube.com/watch?v=HgFmiT5p0zU)\n",
    "* [Pkg, Project.toml, Manifest.toml and Environments](https://www.youtube.com/watch?v=q-LV4zoxc-E)\n",
    "\n",
    "and, of course, the [corresponding part of the Julia documentation](https://docs.julialang.org/en/v1/stdlib/Pkg/#)."
   ]
  },
  {
   "cell_type": "markdown",
   "metadata": {},
   "source": [
    "# Core message of this part"
   ]
  },
  {
   "cell_type": "markdown",
   "metadata": {},
   "source": [
    "* Storing the package environment next to code makes code reproducible. It's only a `] activate .` and a couple of `] add`s away.\n",
    "* `] instantiate` can be used to get all the packages of an environment"
   ]
  }
 ],
 "metadata": {
  "@webio": {
   "lastCommId": null,
   "lastKernelId": null
  },
  "kernelspec": {
   "display_name": "Julia 1.3.1",
   "language": "julia",
   "name": "julia-1.3"
  },
  "language_info": {
   "file_extension": ".jl",
   "mimetype": "application/julia",
   "name": "julia",
   "version": "1.3.1"
  }
 },
 "nbformat": 4,
 "nbformat_minor": 2
}
