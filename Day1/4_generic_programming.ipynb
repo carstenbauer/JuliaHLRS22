{
 "cells": [
  {
   "cell_type": "markdown",
   "id": "2d8d5f99-d7ee-4c54-96df-95943efcb680",
   "metadata": {
    "tags": []
   },
   "source": [
    "# Generic programming\n",
    "\n",
    "We have seen **duck typing** as a convient abstraction tool for data types:\n",
    "\n",
    "* As a **user**, we don't have to care about how a specific type, say an `Array`, is implemented. By being an array (i.e. a subtype of `AbstractArray`) it behaves like we expect and we can just use it.\n",
    "* As a **developer**, as long as we make our objects behave like, say, and `AbstractArray`, we can implement it in whatever way we deem appropriate and it will work with all kinds of algorithms.\n",
    "\n",
    "Building upon this principle, we also want to formulate our **algorithms** in an abstract way such that it works will all kinds of data types irrespective of their precise implementation (or even meaning). This is generally known as **generic programming**.\n",
    "\n",
    "From [Wikipedia](https://en.wikipedia.org/wiki/Generic_programming):\n",
    "\n",
    "> **Generic programming** is a style of computer programming in which algorithms are written in terms of types *to-be-specified-later* that are then *instantiated* when needed for specific types provided as parameters."
   ]
  },
  {
   "cell_type": "markdown",
   "id": "a19be775-9df3-4673-860d-f0344685c407",
   "metadata": {},
   "source": [
    "## Example 1: Summation"
   ]
  },
  {
   "cell_type": "code",
   "execution_count": 2,
   "id": "5de5f0b2-f15c-48c8-b24a-25a4424ceb4b",
   "metadata": {},
   "outputs": [
    {
     "data": {
      "text/plain": [
       "sum_naive (generic function with 1 method)"
      ]
     },
     "execution_count": 2,
     "metadata": {},
     "output_type": "execute_result"
    }
   ],
   "source": [
    "function sum_naive(x)\n",
    "    s = 0.0\n",
    "    for xi in x\n",
    "        s += xi\n",
    "    end\n",
    "    return s\n",
    "end"
   ]
  },
  {
   "cell_type": "code",
   "execution_count": 3,
   "id": "b582002d-7916-47b8-a817-8e17112d66ee",
   "metadata": {},
   "outputs": [
    {
     "data": {
      "text/plain": [
       "sum_generic (generic function with 1 method)"
      ]
     },
     "execution_count": 3,
     "metadata": {},
     "output_type": "execute_result"
    }
   ],
   "source": [
    "function sum_generic(x)\n",
    "    s = zero(eltype(x))\n",
    "    for xi in x\n",
    "        s += xi\n",
    "    end\n",
    "    return s\n",
    "end"
   ]
  },
  {
   "cell_type": "code",
   "execution_count": 4,
   "id": "be9df70a-03a7-4953-b6af-e0dde011e5ea",
   "metadata": {},
   "outputs": [],
   "source": [
    "using BenchmarkTools"
   ]
  },
  {
   "cell_type": "code",
   "execution_count": 5,
   "id": "41560e7e-f300-4652-82c5-5ba6c8998388",
   "metadata": {},
   "outputs": [
    {
     "name": "stdout",
     "output_type": "stream",
     "text": [
      "  154.262 μs (0 allocations: 0 bytes)\n",
      "  154.259 μs (0 allocations: 0 bytes)\n"
     ]
    }
   ],
   "source": [
    "x = rand(100_000);\n",
    "@btime sum_naive($x);\n",
    "@btime sum_generic($x);"
   ]
  },
  {
   "cell_type": "code",
   "execution_count": 6,
   "id": "ec8305ec-5702-4143-8276-fbd9ac4b3d4f",
   "metadata": {},
   "outputs": [
    {
     "name": "stdout",
     "output_type": "stream",
     "text": [
      "  154.269 μs (0 allocations: 0 bytes)\n",
      "  19.040 μs (0 allocations: 0 bytes)\n"
     ]
    }
   ],
   "source": [
    "x = rand(Int, 100_000);\n",
    "@btime sum_naive($x);\n",
    "@btime sum_generic($x);"
   ]
  },
  {
   "cell_type": "markdown",
   "id": "0717e23b-a89e-4923-9a8c-ac551813a600",
   "metadata": {},
   "source": [
    "### Example 2: Vandermonde matrix\n",
    "(modified from [Steven's Julia intro](https://web.mit.edu/18.06/www/Fall17/1806/julia/Julia-intro.pdf))\n",
    "\n",
    "\\begin{align}V=\\begin{bmatrix}1&\\alpha _{1}&\\alpha _{1}^{2}&\\dots &\\alpha _{1}^{n-1}\\\\1&\\alpha _{2}&\\alpha _{2}^{2}&\\dots &\\alpha _{2}^{n-1}\\\\1&\\alpha _{3}&\\alpha _{3}^{2}&\\dots &\\alpha _{3}^{n-1}\\\\\\vdots &\\vdots &\\vdots &\\ddots &\\vdots \\\\1&\\alpha _{m}&\\alpha _{m}^{2}&\\dots &\\alpha _{m}^{n-1}\\end{bmatrix}\\end{align}"
   ]
  },
  {
   "cell_type": "code",
   "execution_count": 7,
   "id": "144ab0bd",
   "metadata": {
    "scrolled": true,
    "tags": []
   },
   "outputs": [
    {
     "name": "stderr",
     "output_type": "stream",
     "text": [
      "\u001b[32m\u001b[1m    CondaPkg \u001b[22m\u001b[39m\u001b[0mFound dependencies: /Users/crstnbr/repos/JuliaWorkshops/JuliaHLRS22/CondaPkg.toml\n",
      "\u001b[32m\u001b[1m    CondaPkg \u001b[22m\u001b[39m\u001b[0mFound dependencies: /Users/crstnbr/.julia/packages/PythonCall/DqZCE/CondaPkg.toml\n",
      "\u001b[32m\u001b[1m    CondaPkg \u001b[22m\u001b[39m\u001b[0mDependencies already up to date\n"
     ]
    }
   ],
   "source": [
    "using PythonCall"
   ]
  },
  {
   "cell_type": "code",
   "execution_count": 8,
   "id": "3ab1da61",
   "metadata": {},
   "outputs": [
    {
     "data": {
      "text/plain": [
       "\u001b[0m\u001b[1mPython module: \u001b[22m<module 'numpy' from '/Users/crstnbr/repos/JuliaWorkshops/JuliaHLRS22/.CondaPkg/env/lib/python3.10/site-packages/numpy/__init__.py'>"
      ]
     },
     "execution_count": 8,
     "metadata": {},
     "output_type": "execute_result"
    }
   ],
   "source": [
    "np = pyimport(\"numpy\")"
   ]
  },
  {
   "cell_type": "code",
   "execution_count": 9,
   "id": "2311431e",
   "metadata": {},
   "outputs": [
    {
     "data": {
      "text/plain": [
       "\u001b[0m\u001b[1mPython ndarray:\u001b[22m\n",
       "array([[  1,   1,   1,   1,   1],\n",
       "       [  1,   2,   4,   8,  16],\n",
       "       [  1,   3,   9,  27,  81],\n",
       "       [  1,   4,  16,  64, 256],\n",
       "       [  1,   5,  25, 125, 625]])"
      ]
     },
     "execution_count": 9,
     "metadata": {},
     "output_type": "execute_result"
    }
   ],
   "source": [
    "np.vander(1:5, increasing=true)"
   ]
  },
  {
   "cell_type": "markdown",
   "id": "99d08891-8da2-4d03-8295-93ff62340981",
   "metadata": {},
   "source": [
    "The source code for this function is [here](https://github.com/numpy/numpy/blob/v1.16.1/numpy/lib/twodim_base.py#L475-L563). It calls `np.multiply.accumulate` which is implemented in C [here](https://github.com/numpy/numpy/blob/deea4983aedfa96905bbaee64e3d1de84144303f/numpy/core/src/umath/ufunc_object.c#L3678). However, this code doesn't actually perform the computation, it basically only checks types and stuff. The actual kernel that gets called is [here](https://github.com/numpy/numpy/blob/deea4983aedfa96905bbaee64e3d1de84144303f/numpy/core/src/umath/loops.c.src#L1742). This isn't even C code but a template for C code which is used to generate type specific kernels.\n",
    "\n",
    "Overall, this setup only supports a limited set of types, like `Float64`, `Float32`, and so forth.\n",
    "\n",
    "Here is our simple generic Julia implementation\n"
   ]
  },
  {
   "cell_type": "code",
   "execution_count": 10,
   "id": "fd6f1041",
   "metadata": {},
   "outputs": [
    {
     "data": {
      "text/plain": [
       "vander (generic function with 1 method)"
      ]
     },
     "execution_count": 10,
     "metadata": {},
     "output_type": "execute_result"
    }
   ],
   "source": [
    "function vander(x::AbstractVector{T}) where T\n",
    "    m = length(x)\n",
    "    V = Matrix{T}(undef, m, m)\n",
    "    for j = 1:m\n",
    "        V[j,1] = one(x[j])\n",
    "    end\n",
    "    for i= 2:m\n",
    "        for j = 1:m\n",
    "            V[j,i] = x[j] * V[j,i-1]\n",
    "            end\n",
    "        end\n",
    "    return V\n",
    "end"
   ]
  },
  {
   "cell_type": "code",
   "execution_count": 11,
   "id": "7ad55da9",
   "metadata": {},
   "outputs": [
    {
     "data": {
      "text/plain": [
       "5×5 Matrix{Int64}:\n",
       " 1  1   1    1    1\n",
       " 1  2   4    8   16\n",
       " 1  3   9   27   81\n",
       " 1  4  16   64  256\n",
       " 1  5  25  125  625"
      ]
     },
     "execution_count": 11,
     "metadata": {},
     "output_type": "execute_result"
    }
   ],
   "source": [
    "vander(1:5)"
   ]
  },
  {
   "cell_type": "markdown",
   "id": "6c4ba246-eefc-484f-8873-094c8b0e1dc2",
   "metadata": {},
   "source": [
    "#### A quick speed comparison\n",
    "\n",
    "\n",
    " <img src=\"../imgs/vandermonde.svg\" alt=\"drawing\" width=\"600\"/>\n",
    "\n",
    "Note that the clean and concise Julia implementation is **beating numpy's C implementation for small matrices** and is **on-par for large matrix sizes**.\n",
    "\n",
    "At the same time, the Julia code is *generic* and works for arbitrary types!\n"
   ]
  },
  {
   "cell_type": "code",
   "execution_count": 12,
   "id": "6727e3c3",
   "metadata": {},
   "outputs": [
    {
     "data": {
      "text/plain": [
       "4×4 Matrix{Int32}:\n",
       " 1   4    16     64\n",
       " 1   8    64    512\n",
       " 1  16   256   4096\n",
       " 1  32  1024  32768"
      ]
     },
     "execution_count": 12,
     "metadata": {},
     "output_type": "execute_result"
    }
   ],
   "source": [
    "vander(Int32[4, 8, 16, 32])"
   ]
  },
  {
   "cell_type": "markdown",
   "id": "f256ae63-8eb9-4d89-9f1d-414627f05589",
   "metadata": {},
   "source": [
    "It even works for non-numerical types. The only requirement is that the type has a *one* (identity element) and a multiplication operation defined.\n"
   ]
  },
  {
   "cell_type": "code",
   "execution_count": 13,
   "id": "2781516b-b44e-481c-bcc9-28a0a8e92c3f",
   "metadata": {},
   "outputs": [
    {
     "data": {
      "text/plain": [
       "4×4 Matrix{String}:\n",
       " \"\"  \"This\"  \"ThisThis\"  \"ThisThisThis\"\n",
       " \"\"  \"is\"    \"isis\"      \"isisis\"\n",
       " \"\"  \"a\"     \"aa\"        \"aaa\"\n",
       " \"\"  \"test\"  \"testtest\"  \"testtesttest\""
      ]
     },
     "execution_count": 13,
     "metadata": {},
     "output_type": "execute_result"
    }
   ],
   "source": [
    "vander([\"This\", \"is\", \"a\", \"test\"])"
   ]
  },
  {
   "cell_type": "markdown",
   "id": "ae6d3808-9d20-493e-a3f6-8d6c430d2da6",
   "metadata": {},
   "source": [
    "### New \"features\" emerging from generic programming"
   ]
  },
  {
   "cell_type": "markdown",
   "id": "99f14a8c-b56c-4d58-aff9-8e617751b7ee",
   "metadata": {},
   "source": [
    "#### Symbolic computations"
   ]
  },
  {
   "cell_type": "code",
   "execution_count": 14,
   "id": "5919a579-b296-4c4d-b219-d7e3f6ba1c74",
   "metadata": {},
   "outputs": [],
   "source": [
    "using Symbolics"
   ]
  },
  {
   "cell_type": "code",
   "execution_count": 15,
   "id": "8737fc3b-8646-40ee-98a2-5d44e3993235",
   "metadata": {},
   "outputs": [
    {
     "data": {
      "text/latex": [
       "\\begin{equation}\n",
       "\\left[\n",
       "\\begin{array}{c}\n",
       "a \\\\\n",
       "b \\\\\n",
       "c \\\\\n",
       "d \\\\\n",
       "e \\\\\n",
       "\\end{array}\n",
       "\\right]\n",
       "\\end{equation}\n"
      ],
      "text/plain": [
       "5-element Vector{Num}:\n",
       " a\n",
       " b\n",
       " c\n",
       " d\n",
       "  e"
      ]
     },
     "execution_count": 15,
     "metadata": {},
     "output_type": "execute_result"
    }
   ],
   "source": [
    "@variables a b c d e"
   ]
  },
  {
   "cell_type": "code",
   "execution_count": 16,
   "id": "69be6e40-a389-49dc-a09c-d3f00b2808fa",
   "metadata": {},
   "outputs": [
    {
     "data": {
      "text/latex": [
       "\\begin{equation}\n",
       "\\left[\n",
       "\\begin{array}{ccccc}\n",
       "1 & a & a^{2} & a^{3} & a^{4} \\\\\n",
       "1 & b & b^{2} & b^{3} & b^{4} \\\\\n",
       "1 & c & c^{2} & c^{3} & c^{4} \\\\\n",
       "1 & d & d^{2} & d^{3} & d^{4} \\\\\n",
       "1 & e & e^{2} & e^{3} & e^{4} \\\\\n",
       "\\end{array}\n",
       "\\right]\n",
       "\\end{equation}\n"
      ],
      "text/plain": [
       "5×5 Matrix{Num}:\n",
       " 1  a   a^2     a^3     a^4\n",
       " 1  b   b^2     b^3     b^4\n",
       " 1  c   c^2     c^3     c^4\n",
       " 1  d   d^2     d^3     d^4\n",
       " 1   e     e^2     e^3     e^4"
      ]
     },
     "execution_count": 16,
     "metadata": {},
     "output_type": "execute_result"
    }
   ],
   "source": [
    "v = vander([a,b,c,d,e])"
   ]
  },
  {
   "cell_type": "code",
   "execution_count": 17,
   "id": "89adaa59-727b-40d0-9cc4-71c8c91c99fe",
   "metadata": {},
   "outputs": [
    {
     "data": {
      "text/latex": [
       "\\begin{equation}\n",
       "\\left[\n",
       "\\begin{array}{ccccc}\n",
       "1 & a & a^{2} & a^{3} & a^{4} \\\\\n",
       "1 & 2 & 4 & 8 & 16 \\\\\n",
       "1 & c & c^{2} & c^{3} & c^{4} \\\\\n",
       "1 & 4 & 16 & 64 & 256 \\\\\n",
       "1 & e & e^{2} & e^{3} & e^{4} \\\\\n",
       "\\end{array}\n",
       "\\right]\n",
       "\\end{equation}\n"
      ],
      "text/plain": [
       "5×5 Matrix{Num}:\n",
       " 1  a   a^2     a^3     a^4\n",
       " 1  2     4       8      16\n",
       " 1  c   c^2     c^3     c^4\n",
       " 1  4    16      64     256\n",
       " 1   e     e^2     e^3     e^4"
      ]
     },
     "execution_count": 17,
     "metadata": {},
     "output_type": "execute_result"
    }
   ],
   "source": [
    "substitute(v, Dict(b => 2, d => 4))"
   ]
  },
  {
   "cell_type": "markdown",
   "id": "5e6ecc52-515b-4aa7-b916-dd6983da37c1",
   "metadata": {},
   "source": [
    "#### Arbitrary precision computing"
   ]
  },
  {
   "cell_type": "code",
   "execution_count": 18,
   "id": "df104d17-772a-4129-82b0-8578d34e8830",
   "metadata": {},
   "outputs": [
    {
     "data": {
      "text/plain": [
       "10-element Vector{BigFloat}:\n",
       " 0.9208116449623347166192452264587084495853347987048726978611982918061241309514983\n",
       " 0.8357086325739564792581509469125326361798917564772260970268599754632755899641744\n",
       " 0.8756711626225916831578231553423143936705346142172390348791173085494828605439501\n",
       " 0.7025893602087213959396535703047723255446537396745216740039550000722734115881833\n",
       " 0.8746840695404426929898970564434091974957650027220359070552388425813315013099841\n",
       " 0.6443687541263098797442322207846420494189076990517809480126157545777813336223175\n",
       " 0.6307025207647385666030711242948852388339165529287342446149364636899798509671811\n",
       " 0.2078318991231677091980418013527284233813502296243400822347784954400187322951034\n",
       " 0.9802775367551366030536764786734507098202448714362707968456007613719105154740548\n",
       " 0.5718410063260819209378380424992385646613682806961082897445397320392076579957134"
      ]
     },
     "execution_count": 18,
     "metadata": {},
     "output_type": "execute_result"
    }
   ],
   "source": [
    "x = rand(BigFloat, 10)"
   ]
  },
  {
   "cell_type": "code",
   "execution_count": 19,
   "id": "9282ed3d-5f52-4cd6-895f-764cafa0c460",
   "metadata": {},
   "outputs": [
    {
     "data": {
      "text/plain": [
       "7.244486587003481647501629623066681988591967545533129772278840625591385584712169"
      ]
     },
     "execution_count": 19,
     "metadata": {},
     "output_type": "execute_result"
    }
   ],
   "source": [
    "sum(x)"
   ]
  },
  {
   "cell_type": "markdown",
   "id": "219354ea-e66e-49f0-8e55-3d72591e47c4",
   "metadata": {},
   "source": [
    "#### Differential equation solving with uncertainty"
   ]
  },
  {
   "cell_type": "markdown",
   "id": "19e8cb5d-3760-4343-97b9-d44970d23990",
   "metadata": {},
   "source": [
    "**Code:**\n",
    "```julia\n",
    "using OrdinaryDiffEq, Measurements, Plots\n",
    "\n",
    "#Half-life of Carbon-14 is 5730 years.\n",
    "c = 5.730 ± 2\n",
    "\n",
    "#Setup\n",
    "u0 = 1.0 ± 0.1\n",
    "tspan = (0.0, 1.0)\n",
    "\n",
    "#Define the problem\n",
    "radioactivedecay(u,p,t) = -c*u\n",
    "\n",
    "#Pass to solver\n",
    "prob = ODEProblem(radioactivedecay,u0,tspan)\n",
    "sol = solve(prob, Tsit5(), reltol=1e-8, abstol=1e-8);\n",
    "\n",
    "plot(sol.t, sol.u, ylabel=\"u(t)\", xlabel=\"t\", lw=2, legend=false)\n",
    "```\n",
    "\n",
    "**Output:**\n",
    "<img src=\"../imgs/ode_uncertainty.svg\">"
   ]
  },
  {
   "cell_type": "markdown",
   "id": "8c878ccc-1b85-43a5-83e6-9fa3acf748c0",
   "metadata": {},
   "source": [
    "**Historical note**: In some sense, **Julia implemented that feature by itself**. The authors of Measurements.jl and DifferentialEquations.jl never had any collabration on this."
   ]
  },
  {
   "cell_type": "markdown",
   "id": "6868896d",
   "metadata": {},
   "source": [
    "# Core messages of this Notebook\n",
    "\n",
    "* Julia **can be fast.**\n",
    "* **A function is compiled when called for the first time** with a given set of argument types.\n",
    "* The are **multiple compilation steps** all of which can be inspected through macros like `@code_warntype`.\n",
    "* **Code specialization** based on the types of all of the input arguments is important for speed.\n",
    "* Calculations can be moved to compile-time to make run-time faster.\n",
    "* In virtually all cases, **explicit type annotations are irrelevant for performance**.\n",
    "* Type annotations in function signatures define a **type filter/user interface**.\n"
   ]
  }
 ],
 "metadata": {
  "kernelspec": {
   "display_name": "Julia 1.8.0",
   "language": "julia",
   "name": "julia-1.8"
  },
  "language_info": {
   "file_extension": ".jl",
   "mimetype": "application/julia",
   "name": "julia",
   "version": "1.8.0"
  }
 },
 "nbformat": 4,
 "nbformat_minor": 5
}
