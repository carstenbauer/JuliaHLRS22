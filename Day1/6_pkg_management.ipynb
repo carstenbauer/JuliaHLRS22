{
 "cells": [
  {
   "cell_type": "markdown",
   "metadata": {},
   "source": [
    "# Package Management"
   ]
  },
  {
   "cell_type": "markdown",
   "metadata": {},
   "source": [
    "## Package environments"
   ]
  },
  {
   "cell_type": "markdown",
   "metadata": {},
   "source": [
    "When working on a project in Julia we're almost always using external packages.\n",
    "\n",
    "This means that our **project code depends on packages**. It can only be executed when those packages are present on the executing machine.\n",
    "\n",
    "Even then, since packages change over time, executability is only guaranteed if we have the **exact same versions of the packages** that we had when writing the code.\n",
    "\n",
    "Imagine you want to share the code with someone, like a colleague or **your future self**.\n",
    "\n",
    "**Sharing the code alone is often not enough!**\n",
    "\n",
    "Instead you'd want to share your code and a snapshot of your package [environment](https://docs.julialang.org/en/v1/manual/code-loading/#Environments-1).\n",
    "\n",
    "Fortunately, this is pretty straightforward in Julia.\n",
    "\n",
    "### Let's switch to the REPL to explore environment.....\n",
    "\n",
    "To learn more about Julia's package manager and environments in particular, feel free to checkout the following videos:\n",
    "\n",
    "* [Pkg3 The new Julia package manager ](https://www.youtube.com/watch?v=HgFmiT5p0zU)\n",
    "* [Pkg, Project.toml, Manifest.toml and Environments](https://www.youtube.com/watch?v=q-LV4zoxc-E)\n",
    "\n",
    "and, of course, the [corresponding part of the Julia documentation](https://docs.julialang.org/en/v1/stdlib/Pkg/#).\n",
    "\n",
    "**Most important commands:**\n",
    "\n",
    "* `] status`\n",
    "* `] add SomePackage`\n",
    "* `] remove SomePackage`\n",
    "* `] instantiate`"
   ]
  },
  {
   "cell_type": "markdown",
   "metadata": {},
   "source": [
    "## Binary dependencies and Julia library (JLL) packages\n",
    "\n",
    "[Since Julia 1.3+](https://julialang.org/blog/2019/11/artifacts/), Julia supports attaching arbitrary data to projects and packages in the form of [Julia Artifacts](https://pkgdocs.julialang.org/dev/artifacts/).\n",
    "\n",
    "**JLL packages use this infrastructure to provide versioned binary dependencies.** They are just wrapper packages without further functionality. Just add them to your Julia project / environment to also **explicitly state the dependency on binary software.**\n",
    "\n",
    "You can find the JLL packages here: [JuliaBinaryWrappers](https://github.com/JuliaBinaryWrappers)\n",
    "\n",
    "**Examples:** [Hwloc_jll.jl](https://github.com/JuliaBinaryWrappers/Hwloc_jll.jl) (provides the shared library `libhwloc`) or [CUDA_jll](https://github.com/JuliaBinaryWrappers/CUDA_jll.jl)."
   ]
  },
  {
   "cell_type": "code",
   "execution_count": 2,
   "metadata": {},
   "outputs": [],
   "source": [
    "using Hwloc_jll"
   ]
  },
  {
   "cell_type": "code",
   "execution_count": 3,
   "metadata": {},
   "outputs": [
    {
     "data": {
      "text/plain": [
       "\"/Users/crstnbr/.julia/artifacts/f24f39b276d6ffeae1df99dfb3369df9294cd43d/lib/libhwloc.15.dylib\""
      ]
     },
     "execution_count": 3,
     "metadata": {},
     "output_type": "execute_result"
    }
   ],
   "source": [
    "Hwloc_jll.libhwloc"
   ]
  },
  {
   "cell_type": "code",
   "execution_count": 4,
   "metadata": {},
   "outputs": [],
   "source": [
    "using Libdl"
   ]
  },
  {
   "cell_type": "code",
   "execution_count": 10,
   "metadata": {},
   "outputs": [
    {
     "data": {
      "text/plain": [
       "Ptr{Nothing} @0x0000000119207f20"
      ]
     },
     "execution_count": 10,
     "metadata": {},
     "output_type": "execute_result"
    }
   ],
   "source": [
    "dlopen(Hwloc_jll.libhwloc) do lib\n",
    "    dlsym(lib, :hwloc_topology_init)\n",
    "end"
   ]
  },
  {
   "cell_type": "markdown",
   "metadata": {},
   "source": [
    "### Production pipeline\n",
    "\n",
    "* [BinaryBuilder](https://github.com/JuliaPackaging/BinaryBuilder.jl): Tools for building binary packages (cross compiling them in a sandbox environment)\n",
    "* [Yggdrasil](https://github.com/JuliaPackaging/Yggdrasil): Community buildtree of BinaryBuilder recipes for building binary packages.\n",
    "* [JuliaBinaryWrappers](https://github.com/JuliaBinaryWrappers): Final Julia packages that wrap binary dependencies.\n",
    "\n",
    "**Pipeline:** [BinaryBuilder](https://github.com/JuliaPackaging/BinaryBuilder.jl) → [Yggdrasil](https://github.com/JuliaPackaging/Yggdrasil) → [JuliaBinaryWrappers](https://github.com/JuliaBinaryWrappers)"
   ]
  },
  {
   "cell_type": "markdown",
   "metadata": {},
   "source": [
    "# Core message of this part"
   ]
  },
  {
   "cell_type": "markdown",
   "metadata": {},
   "source": [
    "* Storing the package environment next to code makes code reproducible. It's only a `] activate .` and a couple of `] add`s away.\n",
    "* `] instantiate` can be used to get all the packages of an environment\n",
    "* JLL packages provide binary dependencies in a simple and reliable way."
   ]
  }
 ],
 "metadata": {
  "@webio": {
   "lastCommId": null,
   "lastKernelId": null
  },
  "kernelspec": {
   "display_name": "Julia 1.8.0",
   "language": "julia",
   "name": "julia-1.8"
  },
  "language_info": {
   "file_extension": ".jl",
   "mimetype": "application/julia",
   "name": "julia",
   "version": "1.8.0"
  }
 },
 "nbformat": 4,
 "nbformat_minor": 4
}
