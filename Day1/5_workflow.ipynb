{
 "cells": [
  {
   "cell_type": "markdown",
   "id": "2792f38d-c4dd-4d09-af6d-ce6e5c0c7826",
   "metadata": {},
   "source": [
    "# Development Workflow"
   ]
  },
  {
   "cell_type": "markdown",
   "id": "edfa2840-8f20-4219-8240-d72eacc0ef6a",
   "metadata": {},
   "source": [
    "## Traditional: \"make a change and rerun the file\""
   ]
  },
  {
   "cell_type": "markdown",
   "id": "ed4b2f40-5745-4924-9869-47d893abb62f",
   "metadata": {},
   "source": [
    "<img src=\"../imgs/workflow_traditional.png\" width=1200px>"
   ]
  },
  {
   "cell_type": "markdown",
   "id": "6dd699b6-5ea2-48fc-8362-0bc343743155",
   "metadata": {},
   "source": [
    "**Pros**\n",
    "* conceptually simple\n",
    "* can use any editor\n",
    "\n",
    "**Cons**\n",
    "* no interactivity (!)\n",
    "* compilation cost must be paid every time (!)\n",
    "  * Julia doesn't really cache native (binary) code between sessions yet 😔 ([It's on the horizon](https://www.youtube.com/watch?v=GnsONc9DYg0) though.)"
   ]
  },
  {
   "cell_type": "markdown",
   "id": "1406fdc1-f8cc-41e8-916b-80f042d41989",
   "metadata": {},
   "source": [
    "This workflow: **Only recommended for simple changes (and production runs).**"
   ]
  },
  {
   "cell_type": "markdown",
   "id": "93a7975c-6fee-438f-a6ab-443b69cd2cf3",
   "metadata": {},
   "source": [
    "## Revise.jl: \"track changes in my file\""
   ]
  },
  {
   "cell_type": "markdown",
   "id": "7cf9f9f6-3e88-4da7-a2f6-ac28ad55ae76",
   "metadata": {},
   "source": [
    "<img src=\"../imgs/workflow_revise.png\" width=1200px>"
   ]
  },
  {
   "cell_type": "markdown",
   "id": "ae3943fe-cab2-4c89-b4e4-a170c75da195",
   "metadata": {},
   "source": [
    "(If you wonder why I have syntax highlighting in the Julia REPL, I'm using [OhMyREPL.jl](https://kristofferc.github.io/OhMyREPL.jl/latest/))"
   ]
  },
  {
   "cell_type": "markdown",
   "id": "2292fc8b-c52b-4096-8173-2cbddf97e387",
   "metadata": {},
   "source": [
    "Based on the [Revise.jl](https://github.com/timholy/Revise.jl) package by Tim Holy.\n",
    "\n",
    "* Open `julia`\n",
    "* Load Revise: `using Revise` (or put it in `~/.julia/config/startup.jl`, see [here](https://timholy.github.io/Revise.jl/stable/config/#Using-Revise-by-default-1))\n",
    "* Include your code with `includet(\"script.jl\")` instead of `include(\"script.jl\")\n",
    "  * Alternatively: `using MyPackage` if your code is in a package\n",
    "\n",
    "Whenever there is a change in `script.jl` (or the source code of your package) it will automatically be reflected in the running Julia session."
   ]
  },
  {
   "cell_type": "markdown",
   "id": "321bc509-972c-4ad3-a63b-a9cfd0b426de",
   "metadata": {},
   "source": [
    "**Pros**\n",
    "* interactivity\n",
    "* see changes almost immediately (small delay)\n",
    "* can use any editor\n",
    "\n",
    "**Cons**\n",
    "* has [limitations](https://timholy.github.io/Revise.jl/stable/limitations/#)\n",
    "  * changing `struct`s still requires a session restart\n",
    "\n",
    "This workflow: **Recommended if you like a minimal setup.**"
   ]
  },
  {
   "cell_type": "markdown",
   "id": "7f6c47f6-0069-4d39-9107-1e66e25f6d3e",
   "metadata": {},
   "source": [
    "## Visual Studio Code: IDE"
   ]
  },
  {
   "cell_type": "markdown",
   "id": "54eba788-729b-48fb-868f-861226a51bee",
   "metadata": {},
   "source": [
    "<img src=\"../imgs/workflow_vscode.png\" width=1200px>"
   ]
  },
  {
   "cell_type": "markdown",
   "id": "7874f327-b7d8-46b3-8dd6-347971c05185",
   "metadata": {},
   "source": [
    "(Image taken from https://www.julia-vscode.org/)"
   ]
  },
  {
   "cell_type": "markdown",
   "id": "2e154286-1892-4ae0-a968-a2327ff3e726",
   "metadata": {},
   "source": [
    "The [Julia extension](https://www.julia-vscode.org/) for VS Code is actively maintained.\n",
    "\n",
    "Basic introduction: [Julia in Visual Studio Code](https://code.visualstudio.com/docs/languages/julia)\n",
    "\n",
    "**Most important [Keybindings:](https://www.julia-vscode.org/docs/stable/userguide/keybindings/)**\n",
    "\n",
    "* Open integrated Julia REPL: `Alt-J Alt-O`\n",
    "* Kill integrated Julia REPL: `Alt-J Alt-K`\n",
    "* Restart integrated Julia REPL: `Alt-J Alt-R`\n",
    "* Execute a line/block of code: `Shift+Enter` and `Ctrl-Enter` (similar to Jupyter notebooks)"
   ]
  },
  {
   "cell_type": "markdown",
   "id": "57bb0efc-e021-429b-8a76-a0dc82bdf6a4",
   "metadata": {},
   "source": [
    "**Pros**\n",
    "* interactivity\n",
    "* lots of integrated features\n",
    "  * code completion (IntelliSense)\n",
    "  * documentation\n",
    "  * workspace view\n",
    "  * profiler\n",
    "  * debugger\n",
    "* (supports Jupyter notebooks as well)\n",
    "\n",
    "**Cons**\n",
    "* not as lightweight / minimal\n",
    "* can sometimes be a bit tricky to set up on remote servers\n",
    "  * especially on clusters due to SLURM / PBS and `module`s\n",
    "  * (PC2 documentation has [more information](https://uni-paderborn.atlassian.net/wiki/spaces/PC2DOK/pages/38240257/VS+Code+Remote+Usage), for HAWK it is more tricky)\n",
    "* integrated REPL takes noticeably longer to start due to VSCodeServer / LanguageServer\n",
    "\n",
    "This workflow: **Recommended for bigger development efforts.**"
   ]
  }
 ],
 "metadata": {
  "kernelspec": {
   "display_name": "Julia 1.8.0",
   "language": "julia",
   "name": "julia-1.8"
  },
  "language_info": {
   "file_extension": ".jl",
   "mimetype": "application/julia",
   "name": "julia",
   "version": "1.8.0"
  }
 },
 "nbformat": 4,
 "nbformat_minor": 5
}
