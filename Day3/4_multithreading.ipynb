{
 "cells": [
  {
   "cell_type": "markdown",
   "metadata": {},
   "source": [
    "# Multithreading"
   ]
  },
  {
   "cell_type": "markdown",
   "metadata": {},
   "source": [
    "## What are threads?\n",
    "Threads are execution units within a process that can run simultaneously.\n",
    "\n",
    "<img src=\"../imgs/processes_threads.png\" width=400px>\n",
    "\n",
    "While processes are entirely separate, threads run in a **shared memory** space."
   ]
  },
  {
   "cell_type": "markdown",
   "metadata": {},
   "source": [
    "## Starting Julia with multiple threads"
   ]
  },
  {
   "cell_type": "markdown",
   "metadata": {},
   "source": [
    "By default, Julia starts with a single *user thread*. We must tell it explicitly to start multiple user threads. There are two ways to do this:\n",
    "\n",
    "* Environment variable: `JULIA_NUM_THREADS=4`\n",
    "* Command line argument: `julia -t 4` or, equivalently, `julia --threads 4`\n",
    "\n",
    "**Jupyter lab:**\n",
    "\n",
    "The simplest way is to globally set the environment variable `JULIA_NUM_THREADS` (e.g. in the `.bashrc`). But one can also create a specific Jupyter kernel for multithreaded Julia:\n",
    "\n",
    "```julia\n",
    "using IJulia\n",
    "installkernel(\"Julia (4 threads)\", env=Dict(\"JULIA_NUM_THREADS\"=>\"4\"))\n",
    "```"
   ]
  },
  {
   "cell_type": "markdown",
   "metadata": {},
   "source": [
    "We can readily check how many threads we are running:"
   ]
  },
  {
   "cell_type": "code",
   "execution_count": 2,
   "metadata": {},
   "outputs": [
    {
     "data": {
      "text/plain": [
       "6"
      ]
     },
     "execution_count": 2,
     "metadata": {},
     "output_type": "execute_result"
    }
   ],
   "source": [
    "Threads.nthreads()"
   ]
  },
  {
   "cell_type": "markdown",
   "metadata": {},
   "source": [
    "### User threads vs default threads\n",
    "\n",
    "Technically, the Julia process is also spawning multiple threads already in \"single-threaded\" mode, like\n",
    "* a thread for unix signal listening\n",
    "* multiple OpenBLAS threads for BLAS/LAPACK operations\n",
    "\n",
    "For this reason, we call the threads specified via `--threads` or the environment variable *user threads* or simply *Julia threads*."
   ]
  },
  {
   "cell_type": "markdown",
   "metadata": {},
   "source": [
    "## Task-based multithreading\n",
    "\n",
    "Conceptually, Julia implements **task-based** multithreading. In this paradigm, a task - e.g. a computational piece of a code - is marked for parallel execution on **any** of the available Julia threads. Julias **dynamic scheduler** will automatically put the task on one of the threads and trigger the execution of the task on said thread.\n",
    "\n",
    "Ideally, **a user should think about tasks and not threads**.\n",
    "\n",
    "**Advantages:**\n",
    "* high-level and convenient\n",
    "* **composability / nestability** (Multithreaded code can call multithreaded code can call multithreaded code ....)\n",
    "\n",
    "**Disadvantages:**\n",
    "* **scheduling overhead**\n",
    "* can get in the way when performance engineering\n",
    "  * scheduler has limited information (e.g. about the system topology)\n",
    "  * low-level profiling (e.g. with LIKWID) currently requires a known task -> thread -> cpu core mapping.\n",
    "\n",
    "(Blog post: [Announcing composable multi-threaded parallelism in Julia](https://julialang.org/blog/2019/07/multithreading/))"
   ]
  },
  {
   "cell_type": "markdown",
   "metadata": {},
   "source": [
    "### Spawning tasks on threads: `Threads.@spawn`\n",
    "`Threads.@spawn` spawns a task on a Julia thread. Specifically, it creates (and immediately returns) a `Task` and schedules it for execution on an available Julia thread.\n",
    "\n",
    "Note the conceptual similarity between `Threads.@spawn` (task -> thread) and `Distributed.@spawn` (task -> process) and also `@async`."
   ]
  },
  {
   "cell_type": "markdown",
   "metadata": {},
   "source": [
    "To avoid having to prefix `Threads.` to `@spawn` (and other threading-related functions) let's load everything from `Base.Threads` into global scope."
   ]
  },
  {
   "cell_type": "code",
   "execution_count": 6,
   "metadata": {},
   "outputs": [],
   "source": [
    "using Base.Threads"
   ]
  },
  {
   "cell_type": "code",
   "execution_count": 12,
   "metadata": {},
   "outputs": [
    {
     "data": {
      "text/plain": [
       "Task (runnable) @0x0000000122238be0"
      ]
     },
     "execution_count": 12,
     "metadata": {},
     "output_type": "execute_result"
    },
    {
     "name": "stdout",
     "output_type": "stream",
     "text": [
      "test\n"
     ]
    }
   ],
   "source": [
    "@spawn println(\"test\")"
   ]
  },
  {
   "cell_type": "markdown",
   "metadata": {},
   "source": [
    "While `Threads.@spawn` returns the task right away - it is **non-blocking** - the result might only be fetchable after some time."
   ]
  },
  {
   "cell_type": "code",
   "execution_count": 13,
   "metadata": {},
   "outputs": [
    {
     "name": "stdout",
     "output_type": "stream",
     "text": [
      "  2.983837 seconds (92 allocations: 2.484 KiB)\n"
     ]
    },
    {
     "data": {
      "text/plain": [
       "\"result\""
      ]
     },
     "execution_count": 13,
     "metadata": {},
     "output_type": "execute_result"
    }
   ],
   "source": [
    "t = @spawn begin\n",
    "    sleep(3);\n",
    "    \"result\"\n",
    "end\n",
    "@time fetch(t)"
   ]
  },
  {
   "cell_type": "markdown",
   "metadata": {},
   "source": [
    "Note that we can use (some of) the control flow tools that we've already covered, like `@sync`."
   ]
  },
  {
   "cell_type": "code",
   "execution_count": 14,
   "metadata": {},
   "outputs": [
    {
     "name": "stdout",
     "output_type": "stream",
     "text": [
      "  0.000004 seconds\n"
     ]
    },
    {
     "data": {
      "text/plain": [
       "\"result\""
      ]
     },
     "execution_count": 14,
     "metadata": {},
     "output_type": "execute_result"
    }
   ],
   "source": [
    "@sync t = @spawn begin\n",
    "    sleep(3);\n",
    "    \"result\"\n",
    "end\n",
    "@time fetch(t)"
   ]
  },
  {
   "cell_type": "code",
   "execution_count": 16,
   "metadata": {},
   "outputs": [
    {
     "name": "stdout",
     "output_type": "stream",
     "text": [
      "Hi, I'm 2\n",
      "Hi, I'm 2\n",
      "Hi, I'm 3\n",
      "Hi, I'm 2\n",
      "Hi, I'm 3\n",
      "Hi, I'm 1\n",
      "Hi, I'm 3\n",
      "Hi, I'm 5\n",
      "Hi, I'm 2\n",
      "Hi, I'm 3\n",
      "Hi, I'm 6\n",
      "Hi, I'm 4\n"
     ]
    }
   ],
   "source": [
    "for i in 1:2*nthreads()\n",
    "    @spawn println(\"Hi, I'm \", threadid())\n",
    "end"
   ]
  },
  {
   "cell_type": "markdown",
   "metadata": {},
   "source": [
    "#### Example: Recursive Fibonacci series"
   ]
  },
  {
   "cell_type": "markdown",
   "metadata": {},
   "source": [
    "$$ F(n) = F(n-1) + F(n-2), \\qquad F(1) = F(2) = 1$$"
   ]
  },
  {
   "cell_type": "markdown",
   "metadata": {},
   "source": [
    "We can nest `@spawn` calls freely!"
   ]
  },
  {
   "cell_type": "code",
   "execution_count": 376,
   "metadata": {},
   "outputs": [
    {
     "data": {
      "text/plain": [
       "fib (generic function with 1 method)"
      ]
     },
     "execution_count": 376,
     "metadata": {},
     "output_type": "execute_result"
    }
   ],
   "source": [
    "function fib(n)\n",
    "    n < 2 && return n\n",
    "    t = @spawn fib(n-2)\n",
    "    return fib(n-1) + fetch(t)\n",
    "end"
   ]
  },
  {
   "cell_type": "code",
   "execution_count": 377,
   "metadata": {},
   "outputs": [
    {
     "data": {
      "text/plain": [
       "10-element Vector{Int64}:\n",
       "  1\n",
       "  1\n",
       "  2\n",
       "  3\n",
       "  5\n",
       "  8\n",
       " 13\n",
       " 21\n",
       " 34\n",
       " 55"
      ]
     },
     "execution_count": 377,
     "metadata": {},
     "output_type": "execute_result"
    }
   ],
   "source": [
    "fib.(1:10)"
   ]
  },
  {
   "cell_type": "markdown",
   "metadata": {},
   "source": [
    "(Note: Algorithmically, this is a highly inefficient implementation of the Fibonacci series, of course!)"
   ]
  },
  {
   "cell_type": "markdown",
   "metadata": {},
   "source": [
    "#### Example: `tmap` (like `pmap`)"
   ]
  },
  {
   "cell_type": "code",
   "execution_count": 163,
   "metadata": {},
   "outputs": [
    {
     "data": {
      "text/plain": [
       "tmap (generic function with 1 method)"
      ]
     },
     "execution_count": 163,
     "metadata": {},
     "output_type": "execute_result"
    }
   ],
   "source": [
    "tmap(fn, itr) = map(fetch, map(i -> Threads.@spawn(fn(i)), itr))"
   ]
  },
  {
   "cell_type": "code",
   "execution_count": 164,
   "metadata": {},
   "outputs": [],
   "source": [
    "using LinearAlgebra"
   ]
  },
  {
   "cell_type": "code",
   "execution_count": 165,
   "metadata": {},
   "outputs": [],
   "source": [
    "M = [rand(200,200) for i in 1:10];"
   ]
  },
  {
   "cell_type": "code",
   "execution_count": 166,
   "metadata": {},
   "outputs": [
    {
     "data": {
      "text/plain": [
       "10-element Vector{Vector{Float64}}:\n",
       " [100.60811761375204, 8.319089812385856, 8.025879726699115, 7.796859140344441, 7.658762645674932, 7.600153309396105, 7.553530331512132, 7.39792438600115, 7.346760664405365, 7.259178649746093  …  0.2886726764660279, 0.2687608082957344, 0.22971289650515983, 0.2133110500321399, 0.15354367465072735, 0.1286428248187923, 0.09095696866651948, 0.07148636256785483, 0.034667579378330475, 0.013843535355437557]\n",
       " [99.73974995711129, 8.011137667436232, 7.931470859127419, 7.773729949415014, 7.633025556883976, 7.540632073156559, 7.5218878604444095, 7.374181604975084, 7.317970545390329, 7.218960789770793  …  0.2946325274466059, 0.2824079598746635, 0.2439993055976124, 0.1936448250029453, 0.13117527411674246, 0.10884173326983343, 0.08969352690310105, 0.07986392116014085, 0.05547804762216748, 0.04227470670702852]\n",
       " [100.34323872726455, 8.001498049266624, 7.878230267714143, 7.730141414174457, 7.558778111720865, 7.496175884138509, 7.465529390422066, 7.401999628223538, 7.304719262377518, 7.240187976358545  …  0.3155180704287941, 0.2750085310363293, 0.2550695907724314, 0.21357561049306586, 0.17871384050284062, 0.15004897871574366, 0.1233507627649224, 0.08609526019135588, 0.051579158075164146, 0.043156113849842116]\n",
       " [100.07673370093738, 7.936986368462814, 7.839986440244097, 7.704885025132193, 7.588539168876531, 7.566652035428292, 7.507784950273895, 7.422233989182334, 7.381348095949419, 7.342690468573951  …  0.30387966629042357, 0.24708251592160824, 0.20233417246256397, 0.19541352572188894, 0.15205231209470615, 0.1364511764596836, 0.11884674017453738, 0.09520783236982278, 0.04113216894702014, 0.019107560721246548]\n",
       " [100.60272506261694, 8.130861963370686, 7.935401330791798, 7.749938232661016, 7.699981773251209, 7.57893785776707, 7.493201581179232, 7.353398538024534, 7.348107636684823, 7.269080037627301  …  0.29381381272820056, 0.2570424549232945, 0.23633911436708416, 0.22511729009499992, 0.19853666425118288, 0.17586103828977268, 0.1415788058287943, 0.0980037594428969, 0.05055775331681942, 0.036168860934606153]\n",
       " [99.66416485178097, 7.974074023859515, 7.943283236691633, 7.79103046901129, 7.741588033514757, 7.615183632550725, 7.53996474303496, 7.382653963078885, 7.340102820757383, 7.224018349674054  …  0.32609583992136276, 0.26375792199508363, 0.23417701312491904, 0.2096656277028739, 0.17502152864629192, 0.14217023918294114, 0.0857037747877691, 0.0664170966757648, 0.056781728413569835, 0.006951037743805352]\n",
       " [99.92625805944452, 7.96072836591754, 7.857527076118156, 7.809982639976577, 7.593494235432327, 7.5088018362896625, 7.421908918070911, 7.310969355821821, 7.259254748874329, 7.177783640278255  …  0.3052906210483227, 0.26140691216671996, 0.233549561781884, 0.18739521885215424, 0.16718025334794528, 0.15274711099104038, 0.11724491596001974, 0.06297647156764209, 0.031665360571482275, 0.015997507607481833]\n",
       " [100.15800318634479, 7.968849569766454, 7.798137512152294, 7.787482893530857, 7.672434059869298, 7.564247776603152, 7.49387168373508, 7.472984177650354, 7.344905565494622, 7.299916856146716  …  0.2776237002935762, 0.25388142703236743, 0.24440628863080963, 0.1842891348629399, 0.1729429500644069, 0.14399803290660343, 0.10167553972093198, 0.08552644193429176, 0.06330319471891352, 0.027213307756347494]\n",
       " [100.08139990847354, 8.084616619652794, 7.778040546540451, 7.685464457413884, 7.641952251011146, 7.560334006813225, 7.457548443878477, 7.455444028599563, 7.330696904759507, 7.26375947745581  …  0.2836414204235208, 0.2631511250094514, 0.22777336790733713, 0.19269755935169497, 0.1617062912145952, 0.14192606694196064, 0.11321964098508977, 0.06934485703042324, 0.03171792124957174, 0.024977480340545685]\n",
       " [100.2113930050827, 7.9213848318809355, 7.855026026811348, 7.78606236044864, 7.6233943494033225, 7.596071801232738, 7.470119063680583, 7.377893150112941, 7.352569620897233, 7.24887387563118  …  0.3111806820581157, 0.274954385427435, 0.24697160486990144, 0.22391679837949888, 0.2023679315747454, 0.1647489093027905, 0.09169203825354708, 0.08070369614351085, 0.030858864220489904, 0.01626876449502548]"
      ]
     },
     "execution_count": 166,
     "metadata": {},
     "output_type": "execute_result"
    }
   ],
   "source": [
    "tmap(svdvals, M)"
   ]
  },
  {
   "cell_type": "code",
   "execution_count": 167,
   "metadata": {},
   "outputs": [
    {
     "name": "stdout",
     "output_type": "stream",
     "text": [
      "4 (1)\n",
      "3 (4)\n",
      "6 (5)\n",
      "2 (3)\n",
      "10 (4)\n",
      "5 (4)\n",
      "8 (1)\n",
      "7 (1)\n",
      "1 (6)\n",
      "9 (2)\n"
     ]
    }
   ],
   "source": [
    "tmap(i -> println(i, \" ($(threadid()))\"), 1:10);"
   ]
  },
  {
   "cell_type": "markdown",
   "metadata": {},
   "source": [
    "Note, however, that this implementation creates temporary allocations and thus isn't particularly efficient."
   ]
  },
  {
   "cell_type": "code",
   "execution_count": 168,
   "metadata": {},
   "outputs": [
    {
     "name": "stdout",
     "output_type": "stream",
     "text": [
      "  23.608 ms (145 allocations: 4.22 MiB)\n",
      "  58.396 ms (81 allocations: 4.22 MiB)\n"
     ]
    }
   ],
   "source": [
    "@btime tmap($svdvals, $M);\n",
    "@btime map($svdvals, $M);"
   ]
  },
  {
   "cell_type": "markdown",
   "metadata": {},
   "source": [
    "#### Remarks on `@spawn`"
   ]
  },
  {
   "cell_type": "markdown",
   "metadata": {},
   "source": [
    "* **Task migration**: Not only does the scheduler dynamically assign tasks to Julia threads, but it is also free to move tasks between threads. Hence, `threadid()` isn't necessarily constant over time and should be used with care!\n",
    "* **Spawning tasks on specific threads**: Julia doesn't have a built-in tool for this (as of now). However, some packages like [ThreadPinning.jl](https://github.com/carstenbauer/ThreadPinning.jl) export `@tspawnat <threadid> ...` which allows to spawn *sticky* tasks."
   ]
  },
  {
   "cell_type": "code",
   "execution_count": 145,
   "metadata": {},
   "outputs": [
    {
     "data": {
      "text/plain": [
       "Task (runnable) @0x0000000124402620"
      ]
     },
     "execution_count": 145,
     "metadata": {},
     "output_type": "execute_result"
    },
    {
     "name": "stdout",
     "output_type": "stream",
     "text": [
      "running on thread 3\n"
     ]
    }
   ],
   "source": [
    "using ThreadPinning\n",
    "\n",
    "@tspawnat 3 println(\"running on thread \", threadid())"
   ]
  },
  {
   "cell_type": "markdown",
   "metadata": {},
   "source": [
    "### Multithreading for-loops: `@threads`"
   ]
  },
  {
   "cell_type": "markdown",
   "metadata": {},
   "source": [
    "Higher level interface to multithreading. (Compare `Distributed.@spawnat` vs `@distributed`)"
   ]
  },
  {
   "cell_type": "code",
   "execution_count": 148,
   "metadata": {},
   "outputs": [
    {
     "name": "stdout",
     "output_type": "stream",
     "text": [
      "Hi, I'm 2\n",
      "Hi, I'm 1\n",
      "Hi, I'm 2\n",
      "Hi, I'm 5\n",
      "Hi, I'm 6\n",
      "Hi, I'm 4\n",
      "Hi, I'm 6\n",
      "Hi, I'm 3\n",
      "Hi, I'm 2\n",
      "Hi, I'm 3\n",
      "Hi, I'm 4\n",
      "Hi, I'm 5\n"
     ]
    }
   ],
   "source": [
    "@threads for i in 1:2*nthreads()\n",
    "    println(\"Hi, I'm \", threadid())\n",
    "end"
   ]
  },
  {
   "cell_type": "code",
   "execution_count": 380,
   "metadata": {},
   "outputs": [
    {
     "name": "stdout",
     "output_type": "stream",
     "text": [
      "  303.735 μs (0 allocations: 0 bytes)\n",
      "  106.622 μs (37 allocations: 2.91 KiB)\n"
     ]
    }
   ],
   "source": [
    "using BenchmarkTools\n",
    "\n",
    "function square!(x)\n",
    "    for i in eachindex(x)\n",
    "        x[i] = x[i]^2\n",
    "    end\n",
    "end\n",
    "\n",
    "function square_threads!(x)\n",
    "    @threads for i in eachindex(x)\n",
    "        x[i] = x[i]^2\n",
    "    end\n",
    "end\n",
    "\n",
    "x = rand(1_000_000)\n",
    "@btime square!($x);\n",
    "@btime square_threads!($x);"
   ]
  },
  {
   "cell_type": "markdown",
   "metadata": {},
   "source": [
    "#### Scheduling options\n",
    "\n",
    "Syntax: `@threads [schedule] for ...`\n",
    "\n",
    "  * `:dynamic` (default)\n",
    "    * creates O(`nthreads()`) many tasks each processing a contigious region of the iteration space\n",
    "    * each task essentially spawned with `@spawn`\n",
    "      * -> task migration\n",
    "      * -> composability / nestability\n",
    "    \n",
    "  * `:static`\n",
    "    * evenly splits up the iteration space and creates one task per block\n",
    "    * **statically** maps tasks to threads, specifically: task 1 -> thread 1, task 2 -> thread 2, etc.\n",
    "      * -> no task migration, i.e. **fixed task-thread mapping**\n",
    "      * -> not composable / nestable\n",
    "      * -> only little overhead"
   ]
  },
  {
   "cell_type": "code",
   "execution_count": 161,
   "metadata": {},
   "outputs": [
    {
     "name": "stdout",
     "output_type": "stream",
     "text": [
      "7 -> thread 1\n",
      "1 -> thread 2\n",
      "9 -> thread 6\n",
      "8 -> thread 2\n",
      "11 -> thread 5\n",
      "12 -> thread 5\n",
      "2 -> thread 6\n",
      "5 -> thread 4\n",
      "6 -> thread 6\n",
      "10 -> thread 2\n",
      "3 -> thread 3\n",
      "4 -> thread 4\n"
     ]
    }
   ],
   "source": [
    "@threads :dynamic for i in 1:2*nthreads()\n",
    "    println(i, \" -> thread \", threadid())\n",
    "end"
   ]
  },
  {
   "cell_type": "code",
   "execution_count": 160,
   "metadata": {},
   "outputs": [
    {
     "name": "stdout",
     "output_type": "stream",
     "text": [
      "1 -> thread 1\n",
      "2 -> thread 1\n",
      "5 -> thread 3\n",
      "3 -> thread 2\n",
      "6 -> thread 3\n",
      "4 -> thread 2\n",
      "9 -> thread 5\n",
      "10 -> thread 5\n",
      "11 -> thread 6\n",
      "12 -> thread 6\n",
      "7 -> thread 4\n",
      "8 -> thread 4\n"
     ]
    }
   ],
   "source": [
    "@threads :static for i in 1:2*nthreads()\n",
    "    println(i, \" -> thread \", threadid())\n",
    "end"
   ]
  },
  {
   "cell_type": "markdown",
   "metadata": {},
   "source": [
    "For `@threads :static`, every thread handles precisely two iterations!"
   ]
  },
  {
   "cell_type": "code",
   "execution_count": 328,
   "metadata": {},
   "outputs": [
    {
     "name": "stdout",
     "output_type": "stream",
     "text": [
      "1, 3\n",
      "3, 2\n",
      "1, 1\n",
      "2, 2\n",
      "3, 1\n",
      "2, 3\n",
      "1, 2\n",
      "2, 1\n",
      "3, 3\n"
     ]
    }
   ],
   "source": [
    "@threads :dynamic for i in 1:3\n",
    "    @threads :dynamic for j in 1:3\n",
    "        println(\"$i, $j\")\n",
    "    end\n",
    "end"
   ]
  },
  {
   "cell_type": "code",
   "execution_count": 329,
   "metadata": {},
   "outputs": [
    {
     "ename": "LoadError",
     "evalue": "TaskFailedException\n\n\u001b[91m    nested task error: \u001b[39m`@threads :static` cannot be used concurrently or nested\n    Stacktrace:\n     [1] \u001b[0m\u001b[1merror\u001b[22m\u001b[0m\u001b[1m(\u001b[22m\u001b[90ms\u001b[39m::\u001b[0mString\u001b[0m\u001b[1m)\u001b[22m\n    \u001b[90m   @ \u001b[39m\u001b[90mBase\u001b[39m \u001b[90m./\u001b[39m\u001b[90m\u001b[4merror.jl:35\u001b[24m\u001b[39m\n     [2] \u001b[0m\u001b[1mmacro expansion\u001b[22m\n    \u001b[90m   @ \u001b[39m\u001b[90m./\u001b[39m\u001b[90m\u001b[4mthreadingconstructs.jl:91\u001b[24m\u001b[39m\u001b[90m [inlined]\u001b[39m\n     [3] \u001b[0m\u001b[1mmacro expansion\u001b[22m\n    \u001b[90m   @ \u001b[39m\u001b[90m./\u001b[39m\u001b[90m\u001b[4mIn[329]:2\u001b[24m\u001b[39m\u001b[90m [inlined]\u001b[39m\n     [4] \u001b[0m\u001b[1m(::var\"#811#threadsfor_fun#412\"{var\"#811#threadsfor_fun#410#413\"{UnitRange{Int64}}})\u001b[22m\u001b[0m\u001b[1m(\u001b[22m\u001b[90mtid\u001b[39m::\u001b[0mInt64; \u001b[90monethread\u001b[39m::\u001b[0mBool\u001b[0m\u001b[1m)\u001b[22m\n    \u001b[90m   @ \u001b[39m\u001b[35mMain\u001b[39m \u001b[90m./\u001b[39m\u001b[90m\u001b[4mthreadingconstructs.jl:84\u001b[24m\u001b[39m\n     [5] \u001b[0m\u001b[1m#811#threadsfor_fun\u001b[22m\n    \u001b[90m   @ \u001b[39m\u001b[90m./\u001b[39m\u001b[90m\u001b[4mthreadingconstructs.jl:51\u001b[24m\u001b[39m\u001b[90m [inlined]\u001b[39m\n     [6] \u001b[0m\u001b[1m(::Base.Threads.var\"#1#2\"{var\"#811#threadsfor_fun#412\"{var\"#811#threadsfor_fun#410#413\"{UnitRange{Int64}}}, Int64})\u001b[22m\u001b[0m\u001b[1m(\u001b[22m\u001b[0m\u001b[1m)\u001b[22m\n    \u001b[90m   @ \u001b[39m\u001b[90mBase.Threads\u001b[39m \u001b[90m./\u001b[39m\u001b[90m\u001b[4mthreadingconstructs.jl:30\u001b[24m\u001b[39m",
     "output_type": "error",
     "traceback": [
      "TaskFailedException\n\n\u001b[91m    nested task error: \u001b[39m`@threads :static` cannot be used concurrently or nested\n    Stacktrace:\n     [1] \u001b[0m\u001b[1merror\u001b[22m\u001b[0m\u001b[1m(\u001b[22m\u001b[90ms\u001b[39m::\u001b[0mString\u001b[0m\u001b[1m)\u001b[22m\n    \u001b[90m   @ \u001b[39m\u001b[90mBase\u001b[39m \u001b[90m./\u001b[39m\u001b[90m\u001b[4merror.jl:35\u001b[24m\u001b[39m\n     [2] \u001b[0m\u001b[1mmacro expansion\u001b[22m\n    \u001b[90m   @ \u001b[39m\u001b[90m./\u001b[39m\u001b[90m\u001b[4mthreadingconstructs.jl:91\u001b[24m\u001b[39m\u001b[90m [inlined]\u001b[39m\n     [3] \u001b[0m\u001b[1mmacro expansion\u001b[22m\n    \u001b[90m   @ \u001b[39m\u001b[90m./\u001b[39m\u001b[90m\u001b[4mIn[329]:2\u001b[24m\u001b[39m\u001b[90m [inlined]\u001b[39m\n     [4] \u001b[0m\u001b[1m(::var\"#811#threadsfor_fun#412\"{var\"#811#threadsfor_fun#410#413\"{UnitRange{Int64}}})\u001b[22m\u001b[0m\u001b[1m(\u001b[22m\u001b[90mtid\u001b[39m::\u001b[0mInt64; \u001b[90monethread\u001b[39m::\u001b[0mBool\u001b[0m\u001b[1m)\u001b[22m\n    \u001b[90m   @ \u001b[39m\u001b[35mMain\u001b[39m \u001b[90m./\u001b[39m\u001b[90m\u001b[4mthreadingconstructs.jl:84\u001b[24m\u001b[39m\n     [5] \u001b[0m\u001b[1m#811#threadsfor_fun\u001b[22m\n    \u001b[90m   @ \u001b[39m\u001b[90m./\u001b[39m\u001b[90m\u001b[4mthreadingconstructs.jl:51\u001b[24m\u001b[39m\u001b[90m [inlined]\u001b[39m\n     [6] \u001b[0m\u001b[1m(::Base.Threads.var\"#1#2\"{var\"#811#threadsfor_fun#412\"{var\"#811#threadsfor_fun#410#413\"{UnitRange{Int64}}}, Int64})\u001b[22m\u001b[0m\u001b[1m(\u001b[22m\u001b[0m\u001b[1m)\u001b[22m\n    \u001b[90m   @ \u001b[39m\u001b[90mBase.Threads\u001b[39m \u001b[90m./\u001b[39m\u001b[90m\u001b[4mthreadingconstructs.jl:30\u001b[24m\u001b[39m",
      "",
      "Stacktrace:",
      " [1] wait",
      "   @ ./task.jl:345 [inlined]",
      " [2] threading_run(fun::var\"#811#threadsfor_fun#412\"{var\"#811#threadsfor_fun#410#413\"{UnitRange{Int64}}}, static::Bool)",
      "   @ Base.Threads ./threadingconstructs.jl:38",
      " [3] top-level scope",
      "   @ ./threadingconstructs.jl:93",
      " [4] eval",
      "   @ ./boot.jl:368 [inlined]",
      " [5] include_string(mapexpr::typeof(REPL.softscope), mod::Module, code::String, filename::String)",
      "   @ Base ./loading.jl:1428"
     ]
    }
   ],
   "source": [
    "@threads :static for i in 1:3\n",
    "    @threads :static for j in 1:3\n",
    "        println(\"$i, $j\")\n",
    "    end\n",
    "end"
   ]
  },
  {
   "cell_type": "markdown",
   "metadata": {},
   "source": [
    "### Load-balancing"
   ]
  },
  {
   "cell_type": "code",
   "execution_count": 319,
   "metadata": {},
   "outputs": [
    {
     "data": {
      "text/plain": [
       "compute_nonuniform_spawn! (generic function with 3 methods)"
      ]
     },
     "execution_count": 319,
     "metadata": {},
     "output_type": "execute_result"
    }
   ],
   "source": [
    "function compute_nonuniform_spawn!(a, niter = zeros(Int, nthreads()), load = zeros(Int, nthreads()))\n",
    "    @sync for i in 1:length(a)\n",
    "        Threads.@spawn begin\n",
    "            a[i] = sum(abs2, rand() for j in 1:i)\n",
    "            \n",
    "            # only for bookkeeping\n",
    "            niter[threadid()] += 1\n",
    "            load[threadid()] += i\n",
    "        end\n",
    "    end\n",
    "    return niter, load\n",
    "end"
   ]
  },
  {
   "cell_type": "code",
   "execution_count": 322,
   "metadata": {},
   "outputs": [
    {
     "data": {
      "text/plain": [
       "([0, 69, 28, 11, 12, 0], [0, 3488, 2032, 964, 776, 0])"
      ]
     },
     "execution_count": 322,
     "metadata": {},
     "output_type": "execute_result"
    }
   ],
   "source": [
    "a = zeros(nthreads()*20)\n",
    "niter, load = compute_nonuniform_spawn!(a)"
   ]
  },
  {
   "cell_type": "code",
   "execution_count": 323,
   "metadata": {},
   "outputs": [
    {
     "data": {
      "image/svg+xml": [
       "<?xml version=\"1.0\" encoding=\"utf-8\"?>\n",
       "<svg xmlns=\"http://www.w3.org/2000/svg\" xmlns:xlink=\"http://www.w3.org/1999/xlink\" width=\"600\" height=\"400\" viewBox=\"0 0 2400 1600\">\n",
       "<defs>\n",
       "  <clipPath id=\"clip250\">\n",
       "    <rect x=\"0\" y=\"0\" width=\"2400\" height=\"1600\"/>\n",
       "  </clipPath>\n",
       "</defs>\n",
       "<path clip-path=\"url(#clip250)\" d=\"\n",
       "M0 1600 L2400 1600 L2400 0 L0 0  Z\n",
       "  \" fill=\"#ffffff\" fill-rule=\"evenodd\" fill-opacity=\"1\"/>\n",
       "<defs>\n",
       "  <clipPath id=\"clip251\">\n",
       "    <rect x=\"480\" y=\"0\" width=\"1681\" height=\"1600\"/>\n",
       "  </clipPath>\n",
       "</defs>\n",
       "<path clip-path=\"url(#clip250)\" d=\"\n",
       "M205.121 1423.18 L2352.76 1423.18 L2352.76 123.472 L205.121 123.472  Z\n",
       "  \" fill=\"#ffffff\" fill-rule=\"evenodd\" fill-opacity=\"1\"/>\n",
       "<defs>\n",
       "  <clipPath id=\"clip252\">\n",
       "    <rect x=\"205\" y=\"123\" width=\"2149\" height=\"1301\"/>\n",
       "  </clipPath>\n",
       "</defs>\n",
       "<polyline clip-path=\"url(#clip252)\" style=\"stroke:#000000; stroke-linecap:butt; stroke-linejoin:round; stroke-width:2; stroke-opacity:0.1; fill:none\" points=\"\n",
       "  455.065,1423.18 455.065,123.472 \n",
       "  \"/>\n",
       "<polyline clip-path=\"url(#clip252)\" style=\"stroke:#000000; stroke-linecap:butt; stroke-linejoin:round; stroke-width:2; stroke-opacity:0.1; fill:none\" points=\"\n",
       "  784.614,1423.18 784.614,123.472 \n",
       "  \"/>\n",
       "<polyline clip-path=\"url(#clip252)\" style=\"stroke:#000000; stroke-linecap:butt; stroke-linejoin:round; stroke-width:2; stroke-opacity:0.1; fill:none\" points=\"\n",
       "  1114.16,1423.18 1114.16,123.472 \n",
       "  \"/>\n",
       "<polyline clip-path=\"url(#clip252)\" style=\"stroke:#000000; stroke-linecap:butt; stroke-linejoin:round; stroke-width:2; stroke-opacity:0.1; fill:none\" points=\"\n",
       "  1443.71,1423.18 1443.71,123.472 \n",
       "  \"/>\n",
       "<polyline clip-path=\"url(#clip252)\" style=\"stroke:#000000; stroke-linecap:butt; stroke-linejoin:round; stroke-width:2; stroke-opacity:0.1; fill:none\" points=\"\n",
       "  1773.26,1423.18 1773.26,123.472 \n",
       "  \"/>\n",
       "<polyline clip-path=\"url(#clip252)\" style=\"stroke:#000000; stroke-linecap:butt; stroke-linejoin:round; stroke-width:2; stroke-opacity:0.1; fill:none\" points=\"\n",
       "  2102.81,1423.18 2102.81,123.472 \n",
       "  \"/>\n",
       "<polyline clip-path=\"url(#clip250)\" style=\"stroke:#000000; stroke-linecap:butt; stroke-linejoin:round; stroke-width:4; stroke-opacity:1; fill:none\" points=\"\n",
       "  205.121,1423.18 2352.76,1423.18 \n",
       "  \"/>\n",
       "<polyline clip-path=\"url(#clip250)\" style=\"stroke:#000000; stroke-linecap:butt; stroke-linejoin:round; stroke-width:4; stroke-opacity:1; fill:none\" points=\"\n",
       "  455.065,1423.18 455.065,1404.28 \n",
       "  \"/>\n",
       "<polyline clip-path=\"url(#clip250)\" style=\"stroke:#000000; stroke-linecap:butt; stroke-linejoin:round; stroke-width:4; stroke-opacity:1; fill:none\" points=\"\n",
       "  784.614,1423.18 784.614,1404.28 \n",
       "  \"/>\n",
       "<polyline clip-path=\"url(#clip250)\" style=\"stroke:#000000; stroke-linecap:butt; stroke-linejoin:round; stroke-width:4; stroke-opacity:1; fill:none\" points=\"\n",
       "  1114.16,1423.18 1114.16,1404.28 \n",
       "  \"/>\n",
       "<polyline clip-path=\"url(#clip250)\" style=\"stroke:#000000; stroke-linecap:butt; stroke-linejoin:round; stroke-width:4; stroke-opacity:1; fill:none\" points=\"\n",
       "  1443.71,1423.18 1443.71,1404.28 \n",
       "  \"/>\n",
       "<polyline clip-path=\"url(#clip250)\" style=\"stroke:#000000; stroke-linecap:butt; stroke-linejoin:round; stroke-width:4; stroke-opacity:1; fill:none\" points=\"\n",
       "  1773.26,1423.18 1773.26,1404.28 \n",
       "  \"/>\n",
       "<polyline clip-path=\"url(#clip250)\" style=\"stroke:#000000; stroke-linecap:butt; stroke-linejoin:round; stroke-width:4; stroke-opacity:1; fill:none\" points=\"\n",
       "  2102.81,1423.18 2102.81,1404.28 \n",
       "  \"/>\n",
       "<path clip-path=\"url(#clip250)\" d=\"M445.447 1481.64 L453.085 1481.64 L453.085 1455.28 L444.775 1456.95 L444.775 1452.69 L453.039 1451.02 L457.715 1451.02 L457.715 1481.64 L465.354 1481.64 L465.354 1485.58 L445.447 1485.58 L445.447 1481.64 Z\" fill=\"#000000\" fill-rule=\"evenodd\" fill-opacity=\"1\" /><path clip-path=\"url(#clip250)\" d=\"M779.267 1481.64 L795.586 1481.64 L795.586 1485.58 L773.642 1485.58 L773.642 1481.64 Q776.304 1478.89 780.887 1474.26 Q785.494 1469.61 786.674 1468.27 Q788.92 1465.74 789.799 1464.01 Q790.702 1462.25 790.702 1460.56 Q790.702 1457.8 788.758 1456.07 Q786.836 1454.33 783.734 1454.33 Q781.535 1454.33 779.082 1455.09 Q776.651 1455.86 773.873 1457.41 L773.873 1452.69 Q776.697 1451.55 779.151 1450.97 Q781.605 1450.39 783.642 1450.39 Q789.012 1450.39 792.207 1453.08 Q795.401 1455.77 795.401 1460.26 Q795.401 1462.39 794.591 1464.31 Q793.804 1466.2 791.697 1468.8 Q791.119 1469.47 788.017 1472.69 Q784.915 1475.88 779.267 1481.64 Z\" fill=\"#000000\" fill-rule=\"evenodd\" fill-opacity=\"1\" /><path clip-path=\"url(#clip250)\" d=\"M1118.41 1466.95 Q1121.77 1467.66 1123.64 1469.93 Q1125.54 1472.2 1125.54 1475.53 Q1125.54 1480.65 1122.02 1483.45 Q1118.5 1486.25 1112.02 1486.25 Q1109.85 1486.25 1107.53 1485.81 Q1105.24 1485.39 1102.79 1484.54 L1102.79 1480.02 Q1104.73 1481.16 1107.05 1481.74 Q1109.36 1482.32 1111.88 1482.32 Q1116.28 1482.32 1118.57 1480.58 Q1120.89 1478.84 1120.89 1475.53 Q1120.89 1472.48 1118.74 1470.77 Q1116.61 1469.03 1112.79 1469.03 L1108.76 1469.03 L1108.76 1465.19 L1112.97 1465.19 Q1116.42 1465.19 1118.25 1463.82 Q1120.08 1462.43 1120.08 1459.84 Q1120.08 1457.18 1118.18 1455.77 Q1116.3 1454.33 1112.79 1454.33 Q1110.87 1454.33 1108.67 1454.75 Q1106.47 1455.16 1103.83 1456.04 L1103.83 1451.88 Q1106.49 1451.14 1108.8 1450.77 Q1111.14 1450.39 1113.2 1450.39 Q1118.53 1450.39 1121.63 1452.83 Q1124.73 1455.23 1124.73 1459.35 Q1124.73 1462.22 1123.09 1464.21 Q1121.44 1466.18 1118.41 1466.95 Z\" fill=\"#000000\" fill-rule=\"evenodd\" fill-opacity=\"1\" /><path clip-path=\"url(#clip250)\" d=\"M1446.72 1455.09 L1434.92 1473.54 L1446.72 1473.54 L1446.72 1455.09 M1445.5 1451.02 L1451.38 1451.02 L1451.38 1473.54 L1456.31 1473.54 L1456.31 1477.43 L1451.38 1477.43 L1451.38 1485.58 L1446.72 1485.58 L1446.72 1477.43 L1431.12 1477.43 L1431.12 1472.92 L1445.5 1451.02 Z\" fill=\"#000000\" fill-rule=\"evenodd\" fill-opacity=\"1\" /><path clip-path=\"url(#clip250)\" d=\"M1763.54 1451.02 L1781.9 1451.02 L1781.9 1454.96 L1767.82 1454.96 L1767.82 1463.43 Q1768.84 1463.08 1769.86 1462.92 Q1770.88 1462.73 1771.9 1462.73 Q1777.68 1462.73 1781.06 1465.9 Q1784.44 1469.08 1784.44 1474.49 Q1784.44 1480.07 1780.97 1483.17 Q1777.5 1486.25 1771.18 1486.25 Q1769 1486.25 1766.74 1485.88 Q1764.49 1485.51 1762.08 1484.77 L1762.08 1480.07 Q1764.17 1481.2 1766.39 1481.76 Q1768.61 1482.32 1771.09 1482.32 Q1775.09 1482.32 1777.43 1480.21 Q1779.77 1478.1 1779.77 1474.49 Q1779.77 1470.88 1777.43 1468.77 Q1775.09 1466.67 1771.09 1466.67 Q1769.21 1466.67 1767.34 1467.08 Q1765.49 1467.5 1763.54 1468.38 L1763.54 1451.02 Z\" fill=\"#000000\" fill-rule=\"evenodd\" fill-opacity=\"1\" /><path clip-path=\"url(#clip250)\" d=\"M2103.22 1466.44 Q2100.07 1466.44 2098.22 1468.59 Q2096.39 1470.74 2096.39 1474.49 Q2096.39 1478.22 2098.22 1480.39 Q2100.07 1482.55 2103.22 1482.55 Q2106.37 1482.55 2108.19 1480.39 Q2110.05 1478.22 2110.05 1474.49 Q2110.05 1470.74 2108.19 1468.59 Q2106.37 1466.44 2103.22 1466.44 M2112.5 1451.78 L2112.5 1456.04 Q2110.74 1455.21 2108.93 1454.77 Q2107.15 1454.33 2105.39 1454.33 Q2100.76 1454.33 2098.31 1457.45 Q2095.88 1460.58 2095.53 1466.9 Q2096.9 1464.89 2098.96 1463.82 Q2101.02 1462.73 2103.5 1462.73 Q2108.7 1462.73 2111.71 1465.9 Q2114.75 1469.05 2114.75 1474.49 Q2114.75 1479.82 2111.6 1483.03 Q2108.45 1486.25 2103.22 1486.25 Q2097.22 1486.25 2094.05 1481.67 Q2090.88 1477.06 2090.88 1468.33 Q2090.88 1460.14 2094.77 1455.28 Q2098.66 1450.39 2105.21 1450.39 Q2106.97 1450.39 2108.75 1450.74 Q2110.56 1451.09 2112.5 1451.78 Z\" fill=\"#000000\" fill-rule=\"evenodd\" fill-opacity=\"1\" /><path clip-path=\"url(#clip250)\" d=\"M1156.38 1522.27 L1156.38 1532.4 L1168.45 1532.4 L1168.45 1536.95 L1156.38 1536.95 L1156.38 1556.3 Q1156.38 1560.66 1157.56 1561.9 Q1158.77 1563.14 1162.43 1563.14 L1168.45 1563.14 L1168.45 1568.04 L1162.43 1568.04 Q1155.65 1568.04 1153.07 1565.53 Q1150.49 1562.98 1150.49 1556.3 L1150.49 1536.95 L1146.2 1536.95 L1146.2 1532.4 L1150.49 1532.4 L1150.49 1522.27 L1156.38 1522.27 Z\" fill=\"#000000\" fill-rule=\"evenodd\" fill-opacity=\"1\" /><path clip-path=\"url(#clip250)\" d=\"M1205.78 1546.53 L1205.78 1568.04 L1199.92 1568.04 L1199.92 1546.72 Q1199.92 1541.66 1197.95 1539.14 Q1195.98 1536.63 1192.03 1536.63 Q1187.29 1536.63 1184.55 1539.65 Q1181.81 1542.68 1181.81 1547.9 L1181.81 1568.04 L1175.93 1568.04 L1175.93 1518.52 L1181.81 1518.52 L1181.81 1537.93 Q1183.91 1534.72 1186.75 1533.13 Q1189.61 1531.54 1193.34 1531.54 Q1199.48 1531.54 1202.63 1535.36 Q1205.78 1539.14 1205.78 1546.53 Z\" fill=\"#000000\" fill-rule=\"evenodd\" fill-opacity=\"1\" /><path clip-path=\"url(#clip250)\" d=\"M1238.12 1537.87 Q1237.13 1537.3 1235.95 1537.04 Q1234.81 1536.76 1233.41 1536.76 Q1228.44 1536.76 1225.77 1540 Q1223.13 1543.22 1223.13 1549.27 L1223.13 1568.04 L1217.24 1568.04 L1217.24 1532.4 L1223.13 1532.4 L1223.13 1537.93 Q1224.97 1534.69 1227.93 1533.13 Q1230.89 1531.54 1235.13 1531.54 Q1235.73 1531.54 1236.46 1531.63 Q1237.2 1531.7 1238.09 1531.85 L1238.12 1537.87 Z\" fill=\"#000000\" fill-rule=\"evenodd\" fill-opacity=\"1\" /><path clip-path=\"url(#clip250)\" d=\"M1273.32 1548.76 L1273.32 1551.62 L1246.39 1551.62 Q1246.78 1557.67 1250.02 1560.85 Q1253.3 1564 1259.13 1564 Q1262.5 1564 1265.65 1563.17 Q1268.83 1562.35 1271.95 1560.69 L1271.95 1566.23 Q1268.8 1567.57 1265.49 1568.27 Q1262.18 1568.97 1258.78 1568.97 Q1250.25 1568.97 1245.25 1564 Q1240.28 1559.04 1240.28 1550.57 Q1240.28 1541.82 1244.99 1536.69 Q1249.74 1531.54 1257.76 1531.54 Q1264.95 1531.54 1269.12 1536.18 Q1273.32 1540.8 1273.32 1548.76 M1267.46 1547.04 Q1267.4 1542.23 1264.76 1539.37 Q1262.15 1536.5 1257.82 1536.5 Q1252.92 1536.5 1249.96 1539.27 Q1247.03 1542.04 1246.58 1547.07 L1267.46 1547.04 Z\" fill=\"#000000\" fill-rule=\"evenodd\" fill-opacity=\"1\" /><path clip-path=\"url(#clip250)\" d=\"M1299.13 1550.12 Q1292.04 1550.12 1289.3 1551.75 Q1286.56 1553.37 1286.56 1557.29 Q1286.56 1560.4 1288.6 1562.25 Q1290.67 1564.07 1294.2 1564.07 Q1299.07 1564.07 1302 1560.63 Q1304.96 1557.16 1304.96 1551.43 L1304.96 1550.12 L1299.13 1550.12 M1310.81 1547.71 L1310.81 1568.04 L1304.96 1568.04 L1304.96 1562.63 Q1302.95 1565.88 1299.96 1567.44 Q1296.97 1568.97 1292.64 1568.97 Q1287.17 1568.97 1283.92 1565.91 Q1280.7 1562.82 1280.7 1557.67 Q1280.7 1551.65 1284.72 1548.6 Q1288.76 1545.54 1296.75 1545.54 L1304.96 1545.54 L1304.96 1544.97 Q1304.96 1540.93 1302.28 1538.73 Q1299.64 1536.5 1294.84 1536.5 Q1291.78 1536.5 1288.88 1537.23 Q1285.99 1537.97 1283.31 1539.43 L1283.31 1534.02 Q1286.53 1532.78 1289.55 1532.17 Q1292.58 1531.54 1295.44 1531.54 Q1303.18 1531.54 1307 1535.55 Q1310.81 1539.56 1310.81 1547.71 Z\" fill=\"#000000\" fill-rule=\"evenodd\" fill-opacity=\"1\" /><path clip-path=\"url(#clip250)\" d=\"M1346.34 1537.81 L1346.34 1518.52 L1352.19 1518.52 L1352.19 1568.04 L1346.34 1568.04 L1346.34 1562.7 Q1344.49 1565.88 1341.66 1567.44 Q1338.86 1568.97 1334.91 1568.97 Q1328.45 1568.97 1324.37 1563.81 Q1320.33 1558.65 1320.33 1550.25 Q1320.33 1541.85 1324.37 1536.69 Q1328.45 1531.54 1334.91 1531.54 Q1338.86 1531.54 1341.66 1533.1 Q1344.49 1534.62 1346.34 1537.81 M1326.38 1550.25 Q1326.38 1556.71 1329.02 1560.4 Q1331.69 1564.07 1336.34 1564.07 Q1340.99 1564.07 1343.66 1560.4 Q1346.34 1556.71 1346.34 1550.25 Q1346.34 1543.79 1343.66 1540.13 Q1340.99 1536.44 1336.34 1536.44 Q1331.69 1536.44 1329.02 1540.13 Q1326.38 1543.79 1326.38 1550.25 Z\" fill=\"#000000\" fill-rule=\"evenodd\" fill-opacity=\"1\" /><path clip-path=\"url(#clip250)\" d=\"M1364.25 1532.4 L1370.11 1532.4 L1370.11 1568.04 L1364.25 1568.04 L1364.25 1532.4 M1364.25 1518.52 L1370.11 1518.52 L1370.11 1525.93 L1364.25 1525.93 L1364.25 1518.52 Z\" fill=\"#000000\" fill-rule=\"evenodd\" fill-opacity=\"1\" /><path clip-path=\"url(#clip250)\" d=\"M1405.82 1537.81 L1405.82 1518.52 L1411.68 1518.52 L1411.68 1568.04 L1405.82 1568.04 L1405.82 1562.7 Q1403.98 1565.88 1401.14 1567.44 Q1398.34 1568.97 1394.4 1568.97 Q1387.94 1568.97 1383.86 1563.81 Q1379.82 1558.65 1379.82 1550.25 Q1379.82 1541.85 1383.86 1536.69 Q1387.94 1531.54 1394.4 1531.54 Q1398.34 1531.54 1401.14 1533.1 Q1403.98 1534.62 1405.82 1537.81 M1385.87 1550.25 Q1385.87 1556.71 1388.51 1560.4 Q1391.18 1564.07 1395.83 1564.07 Q1400.48 1564.07 1403.15 1560.4 Q1405.82 1556.71 1405.82 1550.25 Q1405.82 1543.79 1403.15 1540.13 Q1400.48 1536.44 1395.83 1536.44 Q1391.18 1536.44 1388.51 1540.13 Q1385.87 1543.79 1385.87 1550.25 Z\" fill=\"#000000\" fill-rule=\"evenodd\" fill-opacity=\"1\" /><polyline clip-path=\"url(#clip252)\" style=\"stroke:#000000; stroke-linecap:butt; stroke-linejoin:round; stroke-width:2; stroke-opacity:0.1; fill:none\" points=\"\n",
       "  205.121,1386.4 2352.76,1386.4 \n",
       "  \"/>\n",
       "<polyline clip-path=\"url(#clip252)\" style=\"stroke:#000000; stroke-linecap:butt; stroke-linejoin:round; stroke-width:2; stroke-opacity:0.1; fill:none\" points=\"\n",
       "  205.121,1030.99 2352.76,1030.99 \n",
       "  \"/>\n",
       "<polyline clip-path=\"url(#clip252)\" style=\"stroke:#000000; stroke-linecap:butt; stroke-linejoin:round; stroke-width:2; stroke-opacity:0.1; fill:none\" points=\"\n",
       "  205.121,675.59 2352.76,675.59 \n",
       "  \"/>\n",
       "<polyline clip-path=\"url(#clip252)\" style=\"stroke:#000000; stroke-linecap:butt; stroke-linejoin:round; stroke-width:2; stroke-opacity:0.1; fill:none\" points=\"\n",
       "  205.121,320.188 2352.76,320.188 \n",
       "  \"/>\n",
       "<polyline clip-path=\"url(#clip250)\" style=\"stroke:#000000; stroke-linecap:butt; stroke-linejoin:round; stroke-width:4; stroke-opacity:1; fill:none\" points=\"\n",
       "  205.121,1423.18 205.121,123.472 \n",
       "  \"/>\n",
       "<polyline clip-path=\"url(#clip250)\" style=\"stroke:#000000; stroke-linecap:butt; stroke-linejoin:round; stroke-width:4; stroke-opacity:1; fill:none\" points=\"\n",
       "  205.121,1386.4 224.019,1386.4 \n",
       "  \"/>\n",
       "<polyline clip-path=\"url(#clip250)\" style=\"stroke:#000000; stroke-linecap:butt; stroke-linejoin:round; stroke-width:4; stroke-opacity:1; fill:none\" points=\"\n",
       "  205.121,1030.99 224.019,1030.99 \n",
       "  \"/>\n",
       "<polyline clip-path=\"url(#clip250)\" style=\"stroke:#000000; stroke-linecap:butt; stroke-linejoin:round; stroke-width:4; stroke-opacity:1; fill:none\" points=\"\n",
       "  205.121,675.59 224.019,675.59 \n",
       "  \"/>\n",
       "<polyline clip-path=\"url(#clip250)\" style=\"stroke:#000000; stroke-linecap:butt; stroke-linejoin:round; stroke-width:4; stroke-opacity:1; fill:none\" points=\"\n",
       "  205.121,320.188 224.019,320.188 \n",
       "  \"/>\n",
       "<path clip-path=\"url(#clip250)\" d=\"M157.177 1372.19 Q153.566 1372.19 151.737 1375.76 Q149.931 1379.3 149.931 1386.43 Q149.931 1393.54 151.737 1397.1 Q153.566 1400.64 157.177 1400.64 Q160.811 1400.64 162.616 1397.1 Q164.445 1393.54 164.445 1386.43 Q164.445 1379.3 162.616 1375.76 Q160.811 1372.19 157.177 1372.19 M157.177 1368.49 Q162.987 1368.49 166.042 1373.1 Q169.121 1377.68 169.121 1386.43 Q169.121 1395.16 166.042 1399.76 Q162.987 1404.35 157.177 1404.35 Q151.366 1404.35 148.288 1399.76 Q145.232 1395.16 145.232 1386.43 Q145.232 1377.68 148.288 1373.1 Q151.366 1368.49 157.177 1368.49 Z\" fill=\"#000000\" fill-rule=\"evenodd\" fill-opacity=\"1\" /><path clip-path=\"url(#clip250)\" d=\"M121.043 1044.34 L137.362 1044.34 L137.362 1048.27 L115.418 1048.27 L115.418 1044.34 Q118.08 1041.58 122.663 1036.95 Q127.269 1032.3 128.45 1030.96 Q130.695 1028.44 131.575 1026.7 Q132.478 1024.94 132.478 1023.25 Q132.478 1020.5 130.533 1018.76 Q128.612 1017.02 125.51 1017.02 Q123.311 1017.02 120.857 1017.79 Q118.427 1018.55 115.649 1020.1 L115.649 1015.38 Q118.473 1014.25 120.927 1013.67 Q123.38 1013.09 125.418 1013.09 Q130.788 1013.09 133.982 1015.77 Q137.177 1018.46 137.177 1022.95 Q137.177 1025.08 136.367 1027 Q135.579 1028.9 133.473 1031.49 Q132.894 1032.16 129.792 1035.38 Q126.691 1038.57 121.043 1044.34 Z\" fill=\"#000000\" fill-rule=\"evenodd\" fill-opacity=\"1\" /><path clip-path=\"url(#clip250)\" d=\"M157.177 1016.79 Q153.566 1016.79 151.737 1020.36 Q149.931 1023.9 149.931 1031.03 Q149.931 1038.13 151.737 1041.7 Q153.566 1045.24 157.177 1045.24 Q160.811 1045.24 162.616 1041.7 Q164.445 1038.13 164.445 1031.03 Q164.445 1023.9 162.616 1020.36 Q160.811 1016.79 157.177 1016.79 M157.177 1013.09 Q162.987 1013.09 166.042 1017.69 Q169.121 1022.28 169.121 1031.03 Q169.121 1039.75 166.042 1044.36 Q162.987 1048.94 157.177 1048.94 Q151.366 1048.94 148.288 1044.36 Q145.232 1039.75 145.232 1031.03 Q145.232 1022.28 148.288 1017.69 Q151.366 1013.09 157.177 1013.09 Z\" fill=\"#000000\" fill-rule=\"evenodd\" fill-opacity=\"1\" /><path clip-path=\"url(#clip250)\" d=\"M129.862 662.384 L118.056 680.833 L129.862 680.833 L129.862 662.384 M128.635 658.31 L134.515 658.31 L134.515 680.833 L139.445 680.833 L139.445 684.722 L134.515 684.722 L134.515 692.87 L129.862 692.87 L129.862 684.722 L114.26 684.722 L114.26 680.208 L128.635 658.31 Z\" fill=\"#000000\" fill-rule=\"evenodd\" fill-opacity=\"1\" /><path clip-path=\"url(#clip250)\" d=\"M157.177 661.389 Q153.566 661.389 151.737 664.954 Q149.931 668.495 149.931 675.625 Q149.931 682.731 151.737 686.296 Q153.566 689.838 157.177 689.838 Q160.811 689.838 162.616 686.296 Q164.445 682.731 164.445 675.625 Q164.445 668.495 162.616 664.954 Q160.811 661.389 157.177 661.389 M157.177 657.685 Q162.987 657.685 166.042 662.292 Q169.121 666.875 169.121 675.625 Q169.121 684.352 166.042 688.958 Q162.987 693.542 157.177 693.542 Q151.366 693.542 148.288 688.958 Q145.232 684.352 145.232 675.625 Q145.232 666.875 148.288 662.292 Q151.366 657.685 157.177 657.685 Z\" fill=\"#000000\" fill-rule=\"evenodd\" fill-opacity=\"1\" /><path clip-path=\"url(#clip250)\" d=\"M127.593 318.324 Q124.445 318.324 122.593 320.477 Q120.765 322.63 120.765 326.38 Q120.765 330.106 122.593 332.282 Q124.445 334.435 127.593 334.435 Q130.742 334.435 132.57 332.282 Q134.422 330.106 134.422 326.38 Q134.422 322.63 132.57 320.477 Q130.742 318.324 127.593 318.324 M136.876 303.671 L136.876 307.931 Q135.117 307.097 133.311 306.658 Q131.529 306.218 129.769 306.218 Q125.14 306.218 122.686 309.343 Q120.255 312.468 119.908 318.787 Q121.274 316.773 123.334 315.708 Q125.394 314.62 127.871 314.62 Q133.08 314.62 136.089 317.792 Q139.121 320.94 139.121 326.38 Q139.121 331.704 135.973 334.921 Q132.825 338.139 127.593 338.139 Q121.598 338.139 118.427 333.556 Q115.256 328.949 115.256 320.222 Q115.256 312.028 119.144 307.167 Q123.033 302.283 129.584 302.283 Q131.343 302.283 133.126 302.63 Q134.931 302.977 136.876 303.671 Z\" fill=\"#000000\" fill-rule=\"evenodd\" fill-opacity=\"1\" /><path clip-path=\"url(#clip250)\" d=\"M157.177 305.986 Q153.566 305.986 151.737 309.551 Q149.931 313.093 149.931 320.222 Q149.931 327.329 151.737 330.893 Q153.566 334.435 157.177 334.435 Q160.811 334.435 162.616 330.893 Q164.445 327.329 164.445 320.222 Q164.445 313.093 162.616 309.551 Q160.811 305.986 157.177 305.986 M157.177 302.283 Q162.987 302.283 166.042 306.889 Q169.121 311.472 169.121 320.222 Q169.121 328.949 166.042 333.556 Q162.987 338.139 157.177 338.139 Q151.366 338.139 148.288 333.556 Q145.232 328.949 145.232 320.222 Q145.232 311.472 148.288 306.889 Q151.366 302.283 157.177 302.283 Z\" fill=\"#000000\" fill-rule=\"evenodd\" fill-opacity=\"1\" /><path clip-path=\"url(#clip250)\" d=\"M35.3266 933.264 L35.3266 942.526 L45.9574 945.2 L45.9574 935.874 L35.3266 933.264 M17.2162 938.039 L30.4251 941.349 L30.4251 932.055 L17.2162 928.713 L17.2162 923.62 L30.4251 926.899 L30.4251 916.968 L35.3266 916.968 L35.3266 928.14 L45.9574 930.75 L45.9574 920.628 L50.8271 920.628 L50.8271 931.991 L64.0042 935.301 L64.0042 940.394 L50.8271 937.116 L50.8271 946.441 L64.0042 949.72 L64.0042 954.844 L50.8271 951.534 L50.8271 961.56 L45.9574 961.56 L45.9574 950.356 L35.3266 947.683 L35.3266 957.931 L30.4251 957.931 L30.4251 946.441 L17.2162 943.195 L17.2162 938.039 Z\" fill=\"#000000\" fill-rule=\"evenodd\" fill-opacity=\"1\" /><path clip-path=\"url(#clip250)\" d=\"M28.3562 885.108 L28.3562 879.251 L64.0042 879.251 L64.0042 885.108 L28.3562 885.108 M14.479 885.108 L14.479 879.251 L21.895 879.251 L21.895 885.108 L14.479 885.108 Z\" fill=\"#000000\" fill-rule=\"evenodd\" fill-opacity=\"1\" /><path clip-path=\"url(#clip250)\" d=\"M18.2347 861.205 L28.3562 861.205 L28.3562 849.142 L32.9077 849.142 L32.9077 861.205 L52.2594 861.205 Q56.6199 861.205 57.8613 860.027 Q59.1026 858.817 59.1026 855.157 L59.1026 849.142 L64.0042 849.142 L64.0042 855.157 Q64.0042 861.937 61.4897 864.515 Q58.9434 867.093 52.2594 867.093 L32.9077 867.093 L32.9077 871.39 L28.3562 871.39 L28.3562 867.093 L18.2347 867.093 L18.2347 861.205 Z\" fill=\"#000000\" fill-rule=\"evenodd\" fill-opacity=\"1\" /><path clip-path=\"url(#clip250)\" d=\"M44.7161 810.947 L47.5806 810.947 L47.5806 837.874 Q53.6281 837.492 56.8109 834.246 Q59.9619 830.967 59.9619 825.143 Q59.9619 821.769 59.1344 818.618 Q58.3069 815.435 56.6518 812.316 L62.1899 812.316 Q63.5267 815.467 64.227 818.777 Q64.9272 822.087 64.9272 825.493 Q64.9272 834.023 59.9619 839.02 Q54.9967 843.985 46.5303 843.985 Q37.7774 843.985 32.6531 839.275 Q27.4968 834.532 27.4968 826.511 Q27.4968 819.318 32.1438 815.149 Q36.7589 810.947 44.7161 810.947 M42.9973 816.804 Q38.1912 816.867 35.3266 819.509 Q32.4621 822.119 32.4621 826.448 Q32.4621 831.349 35.2312 834.309 Q38.0002 837.238 43.0292 837.683 L42.9973 816.804 Z\" fill=\"#000000\" fill-rule=\"evenodd\" fill-opacity=\"1\" /><path clip-path=\"url(#clip250)\" d=\"M33.8307 780.678 Q33.2578 781.665 33.0032 782.843 Q32.7167 783.989 32.7167 785.389 Q32.7167 790.354 35.9632 793.028 Q39.1779 795.67 45.2253 795.67 L64.0042 795.67 L64.0042 801.558 L28.3562 801.558 L28.3562 795.67 L33.8944 795.67 Q30.6479 793.824 29.0883 790.864 Q27.4968 787.903 27.4968 783.67 Q27.4968 783.066 27.5923 782.333 Q27.656 781.601 27.8151 780.71 L33.8307 780.678 Z\" fill=\"#000000\" fill-rule=\"evenodd\" fill-opacity=\"1\" /><path clip-path=\"url(#clip250)\" d=\"M46.0847 758.335 Q46.0847 765.433 47.7079 768.17 Q49.3312 770.907 53.2461 770.907 Q56.3653 770.907 58.2114 768.87 Q60.0256 766.801 60.0256 763.268 Q60.0256 758.398 56.5881 755.47 Q53.1188 752.51 47.3897 752.51 L46.0847 752.51 L46.0847 758.335 M43.6657 746.654 L64.0042 746.654 L64.0042 752.51 L58.5933 752.51 Q61.8398 754.515 63.3994 757.507 Q64.9272 760.499 64.9272 764.828 Q64.9272 770.302 61.8716 773.549 Q58.7843 776.763 53.6281 776.763 Q47.6125 776.763 44.5569 772.753 Q41.5014 768.711 41.5014 760.722 L41.5014 752.51 L40.9285 752.51 Q36.8862 752.51 34.6901 755.184 Q32.4621 757.825 32.4621 762.632 Q32.4621 765.687 33.1941 768.584 Q33.9262 771.48 35.3903 774.154 L29.9795 774.154 Q28.7381 770.939 28.1334 767.915 Q27.4968 764.891 27.4968 762.027 Q27.4968 754.293 31.5072 750.473 Q35.5176 746.654 43.6657 746.654 Z\" fill=\"#000000\" fill-rule=\"evenodd\" fill-opacity=\"1\" /><path clip-path=\"url(#clip250)\" d=\"M18.2347 728.798 L28.3562 728.798 L28.3562 716.735 L32.9077 716.735 L32.9077 728.798 L52.2594 728.798 Q56.6199 728.798 57.8613 727.62 Q59.1026 726.411 59.1026 722.75 L59.1026 716.735 L64.0042 716.735 L64.0042 722.75 Q64.0042 729.53 61.4897 732.108 Q58.9434 734.686 52.2594 734.686 L32.9077 734.686 L32.9077 738.983 L28.3562 738.983 L28.3562 734.686 L18.2347 734.686 L18.2347 728.798 Z\" fill=\"#000000\" fill-rule=\"evenodd\" fill-opacity=\"1\" /><path clip-path=\"url(#clip250)\" d=\"M28.3562 709.032 L28.3562 703.176 L64.0042 703.176 L64.0042 709.032 L28.3562 709.032 M14.479 709.032 L14.479 703.176 L21.895 703.176 L21.895 709.032 L14.479 709.032 Z\" fill=\"#000000\" fill-rule=\"evenodd\" fill-opacity=\"1\" /><path clip-path=\"url(#clip250)\" d=\"M32.4621 677.108 Q32.4621 681.819 36.1542 684.556 Q39.8145 687.293 46.212 687.293 Q52.6095 687.293 56.3017 684.588 Q59.9619 681.851 59.9619 677.108 Q59.9619 672.43 56.2698 669.692 Q52.5777 666.955 46.212 666.955 Q39.8781 666.955 36.186 669.692 Q32.4621 672.43 32.4621 677.108 M27.4968 677.108 Q27.4968 669.469 32.4621 665.109 Q37.4273 660.748 46.212 660.748 Q54.9649 660.748 59.9619 665.109 Q64.9272 669.469 64.9272 677.108 Q64.9272 684.779 59.9619 689.14 Q54.9649 693.468 46.212 693.468 Q37.4273 693.468 32.4621 689.14 Q27.4968 684.779 27.4968 677.108 Z\" fill=\"#000000\" fill-rule=\"evenodd\" fill-opacity=\"1\" /><path clip-path=\"url(#clip250)\" d=\"M42.4881 621.408 L64.0042 621.408 L64.0042 627.265 L42.679 627.265 Q37.6183 627.265 35.1038 629.238 Q32.5894 631.212 32.5894 635.158 Q32.5894 639.901 35.6131 642.638 Q38.6368 645.375 43.8567 645.375 L64.0042 645.375 L64.0042 651.264 L28.3562 651.264 L28.3562 645.375 L33.8944 645.375 Q30.6797 643.275 29.0883 640.442 Q27.4968 637.577 27.4968 633.853 Q27.4968 627.71 31.3163 624.559 Q35.1038 621.408 42.4881 621.408 Z\" fill=\"#000000\" fill-rule=\"evenodd\" fill-opacity=\"1\" /><path clip-path=\"url(#clip250)\" d=\"M29.4065 587.002 L34.9447 587.002 Q33.6716 589.484 33.035 592.158 Q32.3984 594.832 32.3984 597.696 Q32.3984 602.057 33.7352 604.253 Q35.072 606.417 37.7456 606.417 Q39.7826 606.417 40.9603 604.858 Q42.1061 603.298 43.1565 598.587 L43.6021 596.582 Q44.9389 590.344 47.3897 587.734 Q49.8086 585.092 54.1691 585.092 Q59.1344 585.092 62.0308 589.039 Q64.9272 592.954 64.9272 599.829 Q64.9272 602.693 64.3543 605.812 Q63.8132 608.9 62.6992 612.337 L56.6518 612.337 Q58.3387 609.091 59.198 605.94 Q60.0256 602.789 60.0256 599.701 Q60.0256 595.564 58.6251 593.336 Q57.1929 591.108 54.6147 591.108 Q52.2276 591.108 50.9545 592.731 Q49.6813 594.322 48.5037 599.765 L48.0262 601.802 Q46.8804 607.245 44.5251 609.664 Q42.138 612.083 38.0002 612.083 Q32.9713 612.083 30.2341 608.518 Q27.4968 604.953 27.4968 598.396 Q27.4968 595.15 27.9743 592.285 Q28.4517 589.421 29.4065 587.002 Z\" fill=\"#000000\" fill-rule=\"evenodd\" fill-opacity=\"1\" /><path clip-path=\"url(#clip250)\" d=\"M855.194 12.096 L866.212 12.096 L893.029 62.6918 L893.029 12.096 L900.969 12.096 L900.969 72.576 L889.95 72.576 L863.133 21.9802 L863.133 72.576 L855.194 72.576 L855.194 12.096 Z\" fill=\"#000000\" fill-rule=\"evenodd\" fill-opacity=\"1\" /><path clip-path=\"url(#clip250)\" d=\"M916.16 54.671 L916.16 27.2059 L923.613 27.2059 L923.613 54.3874 Q923.613 60.8284 926.125 64.0691 Q928.636 67.2693 933.66 67.2693 Q939.695 67.2693 943.179 63.421 Q946.704 59.5726 946.704 52.9291 L946.704 27.2059 L954.157 27.2059 L954.157 72.576 L946.704 72.576 L946.704 65.6084 Q943.989 69.7404 940.384 71.7658 Q936.819 73.7508 932.08 73.7508 Q924.262 73.7508 920.211 68.8897 Q916.16 64.0286 916.16 54.671 M934.915 26.1121 L934.915 26.1121 Z\" fill=\"#000000\" fill-rule=\"evenodd\" fill-opacity=\"1\" /><path clip-path=\"url(#clip250)\" d=\"M1004.83 35.9153 Q1007.63 30.8922 1011.52 28.5022 Q1015.41 26.1121 1020.67 26.1121 Q1027.76 26.1121 1031.61 31.0947 Q1035.46 36.0368 1035.46 45.1919 L1035.46 72.576 L1027.96 72.576 L1027.96 45.4349 Q1027.96 38.913 1025.66 35.7533 Q1023.35 32.5936 1018.61 32.5936 Q1012.81 32.5936 1009.45 36.4419 Q1006.09 40.2903 1006.09 46.9338 L1006.09 72.576 L998.596 72.576 L998.596 45.4349 Q998.596 38.8725 996.287 35.7533 Q993.978 32.5936 989.157 32.5936 Q983.445 32.5936 980.083 36.4824 Q976.721 40.3308 976.721 46.9338 L976.721 72.576 L969.227 72.576 L969.227 27.2059 L976.721 27.2059 L976.721 34.2544 Q979.273 30.082 982.838 28.0971 Q986.402 26.1121 991.304 26.1121 Q996.246 26.1121 999.689 28.6237 Q1003.17 31.1352 1004.83 35.9153 Z\" fill=\"#000000\" fill-rule=\"evenodd\" fill-opacity=\"1\" /><path clip-path=\"url(#clip250)\" d=\"M1082.89 49.9314 Q1082.89 41.7081 1079.49 37.0496 Q1076.13 32.3505 1070.22 32.3505 Q1064.3 32.3505 1060.9 37.0496 Q1057.54 41.7081 1057.54 49.9314 Q1057.54 58.1548 1060.9 62.8538 Q1064.3 67.5124 1070.22 67.5124 Q1076.13 67.5124 1079.49 62.8538 Q1082.89 58.1548 1082.89 49.9314 M1057.54 34.0924 Q1059.89 30.0415 1063.45 28.0971 Q1067.06 26.1121 1072.04 26.1121 Q1080.3 26.1121 1085.45 32.6746 Q1090.63 39.2371 1090.63 49.9314 Q1090.63 60.6258 1085.45 67.1883 Q1080.3 73.7508 1072.04 73.7508 Q1067.06 73.7508 1063.45 71.8063 Q1059.89 69.8214 1057.54 65.7705 L1057.54 72.576 L1050.04 72.576 L1050.04 9.54393 L1057.54 9.54393 L1057.54 34.0924 Z\" fill=\"#000000\" fill-rule=\"evenodd\" fill-opacity=\"1\" /><path clip-path=\"url(#clip250)\" d=\"M1141.8 48.0275 L1141.8 51.6733 L1107.52 51.6733 Q1108.01 59.3701 1112.14 63.421 Q1116.31 67.4314 1123.73 67.4314 Q1128.02 67.4314 1132.03 66.3781 Q1136.08 65.3249 1140.05 63.2184 L1140.05 70.267 Q1136.04 71.9684 1131.83 72.8596 Q1127.62 73.7508 1123.28 73.7508 Q1112.43 73.7508 1106.07 67.4314 Q1099.75 61.1119 1099.75 50.3365 Q1099.75 39.1965 1105.74 32.6746 Q1111.78 26.1121 1121.99 26.1121 Q1131.14 26.1121 1136.45 32.0264 Q1141.8 37.9003 1141.8 48.0275 M1134.34 45.84 Q1134.26 39.7232 1130.9 36.0774 Q1127.58 32.4315 1122.07 32.4315 Q1115.83 32.4315 1112.06 35.9558 Q1108.33 39.4801 1107.77 45.8805 L1134.34 45.84 Z\" fill=\"#000000\" fill-rule=\"evenodd\" fill-opacity=\"1\" /><path clip-path=\"url(#clip250)\" d=\"M1180.32 34.1734 Q1179.06 33.4443 1177.56 33.1202 Q1176.11 32.7556 1174.32 32.7556 Q1168 32.7556 1164.6 36.8875 Q1161.24 40.9789 1161.24 48.6757 L1161.24 72.576 L1153.75 72.576 L1153.75 27.2059 L1161.24 27.2059 L1161.24 34.2544 Q1163.59 30.1225 1167.36 28.1376 Q1171.12 26.1121 1176.51 26.1121 Q1177.28 26.1121 1178.21 26.2337 Q1179.14 26.3147 1180.28 26.5172 L1180.32 34.1734 Z\" fill=\"#000000\" fill-rule=\"evenodd\" fill-opacity=\"1\" /><path clip-path=\"url(#clip250)\" d=\"M1232.09 32.4315 Q1226.09 32.4315 1222.61 37.1306 Q1219.13 41.7891 1219.13 49.9314 Q1219.13 58.0738 1222.57 62.7728 Q1226.05 67.4314 1232.09 67.4314 Q1238.04 67.4314 1241.53 62.7323 Q1245.01 58.0333 1245.01 49.9314 Q1245.01 41.8701 1241.53 37.1711 Q1238.04 32.4315 1232.09 32.4315 M1232.09 26.1121 Q1241.81 26.1121 1247.36 32.4315 Q1252.91 38.7509 1252.91 49.9314 Q1252.91 61.0714 1247.36 67.4314 Q1241.81 73.7508 1232.09 73.7508 Q1222.33 73.7508 1216.78 67.4314 Q1211.27 61.0714 1211.27 49.9314 Q1211.27 38.7509 1216.78 32.4315 Q1222.33 26.1121 1232.09 26.1121 Z\" fill=\"#000000\" fill-rule=\"evenodd\" fill-opacity=\"1\" /><path clip-path=\"url(#clip250)\" d=\"M1288.24 9.54393 L1288.24 15.7418 L1281.11 15.7418 Q1277.1 15.7418 1275.52 17.3622 Q1273.98 18.9825 1273.98 23.1955 L1273.98 27.2059 L1286.25 27.2059 L1286.25 32.9987 L1273.98 32.9987 L1273.98 72.576 L1266.48 72.576 L1266.48 32.9987 L1259.35 32.9987 L1259.35 27.2059 L1266.48 27.2059 L1266.48 24.0462 Q1266.48 16.471 1270.01 13.0277 Q1273.53 9.54393 1281.19 9.54393 L1288.24 9.54393 Z\" fill=\"#000000\" fill-rule=\"evenodd\" fill-opacity=\"1\" /><path clip-path=\"url(#clip250)\" d=\"M1320.85 27.2059 L1328.3 27.2059 L1328.3 72.576 L1320.85 72.576 L1320.85 27.2059 M1320.85 9.54393 L1328.3 9.54393 L1328.3 18.9825 L1320.85 18.9825 L1320.85 9.54393 Z\" fill=\"#000000\" fill-rule=\"evenodd\" fill-opacity=\"1\" /><path clip-path=\"url(#clip250)\" d=\"M1351.27 14.324 L1351.27 27.2059 L1366.62 27.2059 L1366.62 32.9987 L1351.27 32.9987 L1351.27 57.6282 Q1351.27 63.1779 1352.77 64.7578 Q1354.31 66.3376 1358.96 66.3376 L1366.62 66.3376 L1366.62 72.576 L1358.96 72.576 Q1350.34 72.576 1347.05 69.3758 Q1343.77 66.1351 1343.77 57.6282 L1343.77 32.9987 L1338.3 32.9987 L1338.3 27.2059 L1343.77 27.2059 L1343.77 14.324 L1351.27 14.324 Z\" fill=\"#000000\" fill-rule=\"evenodd\" fill-opacity=\"1\" /><path clip-path=\"url(#clip250)\" d=\"M1415.23 48.0275 L1415.23 51.6733 L1380.96 51.6733 Q1381.45 59.3701 1385.58 63.421 Q1389.75 67.4314 1397.16 67.4314 Q1401.46 67.4314 1405.47 66.3781 Q1409.52 65.3249 1413.49 63.2184 L1413.49 70.267 Q1409.48 71.9684 1405.27 72.8596 Q1401.05 73.7508 1396.72 73.7508 Q1385.86 73.7508 1379.5 67.4314 Q1373.18 61.1119 1373.18 50.3365 Q1373.18 39.1965 1379.18 32.6746 Q1385.21 26.1121 1395.42 26.1121 Q1404.58 26.1121 1409.88 32.0264 Q1415.23 37.9003 1415.23 48.0275 M1407.78 45.84 Q1407.7 39.7232 1404.33 36.0774 Q1401.01 32.4315 1395.5 32.4315 Q1389.26 32.4315 1385.5 35.9558 Q1381.77 39.4801 1381.2 45.8805 L1407.78 45.84 Z\" fill=\"#000000\" fill-rule=\"evenodd\" fill-opacity=\"1\" /><path clip-path=\"url(#clip250)\" d=\"M1453.76 34.1734 Q1452.5 33.4443 1451 33.1202 Q1449.54 32.7556 1447.76 32.7556 Q1441.44 32.7556 1438.04 36.8875 Q1434.68 40.9789 1434.68 48.6757 L1434.68 72.576 L1427.18 72.576 L1427.18 27.2059 L1434.68 27.2059 L1434.68 34.2544 Q1437.02 30.1225 1440.79 28.1376 Q1444.56 26.1121 1449.95 26.1121 Q1450.72 26.1121 1451.65 26.2337 Q1452.58 26.3147 1453.71 26.5172 L1453.76 34.1734 Z\" fill=\"#000000\" fill-rule=\"evenodd\" fill-opacity=\"1\" /><path clip-path=\"url(#clip250)\" d=\"M1482.19 49.7694 Q1473.16 49.7694 1469.68 51.8354 Q1466.19 53.9013 1466.19 58.8839 Q1466.19 62.8538 1468.78 65.2034 Q1471.42 67.5124 1475.91 67.5124 Q1482.11 67.5124 1485.84 63.1374 Q1489.61 58.7219 1489.61 51.4303 L1489.61 49.7694 L1482.19 49.7694 M1497.06 46.6907 L1497.06 72.576 L1489.61 72.576 L1489.61 65.6895 Q1487.05 69.8214 1483.25 71.8063 Q1479.44 73.7508 1473.93 73.7508 Q1466.96 73.7508 1462.83 69.8619 Q1458.74 65.9325 1458.74 59.3701 Q1458.74 51.7138 1463.84 47.825 Q1468.99 43.9361 1479.15 43.9361 L1489.61 43.9361 L1489.61 43.2069 Q1489.61 38.0623 1486.2 35.2672 Q1482.84 32.4315 1476.72 32.4315 Q1472.83 32.4315 1469.15 33.3632 Q1465.46 34.295 1462.06 36.1584 L1462.06 29.2718 Q1466.15 27.692 1470 26.9223 Q1473.85 26.1121 1477.49 26.1121 Q1487.34 26.1121 1492.2 31.2163 Q1497.06 36.3204 1497.06 46.6907 Z\" fill=\"#000000\" fill-rule=\"evenodd\" fill-opacity=\"1\" /><path clip-path=\"url(#clip250)\" d=\"M1519.78 14.324 L1519.78 27.2059 L1535.14 27.2059 L1535.14 32.9987 L1519.78 32.9987 L1519.78 57.6282 Q1519.78 63.1779 1521.28 64.7578 Q1522.82 66.3376 1527.48 66.3376 L1535.14 66.3376 L1535.14 72.576 L1527.48 72.576 Q1518.85 72.576 1515.57 69.3758 Q1512.29 66.1351 1512.29 57.6282 L1512.29 32.9987 L1506.82 32.9987 L1506.82 27.2059 L1512.29 27.2059 L1512.29 14.324 L1519.78 14.324 Z\" fill=\"#000000\" fill-rule=\"evenodd\" fill-opacity=\"1\" /><path clip-path=\"url(#clip250)\" d=\"M1544.94 27.2059 L1552.39 27.2059 L1552.39 72.576 L1544.94 72.576 L1544.94 27.2059 M1544.94 9.54393 L1552.39 9.54393 L1552.39 18.9825 L1544.94 18.9825 L1544.94 9.54393 Z\" fill=\"#000000\" fill-rule=\"evenodd\" fill-opacity=\"1\" /><path clip-path=\"url(#clip250)\" d=\"M1585.57 32.4315 Q1579.58 32.4315 1576.09 37.1306 Q1572.61 41.7891 1572.61 49.9314 Q1572.61 58.0738 1576.05 62.7728 Q1579.54 67.4314 1585.57 67.4314 Q1591.53 67.4314 1595.01 62.7323 Q1598.49 58.0333 1598.49 49.9314 Q1598.49 41.8701 1595.01 37.1711 Q1591.53 32.4315 1585.57 32.4315 M1585.57 26.1121 Q1595.29 26.1121 1600.84 32.4315 Q1606.39 38.7509 1606.39 49.9314 Q1606.39 61.0714 1600.84 67.4314 Q1595.29 73.7508 1585.57 73.7508 Q1575.81 73.7508 1570.26 67.4314 Q1564.75 61.0714 1564.75 49.9314 Q1564.75 38.7509 1570.26 32.4315 Q1575.81 26.1121 1585.57 26.1121 Z\" fill=\"#000000\" fill-rule=\"evenodd\" fill-opacity=\"1\" /><path clip-path=\"url(#clip250)\" d=\"M1656.46 45.1919 L1656.46 72.576 L1649.01 72.576 L1649.01 45.4349 Q1649.01 38.994 1646.5 35.7938 Q1643.99 32.5936 1638.96 32.5936 Q1632.93 32.5936 1629.44 36.4419 Q1625.96 40.2903 1625.96 46.9338 L1625.96 72.576 L1618.46 72.576 L1618.46 27.2059 L1625.96 27.2059 L1625.96 34.2544 Q1628.63 30.163 1632.24 28.1376 Q1635.88 26.1121 1640.62 26.1121 Q1648.44 26.1121 1652.45 30.9732 Q1656.46 35.7938 1656.46 45.1919 Z\" fill=\"#000000\" fill-rule=\"evenodd\" fill-opacity=\"1\" /><path clip-path=\"url(#clip250)\" d=\"M1700.25 28.5427 L1700.25 35.5912 Q1697.09 33.9709 1693.69 33.1607 Q1690.29 32.3505 1686.64 32.3505 Q1681.09 32.3505 1678.3 34.0519 Q1675.54 35.7533 1675.54 39.156 Q1675.54 41.7486 1677.53 43.2475 Q1679.51 44.7058 1685.51 46.0426 L1688.06 46.6097 Q1696 48.3111 1699.32 51.4303 Q1702.68 54.509 1702.68 60.0587 Q1702.68 66.3781 1697.66 70.0644 Q1692.68 73.7508 1683.93 73.7508 Q1680.28 73.7508 1676.31 73.0216 Q1672.38 72.3329 1668.01 70.9151 L1668.01 63.2184 Q1672.14 65.3654 1676.15 66.4591 Q1680.16 67.5124 1684.09 67.5124 Q1689.36 67.5124 1692.19 65.73 Q1695.03 63.9071 1695.03 60.6258 Q1695.03 57.5877 1692.96 55.9673 Q1690.94 54.3469 1684.01 52.8481 L1681.42 52.2405 Q1674.49 50.7821 1671.41 47.7845 Q1668.33 44.7463 1668.33 39.4801 Q1668.33 33.0797 1672.87 29.5959 Q1677.41 26.1121 1685.75 26.1121 Q1689.88 26.1121 1693.53 26.7198 Q1697.17 27.3274 1700.25 28.5427 Z\" fill=\"#000000\" fill-rule=\"evenodd\" fill-opacity=\"1\" /><path clip-path=\"url(#clip252)\" d=\"\n",
       "M323.245 1386.4 L323.245 1386.4 L586.884 1386.4 L586.884 1386.4 L323.245 1386.4 L323.245 1386.4  Z\n",
       "  \" fill=\"#009af9\" fill-rule=\"evenodd\" fill-opacity=\"1\"/>\n",
       "<polyline clip-path=\"url(#clip252)\" style=\"stroke:#000000; stroke-linecap:butt; stroke-linejoin:round; stroke-width:4; stroke-opacity:1; fill:none\" points=\"\n",
       "  323.245,1386.4 323.245,1386.4 586.884,1386.4 323.245,1386.4 \n",
       "  \"/>\n",
       "<path clip-path=\"url(#clip252)\" d=\"\n",
       "M652.794 160.256 L652.794 1386.4 L916.434 1386.4 L916.434 160.256 L652.794 160.256 L652.794 160.256  Z\n",
       "  \" fill=\"#009af9\" fill-rule=\"evenodd\" fill-opacity=\"1\"/>\n",
       "<polyline clip-path=\"url(#clip252)\" style=\"stroke:#000000; stroke-linecap:butt; stroke-linejoin:round; stroke-width:4; stroke-opacity:1; fill:none\" points=\"\n",
       "  652.794,160.256 652.794,1386.4 916.434,1386.4 916.434,160.256 652.794,160.256 \n",
       "  \"/>\n",
       "<path clip-path=\"url(#clip252)\" d=\"\n",
       "M982.344 888.832 L982.344 1386.4 L1245.98 1386.4 L1245.98 888.832 L982.344 888.832 L982.344 888.832  Z\n",
       "  \" fill=\"#009af9\" fill-rule=\"evenodd\" fill-opacity=\"1\"/>\n",
       "<polyline clip-path=\"url(#clip252)\" style=\"stroke:#000000; stroke-linecap:butt; stroke-linejoin:round; stroke-width:4; stroke-opacity:1; fill:none\" points=\"\n",
       "  982.344,888.832 982.344,1386.4 1245.98,1386.4 1245.98,888.832 982.344,888.832 \n",
       "  \"/>\n",
       "<path clip-path=\"url(#clip252)\" d=\"\n",
       "M1311.89 1190.92 L1311.89 1386.4 L1575.53 1386.4 L1575.53 1190.92 L1311.89 1190.92 L1311.89 1190.92  Z\n",
       "  \" fill=\"#009af9\" fill-rule=\"evenodd\" fill-opacity=\"1\"/>\n",
       "<polyline clip-path=\"url(#clip252)\" style=\"stroke:#000000; stroke-linecap:butt; stroke-linejoin:round; stroke-width:4; stroke-opacity:1; fill:none\" points=\"\n",
       "  1311.89,1190.92 1311.89,1386.4 1575.53,1386.4 1575.53,1190.92 1311.89,1190.92 \n",
       "  \"/>\n",
       "<path clip-path=\"url(#clip252)\" d=\"\n",
       "M1641.44 1173.15 L1641.44 1386.4 L1905.08 1386.4 L1905.08 1173.15 L1641.44 1173.15 L1641.44 1173.15  Z\n",
       "  \" fill=\"#009af9\" fill-rule=\"evenodd\" fill-opacity=\"1\"/>\n",
       "<polyline clip-path=\"url(#clip252)\" style=\"stroke:#000000; stroke-linecap:butt; stroke-linejoin:round; stroke-width:4; stroke-opacity:1; fill:none\" points=\"\n",
       "  1641.44,1173.15 1641.44,1386.4 1905.08,1386.4 1905.08,1173.15 1641.44,1173.15 \n",
       "  \"/>\n",
       "<path clip-path=\"url(#clip252)\" d=\"\n",
       "M1970.99 1386.4 L1970.99 1386.4 L2234.63 1386.4 L2234.63 1386.4 L1970.99 1386.4 L1970.99 1386.4  Z\n",
       "  \" fill=\"#009af9\" fill-rule=\"evenodd\" fill-opacity=\"1\"/>\n",
       "<polyline clip-path=\"url(#clip252)\" style=\"stroke:#000000; stroke-linecap:butt; stroke-linejoin:round; stroke-width:4; stroke-opacity:1; fill:none\" points=\"\n",
       "  1970.99,1386.4 1970.99,1386.4 2234.63,1386.4 1970.99,1386.4 \n",
       "  \"/>\n",
       "<circle clip-path=\"url(#clip252)\" style=\"fill:#009af9; stroke:none; fill-opacity:0\" cx=\"455.065\" cy=\"1386.4\" r=\"2\"/>\n",
       "<circle clip-path=\"url(#clip252)\" style=\"fill:#009af9; stroke:none; fill-opacity:0\" cx=\"784.614\" cy=\"160.256\" r=\"2\"/>\n",
       "<circle clip-path=\"url(#clip252)\" style=\"fill:#009af9; stroke:none; fill-opacity:0\" cx=\"1114.16\" cy=\"888.832\" r=\"2\"/>\n",
       "<circle clip-path=\"url(#clip252)\" style=\"fill:#009af9; stroke:none; fill-opacity:0\" cx=\"1443.71\" cy=\"1190.92\" r=\"2\"/>\n",
       "<circle clip-path=\"url(#clip252)\" style=\"fill:#009af9; stroke:none; fill-opacity:0\" cx=\"1773.26\" cy=\"1173.15\" r=\"2\"/>\n",
       "<circle clip-path=\"url(#clip252)\" style=\"fill:#009af9; stroke:none; fill-opacity:0\" cx=\"2102.81\" cy=\"1386.4\" r=\"2\"/>\n",
       "</svg>\n"
      ]
     },
     "metadata": {},
     "output_type": "display_data"
    },
    {
     "data": {
      "image/svg+xml": [
       "<?xml version=\"1.0\" encoding=\"utf-8\"?>\n",
       "<svg xmlns=\"http://www.w3.org/2000/svg\" xmlns:xlink=\"http://www.w3.org/1999/xlink\" width=\"600\" height=\"400\" viewBox=\"0 0 2400 1600\">\n",
       "<defs>\n",
       "  <clipPath id=\"clip290\">\n",
       "    <rect x=\"0\" y=\"0\" width=\"2400\" height=\"1600\"/>\n",
       "  </clipPath>\n",
       "</defs>\n",
       "<path clip-path=\"url(#clip290)\" d=\"\n",
       "M0 1600 L2400 1600 L2400 0 L0 0  Z\n",
       "  \" fill=\"#ffffff\" fill-rule=\"evenodd\" fill-opacity=\"1\"/>\n",
       "<defs>\n",
       "  <clipPath id=\"clip291\">\n",
       "    <rect x=\"480\" y=\"0\" width=\"1681\" height=\"1600\"/>\n",
       "  </clipPath>\n",
       "</defs>\n",
       "<path clip-path=\"url(#clip290)\" d=\"\n",
       "M264.287 1423.18 L2352.76 1423.18 L2352.76 123.472 L264.287 123.472  Z\n",
       "  \" fill=\"#ffffff\" fill-rule=\"evenodd\" fill-opacity=\"1\"/>\n",
       "<defs>\n",
       "  <clipPath id=\"clip292\">\n",
       "    <rect x=\"264\" y=\"123\" width=\"2089\" height=\"1301\"/>\n",
       "  </clipPath>\n",
       "</defs>\n",
       "<polyline clip-path=\"url(#clip292)\" style=\"stroke:#000000; stroke-linecap:butt; stroke-linejoin:round; stroke-width:2; stroke-opacity:0.1; fill:none\" points=\"\n",
       "  507.345,1423.18 507.345,123.472 \n",
       "  \"/>\n",
       "<polyline clip-path=\"url(#clip292)\" style=\"stroke:#000000; stroke-linecap:butt; stroke-linejoin:round; stroke-width:2; stroke-opacity:0.1; fill:none\" points=\"\n",
       "  827.816,1423.18 827.816,123.472 \n",
       "  \"/>\n",
       "<polyline clip-path=\"url(#clip292)\" style=\"stroke:#000000; stroke-linecap:butt; stroke-linejoin:round; stroke-width:2; stroke-opacity:0.1; fill:none\" points=\"\n",
       "  1148.29,1423.18 1148.29,123.472 \n",
       "  \"/>\n",
       "<polyline clip-path=\"url(#clip292)\" style=\"stroke:#000000; stroke-linecap:butt; stroke-linejoin:round; stroke-width:2; stroke-opacity:0.1; fill:none\" points=\"\n",
       "  1468.76,1423.18 1468.76,123.472 \n",
       "  \"/>\n",
       "<polyline clip-path=\"url(#clip292)\" style=\"stroke:#000000; stroke-linecap:butt; stroke-linejoin:round; stroke-width:2; stroke-opacity:0.1; fill:none\" points=\"\n",
       "  1789.23,1423.18 1789.23,123.472 \n",
       "  \"/>\n",
       "<polyline clip-path=\"url(#clip292)\" style=\"stroke:#000000; stroke-linecap:butt; stroke-linejoin:round; stroke-width:2; stroke-opacity:0.1; fill:none\" points=\"\n",
       "  2109.7,1423.18 2109.7,123.472 \n",
       "  \"/>\n",
       "<polyline clip-path=\"url(#clip290)\" style=\"stroke:#000000; stroke-linecap:butt; stroke-linejoin:round; stroke-width:4; stroke-opacity:1; fill:none\" points=\"\n",
       "  264.287,1423.18 2352.76,1423.18 \n",
       "  \"/>\n",
       "<polyline clip-path=\"url(#clip290)\" style=\"stroke:#000000; stroke-linecap:butt; stroke-linejoin:round; stroke-width:4; stroke-opacity:1; fill:none\" points=\"\n",
       "  507.345,1423.18 507.345,1404.28 \n",
       "  \"/>\n",
       "<polyline clip-path=\"url(#clip290)\" style=\"stroke:#000000; stroke-linecap:butt; stroke-linejoin:round; stroke-width:4; stroke-opacity:1; fill:none\" points=\"\n",
       "  827.816,1423.18 827.816,1404.28 \n",
       "  \"/>\n",
       "<polyline clip-path=\"url(#clip290)\" style=\"stroke:#000000; stroke-linecap:butt; stroke-linejoin:round; stroke-width:4; stroke-opacity:1; fill:none\" points=\"\n",
       "  1148.29,1423.18 1148.29,1404.28 \n",
       "  \"/>\n",
       "<polyline clip-path=\"url(#clip290)\" style=\"stroke:#000000; stroke-linecap:butt; stroke-linejoin:round; stroke-width:4; stroke-opacity:1; fill:none\" points=\"\n",
       "  1468.76,1423.18 1468.76,1404.28 \n",
       "  \"/>\n",
       "<polyline clip-path=\"url(#clip290)\" style=\"stroke:#000000; stroke-linecap:butt; stroke-linejoin:round; stroke-width:4; stroke-opacity:1; fill:none\" points=\"\n",
       "  1789.23,1423.18 1789.23,1404.28 \n",
       "  \"/>\n",
       "<polyline clip-path=\"url(#clip290)\" style=\"stroke:#000000; stroke-linecap:butt; stroke-linejoin:round; stroke-width:4; stroke-opacity:1; fill:none\" points=\"\n",
       "  2109.7,1423.18 2109.7,1404.28 \n",
       "  \"/>\n",
       "<path clip-path=\"url(#clip290)\" d=\"M497.727 1481.64 L505.366 1481.64 L505.366 1455.28 L497.056 1456.95 L497.056 1452.69 L505.32 1451.02 L509.996 1451.02 L509.996 1481.64 L517.634 1481.64 L517.634 1485.58 L497.727 1485.58 L497.727 1481.64 Z\" fill=\"#000000\" fill-rule=\"evenodd\" fill-opacity=\"1\" /><path clip-path=\"url(#clip290)\" d=\"M822.468 1481.64 L838.788 1481.64 L838.788 1485.58 L816.844 1485.58 L816.844 1481.64 Q819.506 1478.89 824.089 1474.26 Q828.695 1469.61 829.876 1468.27 Q832.121 1465.74 833.001 1464.01 Q833.904 1462.25 833.904 1460.56 Q833.904 1457.8 831.959 1456.07 Q830.038 1454.33 826.936 1454.33 Q824.737 1454.33 822.283 1455.09 Q819.853 1455.86 817.075 1457.41 L817.075 1452.69 Q819.899 1451.55 822.353 1450.97 Q824.806 1450.39 826.843 1450.39 Q832.214 1450.39 835.408 1453.08 Q838.603 1455.77 838.603 1460.26 Q838.603 1462.39 837.792 1464.31 Q837.005 1466.2 834.899 1468.8 Q834.32 1469.47 831.218 1472.69 Q828.117 1475.88 822.468 1481.64 Z\" fill=\"#000000\" fill-rule=\"evenodd\" fill-opacity=\"1\" /><path clip-path=\"url(#clip290)\" d=\"M1152.53 1466.95 Q1155.89 1467.66 1157.77 1469.93 Q1159.66 1472.2 1159.66 1475.53 Q1159.66 1480.65 1156.15 1483.45 Q1152.63 1486.25 1146.15 1486.25 Q1143.97 1486.25 1141.65 1485.81 Q1139.36 1485.39 1136.91 1484.54 L1136.91 1480.02 Q1138.85 1481.16 1141.17 1481.74 Q1143.48 1482.32 1146.01 1482.32 Q1150.4 1482.32 1152.7 1480.58 Q1155.01 1478.84 1155.01 1475.53 Q1155.01 1472.48 1152.86 1470.77 Q1150.73 1469.03 1146.91 1469.03 L1142.88 1469.03 L1142.88 1465.19 L1147.09 1465.19 Q1150.54 1465.19 1152.37 1463.82 Q1154.2 1462.43 1154.2 1459.84 Q1154.2 1457.18 1152.3 1455.77 Q1150.43 1454.33 1146.91 1454.33 Q1144.99 1454.33 1142.79 1454.75 Q1140.59 1455.16 1137.95 1456.04 L1137.95 1451.88 Q1140.61 1451.14 1142.93 1450.77 Q1145.27 1450.39 1147.33 1450.39 Q1152.65 1450.39 1155.75 1452.83 Q1158.85 1455.23 1158.85 1459.35 Q1158.85 1462.22 1157.21 1464.21 Q1155.57 1466.18 1152.53 1466.95 Z\" fill=\"#000000\" fill-rule=\"evenodd\" fill-opacity=\"1\" /><path clip-path=\"url(#clip290)\" d=\"M1471.77 1455.09 L1459.96 1473.54 L1471.77 1473.54 L1471.77 1455.09 M1470.54 1451.02 L1476.42 1451.02 L1476.42 1473.54 L1481.35 1473.54 L1481.35 1477.43 L1476.42 1477.43 L1476.42 1485.58 L1471.77 1485.58 L1471.77 1477.43 L1456.16 1477.43 L1456.16 1472.92 L1470.54 1451.02 Z\" fill=\"#000000\" fill-rule=\"evenodd\" fill-opacity=\"1\" /><path clip-path=\"url(#clip290)\" d=\"M1779.51 1451.02 L1797.86 1451.02 L1797.86 1454.96 L1783.79 1454.96 L1783.79 1463.43 Q1784.81 1463.08 1785.82 1462.92 Q1786.84 1462.73 1787.86 1462.73 Q1793.65 1462.73 1797.03 1465.9 Q1800.41 1469.08 1800.41 1474.49 Q1800.41 1480.07 1796.94 1483.17 Q1793.46 1486.25 1787.14 1486.25 Q1784.97 1486.25 1782.7 1485.88 Q1780.45 1485.51 1778.05 1484.77 L1778.05 1480.07 Q1780.13 1481.2 1782.35 1481.76 Q1784.57 1482.32 1787.05 1482.32 Q1791.06 1482.32 1793.39 1480.21 Q1795.73 1478.1 1795.73 1474.49 Q1795.73 1470.88 1793.39 1468.77 Q1791.06 1466.67 1787.05 1466.67 Q1785.18 1466.67 1783.3 1467.08 Q1781.45 1467.5 1779.51 1468.38 L1779.51 1451.02 Z\" fill=\"#000000\" fill-rule=\"evenodd\" fill-opacity=\"1\" /><path clip-path=\"url(#clip290)\" d=\"M2110.1 1466.44 Q2106.96 1466.44 2105.1 1468.59 Q2103.27 1470.74 2103.27 1474.49 Q2103.27 1478.22 2105.1 1480.39 Q2106.96 1482.55 2110.1 1482.55 Q2113.25 1482.55 2115.08 1480.39 Q2116.93 1478.22 2116.93 1474.49 Q2116.93 1470.74 2115.08 1468.59 Q2113.25 1466.44 2110.1 1466.44 M2119.39 1451.78 L2119.39 1456.04 Q2117.63 1455.21 2115.82 1454.77 Q2114.04 1454.33 2112.28 1454.33 Q2107.65 1454.33 2105.2 1457.45 Q2102.77 1460.58 2102.42 1466.9 Q2103.78 1464.89 2105.84 1463.82 Q2107.9 1462.73 2110.38 1462.73 Q2115.59 1462.73 2118.6 1465.9 Q2121.63 1469.05 2121.63 1474.49 Q2121.63 1479.82 2118.48 1483.03 Q2115.33 1486.25 2110.1 1486.25 Q2104.11 1486.25 2100.94 1481.67 Q2097.77 1477.06 2097.77 1468.33 Q2097.77 1460.14 2101.65 1455.28 Q2105.54 1450.39 2112.09 1450.39 Q2113.85 1450.39 2115.64 1450.74 Q2117.44 1451.09 2119.39 1451.78 Z\" fill=\"#000000\" fill-rule=\"evenodd\" fill-opacity=\"1\" /><path clip-path=\"url(#clip290)\" d=\"M1185.97 1522.27 L1185.97 1532.4 L1198.03 1532.4 L1198.03 1536.95 L1185.97 1536.95 L1185.97 1556.3 Q1185.97 1560.66 1187.14 1561.9 Q1188.35 1563.14 1192.01 1563.14 L1198.03 1563.14 L1198.03 1568.04 L1192.01 1568.04 Q1185.23 1568.04 1182.66 1565.53 Q1180.08 1562.98 1180.08 1556.3 L1180.08 1536.95 L1175.78 1536.95 L1175.78 1532.4 L1180.08 1532.4 L1180.08 1522.27 L1185.97 1522.27 Z\" fill=\"#000000\" fill-rule=\"evenodd\" fill-opacity=\"1\" /><path clip-path=\"url(#clip290)\" d=\"M1235.36 1546.53 L1235.36 1568.04 L1229.51 1568.04 L1229.51 1546.72 Q1229.51 1541.66 1227.53 1539.14 Q1225.56 1536.63 1221.61 1536.63 Q1216.87 1536.63 1214.13 1539.65 Q1211.4 1542.68 1211.4 1547.9 L1211.4 1568.04 L1205.51 1568.04 L1205.51 1518.52 L1211.4 1518.52 L1211.4 1537.93 Q1213.5 1534.72 1216.33 1533.13 Q1219.19 1531.54 1222.92 1531.54 Q1229.06 1531.54 1232.21 1535.36 Q1235.36 1539.14 1235.36 1546.53 Z\" fill=\"#000000\" fill-rule=\"evenodd\" fill-opacity=\"1\" /><path clip-path=\"url(#clip290)\" d=\"M1267.7 1537.87 Q1266.71 1537.3 1265.54 1537.04 Q1264.39 1536.76 1262.99 1536.76 Q1258.03 1536.76 1255.35 1540 Q1252.71 1543.22 1252.71 1549.27 L1252.71 1568.04 L1246.82 1568.04 L1246.82 1532.4 L1252.71 1532.4 L1252.71 1537.93 Q1254.56 1534.69 1257.52 1533.13 Q1260.48 1531.54 1264.71 1531.54 Q1265.31 1531.54 1266.05 1531.63 Q1266.78 1531.7 1267.67 1531.85 L1267.7 1537.87 Z\" fill=\"#000000\" fill-rule=\"evenodd\" fill-opacity=\"1\" /><path clip-path=\"url(#clip290)\" d=\"M1302.9 1548.76 L1302.9 1551.62 L1275.98 1551.62 Q1276.36 1557.67 1279.61 1560.85 Q1282.88 1564 1288.71 1564 Q1292.08 1564 1295.23 1563.17 Q1298.42 1562.35 1301.54 1560.69 L1301.54 1566.23 Q1298.38 1567.57 1295.07 1568.27 Q1291.76 1568.97 1288.36 1568.97 Q1279.83 1568.97 1274.83 1564 Q1269.87 1559.04 1269.87 1550.57 Q1269.87 1541.82 1274.58 1536.69 Q1279.32 1531.54 1287.34 1531.54 Q1294.53 1531.54 1298.7 1536.18 Q1302.9 1540.8 1302.9 1548.76 M1297.05 1547.04 Q1296.98 1542.23 1294.34 1539.37 Q1291.73 1536.5 1287.4 1536.5 Q1282.5 1536.5 1279.54 1539.27 Q1276.61 1542.04 1276.17 1547.07 L1297.05 1547.04 Z\" fill=\"#000000\" fill-rule=\"evenodd\" fill-opacity=\"1\" /><path clip-path=\"url(#clip290)\" d=\"M1328.72 1550.12 Q1321.62 1550.12 1318.88 1551.75 Q1316.14 1553.37 1316.14 1557.29 Q1316.14 1560.4 1318.18 1562.25 Q1320.25 1564.07 1323.78 1564.07 Q1328.65 1564.07 1331.58 1560.63 Q1334.54 1557.16 1334.54 1551.43 L1334.54 1550.12 L1328.72 1550.12 M1340.4 1547.71 L1340.4 1568.04 L1334.54 1568.04 L1334.54 1562.63 Q1332.54 1565.88 1329.54 1567.44 Q1326.55 1568.97 1322.22 1568.97 Q1316.75 1568.97 1313.5 1565.91 Q1310.29 1562.82 1310.29 1557.67 Q1310.29 1551.65 1314.3 1548.6 Q1318.34 1545.54 1326.33 1545.54 L1334.54 1545.54 L1334.54 1544.97 Q1334.54 1540.93 1331.87 1538.73 Q1329.23 1536.5 1324.42 1536.5 Q1321.36 1536.5 1318.47 1537.23 Q1315.57 1537.97 1312.9 1539.43 L1312.9 1534.02 Q1316.11 1532.78 1319.14 1532.17 Q1322.16 1531.54 1325.02 1531.54 Q1332.76 1531.54 1336.58 1535.55 Q1340.4 1539.56 1340.4 1547.71 Z\" fill=\"#000000\" fill-rule=\"evenodd\" fill-opacity=\"1\" /><path clip-path=\"url(#clip290)\" d=\"M1375.92 1537.81 L1375.92 1518.52 L1381.77 1518.52 L1381.77 1568.04 L1375.92 1568.04 L1375.92 1562.7 Q1374.07 1565.88 1371.24 1567.44 Q1368.44 1568.97 1364.49 1568.97 Q1358.03 1568.97 1353.96 1563.81 Q1349.91 1558.65 1349.91 1550.25 Q1349.91 1541.85 1353.96 1536.69 Q1358.03 1531.54 1364.49 1531.54 Q1368.44 1531.54 1371.24 1533.1 Q1374.07 1534.62 1375.92 1537.81 M1355.96 1550.25 Q1355.96 1556.71 1358.6 1560.4 Q1361.28 1564.07 1365.92 1564.07 Q1370.57 1564.07 1373.24 1560.4 Q1375.92 1556.71 1375.92 1550.25 Q1375.92 1543.79 1373.24 1540.13 Q1370.57 1536.44 1365.92 1536.44 Q1361.28 1536.44 1358.6 1540.13 Q1355.96 1543.79 1355.96 1550.25 Z\" fill=\"#000000\" fill-rule=\"evenodd\" fill-opacity=\"1\" /><path clip-path=\"url(#clip290)\" d=\"M1393.84 1532.4 L1399.69 1532.4 L1399.69 1568.04 L1393.84 1568.04 L1393.84 1532.4 M1393.84 1518.52 L1399.69 1518.52 L1399.69 1525.93 L1393.84 1525.93 L1393.84 1518.52 Z\" fill=\"#000000\" fill-rule=\"evenodd\" fill-opacity=\"1\" /><path clip-path=\"url(#clip290)\" d=\"M1435.41 1537.81 L1435.41 1518.52 L1441.26 1518.52 L1441.26 1568.04 L1435.41 1568.04 L1435.41 1562.7 Q1433.56 1565.88 1430.73 1567.44 Q1427.93 1568.97 1423.98 1568.97 Q1417.52 1568.97 1413.44 1563.81 Q1409.4 1558.65 1409.4 1550.25 Q1409.4 1541.85 1413.44 1536.69 Q1417.52 1531.54 1423.98 1531.54 Q1427.93 1531.54 1430.73 1533.1 Q1433.56 1534.62 1435.41 1537.81 M1415.45 1550.25 Q1415.45 1556.71 1418.09 1560.4 Q1420.76 1564.07 1425.41 1564.07 Q1430.06 1564.07 1432.73 1560.4 Q1435.41 1556.71 1435.41 1550.25 Q1435.41 1543.79 1432.73 1540.13 Q1430.06 1536.44 1425.41 1536.44 Q1420.76 1536.44 1418.09 1540.13 Q1415.45 1543.79 1415.45 1550.25 Z\" fill=\"#000000\" fill-rule=\"evenodd\" fill-opacity=\"1\" /><polyline clip-path=\"url(#clip292)\" style=\"stroke:#000000; stroke-linecap:butt; stroke-linejoin:round; stroke-width:2; stroke-opacity:0.1; fill:none\" points=\"\n",
       "  264.287,1386.4 2352.76,1386.4 \n",
       "  \"/>\n",
       "<polyline clip-path=\"url(#clip292)\" style=\"stroke:#000000; stroke-linecap:butt; stroke-linejoin:round; stroke-width:2; stroke-opacity:0.1; fill:none\" points=\"\n",
       "  264.287,1034.86 2352.76,1034.86 \n",
       "  \"/>\n",
       "<polyline clip-path=\"url(#clip292)\" style=\"stroke:#000000; stroke-linecap:butt; stroke-linejoin:round; stroke-width:2; stroke-opacity:0.1; fill:none\" points=\"\n",
       "  264.287,683.334 2352.76,683.334 \n",
       "  \"/>\n",
       "<polyline clip-path=\"url(#clip292)\" style=\"stroke:#000000; stroke-linecap:butt; stroke-linejoin:round; stroke-width:2; stroke-opacity:0.1; fill:none\" points=\"\n",
       "  264.287,331.803 2352.76,331.803 \n",
       "  \"/>\n",
       "<polyline clip-path=\"url(#clip290)\" style=\"stroke:#000000; stroke-linecap:butt; stroke-linejoin:round; stroke-width:4; stroke-opacity:1; fill:none\" points=\"\n",
       "  264.287,1423.18 264.287,123.472 \n",
       "  \"/>\n",
       "<polyline clip-path=\"url(#clip290)\" style=\"stroke:#000000; stroke-linecap:butt; stroke-linejoin:round; stroke-width:4; stroke-opacity:1; fill:none\" points=\"\n",
       "  264.287,1386.4 283.185,1386.4 \n",
       "  \"/>\n",
       "<polyline clip-path=\"url(#clip290)\" style=\"stroke:#000000; stroke-linecap:butt; stroke-linejoin:round; stroke-width:4; stroke-opacity:1; fill:none\" points=\"\n",
       "  264.287,1034.86 283.185,1034.86 \n",
       "  \"/>\n",
       "<polyline clip-path=\"url(#clip290)\" style=\"stroke:#000000; stroke-linecap:butt; stroke-linejoin:round; stroke-width:4; stroke-opacity:1; fill:none\" points=\"\n",
       "  264.287,683.334 283.185,683.334 \n",
       "  \"/>\n",
       "<polyline clip-path=\"url(#clip290)\" style=\"stroke:#000000; stroke-linecap:butt; stroke-linejoin:round; stroke-width:4; stroke-opacity:1; fill:none\" points=\"\n",
       "  264.287,331.803 283.185,331.803 \n",
       "  \"/>\n",
       "<path clip-path=\"url(#clip290)\" d=\"M216.343 1372.19 Q212.732 1372.19 210.903 1375.76 Q209.098 1379.3 209.098 1386.43 Q209.098 1393.54 210.903 1397.1 Q212.732 1400.64 216.343 1400.64 Q219.977 1400.64 221.783 1397.1 Q223.611 1393.54 223.611 1386.43 Q223.611 1379.3 221.783 1375.76 Q219.977 1372.19 216.343 1372.19 M216.343 1368.49 Q222.153 1368.49 225.209 1373.1 Q228.287 1377.68 228.287 1386.43 Q228.287 1395.16 225.209 1399.76 Q222.153 1404.35 216.343 1404.35 Q210.533 1404.35 207.454 1399.76 Q204.399 1395.16 204.399 1386.43 Q204.399 1377.68 207.454 1373.1 Q210.533 1368.49 216.343 1368.49 Z\" fill=\"#000000\" fill-rule=\"evenodd\" fill-opacity=\"1\" /><path clip-path=\"url(#clip290)\" d=\"M116.668 1048.21 L124.306 1048.21 L124.306 1021.84 L115.996 1023.51 L115.996 1019.25 L124.26 1017.58 L128.936 1017.58 L128.936 1048.21 L136.575 1048.21 L136.575 1052.14 L116.668 1052.14 L116.668 1048.21 Z\" fill=\"#000000\" fill-rule=\"evenodd\" fill-opacity=\"1\" /><path clip-path=\"url(#clip290)\" d=\"M156.019 1020.66 Q152.408 1020.66 150.579 1024.23 Q148.774 1027.77 148.774 1034.9 Q148.774 1042.01 150.579 1045.57 Q152.408 1049.11 156.019 1049.11 Q159.653 1049.11 161.459 1045.57 Q163.288 1042.01 163.288 1034.9 Q163.288 1027.77 161.459 1024.23 Q159.653 1020.66 156.019 1020.66 M156.019 1016.96 Q161.829 1016.96 164.885 1021.57 Q167.964 1026.15 167.964 1034.9 Q167.964 1043.63 164.885 1048.23 Q161.829 1052.82 156.019 1052.82 Q150.209 1052.82 147.13 1048.23 Q144.075 1043.63 144.075 1034.9 Q144.075 1026.15 147.13 1021.57 Q150.209 1016.96 156.019 1016.96 Z\" fill=\"#000000\" fill-rule=\"evenodd\" fill-opacity=\"1\" /><path clip-path=\"url(#clip290)\" d=\"M186.181 1020.66 Q182.57 1020.66 180.741 1024.23 Q178.936 1027.77 178.936 1034.9 Q178.936 1042.01 180.741 1045.57 Q182.57 1049.11 186.181 1049.11 Q189.815 1049.11 191.621 1045.57 Q193.45 1042.01 193.45 1034.9 Q193.45 1027.77 191.621 1024.23 Q189.815 1020.66 186.181 1020.66 M186.181 1016.96 Q191.991 1016.96 195.047 1021.57 Q198.125 1026.15 198.125 1034.9 Q198.125 1043.63 195.047 1048.23 Q191.991 1052.82 186.181 1052.82 Q180.371 1052.82 177.292 1048.23 Q174.237 1043.63 174.237 1034.9 Q174.237 1026.15 177.292 1021.57 Q180.371 1016.96 186.181 1016.96 Z\" fill=\"#000000\" fill-rule=\"evenodd\" fill-opacity=\"1\" /><path clip-path=\"url(#clip290)\" d=\"M216.343 1020.66 Q212.732 1020.66 210.903 1024.23 Q209.098 1027.77 209.098 1034.9 Q209.098 1042.01 210.903 1045.57 Q212.732 1049.11 216.343 1049.11 Q219.977 1049.11 221.783 1045.57 Q223.611 1042.01 223.611 1034.9 Q223.611 1027.77 221.783 1024.23 Q219.977 1020.66 216.343 1020.66 M216.343 1016.96 Q222.153 1016.96 225.209 1021.57 Q228.287 1026.15 228.287 1034.9 Q228.287 1043.63 225.209 1048.23 Q222.153 1052.82 216.343 1052.82 Q210.533 1052.82 207.454 1048.23 Q204.399 1043.63 204.399 1034.9 Q204.399 1026.15 207.454 1021.57 Q210.533 1016.96 216.343 1016.96 Z\" fill=\"#000000\" fill-rule=\"evenodd\" fill-opacity=\"1\" /><path clip-path=\"url(#clip290)\" d=\"M119.885 696.679 L136.204 696.679 L136.204 700.614 L114.26 700.614 L114.26 696.679 Q116.922 693.924 121.505 689.295 Q126.112 684.642 127.292 683.299 Q129.538 680.776 130.417 679.04 Q131.32 677.281 131.32 675.591 Q131.32 672.836 129.376 671.1 Q127.455 669.364 124.353 669.364 Q122.154 669.364 119.7 670.128 Q117.269 670.892 114.492 672.443 L114.492 667.721 Q117.316 666.587 119.769 666.008 Q122.223 665.429 124.26 665.429 Q129.63 665.429 132.825 668.114 Q136.019 670.799 136.019 675.29 Q136.019 677.42 135.209 679.341 Q134.422 681.239 132.316 683.832 Q131.737 684.503 128.635 687.721 Q125.533 690.915 119.885 696.679 Z\" fill=\"#000000\" fill-rule=\"evenodd\" fill-opacity=\"1\" /><path clip-path=\"url(#clip290)\" d=\"M156.019 669.133 Q152.408 669.133 150.579 672.698 Q148.774 676.239 148.774 683.369 Q148.774 690.475 150.579 694.04 Q152.408 697.582 156.019 697.582 Q159.653 697.582 161.459 694.04 Q163.288 690.475 163.288 683.369 Q163.288 676.239 161.459 672.698 Q159.653 669.133 156.019 669.133 M156.019 665.429 Q161.829 665.429 164.885 670.036 Q167.964 674.619 167.964 683.369 Q167.964 692.096 164.885 696.702 Q161.829 701.285 156.019 701.285 Q150.209 701.285 147.13 696.702 Q144.075 692.096 144.075 683.369 Q144.075 674.619 147.13 670.036 Q150.209 665.429 156.019 665.429 Z\" fill=\"#000000\" fill-rule=\"evenodd\" fill-opacity=\"1\" /><path clip-path=\"url(#clip290)\" d=\"M186.181 669.133 Q182.57 669.133 180.741 672.698 Q178.936 676.239 178.936 683.369 Q178.936 690.475 180.741 694.04 Q182.57 697.582 186.181 697.582 Q189.815 697.582 191.621 694.04 Q193.45 690.475 193.45 683.369 Q193.45 676.239 191.621 672.698 Q189.815 669.133 186.181 669.133 M186.181 665.429 Q191.991 665.429 195.047 670.036 Q198.125 674.619 198.125 683.369 Q198.125 692.096 195.047 696.702 Q191.991 701.285 186.181 701.285 Q180.371 701.285 177.292 696.702 Q174.237 692.096 174.237 683.369 Q174.237 674.619 177.292 670.036 Q180.371 665.429 186.181 665.429 Z\" fill=\"#000000\" fill-rule=\"evenodd\" fill-opacity=\"1\" /><path clip-path=\"url(#clip290)\" d=\"M216.343 669.133 Q212.732 669.133 210.903 672.698 Q209.098 676.239 209.098 683.369 Q209.098 690.475 210.903 694.04 Q212.732 697.582 216.343 697.582 Q219.977 697.582 221.783 694.04 Q223.611 690.475 223.611 683.369 Q223.611 676.239 221.783 672.698 Q219.977 669.133 216.343 669.133 M216.343 665.429 Q222.153 665.429 225.209 670.036 Q228.287 674.619 228.287 683.369 Q228.287 692.096 225.209 696.702 Q222.153 701.285 216.343 701.285 Q210.533 701.285 207.454 696.702 Q204.399 692.096 204.399 683.369 Q204.399 674.619 207.454 670.036 Q210.533 665.429 216.343 665.429 Z\" fill=\"#000000\" fill-rule=\"evenodd\" fill-opacity=\"1\" /><path clip-path=\"url(#clip290)\" d=\"M130.024 330.449 Q133.38 331.167 135.255 333.435 Q137.154 335.704 137.154 339.037 Q137.154 344.153 133.635 346.954 Q130.117 349.755 123.635 349.755 Q121.459 349.755 119.144 349.315 Q116.853 348.898 114.399 348.042 L114.399 343.528 Q116.343 344.662 118.658 345.241 Q120.973 345.819 123.496 345.819 Q127.894 345.819 130.186 344.083 Q132.501 342.347 132.501 339.037 Q132.501 335.982 130.348 334.269 Q128.218 332.532 124.399 332.532 L120.371 332.532 L120.371 328.69 L124.584 328.69 Q128.033 328.69 129.862 327.324 Q131.691 325.935 131.691 323.343 Q131.691 320.681 129.792 319.269 Q127.917 317.833 124.399 317.833 Q122.478 317.833 120.279 318.25 Q118.08 318.667 115.441 319.546 L115.441 315.38 Q118.103 314.639 120.418 314.269 Q122.755 313.898 124.816 313.898 Q130.14 313.898 133.242 316.329 Q136.343 318.736 136.343 322.857 Q136.343 325.727 134.7 327.718 Q133.056 329.685 130.024 330.449 Z\" fill=\"#000000\" fill-rule=\"evenodd\" fill-opacity=\"1\" /><path clip-path=\"url(#clip290)\" d=\"M156.019 317.602 Q152.408 317.602 150.579 321.167 Q148.774 324.708 148.774 331.838 Q148.774 338.944 150.579 342.509 Q152.408 346.051 156.019 346.051 Q159.653 346.051 161.459 342.509 Q163.288 338.944 163.288 331.838 Q163.288 324.708 161.459 321.167 Q159.653 317.602 156.019 317.602 M156.019 313.898 Q161.829 313.898 164.885 318.505 Q167.964 323.088 167.964 331.838 Q167.964 340.565 164.885 345.171 Q161.829 349.755 156.019 349.755 Q150.209 349.755 147.13 345.171 Q144.075 340.565 144.075 331.838 Q144.075 323.088 147.13 318.505 Q150.209 313.898 156.019 313.898 Z\" fill=\"#000000\" fill-rule=\"evenodd\" fill-opacity=\"1\" /><path clip-path=\"url(#clip290)\" d=\"M186.181 317.602 Q182.57 317.602 180.741 321.167 Q178.936 324.708 178.936 331.838 Q178.936 338.944 180.741 342.509 Q182.57 346.051 186.181 346.051 Q189.815 346.051 191.621 342.509 Q193.45 338.944 193.45 331.838 Q193.45 324.708 191.621 321.167 Q189.815 317.602 186.181 317.602 M186.181 313.898 Q191.991 313.898 195.047 318.505 Q198.125 323.088 198.125 331.838 Q198.125 340.565 195.047 345.171 Q191.991 349.755 186.181 349.755 Q180.371 349.755 177.292 345.171 Q174.237 340.565 174.237 331.838 Q174.237 323.088 177.292 318.505 Q180.371 313.898 186.181 313.898 Z\" fill=\"#000000\" fill-rule=\"evenodd\" fill-opacity=\"1\" /><path clip-path=\"url(#clip290)\" d=\"M216.343 317.602 Q212.732 317.602 210.903 321.167 Q209.098 324.708 209.098 331.838 Q209.098 338.944 210.903 342.509 Q212.732 346.051 216.343 346.051 Q219.977 346.051 221.783 342.509 Q223.611 338.944 223.611 331.838 Q223.611 324.708 221.783 321.167 Q219.977 317.602 216.343 317.602 M216.343 313.898 Q222.153 313.898 225.209 318.505 Q228.287 323.088 228.287 331.838 Q228.287 340.565 225.209 345.171 Q222.153 349.755 216.343 349.755 Q210.533 349.755 207.454 345.171 Q204.399 340.565 204.399 331.838 Q204.399 323.088 207.454 318.505 Q210.533 313.898 216.343 313.898 Z\" fill=\"#000000\" fill-rule=\"evenodd\" fill-opacity=\"1\" /><path clip-path=\"url(#clip290)\" d=\"M28.3562 917.525 L28.3562 911.669 L56.1743 904.348 L28.3562 897.059 L28.3562 890.153 L56.1743 882.832 L28.3562 875.543 L28.3562 869.687 L64.0042 879.013 L64.0042 885.919 L34.7856 893.59 L64.0042 901.293 L64.0042 908.199 L28.3562 917.525 Z\" fill=\"#000000\" fill-rule=\"evenodd\" fill-opacity=\"1\" /><path clip-path=\"url(#clip290)\" d=\"M32.4621 846.993 Q32.4621 851.704 36.1542 854.441 Q39.8145 857.178 46.212 857.178 Q52.6095 857.178 56.3017 854.473 Q59.9619 851.736 59.9619 846.993 Q59.9619 842.314 56.2698 839.577 Q52.5777 836.84 46.212 836.84 Q39.8781 836.84 36.186 839.577 Q32.4621 842.314 32.4621 846.993 M27.4968 846.993 Q27.4968 839.354 32.4621 834.994 Q37.4273 830.633 46.212 830.633 Q54.9649 830.633 59.9619 834.994 Q64.9272 839.354 64.9272 846.993 Q64.9272 854.664 59.9619 859.024 Q54.9649 863.353 46.212 863.353 Q37.4273 863.353 32.4621 859.024 Q27.4968 854.664 27.4968 846.993 Z\" fill=\"#000000\" fill-rule=\"evenodd\" fill-opacity=\"1\" /><path clip-path=\"url(#clip290)\" d=\"M33.8307 800.269 Q33.2578 801.256 33.0032 802.433 Q32.7167 803.579 32.7167 804.979 Q32.7167 809.945 35.9632 812.618 Q39.1779 815.26 45.2253 815.26 L64.0042 815.26 L64.0042 821.148 L28.3562 821.148 L28.3562 815.26 L33.8944 815.26 Q30.6479 813.414 29.0883 810.454 Q27.4968 807.494 27.4968 803.261 Q27.4968 802.656 27.5923 801.924 Q27.656 801.192 27.8151 800.301 L33.8307 800.269 Z\" fill=\"#000000\" fill-rule=\"evenodd\" fill-opacity=\"1\" /><path clip-path=\"url(#clip290)\" d=\"M14.479 794.349 L14.479 788.46 L43.7294 788.46 L28.3562 770.987 L28.3562 763.507 L45.0344 782.413 L64.0042 762.711 L64.0042 770.35 L46.5939 788.46 L64.0042 788.46 L64.0042 794.349 L14.479 794.349 Z\" fill=\"#000000\" fill-rule=\"evenodd\" fill-opacity=\"1\" /><path clip-path=\"url(#clip290)\" d=\"M14.479 756.377 L14.479 750.521 L64.0042 750.521 L64.0042 756.377 L14.479 756.377 Z\" fill=\"#000000\" fill-rule=\"evenodd\" fill-opacity=\"1\" /><path clip-path=\"url(#clip290)\" d=\"M32.4621 724.453 Q32.4621 729.164 36.1542 731.901 Q39.8145 734.638 46.212 734.638 Q52.6095 734.638 56.3017 731.933 Q59.9619 729.196 59.9619 724.453 Q59.9619 719.774 56.2698 717.037 Q52.5777 714.3 46.212 714.3 Q39.8781 714.3 36.186 717.037 Q32.4621 719.774 32.4621 724.453 M27.4968 724.453 Q27.4968 716.814 32.4621 712.454 Q37.4273 708.093 46.212 708.093 Q54.9649 708.093 59.9619 712.454 Q64.9272 716.814 64.9272 724.453 Q64.9272 732.124 59.9619 736.484 Q54.9649 740.813 46.212 740.813 Q37.4273 740.813 32.4621 736.484 Q27.4968 732.124 27.4968 724.453 Z\" fill=\"#000000\" fill-rule=\"evenodd\" fill-opacity=\"1\" /><path clip-path=\"url(#clip290)\" d=\"M46.0847 682.185 Q46.0847 689.283 47.7079 692.02 Q49.3312 694.757 53.2461 694.757 Q56.3653 694.757 58.2114 692.72 Q60.0256 690.651 60.0256 687.118 Q60.0256 682.249 56.5881 679.32 Q53.1188 676.36 47.3897 676.36 L46.0847 676.36 L46.0847 682.185 M43.6657 670.504 L64.0042 670.504 L64.0042 676.36 L58.5933 676.36 Q61.8398 678.366 63.3994 681.357 Q64.9272 684.349 64.9272 688.678 Q64.9272 694.153 61.8716 697.399 Q58.7843 700.614 53.6281 700.614 Q47.6125 700.614 44.5569 696.603 Q41.5014 692.561 41.5014 684.572 L41.5014 676.36 L40.9285 676.36 Q36.8862 676.36 34.6901 679.034 Q32.4621 681.676 32.4621 686.482 Q32.4621 689.537 33.1941 692.434 Q33.9262 695.33 35.3903 698.004 L29.9795 698.004 Q28.7381 694.789 28.1334 691.765 Q27.4968 688.742 27.4968 685.877 Q27.4968 678.143 31.5072 674.323 Q35.5176 670.504 43.6657 670.504 Z\" fill=\"#000000\" fill-rule=\"evenodd\" fill-opacity=\"1\" /><path clip-path=\"url(#clip290)\" d=\"M33.7671 634.983 L14.479 634.983 L14.479 629.127 L64.0042 629.127 L64.0042 634.983 L58.657 634.983 Q61.8398 636.829 63.3994 639.662 Q64.9272 642.463 64.9272 646.41 Q64.9272 652.871 59.771 656.945 Q54.6147 660.987 46.212 660.987 Q37.8093 660.987 32.6531 656.945 Q27.4968 652.871 27.4968 646.41 Q27.4968 642.463 29.0564 639.662 Q30.5842 636.829 33.7671 634.983 M46.212 654.94 Q52.6732 654.94 56.3653 652.298 Q60.0256 649.624 60.0256 644.977 Q60.0256 640.33 56.3653 637.657 Q52.6732 634.983 46.212 634.983 Q39.7508 634.983 36.0905 637.657 Q32.3984 640.33 32.3984 644.977 Q32.3984 649.624 36.0905 652.298 Q39.7508 654.94 46.212 654.94 Z\" fill=\"#000000\" fill-rule=\"evenodd\" fill-opacity=\"1\" /><path clip-path=\"url(#clip290)\" d=\"M1119.97 12.096 L1128.24 12.096 L1140.96 63.2184 L1153.64 12.096 L1162.83 12.096 L1175.55 63.2184 L1188.23 12.096 L1196.53 12.096 L1181.34 72.576 L1171.05 72.576 L1158.29 20.0763 L1145.41 72.576 L1135.12 72.576 L1119.97 12.096 Z\" fill=\"#000000\" fill-rule=\"evenodd\" fill-opacity=\"1\" /><path clip-path=\"url(#clip290)\" d=\"M1219.79 32.4315 Q1213.79 32.4315 1210.31 37.1306 Q1206.82 41.7891 1206.82 49.9314 Q1206.82 58.0738 1210.27 62.7728 Q1213.75 67.4314 1219.79 67.4314 Q1225.74 67.4314 1229.23 62.7323 Q1232.71 58.0333 1232.71 49.9314 Q1232.71 41.8701 1229.23 37.1711 Q1225.74 32.4315 1219.79 32.4315 M1219.79 26.1121 Q1229.51 26.1121 1235.06 32.4315 Q1240.61 38.7509 1240.61 49.9314 Q1240.61 61.0714 1235.06 67.4314 Q1229.51 73.7508 1219.79 73.7508 Q1210.02 73.7508 1204.47 67.4314 Q1198.96 61.0714 1198.96 49.9314 Q1198.96 38.7509 1204.47 32.4315 Q1210.02 26.1121 1219.79 26.1121 Z\" fill=\"#000000\" fill-rule=\"evenodd\" fill-opacity=\"1\" /><path clip-path=\"url(#clip290)\" d=\"M1279.25 34.1734 Q1278 33.4443 1276.5 33.1202 Q1275.04 32.7556 1273.26 32.7556 Q1266.94 32.7556 1263.54 36.8875 Q1260.17 40.9789 1260.17 48.6757 L1260.17 72.576 L1252.68 72.576 L1252.68 27.2059 L1260.17 27.2059 L1260.17 34.2544 Q1262.52 30.1225 1266.29 28.1376 Q1270.06 26.1121 1275.45 26.1121 Q1276.22 26.1121 1277.15 26.2337 Q1278.08 26.3147 1279.21 26.5172 L1279.25 34.1734 Z\" fill=\"#000000\" fill-rule=\"evenodd\" fill-opacity=\"1\" /><path clip-path=\"url(#clip290)\" d=\"M1286.79 9.54393 L1294.28 9.54393 L1294.28 46.7717 L1316.52 27.2059 L1326.04 27.2059 L1301.98 48.4326 L1327.05 72.576 L1317.33 72.576 L1294.28 50.4176 L1294.28 72.576 L1286.79 72.576 L1286.79 9.54393 Z\" fill=\"#000000\" fill-rule=\"evenodd\" fill-opacity=\"1\" /><path clip-path=\"url(#clip290)\" d=\"M1335.12 9.54393 L1342.57 9.54393 L1342.57 72.576 L1335.12 72.576 L1335.12 9.54393 Z\" fill=\"#000000\" fill-rule=\"evenodd\" fill-opacity=\"1\" /><path clip-path=\"url(#clip290)\" d=\"M1375.75 32.4315 Q1369.75 32.4315 1366.27 37.1306 Q1362.78 41.7891 1362.78 49.9314 Q1362.78 58.0738 1366.23 62.7728 Q1369.71 67.4314 1375.75 67.4314 Q1381.7 67.4314 1385.18 62.7323 Q1388.67 58.0333 1388.67 49.9314 Q1388.67 41.8701 1385.18 37.1711 Q1381.7 32.4315 1375.75 32.4315 M1375.75 26.1121 Q1385.47 26.1121 1391.02 32.4315 Q1396.57 38.7509 1396.57 49.9314 Q1396.57 61.0714 1391.02 67.4314 Q1385.47 73.7508 1375.75 73.7508 Q1365.98 73.7508 1360.43 67.4314 Q1354.92 61.0714 1354.92 49.9314 Q1354.92 38.7509 1360.43 32.4315 Q1365.98 26.1121 1375.75 26.1121 Z\" fill=\"#000000\" fill-rule=\"evenodd\" fill-opacity=\"1\" /><path clip-path=\"url(#clip290)\" d=\"M1429.54 49.7694 Q1420.51 49.7694 1417.03 51.8354 Q1413.54 53.9013 1413.54 58.8839 Q1413.54 62.8538 1416.13 65.2034 Q1418.77 67.5124 1423.26 67.5124 Q1429.46 67.5124 1433.19 63.1374 Q1436.96 58.7219 1436.96 51.4303 L1436.96 49.7694 L1429.54 49.7694 M1444.41 46.6907 L1444.41 72.576 L1436.96 72.576 L1436.96 65.6895 Q1434.4 69.8214 1430.6 71.8063 Q1426.79 73.7508 1421.28 73.7508 Q1414.31 73.7508 1410.18 69.8619 Q1406.09 65.9325 1406.09 59.3701 Q1406.09 51.7138 1411.19 47.825 Q1416.34 43.9361 1426.5 43.9361 L1436.96 43.9361 L1436.96 43.2069 Q1436.96 38.0623 1433.55 35.2672 Q1430.19 32.4315 1424.07 32.4315 Q1420.18 32.4315 1416.5 33.3632 Q1412.81 34.295 1409.41 36.1584 L1409.41 29.2718 Q1413.5 27.692 1417.35 26.9223 Q1421.2 26.1121 1424.84 26.1121 Q1434.69 26.1121 1439.55 31.2163 Q1444.41 36.3204 1444.41 46.6907 Z\" fill=\"#000000\" fill-rule=\"evenodd\" fill-opacity=\"1\" /><path clip-path=\"url(#clip290)\" d=\"M1489.62 34.0924 L1489.62 9.54393 L1497.07 9.54393 L1497.07 72.576 L1489.62 72.576 L1489.62 65.7705 Q1487.27 69.8214 1483.66 71.8063 Q1480.1 73.7508 1475.07 73.7508 Q1466.85 73.7508 1461.67 67.1883 Q1456.52 60.6258 1456.52 49.9314 Q1456.52 39.2371 1461.67 32.6746 Q1466.85 26.1121 1475.07 26.1121 Q1480.1 26.1121 1483.66 28.0971 Q1487.27 30.0415 1489.62 34.0924 M1464.22 49.9314 Q1464.22 58.1548 1467.58 62.8538 Q1470.98 67.5124 1476.9 67.5124 Q1482.81 67.5124 1486.21 62.8538 Q1489.62 58.1548 1489.62 49.9314 Q1489.62 41.7081 1486.21 37.0496 Q1482.81 32.3505 1476.9 32.3505 Q1470.98 32.3505 1467.58 37.0496 Q1464.22 41.7081 1464.22 49.9314 Z\" fill=\"#000000\" fill-rule=\"evenodd\" fill-opacity=\"1\" /><path clip-path=\"url(#clip292)\" d=\"\n",
       "M379.157 1386.4 L379.157 1386.4 L635.533 1386.4 L635.533 1386.4 L379.157 1386.4 L379.157 1386.4  Z\n",
       "  \" fill=\"#009af9\" fill-rule=\"evenodd\" fill-opacity=\"1\"/>\n",
       "<polyline clip-path=\"url(#clip292)\" style=\"stroke:#000000; stroke-linecap:butt; stroke-linejoin:round; stroke-width:4; stroke-opacity:1; fill:none\" points=\"\n",
       "  379.157,1386.4 379.157,1386.4 635.533,1386.4 379.157,1386.4 \n",
       "  \"/>\n",
       "<path clip-path=\"url(#clip292)\" d=\"\n",
       "M699.627 160.256 L699.627 1386.4 L956.004 1386.4 L956.004 160.256 L699.627 160.256 L699.627 160.256  Z\n",
       "  \" fill=\"#009af9\" fill-rule=\"evenodd\" fill-opacity=\"1\"/>\n",
       "<polyline clip-path=\"url(#clip292)\" style=\"stroke:#000000; stroke-linecap:butt; stroke-linejoin:round; stroke-width:4; stroke-opacity:1; fill:none\" points=\"\n",
       "  699.627,160.256 699.627,1386.4 956.004,1386.4 956.004,160.256 699.627,160.256 \n",
       "  \"/>\n",
       "<path clip-path=\"url(#clip292)\" d=\"\n",
       "M1020.1 672.085 L1020.1 1386.4 L1276.47 1386.4 L1276.47 672.085 L1020.1 672.085 L1020.1 672.085  Z\n",
       "  \" fill=\"#009af9\" fill-rule=\"evenodd\" fill-opacity=\"1\"/>\n",
       "<polyline clip-path=\"url(#clip292)\" style=\"stroke:#000000; stroke-linecap:butt; stroke-linejoin:round; stroke-width:4; stroke-opacity:1; fill:none\" points=\"\n",
       "  1020.1,672.085 1020.1,1386.4 1276.47,1386.4 1276.47,672.085 1020.1,672.085 \n",
       "  \"/>\n",
       "<path clip-path=\"url(#clip292)\" d=\"\n",
       "M1340.57 1047.52 L1340.57 1386.4 L1596.95 1386.4 L1596.95 1047.52 L1340.57 1047.52 L1340.57 1047.52  Z\n",
       "  \" fill=\"#009af9\" fill-rule=\"evenodd\" fill-opacity=\"1\"/>\n",
       "<polyline clip-path=\"url(#clip292)\" style=\"stroke:#000000; stroke-linecap:butt; stroke-linejoin:round; stroke-width:4; stroke-opacity:1; fill:none\" points=\"\n",
       "  1340.57,1047.52 1340.57,1386.4 1596.95,1386.4 1596.95,1047.52 1340.57,1047.52 \n",
       "  \"/>\n",
       "<path clip-path=\"url(#clip292)\" d=\"\n",
       "M1661.04 1113.61 L1661.04 1386.4 L1917.42 1386.4 L1917.42 1113.61 L1661.04 1113.61 L1661.04 1113.61  Z\n",
       "  \" fill=\"#009af9\" fill-rule=\"evenodd\" fill-opacity=\"1\"/>\n",
       "<polyline clip-path=\"url(#clip292)\" style=\"stroke:#000000; stroke-linecap:butt; stroke-linejoin:round; stroke-width:4; stroke-opacity:1; fill:none\" points=\"\n",
       "  1661.04,1113.61 1661.04,1386.4 1917.42,1386.4 1917.42,1113.61 1661.04,1113.61 \n",
       "  \"/>\n",
       "<path clip-path=\"url(#clip292)\" d=\"\n",
       "M1981.51 1386.4 L1981.51 1386.4 L2237.89 1386.4 L2237.89 1386.4 L1981.51 1386.4 L1981.51 1386.4  Z\n",
       "  \" fill=\"#009af9\" fill-rule=\"evenodd\" fill-opacity=\"1\"/>\n",
       "<polyline clip-path=\"url(#clip292)\" style=\"stroke:#000000; stroke-linecap:butt; stroke-linejoin:round; stroke-width:4; stroke-opacity:1; fill:none\" points=\"\n",
       "  1981.51,1386.4 1981.51,1386.4 2237.89,1386.4 1981.51,1386.4 \n",
       "  \"/>\n",
       "<circle clip-path=\"url(#clip292)\" style=\"fill:#009af9; stroke:none; fill-opacity:0\" cx=\"507.345\" cy=\"1386.4\" r=\"2\"/>\n",
       "<circle clip-path=\"url(#clip292)\" style=\"fill:#009af9; stroke:none; fill-opacity:0\" cx=\"827.816\" cy=\"160.256\" r=\"2\"/>\n",
       "<circle clip-path=\"url(#clip292)\" style=\"fill:#009af9; stroke:none; fill-opacity:0\" cx=\"1148.29\" cy=\"672.085\" r=\"2\"/>\n",
       "<circle clip-path=\"url(#clip292)\" style=\"fill:#009af9; stroke:none; fill-opacity:0\" cx=\"1468.76\" cy=\"1047.52\" r=\"2\"/>\n",
       "<circle clip-path=\"url(#clip292)\" style=\"fill:#009af9; stroke:none; fill-opacity:0\" cx=\"1789.23\" cy=\"1113.61\" r=\"2\"/>\n",
       "<circle clip-path=\"url(#clip292)\" style=\"fill:#009af9; stroke:none; fill-opacity:0\" cx=\"2109.7\" cy=\"1386.4\" r=\"2\"/>\n",
       "</svg>\n"
      ]
     },
     "metadata": {},
     "output_type": "display_data"
    }
   ],
   "source": [
    "using Plots\n",
    "\n",
    "b1 = bar(niter, xlab=\"threadid\", ylab=\"# iterations\", title=\"Number of iterations\", legend=false)\n",
    "b2 = bar(load, xlab=\"threadid\", ylab=\"workload\", title=\"Workload\", legend=false)\n",
    "\n",
    "display(b1)\n",
    "display(b2)"
   ]
  },
  {
   "cell_type": "code",
   "execution_count": 324,
   "metadata": {},
   "outputs": [
    {
     "data": {
      "text/plain": [
       "compute_nonuniform_threads! (generic function with 3 methods)"
      ]
     },
     "execution_count": 324,
     "metadata": {},
     "output_type": "execute_result"
    }
   ],
   "source": [
    "function compute_nonuniform_threads!(a, niter = zeros(Int, nthreads()), load = zeros(Int, nthreads()))\n",
    "    @threads for i in 1:length(a)\n",
    "        a[i] = sum(abs2, rand() for j in 1:i)\n",
    "\n",
    "        # only for bookkeeping\n",
    "        niter[threadid()] += 1\n",
    "        load[threadid()] += i\n",
    "    end\n",
    "    return niter, load\n",
    "end"
   ]
  },
  {
   "cell_type": "code",
   "execution_count": 325,
   "metadata": {},
   "outputs": [
    {
     "data": {
      "text/plain": [
       "([20, 20, 20, 20, 20, 20], [1010, 1810, 2210, 610, 1410, 210])"
      ]
     },
     "execution_count": 325,
     "metadata": {},
     "output_type": "execute_result"
    }
   ],
   "source": [
    "a = zeros(nthreads()*20)\n",
    "niter, load = compute_nonuniform_threads!(a)"
   ]
  },
  {
   "cell_type": "code",
   "execution_count": 326,
   "metadata": {},
   "outputs": [
    {
     "data": {
      "image/svg+xml": [
       "<?xml version=\"1.0\" encoding=\"utf-8\"?>\n",
       "<svg xmlns=\"http://www.w3.org/2000/svg\" xmlns:xlink=\"http://www.w3.org/1999/xlink\" width=\"600\" height=\"400\" viewBox=\"0 0 2400 1600\">\n",
       "<defs>\n",
       "  <clipPath id=\"clip330\">\n",
       "    <rect x=\"0\" y=\"0\" width=\"2400\" height=\"1600\"/>\n",
       "  </clipPath>\n",
       "</defs>\n",
       "<path clip-path=\"url(#clip330)\" d=\"\n",
       "M0 1600 L2400 1600 L2400 0 L0 0  Z\n",
       "  \" fill=\"#ffffff\" fill-rule=\"evenodd\" fill-opacity=\"1\"/>\n",
       "<defs>\n",
       "  <clipPath id=\"clip331\">\n",
       "    <rect x=\"480\" y=\"0\" width=\"1681\" height=\"1600\"/>\n",
       "  </clipPath>\n",
       "</defs>\n",
       "<path clip-path=\"url(#clip330)\" d=\"\n",
       "M203.964 1423.18 L2352.76 1423.18 L2352.76 123.472 L203.964 123.472  Z\n",
       "  \" fill=\"#ffffff\" fill-rule=\"evenodd\" fill-opacity=\"1\"/>\n",
       "<defs>\n",
       "  <clipPath id=\"clip332\">\n",
       "    <rect x=\"203\" y=\"123\" width=\"2150\" height=\"1301\"/>\n",
       "  </clipPath>\n",
       "</defs>\n",
       "<polyline clip-path=\"url(#clip332)\" style=\"stroke:#000000; stroke-linecap:butt; stroke-linejoin:round; stroke-width:2; stroke-opacity:0.1; fill:none\" points=\"\n",
       "  454.042,1423.18 454.042,123.472 \n",
       "  \"/>\n",
       "<polyline clip-path=\"url(#clip332)\" style=\"stroke:#000000; stroke-linecap:butt; stroke-linejoin:round; stroke-width:2; stroke-opacity:0.1; fill:none\" points=\"\n",
       "  783.769,1423.18 783.769,123.472 \n",
       "  \"/>\n",
       "<polyline clip-path=\"url(#clip332)\" style=\"stroke:#000000; stroke-linecap:butt; stroke-linejoin:round; stroke-width:2; stroke-opacity:0.1; fill:none\" points=\"\n",
       "  1113.5,1423.18 1113.5,123.472 \n",
       "  \"/>\n",
       "<polyline clip-path=\"url(#clip332)\" style=\"stroke:#000000; stroke-linecap:butt; stroke-linejoin:round; stroke-width:2; stroke-opacity:0.1; fill:none\" points=\"\n",
       "  1443.22,1423.18 1443.22,123.472 \n",
       "  \"/>\n",
       "<polyline clip-path=\"url(#clip332)\" style=\"stroke:#000000; stroke-linecap:butt; stroke-linejoin:round; stroke-width:2; stroke-opacity:0.1; fill:none\" points=\"\n",
       "  1772.95,1423.18 1772.95,123.472 \n",
       "  \"/>\n",
       "<polyline clip-path=\"url(#clip332)\" style=\"stroke:#000000; stroke-linecap:butt; stroke-linejoin:round; stroke-width:2; stroke-opacity:0.1; fill:none\" points=\"\n",
       "  2102.68,1423.18 2102.68,123.472 \n",
       "  \"/>\n",
       "<polyline clip-path=\"url(#clip330)\" style=\"stroke:#000000; stroke-linecap:butt; stroke-linejoin:round; stroke-width:4; stroke-opacity:1; fill:none\" points=\"\n",
       "  203.964,1423.18 2352.76,1423.18 \n",
       "  \"/>\n",
       "<polyline clip-path=\"url(#clip330)\" style=\"stroke:#000000; stroke-linecap:butt; stroke-linejoin:round; stroke-width:4; stroke-opacity:1; fill:none\" points=\"\n",
       "  454.042,1423.18 454.042,1404.28 \n",
       "  \"/>\n",
       "<polyline clip-path=\"url(#clip330)\" style=\"stroke:#000000; stroke-linecap:butt; stroke-linejoin:round; stroke-width:4; stroke-opacity:1; fill:none\" points=\"\n",
       "  783.769,1423.18 783.769,1404.28 \n",
       "  \"/>\n",
       "<polyline clip-path=\"url(#clip330)\" style=\"stroke:#000000; stroke-linecap:butt; stroke-linejoin:round; stroke-width:4; stroke-opacity:1; fill:none\" points=\"\n",
       "  1113.5,1423.18 1113.5,1404.28 \n",
       "  \"/>\n",
       "<polyline clip-path=\"url(#clip330)\" style=\"stroke:#000000; stroke-linecap:butt; stroke-linejoin:round; stroke-width:4; stroke-opacity:1; fill:none\" points=\"\n",
       "  1443.22,1423.18 1443.22,1404.28 \n",
       "  \"/>\n",
       "<polyline clip-path=\"url(#clip330)\" style=\"stroke:#000000; stroke-linecap:butt; stroke-linejoin:round; stroke-width:4; stroke-opacity:1; fill:none\" points=\"\n",
       "  1772.95,1423.18 1772.95,1404.28 \n",
       "  \"/>\n",
       "<polyline clip-path=\"url(#clip330)\" style=\"stroke:#000000; stroke-linecap:butt; stroke-linejoin:round; stroke-width:4; stroke-opacity:1; fill:none\" points=\"\n",
       "  2102.68,1423.18 2102.68,1404.28 \n",
       "  \"/>\n",
       "<path clip-path=\"url(#clip330)\" d=\"M444.424 1481.64 L452.063 1481.64 L452.063 1455.28 L443.753 1456.95 L443.753 1452.69 L452.016 1451.02 L456.692 1451.02 L456.692 1481.64 L464.331 1481.64 L464.331 1485.58 L444.424 1485.58 L444.424 1481.64 Z\" fill=\"#000000\" fill-rule=\"evenodd\" fill-opacity=\"1\" /><path clip-path=\"url(#clip330)\" d=\"M778.422 1481.64 L794.741 1481.64 L794.741 1485.58 L772.797 1485.58 L772.797 1481.64 Q775.459 1478.89 780.042 1474.26 Q784.649 1469.61 785.829 1468.27 Q788.075 1465.74 788.954 1464.01 Q789.857 1462.25 789.857 1460.56 Q789.857 1457.8 787.912 1456.07 Q785.991 1454.33 782.889 1454.33 Q780.69 1454.33 778.237 1455.09 Q775.806 1455.86 773.028 1457.41 L773.028 1452.69 Q775.852 1451.55 778.306 1450.97 Q780.76 1450.39 782.797 1450.39 Q788.167 1450.39 791.362 1453.08 Q794.556 1455.77 794.556 1460.26 Q794.556 1462.39 793.746 1464.31 Q792.959 1466.2 790.852 1468.8 Q790.274 1469.47 787.172 1472.69 Q784.07 1475.88 778.422 1481.64 Z\" fill=\"#000000\" fill-rule=\"evenodd\" fill-opacity=\"1\" /><path clip-path=\"url(#clip330)\" d=\"M1117.74 1466.95 Q1121.1 1467.66 1122.98 1469.93 Q1124.87 1472.2 1124.87 1475.53 Q1124.87 1480.65 1121.35 1483.45 Q1117.84 1486.25 1111.35 1486.25 Q1109.18 1486.25 1106.86 1485.81 Q1104.57 1485.39 1102.12 1484.54 L1102.12 1480.02 Q1104.06 1481.16 1106.38 1481.74 Q1108.69 1482.32 1111.22 1482.32 Q1115.61 1482.32 1117.91 1480.58 Q1120.22 1478.84 1120.22 1475.53 Q1120.22 1472.48 1118.07 1470.77 Q1115.94 1469.03 1112.12 1469.03 L1108.09 1469.03 L1108.09 1465.19 L1112.3 1465.19 Q1115.75 1465.19 1117.58 1463.82 Q1119.41 1462.43 1119.41 1459.84 Q1119.41 1457.18 1117.51 1455.77 Q1115.64 1454.33 1112.12 1454.33 Q1110.2 1454.33 1108 1454.75 Q1105.8 1455.16 1103.16 1456.04 L1103.16 1451.88 Q1105.82 1451.14 1108.14 1450.77 Q1110.48 1450.39 1112.54 1450.39 Q1117.86 1450.39 1120.96 1452.83 Q1124.06 1455.23 1124.06 1459.35 Q1124.06 1462.22 1122.42 1464.21 Q1120.78 1466.18 1117.74 1466.95 Z\" fill=\"#000000\" fill-rule=\"evenodd\" fill-opacity=\"1\" /><path clip-path=\"url(#clip330)\" d=\"M1446.23 1455.09 L1434.43 1473.54 L1446.23 1473.54 L1446.23 1455.09 M1445.01 1451.02 L1450.89 1451.02 L1450.89 1473.54 L1455.82 1473.54 L1455.82 1477.43 L1450.89 1477.43 L1450.89 1485.58 L1446.23 1485.58 L1446.23 1477.43 L1430.63 1477.43 L1430.63 1472.92 L1445.01 1451.02 Z\" fill=\"#000000\" fill-rule=\"evenodd\" fill-opacity=\"1\" /><path clip-path=\"url(#clip330)\" d=\"M1763.23 1451.02 L1781.58 1451.02 L1781.58 1454.96 L1767.51 1454.96 L1767.51 1463.43 Q1768.53 1463.08 1769.55 1462.92 Q1770.57 1462.73 1771.58 1462.73 Q1777.37 1462.73 1780.75 1465.9 Q1784.13 1469.08 1784.13 1474.49 Q1784.13 1480.07 1780.66 1483.17 Q1777.19 1486.25 1770.87 1486.25 Q1768.69 1486.25 1766.42 1485.88 Q1764.18 1485.51 1761.77 1484.77 L1761.77 1480.07 Q1763.85 1481.2 1766.08 1481.76 Q1768.3 1482.32 1770.77 1482.32 Q1774.78 1482.32 1777.12 1480.21 Q1779.46 1478.1 1779.46 1474.49 Q1779.46 1470.88 1777.12 1468.77 Q1774.78 1466.67 1770.77 1466.67 Q1768.9 1466.67 1767.02 1467.08 Q1765.17 1467.5 1763.23 1468.38 L1763.23 1451.02 Z\" fill=\"#000000\" fill-rule=\"evenodd\" fill-opacity=\"1\" /><path clip-path=\"url(#clip330)\" d=\"M2103.08 1466.44 Q2099.93 1466.44 2098.08 1468.59 Q2096.25 1470.74 2096.25 1474.49 Q2096.25 1478.22 2098.08 1480.39 Q2099.93 1482.55 2103.08 1482.55 Q2106.23 1482.55 2108.06 1480.39 Q2109.91 1478.22 2109.91 1474.49 Q2109.91 1470.74 2108.06 1468.59 Q2106.23 1466.44 2103.08 1466.44 M2112.37 1451.78 L2112.37 1456.04 Q2110.61 1455.21 2108.8 1454.77 Q2107.02 1454.33 2105.26 1454.33 Q2100.63 1454.33 2098.18 1457.45 Q2095.74 1460.58 2095.4 1466.9 Q2096.76 1464.89 2098.82 1463.82 Q2100.88 1462.73 2103.36 1462.73 Q2108.57 1462.73 2111.58 1465.9 Q2114.61 1469.05 2114.61 1474.49 Q2114.61 1479.82 2111.46 1483.03 Q2108.31 1486.25 2103.08 1486.25 Q2097.09 1486.25 2093.92 1481.67 Q2090.74 1477.06 2090.74 1468.33 Q2090.74 1460.14 2094.63 1455.28 Q2098.52 1450.39 2105.07 1450.39 Q2106.83 1450.39 2108.62 1450.74 Q2110.42 1451.09 2112.37 1451.78 Z\" fill=\"#000000\" fill-rule=\"evenodd\" fill-opacity=\"1\" /><path clip-path=\"url(#clip330)\" d=\"M1155.8 1522.27 L1155.8 1532.4 L1167.87 1532.4 L1167.87 1536.95 L1155.8 1536.95 L1155.8 1556.3 Q1155.8 1560.66 1156.98 1561.9 Q1158.19 1563.14 1161.85 1563.14 L1167.87 1563.14 L1167.87 1568.04 L1161.85 1568.04 Q1155.07 1568.04 1152.49 1565.53 Q1149.92 1562.98 1149.92 1556.3 L1149.92 1536.95 L1145.62 1536.95 L1145.62 1532.4 L1149.92 1532.4 L1149.92 1522.27 L1155.8 1522.27 Z\" fill=\"#000000\" fill-rule=\"evenodd\" fill-opacity=\"1\" /><path clip-path=\"url(#clip330)\" d=\"M1205.2 1546.53 L1205.2 1568.04 L1199.35 1568.04 L1199.35 1546.72 Q1199.35 1541.66 1197.37 1539.14 Q1195.4 1536.63 1191.45 1536.63 Q1186.71 1536.63 1183.97 1539.65 Q1181.23 1542.68 1181.23 1547.9 L1181.23 1568.04 L1175.35 1568.04 L1175.35 1518.52 L1181.23 1518.52 L1181.23 1537.93 Q1183.34 1534.72 1186.17 1533.13 Q1189.03 1531.54 1192.76 1531.54 Q1198.9 1531.54 1202.05 1535.36 Q1205.2 1539.14 1205.2 1546.53 Z\" fill=\"#000000\" fill-rule=\"evenodd\" fill-opacity=\"1\" /><path clip-path=\"url(#clip330)\" d=\"M1237.54 1537.87 Q1236.55 1537.3 1235.38 1537.04 Q1234.23 1536.76 1232.83 1536.76 Q1227.86 1536.76 1225.19 1540 Q1222.55 1543.22 1222.55 1549.27 L1222.55 1568.04 L1216.66 1568.04 L1216.66 1532.4 L1222.55 1532.4 L1222.55 1537.93 Q1224.39 1534.69 1227.35 1533.13 Q1230.31 1531.54 1234.55 1531.54 Q1235.15 1531.54 1235.88 1531.63 Q1236.62 1531.7 1237.51 1531.85 L1237.54 1537.87 Z\" fill=\"#000000\" fill-rule=\"evenodd\" fill-opacity=\"1\" /><path clip-path=\"url(#clip330)\" d=\"M1272.74 1548.76 L1272.74 1551.62 L1245.82 1551.62 Q1246.2 1557.67 1249.44 1560.85 Q1252.72 1564 1258.55 1564 Q1261.92 1564 1265.07 1563.17 Q1268.25 1562.35 1271.37 1560.69 L1271.37 1566.23 Q1268.22 1567.57 1264.91 1568.27 Q1261.6 1568.97 1258.2 1568.97 Q1249.67 1568.97 1244.67 1564 Q1239.7 1559.04 1239.7 1550.57 Q1239.7 1541.82 1244.41 1536.69 Q1249.16 1531.54 1257.18 1531.54 Q1264.37 1531.54 1268.54 1536.18 Q1272.74 1540.8 1272.74 1548.76 M1266.89 1547.04 Q1266.82 1542.23 1264.18 1539.37 Q1261.57 1536.5 1257.24 1536.5 Q1252.34 1536.5 1249.38 1539.27 Q1246.45 1542.04 1246.01 1547.07 L1266.89 1547.04 Z\" fill=\"#000000\" fill-rule=\"evenodd\" fill-opacity=\"1\" /><path clip-path=\"url(#clip330)\" d=\"M1298.55 1550.12 Q1291.46 1550.12 1288.72 1551.75 Q1285.98 1553.37 1285.98 1557.29 Q1285.98 1560.4 1288.02 1562.25 Q1290.09 1564.07 1293.62 1564.07 Q1298.49 1564.07 1301.42 1560.63 Q1304.38 1557.16 1304.38 1551.43 L1304.38 1550.12 L1298.55 1550.12 M1310.24 1547.71 L1310.24 1568.04 L1304.38 1568.04 L1304.38 1562.63 Q1302.37 1565.88 1299.38 1567.44 Q1296.39 1568.97 1292.06 1568.97 Q1286.59 1568.97 1283.34 1565.91 Q1280.13 1562.82 1280.13 1557.67 Q1280.13 1551.65 1284.14 1548.6 Q1288.18 1545.54 1296.17 1545.54 L1304.38 1545.54 L1304.38 1544.97 Q1304.38 1540.93 1301.71 1538.73 Q1299.06 1536.5 1294.26 1536.5 Q1291.2 1536.5 1288.31 1537.23 Q1285.41 1537.97 1282.74 1539.43 L1282.74 1534.02 Q1285.95 1532.78 1288.97 1532.17 Q1292 1531.54 1294.86 1531.54 Q1302.6 1531.54 1306.42 1535.55 Q1310.24 1539.56 1310.24 1547.71 Z\" fill=\"#000000\" fill-rule=\"evenodd\" fill-opacity=\"1\" /><path clip-path=\"url(#clip330)\" d=\"M1345.76 1537.81 L1345.76 1518.52 L1351.61 1518.52 L1351.61 1568.04 L1345.76 1568.04 L1345.76 1562.7 Q1343.91 1565.88 1341.08 1567.44 Q1338.28 1568.97 1334.33 1568.97 Q1327.87 1568.97 1323.79 1563.81 Q1319.75 1558.65 1319.75 1550.25 Q1319.75 1541.85 1323.79 1536.69 Q1327.87 1531.54 1334.33 1531.54 Q1338.28 1531.54 1341.08 1533.1 Q1343.91 1534.62 1345.76 1537.81 M1325.8 1550.25 Q1325.8 1556.71 1328.44 1560.4 Q1331.12 1564.07 1335.76 1564.07 Q1340.41 1564.07 1343.08 1560.4 Q1345.76 1556.71 1345.76 1550.25 Q1345.76 1543.79 1343.08 1540.13 Q1340.41 1536.44 1335.76 1536.44 Q1331.12 1536.44 1328.44 1540.13 Q1325.8 1543.79 1325.8 1550.25 Z\" fill=\"#000000\" fill-rule=\"evenodd\" fill-opacity=\"1\" /><path clip-path=\"url(#clip330)\" d=\"M1363.68 1532.4 L1369.53 1532.4 L1369.53 1568.04 L1363.68 1568.04 L1363.68 1532.4 M1363.68 1518.52 L1369.53 1518.52 L1369.53 1525.93 L1363.68 1525.93 L1363.68 1518.52 Z\" fill=\"#000000\" fill-rule=\"evenodd\" fill-opacity=\"1\" /><path clip-path=\"url(#clip330)\" d=\"M1405.24 1537.81 L1405.24 1518.52 L1411.1 1518.52 L1411.1 1568.04 L1405.24 1568.04 L1405.24 1562.7 Q1403.4 1565.88 1400.57 1567.44 Q1397.76 1568.97 1393.82 1568.97 Q1387.36 1568.97 1383.28 1563.81 Q1379.24 1558.65 1379.24 1550.25 Q1379.24 1541.85 1383.28 1536.69 Q1387.36 1531.54 1393.82 1531.54 Q1397.76 1531.54 1400.57 1533.1 Q1403.4 1534.62 1405.24 1537.81 M1385.29 1550.25 Q1385.29 1556.71 1387.93 1560.4 Q1390.6 1564.07 1395.25 1564.07 Q1399.9 1564.07 1402.57 1560.4 Q1405.24 1556.71 1405.24 1550.25 Q1405.24 1543.79 1402.57 1540.13 Q1399.9 1536.44 1395.25 1536.44 Q1390.6 1536.44 1387.93 1540.13 Q1385.29 1543.79 1385.29 1550.25 Z\" fill=\"#000000\" fill-rule=\"evenodd\" fill-opacity=\"1\" /><polyline clip-path=\"url(#clip332)\" style=\"stroke:#000000; stroke-linecap:butt; stroke-linejoin:round; stroke-width:2; stroke-opacity:0.1; fill:none\" points=\"\n",
       "  203.964,1386.4 2352.76,1386.4 \n",
       "  \"/>\n",
       "<polyline clip-path=\"url(#clip332)\" style=\"stroke:#000000; stroke-linecap:butt; stroke-linejoin:round; stroke-width:2; stroke-opacity:0.1; fill:none\" points=\"\n",
       "  203.964,1079.86 2352.76,1079.86 \n",
       "  \"/>\n",
       "<polyline clip-path=\"url(#clip332)\" style=\"stroke:#000000; stroke-linecap:butt; stroke-linejoin:round; stroke-width:2; stroke-opacity:0.1; fill:none\" points=\"\n",
       "  203.964,773.326 2352.76,773.326 \n",
       "  \"/>\n",
       "<polyline clip-path=\"url(#clip332)\" style=\"stroke:#000000; stroke-linecap:butt; stroke-linejoin:round; stroke-width:2; stroke-opacity:0.1; fill:none\" points=\"\n",
       "  203.964,466.791 2352.76,466.791 \n",
       "  \"/>\n",
       "<polyline clip-path=\"url(#clip332)\" style=\"stroke:#000000; stroke-linecap:butt; stroke-linejoin:round; stroke-width:2; stroke-opacity:0.1; fill:none\" points=\"\n",
       "  203.964,160.256 2352.76,160.256 \n",
       "  \"/>\n",
       "<polyline clip-path=\"url(#clip330)\" style=\"stroke:#000000; stroke-linecap:butt; stroke-linejoin:round; stroke-width:4; stroke-opacity:1; fill:none\" points=\"\n",
       "  203.964,1423.18 203.964,123.472 \n",
       "  \"/>\n",
       "<polyline clip-path=\"url(#clip330)\" style=\"stroke:#000000; stroke-linecap:butt; stroke-linejoin:round; stroke-width:4; stroke-opacity:1; fill:none\" points=\"\n",
       "  203.964,1386.4 222.861,1386.4 \n",
       "  \"/>\n",
       "<polyline clip-path=\"url(#clip330)\" style=\"stroke:#000000; stroke-linecap:butt; stroke-linejoin:round; stroke-width:4; stroke-opacity:1; fill:none\" points=\"\n",
       "  203.964,1079.86 222.861,1079.86 \n",
       "  \"/>\n",
       "<polyline clip-path=\"url(#clip330)\" style=\"stroke:#000000; stroke-linecap:butt; stroke-linejoin:round; stroke-width:4; stroke-opacity:1; fill:none\" points=\"\n",
       "  203.964,773.326 222.861,773.326 \n",
       "  \"/>\n",
       "<polyline clip-path=\"url(#clip330)\" style=\"stroke:#000000; stroke-linecap:butt; stroke-linejoin:round; stroke-width:4; stroke-opacity:1; fill:none\" points=\"\n",
       "  203.964,466.791 222.861,466.791 \n",
       "  \"/>\n",
       "<polyline clip-path=\"url(#clip330)\" style=\"stroke:#000000; stroke-linecap:butt; stroke-linejoin:round; stroke-width:4; stroke-opacity:1; fill:none\" points=\"\n",
       "  203.964,160.256 222.861,160.256 \n",
       "  \"/>\n",
       "<path clip-path=\"url(#clip330)\" d=\"M156.019 1372.19 Q152.408 1372.19 150.579 1375.76 Q148.774 1379.3 148.774 1386.43 Q148.774 1393.54 150.579 1397.1 Q152.408 1400.64 156.019 1400.64 Q159.653 1400.64 161.459 1397.1 Q163.288 1393.54 163.288 1386.43 Q163.288 1379.3 161.459 1375.76 Q159.653 1372.19 156.019 1372.19 M156.019 1368.49 Q161.829 1368.49 164.885 1373.1 Q167.964 1377.68 167.964 1386.43 Q167.964 1395.16 164.885 1399.76 Q161.829 1404.35 156.019 1404.35 Q150.209 1404.35 147.13 1399.76 Q144.075 1395.16 144.075 1386.43 Q144.075 1377.68 147.13 1373.1 Q150.209 1368.49 156.019 1368.49 Z\" fill=\"#000000\" fill-rule=\"evenodd\" fill-opacity=\"1\" /><path clip-path=\"url(#clip330)\" d=\"M147.061 1062.58 L165.417 1062.58 L165.417 1066.52 L151.343 1066.52 L151.343 1074.99 Q152.362 1074.64 153.38 1074.48 Q154.399 1074.29 155.417 1074.29 Q161.204 1074.29 164.584 1077.47 Q167.964 1080.64 167.964 1086.05 Q167.964 1091.63 164.491 1094.73 Q161.019 1097.81 154.7 1097.81 Q152.524 1097.81 150.255 1097.44 Q148.01 1097.07 145.603 1096.33 L145.603 1091.63 Q147.686 1092.77 149.908 1093.32 Q152.13 1093.88 154.607 1093.88 Q158.612 1093.88 160.95 1091.77 Q163.288 1089.66 163.288 1086.05 Q163.288 1082.44 160.95 1080.34 Q158.612 1078.23 154.607 1078.23 Q152.732 1078.23 150.857 1078.65 Q149.005 1079.06 147.061 1079.94 L147.061 1062.58 Z\" fill=\"#000000\" fill-rule=\"evenodd\" fill-opacity=\"1\" /><path clip-path=\"url(#clip330)\" d=\"M116.668 786.671 L124.306 786.671 L124.306 760.305 L115.996 761.972 L115.996 757.713 L124.26 756.046 L128.936 756.046 L128.936 786.671 L136.575 786.671 L136.575 790.606 L116.668 790.606 L116.668 786.671 Z\" fill=\"#000000\" fill-rule=\"evenodd\" fill-opacity=\"1\" /><path clip-path=\"url(#clip330)\" d=\"M156.019 759.125 Q152.408 759.125 150.579 762.689 Q148.774 766.231 148.774 773.361 Q148.774 780.467 150.579 784.032 Q152.408 787.574 156.019 787.574 Q159.653 787.574 161.459 784.032 Q163.288 780.467 163.288 773.361 Q163.288 766.231 161.459 762.689 Q159.653 759.125 156.019 759.125 M156.019 755.421 Q161.829 755.421 164.885 760.027 Q167.964 764.611 167.964 773.361 Q167.964 782.088 164.885 786.694 Q161.829 791.277 156.019 791.277 Q150.209 791.277 147.13 786.694 Q144.075 782.088 144.075 773.361 Q144.075 764.611 147.13 760.027 Q150.209 755.421 156.019 755.421 Z\" fill=\"#000000\" fill-rule=\"evenodd\" fill-opacity=\"1\" /><path clip-path=\"url(#clip330)\" d=\"M117.663 480.136 L125.302 480.136 L125.302 453.77 L116.992 455.437 L116.992 451.178 L125.255 449.511 L129.931 449.511 L129.931 480.136 L137.57 480.136 L137.57 484.071 L117.663 484.071 L117.663 480.136 Z\" fill=\"#000000\" fill-rule=\"evenodd\" fill-opacity=\"1\" /><path clip-path=\"url(#clip330)\" d=\"M147.061 449.511 L165.417 449.511 L165.417 453.446 L151.343 453.446 L151.343 461.918 Q152.362 461.571 153.38 461.409 Q154.399 461.224 155.417 461.224 Q161.204 461.224 164.584 464.395 Q167.964 467.567 167.964 472.983 Q167.964 478.562 164.491 481.664 Q161.019 484.742 154.7 484.742 Q152.524 484.742 150.255 484.372 Q148.01 484.002 145.603 483.261 L145.603 478.562 Q147.686 479.696 149.908 480.252 Q152.13 480.807 154.607 480.807 Q158.612 480.807 160.95 478.701 Q163.288 476.594 163.288 472.983 Q163.288 469.372 160.95 467.266 Q158.612 465.159 154.607 465.159 Q152.732 465.159 150.857 465.576 Q149.005 465.993 147.061 466.872 L147.061 449.511 Z\" fill=\"#000000\" fill-rule=\"evenodd\" fill-opacity=\"1\" /><path clip-path=\"url(#clip330)\" d=\"M119.885 173.601 L136.204 173.601 L136.204 177.536 L114.26 177.536 L114.26 173.601 Q116.922 170.847 121.505 166.217 Q126.112 161.564 127.292 160.222 Q129.538 157.698 130.417 155.962 Q131.32 154.203 131.32 152.513 Q131.32 149.759 129.376 148.023 Q127.455 146.286 124.353 146.286 Q122.154 146.286 119.7 147.05 Q117.269 147.814 114.492 149.365 L114.492 144.643 Q117.316 143.509 119.769 142.93 Q122.223 142.351 124.26 142.351 Q129.63 142.351 132.825 145.036 Q136.019 147.722 136.019 152.212 Q136.019 154.342 135.209 156.263 Q134.422 158.161 132.316 160.754 Q131.737 161.425 128.635 164.643 Q125.533 167.837 119.885 173.601 Z\" fill=\"#000000\" fill-rule=\"evenodd\" fill-opacity=\"1\" /><path clip-path=\"url(#clip330)\" d=\"M156.019 146.055 Q152.408 146.055 150.579 149.62 Q148.774 153.161 148.774 160.291 Q148.774 167.397 150.579 170.962 Q152.408 174.504 156.019 174.504 Q159.653 174.504 161.459 170.962 Q163.288 167.397 163.288 160.291 Q163.288 153.161 161.459 149.62 Q159.653 146.055 156.019 146.055 M156.019 142.351 Q161.829 142.351 164.885 146.958 Q167.964 151.541 167.964 160.291 Q167.964 169.018 164.885 173.624 Q161.829 178.208 156.019 178.208 Q150.209 178.208 147.13 173.624 Q144.075 169.018 144.075 160.291 Q144.075 151.541 147.13 146.958 Q150.209 142.351 156.019 142.351 Z\" fill=\"#000000\" fill-rule=\"evenodd\" fill-opacity=\"1\" /><path clip-path=\"url(#clip330)\" d=\"M35.3266 933.264 L35.3266 942.526 L45.9574 945.2 L45.9574 935.874 L35.3266 933.264 M17.2162 938.039 L30.4251 941.349 L30.4251 932.055 L17.2162 928.713 L17.2162 923.62 L30.4251 926.899 L30.4251 916.968 L35.3266 916.968 L35.3266 928.14 L45.9574 930.75 L45.9574 920.628 L50.8271 920.628 L50.8271 931.991 L64.0042 935.301 L64.0042 940.394 L50.8271 937.116 L50.8271 946.441 L64.0042 949.72 L64.0042 954.844 L50.8271 951.534 L50.8271 961.56 L45.9574 961.56 L45.9574 950.356 L35.3266 947.683 L35.3266 957.931 L30.4251 957.931 L30.4251 946.441 L17.2162 943.195 L17.2162 938.039 Z\" fill=\"#000000\" fill-rule=\"evenodd\" fill-opacity=\"1\" /><path clip-path=\"url(#clip330)\" d=\"M28.3562 885.108 L28.3562 879.251 L64.0042 879.251 L64.0042 885.108 L28.3562 885.108 M14.479 885.108 L14.479 879.251 L21.895 879.251 L21.895 885.108 L14.479 885.108 Z\" fill=\"#000000\" fill-rule=\"evenodd\" fill-opacity=\"1\" /><path clip-path=\"url(#clip330)\" d=\"M18.2347 861.205 L28.3562 861.205 L28.3562 849.142 L32.9077 849.142 L32.9077 861.205 L52.2594 861.205 Q56.6199 861.205 57.8613 860.027 Q59.1026 858.817 59.1026 855.157 L59.1026 849.142 L64.0042 849.142 L64.0042 855.157 Q64.0042 861.937 61.4897 864.515 Q58.9434 867.093 52.2594 867.093 L32.9077 867.093 L32.9077 871.39 L28.3562 871.39 L28.3562 867.093 L18.2347 867.093 L18.2347 861.205 Z\" fill=\"#000000\" fill-rule=\"evenodd\" fill-opacity=\"1\" /><path clip-path=\"url(#clip330)\" d=\"M44.7161 810.947 L47.5806 810.947 L47.5806 837.874 Q53.6281 837.492 56.8109 834.246 Q59.9619 830.967 59.9619 825.143 Q59.9619 821.769 59.1344 818.618 Q58.3069 815.435 56.6518 812.316 L62.1899 812.316 Q63.5267 815.467 64.227 818.777 Q64.9272 822.087 64.9272 825.493 Q64.9272 834.023 59.9619 839.02 Q54.9967 843.985 46.5303 843.985 Q37.7774 843.985 32.6531 839.275 Q27.4968 834.532 27.4968 826.511 Q27.4968 819.318 32.1438 815.149 Q36.7589 810.947 44.7161 810.947 M42.9973 816.804 Q38.1912 816.867 35.3266 819.509 Q32.4621 822.119 32.4621 826.448 Q32.4621 831.349 35.2312 834.309 Q38.0002 837.238 43.0292 837.683 L42.9973 816.804 Z\" fill=\"#000000\" fill-rule=\"evenodd\" fill-opacity=\"1\" /><path clip-path=\"url(#clip330)\" d=\"M33.8307 780.678 Q33.2578 781.665 33.0032 782.843 Q32.7167 783.989 32.7167 785.389 Q32.7167 790.354 35.9632 793.028 Q39.1779 795.67 45.2253 795.67 L64.0042 795.67 L64.0042 801.558 L28.3562 801.558 L28.3562 795.67 L33.8944 795.67 Q30.6479 793.824 29.0883 790.864 Q27.4968 787.903 27.4968 783.67 Q27.4968 783.066 27.5923 782.333 Q27.656 781.601 27.8151 780.71 L33.8307 780.678 Z\" fill=\"#000000\" fill-rule=\"evenodd\" fill-opacity=\"1\" /><path clip-path=\"url(#clip330)\" d=\"M46.0847 758.335 Q46.0847 765.433 47.7079 768.17 Q49.3312 770.907 53.2461 770.907 Q56.3653 770.907 58.2114 768.87 Q60.0256 766.801 60.0256 763.268 Q60.0256 758.398 56.5881 755.47 Q53.1188 752.51 47.3897 752.51 L46.0847 752.51 L46.0847 758.335 M43.6657 746.654 L64.0042 746.654 L64.0042 752.51 L58.5933 752.51 Q61.8398 754.515 63.3994 757.507 Q64.9272 760.499 64.9272 764.828 Q64.9272 770.302 61.8716 773.549 Q58.7843 776.763 53.6281 776.763 Q47.6125 776.763 44.5569 772.753 Q41.5014 768.711 41.5014 760.722 L41.5014 752.51 L40.9285 752.51 Q36.8862 752.51 34.6901 755.184 Q32.4621 757.825 32.4621 762.632 Q32.4621 765.687 33.1941 768.584 Q33.9262 771.48 35.3903 774.154 L29.9795 774.154 Q28.7381 770.939 28.1334 767.915 Q27.4968 764.891 27.4968 762.027 Q27.4968 754.293 31.5072 750.473 Q35.5176 746.654 43.6657 746.654 Z\" fill=\"#000000\" fill-rule=\"evenodd\" fill-opacity=\"1\" /><path clip-path=\"url(#clip330)\" d=\"M18.2347 728.798 L28.3562 728.798 L28.3562 716.735 L32.9077 716.735 L32.9077 728.798 L52.2594 728.798 Q56.6199 728.798 57.8613 727.62 Q59.1026 726.411 59.1026 722.75 L59.1026 716.735 L64.0042 716.735 L64.0042 722.75 Q64.0042 729.53 61.4897 732.108 Q58.9434 734.686 52.2594 734.686 L32.9077 734.686 L32.9077 738.983 L28.3562 738.983 L28.3562 734.686 L18.2347 734.686 L18.2347 728.798 Z\" fill=\"#000000\" fill-rule=\"evenodd\" fill-opacity=\"1\" /><path clip-path=\"url(#clip330)\" d=\"M28.3562 709.032 L28.3562 703.176 L64.0042 703.176 L64.0042 709.032 L28.3562 709.032 M14.479 709.032 L14.479 703.176 L21.895 703.176 L21.895 709.032 L14.479 709.032 Z\" fill=\"#000000\" fill-rule=\"evenodd\" fill-opacity=\"1\" /><path clip-path=\"url(#clip330)\" d=\"M32.4621 677.108 Q32.4621 681.819 36.1542 684.556 Q39.8145 687.293 46.212 687.293 Q52.6095 687.293 56.3017 684.588 Q59.9619 681.851 59.9619 677.108 Q59.9619 672.43 56.2698 669.692 Q52.5777 666.955 46.212 666.955 Q39.8781 666.955 36.186 669.692 Q32.4621 672.43 32.4621 677.108 M27.4968 677.108 Q27.4968 669.469 32.4621 665.109 Q37.4273 660.748 46.212 660.748 Q54.9649 660.748 59.9619 665.109 Q64.9272 669.469 64.9272 677.108 Q64.9272 684.779 59.9619 689.14 Q54.9649 693.468 46.212 693.468 Q37.4273 693.468 32.4621 689.14 Q27.4968 684.779 27.4968 677.108 Z\" fill=\"#000000\" fill-rule=\"evenodd\" fill-opacity=\"1\" /><path clip-path=\"url(#clip330)\" d=\"M42.4881 621.408 L64.0042 621.408 L64.0042 627.265 L42.679 627.265 Q37.6183 627.265 35.1038 629.238 Q32.5894 631.212 32.5894 635.158 Q32.5894 639.901 35.6131 642.638 Q38.6368 645.375 43.8567 645.375 L64.0042 645.375 L64.0042 651.264 L28.3562 651.264 L28.3562 645.375 L33.8944 645.375 Q30.6797 643.275 29.0883 640.442 Q27.4968 637.577 27.4968 633.853 Q27.4968 627.71 31.3163 624.559 Q35.1038 621.408 42.4881 621.408 Z\" fill=\"#000000\" fill-rule=\"evenodd\" fill-opacity=\"1\" /><path clip-path=\"url(#clip330)\" d=\"M29.4065 587.002 L34.9447 587.002 Q33.6716 589.484 33.035 592.158 Q32.3984 594.832 32.3984 597.696 Q32.3984 602.057 33.7352 604.253 Q35.072 606.417 37.7456 606.417 Q39.7826 606.417 40.9603 604.858 Q42.1061 603.298 43.1565 598.587 L43.6021 596.582 Q44.9389 590.344 47.3897 587.734 Q49.8086 585.092 54.1691 585.092 Q59.1344 585.092 62.0308 589.039 Q64.9272 592.954 64.9272 599.829 Q64.9272 602.693 64.3543 605.812 Q63.8132 608.9 62.6992 612.337 L56.6518 612.337 Q58.3387 609.091 59.198 605.94 Q60.0256 602.789 60.0256 599.701 Q60.0256 595.564 58.6251 593.336 Q57.1929 591.108 54.6147 591.108 Q52.2276 591.108 50.9545 592.731 Q49.6813 594.322 48.5037 599.765 L48.0262 601.802 Q46.8804 607.245 44.5251 609.664 Q42.138 612.083 38.0002 612.083 Q32.9713 612.083 30.2341 608.518 Q27.4968 604.953 27.4968 598.396 Q27.4968 595.15 27.9743 592.285 Q28.4517 589.421 29.4065 587.002 Z\" fill=\"#000000\" fill-rule=\"evenodd\" fill-opacity=\"1\" /><path clip-path=\"url(#clip330)\" d=\"M854.615 12.096 L865.633 12.096 L892.45 62.6918 L892.45 12.096 L900.39 12.096 L900.39 72.576 L889.372 72.576 L862.555 21.9802 L862.555 72.576 L854.615 72.576 L854.615 12.096 Z\" fill=\"#000000\" fill-rule=\"evenodd\" fill-opacity=\"1\" /><path clip-path=\"url(#clip330)\" d=\"M915.581 54.671 L915.581 27.2059 L923.035 27.2059 L923.035 54.3874 Q923.035 60.8284 925.546 64.0691 Q928.058 67.2693 933.081 67.2693 Q939.117 67.2693 942.601 63.421 Q946.125 59.5726 946.125 52.9291 L946.125 27.2059 L953.578 27.2059 L953.578 72.576 L946.125 72.576 L946.125 65.6084 Q943.411 69.7404 939.805 71.7658 Q936.241 73.7508 931.501 73.7508 Q923.683 73.7508 919.632 68.8897 Q915.581 64.0286 915.581 54.671 M934.337 26.1121 L934.337 26.1121 Z\" fill=\"#000000\" fill-rule=\"evenodd\" fill-opacity=\"1\" /><path clip-path=\"url(#clip330)\" d=\"M1004.26 35.9153 Q1007.05 30.8922 1010.94 28.5022 Q1014.83 26.1121 1020.09 26.1121 Q1027.18 26.1121 1031.03 31.0947 Q1034.88 36.0368 1034.88 45.1919 L1034.88 72.576 L1027.39 72.576 L1027.39 45.4349 Q1027.39 38.913 1025.08 35.7533 Q1022.77 32.5936 1018.03 32.5936 Q1012.24 32.5936 1008.87 36.4419 Q1005.51 40.2903 1005.51 46.9338 L1005.51 72.576 L998.017 72.576 L998.017 45.4349 Q998.017 38.8725 995.708 35.7533 Q993.399 32.5936 988.578 32.5936 Q982.867 32.5936 979.504 36.4824 Q976.142 40.3308 976.142 46.9338 L976.142 72.576 L968.648 72.576 L968.648 27.2059 L976.142 27.2059 L976.142 34.2544 Q978.694 30.082 982.259 28.0971 Q985.824 26.1121 990.725 26.1121 Q995.667 26.1121 999.111 28.6237 Q1002.59 31.1352 1004.26 35.9153 Z\" fill=\"#000000\" fill-rule=\"evenodd\" fill-opacity=\"1\" /><path clip-path=\"url(#clip330)\" d=\"M1082.32 49.9314 Q1082.32 41.7081 1078.91 37.0496 Q1075.55 32.3505 1069.64 32.3505 Q1063.72 32.3505 1060.32 37.0496 Q1056.96 41.7081 1056.96 49.9314 Q1056.96 58.1548 1060.32 62.8538 Q1063.72 67.5124 1069.64 67.5124 Q1075.55 67.5124 1078.91 62.8538 Q1082.32 58.1548 1082.32 49.9314 M1056.96 34.0924 Q1059.31 30.0415 1062.87 28.0971 Q1066.48 26.1121 1071.46 26.1121 Q1079.72 26.1121 1084.87 32.6746 Q1090.05 39.2371 1090.05 49.9314 Q1090.05 60.6258 1084.87 67.1883 Q1079.72 73.7508 1071.46 73.7508 Q1066.48 73.7508 1062.87 71.8063 Q1059.31 69.8214 1056.96 65.7705 L1056.96 72.576 L1049.46 72.576 L1049.46 9.54393 L1056.96 9.54393 L1056.96 34.0924 Z\" fill=\"#000000\" fill-rule=\"evenodd\" fill-opacity=\"1\" /><path clip-path=\"url(#clip330)\" d=\"M1141.22 48.0275 L1141.22 51.6733 L1106.95 51.6733 Q1107.43 59.3701 1111.56 63.421 Q1115.74 67.4314 1123.15 67.4314 Q1127.44 67.4314 1131.45 66.3781 Q1135.5 65.3249 1139.47 63.2184 L1139.47 70.267 Q1135.46 71.9684 1131.25 72.8596 Q1127.04 73.7508 1122.7 73.7508 Q1111.85 73.7508 1105.49 67.4314 Q1099.17 61.1119 1099.17 50.3365 Q1099.17 39.1965 1105.16 32.6746 Q1111.2 26.1121 1121.41 26.1121 Q1130.56 26.1121 1135.87 32.0264 Q1141.22 37.9003 1141.22 48.0275 M1133.76 45.84 Q1133.68 39.7232 1130.32 36.0774 Q1127 32.4315 1121.49 32.4315 Q1115.25 32.4315 1111.48 35.9558 Q1107.76 39.4801 1107.19 45.8805 L1133.76 45.84 Z\" fill=\"#000000\" fill-rule=\"evenodd\" fill-opacity=\"1\" /><path clip-path=\"url(#clip330)\" d=\"M1179.74 34.1734 Q1178.48 33.4443 1176.99 33.1202 Q1175.53 32.7556 1173.75 32.7556 Q1167.43 32.7556 1164.02 36.8875 Q1160.66 40.9789 1160.66 48.6757 L1160.66 72.576 L1153.17 72.576 L1153.17 27.2059 L1160.66 27.2059 L1160.66 34.2544 Q1163.01 30.1225 1166.78 28.1376 Q1170.54 26.1121 1175.93 26.1121 Q1176.7 26.1121 1177.63 26.2337 Q1178.57 26.3147 1179.7 26.5172 L1179.74 34.1734 Z\" fill=\"#000000\" fill-rule=\"evenodd\" fill-opacity=\"1\" /><path clip-path=\"url(#clip330)\" d=\"M1231.51 32.4315 Q1225.52 32.4315 1222.03 37.1306 Q1218.55 41.7891 1218.55 49.9314 Q1218.55 58.0738 1221.99 62.7728 Q1225.48 67.4314 1231.51 67.4314 Q1237.47 67.4314 1240.95 62.7323 Q1244.43 58.0333 1244.43 49.9314 Q1244.43 41.8701 1240.95 37.1711 Q1237.47 32.4315 1231.51 32.4315 M1231.51 26.1121 Q1241.23 26.1121 1246.78 32.4315 Q1252.33 38.7509 1252.33 49.9314 Q1252.33 61.0714 1246.78 67.4314 Q1241.23 73.7508 1231.51 73.7508 Q1221.75 73.7508 1216.2 67.4314 Q1210.69 61.0714 1210.69 49.9314 Q1210.69 38.7509 1216.2 32.4315 Q1221.75 26.1121 1231.51 26.1121 Z\" fill=\"#000000\" fill-rule=\"evenodd\" fill-opacity=\"1\" /><path clip-path=\"url(#clip330)\" d=\"M1287.66 9.54393 L1287.66 15.7418 L1280.53 15.7418 Q1276.52 15.7418 1274.94 17.3622 Q1273.4 18.9825 1273.4 23.1955 L1273.4 27.2059 L1285.67 27.2059 L1285.67 32.9987 L1273.4 32.9987 L1273.4 72.576 L1265.9 72.576 L1265.9 32.9987 L1258.77 32.9987 L1258.77 27.2059 L1265.9 27.2059 L1265.9 24.0462 Q1265.9 16.471 1269.43 13.0277 Q1272.95 9.54393 1280.61 9.54393 L1287.66 9.54393 Z\" fill=\"#000000\" fill-rule=\"evenodd\" fill-opacity=\"1\" /><path clip-path=\"url(#clip330)\" d=\"M1320.27 27.2059 L1327.72 27.2059 L1327.72 72.576 L1320.27 72.576 L1320.27 27.2059 M1320.27 9.54393 L1327.72 9.54393 L1327.72 18.9825 L1320.27 18.9825 L1320.27 9.54393 Z\" fill=\"#000000\" fill-rule=\"evenodd\" fill-opacity=\"1\" /><path clip-path=\"url(#clip330)\" d=\"M1350.69 14.324 L1350.69 27.2059 L1366.04 27.2059 L1366.04 32.9987 L1350.69 32.9987 L1350.69 57.6282 Q1350.69 63.1779 1352.19 64.7578 Q1353.73 66.3376 1358.39 66.3376 L1366.04 66.3376 L1366.04 72.576 L1358.39 72.576 Q1349.76 72.576 1346.48 69.3758 Q1343.19 66.1351 1343.19 57.6282 L1343.19 32.9987 L1337.73 32.9987 L1337.73 27.2059 L1343.19 27.2059 L1343.19 14.324 L1350.69 14.324 Z\" fill=\"#000000\" fill-rule=\"evenodd\" fill-opacity=\"1\" /><path clip-path=\"url(#clip330)\" d=\"M1414.65 48.0275 L1414.65 51.6733 L1380.38 51.6733 Q1380.87 59.3701 1385 63.421 Q1389.17 67.4314 1396.59 67.4314 Q1400.88 67.4314 1404.89 66.3781 Q1408.94 65.3249 1412.91 63.2184 L1412.91 70.267 Q1408.9 71.9684 1404.69 72.8596 Q1400.47 73.7508 1396.14 73.7508 Q1385.28 73.7508 1378.92 67.4314 Q1372.6 61.1119 1372.6 50.3365 Q1372.6 39.1965 1378.6 32.6746 Q1384.64 26.1121 1394.84 26.1121 Q1404 26.1121 1409.31 32.0264 Q1414.65 37.9003 1414.65 48.0275 M1407.2 45.84 Q1407.12 39.7232 1403.76 36.0774 Q1400.43 32.4315 1394.92 32.4315 Q1388.69 32.4315 1384.92 35.9558 Q1381.19 39.4801 1380.62 45.8805 L1407.2 45.84 Z\" fill=\"#000000\" fill-rule=\"evenodd\" fill-opacity=\"1\" /><path clip-path=\"url(#clip330)\" d=\"M1453.18 34.1734 Q1451.92 33.4443 1450.42 33.1202 Q1448.96 32.7556 1447.18 32.7556 Q1440.86 32.7556 1437.46 36.8875 Q1434.1 40.9789 1434.1 48.6757 L1434.1 72.576 L1426.6 72.576 L1426.6 27.2059 L1434.1 27.2059 L1434.1 34.2544 Q1436.45 30.1225 1440.21 28.1376 Q1443.98 26.1121 1449.37 26.1121 Q1450.14 26.1121 1451.07 26.2337 Q1452 26.3147 1453.14 26.5172 L1453.18 34.1734 Z\" fill=\"#000000\" fill-rule=\"evenodd\" fill-opacity=\"1\" /><path clip-path=\"url(#clip330)\" d=\"M1481.61 49.7694 Q1472.58 49.7694 1469.1 51.8354 Q1465.61 53.9013 1465.61 58.8839 Q1465.61 62.8538 1468.21 65.2034 Q1470.84 67.5124 1475.33 67.5124 Q1481.53 67.5124 1485.26 63.1374 Q1489.03 58.7219 1489.03 51.4303 L1489.03 49.7694 L1481.61 49.7694 M1496.48 46.6907 L1496.48 72.576 L1489.03 72.576 L1489.03 65.6895 Q1486.47 69.8214 1482.67 71.8063 Q1478.86 73.7508 1473.35 73.7508 Q1466.38 73.7508 1462.25 69.8619 Q1458.16 65.9325 1458.16 59.3701 Q1458.16 51.7138 1463.26 47.825 Q1468.41 43.9361 1478.58 43.9361 L1489.03 43.9361 L1489.03 43.2069 Q1489.03 38.0623 1485.62 35.2672 Q1482.26 32.4315 1476.15 32.4315 Q1472.26 32.4315 1468.57 33.3632 Q1464.88 34.295 1461.48 36.1584 L1461.48 29.2718 Q1465.57 27.692 1469.42 26.9223 Q1473.27 26.1121 1476.91 26.1121 Q1486.76 26.1121 1491.62 31.2163 Q1496.48 36.3204 1496.48 46.6907 Z\" fill=\"#000000\" fill-rule=\"evenodd\" fill-opacity=\"1\" /><path clip-path=\"url(#clip330)\" d=\"M1519.21 14.324 L1519.21 27.2059 L1534.56 27.2059 L1534.56 32.9987 L1519.21 32.9987 L1519.21 57.6282 Q1519.21 63.1779 1520.71 64.7578 Q1522.24 66.3376 1526.9 66.3376 L1534.56 66.3376 L1534.56 72.576 L1526.9 72.576 Q1518.27 72.576 1514.99 69.3758 Q1511.71 66.1351 1511.71 57.6282 L1511.71 32.9987 L1506.24 32.9987 L1506.24 27.2059 L1511.71 27.2059 L1511.71 14.324 L1519.21 14.324 Z\" fill=\"#000000\" fill-rule=\"evenodd\" fill-opacity=\"1\" /><path clip-path=\"url(#clip330)\" d=\"M1544.36 27.2059 L1551.82 27.2059 L1551.82 72.576 L1544.36 72.576 L1544.36 27.2059 M1544.36 9.54393 L1551.82 9.54393 L1551.82 18.9825 L1544.36 18.9825 L1544.36 9.54393 Z\" fill=\"#000000\" fill-rule=\"evenodd\" fill-opacity=\"1\" /><path clip-path=\"url(#clip330)\" d=\"M1584.99 32.4315 Q1579 32.4315 1575.51 37.1306 Q1572.03 41.7891 1572.03 49.9314 Q1572.03 58.0738 1575.47 62.7728 Q1578.96 67.4314 1584.99 67.4314 Q1590.95 67.4314 1594.43 62.7323 Q1597.92 58.0333 1597.92 49.9314 Q1597.92 41.8701 1594.43 37.1711 Q1590.95 32.4315 1584.99 32.4315 M1584.99 26.1121 Q1594.72 26.1121 1600.26 32.4315 Q1605.81 38.7509 1605.81 49.9314 Q1605.81 61.0714 1600.26 67.4314 Q1594.72 73.7508 1584.99 73.7508 Q1575.23 73.7508 1569.68 67.4314 Q1564.17 61.0714 1564.17 49.9314 Q1564.17 38.7509 1569.68 32.4315 Q1575.23 26.1121 1584.99 26.1121 Z\" fill=\"#000000\" fill-rule=\"evenodd\" fill-opacity=\"1\" /><path clip-path=\"url(#clip330)\" d=\"M1655.88 45.1919 L1655.88 72.576 L1648.43 72.576 L1648.43 45.4349 Q1648.43 38.994 1645.92 35.7938 Q1643.41 32.5936 1638.38 32.5936 Q1632.35 32.5936 1628.86 36.4419 Q1625.38 40.2903 1625.38 46.9338 L1625.38 72.576 L1617.89 72.576 L1617.89 27.2059 L1625.38 27.2059 L1625.38 34.2544 Q1628.05 30.163 1631.66 28.1376 Q1635.31 26.1121 1640.04 26.1121 Q1647.86 26.1121 1651.87 30.9732 Q1655.88 35.7938 1655.88 45.1919 Z\" fill=\"#000000\" fill-rule=\"evenodd\" fill-opacity=\"1\" /><path clip-path=\"url(#clip330)\" d=\"M1699.67 28.5427 L1699.67 35.5912 Q1696.51 33.9709 1693.11 33.1607 Q1689.71 32.3505 1686.06 32.3505 Q1680.51 32.3505 1677.72 34.0519 Q1674.96 35.7533 1674.96 39.156 Q1674.96 41.7486 1676.95 43.2475 Q1678.93 44.7058 1684.93 46.0426 L1687.48 46.6097 Q1695.42 48.3111 1698.74 51.4303 Q1702.1 54.509 1702.1 60.0587 Q1702.1 66.3781 1697.08 70.0644 Q1692.1 73.7508 1683.35 73.7508 Q1679.7 73.7508 1675.73 73.0216 Q1671.8 72.3329 1667.43 70.9151 L1667.43 63.2184 Q1671.56 65.3654 1675.57 66.4591 Q1679.58 67.5124 1683.51 67.5124 Q1688.78 67.5124 1691.61 65.73 Q1694.45 63.9071 1694.45 60.6258 Q1694.45 57.5877 1692.38 55.9673 Q1690.36 54.3469 1683.43 52.8481 L1680.84 52.2405 Q1673.91 50.7821 1670.83 47.7845 Q1667.75 44.7463 1667.75 39.4801 Q1667.75 33.0797 1672.29 29.5959 Q1676.83 26.1121 1685.17 26.1121 Q1689.3 26.1121 1692.95 26.7198 Q1696.6 27.3274 1699.67 28.5427 Z\" fill=\"#000000\" fill-rule=\"evenodd\" fill-opacity=\"1\" /><path clip-path=\"url(#clip332)\" d=\"\n",
       "M322.151 160.256 L322.151 1386.4 L585.933 1386.4 L585.933 160.256 L322.151 160.256 L322.151 160.256  Z\n",
       "  \" fill=\"#009af9\" fill-rule=\"evenodd\" fill-opacity=\"1\"/>\n",
       "<polyline clip-path=\"url(#clip332)\" style=\"stroke:#000000; stroke-linecap:butt; stroke-linejoin:round; stroke-width:4; stroke-opacity:1; fill:none\" points=\"\n",
       "  322.151,160.256 322.151,1386.4 585.933,1386.4 585.933,160.256 322.151,160.256 \n",
       "  \"/>\n",
       "<path clip-path=\"url(#clip332)\" d=\"\n",
       "M651.878 160.256 L651.878 1386.4 L915.66 1386.4 L915.66 160.256 L651.878 160.256 L651.878 160.256  Z\n",
       "  \" fill=\"#009af9\" fill-rule=\"evenodd\" fill-opacity=\"1\"/>\n",
       "<polyline clip-path=\"url(#clip332)\" style=\"stroke:#000000; stroke-linecap:butt; stroke-linejoin:round; stroke-width:4; stroke-opacity:1; fill:none\" points=\"\n",
       "  651.878,160.256 651.878,1386.4 915.66,1386.4 915.66,160.256 651.878,160.256 \n",
       "  \"/>\n",
       "<path clip-path=\"url(#clip332)\" d=\"\n",
       "M981.605 160.256 L981.605 1386.4 L1245.39 1386.4 L1245.39 160.256 L981.605 160.256 L981.605 160.256  Z\n",
       "  \" fill=\"#009af9\" fill-rule=\"evenodd\" fill-opacity=\"1\"/>\n",
       "<polyline clip-path=\"url(#clip332)\" style=\"stroke:#000000; stroke-linecap:butt; stroke-linejoin:round; stroke-width:4; stroke-opacity:1; fill:none\" points=\"\n",
       "  981.605,160.256 981.605,1386.4 1245.39,1386.4 1245.39,160.256 981.605,160.256 \n",
       "  \"/>\n",
       "<path clip-path=\"url(#clip332)\" d=\"\n",
       "M1311.33 160.256 L1311.33 1386.4 L1575.11 1386.4 L1575.11 160.256 L1311.33 160.256 L1311.33 160.256  Z\n",
       "  \" fill=\"#009af9\" fill-rule=\"evenodd\" fill-opacity=\"1\"/>\n",
       "<polyline clip-path=\"url(#clip332)\" style=\"stroke:#000000; stroke-linecap:butt; stroke-linejoin:round; stroke-width:4; stroke-opacity:1; fill:none\" points=\"\n",
       "  1311.33,160.256 1311.33,1386.4 1575.11,1386.4 1575.11,160.256 1311.33,160.256 \n",
       "  \"/>\n",
       "<path clip-path=\"url(#clip332)\" d=\"\n",
       "M1641.06 160.256 L1641.06 1386.4 L1904.84 1386.4 L1904.84 160.256 L1641.06 160.256 L1641.06 160.256  Z\n",
       "  \" fill=\"#009af9\" fill-rule=\"evenodd\" fill-opacity=\"1\"/>\n",
       "<polyline clip-path=\"url(#clip332)\" style=\"stroke:#000000; stroke-linecap:butt; stroke-linejoin:round; stroke-width:4; stroke-opacity:1; fill:none\" points=\"\n",
       "  1641.06,160.256 1641.06,1386.4 1904.84,1386.4 1904.84,160.256 1641.06,160.256 \n",
       "  \"/>\n",
       "<path clip-path=\"url(#clip332)\" d=\"\n",
       "M1970.79 160.256 L1970.79 1386.4 L2234.57 1386.4 L2234.57 160.256 L1970.79 160.256 L1970.79 160.256  Z\n",
       "  \" fill=\"#009af9\" fill-rule=\"evenodd\" fill-opacity=\"1\"/>\n",
       "<polyline clip-path=\"url(#clip332)\" style=\"stroke:#000000; stroke-linecap:butt; stroke-linejoin:round; stroke-width:4; stroke-opacity:1; fill:none\" points=\"\n",
       "  1970.79,160.256 1970.79,1386.4 2234.57,1386.4 2234.57,160.256 1970.79,160.256 \n",
       "  \"/>\n",
       "<circle clip-path=\"url(#clip332)\" style=\"fill:#009af9; stroke:none; fill-opacity:0\" cx=\"454.042\" cy=\"160.256\" r=\"2\"/>\n",
       "<circle clip-path=\"url(#clip332)\" style=\"fill:#009af9; stroke:none; fill-opacity:0\" cx=\"783.769\" cy=\"160.256\" r=\"2\"/>\n",
       "<circle clip-path=\"url(#clip332)\" style=\"fill:#009af9; stroke:none; fill-opacity:0\" cx=\"1113.5\" cy=\"160.256\" r=\"2\"/>\n",
       "<circle clip-path=\"url(#clip332)\" style=\"fill:#009af9; stroke:none; fill-opacity:0\" cx=\"1443.22\" cy=\"160.256\" r=\"2\"/>\n",
       "<circle clip-path=\"url(#clip332)\" style=\"fill:#009af9; stroke:none; fill-opacity:0\" cx=\"1772.95\" cy=\"160.256\" r=\"2\"/>\n",
       "<circle clip-path=\"url(#clip332)\" style=\"fill:#009af9; stroke:none; fill-opacity:0\" cx=\"2102.68\" cy=\"160.256\" r=\"2\"/>\n",
       "</svg>\n"
      ]
     },
     "metadata": {},
     "output_type": "display_data"
    },
    {
     "data": {
      "image/svg+xml": [
       "<?xml version=\"1.0\" encoding=\"utf-8\"?>\n",
       "<svg xmlns=\"http://www.w3.org/2000/svg\" xmlns:xlink=\"http://www.w3.org/1999/xlink\" width=\"600\" height=\"400\" viewBox=\"0 0 2400 1600\">\n",
       "<defs>\n",
       "  <clipPath id=\"clip370\">\n",
       "    <rect x=\"0\" y=\"0\" width=\"2400\" height=\"1600\"/>\n",
       "  </clipPath>\n",
       "</defs>\n",
       "<path clip-path=\"url(#clip370)\" d=\"\n",
       "M0 1600 L2400 1600 L2400 0 L0 0  Z\n",
       "  \" fill=\"#ffffff\" fill-rule=\"evenodd\" fill-opacity=\"1\"/>\n",
       "<defs>\n",
       "  <clipPath id=\"clip371\">\n",
       "    <rect x=\"480\" y=\"0\" width=\"1681\" height=\"1600\"/>\n",
       "  </clipPath>\n",
       "</defs>\n",
       "<path clip-path=\"url(#clip370)\" d=\"\n",
       "M264.287 1423.18 L2352.76 1423.18 L2352.76 123.472 L264.287 123.472  Z\n",
       "  \" fill=\"#ffffff\" fill-rule=\"evenodd\" fill-opacity=\"1\"/>\n",
       "<defs>\n",
       "  <clipPath id=\"clip372\">\n",
       "    <rect x=\"264\" y=\"123\" width=\"2089\" height=\"1301\"/>\n",
       "  </clipPath>\n",
       "</defs>\n",
       "<polyline clip-path=\"url(#clip372)\" style=\"stroke:#000000; stroke-linecap:butt; stroke-linejoin:round; stroke-width:2; stroke-opacity:0.1; fill:none\" points=\"\n",
       "  507.345,1423.18 507.345,123.472 \n",
       "  \"/>\n",
       "<polyline clip-path=\"url(#clip372)\" style=\"stroke:#000000; stroke-linecap:butt; stroke-linejoin:round; stroke-width:2; stroke-opacity:0.1; fill:none\" points=\"\n",
       "  827.816,1423.18 827.816,123.472 \n",
       "  \"/>\n",
       "<polyline clip-path=\"url(#clip372)\" style=\"stroke:#000000; stroke-linecap:butt; stroke-linejoin:round; stroke-width:2; stroke-opacity:0.1; fill:none\" points=\"\n",
       "  1148.29,1423.18 1148.29,123.472 \n",
       "  \"/>\n",
       "<polyline clip-path=\"url(#clip372)\" style=\"stroke:#000000; stroke-linecap:butt; stroke-linejoin:round; stroke-width:2; stroke-opacity:0.1; fill:none\" points=\"\n",
       "  1468.76,1423.18 1468.76,123.472 \n",
       "  \"/>\n",
       "<polyline clip-path=\"url(#clip372)\" style=\"stroke:#000000; stroke-linecap:butt; stroke-linejoin:round; stroke-width:2; stroke-opacity:0.1; fill:none\" points=\"\n",
       "  1789.23,1423.18 1789.23,123.472 \n",
       "  \"/>\n",
       "<polyline clip-path=\"url(#clip372)\" style=\"stroke:#000000; stroke-linecap:butt; stroke-linejoin:round; stroke-width:2; stroke-opacity:0.1; fill:none\" points=\"\n",
       "  2109.7,1423.18 2109.7,123.472 \n",
       "  \"/>\n",
       "<polyline clip-path=\"url(#clip370)\" style=\"stroke:#000000; stroke-linecap:butt; stroke-linejoin:round; stroke-width:4; stroke-opacity:1; fill:none\" points=\"\n",
       "  264.287,1423.18 2352.76,1423.18 \n",
       "  \"/>\n",
       "<polyline clip-path=\"url(#clip370)\" style=\"stroke:#000000; stroke-linecap:butt; stroke-linejoin:round; stroke-width:4; stroke-opacity:1; fill:none\" points=\"\n",
       "  507.345,1423.18 507.345,1404.28 \n",
       "  \"/>\n",
       "<polyline clip-path=\"url(#clip370)\" style=\"stroke:#000000; stroke-linecap:butt; stroke-linejoin:round; stroke-width:4; stroke-opacity:1; fill:none\" points=\"\n",
       "  827.816,1423.18 827.816,1404.28 \n",
       "  \"/>\n",
       "<polyline clip-path=\"url(#clip370)\" style=\"stroke:#000000; stroke-linecap:butt; stroke-linejoin:round; stroke-width:4; stroke-opacity:1; fill:none\" points=\"\n",
       "  1148.29,1423.18 1148.29,1404.28 \n",
       "  \"/>\n",
       "<polyline clip-path=\"url(#clip370)\" style=\"stroke:#000000; stroke-linecap:butt; stroke-linejoin:round; stroke-width:4; stroke-opacity:1; fill:none\" points=\"\n",
       "  1468.76,1423.18 1468.76,1404.28 \n",
       "  \"/>\n",
       "<polyline clip-path=\"url(#clip370)\" style=\"stroke:#000000; stroke-linecap:butt; stroke-linejoin:round; stroke-width:4; stroke-opacity:1; fill:none\" points=\"\n",
       "  1789.23,1423.18 1789.23,1404.28 \n",
       "  \"/>\n",
       "<polyline clip-path=\"url(#clip370)\" style=\"stroke:#000000; stroke-linecap:butt; stroke-linejoin:round; stroke-width:4; stroke-opacity:1; fill:none\" points=\"\n",
       "  2109.7,1423.18 2109.7,1404.28 \n",
       "  \"/>\n",
       "<path clip-path=\"url(#clip370)\" d=\"M497.727 1481.64 L505.366 1481.64 L505.366 1455.28 L497.056 1456.95 L497.056 1452.69 L505.32 1451.02 L509.996 1451.02 L509.996 1481.64 L517.634 1481.64 L517.634 1485.58 L497.727 1485.58 L497.727 1481.64 Z\" fill=\"#000000\" fill-rule=\"evenodd\" fill-opacity=\"1\" /><path clip-path=\"url(#clip370)\" d=\"M822.468 1481.64 L838.788 1481.64 L838.788 1485.58 L816.844 1485.58 L816.844 1481.64 Q819.506 1478.89 824.089 1474.26 Q828.695 1469.61 829.876 1468.27 Q832.121 1465.74 833.001 1464.01 Q833.904 1462.25 833.904 1460.56 Q833.904 1457.8 831.959 1456.07 Q830.038 1454.33 826.936 1454.33 Q824.737 1454.33 822.283 1455.09 Q819.853 1455.86 817.075 1457.41 L817.075 1452.69 Q819.899 1451.55 822.353 1450.97 Q824.806 1450.39 826.843 1450.39 Q832.214 1450.39 835.408 1453.08 Q838.603 1455.77 838.603 1460.26 Q838.603 1462.39 837.792 1464.31 Q837.005 1466.2 834.899 1468.8 Q834.32 1469.47 831.218 1472.69 Q828.117 1475.88 822.468 1481.64 Z\" fill=\"#000000\" fill-rule=\"evenodd\" fill-opacity=\"1\" /><path clip-path=\"url(#clip370)\" d=\"M1152.53 1466.95 Q1155.89 1467.66 1157.77 1469.93 Q1159.66 1472.2 1159.66 1475.53 Q1159.66 1480.65 1156.15 1483.45 Q1152.63 1486.25 1146.15 1486.25 Q1143.97 1486.25 1141.65 1485.81 Q1139.36 1485.39 1136.91 1484.54 L1136.91 1480.02 Q1138.85 1481.16 1141.17 1481.74 Q1143.48 1482.32 1146.01 1482.32 Q1150.4 1482.32 1152.7 1480.58 Q1155.01 1478.84 1155.01 1475.53 Q1155.01 1472.48 1152.86 1470.77 Q1150.73 1469.03 1146.91 1469.03 L1142.88 1469.03 L1142.88 1465.19 L1147.09 1465.19 Q1150.54 1465.19 1152.37 1463.82 Q1154.2 1462.43 1154.2 1459.84 Q1154.2 1457.18 1152.3 1455.77 Q1150.43 1454.33 1146.91 1454.33 Q1144.99 1454.33 1142.79 1454.75 Q1140.59 1455.16 1137.95 1456.04 L1137.95 1451.88 Q1140.61 1451.14 1142.93 1450.77 Q1145.27 1450.39 1147.33 1450.39 Q1152.65 1450.39 1155.75 1452.83 Q1158.85 1455.23 1158.85 1459.35 Q1158.85 1462.22 1157.21 1464.21 Q1155.57 1466.18 1152.53 1466.95 Z\" fill=\"#000000\" fill-rule=\"evenodd\" fill-opacity=\"1\" /><path clip-path=\"url(#clip370)\" d=\"M1471.77 1455.09 L1459.96 1473.54 L1471.77 1473.54 L1471.77 1455.09 M1470.54 1451.02 L1476.42 1451.02 L1476.42 1473.54 L1481.35 1473.54 L1481.35 1477.43 L1476.42 1477.43 L1476.42 1485.58 L1471.77 1485.58 L1471.77 1477.43 L1456.16 1477.43 L1456.16 1472.92 L1470.54 1451.02 Z\" fill=\"#000000\" fill-rule=\"evenodd\" fill-opacity=\"1\" /><path clip-path=\"url(#clip370)\" d=\"M1779.51 1451.02 L1797.86 1451.02 L1797.86 1454.96 L1783.79 1454.96 L1783.79 1463.43 Q1784.81 1463.08 1785.82 1462.92 Q1786.84 1462.73 1787.86 1462.73 Q1793.65 1462.73 1797.03 1465.9 Q1800.41 1469.08 1800.41 1474.49 Q1800.41 1480.07 1796.94 1483.17 Q1793.46 1486.25 1787.14 1486.25 Q1784.97 1486.25 1782.7 1485.88 Q1780.45 1485.51 1778.05 1484.77 L1778.05 1480.07 Q1780.13 1481.2 1782.35 1481.76 Q1784.57 1482.32 1787.05 1482.32 Q1791.06 1482.32 1793.39 1480.21 Q1795.73 1478.1 1795.73 1474.49 Q1795.73 1470.88 1793.39 1468.77 Q1791.06 1466.67 1787.05 1466.67 Q1785.18 1466.67 1783.3 1467.08 Q1781.45 1467.5 1779.51 1468.38 L1779.51 1451.02 Z\" fill=\"#000000\" fill-rule=\"evenodd\" fill-opacity=\"1\" /><path clip-path=\"url(#clip370)\" d=\"M2110.1 1466.44 Q2106.96 1466.44 2105.1 1468.59 Q2103.27 1470.74 2103.27 1474.49 Q2103.27 1478.22 2105.1 1480.39 Q2106.96 1482.55 2110.1 1482.55 Q2113.25 1482.55 2115.08 1480.39 Q2116.93 1478.22 2116.93 1474.49 Q2116.93 1470.74 2115.08 1468.59 Q2113.25 1466.44 2110.1 1466.44 M2119.39 1451.78 L2119.39 1456.04 Q2117.63 1455.21 2115.82 1454.77 Q2114.04 1454.33 2112.28 1454.33 Q2107.65 1454.33 2105.2 1457.45 Q2102.77 1460.58 2102.42 1466.9 Q2103.78 1464.89 2105.84 1463.82 Q2107.9 1462.73 2110.38 1462.73 Q2115.59 1462.73 2118.6 1465.9 Q2121.63 1469.05 2121.63 1474.49 Q2121.63 1479.82 2118.48 1483.03 Q2115.33 1486.25 2110.1 1486.25 Q2104.11 1486.25 2100.94 1481.67 Q2097.77 1477.06 2097.77 1468.33 Q2097.77 1460.14 2101.65 1455.28 Q2105.54 1450.39 2112.09 1450.39 Q2113.85 1450.39 2115.64 1450.74 Q2117.44 1451.09 2119.39 1451.78 Z\" fill=\"#000000\" fill-rule=\"evenodd\" fill-opacity=\"1\" /><path clip-path=\"url(#clip370)\" d=\"M1185.97 1522.27 L1185.97 1532.4 L1198.03 1532.4 L1198.03 1536.95 L1185.97 1536.95 L1185.97 1556.3 Q1185.97 1560.66 1187.14 1561.9 Q1188.35 1563.14 1192.01 1563.14 L1198.03 1563.14 L1198.03 1568.04 L1192.01 1568.04 Q1185.23 1568.04 1182.66 1565.53 Q1180.08 1562.98 1180.08 1556.3 L1180.08 1536.95 L1175.78 1536.95 L1175.78 1532.4 L1180.08 1532.4 L1180.08 1522.27 L1185.97 1522.27 Z\" fill=\"#000000\" fill-rule=\"evenodd\" fill-opacity=\"1\" /><path clip-path=\"url(#clip370)\" d=\"M1235.36 1546.53 L1235.36 1568.04 L1229.51 1568.04 L1229.51 1546.72 Q1229.51 1541.66 1227.53 1539.14 Q1225.56 1536.63 1221.61 1536.63 Q1216.87 1536.63 1214.13 1539.65 Q1211.4 1542.68 1211.4 1547.9 L1211.4 1568.04 L1205.51 1568.04 L1205.51 1518.52 L1211.4 1518.52 L1211.4 1537.93 Q1213.5 1534.72 1216.33 1533.13 Q1219.19 1531.54 1222.92 1531.54 Q1229.06 1531.54 1232.21 1535.36 Q1235.36 1539.14 1235.36 1546.53 Z\" fill=\"#000000\" fill-rule=\"evenodd\" fill-opacity=\"1\" /><path clip-path=\"url(#clip370)\" d=\"M1267.7 1537.87 Q1266.71 1537.3 1265.54 1537.04 Q1264.39 1536.76 1262.99 1536.76 Q1258.03 1536.76 1255.35 1540 Q1252.71 1543.22 1252.71 1549.27 L1252.71 1568.04 L1246.82 1568.04 L1246.82 1532.4 L1252.71 1532.4 L1252.71 1537.93 Q1254.56 1534.69 1257.52 1533.13 Q1260.48 1531.54 1264.71 1531.54 Q1265.31 1531.54 1266.05 1531.63 Q1266.78 1531.7 1267.67 1531.85 L1267.7 1537.87 Z\" fill=\"#000000\" fill-rule=\"evenodd\" fill-opacity=\"1\" /><path clip-path=\"url(#clip370)\" d=\"M1302.9 1548.76 L1302.9 1551.62 L1275.98 1551.62 Q1276.36 1557.67 1279.61 1560.85 Q1282.88 1564 1288.71 1564 Q1292.08 1564 1295.23 1563.17 Q1298.42 1562.35 1301.54 1560.69 L1301.54 1566.23 Q1298.38 1567.57 1295.07 1568.27 Q1291.76 1568.97 1288.36 1568.97 Q1279.83 1568.97 1274.83 1564 Q1269.87 1559.04 1269.87 1550.57 Q1269.87 1541.82 1274.58 1536.69 Q1279.32 1531.54 1287.34 1531.54 Q1294.53 1531.54 1298.7 1536.18 Q1302.9 1540.8 1302.9 1548.76 M1297.05 1547.04 Q1296.98 1542.23 1294.34 1539.37 Q1291.73 1536.5 1287.4 1536.5 Q1282.5 1536.5 1279.54 1539.27 Q1276.61 1542.04 1276.17 1547.07 L1297.05 1547.04 Z\" fill=\"#000000\" fill-rule=\"evenodd\" fill-opacity=\"1\" /><path clip-path=\"url(#clip370)\" d=\"M1328.72 1550.12 Q1321.62 1550.12 1318.88 1551.75 Q1316.14 1553.37 1316.14 1557.29 Q1316.14 1560.4 1318.18 1562.25 Q1320.25 1564.07 1323.78 1564.07 Q1328.65 1564.07 1331.58 1560.63 Q1334.54 1557.16 1334.54 1551.43 L1334.54 1550.12 L1328.72 1550.12 M1340.4 1547.71 L1340.4 1568.04 L1334.54 1568.04 L1334.54 1562.63 Q1332.54 1565.88 1329.54 1567.44 Q1326.55 1568.97 1322.22 1568.97 Q1316.75 1568.97 1313.5 1565.91 Q1310.29 1562.82 1310.29 1557.67 Q1310.29 1551.65 1314.3 1548.6 Q1318.34 1545.54 1326.33 1545.54 L1334.54 1545.54 L1334.54 1544.97 Q1334.54 1540.93 1331.87 1538.73 Q1329.23 1536.5 1324.42 1536.5 Q1321.36 1536.5 1318.47 1537.23 Q1315.57 1537.97 1312.9 1539.43 L1312.9 1534.02 Q1316.11 1532.78 1319.14 1532.17 Q1322.16 1531.54 1325.02 1531.54 Q1332.76 1531.54 1336.58 1535.55 Q1340.4 1539.56 1340.4 1547.71 Z\" fill=\"#000000\" fill-rule=\"evenodd\" fill-opacity=\"1\" /><path clip-path=\"url(#clip370)\" d=\"M1375.92 1537.81 L1375.92 1518.52 L1381.77 1518.52 L1381.77 1568.04 L1375.92 1568.04 L1375.92 1562.7 Q1374.07 1565.88 1371.24 1567.44 Q1368.44 1568.97 1364.49 1568.97 Q1358.03 1568.97 1353.96 1563.81 Q1349.91 1558.65 1349.91 1550.25 Q1349.91 1541.85 1353.96 1536.69 Q1358.03 1531.54 1364.49 1531.54 Q1368.44 1531.54 1371.24 1533.1 Q1374.07 1534.62 1375.92 1537.81 M1355.96 1550.25 Q1355.96 1556.71 1358.6 1560.4 Q1361.28 1564.07 1365.92 1564.07 Q1370.57 1564.07 1373.24 1560.4 Q1375.92 1556.71 1375.92 1550.25 Q1375.92 1543.79 1373.24 1540.13 Q1370.57 1536.44 1365.92 1536.44 Q1361.28 1536.44 1358.6 1540.13 Q1355.96 1543.79 1355.96 1550.25 Z\" fill=\"#000000\" fill-rule=\"evenodd\" fill-opacity=\"1\" /><path clip-path=\"url(#clip370)\" d=\"M1393.84 1532.4 L1399.69 1532.4 L1399.69 1568.04 L1393.84 1568.04 L1393.84 1532.4 M1393.84 1518.52 L1399.69 1518.52 L1399.69 1525.93 L1393.84 1525.93 L1393.84 1518.52 Z\" fill=\"#000000\" fill-rule=\"evenodd\" fill-opacity=\"1\" /><path clip-path=\"url(#clip370)\" d=\"M1435.41 1537.81 L1435.41 1518.52 L1441.26 1518.52 L1441.26 1568.04 L1435.41 1568.04 L1435.41 1562.7 Q1433.56 1565.88 1430.73 1567.44 Q1427.93 1568.97 1423.98 1568.97 Q1417.52 1568.97 1413.44 1563.81 Q1409.4 1558.65 1409.4 1550.25 Q1409.4 1541.85 1413.44 1536.69 Q1417.52 1531.54 1423.98 1531.54 Q1427.93 1531.54 1430.73 1533.1 Q1433.56 1534.62 1435.41 1537.81 M1415.45 1550.25 Q1415.45 1556.71 1418.09 1560.4 Q1420.76 1564.07 1425.41 1564.07 Q1430.06 1564.07 1432.73 1560.4 Q1435.41 1556.71 1435.41 1550.25 Q1435.41 1543.79 1432.73 1540.13 Q1430.06 1536.44 1425.41 1536.44 Q1420.76 1536.44 1418.09 1540.13 Q1415.45 1543.79 1415.45 1550.25 Z\" fill=\"#000000\" fill-rule=\"evenodd\" fill-opacity=\"1\" /><polyline clip-path=\"url(#clip372)\" style=\"stroke:#000000; stroke-linecap:butt; stroke-linejoin:round; stroke-width:2; stroke-opacity:0.1; fill:none\" points=\"\n",
       "  264.287,1386.4 2352.76,1386.4 \n",
       "  \"/>\n",
       "<polyline clip-path=\"url(#clip372)\" style=\"stroke:#000000; stroke-linecap:butt; stroke-linejoin:round; stroke-width:2; stroke-opacity:0.1; fill:none\" points=\"\n",
       "  264.287,1108.99 2352.76,1108.99 \n",
       "  \"/>\n",
       "<polyline clip-path=\"url(#clip372)\" style=\"stroke:#000000; stroke-linecap:butt; stroke-linejoin:round; stroke-width:2; stroke-opacity:0.1; fill:none\" points=\"\n",
       "  264.287,831.581 2352.76,831.581 \n",
       "  \"/>\n",
       "<polyline clip-path=\"url(#clip372)\" style=\"stroke:#000000; stroke-linecap:butt; stroke-linejoin:round; stroke-width:2; stroke-opacity:0.1; fill:none\" points=\"\n",
       "  264.287,554.174 2352.76,554.174 \n",
       "  \"/>\n",
       "<polyline clip-path=\"url(#clip372)\" style=\"stroke:#000000; stroke-linecap:butt; stroke-linejoin:round; stroke-width:2; stroke-opacity:0.1; fill:none\" points=\"\n",
       "  264.287,276.767 2352.76,276.767 \n",
       "  \"/>\n",
       "<polyline clip-path=\"url(#clip370)\" style=\"stroke:#000000; stroke-linecap:butt; stroke-linejoin:round; stroke-width:4; stroke-opacity:1; fill:none\" points=\"\n",
       "  264.287,1423.18 264.287,123.472 \n",
       "  \"/>\n",
       "<polyline clip-path=\"url(#clip370)\" style=\"stroke:#000000; stroke-linecap:butt; stroke-linejoin:round; stroke-width:4; stroke-opacity:1; fill:none\" points=\"\n",
       "  264.287,1386.4 283.185,1386.4 \n",
       "  \"/>\n",
       "<polyline clip-path=\"url(#clip370)\" style=\"stroke:#000000; stroke-linecap:butt; stroke-linejoin:round; stroke-width:4; stroke-opacity:1; fill:none\" points=\"\n",
       "  264.287,1108.99 283.185,1108.99 \n",
       "  \"/>\n",
       "<polyline clip-path=\"url(#clip370)\" style=\"stroke:#000000; stroke-linecap:butt; stroke-linejoin:round; stroke-width:4; stroke-opacity:1; fill:none\" points=\"\n",
       "  264.287,831.581 283.185,831.581 \n",
       "  \"/>\n",
       "<polyline clip-path=\"url(#clip370)\" style=\"stroke:#000000; stroke-linecap:butt; stroke-linejoin:round; stroke-width:4; stroke-opacity:1; fill:none\" points=\"\n",
       "  264.287,554.174 283.185,554.174 \n",
       "  \"/>\n",
       "<polyline clip-path=\"url(#clip370)\" style=\"stroke:#000000; stroke-linecap:butt; stroke-linejoin:round; stroke-width:4; stroke-opacity:1; fill:none\" points=\"\n",
       "  264.287,276.767 283.185,276.767 \n",
       "  \"/>\n",
       "<path clip-path=\"url(#clip370)\" d=\"M216.343 1372.19 Q212.732 1372.19 210.903 1375.76 Q209.098 1379.3 209.098 1386.43 Q209.098 1393.54 210.903 1397.1 Q212.732 1400.64 216.343 1400.64 Q219.977 1400.64 221.783 1397.1 Q223.611 1393.54 223.611 1386.43 Q223.611 1379.3 221.783 1375.76 Q219.977 1372.19 216.343 1372.19 M216.343 1368.49 Q222.153 1368.49 225.209 1373.1 Q228.287 1377.68 228.287 1386.43 Q228.287 1395.16 225.209 1399.76 Q222.153 1404.35 216.343 1404.35 Q210.533 1404.35 207.454 1399.76 Q204.399 1395.16 204.399 1386.43 Q204.399 1377.68 207.454 1373.1 Q210.533 1368.49 216.343 1368.49 Z\" fill=\"#000000\" fill-rule=\"evenodd\" fill-opacity=\"1\" /><path clip-path=\"url(#clip370)\" d=\"M146.066 1091.71 L164.422 1091.71 L164.422 1095.64 L150.348 1095.64 L150.348 1104.12 Q151.366 1103.77 152.385 1103.61 Q153.403 1103.42 154.422 1103.42 Q160.209 1103.42 163.589 1106.59 Q166.968 1109.76 166.968 1115.18 Q166.968 1120.76 163.496 1123.86 Q160.024 1126.94 153.704 1126.94 Q151.528 1126.94 149.26 1126.57 Q147.015 1126.2 144.607 1125.46 L144.607 1120.76 Q146.691 1121.89 148.913 1122.45 Q151.135 1123 153.612 1123 Q157.616 1123 159.954 1120.9 Q162.292 1118.79 162.292 1115.18 Q162.292 1111.57 159.954 1109.46 Q157.616 1107.36 153.612 1107.36 Q151.737 1107.36 149.862 1107.77 Q148.01 1108.19 146.066 1109.07 L146.066 1091.71 Z\" fill=\"#000000\" fill-rule=\"evenodd\" fill-opacity=\"1\" /><path clip-path=\"url(#clip370)\" d=\"M186.181 1094.79 Q182.57 1094.79 180.741 1098.35 Q178.936 1101.89 178.936 1109.02 Q178.936 1116.13 180.741 1119.69 Q182.57 1123.24 186.181 1123.24 Q189.815 1123.24 191.621 1119.69 Q193.45 1116.13 193.45 1109.02 Q193.45 1101.89 191.621 1098.35 Q189.815 1094.79 186.181 1094.79 M186.181 1091.08 Q191.991 1091.08 195.047 1095.69 Q198.125 1100.27 198.125 1109.02 Q198.125 1117.75 195.047 1122.36 Q191.991 1126.94 186.181 1126.94 Q180.371 1126.94 177.292 1122.36 Q174.237 1117.75 174.237 1109.02 Q174.237 1100.27 177.292 1095.69 Q180.371 1091.08 186.181 1091.08 Z\" fill=\"#000000\" fill-rule=\"evenodd\" fill-opacity=\"1\" /><path clip-path=\"url(#clip370)\" d=\"M216.343 1094.79 Q212.732 1094.79 210.903 1098.35 Q209.098 1101.89 209.098 1109.02 Q209.098 1116.13 210.903 1119.69 Q212.732 1123.24 216.343 1123.24 Q219.977 1123.24 221.783 1119.69 Q223.611 1116.13 223.611 1109.02 Q223.611 1101.89 221.783 1098.35 Q219.977 1094.79 216.343 1094.79 M216.343 1091.08 Q222.153 1091.08 225.209 1095.69 Q228.287 1100.27 228.287 1109.02 Q228.287 1117.75 225.209 1122.36 Q222.153 1126.94 216.343 1126.94 Q210.533 1126.94 207.454 1122.36 Q204.399 1117.75 204.399 1109.02 Q204.399 1100.27 207.454 1095.69 Q210.533 1091.08 216.343 1091.08 Z\" fill=\"#000000\" fill-rule=\"evenodd\" fill-opacity=\"1\" /><path clip-path=\"url(#clip370)\" d=\"M116.668 844.926 L124.306 844.926 L124.306 818.561 L115.996 820.227 L115.996 815.968 L124.26 814.301 L128.936 814.301 L128.936 844.926 L136.575 844.926 L136.575 848.861 L116.668 848.861 L116.668 844.926 Z\" fill=\"#000000\" fill-rule=\"evenodd\" fill-opacity=\"1\" /><path clip-path=\"url(#clip370)\" d=\"M156.019 817.38 Q152.408 817.38 150.579 820.945 Q148.774 824.487 148.774 831.616 Q148.774 838.723 150.579 842.287 Q152.408 845.829 156.019 845.829 Q159.653 845.829 161.459 842.287 Q163.288 838.723 163.288 831.616 Q163.288 824.487 161.459 820.945 Q159.653 817.38 156.019 817.38 M156.019 813.676 Q161.829 813.676 164.885 818.283 Q167.964 822.866 167.964 831.616 Q167.964 840.343 164.885 844.949 Q161.829 849.533 156.019 849.533 Q150.209 849.533 147.13 844.949 Q144.075 840.343 144.075 831.616 Q144.075 822.866 147.13 818.283 Q150.209 813.676 156.019 813.676 Z\" fill=\"#000000\" fill-rule=\"evenodd\" fill-opacity=\"1\" /><path clip-path=\"url(#clip370)\" d=\"M186.181 817.38 Q182.57 817.38 180.741 820.945 Q178.936 824.487 178.936 831.616 Q178.936 838.723 180.741 842.287 Q182.57 845.829 186.181 845.829 Q189.815 845.829 191.621 842.287 Q193.45 838.723 193.45 831.616 Q193.45 824.487 191.621 820.945 Q189.815 817.38 186.181 817.38 M186.181 813.676 Q191.991 813.676 195.047 818.283 Q198.125 822.866 198.125 831.616 Q198.125 840.343 195.047 844.949 Q191.991 849.533 186.181 849.533 Q180.371 849.533 177.292 844.949 Q174.237 840.343 174.237 831.616 Q174.237 822.866 177.292 818.283 Q180.371 813.676 186.181 813.676 Z\" fill=\"#000000\" fill-rule=\"evenodd\" fill-opacity=\"1\" /><path clip-path=\"url(#clip370)\" d=\"M216.343 817.38 Q212.732 817.38 210.903 820.945 Q209.098 824.487 209.098 831.616 Q209.098 838.723 210.903 842.287 Q212.732 845.829 216.343 845.829 Q219.977 845.829 221.783 842.287 Q223.611 838.723 223.611 831.616 Q223.611 824.487 221.783 820.945 Q219.977 817.38 216.343 817.38 M216.343 813.676 Q222.153 813.676 225.209 818.283 Q228.287 822.866 228.287 831.616 Q228.287 840.343 225.209 844.949 Q222.153 849.533 216.343 849.533 Q210.533 849.533 207.454 844.949 Q204.399 840.343 204.399 831.616 Q204.399 822.866 207.454 818.283 Q210.533 813.676 216.343 813.676 Z\" fill=\"#000000\" fill-rule=\"evenodd\" fill-opacity=\"1\" /><path clip-path=\"url(#clip370)\" d=\"M116.668 567.519 L124.306 567.519 L124.306 541.154 L115.996 542.82 L115.996 538.561 L124.26 536.894 L128.936 536.894 L128.936 567.519 L136.575 567.519 L136.575 571.454 L116.668 571.454 L116.668 567.519 Z\" fill=\"#000000\" fill-rule=\"evenodd\" fill-opacity=\"1\" /><path clip-path=\"url(#clip370)\" d=\"M146.066 536.894 L164.422 536.894 L164.422 540.83 L150.348 540.83 L150.348 549.302 Q151.366 548.955 152.385 548.792 Q153.403 548.607 154.422 548.607 Q160.209 548.607 163.589 551.779 Q166.968 554.95 166.968 560.366 Q166.968 565.945 163.496 569.047 Q160.024 572.126 153.704 572.126 Q151.528 572.126 149.26 571.755 Q147.015 571.385 144.607 570.644 L144.607 565.945 Q146.691 567.079 148.913 567.635 Q151.135 568.191 153.612 568.191 Q157.616 568.191 159.954 566.084 Q162.292 563.978 162.292 560.366 Q162.292 556.755 159.954 554.649 Q157.616 552.542 153.612 552.542 Q151.737 552.542 149.862 552.959 Q148.01 553.376 146.066 554.255 L146.066 536.894 Z\" fill=\"#000000\" fill-rule=\"evenodd\" fill-opacity=\"1\" /><path clip-path=\"url(#clip370)\" d=\"M186.181 539.973 Q182.57 539.973 180.741 543.538 Q178.936 547.08 178.936 554.209 Q178.936 561.316 180.741 564.88 Q182.57 568.422 186.181 568.422 Q189.815 568.422 191.621 564.88 Q193.45 561.316 193.45 554.209 Q193.45 547.08 191.621 543.538 Q189.815 539.973 186.181 539.973 M186.181 536.269 Q191.991 536.269 195.047 540.876 Q198.125 545.459 198.125 554.209 Q198.125 562.936 195.047 567.542 Q191.991 572.126 186.181 572.126 Q180.371 572.126 177.292 567.542 Q174.237 562.936 174.237 554.209 Q174.237 545.459 177.292 540.876 Q180.371 536.269 186.181 536.269 Z\" fill=\"#000000\" fill-rule=\"evenodd\" fill-opacity=\"1\" /><path clip-path=\"url(#clip370)\" d=\"M216.343 539.973 Q212.732 539.973 210.903 543.538 Q209.098 547.08 209.098 554.209 Q209.098 561.316 210.903 564.88 Q212.732 568.422 216.343 568.422 Q219.977 568.422 221.783 564.88 Q223.611 561.316 223.611 554.209 Q223.611 547.08 221.783 543.538 Q219.977 539.973 216.343 539.973 M216.343 536.269 Q222.153 536.269 225.209 540.876 Q228.287 545.459 228.287 554.209 Q228.287 562.936 225.209 567.542 Q222.153 572.126 216.343 572.126 Q210.533 572.126 207.454 567.542 Q204.399 562.936 204.399 554.209 Q204.399 545.459 207.454 540.876 Q210.533 536.269 216.343 536.269 Z\" fill=\"#000000\" fill-rule=\"evenodd\" fill-opacity=\"1\" /><path clip-path=\"url(#clip370)\" d=\"M119.885 290.112 L136.204 290.112 L136.204 294.047 L114.26 294.047 L114.26 290.112 Q116.922 287.358 121.505 282.728 Q126.112 278.075 127.292 276.733 Q129.538 274.209 130.417 272.473 Q131.32 270.714 131.32 269.024 Q131.32 266.27 129.376 264.534 Q127.455 262.797 124.353 262.797 Q122.154 262.797 119.7 263.561 Q117.269 264.325 114.492 265.876 L114.492 261.154 Q117.316 260.02 119.769 259.441 Q122.223 258.862 124.26 258.862 Q129.63 258.862 132.825 261.547 Q136.019 264.233 136.019 268.723 Q136.019 270.853 135.209 272.774 Q134.422 274.672 132.316 277.265 Q131.737 277.936 128.635 281.154 Q125.533 284.348 119.885 290.112 Z\" fill=\"#000000\" fill-rule=\"evenodd\" fill-opacity=\"1\" /><path clip-path=\"url(#clip370)\" d=\"M156.019 262.566 Q152.408 262.566 150.579 266.131 Q148.774 269.672 148.774 276.802 Q148.774 283.908 150.579 287.473 Q152.408 291.015 156.019 291.015 Q159.653 291.015 161.459 287.473 Q163.288 283.908 163.288 276.802 Q163.288 269.672 161.459 266.131 Q159.653 262.566 156.019 262.566 M156.019 258.862 Q161.829 258.862 164.885 263.469 Q167.964 268.052 167.964 276.802 Q167.964 285.529 164.885 290.135 Q161.829 294.719 156.019 294.719 Q150.209 294.719 147.13 290.135 Q144.075 285.529 144.075 276.802 Q144.075 268.052 147.13 263.469 Q150.209 258.862 156.019 258.862 Z\" fill=\"#000000\" fill-rule=\"evenodd\" fill-opacity=\"1\" /><path clip-path=\"url(#clip370)\" d=\"M186.181 262.566 Q182.57 262.566 180.741 266.131 Q178.936 269.672 178.936 276.802 Q178.936 283.908 180.741 287.473 Q182.57 291.015 186.181 291.015 Q189.815 291.015 191.621 287.473 Q193.45 283.908 193.45 276.802 Q193.45 269.672 191.621 266.131 Q189.815 262.566 186.181 262.566 M186.181 258.862 Q191.991 258.862 195.047 263.469 Q198.125 268.052 198.125 276.802 Q198.125 285.529 195.047 290.135 Q191.991 294.719 186.181 294.719 Q180.371 294.719 177.292 290.135 Q174.237 285.529 174.237 276.802 Q174.237 268.052 177.292 263.469 Q180.371 258.862 186.181 258.862 Z\" fill=\"#000000\" fill-rule=\"evenodd\" fill-opacity=\"1\" /><path clip-path=\"url(#clip370)\" d=\"M216.343 262.566 Q212.732 262.566 210.903 266.131 Q209.098 269.672 209.098 276.802 Q209.098 283.908 210.903 287.473 Q212.732 291.015 216.343 291.015 Q219.977 291.015 221.783 287.473 Q223.611 283.908 223.611 276.802 Q223.611 269.672 221.783 266.131 Q219.977 262.566 216.343 262.566 M216.343 258.862 Q222.153 258.862 225.209 263.469 Q228.287 268.052 228.287 276.802 Q228.287 285.529 225.209 290.135 Q222.153 294.719 216.343 294.719 Q210.533 294.719 207.454 290.135 Q204.399 285.529 204.399 276.802 Q204.399 268.052 207.454 263.469 Q210.533 258.862 216.343 258.862 Z\" fill=\"#000000\" fill-rule=\"evenodd\" fill-opacity=\"1\" /><path clip-path=\"url(#clip370)\" d=\"M28.3562 917.525 L28.3562 911.669 L56.1743 904.348 L28.3562 897.059 L28.3562 890.153 L56.1743 882.832 L28.3562 875.543 L28.3562 869.687 L64.0042 879.013 L64.0042 885.919 L34.7856 893.59 L64.0042 901.293 L64.0042 908.199 L28.3562 917.525 Z\" fill=\"#000000\" fill-rule=\"evenodd\" fill-opacity=\"1\" /><path clip-path=\"url(#clip370)\" d=\"M32.4621 846.993 Q32.4621 851.704 36.1542 854.441 Q39.8145 857.178 46.212 857.178 Q52.6095 857.178 56.3017 854.473 Q59.9619 851.736 59.9619 846.993 Q59.9619 842.314 56.2698 839.577 Q52.5777 836.84 46.212 836.84 Q39.8781 836.84 36.186 839.577 Q32.4621 842.314 32.4621 846.993 M27.4968 846.993 Q27.4968 839.354 32.4621 834.994 Q37.4273 830.633 46.212 830.633 Q54.9649 830.633 59.9619 834.994 Q64.9272 839.354 64.9272 846.993 Q64.9272 854.664 59.9619 859.024 Q54.9649 863.353 46.212 863.353 Q37.4273 863.353 32.4621 859.024 Q27.4968 854.664 27.4968 846.993 Z\" fill=\"#000000\" fill-rule=\"evenodd\" fill-opacity=\"1\" /><path clip-path=\"url(#clip370)\" d=\"M33.8307 800.269 Q33.2578 801.256 33.0032 802.433 Q32.7167 803.579 32.7167 804.979 Q32.7167 809.945 35.9632 812.618 Q39.1779 815.26 45.2253 815.26 L64.0042 815.26 L64.0042 821.148 L28.3562 821.148 L28.3562 815.26 L33.8944 815.26 Q30.6479 813.414 29.0883 810.454 Q27.4968 807.494 27.4968 803.261 Q27.4968 802.656 27.5923 801.924 Q27.656 801.192 27.8151 800.301 L33.8307 800.269 Z\" fill=\"#000000\" fill-rule=\"evenodd\" fill-opacity=\"1\" /><path clip-path=\"url(#clip370)\" d=\"M14.479 794.349 L14.479 788.46 L43.7294 788.46 L28.3562 770.987 L28.3562 763.507 L45.0344 782.413 L64.0042 762.711 L64.0042 770.35 L46.5939 788.46 L64.0042 788.46 L64.0042 794.349 L14.479 794.349 Z\" fill=\"#000000\" fill-rule=\"evenodd\" fill-opacity=\"1\" /><path clip-path=\"url(#clip370)\" d=\"M14.479 756.377 L14.479 750.521 L64.0042 750.521 L64.0042 756.377 L14.479 756.377 Z\" fill=\"#000000\" fill-rule=\"evenodd\" fill-opacity=\"1\" /><path clip-path=\"url(#clip370)\" d=\"M32.4621 724.453 Q32.4621 729.164 36.1542 731.901 Q39.8145 734.638 46.212 734.638 Q52.6095 734.638 56.3017 731.933 Q59.9619 729.196 59.9619 724.453 Q59.9619 719.774 56.2698 717.037 Q52.5777 714.3 46.212 714.3 Q39.8781 714.3 36.186 717.037 Q32.4621 719.774 32.4621 724.453 M27.4968 724.453 Q27.4968 716.814 32.4621 712.454 Q37.4273 708.093 46.212 708.093 Q54.9649 708.093 59.9619 712.454 Q64.9272 716.814 64.9272 724.453 Q64.9272 732.124 59.9619 736.484 Q54.9649 740.813 46.212 740.813 Q37.4273 740.813 32.4621 736.484 Q27.4968 732.124 27.4968 724.453 Z\" fill=\"#000000\" fill-rule=\"evenodd\" fill-opacity=\"1\" /><path clip-path=\"url(#clip370)\" d=\"M46.0847 682.185 Q46.0847 689.283 47.7079 692.02 Q49.3312 694.757 53.2461 694.757 Q56.3653 694.757 58.2114 692.72 Q60.0256 690.651 60.0256 687.118 Q60.0256 682.249 56.5881 679.32 Q53.1188 676.36 47.3897 676.36 L46.0847 676.36 L46.0847 682.185 M43.6657 670.504 L64.0042 670.504 L64.0042 676.36 L58.5933 676.36 Q61.8398 678.366 63.3994 681.357 Q64.9272 684.349 64.9272 688.678 Q64.9272 694.153 61.8716 697.399 Q58.7843 700.614 53.6281 700.614 Q47.6125 700.614 44.5569 696.603 Q41.5014 692.561 41.5014 684.572 L41.5014 676.36 L40.9285 676.36 Q36.8862 676.36 34.6901 679.034 Q32.4621 681.676 32.4621 686.482 Q32.4621 689.537 33.1941 692.434 Q33.9262 695.33 35.3903 698.004 L29.9795 698.004 Q28.7381 694.789 28.1334 691.765 Q27.4968 688.742 27.4968 685.877 Q27.4968 678.143 31.5072 674.323 Q35.5176 670.504 43.6657 670.504 Z\" fill=\"#000000\" fill-rule=\"evenodd\" fill-opacity=\"1\" /><path clip-path=\"url(#clip370)\" d=\"M33.7671 634.983 L14.479 634.983 L14.479 629.127 L64.0042 629.127 L64.0042 634.983 L58.657 634.983 Q61.8398 636.829 63.3994 639.662 Q64.9272 642.463 64.9272 646.41 Q64.9272 652.871 59.771 656.945 Q54.6147 660.987 46.212 660.987 Q37.8093 660.987 32.6531 656.945 Q27.4968 652.871 27.4968 646.41 Q27.4968 642.463 29.0564 639.662 Q30.5842 636.829 33.7671 634.983 M46.212 654.94 Q52.6732 654.94 56.3653 652.298 Q60.0256 649.624 60.0256 644.977 Q60.0256 640.33 56.3653 637.657 Q52.6732 634.983 46.212 634.983 Q39.7508 634.983 36.0905 637.657 Q32.3984 640.33 32.3984 644.977 Q32.3984 649.624 36.0905 652.298 Q39.7508 654.94 46.212 654.94 Z\" fill=\"#000000\" fill-rule=\"evenodd\" fill-opacity=\"1\" /><path clip-path=\"url(#clip370)\" d=\"M1119.97 12.096 L1128.24 12.096 L1140.96 63.2184 L1153.64 12.096 L1162.83 12.096 L1175.55 63.2184 L1188.23 12.096 L1196.53 12.096 L1181.34 72.576 L1171.05 72.576 L1158.29 20.0763 L1145.41 72.576 L1135.12 72.576 L1119.97 12.096 Z\" fill=\"#000000\" fill-rule=\"evenodd\" fill-opacity=\"1\" /><path clip-path=\"url(#clip370)\" d=\"M1219.79 32.4315 Q1213.79 32.4315 1210.31 37.1306 Q1206.82 41.7891 1206.82 49.9314 Q1206.82 58.0738 1210.27 62.7728 Q1213.75 67.4314 1219.79 67.4314 Q1225.74 67.4314 1229.23 62.7323 Q1232.71 58.0333 1232.71 49.9314 Q1232.71 41.8701 1229.23 37.1711 Q1225.74 32.4315 1219.79 32.4315 M1219.79 26.1121 Q1229.51 26.1121 1235.06 32.4315 Q1240.61 38.7509 1240.61 49.9314 Q1240.61 61.0714 1235.06 67.4314 Q1229.51 73.7508 1219.79 73.7508 Q1210.02 73.7508 1204.47 67.4314 Q1198.96 61.0714 1198.96 49.9314 Q1198.96 38.7509 1204.47 32.4315 Q1210.02 26.1121 1219.79 26.1121 Z\" fill=\"#000000\" fill-rule=\"evenodd\" fill-opacity=\"1\" /><path clip-path=\"url(#clip370)\" d=\"M1279.25 34.1734 Q1278 33.4443 1276.5 33.1202 Q1275.04 32.7556 1273.26 32.7556 Q1266.94 32.7556 1263.54 36.8875 Q1260.17 40.9789 1260.17 48.6757 L1260.17 72.576 L1252.68 72.576 L1252.68 27.2059 L1260.17 27.2059 L1260.17 34.2544 Q1262.52 30.1225 1266.29 28.1376 Q1270.06 26.1121 1275.45 26.1121 Q1276.22 26.1121 1277.15 26.2337 Q1278.08 26.3147 1279.21 26.5172 L1279.25 34.1734 Z\" fill=\"#000000\" fill-rule=\"evenodd\" fill-opacity=\"1\" /><path clip-path=\"url(#clip370)\" d=\"M1286.79 9.54393 L1294.28 9.54393 L1294.28 46.7717 L1316.52 27.2059 L1326.04 27.2059 L1301.98 48.4326 L1327.05 72.576 L1317.33 72.576 L1294.28 50.4176 L1294.28 72.576 L1286.79 72.576 L1286.79 9.54393 Z\" fill=\"#000000\" fill-rule=\"evenodd\" fill-opacity=\"1\" /><path clip-path=\"url(#clip370)\" d=\"M1335.12 9.54393 L1342.57 9.54393 L1342.57 72.576 L1335.12 72.576 L1335.12 9.54393 Z\" fill=\"#000000\" fill-rule=\"evenodd\" fill-opacity=\"1\" /><path clip-path=\"url(#clip370)\" d=\"M1375.75 32.4315 Q1369.75 32.4315 1366.27 37.1306 Q1362.78 41.7891 1362.78 49.9314 Q1362.78 58.0738 1366.23 62.7728 Q1369.71 67.4314 1375.75 67.4314 Q1381.7 67.4314 1385.18 62.7323 Q1388.67 58.0333 1388.67 49.9314 Q1388.67 41.8701 1385.18 37.1711 Q1381.7 32.4315 1375.75 32.4315 M1375.75 26.1121 Q1385.47 26.1121 1391.02 32.4315 Q1396.57 38.7509 1396.57 49.9314 Q1396.57 61.0714 1391.02 67.4314 Q1385.47 73.7508 1375.75 73.7508 Q1365.98 73.7508 1360.43 67.4314 Q1354.92 61.0714 1354.92 49.9314 Q1354.92 38.7509 1360.43 32.4315 Q1365.98 26.1121 1375.75 26.1121 Z\" fill=\"#000000\" fill-rule=\"evenodd\" fill-opacity=\"1\" /><path clip-path=\"url(#clip370)\" d=\"M1429.54 49.7694 Q1420.51 49.7694 1417.03 51.8354 Q1413.54 53.9013 1413.54 58.8839 Q1413.54 62.8538 1416.13 65.2034 Q1418.77 67.5124 1423.26 67.5124 Q1429.46 67.5124 1433.19 63.1374 Q1436.96 58.7219 1436.96 51.4303 L1436.96 49.7694 L1429.54 49.7694 M1444.41 46.6907 L1444.41 72.576 L1436.96 72.576 L1436.96 65.6895 Q1434.4 69.8214 1430.6 71.8063 Q1426.79 73.7508 1421.28 73.7508 Q1414.31 73.7508 1410.18 69.8619 Q1406.09 65.9325 1406.09 59.3701 Q1406.09 51.7138 1411.19 47.825 Q1416.34 43.9361 1426.5 43.9361 L1436.96 43.9361 L1436.96 43.2069 Q1436.96 38.0623 1433.55 35.2672 Q1430.19 32.4315 1424.07 32.4315 Q1420.18 32.4315 1416.5 33.3632 Q1412.81 34.295 1409.41 36.1584 L1409.41 29.2718 Q1413.5 27.692 1417.35 26.9223 Q1421.2 26.1121 1424.84 26.1121 Q1434.69 26.1121 1439.55 31.2163 Q1444.41 36.3204 1444.41 46.6907 Z\" fill=\"#000000\" fill-rule=\"evenodd\" fill-opacity=\"1\" /><path clip-path=\"url(#clip370)\" d=\"M1489.62 34.0924 L1489.62 9.54393 L1497.07 9.54393 L1497.07 72.576 L1489.62 72.576 L1489.62 65.7705 Q1487.27 69.8214 1483.66 71.8063 Q1480.1 73.7508 1475.07 73.7508 Q1466.85 73.7508 1461.67 67.1883 Q1456.52 60.6258 1456.52 49.9314 Q1456.52 39.2371 1461.67 32.6746 Q1466.85 26.1121 1475.07 26.1121 Q1480.1 26.1121 1483.66 28.0971 Q1487.27 30.0415 1489.62 34.0924 M1464.22 49.9314 Q1464.22 58.1548 1467.58 62.8538 Q1470.98 67.5124 1476.9 67.5124 Q1482.81 67.5124 1486.21 62.8538 Q1489.62 58.1548 1489.62 49.9314 Q1489.62 41.7081 1486.21 37.0496 Q1482.81 32.3505 1476.9 32.3505 Q1470.98 32.3505 1467.58 37.0496 Q1464.22 41.7081 1464.22 49.9314 Z\" fill=\"#000000\" fill-rule=\"evenodd\" fill-opacity=\"1\" /><path clip-path=\"url(#clip372)\" d=\"\n",
       "M379.157 826.033 L379.157 1386.4 L635.533 1386.4 L635.533 826.033 L379.157 826.033 L379.157 826.033  Z\n",
       "  \" fill=\"#009af9\" fill-rule=\"evenodd\" fill-opacity=\"1\"/>\n",
       "<polyline clip-path=\"url(#clip372)\" style=\"stroke:#000000; stroke-linecap:butt; stroke-linejoin:round; stroke-width:4; stroke-opacity:1; fill:none\" points=\"\n",
       "  379.157,826.033 379.157,1386.4 635.533,1386.4 635.533,826.033 379.157,826.033 \n",
       "  \"/>\n",
       "<path clip-path=\"url(#clip372)\" d=\"\n",
       "M699.627 382.182 L699.627 1386.4 L956.004 1386.4 L956.004 382.182 L699.627 382.182 L699.627 382.182  Z\n",
       "  \" fill=\"#009af9\" fill-rule=\"evenodd\" fill-opacity=\"1\"/>\n",
       "<polyline clip-path=\"url(#clip372)\" style=\"stroke:#000000; stroke-linecap:butt; stroke-linejoin:round; stroke-width:4; stroke-opacity:1; fill:none\" points=\"\n",
       "  699.627,382.182 699.627,1386.4 956.004,1386.4 956.004,382.182 699.627,382.182 \n",
       "  \"/>\n",
       "<path clip-path=\"url(#clip372)\" d=\"\n",
       "M1020.1 160.256 L1020.1 1386.4 L1276.47 1386.4 L1276.47 160.256 L1020.1 160.256 L1020.1 160.256  Z\n",
       "  \" fill=\"#009af9\" fill-rule=\"evenodd\" fill-opacity=\"1\"/>\n",
       "<polyline clip-path=\"url(#clip372)\" style=\"stroke:#000000; stroke-linecap:butt; stroke-linejoin:round; stroke-width:4; stroke-opacity:1; fill:none\" points=\"\n",
       "  1020.1,160.256 1020.1,1386.4 1276.47,1386.4 1276.47,160.256 1020.1,160.256 \n",
       "  \"/>\n",
       "<path clip-path=\"url(#clip372)\" d=\"\n",
       "M1340.57 1047.96 L1340.57 1386.4 L1596.95 1386.4 L1596.95 1047.96 L1340.57 1047.96 L1340.57 1047.96  Z\n",
       "  \" fill=\"#009af9\" fill-rule=\"evenodd\" fill-opacity=\"1\"/>\n",
       "<polyline clip-path=\"url(#clip372)\" style=\"stroke:#000000; stroke-linecap:butt; stroke-linejoin:round; stroke-width:4; stroke-opacity:1; fill:none\" points=\"\n",
       "  1340.57,1047.96 1340.57,1386.4 1596.95,1386.4 1596.95,1047.96 1340.57,1047.96 \n",
       "  \"/>\n",
       "<path clip-path=\"url(#clip372)\" d=\"\n",
       "M1661.04 604.108 L1661.04 1386.4 L1917.42 1386.4 L1917.42 604.108 L1661.04 604.108 L1661.04 604.108  Z\n",
       "  \" fill=\"#009af9\" fill-rule=\"evenodd\" fill-opacity=\"1\"/>\n",
       "<polyline clip-path=\"url(#clip372)\" style=\"stroke:#000000; stroke-linecap:butt; stroke-linejoin:round; stroke-width:4; stroke-opacity:1; fill:none\" points=\"\n",
       "  1661.04,604.108 1661.04,1386.4 1917.42,1386.4 1917.42,604.108 1661.04,604.108 \n",
       "  \"/>\n",
       "<path clip-path=\"url(#clip372)\" d=\"\n",
       "M1981.51 1269.88 L1981.51 1386.4 L2237.89 1386.4 L2237.89 1269.88 L1981.51 1269.88 L1981.51 1269.88  Z\n",
       "  \" fill=\"#009af9\" fill-rule=\"evenodd\" fill-opacity=\"1\"/>\n",
       "<polyline clip-path=\"url(#clip372)\" style=\"stroke:#000000; stroke-linecap:butt; stroke-linejoin:round; stroke-width:4; stroke-opacity:1; fill:none\" points=\"\n",
       "  1981.51,1269.88 1981.51,1386.4 2237.89,1386.4 2237.89,1269.88 1981.51,1269.88 \n",
       "  \"/>\n",
       "<circle clip-path=\"url(#clip372)\" style=\"fill:#009af9; stroke:none; fill-opacity:0\" cx=\"507.345\" cy=\"826.033\" r=\"2\"/>\n",
       "<circle clip-path=\"url(#clip372)\" style=\"fill:#009af9; stroke:none; fill-opacity:0\" cx=\"827.816\" cy=\"382.182\" r=\"2\"/>\n",
       "<circle clip-path=\"url(#clip372)\" style=\"fill:#009af9; stroke:none; fill-opacity:0\" cx=\"1148.29\" cy=\"160.256\" r=\"2\"/>\n",
       "<circle clip-path=\"url(#clip372)\" style=\"fill:#009af9; stroke:none; fill-opacity:0\" cx=\"1468.76\" cy=\"1047.96\" r=\"2\"/>\n",
       "<circle clip-path=\"url(#clip372)\" style=\"fill:#009af9; stroke:none; fill-opacity:0\" cx=\"1789.23\" cy=\"604.108\" r=\"2\"/>\n",
       "<circle clip-path=\"url(#clip372)\" style=\"fill:#009af9; stroke:none; fill-opacity:0\" cx=\"2109.7\" cy=\"1269.88\" r=\"2\"/>\n",
       "</svg>\n"
      ]
     },
     "metadata": {},
     "output_type": "display_data"
    }
   ],
   "source": [
    "b1 = bar(niter, xlab=\"threadid\", ylab=\"# iterations\", title=\"Number of iterations\", legend=false)\n",
    "b2 = bar(load, xlab=\"threadid\", ylab=\"workload\", title=\"Workload\", legend=false)\n",
    "\n",
    "display(b1)\n",
    "display(b2)"
   ]
  },
  {
   "cell_type": "markdown",
   "metadata": {},
   "source": [
    "(There might be a scheduling option for `@threads` that implements load-balancing in the future.)"
   ]
  },
  {
   "cell_type": "markdown",
   "metadata": {},
   "source": [
    "## Multithreading: Things to be aware of"
   ]
  },
  {
   "cell_type": "markdown",
   "metadata": {},
   "source": [
    "### Race conditions and thread safety"
   ]
  },
  {
   "cell_type": "code",
   "execution_count": 21,
   "metadata": {},
   "outputs": [
    {
     "data": {
      "text/plain": [
       "sum_serial (generic function with 1 method)"
      ]
     },
     "execution_count": 21,
     "metadata": {},
     "output_type": "execute_result"
    }
   ],
   "source": [
    "function sum_serial(x)\n",
    "    s = zero(eltype(x))\n",
    "    for i in eachindex(x)\n",
    "        @inbounds s += x[i]\n",
    "    end\n",
    "    return s\n",
    "end"
   ]
  },
  {
   "cell_type": "code",
   "execution_count": 347,
   "metadata": {},
   "outputs": [
    {
     "data": {
      "text/plain": [
       "sum_threads_naive (generic function with 1 method)"
      ]
     },
     "execution_count": 347,
     "metadata": {},
     "output_type": "execute_result"
    }
   ],
   "source": [
    "function sum_threads_naive(x)\n",
    "    s = zero(eltype(x))\n",
    "    @threads for i in eachindex(x)\n",
    "        @inbounds s += x[i]\n",
    "    end\n",
    "    return s\n",
    "end"
   ]
  },
  {
   "cell_type": "code",
   "execution_count": 7,
   "metadata": {},
   "outputs": [],
   "source": [
    "numbers = rand(nthreads()*10_000);"
   ]
  },
  {
   "cell_type": "code",
   "execution_count": 463,
   "metadata": {},
   "outputs": [
    {
     "name": "stdout",
     "output_type": "stream",
     "text": [
      "sum(numbers) = 29950.9820756985\n",
      "sum_serial(numbers) = 29950.982075698328\n",
      "sum_threads_naive(numbers) = 5119.056466342457\n"
     ]
    }
   ],
   "source": [
    "@show sum(numbers);\n",
    "@show sum_serial(numbers);\n",
    "@show sum_threads_naive(numbers);"
   ]
  },
  {
   "cell_type": "markdown",
   "metadata": {},
   "source": [
    "**Wrong** result! Even worse, it's **non-deterministic** and different every time! It's also slow..."
   ]
  },
  {
   "cell_type": "code",
   "execution_count": 464,
   "metadata": {},
   "outputs": [
    {
     "name": "stdout",
     "output_type": "stream",
     "text": [
      "  92.585 μs (0 allocations: 0 bytes)\n",
      "  1.355 ms (120038 allocations: 1.83 MiB)\n"
     ]
    }
   ],
   "source": [
    "@btime sum_serial($numbers);\n",
    "@btime sum_threads_naive($numbers);"
   ]
  },
  {
   "cell_type": "markdown",
   "metadata": {},
   "source": [
    "Reason: There is a [race condition](https://en.wikipedia.org/wiki/Race_condition).\n",
    "\n",
    "Note that race conditions aren't specific to reductions. More generally, they can appear when multiple threads are modifying a shared \"global\" state simultaneously.\n",
    "\n",
    "Not all of Julia and its packages in the ecosystem are thread-safe! In general, it is safer to assume that they're not unless proven otherwise."
   ]
  },
  {
   "cell_type": "markdown",
   "metadata": {},
   "source": [
    "#### Fix 1: Divide the work"
   ]
  },
  {
   "cell_type": "code",
   "execution_count": 465,
   "metadata": {},
   "outputs": [
    {
     "data": {
      "text/plain": [
       "sum_threads_subsums (generic function with 1 method)"
      ]
     },
     "execution_count": 465,
     "metadata": {},
     "output_type": "execute_result"
    }
   ],
   "source": [
    "function sum_threads_subsums(x)\n",
    "    blocksize = length(x) ÷ nthreads()\n",
    "    @assert isinteger(blocksize)\n",
    "    idcs = collect(Iterators.partition(1:length(x), blocksize))\n",
    "    \n",
    "    subsums = zeros(eltype(x), nthreads())\n",
    "    @threads for tid in 1:nthreads()\n",
    "        for i in idcs[tid]\n",
    "            @inbounds subsums[tid] += x[i]\n",
    "        end\n",
    "    end\n",
    "    return sum(subsums)\n",
    "end"
   ]
  },
  {
   "cell_type": "code",
   "execution_count": 466,
   "metadata": {},
   "outputs": [
    {
     "name": "stdout",
     "output_type": "stream",
     "text": [
      "sum(numbers) = 29950.9820756985\n",
      "sum_serial(numbers) = 29950.982075698328\n",
      "sum_threads_subsums(numbers) = 29950.982075698572\n"
     ]
    }
   ],
   "source": [
    "@show sum(numbers);\n",
    "@show sum_serial(numbers);\n",
    "@show sum_threads_subsums(numbers);"
   ]
  },
  {
   "cell_type": "code",
   "execution_count": 467,
   "metadata": {},
   "outputs": [
    {
     "name": "stdout",
     "output_type": "stream",
     "text": [
      "  33.499 μs (39 allocations: 3.36 KiB)\n"
     ]
    }
   ],
   "source": [
    "@btime sum_threads_subsums($numbers);"
   ]
  },
  {
   "cell_type": "markdown",
   "metadata": {},
   "source": [
    "Speedup and correct result. But not ideal:\n",
    "\n",
    "* cumbersome to do this manually\n",
    "* can have more subtle performance issues like [false sharing](https://en.wikipedia.org/wiki/False_sharing#:~:text=In%20computer%20science%2C%20false%20sharing,managed%20by%20the%20caching%20mechanism.)"
   ]
  },
  {
   "cell_type": "markdown",
   "metadata": {},
   "source": [
    "#### Fix 2: Atomics\n",
    "\n",
    "See [Atomic Operations](https://docs.julialang.org/en/v1/manual/multi-threading/#Atomic-Operations) in the Julia doc for more information. But in generaly one shouldn't avoid using them as much as possible since they actually limit the parallelism."
   ]
  },
  {
   "cell_type": "markdown",
   "metadata": {},
   "source": [
    "### Garbage collection\n",
    "\n",
    "[As of now](https://www.youtube.com/watch?v=Ks0p6PQyIPs), **Julia's GC is not parallel** and doesn't work nicely with multithreading.\n",
    "\n",
    "If it gets triggered, it essentially \"stops the world\" (all threads) for clearing up memory.\n",
    "\n",
    "Hence, when using multithreading, it is even more important to **avoid heap allocations!**\n",
    "\n",
    "(If you can't avoid allocations, consider using multiprocessing instead.)"
   ]
  },
  {
   "cell_type": "markdown",
   "metadata": {},
   "source": [
    "## High-level tools for parallel computing"
   ]
  },
  {
   "cell_type": "markdown",
   "metadata": {},
   "source": [
    "### [ThreadsX.jl](https://github.com/tkf/ThreadsX.jl)\n",
    "\n",
    "*Parallelized Base functions*"
   ]
  },
  {
   "cell_type": "code",
   "execution_count": 8,
   "metadata": {},
   "outputs": [],
   "source": [
    "using ThreadsX"
   ]
  },
  {
   "cell_type": "code",
   "execution_count": 9,
   "metadata": {},
   "outputs": [
    {
     "data": {
      "text/plain": [
       "29927.1351724137"
      ]
     },
     "execution_count": 9,
     "metadata": {},
     "output_type": "execute_result"
    }
   ],
   "source": [
    "sum(numbers)"
   ]
  },
  {
   "cell_type": "code",
   "execution_count": 10,
   "metadata": {},
   "outputs": [
    {
     "data": {
      "text/plain": [
       "29927.1351724137"
      ]
     },
     "execution_count": 10,
     "metadata": {},
     "output_type": "execute_result"
    }
   ],
   "source": [
    "ThreadsX.sum(numbers)"
   ]
  },
  {
   "cell_type": "code",
   "execution_count": 13,
   "metadata": {},
   "outputs": [
    {
     "name": "stdout",
     "output_type": "stream",
     "text": [
      "  38.107 μs (541 allocations: 34.61 KiB)\n"
     ]
    }
   ],
   "source": [
    "@btime ThreadsX.sum($numbers);"
   ]
  },
  {
   "cell_type": "markdown",
   "metadata": {},
   "source": [
    "### [FLoops.jl](https://github.com/JuliaFolds/FLoops.jl)\n",
    "\n",
    "*Fast sequential, threaded, and distributed for-loops for Julia*"
   ]
  },
  {
   "cell_type": "code",
   "execution_count": 14,
   "metadata": {},
   "outputs": [],
   "source": [
    "using FLoops"
   ]
  },
  {
   "cell_type": "code",
   "execution_count": 15,
   "metadata": {},
   "outputs": [
    {
     "data": {
      "text/plain": [
       "sum_floops (generic function with 1 method)"
      ]
     },
     "execution_count": 15,
     "metadata": {},
     "output_type": "execute_result"
    }
   ],
   "source": [
    "function sum_floops(x)\n",
    "    @floop for xi in x\n",
    "        @reduce(s = zero(eltype(x)) + xi)\n",
    "    end\n",
    "    return s\n",
    "end"
   ]
  },
  {
   "cell_type": "code",
   "execution_count": 16,
   "metadata": {},
   "outputs": [
    {
     "name": "stdout",
     "output_type": "stream",
     "text": [
      "  33.051 μs (67 allocations: 3.91 KiB)\n"
     ]
    }
   ],
   "source": [
    "@btime sum_floops($numbers);"
   ]
  },
  {
   "cell_type": "code",
   "execution_count": 17,
   "metadata": {},
   "outputs": [
    {
     "data": {
      "text/plain": [
       "true"
      ]
     },
     "execution_count": 17,
     "metadata": {},
     "output_type": "execute_result"
    }
   ],
   "source": [
    "numbers = rand(nthreads()*10_000);\n",
    "\n",
    "sum_floops(numbers) ≈ sum(numbers)"
   ]
  },
  {
   "cell_type": "code",
   "execution_count": 22,
   "metadata": {},
   "outputs": [
    {
     "name": "stdout",
     "output_type": "stream",
     "text": [
      "  92.581 μs (0 allocations: 0 bytes)\n",
      "  32.646 μs (68 allocations: 3.94 KiB)\n"
     ]
    }
   ],
   "source": [
    "@btime sum_serial($numbers);\n",
    "@btime sum_floops($numbers);"
   ]
  },
  {
   "cell_type": "markdown",
   "metadata": {},
   "source": [
    "`@floop` supports different *executors* that allow for easy switching between serial and threaded execution"
   ]
  },
  {
   "cell_type": "code",
   "execution_count": 23,
   "metadata": {},
   "outputs": [
    {
     "data": {
      "text/plain": [
       "sum_floops (generic function with 2 methods)"
      ]
     },
     "execution_count": 23,
     "metadata": {},
     "output_type": "execute_result"
    }
   ],
   "source": [
    "function sum_floops(x, executor)\n",
    "    @floop executor for xi in x\n",
    "        @reduce(s += xi)\n",
    "    end\n",
    "    return s\n",
    "end"
   ]
  },
  {
   "cell_type": "code",
   "execution_count": 24,
   "metadata": {},
   "outputs": [
    {
     "name": "stdout",
     "output_type": "stream",
     "text": [
      "  92.580 μs (0 allocations: 0 bytes)\n",
      "  32.144 μs (61 allocations: 3.83 KiB)\n"
     ]
    }
   ],
   "source": [
    "@btime sum_floops($numbers, $(SequentialEx()));\n",
    "@btime sum_floops($numbers, $(ThreadedEx()));"
   ]
  },
  {
   "cell_type": "markdown",
   "metadata": {},
   "source": [
    "There are many more [executors](https://juliafolds.github.io/FLoops.jl/stable/tutorials/parallel/#tutorials-executor), like `DistributedEx` or `CUDAEx`. See, e.g., [FoldsThreads.jl](https://github.com/JuliaFolds/FoldsThreads.jl) and [FoldsCUDA.jl](https://github.com/JuliaFolds/FoldsCUDA.jl)."
   ]
  },
  {
   "cell_type": "markdown",
   "metadata": {},
   "source": [
    "Under the hood, FLoops is built on top of [Transducers.jl](https://juliafolds.github.io/Transducers.jl/stable/tutorials/tutorial_parallel/) (i.e. it translates for-loop semantics into folds)."
   ]
  },
  {
   "cell_type": "markdown",
   "metadata": {},
   "source": [
    "### [Tullio.jl](https://github.com/mcabbott/Tullio.jl)\n",
    "\n",
    "*Tullio is a very flexible einsum macro* ([Einstein notation](https://en.wikipedia.org/wiki/Einstein_notation))"
   ]
  },
  {
   "cell_type": "code",
   "execution_count": 399,
   "metadata": {},
   "outputs": [],
   "source": [
    "using Tullio"
   ]
  },
  {
   "cell_type": "code",
   "execution_count": 478,
   "metadata": {},
   "outputs": [
    {
     "data": {
      "text/plain": [
       "true"
      ]
     },
     "execution_count": 478,
     "metadata": {},
     "output_type": "execute_result"
    }
   ],
   "source": [
    "A = rand(10,10)\n",
    "B = rand(10,10)\n",
    "\n",
    "C = @tullio C[i,j] := A[i,k] * B[k,j] # matrix multiplication\n",
    "\n",
    "C ≈ A * B"
   ]
  },
  {
   "cell_type": "code",
   "execution_count": 479,
   "metadata": {},
   "outputs": [
    {
     "data": {
      "text/plain": [
       "sum_tullio (generic function with 1 method)"
      ]
     },
     "execution_count": 479,
     "metadata": {},
     "output_type": "execute_result"
    }
   ],
   "source": [
    "sum_tullio(xs) = @tullio S := xs[i]"
   ]
  },
  {
   "cell_type": "code",
   "execution_count": 480,
   "metadata": {},
   "outputs": [
    {
     "name": "stdout",
     "output_type": "stream",
     "text": [
      "  12.190 μs (0 allocations: 0 bytes)\n"
     ]
    }
   ],
   "source": [
    "@btime sum_tullio($numbers);"
   ]
  },
  {
   "cell_type": "markdown",
   "metadata": {},
   "source": [
    "(Uses `fastmath` and other tricks to be faster here.)"
   ]
  },
  {
   "cell_type": "markdown",
   "metadata": {},
   "source": [
    "### [LoopVectorization.jl](https://github.com/JuliaSIMD/LoopVectorization.jl)\n",
    "\n",
    "*Macro(s) for vectorizing loops.*"
   ]
  },
  {
   "cell_type": "code",
   "execution_count": 30,
   "metadata": {},
   "outputs": [],
   "source": [
    "using LoopVectorization"
   ]
  },
  {
   "cell_type": "code",
   "execution_count": 31,
   "metadata": {},
   "outputs": [
    {
     "data": {
      "text/plain": [
       "sum_turbo (generic function with 1 method)"
      ]
     },
     "execution_count": 31,
     "metadata": {},
     "output_type": "execute_result"
    }
   ],
   "source": [
    "function sum_turbo(x)\n",
    "    s = zero(eltype(x))\n",
    "    @tturbo for i in eachindex(x)\n",
    "        @inbounds s += x[i]\n",
    "    end\n",
    "    return s\n",
    "end"
   ]
  },
  {
   "cell_type": "code",
   "execution_count": 34,
   "metadata": {},
   "outputs": [
    {
     "name": "stdout",
     "output_type": "stream",
     "text": [
      "  4.817 μs (2 allocations: 48 bytes)\n"
     ]
    }
   ],
   "source": [
    "@btime sum_turbo($numbers);"
   ]
  },
  {
   "cell_type": "markdown",
   "metadata": {},
   "source": [
    "(Uses all kinds of SIMD tricks to be faster than the others.)"
   ]
  },
  {
   "cell_type": "markdown",
   "metadata": {},
   "source": [
    "## System topology and thread affinity"
   ]
  },
  {
   "cell_type": "markdown",
   "metadata": {},
   "source": [
    "### Hawk compute node"
   ]
  },
  {
   "cell_type": "markdown",
   "metadata": {},
   "source": [
    "<img src=\"../imgs/lstopo_hawk.svg\" width=100%>"
   ]
  },
  {
   "cell_type": "markdown",
   "metadata": {},
   "source": [
    "**Not pinning threads (or pinning them badly) can degrade performance massively!**"
   ]
  },
  {
   "cell_type": "markdown",
   "metadata": {},
   "source": [
    "### Pinning Julia threads to CPU threads\n",
    "\n",
    "What about external tools like `numactl`, `taskset`, etc.? Doesn't work reliably because it [can't distinguish](https://discourse.julialang.org/t/thread-affinitization-pinning-julia-threads-to-cores/58069/5) between Julia threads and other internal threads.\n",
    "\n",
    "**Options:**\n",
    "\n",
    "* Environment variable: `JULIA_EXCLUSIVE=1` (compact pinning)\n",
    "* More control and convenient visualization: [ThreadPinning.jl](https://github.com/carstenbauer/ThreadPinning.jl)\n",
    "  * `compact`: pin to cpu thread 0, 1, 2, 3, ... one after another\n",
    "  * `spread`: alternate between sockets so, e.g., 0, 64, 1, 65, 2, 66, .... (if a socket has 64 cores)\n",
    "  * `numa`: same as `spread` but alternate between NUMA domains so, e.g., 0, 16, 32, 48, 64, .... (if a NUMA domain has 16 cores)\n",
    "  * **Caveat:** currently one works on Linux.\n",
    "\n",
    "<img src=\"../imgs/threadinfo.png\" width=1000px>"
   ]
  }
 ],
 "metadata": {
  "@webio": {
   "lastCommId": null,
   "lastKernelId": null
  },
  "kernelspec": {
   "display_name": "Julia 1.8.0",
   "language": "julia",
   "name": "julia-1.8"
  },
  "language_info": {
   "file_extension": ".jl",
   "mimetype": "application/julia",
   "name": "julia",
   "version": "1.8.0"
  }
 },
 "nbformat": 4,
 "nbformat_minor": 4
}
