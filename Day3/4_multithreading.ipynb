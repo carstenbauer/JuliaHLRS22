{
 "cells": [
  {
   "cell_type": "markdown",
   "metadata": {},
   "source": [
    "# Multithreading"
   ]
  },
  {
   "cell_type": "markdown",
   "metadata": {},
   "source": [
    "## What are threads?\n",
    "Threads are execution units within a process that can run simultaneously.\n",
    "\n",
    "<img src=\"../imgs/processes_threads.png\" width=400px>\n",
    "\n",
    "While processes are entirely separate, threads run in a **shared memory** space."
   ]
  },
  {
   "cell_type": "markdown",
   "metadata": {},
   "source": [
    "## Starting Julia with multiple threads"
   ]
  },
  {
   "cell_type": "markdown",
   "metadata": {},
   "source": [
    "By default, Julia starts with a single *user thread*. We must tell it explicitly to start multiple user threads. There are two ways to do this:\n",
    "\n",
    "* Environment variable: `JULIA_NUM_THREADS=4`\n",
    "* Command line argument: `julia -t 4` or, equivalently, `julia --threads 4`\n",
    "\n",
    "**Jupyter lab:**\n",
    "\n",
    "The simplest way is to globally set the environment variable `JULIA_NUM_THREADS` (e.g. in the `.bashrc`). But one can also create a specific Jupyter kernel for multithreaded Julia:\n",
    "\n",
    "```julia\n",
    "using IJulia\n",
    "installkernel(\"Julia (4 threads)\", env=Dict(\"JULIA_NUM_THREADS\"=>\"4\"))\n",
    "```"
   ]
  },
  {
   "cell_type": "markdown",
   "metadata": {},
   "source": [
    "We can readily check how many threads we are running:"
   ]
  },
  {
   "cell_type": "code",
   "execution_count": 2,
   "metadata": {},
   "outputs": [
    {
     "data": {
      "text/plain": [
       "6"
      ]
     },
     "execution_count": 2,
     "metadata": {},
     "output_type": "execute_result"
    }
   ],
   "source": [
    "Threads.nthreads()"
   ]
  },
  {
   "cell_type": "markdown",
   "metadata": {},
   "source": [
    "### User threads vs default threads\n",
    "\n",
    "Technically, the Julia process is also spawning multiple threads already in \"single-threaded\" mode, like\n",
    "* a thread for unix signal listening\n",
    "* multiple OpenBLAS threads for BLAS/LAPACK operations\n",
    "\n",
    "For this reason, we call the threads specified via `--threads` or the environment variable *user threads* or simply *Julia threads*."
   ]
  },
  {
   "cell_type": "markdown",
   "metadata": {},
   "source": [
    "## Task-based multithreading\n",
    "\n",
    "Conceptually, Julia implements **task-based** multithreading. In this paradigm, a task - e.g. a computational piece of a code - is marked for parallel execution on **any** of the available Julia threads. Julias **dynamic scheduler** will automatically put the task on one of the threads and trigger the execution of the task on said thread.\n",
    "\n",
    "Ideally, **a user should think about tasks and not threads**.\n",
    "\n",
    "**Advantages:**\n",
    "* high-level and convenient\n",
    "* **composability / nestability** (Multithreaded code can call multithreaded code can call multithreaded code ....)\n",
    "\n",
    "**Disadvantages:**\n",
    "* **scheduling overhead**\n",
    "* can get in the way when performance engineering\n",
    "  * scheduler has limited information (e.g. about the system topology)\n",
    "  * low-level profiling (e.g. with LIKWID) currently requires a known task -> thread -> cpu core mapping.\n",
    "\n",
    "(Blog post: [Announcing composable multi-threaded parallelism in Julia](https://julialang.org/blog/2019/07/multithreading/))"
   ]
  },
  {
   "cell_type": "markdown",
   "metadata": {},
   "source": [
    "### Spawning tasks on threads: `Threads.@spawn`\n",
    "`Threads.@spawn` spawns a task on a Julia thread. Specifically, it creates (and immediately returns) a `Task` and schedules it for execution on an available Julia thread.\n",
    "\n",
    "Note the conceptual similarity between `Threads.@spawn` (task -> thread) and `Distributed.@spawn` (task -> process) and also `@async`."
   ]
  },
  {
   "cell_type": "markdown",
   "metadata": {},
   "source": [
    "To avoid having to prefix `Threads.` to `@spawn` (and other threading-related functions) let's load everything from `Base.Threads` into global scope."
   ]
  },
  {
   "cell_type": "code",
   "execution_count": 3,
   "metadata": {},
   "outputs": [],
   "source": [
    "using Base.Threads"
   ]
  },
  {
   "cell_type": "code",
   "execution_count": 4,
   "metadata": {},
   "outputs": [
    {
     "data": {
      "text/plain": [
       "Task (runnable) @0x0000000150c6cfd0"
      ]
     },
     "execution_count": 4,
     "metadata": {},
     "output_type": "execute_result"
    },
    {
     "name": "stdout",
     "output_type": "stream",
     "text": [
      "test\n"
     ]
    }
   ],
   "source": [
    "@spawn println(\"test\")"
   ]
  },
  {
   "cell_type": "markdown",
   "metadata": {},
   "source": [
    "While `Threads.@spawn` returns the task right away - it is **non-blocking** - the result might only be fetchable after some time."
   ]
  },
  {
   "cell_type": "code",
   "execution_count": 5,
   "metadata": {},
   "outputs": [
    {
     "name": "stdout",
     "output_type": "stream",
     "text": [
      "  2.951333 seconds (1.97 k allocations: 92.227 KiB, 0.21% compilation time)\n"
     ]
    },
    {
     "data": {
      "text/plain": [
       "\"result\""
      ]
     },
     "execution_count": 5,
     "metadata": {},
     "output_type": "execute_result"
    }
   ],
   "source": [
    "t = @spawn begin\n",
    "    sleep(3);\n",
    "    \"result\"\n",
    "end\n",
    "@time fetch(t)"
   ]
  },
  {
   "cell_type": "markdown",
   "metadata": {},
   "source": [
    "Note that we can use (some of) the control flow tools that we've already covered, like `@sync`."
   ]
  },
  {
   "cell_type": "code",
   "execution_count": 6,
   "metadata": {},
   "outputs": [
    {
     "name": "stdout",
     "output_type": "stream",
     "text": [
      "  0.000005 seconds\n"
     ]
    },
    {
     "data": {
      "text/plain": [
       "\"result\""
      ]
     },
     "execution_count": 6,
     "metadata": {},
     "output_type": "execute_result"
    }
   ],
   "source": [
    "@sync t = @spawn begin\n",
    "    sleep(3);\n",
    "    \"result\"\n",
    "end\n",
    "@time fetch(t)"
   ]
  },
  {
   "cell_type": "code",
   "execution_count": 7,
   "metadata": {},
   "outputs": [
    {
     "name": "stdout",
     "output_type": "stream",
     "text": [
      "Hi, I'm 1\n",
      "Hi, I'm 4\n",
      "Hi, I'm 2\n",
      "Hi, I'm 4\n",
      "Hi, I'm 4\n",
      "Hi, I'm 4\n",
      "Hi, I'm 3\n",
      "Hi, I'm 5\n",
      "Hi, I'm 4\n",
      "Hi, I'm 6\n",
      "Hi, I'm 4\n",
      "Hi, I'm 4\n"
     ]
    }
   ],
   "source": [
    "for i in 1:2*nthreads()\n",
    "    @spawn println(\"Hi, I'm \", threadid())\n",
    "end"
   ]
  },
  {
   "cell_type": "markdown",
   "metadata": {},
   "source": [
    "#### Example: Recursive Fibonacci series"
   ]
  },
  {
   "cell_type": "markdown",
   "metadata": {},
   "source": [
    "$$ F(n) = F(n-1) + F(n-2), \\qquad F(1) = F(2) = 1$$"
   ]
  },
  {
   "cell_type": "markdown",
   "metadata": {},
   "source": [
    "We can nest `@spawn` calls freely!"
   ]
  },
  {
   "cell_type": "code",
   "execution_count": 8,
   "metadata": {},
   "outputs": [
    {
     "data": {
      "text/plain": [
       "fib (generic function with 1 method)"
      ]
     },
     "execution_count": 8,
     "metadata": {},
     "output_type": "execute_result"
    }
   ],
   "source": [
    "function fib(n)\n",
    "    n < 2 && return n\n",
    "    t = @spawn fib(n-2)\n",
    "    return fib(n-1) + fetch(t)\n",
    "end"
   ]
  },
  {
   "cell_type": "code",
   "execution_count": 9,
   "metadata": {},
   "outputs": [
    {
     "data": {
      "text/plain": [
       "10-element Vector{Int64}:\n",
       "  1\n",
       "  1\n",
       "  2\n",
       "  3\n",
       "  5\n",
       "  8\n",
       " 13\n",
       " 21\n",
       " 34\n",
       " 55"
      ]
     },
     "execution_count": 9,
     "metadata": {},
     "output_type": "execute_result"
    }
   ],
   "source": [
    "fib.(1:10)"
   ]
  },
  {
   "cell_type": "markdown",
   "metadata": {},
   "source": [
    "(Note: Algorithmically, this is a highly inefficient implementation of the Fibonacci series, of course!)"
   ]
  },
  {
   "cell_type": "markdown",
   "metadata": {},
   "source": [
    "#### Example: `tmap` (like `pmap`)"
   ]
  },
  {
   "cell_type": "code",
   "execution_count": 10,
   "metadata": {},
   "outputs": [
    {
     "data": {
      "text/plain": [
       "tmap (generic function with 1 method)"
      ]
     },
     "execution_count": 10,
     "metadata": {},
     "output_type": "execute_result"
    }
   ],
   "source": [
    "tmap(fn, itr) = map(fetch, map(i -> Threads.@spawn(fn(i)), itr))"
   ]
  },
  {
   "cell_type": "code",
   "execution_count": 11,
   "metadata": {},
   "outputs": [],
   "source": [
    "using LinearAlgebra"
   ]
  },
  {
   "cell_type": "code",
   "execution_count": 12,
   "metadata": {},
   "outputs": [],
   "source": [
    "M = [rand(200,200) for i in 1:10];"
   ]
  },
  {
   "cell_type": "code",
   "execution_count": 13,
   "metadata": {},
   "outputs": [
    {
     "data": {
      "text/plain": [
       "10-element Vector{Vector{Float64}}:\n",
       " [100.14039605406613, 8.01779784542577, 7.9251828091154355, 7.6903126618677495, 7.5879073138934965, 7.5241562264156014, 7.444476597047066, 7.349122930995607, 7.335725465454974, 7.245160653450601  …  0.28455573075602103, 0.2585214320222173, 0.2523505619450266, 0.20016854484285193, 0.16531618695992198, 0.15879747740928318, 0.10790187120969308, 0.06001256949329932, 0.052563566757974724, 0.02047238784880969]\n",
       " [100.09390236691776, 8.067107836936176, 7.913309880324111, 7.789066566124985, 7.62458767345731, 7.508265490423039, 7.423988345172992, 7.378518557193864, 7.314983420909926, 7.227647832746291  …  0.35505219902770113, 0.2761303620635173, 0.25168283750529047, 0.2170527680028459, 0.16454696162855134, 0.12891798345594108, 0.11351541644641767, 0.049823820680957635, 0.031931805762486574, 0.015377488039922735]\n",
       " [99.99507172473791, 8.030697604123405, 7.880279751164974, 7.826872154706594, 7.721965086568319, 7.462980193557766, 7.431740794669521, 7.4281566224185, 7.277809780122417, 7.2081474522702536  …  0.2546958410409287, 0.23873425311674512, 0.23551767771738066, 0.21184653601736028, 0.1661056998914574, 0.12123911544219552, 0.11100194117844234, 0.07955788422664123, 0.05793641364369395, 0.018441087517835922]\n",
       " [100.11154630398059, 8.034005301357855, 7.8957722161652075, 7.806612326546913, 7.726476890613213, 7.626474347459982, 7.455139024216115, 7.440105346945684, 7.345142624019661, 7.191168678929379  …  0.2903811458990366, 0.2623007916739959, 0.23380917288360556, 0.21515171195249408, 0.1850550354294073, 0.13423965603876487, 0.10736223189267698, 0.06859990764192203, 0.05053195271748005, 0.004192158713722616]\n",
       " [100.04754769022786, 8.157969052114543, 7.86806083574686, 7.733884543875457, 7.649867855605997, 7.609459403669935, 7.499443278374719, 7.448039669895022, 7.344042246321466, 7.247482671786348  …  0.2525641140868249, 0.23559692159992127, 0.21599411057594003, 0.17048840480862107, 0.161238616468229, 0.14333172066186198, 0.1091670094584716, 0.0581189190603586, 0.03354094316673686, 0.010755759908863984]\n",
       " [100.3686804315699, 8.131800030888126, 7.985139316271731, 7.6588114267902805, 7.654235634741713, 7.607932846946257, 7.373815676613533, 7.325885258049054, 7.302066556076385, 7.276754296317504  …  0.3008258529075466, 0.2833009906374008, 0.24896483667506697, 0.22754882630987125, 0.15346524804795214, 0.14222230743635222, 0.13091878017453717, 0.06919979788193939, 0.03898314434807695, 0.009590882828833538]\n",
       " [100.51487411448865, 8.066364321700435, 7.803856375213346, 7.665590621095032, 7.596163714264354, 7.581060996493796, 7.503672826012893, 7.394508213577622, 7.319421255385364, 7.302093269149206  …  0.27657409423247425, 0.21689801124245378, 0.16411021984563845, 0.16093439427211603, 0.13464879616340503, 0.10436143173906268, 0.09259651309623262, 0.06651341897746847, 0.026956603268275252, 0.012017415927972558]\n",
       " [99.81166772784694, 7.949418477959957, 7.74606191258695, 7.665869672477449, 7.553393258381827, 7.4407333624285625, 7.36966203331701, 7.359801139006697, 7.297399044963617, 7.216122329673575  …  0.3106664137708991, 0.2743601775114698, 0.24651457760116, 0.2005565240465203, 0.1851642154866287, 0.14012085432404411, 0.11941304682768479, 0.09864487317040321, 0.04428118350443978, 0.012214235635363979]\n",
       " [100.21120645581307, 8.088487657185809, 7.974271359514021, 7.809701914999796, 7.656399818948977, 7.538238197106748, 7.406943232100834, 7.327805564013641, 7.220810315069558, 7.187266365852409  …  0.31611670840716477, 0.28316645772185256, 0.2371725649201673, 0.2081197910770156, 0.17186416756127024, 0.16246529927750086, 0.12111545561512009, 0.07353100134041037, 0.04018955605906942, 0.015467579967957413]\n",
       " [99.89890618685887, 8.101338546387643, 7.93631911694228, 7.695755668093592, 7.66949791677758, 7.560333307848718, 7.461416988016697, 7.385786522559163, 7.304789832363866, 7.223495047647532  …  0.2893729158612603, 0.2525403620858731, 0.21098434160303633, 0.19492053441665252, 0.16499990407411325, 0.13019789193509654, 0.0771391273981778, 0.06650817859715247, 0.016391636221619266, 0.008363298762679779]"
      ]
     },
     "execution_count": 13,
     "metadata": {},
     "output_type": "execute_result"
    }
   ],
   "source": [
    "tmap(svdvals, M)"
   ]
  },
  {
   "cell_type": "code",
   "execution_count": 14,
   "metadata": {},
   "outputs": [
    {
     "name": "stdout",
     "output_type": "stream",
     "text": [
      "8 (6)\n",
      "10 (6)\n",
      "1 (3)\n",
      "5 (6)\n",
      "3 (4)\n",
      "2 (2)\n",
      "4 (1)\n",
      "9 (6)\n",
      "7 (5)\n",
      "6 (6)\n"
     ]
    }
   ],
   "source": [
    "tmap(i -> println(i, \" ($(threadid()))\"), 1:10);"
   ]
  },
  {
   "cell_type": "markdown",
   "metadata": {},
   "source": [
    "Note, however, that this implementation creates temporary allocations and thus isn't particularly efficient."
   ]
  },
  {
   "cell_type": "code",
   "execution_count": 16,
   "metadata": {},
   "outputs": [
    {
     "name": "stdout",
     "output_type": "stream",
     "text": [
      "  22.427 ms (145 allocations: 4.22 MiB)\n",
      "  53.151 ms (81 allocations: 4.22 MiB)\n"
     ]
    }
   ],
   "source": [
    "using BenchmarkTools\n",
    "@btime tmap($svdvals, $M);\n",
    "@btime map($svdvals, $M);"
   ]
  },
  {
   "cell_type": "markdown",
   "metadata": {},
   "source": [
    "#### Remarks on `@spawn`"
   ]
  },
  {
   "cell_type": "markdown",
   "metadata": {},
   "source": [
    "* **Task migration**: Not only does the scheduler dynamically assign tasks to Julia threads, but it is also free to move tasks between threads. Hence, `threadid()` isn't necessarily constant over time and should be used with care!\n",
    "* **Spawning tasks on specific threads**: Julia doesn't have a built-in tool for this (as of now). However, some packages like [ThreadPinning.jl](https://github.com/carstenbauer/ThreadPinning.jl) export `@tspawnat <threadid> ...` which allows to spawn *sticky* tasks."
   ]
  },
  {
   "cell_type": "code",
   "execution_count": 28,
   "metadata": {},
   "outputs": [
    {
     "data": {
      "text/plain": [
       "Task (runnable) @0x000000010bf89f90"
      ]
     },
     "execution_count": 28,
     "metadata": {},
     "output_type": "execute_result"
    },
    {
     "name": "stdout",
     "output_type": "stream",
     "text": [
      "running on thread 3\n"
     ]
    }
   ],
   "source": [
    "using ThreadPinning\n",
    "\n",
    "@tspawnat 3 println(\"running on thread \", threadid())"
   ]
  },
  {
   "cell_type": "markdown",
   "metadata": {},
   "source": [
    "### Multithreading for-loops: `@threads`"
   ]
  },
  {
   "cell_type": "markdown",
   "metadata": {},
   "source": [
    "Higher level interface to multithreading. (Compare `Distributed.@spawnat` vs `@distributed`)"
   ]
  },
  {
   "cell_type": "code",
   "execution_count": 30,
   "metadata": {},
   "outputs": [
    {
     "name": "stdout",
     "output_type": "stream",
     "text": [
      "Hi, I'm 2\n",
      "Hi, I'm 6\n",
      "Hi, I'm 4\n",
      "Hi, I'm 3\n",
      "Hi, I'm 2\n",
      "Hi, I'm 5\n",
      "Hi, I'm 1\n",
      "Hi, I'm 5\n",
      "Hi, I'm 6\n",
      "Hi, I'm 2\n",
      "Hi, I'm 2\n",
      "Hi, I'm 3\n"
     ]
    }
   ],
   "source": [
    "@threads for i in 1:2*nthreads()\n",
    "    println(\"Hi, I'm \", threadid())\n",
    "end"
   ]
  },
  {
   "cell_type": "code",
   "execution_count": 31,
   "metadata": {},
   "outputs": [
    {
     "name": "stdout",
     "output_type": "stream",
     "text": [
      "  304.107 μs (0 allocations: 0 bytes)\n",
      "  83.803 μs (36 allocations: 2.88 KiB)\n"
     ]
    }
   ],
   "source": [
    "using BenchmarkTools\n",
    "\n",
    "function square!(x)\n",
    "    for i in eachindex(x)\n",
    "        x[i] = x[i]^2\n",
    "    end\n",
    "end\n",
    "\n",
    "function square_threads!(x)\n",
    "    @threads for i in eachindex(x)\n",
    "        x[i] = x[i]^2\n",
    "    end\n",
    "end\n",
    "\n",
    "x = rand(1_000_000)\n",
    "@btime square!($x);\n",
    "@btime square_threads!($x);"
   ]
  },
  {
   "cell_type": "markdown",
   "metadata": {},
   "source": [
    "#### Scheduling options\n",
    "\n",
    "Syntax: `@threads [schedule] for ...`\n",
    "\n",
    "  * `:dynamic` (default)\n",
    "    * creates O(`nthreads()`) many tasks each processing a contigious region of the iteration space\n",
    "    * each task essentially spawned with `@spawn`\n",
    "      * -> task migration\n",
    "      * -> composability / nestability\n",
    "    \n",
    "  * `:static`\n",
    "    * evenly splits up the iteration space and creates one task per block\n",
    "    * **statically** maps tasks to threads, specifically: task 1 -> thread 1, task 2 -> thread 2, etc.\n",
    "      * -> no task migration, i.e. **fixed task-thread mapping**\n",
    "      * -> not composable / nestable\n",
    "      * -> only little overhead"
   ]
  },
  {
   "cell_type": "code",
   "execution_count": 35,
   "metadata": {},
   "outputs": [
    {
     "name": "stdout",
     "output_type": "stream",
     "text": [
      "5 -> thread 1\n",
      "1 -> thread 6\n",
      "7 -> thread 2\n",
      "6 -> thread 2\n",
      "9 -> thread 5\n",
      "8 -> thread 2\n",
      "2 -> thread 6\n",
      "10 -> thread 6\n",
      "3 -> thread 3\n",
      "4 -> thread 4\n",
      "11 -> thread 4\n",
      "12 -> thread 3\n"
     ]
    }
   ],
   "source": [
    "@threads :dynamic for i in 1:2*nthreads()\n",
    "    println(i, \" -> thread \", threadid())\n",
    "end"
   ]
  },
  {
   "cell_type": "code",
   "execution_count": 32,
   "metadata": {},
   "outputs": [
    {
     "name": "stdout",
     "output_type": "stream",
     "text": [
      "3 -> thread 2\n",
      "4 -> thread 2\n",
      "7 -> thread 4\n",
      "8 -> thread 4\n",
      "1 -> thread 1\n",
      "2 -> thread 1\n",
      "9 -> thread 5\n",
      "10 -> thread 5\n",
      "11 -> thread 6\n",
      "12 -> thread 6\n",
      "5 -> thread 3\n",
      "6 -> thread 3\n"
     ]
    }
   ],
   "source": [
    "@threads :static for i in 1:2*nthreads()\n",
    "    println(i, \" -> thread \", threadid())\n",
    "end"
   ]
  },
  {
   "cell_type": "markdown",
   "metadata": {},
   "source": [
    "For `@threads :static`, every thread handles precisely two iterations!"
   ]
  },
  {
   "cell_type": "code",
   "execution_count": 36,
   "metadata": {},
   "outputs": [
    {
     "name": "stdout",
     "output_type": "stream",
     "text": [
      "1, 2\n",
      "2, 3\n",
      "2, 1\n",
      "2, 2\n",
      "1, 1\n",
      "3, 1\n",
      "3, 2\n",
      "3, 3\n",
      "1, 3\n"
     ]
    }
   ],
   "source": [
    "@threads :dynamic for i in 1:3\n",
    "    @threads :dynamic for j in 1:3\n",
    "        println(\"$i, $j\")\n",
    "    end\n",
    "end"
   ]
  },
  {
   "cell_type": "code",
   "execution_count": 37,
   "metadata": {},
   "outputs": [
    {
     "ename": "LoadError",
     "evalue": "TaskFailedException\n\n\u001b[91m    nested task error: \u001b[39m`@threads :static` cannot be used concurrently or nested\n    Stacktrace:\n     [1] \u001b[0m\u001b[1merror\u001b[22m\u001b[0m\u001b[1m(\u001b[22m\u001b[90ms\u001b[39m::\u001b[0mString\u001b[0m\u001b[1m)\u001b[22m\n    \u001b[90m   @ \u001b[39m\u001b[90mBase\u001b[39m \u001b[90m./\u001b[39m\u001b[90m\u001b[4merror.jl:35\u001b[24m\u001b[39m\n     [2] \u001b[0m\u001b[1mmacro expansion\u001b[22m\n    \u001b[90m   @ \u001b[39m\u001b[90m./\u001b[39m\u001b[90m\u001b[4mthreadingconstructs.jl:91\u001b[24m\u001b[39m\u001b[90m [inlined]\u001b[39m\n     [3] \u001b[0m\u001b[1mmacro expansion\u001b[22m\n    \u001b[90m   @ \u001b[39m\u001b[90m./\u001b[39m\u001b[90m\u001b[4mIn[37]:2\u001b[24m\u001b[39m\u001b[90m [inlined]\u001b[39m\n     [4] \u001b[0m\u001b[1m(::var\"#258#threadsfor_fun#76\"{var\"#258#threadsfor_fun#74#77\"{UnitRange{Int64}}})\u001b[22m\u001b[0m\u001b[1m(\u001b[22m\u001b[90mtid\u001b[39m::\u001b[0mInt64; \u001b[90monethread\u001b[39m::\u001b[0mBool\u001b[0m\u001b[1m)\u001b[22m\n    \u001b[90m   @ \u001b[39m\u001b[35mMain\u001b[39m \u001b[90m./\u001b[39m\u001b[90m\u001b[4mthreadingconstructs.jl:84\u001b[24m\u001b[39m\n     [5] \u001b[0m\u001b[1m#258#threadsfor_fun\u001b[22m\n    \u001b[90m   @ \u001b[39m\u001b[90m./\u001b[39m\u001b[90m\u001b[4mthreadingconstructs.jl:51\u001b[24m\u001b[39m\u001b[90m [inlined]\u001b[39m\n     [6] \u001b[0m\u001b[1m(::Base.Threads.var\"#1#2\"{var\"#258#threadsfor_fun#76\"{var\"#258#threadsfor_fun#74#77\"{UnitRange{Int64}}}, Int64})\u001b[22m\u001b[0m\u001b[1m(\u001b[22m\u001b[0m\u001b[1m)\u001b[22m\n    \u001b[90m   @ \u001b[39m\u001b[90mBase.Threads\u001b[39m \u001b[90m./\u001b[39m\u001b[90m\u001b[4mthreadingconstructs.jl:30\u001b[24m\u001b[39m",
     "output_type": "error",
     "traceback": [
      "TaskFailedException\n\n\u001b[91m    nested task error: \u001b[39m`@threads :static` cannot be used concurrently or nested\n    Stacktrace:\n     [1] \u001b[0m\u001b[1merror\u001b[22m\u001b[0m\u001b[1m(\u001b[22m\u001b[90ms\u001b[39m::\u001b[0mString\u001b[0m\u001b[1m)\u001b[22m\n    \u001b[90m   @ \u001b[39m\u001b[90mBase\u001b[39m \u001b[90m./\u001b[39m\u001b[90m\u001b[4merror.jl:35\u001b[24m\u001b[39m\n     [2] \u001b[0m\u001b[1mmacro expansion\u001b[22m\n    \u001b[90m   @ \u001b[39m\u001b[90m./\u001b[39m\u001b[90m\u001b[4mthreadingconstructs.jl:91\u001b[24m\u001b[39m\u001b[90m [inlined]\u001b[39m\n     [3] \u001b[0m\u001b[1mmacro expansion\u001b[22m\n    \u001b[90m   @ \u001b[39m\u001b[90m./\u001b[39m\u001b[90m\u001b[4mIn[37]:2\u001b[24m\u001b[39m\u001b[90m [inlined]\u001b[39m\n     [4] \u001b[0m\u001b[1m(::var\"#258#threadsfor_fun#76\"{var\"#258#threadsfor_fun#74#77\"{UnitRange{Int64}}})\u001b[22m\u001b[0m\u001b[1m(\u001b[22m\u001b[90mtid\u001b[39m::\u001b[0mInt64; \u001b[90monethread\u001b[39m::\u001b[0mBool\u001b[0m\u001b[1m)\u001b[22m\n    \u001b[90m   @ \u001b[39m\u001b[35mMain\u001b[39m \u001b[90m./\u001b[39m\u001b[90m\u001b[4mthreadingconstructs.jl:84\u001b[24m\u001b[39m\n     [5] \u001b[0m\u001b[1m#258#threadsfor_fun\u001b[22m\n    \u001b[90m   @ \u001b[39m\u001b[90m./\u001b[39m\u001b[90m\u001b[4mthreadingconstructs.jl:51\u001b[24m\u001b[39m\u001b[90m [inlined]\u001b[39m\n     [6] \u001b[0m\u001b[1m(::Base.Threads.var\"#1#2\"{var\"#258#threadsfor_fun#76\"{var\"#258#threadsfor_fun#74#77\"{UnitRange{Int64}}}, Int64})\u001b[22m\u001b[0m\u001b[1m(\u001b[22m\u001b[0m\u001b[1m)\u001b[22m\n    \u001b[90m   @ \u001b[39m\u001b[90mBase.Threads\u001b[39m \u001b[90m./\u001b[39m\u001b[90m\u001b[4mthreadingconstructs.jl:30\u001b[24m\u001b[39m",
      "",
      "Stacktrace:",
      " [1] wait",
      "   @ ./task.jl:345 [inlined]",
      " [2] threading_run(fun::var\"#258#threadsfor_fun#76\"{var\"#258#threadsfor_fun#74#77\"{UnitRange{Int64}}}, static::Bool)",
      "   @ Base.Threads ./threadingconstructs.jl:38",
      " [3] top-level scope",
      "   @ ./threadingconstructs.jl:93",
      " [4] eval",
      "   @ ./boot.jl:368 [inlined]",
      " [5] include_string(mapexpr::typeof(REPL.softscope), mod::Module, code::String, filename::String)",
      "   @ Base ./loading.jl:1428"
     ]
    }
   ],
   "source": [
    "@threads :static for i in 1:3\n",
    "    @threads :static for j in 1:3\n",
    "        println(\"$i, $j\")\n",
    "    end\n",
    "end"
   ]
  },
  {
   "cell_type": "markdown",
   "metadata": {},
   "source": [
    "### Load-balancing"
   ]
  },
  {
   "cell_type": "code",
   "execution_count": 58,
   "metadata": {},
   "outputs": [
    {
     "data": {
      "text/plain": [
       "compute_nonuniform_spawn! (generic function with 3 methods)"
      ]
     },
     "execution_count": 58,
     "metadata": {},
     "output_type": "execute_result"
    }
   ],
   "source": [
    "function compute_nonuniform_spawn!(a, niter = zeros(Int, nthreads()), load = zeros(Int, nthreads()))\n",
    "    @sync for i in 1:length(a)\n",
    "        Threads.@spawn begin\n",
    "            a[i] = sum(abs2, rand() for j in 1:i)\n",
    "            \n",
    "            # only for bookkeeping\n",
    "            niter[threadid()] += 1\n",
    "            load[threadid()] += i\n",
    "        end\n",
    "    end\n",
    "    return niter, load\n",
    "end"
   ]
  },
  {
   "cell_type": "code",
   "execution_count": 63,
   "metadata": {},
   "outputs": [
    {
     "data": {
      "text/plain": [
       "([10396, 8753, 10229, 11409, 8623, 10590], [296170687, 301770274, 286916266, 308291069, 306453583, 300428121])"
      ]
     },
     "execution_count": 63,
     "metadata": {},
     "output_type": "execute_result"
    }
   ],
   "source": [
    "a = zeros(nthreads()*10000)\n",
    "niter, load = compute_nonuniform_spawn!(a)"
   ]
  },
  {
   "cell_type": "code",
   "execution_count": 64,
   "metadata": {},
   "outputs": [
    {
     "data": {
      "image/svg+xml": [
       "<?xml version=\"1.0\" encoding=\"utf-8\"?>\n",
       "<svg xmlns=\"http://www.w3.org/2000/svg\" xmlns:xlink=\"http://www.w3.org/1999/xlink\" width=\"600\" height=\"400\" viewBox=\"0 0 2400 1600\">\n",
       "<defs>\n",
       "  <clipPath id=\"clip830\">\n",
       "    <rect x=\"0\" y=\"0\" width=\"2400\" height=\"1600\"/>\n",
       "  </clipPath>\n",
       "</defs>\n",
       "<path clip-path=\"url(#clip830)\" d=\"\n",
       "M0 1600 L2400 1600 L2400 0 L0 0  Z\n",
       "  \" fill=\"#ffffff\" fill-rule=\"evenodd\" fill-opacity=\"1\"/>\n",
       "<defs>\n",
       "  <clipPath id=\"clip831\">\n",
       "    <rect x=\"480\" y=\"0\" width=\"1681\" height=\"1600\"/>\n",
       "  </clipPath>\n",
       "</defs>\n",
       "<path clip-path=\"url(#clip830)\" d=\"\n",
       "M292.713 1423.18 L2352.76 1423.18 L2352.76 123.472 L292.713 123.472  Z\n",
       "  \" fill=\"#ffffff\" fill-rule=\"evenodd\" fill-opacity=\"1\"/>\n",
       "<defs>\n",
       "  <clipPath id=\"clip832\">\n",
       "    <rect x=\"292\" y=\"123\" width=\"2061\" height=\"1301\"/>\n",
       "  </clipPath>\n",
       "</defs>\n",
       "<polyline clip-path=\"url(#clip832)\" style=\"stroke:#000000; stroke-linecap:butt; stroke-linejoin:round; stroke-width:2; stroke-opacity:0.1; fill:none\" points=\"\n",
       "  532.463,1423.18 532.463,123.472 \n",
       "  \"/>\n",
       "<polyline clip-path=\"url(#clip832)\" style=\"stroke:#000000; stroke-linecap:butt; stroke-linejoin:round; stroke-width:2; stroke-opacity:0.1; fill:none\" points=\"\n",
       "  848.571,1423.18 848.571,123.472 \n",
       "  \"/>\n",
       "<polyline clip-path=\"url(#clip832)\" style=\"stroke:#000000; stroke-linecap:butt; stroke-linejoin:round; stroke-width:2; stroke-opacity:0.1; fill:none\" points=\"\n",
       "  1164.68,1423.18 1164.68,123.472 \n",
       "  \"/>\n",
       "<polyline clip-path=\"url(#clip832)\" style=\"stroke:#000000; stroke-linecap:butt; stroke-linejoin:round; stroke-width:2; stroke-opacity:0.1; fill:none\" points=\"\n",
       "  1480.79,1423.18 1480.79,123.472 \n",
       "  \"/>\n",
       "<polyline clip-path=\"url(#clip832)\" style=\"stroke:#000000; stroke-linecap:butt; stroke-linejoin:round; stroke-width:2; stroke-opacity:0.1; fill:none\" points=\"\n",
       "  1796.9,1423.18 1796.9,123.472 \n",
       "  \"/>\n",
       "<polyline clip-path=\"url(#clip832)\" style=\"stroke:#000000; stroke-linecap:butt; stroke-linejoin:round; stroke-width:2; stroke-opacity:0.1; fill:none\" points=\"\n",
       "  2113.01,1423.18 2113.01,123.472 \n",
       "  \"/>\n",
       "<polyline clip-path=\"url(#clip830)\" style=\"stroke:#000000; stroke-linecap:butt; stroke-linejoin:round; stroke-width:4; stroke-opacity:1; fill:none\" points=\"\n",
       "  292.713,1423.18 2352.76,1423.18 \n",
       "  \"/>\n",
       "<polyline clip-path=\"url(#clip830)\" style=\"stroke:#000000; stroke-linecap:butt; stroke-linejoin:round; stroke-width:4; stroke-opacity:1; fill:none\" points=\"\n",
       "  532.463,1423.18 532.463,1404.28 \n",
       "  \"/>\n",
       "<polyline clip-path=\"url(#clip830)\" style=\"stroke:#000000; stroke-linecap:butt; stroke-linejoin:round; stroke-width:4; stroke-opacity:1; fill:none\" points=\"\n",
       "  848.571,1423.18 848.571,1404.28 \n",
       "  \"/>\n",
       "<polyline clip-path=\"url(#clip830)\" style=\"stroke:#000000; stroke-linecap:butt; stroke-linejoin:round; stroke-width:4; stroke-opacity:1; fill:none\" points=\"\n",
       "  1164.68,1423.18 1164.68,1404.28 \n",
       "  \"/>\n",
       "<polyline clip-path=\"url(#clip830)\" style=\"stroke:#000000; stroke-linecap:butt; stroke-linejoin:round; stroke-width:4; stroke-opacity:1; fill:none\" points=\"\n",
       "  1480.79,1423.18 1480.79,1404.28 \n",
       "  \"/>\n",
       "<polyline clip-path=\"url(#clip830)\" style=\"stroke:#000000; stroke-linecap:butt; stroke-linejoin:round; stroke-width:4; stroke-opacity:1; fill:none\" points=\"\n",
       "  1796.9,1423.18 1796.9,1404.28 \n",
       "  \"/>\n",
       "<polyline clip-path=\"url(#clip830)\" style=\"stroke:#000000; stroke-linecap:butt; stroke-linejoin:round; stroke-width:4; stroke-opacity:1; fill:none\" points=\"\n",
       "  2113.01,1423.18 2113.01,1404.28 \n",
       "  \"/>\n",
       "<path clip-path=\"url(#clip830)\" d=\"M522.845 1481.64 L530.483 1481.64 L530.483 1455.28 L522.173 1456.95 L522.173 1452.69 L530.437 1451.02 L535.113 1451.02 L535.113 1481.64 L542.752 1481.64 L542.752 1485.58 L522.845 1485.58 L522.845 1481.64 Z\" fill=\"#000000\" fill-rule=\"evenodd\" fill-opacity=\"1\" /><path clip-path=\"url(#clip830)\" d=\"M843.224 1481.64 L859.544 1481.64 L859.544 1485.58 L837.599 1485.58 L837.599 1481.64 Q840.261 1478.89 844.845 1474.26 Q849.451 1469.61 850.632 1468.27 Q852.877 1465.74 853.757 1464.01 Q854.659 1462.25 854.659 1460.56 Q854.659 1457.8 852.715 1456.07 Q850.794 1454.33 847.692 1454.33 Q845.493 1454.33 843.039 1455.09 Q840.608 1455.86 837.831 1457.41 L837.831 1452.69 Q840.655 1451.55 843.108 1450.97 Q845.562 1450.39 847.599 1450.39 Q852.969 1450.39 856.164 1453.08 Q859.358 1455.77 859.358 1460.26 Q859.358 1462.39 858.548 1464.31 Q857.761 1466.2 855.655 1468.8 Q855.076 1469.47 851.974 1472.69 Q848.872 1475.88 843.224 1481.64 Z\" fill=\"#000000\" fill-rule=\"evenodd\" fill-opacity=\"1\" /><path clip-path=\"url(#clip830)\" d=\"M1168.93 1466.95 Q1172.28 1467.66 1174.16 1469.93 Q1176.06 1472.2 1176.06 1475.53 Q1176.06 1480.65 1172.54 1483.45 Q1169.02 1486.25 1162.54 1486.25 Q1160.36 1486.25 1158.05 1485.81 Q1155.76 1485.39 1153.3 1484.54 L1153.3 1480.02 Q1155.25 1481.16 1157.56 1481.74 Q1159.88 1482.32 1162.4 1482.32 Q1166.8 1482.32 1169.09 1480.58 Q1171.4 1478.84 1171.4 1475.53 Q1171.4 1472.48 1169.25 1470.77 Q1167.12 1469.03 1163.3 1469.03 L1159.28 1469.03 L1159.28 1465.19 L1163.49 1465.19 Q1166.94 1465.19 1168.77 1463.82 Q1170.59 1462.43 1170.59 1459.84 Q1170.59 1457.18 1168.7 1455.77 Q1166.82 1454.33 1163.3 1454.33 Q1161.38 1454.33 1159.18 1454.75 Q1156.98 1455.16 1154.34 1456.04 L1154.34 1451.88 Q1157.01 1451.14 1159.32 1450.77 Q1161.66 1450.39 1163.72 1450.39 Q1169.04 1450.39 1172.15 1452.83 Q1175.25 1455.23 1175.25 1459.35 Q1175.25 1462.22 1173.6 1464.21 Q1171.96 1466.18 1168.93 1466.95 Z\" fill=\"#000000\" fill-rule=\"evenodd\" fill-opacity=\"1\" /><path clip-path=\"url(#clip830)\" d=\"M1483.8 1455.09 L1471.99 1473.54 L1483.8 1473.54 L1483.8 1455.09 M1482.57 1451.02 L1488.45 1451.02 L1488.45 1473.54 L1493.38 1473.54 L1493.38 1477.43 L1488.45 1477.43 L1488.45 1485.58 L1483.8 1485.58 L1483.8 1477.43 L1468.2 1477.43 L1468.2 1472.92 L1482.57 1451.02 Z\" fill=\"#000000\" fill-rule=\"evenodd\" fill-opacity=\"1\" /><path clip-path=\"url(#clip830)\" d=\"M1787.18 1451.02 L1805.53 1451.02 L1805.53 1454.96 L1791.46 1454.96 L1791.46 1463.43 Q1792.48 1463.08 1793.49 1462.92 Q1794.51 1462.73 1795.53 1462.73 Q1801.32 1462.73 1804.7 1465.9 Q1808.08 1469.08 1808.08 1474.49 Q1808.08 1480.07 1804.61 1483.17 Q1801.13 1486.25 1794.81 1486.25 Q1792.64 1486.25 1790.37 1485.88 Q1788.12 1485.51 1785.72 1484.77 L1785.72 1480.07 Q1787.8 1481.2 1790.02 1481.76 Q1792.24 1482.32 1794.72 1482.32 Q1798.73 1482.32 1801.06 1480.21 Q1803.4 1478.1 1803.4 1474.49 Q1803.4 1470.88 1801.06 1468.77 Q1798.73 1466.67 1794.72 1466.67 Q1792.85 1466.67 1790.97 1467.08 Q1789.12 1467.5 1787.18 1468.38 L1787.18 1451.02 Z\" fill=\"#000000\" fill-rule=\"evenodd\" fill-opacity=\"1\" /><path clip-path=\"url(#clip830)\" d=\"M2113.41 1466.44 Q2110.26 1466.44 2108.41 1468.59 Q2106.58 1470.74 2106.58 1474.49 Q2106.58 1478.22 2108.41 1480.39 Q2110.26 1482.55 2113.41 1482.55 Q2116.56 1482.55 2118.39 1480.39 Q2120.24 1478.22 2120.24 1474.49 Q2120.24 1470.74 2118.39 1468.59 Q2116.56 1466.44 2113.41 1466.44 M2122.69 1451.78 L2122.69 1456.04 Q2120.93 1455.21 2119.13 1454.77 Q2117.35 1454.33 2115.59 1454.33 Q2110.96 1454.33 2108.5 1457.45 Q2106.07 1460.58 2105.73 1466.9 Q2107.09 1464.89 2109.15 1463.82 Q2111.21 1462.73 2113.69 1462.73 Q2118.9 1462.73 2121.91 1465.9 Q2124.94 1469.05 2124.94 1474.49 Q2124.94 1479.82 2121.79 1483.03 Q2118.64 1486.25 2113.41 1486.25 Q2107.42 1486.25 2104.24 1481.67 Q2101.07 1477.06 2101.07 1468.33 Q2101.07 1460.14 2104.96 1455.28 Q2108.85 1450.39 2115.4 1450.39 Q2117.16 1450.39 2118.94 1450.74 Q2120.75 1451.09 2122.69 1451.78 Z\" fill=\"#000000\" fill-rule=\"evenodd\" fill-opacity=\"1\" /><path clip-path=\"url(#clip830)\" d=\"M1200.18 1522.27 L1200.18 1532.4 L1212.24 1532.4 L1212.24 1536.95 L1200.18 1536.95 L1200.18 1556.3 Q1200.18 1560.66 1201.36 1561.9 Q1202.57 1563.14 1206.23 1563.14 L1212.24 1563.14 L1212.24 1568.04 L1206.23 1568.04 Q1199.45 1568.04 1196.87 1565.53 Q1194.29 1562.98 1194.29 1556.3 L1194.29 1536.95 L1189.99 1536.95 L1189.99 1532.4 L1194.29 1532.4 L1194.29 1522.27 L1200.18 1522.27 Z\" fill=\"#000000\" fill-rule=\"evenodd\" fill-opacity=\"1\" /><path clip-path=\"url(#clip830)\" d=\"M1249.58 1546.53 L1249.58 1568.04 L1243.72 1568.04 L1243.72 1546.72 Q1243.72 1541.66 1241.75 1539.14 Q1239.77 1536.63 1235.83 1536.63 Q1231.08 1536.63 1228.35 1539.65 Q1225.61 1542.68 1225.61 1547.9 L1225.61 1568.04 L1219.72 1568.04 L1219.72 1518.52 L1225.61 1518.52 L1225.61 1537.93 Q1227.71 1534.72 1230.54 1533.13 Q1233.41 1531.54 1237.13 1531.54 Q1243.27 1531.54 1246.43 1535.36 Q1249.58 1539.14 1249.58 1546.53 Z\" fill=\"#000000\" fill-rule=\"evenodd\" fill-opacity=\"1\" /><path clip-path=\"url(#clip830)\" d=\"M1281.91 1537.87 Q1280.93 1537.3 1279.75 1537.04 Q1278.6 1536.76 1277.2 1536.76 Q1272.24 1536.76 1269.56 1540 Q1266.92 1543.22 1266.92 1549.27 L1266.92 1568.04 L1261.03 1568.04 L1261.03 1532.4 L1266.92 1532.4 L1266.92 1537.93 Q1268.77 1534.69 1271.73 1533.13 Q1274.69 1531.54 1278.92 1531.54 Q1279.53 1531.54 1280.26 1531.63 Q1280.99 1531.7 1281.88 1531.85 L1281.91 1537.87 Z\" fill=\"#000000\" fill-rule=\"evenodd\" fill-opacity=\"1\" /><path clip-path=\"url(#clip830)\" d=\"M1317.12 1548.76 L1317.12 1551.62 L1290.19 1551.62 Q1290.57 1557.67 1293.82 1560.85 Q1297.1 1564 1302.92 1564 Q1306.3 1564 1309.45 1563.17 Q1312.63 1562.35 1315.75 1560.69 L1315.75 1566.23 Q1312.6 1567.57 1309.29 1568.27 Q1305.98 1568.97 1302.57 1568.97 Q1294.04 1568.97 1289.04 1564 Q1284.08 1559.04 1284.08 1550.57 Q1284.08 1541.82 1288.79 1536.69 Q1293.53 1531.54 1301.55 1531.54 Q1308.75 1531.54 1312.92 1536.18 Q1317.12 1540.8 1317.12 1548.76 M1311.26 1547.04 Q1311.2 1542.23 1308.55 1539.37 Q1305.94 1536.5 1301.62 1536.5 Q1296.71 1536.5 1293.75 1539.27 Q1290.83 1542.04 1290.38 1547.07 L1311.26 1547.04 Z\" fill=\"#000000\" fill-rule=\"evenodd\" fill-opacity=\"1\" /><path clip-path=\"url(#clip830)\" d=\"M1342.93 1550.12 Q1335.83 1550.12 1333.09 1551.75 Q1330.36 1553.37 1330.36 1557.29 Q1330.36 1560.4 1332.39 1562.25 Q1334.46 1564.07 1338 1564.07 Q1342.87 1564.07 1345.79 1560.63 Q1348.75 1557.16 1348.75 1551.43 L1348.75 1550.12 L1342.93 1550.12 M1354.61 1547.71 L1354.61 1568.04 L1348.75 1568.04 L1348.75 1562.63 Q1346.75 1565.88 1343.76 1567.44 Q1340.77 1568.97 1336.44 1568.97 Q1330.96 1568.97 1327.72 1565.91 Q1324.5 1562.82 1324.5 1557.67 Q1324.5 1551.65 1328.51 1548.6 Q1332.55 1545.54 1340.54 1545.54 L1348.75 1545.54 L1348.75 1544.97 Q1348.75 1540.93 1346.08 1538.73 Q1343.44 1536.5 1338.63 1536.5 Q1335.58 1536.5 1332.68 1537.23 Q1329.78 1537.97 1327.11 1539.43 L1327.11 1534.02 Q1330.33 1532.78 1333.35 1532.17 Q1336.37 1531.54 1339.24 1531.54 Q1346.97 1531.54 1350.79 1535.55 Q1354.61 1539.56 1354.61 1547.71 Z\" fill=\"#000000\" fill-rule=\"evenodd\" fill-opacity=\"1\" /><path clip-path=\"url(#clip830)\" d=\"M1390.13 1537.81 L1390.13 1518.52 L1395.99 1518.52 L1395.99 1568.04 L1390.13 1568.04 L1390.13 1562.7 Q1388.29 1565.88 1385.45 1567.44 Q1382.65 1568.97 1378.7 1568.97 Q1372.24 1568.97 1368.17 1563.81 Q1364.13 1558.65 1364.13 1550.25 Q1364.13 1541.85 1368.17 1536.69 Q1372.24 1531.54 1378.7 1531.54 Q1382.65 1531.54 1385.45 1533.1 Q1388.29 1534.62 1390.13 1537.81 M1370.17 1550.25 Q1370.17 1556.71 1372.82 1560.4 Q1375.49 1564.07 1380.14 1564.07 Q1384.78 1564.07 1387.46 1560.4 Q1390.13 1556.71 1390.13 1550.25 Q1390.13 1543.79 1387.46 1540.13 Q1384.78 1536.44 1380.14 1536.44 Q1375.49 1536.44 1372.82 1540.13 Q1370.17 1543.79 1370.17 1550.25 Z\" fill=\"#000000\" fill-rule=\"evenodd\" fill-opacity=\"1\" /><path clip-path=\"url(#clip830)\" d=\"M1408.05 1532.4 L1413.91 1532.4 L1413.91 1568.04 L1408.05 1568.04 L1408.05 1532.4 M1408.05 1518.52 L1413.91 1518.52 L1413.91 1525.93 L1408.05 1525.93 L1408.05 1518.52 Z\" fill=\"#000000\" fill-rule=\"evenodd\" fill-opacity=\"1\" /><path clip-path=\"url(#clip830)\" d=\"M1449.62 1537.81 L1449.62 1518.52 L1455.48 1518.52 L1455.48 1568.04 L1449.62 1568.04 L1449.62 1562.7 Q1447.77 1565.88 1444.94 1567.44 Q1442.14 1568.97 1438.19 1568.97 Q1431.73 1568.97 1427.66 1563.81 Q1423.62 1558.65 1423.62 1550.25 Q1423.62 1541.85 1427.66 1536.69 Q1431.73 1531.54 1438.19 1531.54 Q1442.14 1531.54 1444.94 1533.1 Q1447.77 1534.62 1449.62 1537.81 M1429.66 1550.25 Q1429.66 1556.71 1432.3 1560.4 Q1434.98 1564.07 1439.62 1564.07 Q1444.27 1564.07 1446.95 1560.4 Q1449.62 1556.71 1449.62 1550.25 Q1449.62 1543.79 1446.95 1540.13 Q1444.27 1536.44 1439.62 1536.44 Q1434.98 1536.44 1432.3 1540.13 Q1429.66 1543.79 1429.66 1550.25 Z\" fill=\"#000000\" fill-rule=\"evenodd\" fill-opacity=\"1\" /><polyline clip-path=\"url(#clip832)\" style=\"stroke:#000000; stroke-linecap:butt; stroke-linejoin:round; stroke-width:2; stroke-opacity:0.1; fill:none\" points=\"\n",
       "  292.713,1386.4 2352.76,1386.4 \n",
       "  \"/>\n",
       "<polyline clip-path=\"url(#clip832)\" style=\"stroke:#000000; stroke-linecap:butt; stroke-linejoin:round; stroke-width:2; stroke-opacity:0.1; fill:none\" points=\"\n",
       "  292.713,1117.72 2352.76,1117.72 \n",
       "  \"/>\n",
       "<polyline clip-path=\"url(#clip832)\" style=\"stroke:#000000; stroke-linecap:butt; stroke-linejoin:round; stroke-width:2; stroke-opacity:0.1; fill:none\" points=\"\n",
       "  292.713,849.039 2352.76,849.039 \n",
       "  \"/>\n",
       "<polyline clip-path=\"url(#clip832)\" style=\"stroke:#000000; stroke-linecap:butt; stroke-linejoin:round; stroke-width:2; stroke-opacity:0.1; fill:none\" points=\"\n",
       "  292.713,580.361 2352.76,580.361 \n",
       "  \"/>\n",
       "<polyline clip-path=\"url(#clip832)\" style=\"stroke:#000000; stroke-linecap:butt; stroke-linejoin:round; stroke-width:2; stroke-opacity:0.1; fill:none\" points=\"\n",
       "  292.713,311.683 2352.76,311.683 \n",
       "  \"/>\n",
       "<polyline clip-path=\"url(#clip830)\" style=\"stroke:#000000; stroke-linecap:butt; stroke-linejoin:round; stroke-width:4; stroke-opacity:1; fill:none\" points=\"\n",
       "  292.713,1423.18 292.713,123.472 \n",
       "  \"/>\n",
       "<polyline clip-path=\"url(#clip830)\" style=\"stroke:#000000; stroke-linecap:butt; stroke-linejoin:round; stroke-width:4; stroke-opacity:1; fill:none\" points=\"\n",
       "  292.713,1386.4 311.611,1386.4 \n",
       "  \"/>\n",
       "<polyline clip-path=\"url(#clip830)\" style=\"stroke:#000000; stroke-linecap:butt; stroke-linejoin:round; stroke-width:4; stroke-opacity:1; fill:none\" points=\"\n",
       "  292.713,1117.72 311.611,1117.72 \n",
       "  \"/>\n",
       "<polyline clip-path=\"url(#clip830)\" style=\"stroke:#000000; stroke-linecap:butt; stroke-linejoin:round; stroke-width:4; stroke-opacity:1; fill:none\" points=\"\n",
       "  292.713,849.039 311.611,849.039 \n",
       "  \"/>\n",
       "<polyline clip-path=\"url(#clip830)\" style=\"stroke:#000000; stroke-linecap:butt; stroke-linejoin:round; stroke-width:4; stroke-opacity:1; fill:none\" points=\"\n",
       "  292.713,580.361 311.611,580.361 \n",
       "  \"/>\n",
       "<polyline clip-path=\"url(#clip830)\" style=\"stroke:#000000; stroke-linecap:butt; stroke-linejoin:round; stroke-width:4; stroke-opacity:1; fill:none\" points=\"\n",
       "  292.713,311.683 311.611,311.683 \n",
       "  \"/>\n",
       "<path clip-path=\"url(#clip830)\" d=\"M244.769 1372.19 Q241.158 1372.19 239.329 1375.76 Q237.523 1379.3 237.523 1386.43 Q237.523 1393.54 239.329 1397.1 Q241.158 1400.64 244.769 1400.64 Q248.403 1400.64 250.209 1397.1 Q252.037 1393.54 252.037 1386.43 Q252.037 1379.3 250.209 1375.76 Q248.403 1372.19 244.769 1372.19 M244.769 1368.49 Q250.579 1368.49 253.634 1373.1 Q256.713 1377.68 256.713 1386.43 Q256.713 1395.16 253.634 1399.76 Q250.579 1404.35 244.769 1404.35 Q238.959 1404.35 235.88 1399.76 Q232.824 1395.16 232.824 1386.43 Q232.824 1377.68 235.88 1373.1 Q238.959 1368.49 244.769 1368.49 Z\" fill=\"#000000\" fill-rule=\"evenodd\" fill-opacity=\"1\" /><path clip-path=\"url(#clip830)\" d=\"M148.311 1131.06 L164.63 1131.06 L164.63 1135 L142.686 1135 L142.686 1131.06 Q145.348 1128.31 149.931 1123.68 Q154.538 1119.03 155.718 1117.68 Q157.964 1115.16 158.843 1113.42 Q159.746 1111.66 159.746 1109.97 Q159.746 1107.22 157.802 1105.48 Q155.88 1103.75 152.778 1103.75 Q150.579 1103.75 148.126 1104.51 Q145.695 1105.28 142.917 1106.83 L142.917 1102.1 Q145.741 1100.97 148.195 1100.39 Q150.649 1099.81 152.686 1099.81 Q158.056 1099.81 161.251 1102.5 Q164.445 1105.18 164.445 1109.67 Q164.445 1111.8 163.635 1113.72 Q162.848 1115.62 160.741 1118.22 Q160.163 1118.89 157.061 1122.1 Q153.959 1125.3 148.311 1131.06 Z\" fill=\"#000000\" fill-rule=\"evenodd\" fill-opacity=\"1\" /><path clip-path=\"url(#clip830)\" d=\"M174.491 1100.44 L192.848 1100.44 L192.848 1104.37 L178.774 1104.37 L178.774 1112.84 Q179.792 1112.5 180.811 1112.34 Q181.829 1112.15 182.848 1112.15 Q188.635 1112.15 192.014 1115.32 Q195.394 1118.49 195.394 1123.91 Q195.394 1129.49 191.922 1132.59 Q188.45 1135.67 182.13 1135.67 Q179.954 1135.67 177.686 1135.3 Q175.44 1134.93 173.033 1134.19 L173.033 1129.49 Q175.116 1130.62 177.339 1131.18 Q179.561 1131.73 182.038 1131.73 Q186.042 1131.73 188.38 1129.63 Q190.718 1127.52 190.718 1123.91 Q190.718 1120.3 188.38 1118.19 Q186.042 1116.09 182.038 1116.09 Q180.163 1116.09 178.288 1116.5 Q176.436 1116.92 174.491 1117.8 L174.491 1100.44 Z\" fill=\"#000000\" fill-rule=\"evenodd\" fill-opacity=\"1\" /><path clip-path=\"url(#clip830)\" d=\"M214.607 1103.52 Q210.996 1103.52 209.167 1107.08 Q207.362 1110.62 207.362 1117.75 Q207.362 1124.86 209.167 1128.42 Q210.996 1131.97 214.607 1131.97 Q218.241 1131.97 220.047 1128.42 Q221.875 1124.86 221.875 1117.75 Q221.875 1110.62 220.047 1107.08 Q218.241 1103.52 214.607 1103.52 M214.607 1099.81 Q220.417 1099.81 223.473 1104.42 Q226.551 1109 226.551 1117.75 Q226.551 1126.48 223.473 1131.09 Q220.417 1135.67 214.607 1135.67 Q208.797 1135.67 205.718 1131.09 Q202.662 1126.48 202.662 1117.75 Q202.662 1109 205.718 1104.42 Q208.797 1099.81 214.607 1099.81 Z\" fill=\"#000000\" fill-rule=\"evenodd\" fill-opacity=\"1\" /><path clip-path=\"url(#clip830)\" d=\"M244.769 1103.52 Q241.158 1103.52 239.329 1107.08 Q237.523 1110.62 237.523 1117.75 Q237.523 1124.86 239.329 1128.42 Q241.158 1131.97 244.769 1131.97 Q248.403 1131.97 250.209 1128.42 Q252.037 1124.86 252.037 1117.75 Q252.037 1110.62 250.209 1107.08 Q248.403 1103.52 244.769 1103.52 M244.769 1099.81 Q250.579 1099.81 253.634 1104.42 Q256.713 1109 256.713 1117.75 Q256.713 1126.48 253.634 1131.09 Q250.579 1135.67 244.769 1135.67 Q238.959 1135.67 235.88 1131.09 Q232.824 1126.48 232.824 1117.75 Q232.824 1109 235.88 1104.42 Q238.959 1099.81 244.769 1099.81 Z\" fill=\"#000000\" fill-rule=\"evenodd\" fill-opacity=\"1\" /><path clip-path=\"url(#clip830)\" d=\"M144.329 831.759 L162.686 831.759 L162.686 835.695 L148.612 835.695 L148.612 844.167 Q149.63 843.82 150.649 843.658 Q151.667 843.472 152.686 843.472 Q158.473 843.472 161.852 846.644 Q165.232 849.815 165.232 855.232 Q165.232 860.81 161.76 863.912 Q158.288 866.991 151.968 866.991 Q149.792 866.991 147.524 866.62 Q145.279 866.25 142.871 865.509 L142.871 860.81 Q144.954 861.944 147.177 862.5 Q149.399 863.056 151.876 863.056 Q155.88 863.056 158.218 860.949 Q160.556 858.843 160.556 855.232 Q160.556 851.62 158.218 849.514 Q155.88 847.408 151.876 847.408 Q150.001 847.408 148.126 847.824 Q146.274 848.241 144.329 849.12 L144.329 831.759 Z\" fill=\"#000000\" fill-rule=\"evenodd\" fill-opacity=\"1\" /><path clip-path=\"url(#clip830)\" d=\"M184.445 834.838 Q180.834 834.838 179.005 838.403 Q177.2 841.945 177.2 849.074 Q177.2 856.181 179.005 859.745 Q180.834 863.287 184.445 863.287 Q188.079 863.287 189.885 859.745 Q191.713 856.181 191.713 849.074 Q191.713 841.945 189.885 838.403 Q188.079 834.838 184.445 834.838 M184.445 831.134 Q190.255 831.134 193.311 835.741 Q196.389 840.324 196.389 849.074 Q196.389 857.801 193.311 862.407 Q190.255 866.991 184.445 866.991 Q178.635 866.991 175.556 862.407 Q172.501 857.801 172.501 849.074 Q172.501 840.324 175.556 835.741 Q178.635 831.134 184.445 831.134 Z\" fill=\"#000000\" fill-rule=\"evenodd\" fill-opacity=\"1\" /><path clip-path=\"url(#clip830)\" d=\"M214.607 834.838 Q210.996 834.838 209.167 838.403 Q207.362 841.945 207.362 849.074 Q207.362 856.181 209.167 859.745 Q210.996 863.287 214.607 863.287 Q218.241 863.287 220.047 859.745 Q221.875 856.181 221.875 849.074 Q221.875 841.945 220.047 838.403 Q218.241 834.838 214.607 834.838 M214.607 831.134 Q220.417 831.134 223.473 835.741 Q226.551 840.324 226.551 849.074 Q226.551 857.801 223.473 862.407 Q220.417 866.991 214.607 866.991 Q208.797 866.991 205.718 862.407 Q202.662 857.801 202.662 849.074 Q202.662 840.324 205.718 835.741 Q208.797 831.134 214.607 831.134 Z\" fill=\"#000000\" fill-rule=\"evenodd\" fill-opacity=\"1\" /><path clip-path=\"url(#clip830)\" d=\"M244.769 834.838 Q241.158 834.838 239.329 838.403 Q237.523 841.945 237.523 849.074 Q237.523 856.181 239.329 859.745 Q241.158 863.287 244.769 863.287 Q248.403 863.287 250.209 859.745 Q252.037 856.181 252.037 849.074 Q252.037 841.945 250.209 838.403 Q248.403 834.838 244.769 834.838 M244.769 831.134 Q250.579 831.134 253.634 835.741 Q256.713 840.324 256.713 849.074 Q256.713 857.801 253.634 862.407 Q250.579 866.991 244.769 866.991 Q238.959 866.991 235.88 862.407 Q232.824 857.801 232.824 849.074 Q232.824 840.324 235.88 835.741 Q238.959 831.134 244.769 831.134 Z\" fill=\"#000000\" fill-rule=\"evenodd\" fill-opacity=\"1\" /><path clip-path=\"url(#clip830)\" d=\"M143.103 563.081 L165.325 563.081 L165.325 565.072 L152.778 597.641 L147.894 597.641 L159.7 567.017 L143.103 567.017 L143.103 563.081 Z\" fill=\"#000000\" fill-rule=\"evenodd\" fill-opacity=\"1\" /><path clip-path=\"url(#clip830)\" d=\"M174.491 563.081 L192.848 563.081 L192.848 567.017 L178.774 567.017 L178.774 575.489 Q179.792 575.141 180.811 574.979 Q181.829 574.794 182.848 574.794 Q188.635 574.794 192.014 577.966 Q195.394 581.137 195.394 586.553 Q195.394 592.132 191.922 595.234 Q188.45 598.313 182.13 598.313 Q179.954 598.313 177.686 597.942 Q175.44 597.572 173.033 596.831 L173.033 592.132 Q175.116 593.266 177.339 593.822 Q179.561 594.378 182.038 594.378 Q186.042 594.378 188.38 592.271 Q190.718 590.165 190.718 586.553 Q190.718 582.942 188.38 580.836 Q186.042 578.729 182.038 578.729 Q180.163 578.729 178.288 579.146 Q176.436 579.563 174.491 580.442 L174.491 563.081 Z\" fill=\"#000000\" fill-rule=\"evenodd\" fill-opacity=\"1\" /><path clip-path=\"url(#clip830)\" d=\"M214.607 566.16 Q210.996 566.16 209.167 569.725 Q207.362 573.267 207.362 580.396 Q207.362 587.503 209.167 591.067 Q210.996 594.609 214.607 594.609 Q218.241 594.609 220.047 591.067 Q221.875 587.503 221.875 580.396 Q221.875 573.267 220.047 569.725 Q218.241 566.16 214.607 566.16 M214.607 562.456 Q220.417 562.456 223.473 567.063 Q226.551 571.646 226.551 580.396 Q226.551 589.123 223.473 593.729 Q220.417 598.313 214.607 598.313 Q208.797 598.313 205.718 593.729 Q202.662 589.123 202.662 580.396 Q202.662 571.646 205.718 567.063 Q208.797 562.456 214.607 562.456 Z\" fill=\"#000000\" fill-rule=\"evenodd\" fill-opacity=\"1\" /><path clip-path=\"url(#clip830)\" d=\"M244.769 566.16 Q241.158 566.16 239.329 569.725 Q237.523 573.267 237.523 580.396 Q237.523 587.503 239.329 591.067 Q241.158 594.609 244.769 594.609 Q248.403 594.609 250.209 591.067 Q252.037 587.503 252.037 580.396 Q252.037 573.267 250.209 569.725 Q248.403 566.16 244.769 566.16 M244.769 562.456 Q250.579 562.456 253.634 567.063 Q256.713 571.646 256.713 580.396 Q256.713 589.123 253.634 593.729 Q250.579 598.313 244.769 598.313 Q238.959 598.313 235.88 593.729 Q232.824 589.123 232.824 580.396 Q232.824 571.646 235.88 567.063 Q238.959 562.456 244.769 562.456 Z\" fill=\"#000000\" fill-rule=\"evenodd\" fill-opacity=\"1\" /><path clip-path=\"url(#clip830)\" d=\"M114.931 325.028 L122.57 325.028 L122.57 298.663 L114.26 300.329 L114.26 296.07 L122.524 294.403 L127.2 294.403 L127.2 325.028 L134.839 325.028 L134.839 328.963 L114.931 328.963 L114.931 325.028 Z\" fill=\"#000000\" fill-rule=\"evenodd\" fill-opacity=\"1\" /><path clip-path=\"url(#clip830)\" d=\"M154.283 297.482 Q150.672 297.482 148.843 301.047 Q147.038 304.588 147.038 311.718 Q147.038 318.824 148.843 322.389 Q150.672 325.931 154.283 325.931 Q157.917 325.931 159.723 322.389 Q161.552 318.824 161.552 311.718 Q161.552 304.588 159.723 301.047 Q157.917 297.482 154.283 297.482 M154.283 293.778 Q160.093 293.778 163.149 298.385 Q166.227 302.968 166.227 311.718 Q166.227 320.445 163.149 325.051 Q160.093 329.635 154.283 329.635 Q148.473 329.635 145.394 325.051 Q142.339 320.445 142.339 311.718 Q142.339 302.968 145.394 298.385 Q148.473 293.778 154.283 293.778 Z\" fill=\"#000000\" fill-rule=\"evenodd\" fill-opacity=\"1\" /><path clip-path=\"url(#clip830)\" d=\"M184.445 297.482 Q180.834 297.482 179.005 301.047 Q177.2 304.588 177.2 311.718 Q177.2 318.824 179.005 322.389 Q180.834 325.931 184.445 325.931 Q188.079 325.931 189.885 322.389 Q191.713 318.824 191.713 311.718 Q191.713 304.588 189.885 301.047 Q188.079 297.482 184.445 297.482 M184.445 293.778 Q190.255 293.778 193.311 298.385 Q196.389 302.968 196.389 311.718 Q196.389 320.445 193.311 325.051 Q190.255 329.635 184.445 329.635 Q178.635 329.635 175.556 325.051 Q172.501 320.445 172.501 311.718 Q172.501 302.968 175.556 298.385 Q178.635 293.778 184.445 293.778 Z\" fill=\"#000000\" fill-rule=\"evenodd\" fill-opacity=\"1\" /><path clip-path=\"url(#clip830)\" d=\"M214.607 297.482 Q210.996 297.482 209.167 301.047 Q207.362 304.588 207.362 311.718 Q207.362 318.824 209.167 322.389 Q210.996 325.931 214.607 325.931 Q218.241 325.931 220.047 322.389 Q221.875 318.824 221.875 311.718 Q221.875 304.588 220.047 301.047 Q218.241 297.482 214.607 297.482 M214.607 293.778 Q220.417 293.778 223.473 298.385 Q226.551 302.968 226.551 311.718 Q226.551 320.445 223.473 325.051 Q220.417 329.635 214.607 329.635 Q208.797 329.635 205.718 325.051 Q202.662 320.445 202.662 311.718 Q202.662 302.968 205.718 298.385 Q208.797 293.778 214.607 293.778 Z\" fill=\"#000000\" fill-rule=\"evenodd\" fill-opacity=\"1\" /><path clip-path=\"url(#clip830)\" d=\"M244.769 297.482 Q241.158 297.482 239.329 301.047 Q237.523 304.588 237.523 311.718 Q237.523 318.824 239.329 322.389 Q241.158 325.931 244.769 325.931 Q248.403 325.931 250.209 322.389 Q252.037 318.824 252.037 311.718 Q252.037 304.588 250.209 301.047 Q248.403 297.482 244.769 297.482 M244.769 293.778 Q250.579 293.778 253.634 298.385 Q256.713 302.968 256.713 311.718 Q256.713 320.445 253.634 325.051 Q250.579 329.635 244.769 329.635 Q238.959 329.635 235.88 325.051 Q232.824 320.445 232.824 311.718 Q232.824 302.968 235.88 298.385 Q238.959 293.778 244.769 293.778 Z\" fill=\"#000000\" fill-rule=\"evenodd\" fill-opacity=\"1\" /><path clip-path=\"url(#clip830)\" d=\"M35.3266 933.264 L35.3266 942.526 L45.9574 945.2 L45.9574 935.874 L35.3266 933.264 M17.2162 938.039 L30.4251 941.349 L30.4251 932.055 L17.2162 928.713 L17.2162 923.62 L30.4251 926.899 L30.4251 916.968 L35.3266 916.968 L35.3266 928.14 L45.9574 930.75 L45.9574 920.628 L50.8271 920.628 L50.8271 931.991 L64.0042 935.301 L64.0042 940.394 L50.8271 937.116 L50.8271 946.441 L64.0042 949.72 L64.0042 954.844 L50.8271 951.534 L50.8271 961.56 L45.9574 961.56 L45.9574 950.356 L35.3266 947.683 L35.3266 957.931 L30.4251 957.931 L30.4251 946.441 L17.2162 943.195 L17.2162 938.039 Z\" fill=\"#000000\" fill-rule=\"evenodd\" fill-opacity=\"1\" /><path clip-path=\"url(#clip830)\" d=\"M28.3562 885.108 L28.3562 879.251 L64.0042 879.251 L64.0042 885.108 L28.3562 885.108 M14.479 885.108 L14.479 879.251 L21.895 879.251 L21.895 885.108 L14.479 885.108 Z\" fill=\"#000000\" fill-rule=\"evenodd\" fill-opacity=\"1\" /><path clip-path=\"url(#clip830)\" d=\"M18.2347 861.205 L28.3562 861.205 L28.3562 849.142 L32.9077 849.142 L32.9077 861.205 L52.2594 861.205 Q56.6199 861.205 57.8613 860.027 Q59.1026 858.817 59.1026 855.157 L59.1026 849.142 L64.0042 849.142 L64.0042 855.157 Q64.0042 861.937 61.4897 864.515 Q58.9434 867.093 52.2594 867.093 L32.9077 867.093 L32.9077 871.39 L28.3562 871.39 L28.3562 867.093 L18.2347 867.093 L18.2347 861.205 Z\" fill=\"#000000\" fill-rule=\"evenodd\" fill-opacity=\"1\" /><path clip-path=\"url(#clip830)\" d=\"M44.7161 810.947 L47.5806 810.947 L47.5806 837.874 Q53.6281 837.492 56.8109 834.246 Q59.9619 830.967 59.9619 825.143 Q59.9619 821.769 59.1344 818.618 Q58.3069 815.435 56.6518 812.316 L62.1899 812.316 Q63.5267 815.467 64.227 818.777 Q64.9272 822.087 64.9272 825.493 Q64.9272 834.023 59.9619 839.02 Q54.9967 843.985 46.5303 843.985 Q37.7774 843.985 32.6531 839.275 Q27.4968 834.532 27.4968 826.511 Q27.4968 819.318 32.1438 815.149 Q36.7589 810.947 44.7161 810.947 M42.9973 816.804 Q38.1912 816.867 35.3266 819.509 Q32.4621 822.119 32.4621 826.448 Q32.4621 831.349 35.2312 834.309 Q38.0002 837.238 43.0292 837.683 L42.9973 816.804 Z\" fill=\"#000000\" fill-rule=\"evenodd\" fill-opacity=\"1\" /><path clip-path=\"url(#clip830)\" d=\"M33.8307 780.678 Q33.2578 781.665 33.0032 782.843 Q32.7167 783.989 32.7167 785.389 Q32.7167 790.354 35.9632 793.028 Q39.1779 795.67 45.2253 795.67 L64.0042 795.67 L64.0042 801.558 L28.3562 801.558 L28.3562 795.67 L33.8944 795.67 Q30.6479 793.824 29.0883 790.864 Q27.4968 787.903 27.4968 783.67 Q27.4968 783.066 27.5923 782.333 Q27.656 781.601 27.8151 780.71 L33.8307 780.678 Z\" fill=\"#000000\" fill-rule=\"evenodd\" fill-opacity=\"1\" /><path clip-path=\"url(#clip830)\" d=\"M46.0847 758.335 Q46.0847 765.433 47.7079 768.17 Q49.3312 770.907 53.2461 770.907 Q56.3653 770.907 58.2114 768.87 Q60.0256 766.801 60.0256 763.268 Q60.0256 758.398 56.5881 755.47 Q53.1188 752.51 47.3897 752.51 L46.0847 752.51 L46.0847 758.335 M43.6657 746.654 L64.0042 746.654 L64.0042 752.51 L58.5933 752.51 Q61.8398 754.515 63.3994 757.507 Q64.9272 760.499 64.9272 764.828 Q64.9272 770.302 61.8716 773.549 Q58.7843 776.763 53.6281 776.763 Q47.6125 776.763 44.5569 772.753 Q41.5014 768.711 41.5014 760.722 L41.5014 752.51 L40.9285 752.51 Q36.8862 752.51 34.6901 755.184 Q32.4621 757.825 32.4621 762.632 Q32.4621 765.687 33.1941 768.584 Q33.9262 771.48 35.3903 774.154 L29.9795 774.154 Q28.7381 770.939 28.1334 767.915 Q27.4968 764.891 27.4968 762.027 Q27.4968 754.293 31.5072 750.473 Q35.5176 746.654 43.6657 746.654 Z\" fill=\"#000000\" fill-rule=\"evenodd\" fill-opacity=\"1\" /><path clip-path=\"url(#clip830)\" d=\"M18.2347 728.798 L28.3562 728.798 L28.3562 716.735 L32.9077 716.735 L32.9077 728.798 L52.2594 728.798 Q56.6199 728.798 57.8613 727.62 Q59.1026 726.411 59.1026 722.75 L59.1026 716.735 L64.0042 716.735 L64.0042 722.75 Q64.0042 729.53 61.4897 732.108 Q58.9434 734.686 52.2594 734.686 L32.9077 734.686 L32.9077 738.983 L28.3562 738.983 L28.3562 734.686 L18.2347 734.686 L18.2347 728.798 Z\" fill=\"#000000\" fill-rule=\"evenodd\" fill-opacity=\"1\" /><path clip-path=\"url(#clip830)\" d=\"M28.3562 709.032 L28.3562 703.176 L64.0042 703.176 L64.0042 709.032 L28.3562 709.032 M14.479 709.032 L14.479 703.176 L21.895 703.176 L21.895 709.032 L14.479 709.032 Z\" fill=\"#000000\" fill-rule=\"evenodd\" fill-opacity=\"1\" /><path clip-path=\"url(#clip830)\" d=\"M32.4621 677.108 Q32.4621 681.819 36.1542 684.556 Q39.8145 687.293 46.212 687.293 Q52.6095 687.293 56.3017 684.588 Q59.9619 681.851 59.9619 677.108 Q59.9619 672.43 56.2698 669.692 Q52.5777 666.955 46.212 666.955 Q39.8781 666.955 36.186 669.692 Q32.4621 672.43 32.4621 677.108 M27.4968 677.108 Q27.4968 669.469 32.4621 665.109 Q37.4273 660.748 46.212 660.748 Q54.9649 660.748 59.9619 665.109 Q64.9272 669.469 64.9272 677.108 Q64.9272 684.779 59.9619 689.14 Q54.9649 693.468 46.212 693.468 Q37.4273 693.468 32.4621 689.14 Q27.4968 684.779 27.4968 677.108 Z\" fill=\"#000000\" fill-rule=\"evenodd\" fill-opacity=\"1\" /><path clip-path=\"url(#clip830)\" d=\"M42.4881 621.408 L64.0042 621.408 L64.0042 627.265 L42.679 627.265 Q37.6183 627.265 35.1038 629.238 Q32.5894 631.212 32.5894 635.158 Q32.5894 639.901 35.6131 642.638 Q38.6368 645.375 43.8567 645.375 L64.0042 645.375 L64.0042 651.264 L28.3562 651.264 L28.3562 645.375 L33.8944 645.375 Q30.6797 643.275 29.0883 640.442 Q27.4968 637.577 27.4968 633.853 Q27.4968 627.71 31.3163 624.559 Q35.1038 621.408 42.4881 621.408 Z\" fill=\"#000000\" fill-rule=\"evenodd\" fill-opacity=\"1\" /><path clip-path=\"url(#clip830)\" d=\"M29.4065 587.002 L34.9447 587.002 Q33.6716 589.484 33.035 592.158 Q32.3984 594.832 32.3984 597.696 Q32.3984 602.057 33.7352 604.253 Q35.072 606.417 37.7456 606.417 Q39.7826 606.417 40.9603 604.858 Q42.1061 603.298 43.1565 598.587 L43.6021 596.582 Q44.9389 590.344 47.3897 587.734 Q49.8086 585.092 54.1691 585.092 Q59.1344 585.092 62.0308 589.039 Q64.9272 592.954 64.9272 599.829 Q64.9272 602.693 64.3543 605.812 Q63.8132 608.9 62.6992 612.337 L56.6518 612.337 Q58.3387 609.091 59.198 605.94 Q60.0256 602.789 60.0256 599.701 Q60.0256 595.564 58.6251 593.336 Q57.1929 591.108 54.6147 591.108 Q52.2276 591.108 50.9545 592.731 Q49.6813 594.322 48.5037 599.765 L48.0262 601.802 Q46.8804 607.245 44.5251 609.664 Q42.138 612.083 38.0002 612.083 Q32.9713 612.083 30.2341 608.518 Q27.4968 604.953 27.4968 598.396 Q27.4968 595.15 27.9743 592.285 Q28.4517 589.421 29.4065 587.002 Z\" fill=\"#000000\" fill-rule=\"evenodd\" fill-opacity=\"1\" /><path clip-path=\"url(#clip830)\" d=\"M898.99 12.096 L910.008 12.096 L936.825 62.6918 L936.825 12.096 L944.765 12.096 L944.765 72.576 L933.746 72.576 L906.929 21.9802 L906.929 72.576 L898.99 72.576 L898.99 12.096 Z\" fill=\"#000000\" fill-rule=\"evenodd\" fill-opacity=\"1\" /><path clip-path=\"url(#clip830)\" d=\"M959.956 54.671 L959.956 27.2059 L967.409 27.2059 L967.409 54.3874 Q967.409 60.8284 969.921 64.0691 Q972.433 67.2693 977.456 67.2693 Q983.492 67.2693 986.975 63.421 Q990.5 59.5726 990.5 52.9291 L990.5 27.2059 L997.953 27.2059 L997.953 72.576 L990.5 72.576 L990.5 65.6084 Q987.785 69.7404 984.18 71.7658 Q980.615 73.7508 975.876 73.7508 Q968.058 73.7508 964.007 68.8897 Q959.956 64.0286 959.956 54.671 M978.711 26.1121 L978.711 26.1121 Z\" fill=\"#000000\" fill-rule=\"evenodd\" fill-opacity=\"1\" /><path clip-path=\"url(#clip830)\" d=\"M1048.63 35.9153 Q1051.43 30.8922 1055.31 28.5022 Q1059.2 26.1121 1064.47 26.1121 Q1071.56 26.1121 1075.41 31.0947 Q1079.25 36.0368 1079.25 45.1919 L1079.25 72.576 L1071.76 72.576 L1071.76 45.4349 Q1071.76 38.913 1069.45 35.7533 Q1067.14 32.5936 1062.4 32.5936 Q1056.61 32.5936 1053.25 36.4419 Q1049.89 40.2903 1049.89 46.9338 L1049.89 72.576 L1042.39 72.576 L1042.39 45.4349 Q1042.39 38.8725 1040.08 35.7533 Q1037.77 32.5936 1032.95 32.5936 Q1027.24 32.5936 1023.88 36.4824 Q1020.52 40.3308 1020.52 46.9338 L1020.52 72.576 L1013.02 72.576 L1013.02 27.2059 L1020.52 27.2059 L1020.52 34.2544 Q1023.07 30.082 1026.63 28.0971 Q1030.2 26.1121 1035.1 26.1121 Q1040.04 26.1121 1043.49 28.6237 Q1046.97 31.1352 1048.63 35.9153 Z\" fill=\"#000000\" fill-rule=\"evenodd\" fill-opacity=\"1\" /><path clip-path=\"url(#clip830)\" d=\"M1126.69 49.9314 Q1126.69 41.7081 1123.29 37.0496 Q1119.93 32.3505 1114.01 32.3505 Q1108.1 32.3505 1104.69 37.0496 Q1101.33 41.7081 1101.33 49.9314 Q1101.33 58.1548 1104.69 62.8538 Q1108.1 67.5124 1114.01 67.5124 Q1119.93 67.5124 1123.29 62.8538 Q1126.69 58.1548 1126.69 49.9314 M1101.33 34.0924 Q1103.68 30.0415 1107.25 28.0971 Q1110.85 26.1121 1115.83 26.1121 Q1124.1 26.1121 1129.24 32.6746 Q1134.43 39.2371 1134.43 49.9314 Q1134.43 60.6258 1129.24 67.1883 Q1124.1 73.7508 1115.83 73.7508 Q1110.85 73.7508 1107.25 71.8063 Q1103.68 69.8214 1101.33 65.7705 L1101.33 72.576 L1093.84 72.576 L1093.84 9.54393 L1101.33 9.54393 L1101.33 34.0924 Z\" fill=\"#000000\" fill-rule=\"evenodd\" fill-opacity=\"1\" /><path clip-path=\"url(#clip830)\" d=\"M1185.59 48.0275 L1185.59 51.6733 L1151.32 51.6733 Q1151.81 59.3701 1155.94 63.421 Q1160.11 67.4314 1167.52 67.4314 Q1171.82 67.4314 1175.83 66.3781 Q1179.88 65.3249 1183.85 63.2184 L1183.85 70.267 Q1179.84 71.9684 1175.63 72.8596 Q1171.41 73.7508 1167.08 73.7508 Q1156.22 73.7508 1149.86 67.4314 Q1143.54 61.1119 1143.54 50.3365 Q1143.54 39.1965 1149.54 32.6746 Q1155.57 26.1121 1165.78 26.1121 Q1174.94 26.1121 1180.24 32.0264 Q1185.59 37.9003 1185.59 48.0275 M1178.14 45.84 Q1178.06 39.7232 1174.69 36.0774 Q1171.37 32.4315 1165.86 32.4315 Q1159.62 32.4315 1155.86 35.9558 Q1152.13 39.4801 1151.56 45.8805 L1178.14 45.84 Z\" fill=\"#000000\" fill-rule=\"evenodd\" fill-opacity=\"1\" /><path clip-path=\"url(#clip830)\" d=\"M1224.12 34.1734 Q1222.86 33.4443 1221.36 33.1202 Q1219.9 32.7556 1218.12 32.7556 Q1211.8 32.7556 1208.4 36.8875 Q1205.04 40.9789 1205.04 48.6757 L1205.04 72.576 L1197.54 72.576 L1197.54 27.2059 L1205.04 27.2059 L1205.04 34.2544 Q1207.39 30.1225 1211.15 28.1376 Q1214.92 26.1121 1220.31 26.1121 Q1221.08 26.1121 1222.01 26.2337 Q1222.94 26.3147 1224.07 26.5172 L1224.12 34.1734 Z\" fill=\"#000000\" fill-rule=\"evenodd\" fill-opacity=\"1\" /><path clip-path=\"url(#clip830)\" d=\"M1275.89 32.4315 Q1269.89 32.4315 1266.41 37.1306 Q1262.92 41.7891 1262.92 49.9314 Q1262.92 58.0738 1266.37 62.7728 Q1269.85 67.4314 1275.89 67.4314 Q1281.84 67.4314 1285.32 62.7323 Q1288.81 58.0333 1288.81 49.9314 Q1288.81 41.8701 1285.32 37.1711 Q1281.84 32.4315 1275.89 32.4315 M1275.89 26.1121 Q1285.61 26.1121 1291.16 32.4315 Q1296.71 38.7509 1296.71 49.9314 Q1296.71 61.0714 1291.16 67.4314 Q1285.61 73.7508 1275.89 73.7508 Q1266.12 73.7508 1260.57 67.4314 Q1255.06 61.0714 1255.06 49.9314 Q1255.06 38.7509 1260.57 32.4315 Q1266.12 26.1121 1275.89 26.1121 Z\" fill=\"#000000\" fill-rule=\"evenodd\" fill-opacity=\"1\" /><path clip-path=\"url(#clip830)\" d=\"M1332.03 9.54393 L1332.03 15.7418 L1324.9 15.7418 Q1320.89 15.7418 1319.31 17.3622 Q1317.77 18.9825 1317.77 23.1955 L1317.77 27.2059 L1330.05 27.2059 L1330.05 32.9987 L1317.77 32.9987 L1317.77 72.576 L1310.28 72.576 L1310.28 32.9987 L1303.15 32.9987 L1303.15 27.2059 L1310.28 27.2059 L1310.28 24.0462 Q1310.28 16.471 1313.8 13.0277 Q1317.33 9.54393 1324.98 9.54393 L1332.03 9.54393 Z\" fill=\"#000000\" fill-rule=\"evenodd\" fill-opacity=\"1\" /><path clip-path=\"url(#clip830)\" d=\"M1364.64 27.2059 L1372.09 27.2059 L1372.09 72.576 L1364.64 72.576 L1364.64 27.2059 M1364.64 9.54393 L1372.09 9.54393 L1372.09 18.9825 L1364.64 18.9825 L1364.64 9.54393 Z\" fill=\"#000000\" fill-rule=\"evenodd\" fill-opacity=\"1\" /><path clip-path=\"url(#clip830)\" d=\"M1395.06 14.324 L1395.06 27.2059 L1410.42 27.2059 L1410.42 32.9987 L1395.06 32.9987 L1395.06 57.6282 Q1395.06 63.1779 1396.56 64.7578 Q1398.1 66.3376 1402.76 66.3376 L1410.42 66.3376 L1410.42 72.576 L1402.76 72.576 Q1394.13 72.576 1390.85 69.3758 Q1387.57 66.1351 1387.57 57.6282 L1387.57 32.9987 L1382.1 32.9987 L1382.1 27.2059 L1387.57 27.2059 L1387.57 14.324 L1395.06 14.324 Z\" fill=\"#000000\" fill-rule=\"evenodd\" fill-opacity=\"1\" /><path clip-path=\"url(#clip830)\" d=\"M1459.03 48.0275 L1459.03 51.6733 L1424.76 51.6733 Q1425.24 59.3701 1429.37 63.421 Q1433.55 67.4314 1440.96 67.4314 Q1445.25 67.4314 1449.26 66.3781 Q1453.32 65.3249 1457.29 63.2184 L1457.29 70.267 Q1453.27 71.9684 1449.06 72.8596 Q1444.85 73.7508 1440.51 73.7508 Q1429.66 73.7508 1423.3 67.4314 Q1416.98 61.1119 1416.98 50.3365 Q1416.98 39.1965 1422.97 32.6746 Q1429.01 26.1121 1439.22 26.1121 Q1448.37 26.1121 1453.68 32.0264 Q1459.03 37.9003 1459.03 48.0275 M1451.57 45.84 Q1451.49 39.7232 1448.13 36.0774 Q1444.81 32.4315 1439.3 32.4315 Q1433.06 32.4315 1429.29 35.9558 Q1425.57 39.4801 1425 45.8805 L1451.57 45.84 Z\" fill=\"#000000\" fill-rule=\"evenodd\" fill-opacity=\"1\" /><path clip-path=\"url(#clip830)\" d=\"M1497.55 34.1734 Q1496.3 33.4443 1494.8 33.1202 Q1493.34 32.7556 1491.56 32.7556 Q1485.24 32.7556 1481.83 36.8875 Q1478.47 40.9789 1478.47 48.6757 L1478.47 72.576 L1470.98 72.576 L1470.98 27.2059 L1478.47 27.2059 L1478.47 34.2544 Q1480.82 30.1225 1484.59 28.1376 Q1488.36 26.1121 1493.74 26.1121 Q1494.51 26.1121 1495.44 26.2337 Q1496.38 26.3147 1497.51 26.5172 L1497.55 34.1734 Z\" fill=\"#000000\" fill-rule=\"evenodd\" fill-opacity=\"1\" /><path clip-path=\"url(#clip830)\" d=\"M1525.99 49.7694 Q1516.96 49.7694 1513.47 51.8354 Q1509.99 53.9013 1509.99 58.8839 Q1509.99 62.8538 1512.58 65.2034 Q1515.21 67.5124 1519.71 67.5124 Q1525.91 67.5124 1529.63 63.1374 Q1533.4 58.7219 1533.4 51.4303 L1533.4 49.7694 L1525.99 49.7694 M1540.86 46.6907 L1540.86 72.576 L1533.4 72.576 L1533.4 65.6895 Q1530.85 69.8214 1527.04 71.8063 Q1523.23 73.7508 1517.72 73.7508 Q1510.76 73.7508 1506.63 69.8619 Q1502.53 65.9325 1502.53 59.3701 Q1502.53 51.7138 1507.64 47.825 Q1512.78 43.9361 1522.95 43.9361 L1533.4 43.9361 L1533.4 43.2069 Q1533.4 38.0623 1530 35.2672 Q1526.64 32.4315 1520.52 32.4315 Q1516.63 32.4315 1512.94 33.3632 Q1509.26 34.295 1505.86 36.1584 L1505.86 29.2718 Q1509.95 27.692 1513.8 26.9223 Q1517.64 26.1121 1521.29 26.1121 Q1531.13 26.1121 1535.99 31.2163 Q1540.86 36.3204 1540.86 46.6907 Z\" fill=\"#000000\" fill-rule=\"evenodd\" fill-opacity=\"1\" /><path clip-path=\"url(#clip830)\" d=\"M1563.58 14.324 L1563.58 27.2059 L1578.93 27.2059 L1578.93 32.9987 L1563.58 32.9987 L1563.58 57.6282 Q1563.58 63.1779 1565.08 64.7578 Q1566.62 66.3376 1571.28 66.3376 L1578.93 66.3376 L1578.93 72.576 L1571.28 72.576 Q1562.65 72.576 1559.37 69.3758 Q1556.09 66.1351 1556.09 57.6282 L1556.09 32.9987 L1550.62 32.9987 L1550.62 27.2059 L1556.09 27.2059 L1556.09 14.324 L1563.58 14.324 Z\" fill=\"#000000\" fill-rule=\"evenodd\" fill-opacity=\"1\" /><path clip-path=\"url(#clip830)\" d=\"M1588.74 27.2059 L1596.19 27.2059 L1596.19 72.576 L1588.74 72.576 L1588.74 27.2059 M1588.74 9.54393 L1596.19 9.54393 L1596.19 18.9825 L1588.74 18.9825 L1588.74 9.54393 Z\" fill=\"#000000\" fill-rule=\"evenodd\" fill-opacity=\"1\" /><path clip-path=\"url(#clip830)\" d=\"M1629.37 32.4315 Q1623.37 32.4315 1619.89 37.1306 Q1616.4 41.7891 1616.4 49.9314 Q1616.4 58.0738 1619.85 62.7728 Q1623.33 67.4314 1629.37 67.4314 Q1635.32 67.4314 1638.81 62.7323 Q1642.29 58.0333 1642.29 49.9314 Q1642.29 41.8701 1638.81 37.1711 Q1635.32 32.4315 1629.37 32.4315 M1629.37 26.1121 Q1639.09 26.1121 1644.64 32.4315 Q1650.19 38.7509 1650.19 49.9314 Q1650.19 61.0714 1644.64 67.4314 Q1639.09 73.7508 1629.37 73.7508 Q1619.61 73.7508 1614.06 67.4314 Q1608.55 61.0714 1608.55 49.9314 Q1608.55 38.7509 1614.06 32.4315 Q1619.61 26.1121 1629.37 26.1121 Z\" fill=\"#000000\" fill-rule=\"evenodd\" fill-opacity=\"1\" /><path clip-path=\"url(#clip830)\" d=\"M1700.26 45.1919 L1700.26 72.576 L1692.8 72.576 L1692.8 45.4349 Q1692.8 38.994 1690.29 35.7938 Q1687.78 32.5936 1682.76 32.5936 Q1676.72 32.5936 1673.24 36.4419 Q1669.76 40.2903 1669.76 46.9338 L1669.76 72.576 L1662.26 72.576 L1662.26 27.2059 L1669.76 27.2059 L1669.76 34.2544 Q1672.43 30.163 1676.03 28.1376 Q1679.68 26.1121 1684.42 26.1121 Q1692.24 26.1121 1696.25 30.9732 Q1700.26 35.7938 1700.26 45.1919 Z\" fill=\"#000000\" fill-rule=\"evenodd\" fill-opacity=\"1\" /><path clip-path=\"url(#clip830)\" d=\"M1744.05 28.5427 L1744.05 35.5912 Q1740.89 33.9709 1737.49 33.1607 Q1734.08 32.3505 1730.44 32.3505 Q1724.89 32.3505 1722.09 34.0519 Q1719.34 35.7533 1719.34 39.156 Q1719.34 41.7486 1721.32 43.2475 Q1723.31 44.7058 1729.3 46.0426 L1731.86 46.6097 Q1739.8 48.3111 1743.12 51.4303 Q1746.48 54.509 1746.48 60.0587 Q1746.48 66.3781 1741.46 70.0644 Q1736.47 73.7508 1727.72 73.7508 Q1724.08 73.7508 1720.11 73.0216 Q1716.18 72.3329 1711.8 70.9151 L1711.8 63.2184 Q1715.94 65.3654 1719.95 66.4591 Q1723.96 67.5124 1727.89 67.5124 Q1733.15 67.5124 1735.99 65.73 Q1738.82 63.9071 1738.82 60.6258 Q1738.82 57.5877 1736.76 55.9673 Q1734.73 54.3469 1727.8 52.8481 L1725.21 52.2405 Q1718.29 50.7821 1715.21 47.7845 Q1712.13 44.7463 1712.13 39.4801 Q1712.13 33.0797 1716.66 29.5959 Q1721.2 26.1121 1729.55 26.1121 Q1733.68 26.1121 1737.32 26.7198 Q1740.97 27.3274 1744.05 28.5427 Z\" fill=\"#000000\" fill-rule=\"evenodd\" fill-opacity=\"1\" /><path clip-path=\"url(#clip832)\" d=\"\n",
       "M406.019 269.125 L406.019 1386.4 L658.906 1386.4 L658.906 269.125 L406.019 269.125 L406.019 269.125  Z\n",
       "  \" fill=\"#009af9\" fill-rule=\"evenodd\" fill-opacity=\"1\"/>\n",
       "<polyline clip-path=\"url(#clip832)\" style=\"stroke:#000000; stroke-linecap:butt; stroke-linejoin:round; stroke-width:4; stroke-opacity:1; fill:none\" points=\"\n",
       "  406.019,269.125 406.019,1386.4 658.906,1386.4 658.906,269.125 406.019,269.125 \n",
       "  \"/>\n",
       "<path clip-path=\"url(#clip832)\" d=\"\n",
       "M722.128 445.7 L722.128 1386.4 L975.015 1386.4 L975.015 445.7 L722.128 445.7 L722.128 445.7  Z\n",
       "  \" fill=\"#009af9\" fill-rule=\"evenodd\" fill-opacity=\"1\"/>\n",
       "<polyline clip-path=\"url(#clip832)\" style=\"stroke:#000000; stroke-linecap:butt; stroke-linejoin:round; stroke-width:4; stroke-opacity:1; fill:none\" points=\"\n",
       "  722.128,445.7 722.128,1386.4 975.015,1386.4 975.015,445.7 722.128,445.7 \n",
       "  \"/>\n",
       "<path clip-path=\"url(#clip832)\" d=\"\n",
       "M1038.24 287.072 L1038.24 1386.4 L1291.12 1386.4 L1291.12 287.072 L1038.24 287.072 L1038.24 287.072  Z\n",
       "  \" fill=\"#009af9\" fill-rule=\"evenodd\" fill-opacity=\"1\"/>\n",
       "<polyline clip-path=\"url(#clip832)\" style=\"stroke:#000000; stroke-linecap:butt; stroke-linejoin:round; stroke-width:4; stroke-opacity:1; fill:none\" points=\"\n",
       "  1038.24,287.072 1038.24,1386.4 1291.12,1386.4 1291.12,287.072 1038.24,287.072 \n",
       "  \"/>\n",
       "<path clip-path=\"url(#clip832)\" d=\"\n",
       "M1354.35 160.256 L1354.35 1386.4 L1607.23 1386.4 L1607.23 160.256 L1354.35 160.256 L1354.35 160.256  Z\n",
       "  \" fill=\"#009af9\" fill-rule=\"evenodd\" fill-opacity=\"1\"/>\n",
       "<polyline clip-path=\"url(#clip832)\" style=\"stroke:#000000; stroke-linecap:butt; stroke-linejoin:round; stroke-width:4; stroke-opacity:1; fill:none\" points=\"\n",
       "  1354.35,160.256 1354.35,1386.4 1607.23,1386.4 1607.23,160.256 1354.35,160.256 \n",
       "  \"/>\n",
       "<path clip-path=\"url(#clip832)\" d=\"\n",
       "M1670.45 459.671 L1670.45 1386.4 L1923.34 1386.4 L1923.34 459.671 L1670.45 459.671 L1670.45 459.671  Z\n",
       "  \" fill=\"#009af9\" fill-rule=\"evenodd\" fill-opacity=\"1\"/>\n",
       "<polyline clip-path=\"url(#clip832)\" style=\"stroke:#000000; stroke-linecap:butt; stroke-linejoin:round; stroke-width:4; stroke-opacity:1; fill:none\" points=\"\n",
       "  1670.45,459.671 1670.45,1386.4 1923.34,1386.4 1923.34,459.671 1670.45,459.671 \n",
       "  \"/>\n",
       "<path clip-path=\"url(#clip832)\" d=\"\n",
       "M1986.56 248.275 L1986.56 1386.4 L2239.45 1386.4 L2239.45 248.275 L1986.56 248.275 L1986.56 248.275  Z\n",
       "  \" fill=\"#009af9\" fill-rule=\"evenodd\" fill-opacity=\"1\"/>\n",
       "<polyline clip-path=\"url(#clip832)\" style=\"stroke:#000000; stroke-linecap:butt; stroke-linejoin:round; stroke-width:4; stroke-opacity:1; fill:none\" points=\"\n",
       "  1986.56,248.275 1986.56,1386.4 2239.45,1386.4 2239.45,248.275 1986.56,248.275 \n",
       "  \"/>\n",
       "<circle clip-path=\"url(#clip832)\" style=\"fill:#009af9; stroke:none; fill-opacity:0\" cx=\"532.463\" cy=\"269.125\" r=\"2\"/>\n",
       "<circle clip-path=\"url(#clip832)\" style=\"fill:#009af9; stroke:none; fill-opacity:0\" cx=\"848.571\" cy=\"445.7\" r=\"2\"/>\n",
       "<circle clip-path=\"url(#clip832)\" style=\"fill:#009af9; stroke:none; fill-opacity:0\" cx=\"1164.68\" cy=\"287.072\" r=\"2\"/>\n",
       "<circle clip-path=\"url(#clip832)\" style=\"fill:#009af9; stroke:none; fill-opacity:0\" cx=\"1480.79\" cy=\"160.256\" r=\"2\"/>\n",
       "<circle clip-path=\"url(#clip832)\" style=\"fill:#009af9; stroke:none; fill-opacity:0\" cx=\"1796.9\" cy=\"459.671\" r=\"2\"/>\n",
       "<circle clip-path=\"url(#clip832)\" style=\"fill:#009af9; stroke:none; fill-opacity:0\" cx=\"2113.01\" cy=\"248.275\" r=\"2\"/>\n",
       "</svg>\n"
      ]
     },
     "metadata": {},
     "output_type": "display_data"
    },
    {
     "data": {
      "image/svg+xml": [
       "<?xml version=\"1.0\" encoding=\"utf-8\"?>\n",
       "<svg xmlns=\"http://www.w3.org/2000/svg\" xmlns:xlink=\"http://www.w3.org/1999/xlink\" width=\"600\" height=\"400\" viewBox=\"0 0 2400 1600\">\n",
       "<defs>\n",
       "  <clipPath id=\"clip870\">\n",
       "    <rect x=\"0\" y=\"0\" width=\"2400\" height=\"1600\"/>\n",
       "  </clipPath>\n",
       "</defs>\n",
       "<path clip-path=\"url(#clip870)\" d=\"\n",
       "M0 1600 L2400 1600 L2400 0 L0 0  Z\n",
       "  \" fill=\"#ffffff\" fill-rule=\"evenodd\" fill-opacity=\"1\"/>\n",
       "<defs>\n",
       "  <clipPath id=\"clip871\">\n",
       "    <rect x=\"480\" y=\"0\" width=\"1681\" height=\"1600\"/>\n",
       "  </clipPath>\n",
       "</defs>\n",
       "<path clip-path=\"url(#clip870)\" d=\"\n",
       "M338.338 1423.18 L2352.76 1423.18 L2352.76 123.472 L338.338 123.472  Z\n",
       "  \" fill=\"#ffffff\" fill-rule=\"evenodd\" fill-opacity=\"1\"/>\n",
       "<defs>\n",
       "  <clipPath id=\"clip872\">\n",
       "    <rect x=\"338\" y=\"123\" width=\"2015\" height=\"1301\"/>\n",
       "  </clipPath>\n",
       "</defs>\n",
       "<polyline clip-path=\"url(#clip872)\" style=\"stroke:#000000; stroke-linecap:butt; stroke-linejoin:round; stroke-width:2; stroke-opacity:0.1; fill:none\" points=\"\n",
       "  572.778,1423.18 572.778,123.472 \n",
       "  \"/>\n",
       "<polyline clip-path=\"url(#clip872)\" style=\"stroke:#000000; stroke-linecap:butt; stroke-linejoin:round; stroke-width:2; stroke-opacity:0.1; fill:none\" points=\"\n",
       "  881.885,1423.18 881.885,123.472 \n",
       "  \"/>\n",
       "<polyline clip-path=\"url(#clip872)\" style=\"stroke:#000000; stroke-linecap:butt; stroke-linejoin:round; stroke-width:2; stroke-opacity:0.1; fill:none\" points=\"\n",
       "  1190.99,1423.18 1190.99,123.472 \n",
       "  \"/>\n",
       "<polyline clip-path=\"url(#clip872)\" style=\"stroke:#000000; stroke-linecap:butt; stroke-linejoin:round; stroke-width:2; stroke-opacity:0.1; fill:none\" points=\"\n",
       "  1500.1,1423.18 1500.1,123.472 \n",
       "  \"/>\n",
       "<polyline clip-path=\"url(#clip872)\" style=\"stroke:#000000; stroke-linecap:butt; stroke-linejoin:round; stroke-width:2; stroke-opacity:0.1; fill:none\" points=\"\n",
       "  1809.21,1423.18 1809.21,123.472 \n",
       "  \"/>\n",
       "<polyline clip-path=\"url(#clip872)\" style=\"stroke:#000000; stroke-linecap:butt; stroke-linejoin:round; stroke-width:2; stroke-opacity:0.1; fill:none\" points=\"\n",
       "  2118.32,1423.18 2118.32,123.472 \n",
       "  \"/>\n",
       "<polyline clip-path=\"url(#clip870)\" style=\"stroke:#000000; stroke-linecap:butt; stroke-linejoin:round; stroke-width:4; stroke-opacity:1; fill:none\" points=\"\n",
       "  338.338,1423.18 2352.76,1423.18 \n",
       "  \"/>\n",
       "<polyline clip-path=\"url(#clip870)\" style=\"stroke:#000000; stroke-linecap:butt; stroke-linejoin:round; stroke-width:4; stroke-opacity:1; fill:none\" points=\"\n",
       "  572.778,1423.18 572.778,1404.28 \n",
       "  \"/>\n",
       "<polyline clip-path=\"url(#clip870)\" style=\"stroke:#000000; stroke-linecap:butt; stroke-linejoin:round; stroke-width:4; stroke-opacity:1; fill:none\" points=\"\n",
       "  881.885,1423.18 881.885,1404.28 \n",
       "  \"/>\n",
       "<polyline clip-path=\"url(#clip870)\" style=\"stroke:#000000; stroke-linecap:butt; stroke-linejoin:round; stroke-width:4; stroke-opacity:1; fill:none\" points=\"\n",
       "  1190.99,1423.18 1190.99,1404.28 \n",
       "  \"/>\n",
       "<polyline clip-path=\"url(#clip870)\" style=\"stroke:#000000; stroke-linecap:butt; stroke-linejoin:round; stroke-width:4; stroke-opacity:1; fill:none\" points=\"\n",
       "  1500.1,1423.18 1500.1,1404.28 \n",
       "  \"/>\n",
       "<polyline clip-path=\"url(#clip870)\" style=\"stroke:#000000; stroke-linecap:butt; stroke-linejoin:round; stroke-width:4; stroke-opacity:1; fill:none\" points=\"\n",
       "  1809.21,1423.18 1809.21,1404.28 \n",
       "  \"/>\n",
       "<polyline clip-path=\"url(#clip870)\" style=\"stroke:#000000; stroke-linecap:butt; stroke-linejoin:round; stroke-width:4; stroke-opacity:1; fill:none\" points=\"\n",
       "  2118.32,1423.18 2118.32,1404.28 \n",
       "  \"/>\n",
       "<path clip-path=\"url(#clip870)\" d=\"M563.16 1481.64 L570.798 1481.64 L570.798 1455.28 L562.488 1456.95 L562.488 1452.69 L570.752 1451.02 L575.428 1451.02 L575.428 1481.64 L583.067 1481.64 L583.067 1485.58 L563.16 1485.58 L563.16 1481.64 Z\" fill=\"#000000\" fill-rule=\"evenodd\" fill-opacity=\"1\" /><path clip-path=\"url(#clip870)\" d=\"M876.538 1481.64 L892.857 1481.64 L892.857 1485.58 L870.913 1485.58 L870.913 1481.64 Q873.575 1478.89 878.158 1474.26 Q882.765 1469.61 883.945 1468.27 Q886.191 1465.74 887.07 1464.01 Q887.973 1462.25 887.973 1460.56 Q887.973 1457.8 886.029 1456.07 Q884.107 1454.33 881.006 1454.33 Q878.807 1454.33 876.353 1455.09 Q873.922 1455.86 871.145 1457.41 L871.145 1452.69 Q873.969 1451.55 876.422 1450.97 Q878.876 1450.39 880.913 1450.39 Q886.283 1450.39 889.478 1453.08 Q892.672 1455.77 892.672 1460.26 Q892.672 1462.39 891.862 1464.31 Q891.075 1466.2 888.969 1468.8 Q888.39 1469.47 885.288 1472.69 Q882.186 1475.88 876.538 1481.64 Z\" fill=\"#000000\" fill-rule=\"evenodd\" fill-opacity=\"1\" /><path clip-path=\"url(#clip870)\" d=\"M1195.24 1466.95 Q1198.6 1467.66 1200.47 1469.93 Q1202.37 1472.2 1202.37 1475.53 Q1202.37 1480.65 1198.85 1483.45 Q1195.33 1486.25 1188.85 1486.25 Q1186.68 1486.25 1184.36 1485.81 Q1182.07 1485.39 1179.62 1484.54 L1179.62 1480.02 Q1181.56 1481.16 1183.87 1481.74 Q1186.19 1482.32 1188.71 1482.32 Q1193.11 1482.32 1195.4 1480.58 Q1197.72 1478.84 1197.72 1475.53 Q1197.72 1472.48 1195.56 1470.77 Q1193.44 1469.03 1189.62 1469.03 L1185.59 1469.03 L1185.59 1465.19 L1189.8 1465.19 Q1193.25 1465.19 1195.08 1463.82 Q1196.91 1462.43 1196.91 1459.84 Q1196.91 1457.18 1195.01 1455.77 Q1193.13 1454.33 1189.62 1454.33 Q1187.69 1454.33 1185.5 1454.75 Q1183.3 1455.16 1180.66 1456.04 L1180.66 1451.88 Q1183.32 1451.14 1185.63 1450.77 Q1187.97 1450.39 1190.03 1450.39 Q1195.36 1450.39 1198.46 1452.83 Q1201.56 1455.23 1201.56 1459.35 Q1201.56 1462.22 1199.92 1464.21 Q1198.27 1466.18 1195.24 1466.95 Z\" fill=\"#000000\" fill-rule=\"evenodd\" fill-opacity=\"1\" /><path clip-path=\"url(#clip870)\" d=\"M1503.11 1455.09 L1491.3 1473.54 L1503.11 1473.54 L1503.11 1455.09 M1501.88 1451.02 L1507.76 1451.02 L1507.76 1473.54 L1512.69 1473.54 L1512.69 1477.43 L1507.76 1477.43 L1507.76 1485.58 L1503.11 1485.58 L1503.11 1477.43 L1487.51 1477.43 L1487.51 1472.92 L1501.88 1451.02 Z\" fill=\"#000000\" fill-rule=\"evenodd\" fill-opacity=\"1\" /><path clip-path=\"url(#clip870)\" d=\"M1799.49 1451.02 L1817.84 1451.02 L1817.84 1454.96 L1803.77 1454.96 L1803.77 1463.43 Q1804.79 1463.08 1805.81 1462.92 Q1806.82 1462.73 1807.84 1462.73 Q1813.63 1462.73 1817.01 1465.9 Q1820.39 1469.08 1820.39 1474.49 Q1820.39 1480.07 1816.92 1483.17 Q1813.44 1486.25 1807.13 1486.25 Q1804.95 1486.25 1802.68 1485.88 Q1800.44 1485.51 1798.03 1484.77 L1798.03 1480.07 Q1800.11 1481.2 1802.33 1481.76 Q1804.56 1482.32 1807.03 1482.32 Q1811.04 1482.32 1813.38 1480.21 Q1815.71 1478.1 1815.71 1474.49 Q1815.71 1470.88 1813.38 1468.77 Q1811.04 1466.67 1807.03 1466.67 Q1805.16 1466.67 1803.28 1467.08 Q1801.43 1467.5 1799.49 1468.38 L1799.49 1451.02 Z\" fill=\"#000000\" fill-rule=\"evenodd\" fill-opacity=\"1\" /><path clip-path=\"url(#clip870)\" d=\"M2118.72 1466.44 Q2115.57 1466.44 2113.72 1468.59 Q2111.89 1470.74 2111.89 1474.49 Q2111.89 1478.22 2113.72 1480.39 Q2115.57 1482.55 2118.72 1482.55 Q2121.87 1482.55 2123.7 1480.39 Q2125.55 1478.22 2125.55 1474.49 Q2125.55 1470.74 2123.7 1468.59 Q2121.87 1466.44 2118.72 1466.44 M2128 1451.78 L2128 1456.04 Q2126.24 1455.21 2124.44 1454.77 Q2122.66 1454.33 2120.9 1454.33 Q2116.27 1454.33 2113.81 1457.45 Q2111.38 1460.58 2111.04 1466.9 Q2112.4 1464.89 2114.46 1463.82 Q2116.52 1462.73 2119 1462.73 Q2124.21 1462.73 2127.22 1465.9 Q2130.25 1469.05 2130.25 1474.49 Q2130.25 1479.82 2127.1 1483.03 Q2123.95 1486.25 2118.72 1486.25 Q2112.73 1486.25 2109.55 1481.67 Q2106.38 1477.06 2106.38 1468.33 Q2106.38 1460.14 2110.27 1455.28 Q2114.16 1450.39 2120.71 1450.39 Q2122.47 1450.39 2124.25 1450.74 Q2126.06 1451.09 2128 1451.78 Z\" fill=\"#000000\" fill-rule=\"evenodd\" fill-opacity=\"1\" /><path clip-path=\"url(#clip870)\" d=\"M1222.99 1522.27 L1222.99 1532.4 L1235.05 1532.4 L1235.05 1536.95 L1222.99 1536.95 L1222.99 1556.3 Q1222.99 1560.66 1224.17 1561.9 Q1225.38 1563.14 1229.04 1563.14 L1235.05 1563.14 L1235.05 1568.04 L1229.04 1568.04 Q1222.26 1568.04 1219.68 1565.53 Q1217.1 1562.98 1217.1 1556.3 L1217.1 1536.95 L1212.81 1536.95 L1212.81 1532.4 L1217.1 1532.4 L1217.1 1522.27 L1222.99 1522.27 Z\" fill=\"#000000\" fill-rule=\"evenodd\" fill-opacity=\"1\" /><path clip-path=\"url(#clip870)\" d=\"M1272.39 1546.53 L1272.39 1568.04 L1266.53 1568.04 L1266.53 1546.72 Q1266.53 1541.66 1264.56 1539.14 Q1262.59 1536.63 1258.64 1536.63 Q1253.9 1536.63 1251.16 1539.65 Q1248.42 1542.68 1248.42 1547.9 L1248.42 1568.04 L1242.53 1568.04 L1242.53 1518.52 L1248.42 1518.52 L1248.42 1537.93 Q1250.52 1534.72 1253.36 1533.13 Q1256.22 1531.54 1259.94 1531.54 Q1266.09 1531.54 1269.24 1535.36 Q1272.39 1539.14 1272.39 1546.53 Z\" fill=\"#000000\" fill-rule=\"evenodd\" fill-opacity=\"1\" /><path clip-path=\"url(#clip870)\" d=\"M1304.73 1537.87 Q1303.74 1537.3 1302.56 1537.04 Q1301.42 1536.76 1300.02 1536.76 Q1295.05 1536.76 1292.38 1540 Q1289.74 1543.22 1289.74 1549.27 L1289.74 1568.04 L1283.85 1568.04 L1283.85 1532.4 L1289.74 1532.4 L1289.74 1537.93 Q1291.58 1534.69 1294.54 1533.13 Q1297.5 1531.54 1301.73 1531.54 Q1302.34 1531.54 1303.07 1531.63 Q1303.8 1531.7 1304.69 1531.85 L1304.73 1537.87 Z\" fill=\"#000000\" fill-rule=\"evenodd\" fill-opacity=\"1\" /><path clip-path=\"url(#clip870)\" d=\"M1339.93 1548.76 L1339.93 1551.62 L1313 1551.62 Q1313.38 1557.67 1316.63 1560.85 Q1319.91 1564 1325.73 1564 Q1329.11 1564 1332.26 1563.17 Q1335.44 1562.35 1338.56 1560.69 L1338.56 1566.23 Q1335.41 1567.57 1332.1 1568.27 Q1328.79 1568.97 1325.38 1568.97 Q1316.85 1568.97 1311.86 1564 Q1306.89 1559.04 1306.89 1550.57 Q1306.89 1541.82 1311.6 1536.69 Q1316.34 1531.54 1324.36 1531.54 Q1331.56 1531.54 1335.73 1536.18 Q1339.93 1540.8 1339.93 1548.76 M1334.07 1547.04 Q1334.01 1542.23 1331.37 1539.37 Q1328.76 1536.5 1324.43 1536.5 Q1319.53 1536.5 1316.57 1539.27 Q1313.64 1542.04 1313.19 1547.07 L1334.07 1547.04 Z\" fill=\"#000000\" fill-rule=\"evenodd\" fill-opacity=\"1\" /><path clip-path=\"url(#clip870)\" d=\"M1365.74 1550.12 Q1358.64 1550.12 1355.91 1551.75 Q1353.17 1553.37 1353.17 1557.29 Q1353.17 1560.4 1355.21 1562.25 Q1357.28 1564.07 1360.81 1564.07 Q1365.68 1564.07 1368.61 1560.63 Q1371.57 1557.16 1371.57 1551.43 L1371.57 1550.12 L1365.74 1550.12 M1377.42 1547.71 L1377.42 1568.04 L1371.57 1568.04 L1371.57 1562.63 Q1369.56 1565.88 1366.57 1567.44 Q1363.58 1568.97 1359.25 1568.97 Q1353.77 1568.97 1350.53 1565.91 Q1347.31 1562.82 1347.31 1557.67 Q1347.31 1551.65 1351.32 1548.6 Q1355.37 1545.54 1363.35 1545.54 L1371.57 1545.54 L1371.57 1544.97 Q1371.57 1540.93 1368.89 1538.73 Q1366.25 1536.5 1361.45 1536.5 Q1358.39 1536.5 1355.49 1537.23 Q1352.6 1537.97 1349.92 1539.43 L1349.92 1534.02 Q1353.14 1532.78 1356.16 1532.17 Q1359.19 1531.54 1362.05 1531.54 Q1369.78 1531.54 1373.6 1535.55 Q1377.42 1539.56 1377.42 1547.71 Z\" fill=\"#000000\" fill-rule=\"evenodd\" fill-opacity=\"1\" /><path clip-path=\"url(#clip870)\" d=\"M1412.94 1537.81 L1412.94 1518.52 L1418.8 1518.52 L1418.8 1568.04 L1412.94 1568.04 L1412.94 1562.7 Q1411.1 1565.88 1408.27 1567.44 Q1405.46 1568.97 1401.52 1568.97 Q1395.06 1568.97 1390.98 1563.81 Q1386.94 1558.65 1386.94 1550.25 Q1386.94 1541.85 1390.98 1536.69 Q1395.06 1531.54 1401.52 1531.54 Q1405.46 1531.54 1408.27 1533.1 Q1411.1 1534.62 1412.94 1537.81 M1392.99 1550.25 Q1392.99 1556.71 1395.63 1560.4 Q1398.3 1564.07 1402.95 1564.07 Q1407.6 1564.07 1410.27 1560.4 Q1412.94 1556.71 1412.94 1550.25 Q1412.94 1543.79 1410.27 1540.13 Q1407.6 1536.44 1402.95 1536.44 Q1398.3 1536.44 1395.63 1540.13 Q1392.99 1543.79 1392.99 1550.25 Z\" fill=\"#000000\" fill-rule=\"evenodd\" fill-opacity=\"1\" /><path clip-path=\"url(#clip870)\" d=\"M1430.86 1532.4 L1436.72 1532.4 L1436.72 1568.04 L1430.86 1568.04 L1430.86 1532.4 M1430.86 1518.52 L1436.72 1518.52 L1436.72 1525.93 L1430.86 1525.93 L1430.86 1518.52 Z\" fill=\"#000000\" fill-rule=\"evenodd\" fill-opacity=\"1\" /><path clip-path=\"url(#clip870)\" d=\"M1472.43 1537.81 L1472.43 1518.52 L1478.29 1518.52 L1478.29 1568.04 L1472.43 1568.04 L1472.43 1562.7 Q1470.59 1565.88 1467.75 1567.44 Q1464.95 1568.97 1461 1568.97 Q1454.54 1568.97 1450.47 1563.81 Q1446.43 1558.65 1446.43 1550.25 Q1446.43 1541.85 1450.47 1536.69 Q1454.54 1531.54 1461 1531.54 Q1464.95 1531.54 1467.75 1533.1 Q1470.59 1534.62 1472.43 1537.81 M1452.47 1550.25 Q1452.47 1556.71 1455.12 1560.4 Q1457.79 1564.07 1462.44 1564.07 Q1467.08 1564.07 1469.76 1560.4 Q1472.43 1556.71 1472.43 1550.25 Q1472.43 1543.79 1469.76 1540.13 Q1467.08 1536.44 1462.44 1536.44 Q1457.79 1536.44 1455.12 1540.13 Q1452.47 1543.79 1452.47 1550.25 Z\" fill=\"#000000\" fill-rule=\"evenodd\" fill-opacity=\"1\" /><polyline clip-path=\"url(#clip872)\" style=\"stroke:#000000; stroke-linecap:butt; stroke-linejoin:round; stroke-width:2; stroke-opacity:0.1; fill:none\" points=\"\n",
       "  338.338,1386.4 2352.76,1386.4 \n",
       "  \"/>\n",
       "<polyline clip-path=\"url(#clip872)\" style=\"stroke:#000000; stroke-linecap:butt; stroke-linejoin:round; stroke-width:2; stroke-opacity:0.1; fill:none\" points=\"\n",
       "  338.338,988.674 2352.76,988.674 \n",
       "  \"/>\n",
       "<polyline clip-path=\"url(#clip872)\" style=\"stroke:#000000; stroke-linecap:butt; stroke-linejoin:round; stroke-width:2; stroke-opacity:0.1; fill:none\" points=\"\n",
       "  338.338,590.953 2352.76,590.953 \n",
       "  \"/>\n",
       "<polyline clip-path=\"url(#clip872)\" style=\"stroke:#000000; stroke-linecap:butt; stroke-linejoin:round; stroke-width:2; stroke-opacity:0.1; fill:none\" points=\"\n",
       "  338.338,193.232 2352.76,193.232 \n",
       "  \"/>\n",
       "<polyline clip-path=\"url(#clip870)\" style=\"stroke:#000000; stroke-linecap:butt; stroke-linejoin:round; stroke-width:4; stroke-opacity:1; fill:none\" points=\"\n",
       "  338.338,1423.18 338.338,123.472 \n",
       "  \"/>\n",
       "<polyline clip-path=\"url(#clip870)\" style=\"stroke:#000000; stroke-linecap:butt; stroke-linejoin:round; stroke-width:4; stroke-opacity:1; fill:none\" points=\"\n",
       "  338.338,1386.4 357.235,1386.4 \n",
       "  \"/>\n",
       "<polyline clip-path=\"url(#clip870)\" style=\"stroke:#000000; stroke-linecap:butt; stroke-linejoin:round; stroke-width:4; stroke-opacity:1; fill:none\" points=\"\n",
       "  338.338,988.674 357.235,988.674 \n",
       "  \"/>\n",
       "<polyline clip-path=\"url(#clip870)\" style=\"stroke:#000000; stroke-linecap:butt; stroke-linejoin:round; stroke-width:4; stroke-opacity:1; fill:none\" points=\"\n",
       "  338.338,590.953 357.235,590.953 \n",
       "  \"/>\n",
       "<polyline clip-path=\"url(#clip870)\" style=\"stroke:#000000; stroke-linecap:butt; stroke-linejoin:round; stroke-width:4; stroke-opacity:1; fill:none\" points=\"\n",
       "  338.338,193.232 357.235,193.232 \n",
       "  \"/>\n",
       "<path clip-path=\"url(#clip870)\" d=\"M290.393 1372.19 Q286.782 1372.19 284.954 1375.76 Q283.148 1379.3 283.148 1386.43 Q283.148 1393.54 284.954 1397.1 Q286.782 1400.64 290.393 1400.64 Q294.028 1400.64 295.833 1397.1 Q297.662 1393.54 297.662 1386.43 Q297.662 1379.3 295.833 1375.76 Q294.028 1372.19 290.393 1372.19 M290.393 1368.49 Q296.204 1368.49 299.259 1373.1 Q302.338 1377.68 302.338 1386.43 Q302.338 1395.16 299.259 1399.76 Q296.204 1404.35 290.393 1404.35 Q284.583 1404.35 281.505 1399.76 Q278.449 1395.16 278.449 1386.43 Q278.449 1377.68 281.505 1373.1 Q284.583 1368.49 290.393 1368.49 Z\" fill=\"#000000\" fill-rule=\"evenodd\" fill-opacity=\"1\" /><path clip-path=\"url(#clip870)\" d=\"M116.668 1008.47 L124.306 1008.47 L124.306 982.101 L115.996 983.768 L115.996 979.509 L124.26 977.842 L128.936 977.842 L128.936 1008.47 L136.575 1008.47 L136.575 1012.4 L116.668 1012.4 L116.668 1008.47 Z\" fill=\"#000000\" fill-rule=\"evenodd\" fill-opacity=\"1\" /><path clip-path=\"url(#clip870)\" d=\"M146.019 1006.52 L150.903 1006.52 L150.903 1012.4 L146.019 1012.4 L146.019 1006.52 Z\" fill=\"#000000\" fill-rule=\"evenodd\" fill-opacity=\"1\" /><path clip-path=\"url(#clip870)\" d=\"M171.089 980.921 Q167.477 980.921 165.649 984.485 Q163.843 988.027 163.843 995.157 Q163.843 1002.26 165.649 1005.83 Q167.477 1009.37 171.089 1009.37 Q174.723 1009.37 176.528 1005.83 Q178.357 1002.26 178.357 995.157 Q178.357 988.027 176.528 984.485 Q174.723 980.921 171.089 980.921 M171.089 977.217 Q176.899 977.217 179.954 981.823 Q183.033 986.407 183.033 995.157 Q183.033 1003.88 179.954 1008.49 Q176.899 1013.07 171.089 1013.07 Q165.278 1013.07 162.2 1008.49 Q159.144 1003.88 159.144 995.157 Q159.144 986.407 162.2 981.823 Q165.278 977.217 171.089 977.217 Z\" fill=\"#000000\" fill-rule=\"evenodd\" fill-opacity=\"1\" /><path clip-path=\"url(#clip870)\" d=\"M219.422 986.939 L208.843 997.564 L219.422 1008.14 L216.667 1010.94 L206.042 1000.32 L195.417 1010.94 L192.686 1008.14 L203.241 997.564 L192.686 986.939 L195.417 984.138 L206.042 994.763 L216.667 984.138 L219.422 986.939 Z\" fill=\"#000000\" fill-rule=\"evenodd\" fill-opacity=\"1\" /><path clip-path=\"url(#clip870)\" d=\"M231.783 1008.47 L239.422 1008.47 L239.422 982.101 L231.111 983.768 L231.111 979.509 L239.375 977.842 L244.051 977.842 L244.051 1008.47 L251.69 1008.47 L251.69 1012.4 L231.783 1012.4 L231.783 1008.47 Z\" fill=\"#000000\" fill-rule=\"evenodd\" fill-opacity=\"1\" /><path clip-path=\"url(#clip870)\" d=\"M271.134 980.921 Q267.523 980.921 265.695 984.485 Q263.889 988.027 263.889 995.157 Q263.889 1002.26 265.695 1005.83 Q267.523 1009.37 271.134 1009.37 Q274.769 1009.37 276.574 1005.83 Q278.403 1002.26 278.403 995.157 Q278.403 988.027 276.574 984.485 Q274.769 980.921 271.134 980.921 M271.134 977.217 Q276.944 977.217 280 981.823 Q283.079 986.407 283.079 995.157 Q283.079 1003.88 280 1008.49 Q276.944 1013.07 271.134 1013.07 Q265.324 1013.07 262.245 1008.49 Q259.19 1003.88 259.19 995.157 Q259.19 986.407 262.245 981.823 Q265.324 977.217 271.134 977.217 Z\" fill=\"#000000\" fill-rule=\"evenodd\" fill-opacity=\"1\" /><path clip-path=\"url(#clip870)\" d=\"M292.708 971.657 Q290 971.657 288.439 973.105 Q286.897 974.553 286.897 977.092 Q286.897 979.631 288.439 981.08 Q290 982.528 292.708 982.528 Q295.417 982.528 296.978 981.08 Q298.539 979.613 298.539 977.092 Q298.539 974.553 296.978 973.105 Q295.435 971.657 292.708 971.657 M288.909 970.039 Q286.464 969.438 285.091 967.764 Q283.737 966.09 283.737 963.682 Q283.737 960.316 286.126 958.36 Q288.533 956.404 292.708 956.404 Q296.902 956.404 299.291 958.36 Q301.68 960.316 301.68 963.682 Q301.68 966.09 300.307 967.764 Q298.952 969.438 296.526 970.039 Q299.272 970.679 300.796 972.541 Q302.338 974.403 302.338 977.092 Q302.338 981.174 299.836 983.355 Q297.354 985.537 292.708 985.537 Q288.063 985.537 285.561 983.355 Q283.079 981.174 283.079 977.092 Q283.079 974.403 284.621 972.541 Q286.163 970.679 288.909 970.039 M287.517 964.04 Q287.517 966.221 288.871 967.444 Q290.244 968.666 292.708 968.666 Q295.153 968.666 296.526 967.444 Q297.918 966.221 297.918 964.04 Q297.918 961.858 296.526 960.635 Q295.153 959.413 292.708 959.413 Q290.244 959.413 288.871 960.635 Q287.517 961.858 287.517 964.04 Z\" fill=\"#000000\" fill-rule=\"evenodd\" fill-opacity=\"1\" /><path clip-path=\"url(#clip870)\" d=\"M119.885 610.745 L136.204 610.745 L136.204 614.681 L114.26 614.681 L114.26 610.745 Q116.922 607.991 121.505 603.361 Q126.112 598.708 127.292 597.366 Q129.538 594.843 130.417 593.107 Q131.32 591.347 131.32 589.658 Q131.32 586.903 129.376 585.167 Q127.455 583.431 124.353 583.431 Q122.154 583.431 119.7 584.195 Q117.269 584.959 114.492 586.509 L114.492 581.787 Q117.316 580.653 119.769 580.074 Q122.223 579.496 124.26 579.496 Q129.63 579.496 132.825 582.181 Q136.019 584.866 136.019 589.357 Q136.019 591.486 135.209 593.408 Q134.422 595.306 132.316 597.898 Q131.737 598.57 128.635 601.787 Q125.533 604.982 119.885 610.745 Z\" fill=\"#000000\" fill-rule=\"evenodd\" fill-opacity=\"1\" /><path clip-path=\"url(#clip870)\" d=\"M146.019 608.801 L150.903 608.801 L150.903 614.681 L146.019 614.681 L146.019 608.801 Z\" fill=\"#000000\" fill-rule=\"evenodd\" fill-opacity=\"1\" /><path clip-path=\"url(#clip870)\" d=\"M171.089 583.199 Q167.477 583.199 165.649 586.764 Q163.843 590.306 163.843 597.435 Q163.843 604.542 165.649 608.107 Q167.477 611.648 171.089 611.648 Q174.723 611.648 176.528 608.107 Q178.357 604.542 178.357 597.435 Q178.357 590.306 176.528 586.764 Q174.723 583.199 171.089 583.199 M171.089 579.496 Q176.899 579.496 179.954 584.102 Q183.033 588.685 183.033 597.435 Q183.033 606.162 179.954 610.769 Q176.899 615.352 171.089 615.352 Q165.278 615.352 162.2 610.769 Q159.144 606.162 159.144 597.435 Q159.144 588.685 162.2 584.102 Q165.278 579.496 171.089 579.496 Z\" fill=\"#000000\" fill-rule=\"evenodd\" fill-opacity=\"1\" /><path clip-path=\"url(#clip870)\" d=\"M219.422 589.218 L208.843 599.843 L219.422 610.421 L216.667 613.222 L206.042 602.597 L195.417 613.222 L192.686 610.421 L203.241 599.843 L192.686 589.218 L195.417 586.417 L206.042 597.042 L216.667 586.417 L219.422 589.218 Z\" fill=\"#000000\" fill-rule=\"evenodd\" fill-opacity=\"1\" /><path clip-path=\"url(#clip870)\" d=\"M231.783 610.745 L239.422 610.745 L239.422 584.38 L231.111 586.046 L231.111 581.787 L239.375 580.121 L244.051 580.121 L244.051 610.745 L251.69 610.745 L251.69 614.681 L231.783 614.681 L231.783 610.745 Z\" fill=\"#000000\" fill-rule=\"evenodd\" fill-opacity=\"1\" /><path clip-path=\"url(#clip870)\" d=\"M271.134 583.199 Q267.523 583.199 265.695 586.764 Q263.889 590.306 263.889 597.435 Q263.889 604.542 265.695 608.107 Q267.523 611.648 271.134 611.648 Q274.769 611.648 276.574 608.107 Q278.403 604.542 278.403 597.435 Q278.403 590.306 276.574 586.764 Q274.769 583.199 271.134 583.199 M271.134 579.496 Q276.944 579.496 280 584.102 Q283.079 588.685 283.079 597.435 Q283.079 606.162 280 610.769 Q276.944 615.352 271.134 615.352 Q265.324 615.352 262.245 610.769 Q259.19 606.162 259.19 597.435 Q259.19 588.685 262.245 584.102 Q265.324 579.496 271.134 579.496 Z\" fill=\"#000000\" fill-rule=\"evenodd\" fill-opacity=\"1\" /><path clip-path=\"url(#clip870)\" d=\"M292.708 573.935 Q290 573.935 288.439 575.384 Q286.897 576.832 286.897 579.371 Q286.897 581.91 288.439 583.358 Q290 584.806 292.708 584.806 Q295.417 584.806 296.978 583.358 Q298.539 581.891 298.539 579.371 Q298.539 576.832 296.978 575.384 Q295.435 573.935 292.708 573.935 M288.909 572.318 Q286.464 571.716 285.091 570.042 Q283.737 568.368 283.737 565.961 Q283.737 562.594 286.126 560.638 Q288.533 558.682 292.708 558.682 Q296.902 558.682 299.291 560.638 Q301.68 562.594 301.68 565.961 Q301.68 568.368 300.307 570.042 Q298.952 571.716 296.526 572.318 Q299.272 572.957 300.796 574.819 Q302.338 576.681 302.338 579.371 Q302.338 583.452 299.836 585.634 Q297.354 587.816 292.708 587.816 Q288.063 587.816 285.561 585.634 Q283.079 583.452 283.079 579.371 Q283.079 576.681 284.621 574.819 Q286.163 572.957 288.909 572.318 M287.517 566.318 Q287.517 568.5 288.871 569.723 Q290.244 570.945 292.708 570.945 Q295.153 570.945 296.526 569.723 Q297.918 568.5 297.918 566.318 Q297.918 564.137 296.526 562.914 Q295.153 561.692 292.708 561.692 Q290.244 561.692 288.871 562.914 Q287.517 564.137 287.517 566.318 Z\" fill=\"#000000\" fill-rule=\"evenodd\" fill-opacity=\"1\" /><path clip-path=\"url(#clip870)\" d=\"M130.024 198.325 Q133.38 199.043 135.255 201.311 Q137.154 203.58 137.154 206.913 Q137.154 212.029 133.635 214.83 Q130.117 217.631 123.635 217.631 Q121.459 217.631 119.144 217.191 Q116.853 216.774 114.399 215.918 L114.399 211.404 Q116.343 212.538 118.658 213.117 Q120.973 213.695 123.496 213.695 Q127.894 213.695 130.186 211.959 Q132.501 210.223 132.501 206.913 Q132.501 203.857 130.348 202.145 Q128.218 200.408 124.399 200.408 L120.371 200.408 L120.371 196.566 L124.584 196.566 Q128.033 196.566 129.862 195.2 Q131.691 193.811 131.691 191.219 Q131.691 188.557 129.792 187.145 Q127.917 185.709 124.399 185.709 Q122.478 185.709 120.279 186.126 Q118.08 186.543 115.441 187.422 L115.441 183.256 Q118.103 182.515 120.418 182.145 Q122.755 181.774 124.816 181.774 Q130.14 181.774 133.242 184.205 Q136.343 186.612 136.343 190.733 Q136.343 193.603 134.7 195.594 Q133.056 197.561 130.024 198.325 Z\" fill=\"#000000\" fill-rule=\"evenodd\" fill-opacity=\"1\" /><path clip-path=\"url(#clip870)\" d=\"M146.019 211.08 L150.903 211.08 L150.903 216.959 L146.019 216.959 L146.019 211.08 Z\" fill=\"#000000\" fill-rule=\"evenodd\" fill-opacity=\"1\" /><path clip-path=\"url(#clip870)\" d=\"M171.089 185.478 Q167.477 185.478 165.649 189.043 Q163.843 192.584 163.843 199.714 Q163.843 206.82 165.649 210.385 Q167.477 213.927 171.089 213.927 Q174.723 213.927 176.528 210.385 Q178.357 206.82 178.357 199.714 Q178.357 192.584 176.528 189.043 Q174.723 185.478 171.089 185.478 M171.089 181.774 Q176.899 181.774 179.954 186.381 Q183.033 190.964 183.033 199.714 Q183.033 208.441 179.954 213.047 Q176.899 217.631 171.089 217.631 Q165.278 217.631 162.2 213.047 Q159.144 208.441 159.144 199.714 Q159.144 190.964 162.2 186.381 Q165.278 181.774 171.089 181.774 Z\" fill=\"#000000\" fill-rule=\"evenodd\" fill-opacity=\"1\" /><path clip-path=\"url(#clip870)\" d=\"M219.422 191.496 L208.843 202.121 L219.422 212.7 L216.667 215.501 L206.042 204.876 L195.417 215.501 L192.686 212.7 L203.241 202.121 L192.686 191.496 L195.417 188.696 L206.042 199.32 L216.667 188.696 L219.422 191.496 Z\" fill=\"#000000\" fill-rule=\"evenodd\" fill-opacity=\"1\" /><path clip-path=\"url(#clip870)\" d=\"M231.783 213.024 L239.422 213.024 L239.422 186.658 L231.111 188.325 L231.111 184.066 L239.375 182.399 L244.051 182.399 L244.051 213.024 L251.69 213.024 L251.69 216.959 L231.783 216.959 L231.783 213.024 Z\" fill=\"#000000\" fill-rule=\"evenodd\" fill-opacity=\"1\" /><path clip-path=\"url(#clip870)\" d=\"M271.134 185.478 Q267.523 185.478 265.695 189.043 Q263.889 192.584 263.889 199.714 Q263.889 206.82 265.695 210.385 Q267.523 213.927 271.134 213.927 Q274.769 213.927 276.574 210.385 Q278.403 206.82 278.403 199.714 Q278.403 192.584 276.574 189.043 Q274.769 185.478 271.134 185.478 M271.134 181.774 Q276.944 181.774 280 186.381 Q283.079 190.964 283.079 199.714 Q283.079 208.441 280 213.047 Q276.944 217.631 271.134 217.631 Q265.324 217.631 262.245 213.047 Q259.19 208.441 259.19 199.714 Q259.19 190.964 262.245 186.381 Q265.324 181.774 271.134 181.774 Z\" fill=\"#000000\" fill-rule=\"evenodd\" fill-opacity=\"1\" /><path clip-path=\"url(#clip870)\" d=\"M292.708 176.214 Q290 176.214 288.439 177.662 Q286.897 179.111 286.897 181.65 Q286.897 184.189 288.439 185.637 Q290 187.085 292.708 187.085 Q295.417 187.085 296.978 185.637 Q298.539 184.17 298.539 181.65 Q298.539 179.111 296.978 177.662 Q295.435 176.214 292.708 176.214 M288.909 174.597 Q286.464 173.995 285.091 172.321 Q283.737 170.647 283.737 168.24 Q283.737 164.873 286.126 162.917 Q288.533 160.961 292.708 160.961 Q296.902 160.961 299.291 162.917 Q301.68 164.873 301.68 168.24 Q301.68 170.647 300.307 172.321 Q298.952 173.995 296.526 174.597 Q299.272 175.236 300.796 177.098 Q302.338 178.96 302.338 181.65 Q302.338 185.731 299.836 187.913 Q297.354 190.094 292.708 190.094 Q288.063 190.094 285.561 187.913 Q283.079 185.731 283.079 181.65 Q283.079 178.96 284.621 177.098 Q286.163 175.236 288.909 174.597 M287.517 168.597 Q287.517 170.779 288.871 172.001 Q290.244 173.224 292.708 173.224 Q295.153 173.224 296.526 172.001 Q297.918 170.779 297.918 168.597 Q297.918 166.415 296.526 165.193 Q295.153 163.97 292.708 163.97 Q290.244 163.97 288.871 165.193 Q287.517 166.415 287.517 168.597 Z\" fill=\"#000000\" fill-rule=\"evenodd\" fill-opacity=\"1\" /><path clip-path=\"url(#clip870)\" d=\"M28.3562 917.525 L28.3562 911.669 L56.1743 904.348 L28.3562 897.059 L28.3562 890.153 L56.1743 882.832 L28.3562 875.543 L28.3562 869.687 L64.0042 879.013 L64.0042 885.919 L34.7856 893.59 L64.0042 901.293 L64.0042 908.199 L28.3562 917.525 Z\" fill=\"#000000\" fill-rule=\"evenodd\" fill-opacity=\"1\" /><path clip-path=\"url(#clip870)\" d=\"M32.4621 846.993 Q32.4621 851.704 36.1542 854.441 Q39.8145 857.178 46.212 857.178 Q52.6095 857.178 56.3017 854.473 Q59.9619 851.736 59.9619 846.993 Q59.9619 842.314 56.2698 839.577 Q52.5777 836.84 46.212 836.84 Q39.8781 836.84 36.186 839.577 Q32.4621 842.314 32.4621 846.993 M27.4968 846.993 Q27.4968 839.354 32.4621 834.994 Q37.4273 830.633 46.212 830.633 Q54.9649 830.633 59.9619 834.994 Q64.9272 839.354 64.9272 846.993 Q64.9272 854.664 59.9619 859.024 Q54.9649 863.353 46.212 863.353 Q37.4273 863.353 32.4621 859.024 Q27.4968 854.664 27.4968 846.993 Z\" fill=\"#000000\" fill-rule=\"evenodd\" fill-opacity=\"1\" /><path clip-path=\"url(#clip870)\" d=\"M33.8307 800.269 Q33.2578 801.256 33.0032 802.433 Q32.7167 803.579 32.7167 804.979 Q32.7167 809.945 35.9632 812.618 Q39.1779 815.26 45.2253 815.26 L64.0042 815.26 L64.0042 821.148 L28.3562 821.148 L28.3562 815.26 L33.8944 815.26 Q30.6479 813.414 29.0883 810.454 Q27.4968 807.494 27.4968 803.261 Q27.4968 802.656 27.5923 801.924 Q27.656 801.192 27.8151 800.301 L33.8307 800.269 Z\" fill=\"#000000\" fill-rule=\"evenodd\" fill-opacity=\"1\" /><path clip-path=\"url(#clip870)\" d=\"M14.479 794.349 L14.479 788.46 L43.7294 788.46 L28.3562 770.987 L28.3562 763.507 L45.0344 782.413 L64.0042 762.711 L64.0042 770.35 L46.5939 788.46 L64.0042 788.46 L64.0042 794.349 L14.479 794.349 Z\" fill=\"#000000\" fill-rule=\"evenodd\" fill-opacity=\"1\" /><path clip-path=\"url(#clip870)\" d=\"M14.479 756.377 L14.479 750.521 L64.0042 750.521 L64.0042 756.377 L14.479 756.377 Z\" fill=\"#000000\" fill-rule=\"evenodd\" fill-opacity=\"1\" /><path clip-path=\"url(#clip870)\" d=\"M32.4621 724.453 Q32.4621 729.164 36.1542 731.901 Q39.8145 734.638 46.212 734.638 Q52.6095 734.638 56.3017 731.933 Q59.9619 729.196 59.9619 724.453 Q59.9619 719.774 56.2698 717.037 Q52.5777 714.3 46.212 714.3 Q39.8781 714.3 36.186 717.037 Q32.4621 719.774 32.4621 724.453 M27.4968 724.453 Q27.4968 716.814 32.4621 712.454 Q37.4273 708.093 46.212 708.093 Q54.9649 708.093 59.9619 712.454 Q64.9272 716.814 64.9272 724.453 Q64.9272 732.124 59.9619 736.484 Q54.9649 740.813 46.212 740.813 Q37.4273 740.813 32.4621 736.484 Q27.4968 732.124 27.4968 724.453 Z\" fill=\"#000000\" fill-rule=\"evenodd\" fill-opacity=\"1\" /><path clip-path=\"url(#clip870)\" d=\"M46.0847 682.185 Q46.0847 689.283 47.7079 692.02 Q49.3312 694.757 53.2461 694.757 Q56.3653 694.757 58.2114 692.72 Q60.0256 690.651 60.0256 687.118 Q60.0256 682.249 56.5881 679.32 Q53.1188 676.36 47.3897 676.36 L46.0847 676.36 L46.0847 682.185 M43.6657 670.504 L64.0042 670.504 L64.0042 676.36 L58.5933 676.36 Q61.8398 678.366 63.3994 681.357 Q64.9272 684.349 64.9272 688.678 Q64.9272 694.153 61.8716 697.399 Q58.7843 700.614 53.6281 700.614 Q47.6125 700.614 44.5569 696.603 Q41.5014 692.561 41.5014 684.572 L41.5014 676.36 L40.9285 676.36 Q36.8862 676.36 34.6901 679.034 Q32.4621 681.676 32.4621 686.482 Q32.4621 689.537 33.1941 692.434 Q33.9262 695.33 35.3903 698.004 L29.9795 698.004 Q28.7381 694.789 28.1334 691.765 Q27.4968 688.742 27.4968 685.877 Q27.4968 678.143 31.5072 674.323 Q35.5176 670.504 43.6657 670.504 Z\" fill=\"#000000\" fill-rule=\"evenodd\" fill-opacity=\"1\" /><path clip-path=\"url(#clip870)\" d=\"M33.7671 634.983 L14.479 634.983 L14.479 629.127 L64.0042 629.127 L64.0042 634.983 L58.657 634.983 Q61.8398 636.829 63.3994 639.662 Q64.9272 642.463 64.9272 646.41 Q64.9272 652.871 59.771 656.945 Q54.6147 660.987 46.212 660.987 Q37.8093 660.987 32.6531 656.945 Q27.4968 652.871 27.4968 646.41 Q27.4968 642.463 29.0564 639.662 Q30.5842 636.829 33.7671 634.983 M46.212 654.94 Q52.6732 654.94 56.3653 652.298 Q60.0256 649.624 60.0256 644.977 Q60.0256 640.33 56.3653 637.657 Q52.6732 634.983 46.212 634.983 Q39.7508 634.983 36.0905 637.657 Q32.3984 640.33 32.3984 644.977 Q32.3984 649.624 36.0905 652.298 Q39.7508 654.94 46.212 654.94 Z\" fill=\"#000000\" fill-rule=\"evenodd\" fill-opacity=\"1\" /><path clip-path=\"url(#clip870)\" d=\"M1157 12.096 L1165.26 12.096 L1177.98 63.2184 L1190.66 12.096 L1199.86 12.096 L1212.58 63.2184 L1225.26 12.096 L1233.56 12.096 L1218.37 72.576 L1208.08 72.576 L1195.32 20.0763 L1182.44 72.576 L1172.15 72.576 L1157 12.096 Z\" fill=\"#000000\" fill-rule=\"evenodd\" fill-opacity=\"1\" /><path clip-path=\"url(#clip870)\" d=\"M1256.81 32.4315 Q1250.82 32.4315 1247.33 37.1306 Q1243.85 41.7891 1243.85 49.9314 Q1243.85 58.0738 1247.29 62.7728 Q1250.78 67.4314 1256.81 67.4314 Q1262.77 67.4314 1266.25 62.7323 Q1269.73 58.0333 1269.73 49.9314 Q1269.73 41.8701 1266.25 37.1711 Q1262.77 32.4315 1256.81 32.4315 M1256.81 26.1121 Q1266.53 26.1121 1272.08 32.4315 Q1277.63 38.7509 1277.63 49.9314 Q1277.63 61.0714 1272.08 67.4314 Q1266.53 73.7508 1256.81 73.7508 Q1247.05 73.7508 1241.5 67.4314 Q1235.99 61.0714 1235.99 49.9314 Q1235.99 38.7509 1241.5 32.4315 Q1247.05 26.1121 1256.81 26.1121 Z\" fill=\"#000000\" fill-rule=\"evenodd\" fill-opacity=\"1\" /><path clip-path=\"url(#clip870)\" d=\"M1316.28 34.1734 Q1315.02 33.4443 1313.52 33.1202 Q1312.07 32.7556 1310.28 32.7556 Q1303.96 32.7556 1300.56 36.8875 Q1297.2 40.9789 1297.2 48.6757 L1297.2 72.576 L1289.71 72.576 L1289.71 27.2059 L1297.2 27.2059 L1297.2 34.2544 Q1299.55 30.1225 1303.32 28.1376 Q1307.08 26.1121 1312.47 26.1121 Q1313.24 26.1121 1314.17 26.2337 Q1315.1 26.3147 1316.24 26.5172 L1316.28 34.1734 Z\" fill=\"#000000\" fill-rule=\"evenodd\" fill-opacity=\"1\" /><path clip-path=\"url(#clip870)\" d=\"M1323.81 9.54393 L1331.31 9.54393 L1331.31 46.7717 L1353.55 27.2059 L1363.07 27.2059 L1339 48.4326 L1364.08 72.576 L1354.36 72.576 L1331.31 50.4176 L1331.31 72.576 L1323.81 72.576 L1323.81 9.54393 Z\" fill=\"#000000\" fill-rule=\"evenodd\" fill-opacity=\"1\" /><path clip-path=\"url(#clip870)\" d=\"M1372.14 9.54393 L1379.59 9.54393 L1379.59 72.576 L1372.14 72.576 L1372.14 9.54393 Z\" fill=\"#000000\" fill-rule=\"evenodd\" fill-opacity=\"1\" /><path clip-path=\"url(#clip870)\" d=\"M1412.77 32.4315 Q1406.78 32.4315 1403.29 37.1306 Q1399.81 41.7891 1399.81 49.9314 Q1399.81 58.0738 1403.25 62.7728 Q1406.74 67.4314 1412.77 67.4314 Q1418.73 67.4314 1422.21 62.7323 Q1425.69 58.0333 1425.69 49.9314 Q1425.69 41.8701 1422.21 37.1711 Q1418.73 32.4315 1412.77 32.4315 M1412.77 26.1121 Q1422.49 26.1121 1428.04 32.4315 Q1433.59 38.7509 1433.59 49.9314 Q1433.59 61.0714 1428.04 67.4314 Q1422.49 73.7508 1412.77 73.7508 Q1403.01 73.7508 1397.46 67.4314 Q1391.95 61.0714 1391.95 49.9314 Q1391.95 38.7509 1397.46 32.4315 Q1403.01 26.1121 1412.77 26.1121 Z\" fill=\"#000000\" fill-rule=\"evenodd\" fill-opacity=\"1\" /><path clip-path=\"url(#clip870)\" d=\"M1466.57 49.7694 Q1457.53 49.7694 1454.05 51.8354 Q1450.57 53.9013 1450.57 58.8839 Q1450.57 62.8538 1453.16 65.2034 Q1455.79 67.5124 1460.29 67.5124 Q1466.49 67.5124 1470.21 63.1374 Q1473.98 58.7219 1473.98 51.4303 L1473.98 49.7694 L1466.57 49.7694 M1481.43 46.6907 L1481.43 72.576 L1473.98 72.576 L1473.98 65.6895 Q1471.43 69.8214 1467.62 71.8063 Q1463.81 73.7508 1458.3 73.7508 Q1451.34 73.7508 1447.2 69.8619 Q1443.11 65.9325 1443.11 59.3701 Q1443.11 51.7138 1448.22 47.825 Q1453.36 43.9361 1463.53 43.9361 L1473.98 43.9361 L1473.98 43.2069 Q1473.98 38.0623 1470.58 35.2672 Q1467.22 32.4315 1461.1 32.4315 Q1457.21 32.4315 1453.52 33.3632 Q1449.84 34.295 1446.43 36.1584 L1446.43 29.2718 Q1450.53 27.692 1454.37 26.9223 Q1458.22 26.1121 1461.87 26.1121 Q1471.71 26.1121 1476.57 31.2163 Q1481.43 36.3204 1481.43 46.6907 Z\" fill=\"#000000\" fill-rule=\"evenodd\" fill-opacity=\"1\" /><path clip-path=\"url(#clip870)\" d=\"M1526.64 34.0924 L1526.64 9.54393 L1534.1 9.54393 L1534.1 72.576 L1526.64 72.576 L1526.64 65.7705 Q1524.29 69.8214 1520.69 71.8063 Q1517.12 73.7508 1512.1 73.7508 Q1503.88 73.7508 1498.69 67.1883 Q1493.55 60.6258 1493.55 49.9314 Q1493.55 39.2371 1498.69 32.6746 Q1503.88 26.1121 1512.1 26.1121 Q1517.12 26.1121 1520.69 28.0971 Q1524.29 30.0415 1526.64 34.0924 M1501.24 49.9314 Q1501.24 58.1548 1504.61 62.8538 Q1508.01 67.5124 1513.92 67.5124 Q1519.84 67.5124 1523.24 62.8538 Q1526.64 58.1548 1526.64 49.9314 Q1526.64 41.7081 1523.24 37.0496 Q1519.84 32.3505 1513.92 32.3505 Q1508.01 32.3505 1504.61 37.0496 Q1501.24 41.7081 1501.24 49.9314 Z\" fill=\"#000000\" fill-rule=\"evenodd\" fill-opacity=\"1\" /><path clip-path=\"url(#clip872)\" d=\"\n",
       "M449.134 208.462 L449.134 1386.4 L696.421 1386.4 L696.421 208.462 L449.134 208.462 L449.134 208.462  Z\n",
       "  \" fill=\"#009af9\" fill-rule=\"evenodd\" fill-opacity=\"1\"/>\n",
       "<polyline clip-path=\"url(#clip872)\" style=\"stroke:#000000; stroke-linecap:butt; stroke-linejoin:round; stroke-width:4; stroke-opacity:1; fill:none\" points=\"\n",
       "  449.134,208.462 449.134,1386.4 696.421,1386.4 696.421,208.462 449.134,208.462 \n",
       "  \"/>\n",
       "<path clip-path=\"url(#clip872)\" d=\"\n",
       "M758.242 186.191 L758.242 1386.4 L1005.53 1386.4 L1005.53 186.191 L758.242 186.191 L758.242 186.191  Z\n",
       "  \" fill=\"#009af9\" fill-rule=\"evenodd\" fill-opacity=\"1\"/>\n",
       "<polyline clip-path=\"url(#clip872)\" style=\"stroke:#000000; stroke-linecap:butt; stroke-linejoin:round; stroke-width:4; stroke-opacity:1; fill:none\" points=\"\n",
       "  758.242,186.191 758.242,1386.4 1005.53,1386.4 1005.53,186.191 758.242,186.191 \n",
       "  \"/>\n",
       "<path clip-path=\"url(#clip872)\" d=\"\n",
       "M1067.35 245.268 L1067.35 1386.4 L1314.64 1386.4 L1314.64 245.268 L1067.35 245.268 L1067.35 245.268  Z\n",
       "  \" fill=\"#009af9\" fill-rule=\"evenodd\" fill-opacity=\"1\"/>\n",
       "<polyline clip-path=\"url(#clip872)\" style=\"stroke:#000000; stroke-linecap:butt; stroke-linejoin:round; stroke-width:4; stroke-opacity:1; fill:none\" points=\"\n",
       "  1067.35,245.268 1067.35,1386.4 1314.64,1386.4 1314.64,245.268 1067.35,245.268 \n",
       "  \"/>\n",
       "<path clip-path=\"url(#clip872)\" d=\"\n",
       "M1376.46 160.256 L1376.46 1386.4 L1623.74 1386.4 L1623.74 160.256 L1376.46 160.256 L1376.46 160.256  Z\n",
       "  \" fill=\"#009af9\" fill-rule=\"evenodd\" fill-opacity=\"1\"/>\n",
       "<polyline clip-path=\"url(#clip872)\" style=\"stroke:#000000; stroke-linecap:butt; stroke-linejoin:round; stroke-width:4; stroke-opacity:1; fill:none\" points=\"\n",
       "  1376.46,160.256 1376.46,1386.4 1623.74,1386.4 1623.74,160.256 1376.46,160.256 \n",
       "  \"/>\n",
       "<path clip-path=\"url(#clip872)\" d=\"\n",
       "M1685.57 167.564 L1685.57 1386.4 L1932.85 1386.4 L1932.85 167.564 L1685.57 167.564 L1685.57 167.564  Z\n",
       "  \" fill=\"#009af9\" fill-rule=\"evenodd\" fill-opacity=\"1\"/>\n",
       "<polyline clip-path=\"url(#clip872)\" style=\"stroke:#000000; stroke-linecap:butt; stroke-linejoin:round; stroke-width:4; stroke-opacity:1; fill:none\" points=\"\n",
       "  1685.57,167.564 1685.57,1386.4 1932.85,1386.4 1932.85,167.564 1685.57,167.564 \n",
       "  \"/>\n",
       "<path clip-path=\"url(#clip872)\" d=\"\n",
       "M1994.67 191.529 L1994.67 1386.4 L2241.96 1386.4 L2241.96 191.529 L1994.67 191.529 L1994.67 191.529  Z\n",
       "  \" fill=\"#009af9\" fill-rule=\"evenodd\" fill-opacity=\"1\"/>\n",
       "<polyline clip-path=\"url(#clip872)\" style=\"stroke:#000000; stroke-linecap:butt; stroke-linejoin:round; stroke-width:4; stroke-opacity:1; fill:none\" points=\"\n",
       "  1994.67,191.529 1994.67,1386.4 2241.96,1386.4 2241.96,191.529 1994.67,191.529 \n",
       "  \"/>\n",
       "<circle clip-path=\"url(#clip872)\" style=\"fill:#009af9; stroke:none; fill-opacity:0\" cx=\"572.778\" cy=\"208.462\" r=\"2\"/>\n",
       "<circle clip-path=\"url(#clip872)\" style=\"fill:#009af9; stroke:none; fill-opacity:0\" cx=\"881.885\" cy=\"186.191\" r=\"2\"/>\n",
       "<circle clip-path=\"url(#clip872)\" style=\"fill:#009af9; stroke:none; fill-opacity:0\" cx=\"1190.99\" cy=\"245.268\" r=\"2\"/>\n",
       "<circle clip-path=\"url(#clip872)\" style=\"fill:#009af9; stroke:none; fill-opacity:0\" cx=\"1500.1\" cy=\"160.256\" r=\"2\"/>\n",
       "<circle clip-path=\"url(#clip872)\" style=\"fill:#009af9; stroke:none; fill-opacity:0\" cx=\"1809.21\" cy=\"167.564\" r=\"2\"/>\n",
       "<circle clip-path=\"url(#clip872)\" style=\"fill:#009af9; stroke:none; fill-opacity:0\" cx=\"2118.32\" cy=\"191.529\" r=\"2\"/>\n",
       "</svg>\n"
      ]
     },
     "metadata": {},
     "output_type": "display_data"
    }
   ],
   "source": [
    "using Plots\n",
    "\n",
    "b1 = bar(niter, xlab=\"threadid\", ylab=\"# iterations\", title=\"Number of iterations\", legend=false)\n",
    "b2 = bar(load, xlab=\"threadid\", ylab=\"workload\", title=\"Workload\", legend=false)\n",
    "\n",
    "display(b1)\n",
    "display(b2)"
   ]
  },
  {
   "cell_type": "code",
   "execution_count": 65,
   "metadata": {},
   "outputs": [
    {
     "data": {
      "text/plain": [
       "compute_nonuniform_threads! (generic function with 3 methods)"
      ]
     },
     "execution_count": 65,
     "metadata": {},
     "output_type": "execute_result"
    }
   ],
   "source": [
    "function compute_nonuniform_threads!(a, niter = zeros(Int, nthreads()), load = zeros(Int, nthreads()))\n",
    "    @threads for i in 1:length(a)\n",
    "        a[i] = sum(abs2, rand() for j in 1:i)\n",
    "\n",
    "        # only for bookkeeping\n",
    "        niter[threadid()] += 1\n",
    "        load[threadid()] += i\n",
    "    end\n",
    "    return niter, load\n",
    "end"
   ]
  },
  {
   "cell_type": "code",
   "execution_count": 66,
   "metadata": {},
   "outputs": [
    {
     "data": {
      "text/plain": [
       "([10000, 10000, 10000, 10000, 10000, 10000], [250005000, 50005000, 550005000, 150005000, 350005000, 450005000])"
      ]
     },
     "execution_count": 66,
     "metadata": {},
     "output_type": "execute_result"
    }
   ],
   "source": [
    "a = zeros(nthreads()*10000)\n",
    "niter, load = compute_nonuniform_threads!(a)"
   ]
  },
  {
   "cell_type": "code",
   "execution_count": 67,
   "metadata": {},
   "outputs": [
    {
     "data": {
      "image/svg+xml": [
       "<?xml version=\"1.0\" encoding=\"utf-8\"?>\n",
       "<svg xmlns=\"http://www.w3.org/2000/svg\" xmlns:xlink=\"http://www.w3.org/1999/xlink\" width=\"600\" height=\"400\" viewBox=\"0 0 2400 1600\">\n",
       "<defs>\n",
       "  <clipPath id=\"clip910\">\n",
       "    <rect x=\"0\" y=\"0\" width=\"2400\" height=\"1600\"/>\n",
       "  </clipPath>\n",
       "</defs>\n",
       "<path clip-path=\"url(#clip910)\" d=\"\n",
       "M0 1600 L2400 1600 L2400 0 L0 0  Z\n",
       "  \" fill=\"#ffffff\" fill-rule=\"evenodd\" fill-opacity=\"1\"/>\n",
       "<defs>\n",
       "  <clipPath id=\"clip911\">\n",
       "    <rect x=\"480\" y=\"0\" width=\"1681\" height=\"1600\"/>\n",
       "  </clipPath>\n",
       "</defs>\n",
       "<path clip-path=\"url(#clip910)\" d=\"\n",
       "M292.713 1423.18 L2352.76 1423.18 L2352.76 123.472 L292.713 123.472  Z\n",
       "  \" fill=\"#ffffff\" fill-rule=\"evenodd\" fill-opacity=\"1\"/>\n",
       "<defs>\n",
       "  <clipPath id=\"clip912\">\n",
       "    <rect x=\"292\" y=\"123\" width=\"2061\" height=\"1301\"/>\n",
       "  </clipPath>\n",
       "</defs>\n",
       "<polyline clip-path=\"url(#clip912)\" style=\"stroke:#000000; stroke-linecap:butt; stroke-linejoin:round; stroke-width:2; stroke-opacity:0.1; fill:none\" points=\"\n",
       "  532.463,1423.18 532.463,123.472 \n",
       "  \"/>\n",
       "<polyline clip-path=\"url(#clip912)\" style=\"stroke:#000000; stroke-linecap:butt; stroke-linejoin:round; stroke-width:2; stroke-opacity:0.1; fill:none\" points=\"\n",
       "  848.571,1423.18 848.571,123.472 \n",
       "  \"/>\n",
       "<polyline clip-path=\"url(#clip912)\" style=\"stroke:#000000; stroke-linecap:butt; stroke-linejoin:round; stroke-width:2; stroke-opacity:0.1; fill:none\" points=\"\n",
       "  1164.68,1423.18 1164.68,123.472 \n",
       "  \"/>\n",
       "<polyline clip-path=\"url(#clip912)\" style=\"stroke:#000000; stroke-linecap:butt; stroke-linejoin:round; stroke-width:2; stroke-opacity:0.1; fill:none\" points=\"\n",
       "  1480.79,1423.18 1480.79,123.472 \n",
       "  \"/>\n",
       "<polyline clip-path=\"url(#clip912)\" style=\"stroke:#000000; stroke-linecap:butt; stroke-linejoin:round; stroke-width:2; stroke-opacity:0.1; fill:none\" points=\"\n",
       "  1796.9,1423.18 1796.9,123.472 \n",
       "  \"/>\n",
       "<polyline clip-path=\"url(#clip912)\" style=\"stroke:#000000; stroke-linecap:butt; stroke-linejoin:round; stroke-width:2; stroke-opacity:0.1; fill:none\" points=\"\n",
       "  2113.01,1423.18 2113.01,123.472 \n",
       "  \"/>\n",
       "<polyline clip-path=\"url(#clip910)\" style=\"stroke:#000000; stroke-linecap:butt; stroke-linejoin:round; stroke-width:4; stroke-opacity:1; fill:none\" points=\"\n",
       "  292.713,1423.18 2352.76,1423.18 \n",
       "  \"/>\n",
       "<polyline clip-path=\"url(#clip910)\" style=\"stroke:#000000; stroke-linecap:butt; stroke-linejoin:round; stroke-width:4; stroke-opacity:1; fill:none\" points=\"\n",
       "  532.463,1423.18 532.463,1404.28 \n",
       "  \"/>\n",
       "<polyline clip-path=\"url(#clip910)\" style=\"stroke:#000000; stroke-linecap:butt; stroke-linejoin:round; stroke-width:4; stroke-opacity:1; fill:none\" points=\"\n",
       "  848.571,1423.18 848.571,1404.28 \n",
       "  \"/>\n",
       "<polyline clip-path=\"url(#clip910)\" style=\"stroke:#000000; stroke-linecap:butt; stroke-linejoin:round; stroke-width:4; stroke-opacity:1; fill:none\" points=\"\n",
       "  1164.68,1423.18 1164.68,1404.28 \n",
       "  \"/>\n",
       "<polyline clip-path=\"url(#clip910)\" style=\"stroke:#000000; stroke-linecap:butt; stroke-linejoin:round; stroke-width:4; stroke-opacity:1; fill:none\" points=\"\n",
       "  1480.79,1423.18 1480.79,1404.28 \n",
       "  \"/>\n",
       "<polyline clip-path=\"url(#clip910)\" style=\"stroke:#000000; stroke-linecap:butt; stroke-linejoin:round; stroke-width:4; stroke-opacity:1; fill:none\" points=\"\n",
       "  1796.9,1423.18 1796.9,1404.28 \n",
       "  \"/>\n",
       "<polyline clip-path=\"url(#clip910)\" style=\"stroke:#000000; stroke-linecap:butt; stroke-linejoin:round; stroke-width:4; stroke-opacity:1; fill:none\" points=\"\n",
       "  2113.01,1423.18 2113.01,1404.28 \n",
       "  \"/>\n",
       "<path clip-path=\"url(#clip910)\" d=\"M522.845 1481.64 L530.483 1481.64 L530.483 1455.28 L522.173 1456.95 L522.173 1452.69 L530.437 1451.02 L535.113 1451.02 L535.113 1481.64 L542.752 1481.64 L542.752 1485.58 L522.845 1485.58 L522.845 1481.64 Z\" fill=\"#000000\" fill-rule=\"evenodd\" fill-opacity=\"1\" /><path clip-path=\"url(#clip910)\" d=\"M843.224 1481.64 L859.544 1481.64 L859.544 1485.58 L837.599 1485.58 L837.599 1481.64 Q840.261 1478.89 844.845 1474.26 Q849.451 1469.61 850.632 1468.27 Q852.877 1465.74 853.757 1464.01 Q854.659 1462.25 854.659 1460.56 Q854.659 1457.8 852.715 1456.07 Q850.794 1454.33 847.692 1454.33 Q845.493 1454.33 843.039 1455.09 Q840.608 1455.86 837.831 1457.41 L837.831 1452.69 Q840.655 1451.55 843.108 1450.97 Q845.562 1450.39 847.599 1450.39 Q852.969 1450.39 856.164 1453.08 Q859.358 1455.77 859.358 1460.26 Q859.358 1462.39 858.548 1464.31 Q857.761 1466.2 855.655 1468.8 Q855.076 1469.47 851.974 1472.69 Q848.872 1475.88 843.224 1481.64 Z\" fill=\"#000000\" fill-rule=\"evenodd\" fill-opacity=\"1\" /><path clip-path=\"url(#clip910)\" d=\"M1168.93 1466.95 Q1172.28 1467.66 1174.16 1469.93 Q1176.06 1472.2 1176.06 1475.53 Q1176.06 1480.65 1172.54 1483.45 Q1169.02 1486.25 1162.54 1486.25 Q1160.36 1486.25 1158.05 1485.81 Q1155.76 1485.39 1153.3 1484.54 L1153.3 1480.02 Q1155.25 1481.16 1157.56 1481.74 Q1159.88 1482.32 1162.4 1482.32 Q1166.8 1482.32 1169.09 1480.58 Q1171.4 1478.84 1171.4 1475.53 Q1171.4 1472.48 1169.25 1470.77 Q1167.12 1469.03 1163.3 1469.03 L1159.28 1469.03 L1159.28 1465.19 L1163.49 1465.19 Q1166.94 1465.19 1168.77 1463.82 Q1170.59 1462.43 1170.59 1459.84 Q1170.59 1457.18 1168.7 1455.77 Q1166.82 1454.33 1163.3 1454.33 Q1161.38 1454.33 1159.18 1454.75 Q1156.98 1455.16 1154.34 1456.04 L1154.34 1451.88 Q1157.01 1451.14 1159.32 1450.77 Q1161.66 1450.39 1163.72 1450.39 Q1169.04 1450.39 1172.15 1452.83 Q1175.25 1455.23 1175.25 1459.35 Q1175.25 1462.22 1173.6 1464.21 Q1171.96 1466.18 1168.93 1466.95 Z\" fill=\"#000000\" fill-rule=\"evenodd\" fill-opacity=\"1\" /><path clip-path=\"url(#clip910)\" d=\"M1483.8 1455.09 L1471.99 1473.54 L1483.8 1473.54 L1483.8 1455.09 M1482.57 1451.02 L1488.45 1451.02 L1488.45 1473.54 L1493.38 1473.54 L1493.38 1477.43 L1488.45 1477.43 L1488.45 1485.58 L1483.8 1485.58 L1483.8 1477.43 L1468.2 1477.43 L1468.2 1472.92 L1482.57 1451.02 Z\" fill=\"#000000\" fill-rule=\"evenodd\" fill-opacity=\"1\" /><path clip-path=\"url(#clip910)\" d=\"M1787.18 1451.02 L1805.53 1451.02 L1805.53 1454.96 L1791.46 1454.96 L1791.46 1463.43 Q1792.48 1463.08 1793.49 1462.92 Q1794.51 1462.73 1795.53 1462.73 Q1801.32 1462.73 1804.7 1465.9 Q1808.08 1469.08 1808.08 1474.49 Q1808.08 1480.07 1804.61 1483.17 Q1801.13 1486.25 1794.81 1486.25 Q1792.64 1486.25 1790.37 1485.88 Q1788.12 1485.51 1785.72 1484.77 L1785.72 1480.07 Q1787.8 1481.2 1790.02 1481.76 Q1792.24 1482.32 1794.72 1482.32 Q1798.73 1482.32 1801.06 1480.21 Q1803.4 1478.1 1803.4 1474.49 Q1803.4 1470.88 1801.06 1468.77 Q1798.73 1466.67 1794.72 1466.67 Q1792.85 1466.67 1790.97 1467.08 Q1789.12 1467.5 1787.18 1468.38 L1787.18 1451.02 Z\" fill=\"#000000\" fill-rule=\"evenodd\" fill-opacity=\"1\" /><path clip-path=\"url(#clip910)\" d=\"M2113.41 1466.44 Q2110.26 1466.44 2108.41 1468.59 Q2106.58 1470.74 2106.58 1474.49 Q2106.58 1478.22 2108.41 1480.39 Q2110.26 1482.55 2113.41 1482.55 Q2116.56 1482.55 2118.39 1480.39 Q2120.24 1478.22 2120.24 1474.49 Q2120.24 1470.74 2118.39 1468.59 Q2116.56 1466.44 2113.41 1466.44 M2122.69 1451.78 L2122.69 1456.04 Q2120.93 1455.21 2119.13 1454.77 Q2117.35 1454.33 2115.59 1454.33 Q2110.96 1454.33 2108.5 1457.45 Q2106.07 1460.58 2105.73 1466.9 Q2107.09 1464.89 2109.15 1463.82 Q2111.21 1462.73 2113.69 1462.73 Q2118.9 1462.73 2121.91 1465.9 Q2124.94 1469.05 2124.94 1474.49 Q2124.94 1479.82 2121.79 1483.03 Q2118.64 1486.25 2113.41 1486.25 Q2107.42 1486.25 2104.24 1481.67 Q2101.07 1477.06 2101.07 1468.33 Q2101.07 1460.14 2104.96 1455.28 Q2108.85 1450.39 2115.4 1450.39 Q2117.16 1450.39 2118.94 1450.74 Q2120.75 1451.09 2122.69 1451.78 Z\" fill=\"#000000\" fill-rule=\"evenodd\" fill-opacity=\"1\" /><path clip-path=\"url(#clip910)\" d=\"M1200.18 1522.27 L1200.18 1532.4 L1212.24 1532.4 L1212.24 1536.95 L1200.18 1536.95 L1200.18 1556.3 Q1200.18 1560.66 1201.36 1561.9 Q1202.57 1563.14 1206.23 1563.14 L1212.24 1563.14 L1212.24 1568.04 L1206.23 1568.04 Q1199.45 1568.04 1196.87 1565.53 Q1194.29 1562.98 1194.29 1556.3 L1194.29 1536.95 L1189.99 1536.95 L1189.99 1532.4 L1194.29 1532.4 L1194.29 1522.27 L1200.18 1522.27 Z\" fill=\"#000000\" fill-rule=\"evenodd\" fill-opacity=\"1\" /><path clip-path=\"url(#clip910)\" d=\"M1249.58 1546.53 L1249.58 1568.04 L1243.72 1568.04 L1243.72 1546.72 Q1243.72 1541.66 1241.75 1539.14 Q1239.77 1536.63 1235.83 1536.63 Q1231.08 1536.63 1228.35 1539.65 Q1225.61 1542.68 1225.61 1547.9 L1225.61 1568.04 L1219.72 1568.04 L1219.72 1518.52 L1225.61 1518.52 L1225.61 1537.93 Q1227.71 1534.72 1230.54 1533.13 Q1233.41 1531.54 1237.13 1531.54 Q1243.27 1531.54 1246.43 1535.36 Q1249.58 1539.14 1249.58 1546.53 Z\" fill=\"#000000\" fill-rule=\"evenodd\" fill-opacity=\"1\" /><path clip-path=\"url(#clip910)\" d=\"M1281.91 1537.87 Q1280.93 1537.3 1279.75 1537.04 Q1278.6 1536.76 1277.2 1536.76 Q1272.24 1536.76 1269.56 1540 Q1266.92 1543.22 1266.92 1549.27 L1266.92 1568.04 L1261.03 1568.04 L1261.03 1532.4 L1266.92 1532.4 L1266.92 1537.93 Q1268.77 1534.69 1271.73 1533.13 Q1274.69 1531.54 1278.92 1531.54 Q1279.53 1531.54 1280.26 1531.63 Q1280.99 1531.7 1281.88 1531.85 L1281.91 1537.87 Z\" fill=\"#000000\" fill-rule=\"evenodd\" fill-opacity=\"1\" /><path clip-path=\"url(#clip910)\" d=\"M1317.12 1548.76 L1317.12 1551.62 L1290.19 1551.62 Q1290.57 1557.67 1293.82 1560.85 Q1297.1 1564 1302.92 1564 Q1306.3 1564 1309.45 1563.17 Q1312.63 1562.35 1315.75 1560.69 L1315.75 1566.23 Q1312.6 1567.57 1309.29 1568.27 Q1305.98 1568.97 1302.57 1568.97 Q1294.04 1568.97 1289.04 1564 Q1284.08 1559.04 1284.08 1550.57 Q1284.08 1541.82 1288.79 1536.69 Q1293.53 1531.54 1301.55 1531.54 Q1308.75 1531.54 1312.92 1536.18 Q1317.12 1540.8 1317.12 1548.76 M1311.26 1547.04 Q1311.2 1542.23 1308.55 1539.37 Q1305.94 1536.5 1301.62 1536.5 Q1296.71 1536.5 1293.75 1539.27 Q1290.83 1542.04 1290.38 1547.07 L1311.26 1547.04 Z\" fill=\"#000000\" fill-rule=\"evenodd\" fill-opacity=\"1\" /><path clip-path=\"url(#clip910)\" d=\"M1342.93 1550.12 Q1335.83 1550.12 1333.09 1551.75 Q1330.36 1553.37 1330.36 1557.29 Q1330.36 1560.4 1332.39 1562.25 Q1334.46 1564.07 1338 1564.07 Q1342.87 1564.07 1345.79 1560.63 Q1348.75 1557.16 1348.75 1551.43 L1348.75 1550.12 L1342.93 1550.12 M1354.61 1547.71 L1354.61 1568.04 L1348.75 1568.04 L1348.75 1562.63 Q1346.75 1565.88 1343.76 1567.44 Q1340.77 1568.97 1336.44 1568.97 Q1330.96 1568.97 1327.72 1565.91 Q1324.5 1562.82 1324.5 1557.67 Q1324.5 1551.65 1328.51 1548.6 Q1332.55 1545.54 1340.54 1545.54 L1348.75 1545.54 L1348.75 1544.97 Q1348.75 1540.93 1346.08 1538.73 Q1343.44 1536.5 1338.63 1536.5 Q1335.58 1536.5 1332.68 1537.23 Q1329.78 1537.97 1327.11 1539.43 L1327.11 1534.02 Q1330.33 1532.78 1333.35 1532.17 Q1336.37 1531.54 1339.24 1531.54 Q1346.97 1531.54 1350.79 1535.55 Q1354.61 1539.56 1354.61 1547.71 Z\" fill=\"#000000\" fill-rule=\"evenodd\" fill-opacity=\"1\" /><path clip-path=\"url(#clip910)\" d=\"M1390.13 1537.81 L1390.13 1518.52 L1395.99 1518.52 L1395.99 1568.04 L1390.13 1568.04 L1390.13 1562.7 Q1388.29 1565.88 1385.45 1567.44 Q1382.65 1568.97 1378.7 1568.97 Q1372.24 1568.97 1368.17 1563.81 Q1364.13 1558.65 1364.13 1550.25 Q1364.13 1541.85 1368.17 1536.69 Q1372.24 1531.54 1378.7 1531.54 Q1382.65 1531.54 1385.45 1533.1 Q1388.29 1534.62 1390.13 1537.81 M1370.17 1550.25 Q1370.17 1556.71 1372.82 1560.4 Q1375.49 1564.07 1380.14 1564.07 Q1384.78 1564.07 1387.46 1560.4 Q1390.13 1556.71 1390.13 1550.25 Q1390.13 1543.79 1387.46 1540.13 Q1384.78 1536.44 1380.14 1536.44 Q1375.49 1536.44 1372.82 1540.13 Q1370.17 1543.79 1370.17 1550.25 Z\" fill=\"#000000\" fill-rule=\"evenodd\" fill-opacity=\"1\" /><path clip-path=\"url(#clip910)\" d=\"M1408.05 1532.4 L1413.91 1532.4 L1413.91 1568.04 L1408.05 1568.04 L1408.05 1532.4 M1408.05 1518.52 L1413.91 1518.52 L1413.91 1525.93 L1408.05 1525.93 L1408.05 1518.52 Z\" fill=\"#000000\" fill-rule=\"evenodd\" fill-opacity=\"1\" /><path clip-path=\"url(#clip910)\" d=\"M1449.62 1537.81 L1449.62 1518.52 L1455.48 1518.52 L1455.48 1568.04 L1449.62 1568.04 L1449.62 1562.7 Q1447.77 1565.88 1444.94 1567.44 Q1442.14 1568.97 1438.19 1568.97 Q1431.73 1568.97 1427.66 1563.81 Q1423.62 1558.65 1423.62 1550.25 Q1423.62 1541.85 1427.66 1536.69 Q1431.73 1531.54 1438.19 1531.54 Q1442.14 1531.54 1444.94 1533.1 Q1447.77 1534.62 1449.62 1537.81 M1429.66 1550.25 Q1429.66 1556.71 1432.3 1560.4 Q1434.98 1564.07 1439.62 1564.07 Q1444.27 1564.07 1446.95 1560.4 Q1449.62 1556.71 1449.62 1550.25 Q1449.62 1543.79 1446.95 1540.13 Q1444.27 1536.44 1439.62 1536.44 Q1434.98 1536.44 1432.3 1540.13 Q1429.66 1543.79 1429.66 1550.25 Z\" fill=\"#000000\" fill-rule=\"evenodd\" fill-opacity=\"1\" /><polyline clip-path=\"url(#clip912)\" style=\"stroke:#000000; stroke-linecap:butt; stroke-linejoin:round; stroke-width:2; stroke-opacity:0.1; fill:none\" points=\"\n",
       "  292.713,1386.4 2352.76,1386.4 \n",
       "  \"/>\n",
       "<polyline clip-path=\"url(#clip912)\" style=\"stroke:#000000; stroke-linecap:butt; stroke-linejoin:round; stroke-width:2; stroke-opacity:0.1; fill:none\" points=\"\n",
       "  292.713,1079.86 2352.76,1079.86 \n",
       "  \"/>\n",
       "<polyline clip-path=\"url(#clip912)\" style=\"stroke:#000000; stroke-linecap:butt; stroke-linejoin:round; stroke-width:2; stroke-opacity:0.1; fill:none\" points=\"\n",
       "  292.713,773.326 2352.76,773.326 \n",
       "  \"/>\n",
       "<polyline clip-path=\"url(#clip912)\" style=\"stroke:#000000; stroke-linecap:butt; stroke-linejoin:round; stroke-width:2; stroke-opacity:0.1; fill:none\" points=\"\n",
       "  292.713,466.791 2352.76,466.791 \n",
       "  \"/>\n",
       "<polyline clip-path=\"url(#clip912)\" style=\"stroke:#000000; stroke-linecap:butt; stroke-linejoin:round; stroke-width:2; stroke-opacity:0.1; fill:none\" points=\"\n",
       "  292.713,160.256 2352.76,160.256 \n",
       "  \"/>\n",
       "<polyline clip-path=\"url(#clip910)\" style=\"stroke:#000000; stroke-linecap:butt; stroke-linejoin:round; stroke-width:4; stroke-opacity:1; fill:none\" points=\"\n",
       "  292.713,1423.18 292.713,123.472 \n",
       "  \"/>\n",
       "<polyline clip-path=\"url(#clip910)\" style=\"stroke:#000000; stroke-linecap:butt; stroke-linejoin:round; stroke-width:4; stroke-opacity:1; fill:none\" points=\"\n",
       "  292.713,1386.4 311.611,1386.4 \n",
       "  \"/>\n",
       "<polyline clip-path=\"url(#clip910)\" style=\"stroke:#000000; stroke-linecap:butt; stroke-linejoin:round; stroke-width:4; stroke-opacity:1; fill:none\" points=\"\n",
       "  292.713,1079.86 311.611,1079.86 \n",
       "  \"/>\n",
       "<polyline clip-path=\"url(#clip910)\" style=\"stroke:#000000; stroke-linecap:butt; stroke-linejoin:round; stroke-width:4; stroke-opacity:1; fill:none\" points=\"\n",
       "  292.713,773.326 311.611,773.326 \n",
       "  \"/>\n",
       "<polyline clip-path=\"url(#clip910)\" style=\"stroke:#000000; stroke-linecap:butt; stroke-linejoin:round; stroke-width:4; stroke-opacity:1; fill:none\" points=\"\n",
       "  292.713,466.791 311.611,466.791 \n",
       "  \"/>\n",
       "<polyline clip-path=\"url(#clip910)\" style=\"stroke:#000000; stroke-linecap:butt; stroke-linejoin:round; stroke-width:4; stroke-opacity:1; fill:none\" points=\"\n",
       "  292.713,160.256 311.611,160.256 \n",
       "  \"/>\n",
       "<path clip-path=\"url(#clip910)\" d=\"M244.769 1372.19 Q241.158 1372.19 239.329 1375.76 Q237.523 1379.3 237.523 1386.43 Q237.523 1393.54 239.329 1397.1 Q241.158 1400.64 244.769 1400.64 Q248.403 1400.64 250.209 1397.1 Q252.037 1393.54 252.037 1386.43 Q252.037 1379.3 250.209 1375.76 Q248.403 1372.19 244.769 1372.19 M244.769 1368.49 Q250.579 1368.49 253.634 1373.1 Q256.713 1377.68 256.713 1386.43 Q256.713 1395.16 253.634 1399.76 Q250.579 1404.35 244.769 1404.35 Q238.959 1404.35 235.88 1399.76 Q232.824 1395.16 232.824 1386.43 Q232.824 1377.68 235.88 1373.1 Q238.959 1368.49 244.769 1368.49 Z\" fill=\"#000000\" fill-rule=\"evenodd\" fill-opacity=\"1\" /><path clip-path=\"url(#clip910)\" d=\"M148.311 1093.21 L164.63 1093.21 L164.63 1097.14 L142.686 1097.14 L142.686 1093.21 Q145.348 1090.45 149.931 1085.82 Q154.538 1081.17 155.718 1079.83 Q157.964 1077.3 158.843 1075.57 Q159.746 1073.81 159.746 1072.12 Q159.746 1069.36 157.802 1067.63 Q155.88 1065.89 152.778 1065.89 Q150.579 1065.89 148.126 1066.65 Q145.695 1067.42 142.917 1068.97 L142.917 1064.25 Q145.741 1063.11 148.195 1062.53 Q150.649 1061.96 152.686 1061.96 Q158.056 1061.96 161.251 1064.64 Q164.445 1067.33 164.445 1071.82 Q164.445 1073.95 163.635 1075.87 Q162.848 1077.77 160.741 1080.36 Q160.163 1081.03 157.061 1084.25 Q153.959 1087.44 148.311 1093.21 Z\" fill=\"#000000\" fill-rule=\"evenodd\" fill-opacity=\"1\" /><path clip-path=\"url(#clip910)\" d=\"M174.491 1062.58 L192.848 1062.58 L192.848 1066.52 L178.774 1066.52 L178.774 1074.99 Q179.792 1074.64 180.811 1074.48 Q181.829 1074.29 182.848 1074.29 Q188.635 1074.29 192.014 1077.47 Q195.394 1080.64 195.394 1086.05 Q195.394 1091.63 191.922 1094.73 Q188.45 1097.81 182.13 1097.81 Q179.954 1097.81 177.686 1097.44 Q175.44 1097.07 173.033 1096.33 L173.033 1091.63 Q175.116 1092.77 177.339 1093.32 Q179.561 1093.88 182.038 1093.88 Q186.042 1093.88 188.38 1091.77 Q190.718 1089.66 190.718 1086.05 Q190.718 1082.44 188.38 1080.34 Q186.042 1078.23 182.038 1078.23 Q180.163 1078.23 178.288 1078.65 Q176.436 1079.06 174.491 1079.94 L174.491 1062.58 Z\" fill=\"#000000\" fill-rule=\"evenodd\" fill-opacity=\"1\" /><path clip-path=\"url(#clip910)\" d=\"M214.607 1065.66 Q210.996 1065.66 209.167 1069.22 Q207.362 1072.77 207.362 1079.9 Q207.362 1087 209.167 1090.57 Q210.996 1094.11 214.607 1094.11 Q218.241 1094.11 220.047 1090.57 Q221.875 1087 221.875 1079.9 Q221.875 1072.77 220.047 1069.22 Q218.241 1065.66 214.607 1065.66 M214.607 1061.96 Q220.417 1061.96 223.473 1066.56 Q226.551 1071.15 226.551 1079.9 Q226.551 1088.62 223.473 1093.23 Q220.417 1097.81 214.607 1097.81 Q208.797 1097.81 205.718 1093.23 Q202.662 1088.62 202.662 1079.9 Q202.662 1071.15 205.718 1066.56 Q208.797 1061.96 214.607 1061.96 Z\" fill=\"#000000\" fill-rule=\"evenodd\" fill-opacity=\"1\" /><path clip-path=\"url(#clip910)\" d=\"M244.769 1065.66 Q241.158 1065.66 239.329 1069.22 Q237.523 1072.77 237.523 1079.9 Q237.523 1087 239.329 1090.57 Q241.158 1094.11 244.769 1094.11 Q248.403 1094.11 250.209 1090.57 Q252.037 1087 252.037 1079.9 Q252.037 1072.77 250.209 1069.22 Q248.403 1065.66 244.769 1065.66 M244.769 1061.96 Q250.579 1061.96 253.634 1066.56 Q256.713 1071.15 256.713 1079.9 Q256.713 1088.62 253.634 1093.23 Q250.579 1097.81 244.769 1097.81 Q238.959 1097.81 235.88 1093.23 Q232.824 1088.62 232.824 1079.9 Q232.824 1071.15 235.88 1066.56 Q238.959 1061.96 244.769 1061.96 Z\" fill=\"#000000\" fill-rule=\"evenodd\" fill-opacity=\"1\" /><path clip-path=\"url(#clip910)\" d=\"M144.329 756.046 L162.686 756.046 L162.686 759.981 L148.612 759.981 L148.612 768.453 Q149.63 768.106 150.649 767.944 Q151.667 767.759 152.686 767.759 Q158.473 767.759 161.852 770.93 Q165.232 774.101 165.232 779.518 Q165.232 785.097 161.76 788.199 Q158.288 791.277 151.968 791.277 Q149.792 791.277 147.524 790.907 Q145.279 790.537 142.871 789.796 L142.871 785.097 Q144.954 786.231 147.177 786.787 Q149.399 787.342 151.876 787.342 Q155.88 787.342 158.218 785.236 Q160.556 783.129 160.556 779.518 Q160.556 775.907 158.218 773.801 Q155.88 771.694 151.876 771.694 Q150.001 771.694 148.126 772.111 Q146.274 772.527 144.329 773.407 L144.329 756.046 Z\" fill=\"#000000\" fill-rule=\"evenodd\" fill-opacity=\"1\" /><path clip-path=\"url(#clip910)\" d=\"M184.445 759.125 Q180.834 759.125 179.005 762.689 Q177.2 766.231 177.2 773.361 Q177.2 780.467 179.005 784.032 Q180.834 787.574 184.445 787.574 Q188.079 787.574 189.885 784.032 Q191.713 780.467 191.713 773.361 Q191.713 766.231 189.885 762.689 Q188.079 759.125 184.445 759.125 M184.445 755.421 Q190.255 755.421 193.311 760.027 Q196.389 764.611 196.389 773.361 Q196.389 782.088 193.311 786.694 Q190.255 791.277 184.445 791.277 Q178.635 791.277 175.556 786.694 Q172.501 782.088 172.501 773.361 Q172.501 764.611 175.556 760.027 Q178.635 755.421 184.445 755.421 Z\" fill=\"#000000\" fill-rule=\"evenodd\" fill-opacity=\"1\" /><path clip-path=\"url(#clip910)\" d=\"M214.607 759.125 Q210.996 759.125 209.167 762.689 Q207.362 766.231 207.362 773.361 Q207.362 780.467 209.167 784.032 Q210.996 787.574 214.607 787.574 Q218.241 787.574 220.047 784.032 Q221.875 780.467 221.875 773.361 Q221.875 766.231 220.047 762.689 Q218.241 759.125 214.607 759.125 M214.607 755.421 Q220.417 755.421 223.473 760.027 Q226.551 764.611 226.551 773.361 Q226.551 782.088 223.473 786.694 Q220.417 791.277 214.607 791.277 Q208.797 791.277 205.718 786.694 Q202.662 782.088 202.662 773.361 Q202.662 764.611 205.718 760.027 Q208.797 755.421 214.607 755.421 Z\" fill=\"#000000\" fill-rule=\"evenodd\" fill-opacity=\"1\" /><path clip-path=\"url(#clip910)\" d=\"M244.769 759.125 Q241.158 759.125 239.329 762.689 Q237.523 766.231 237.523 773.361 Q237.523 780.467 239.329 784.032 Q241.158 787.574 244.769 787.574 Q248.403 787.574 250.209 784.032 Q252.037 780.467 252.037 773.361 Q252.037 766.231 250.209 762.689 Q248.403 759.125 244.769 759.125 M244.769 755.421 Q250.579 755.421 253.634 760.027 Q256.713 764.611 256.713 773.361 Q256.713 782.088 253.634 786.694 Q250.579 791.277 244.769 791.277 Q238.959 791.277 235.88 786.694 Q232.824 782.088 232.824 773.361 Q232.824 764.611 235.88 760.027 Q238.959 755.421 244.769 755.421 Z\" fill=\"#000000\" fill-rule=\"evenodd\" fill-opacity=\"1\" /><path clip-path=\"url(#clip910)\" d=\"M143.103 449.511 L165.325 449.511 L165.325 451.502 L152.778 484.071 L147.894 484.071 L159.7 453.446 L143.103 453.446 L143.103 449.511 Z\" fill=\"#000000\" fill-rule=\"evenodd\" fill-opacity=\"1\" /><path clip-path=\"url(#clip910)\" d=\"M174.491 449.511 L192.848 449.511 L192.848 453.446 L178.774 453.446 L178.774 461.918 Q179.792 461.571 180.811 461.409 Q181.829 461.224 182.848 461.224 Q188.635 461.224 192.014 464.395 Q195.394 467.567 195.394 472.983 Q195.394 478.562 191.922 481.664 Q188.45 484.742 182.13 484.742 Q179.954 484.742 177.686 484.372 Q175.44 484.002 173.033 483.261 L173.033 478.562 Q175.116 479.696 177.339 480.252 Q179.561 480.807 182.038 480.807 Q186.042 480.807 188.38 478.701 Q190.718 476.594 190.718 472.983 Q190.718 469.372 188.38 467.266 Q186.042 465.159 182.038 465.159 Q180.163 465.159 178.288 465.576 Q176.436 465.993 174.491 466.872 L174.491 449.511 Z\" fill=\"#000000\" fill-rule=\"evenodd\" fill-opacity=\"1\" /><path clip-path=\"url(#clip910)\" d=\"M214.607 452.59 Q210.996 452.59 209.167 456.155 Q207.362 459.696 207.362 466.826 Q207.362 473.932 209.167 477.497 Q210.996 481.039 214.607 481.039 Q218.241 481.039 220.047 477.497 Q221.875 473.932 221.875 466.826 Q221.875 459.696 220.047 456.155 Q218.241 452.59 214.607 452.59 M214.607 448.886 Q220.417 448.886 223.473 453.493 Q226.551 458.076 226.551 466.826 Q226.551 475.553 223.473 480.159 Q220.417 484.742 214.607 484.742 Q208.797 484.742 205.718 480.159 Q202.662 475.553 202.662 466.826 Q202.662 458.076 205.718 453.493 Q208.797 448.886 214.607 448.886 Z\" fill=\"#000000\" fill-rule=\"evenodd\" fill-opacity=\"1\" /><path clip-path=\"url(#clip910)\" d=\"M244.769 452.59 Q241.158 452.59 239.329 456.155 Q237.523 459.696 237.523 466.826 Q237.523 473.932 239.329 477.497 Q241.158 481.039 244.769 481.039 Q248.403 481.039 250.209 477.497 Q252.037 473.932 252.037 466.826 Q252.037 459.696 250.209 456.155 Q248.403 452.59 244.769 452.59 M244.769 448.886 Q250.579 448.886 253.634 453.493 Q256.713 458.076 256.713 466.826 Q256.713 475.553 253.634 480.159 Q250.579 484.742 244.769 484.742 Q238.959 484.742 235.88 480.159 Q232.824 475.553 232.824 466.826 Q232.824 458.076 235.88 453.493 Q238.959 448.886 244.769 448.886 Z\" fill=\"#000000\" fill-rule=\"evenodd\" fill-opacity=\"1\" /><path clip-path=\"url(#clip910)\" d=\"M114.931 173.601 L122.57 173.601 L122.57 147.236 L114.26 148.902 L114.26 144.643 L122.524 142.976 L127.2 142.976 L127.2 173.601 L134.839 173.601 L134.839 177.536 L114.931 177.536 L114.931 173.601 Z\" fill=\"#000000\" fill-rule=\"evenodd\" fill-opacity=\"1\" /><path clip-path=\"url(#clip910)\" d=\"M154.283 146.055 Q150.672 146.055 148.843 149.62 Q147.038 153.161 147.038 160.291 Q147.038 167.397 148.843 170.962 Q150.672 174.504 154.283 174.504 Q157.917 174.504 159.723 170.962 Q161.552 167.397 161.552 160.291 Q161.552 153.161 159.723 149.62 Q157.917 146.055 154.283 146.055 M154.283 142.351 Q160.093 142.351 163.149 146.958 Q166.227 151.541 166.227 160.291 Q166.227 169.018 163.149 173.624 Q160.093 178.208 154.283 178.208 Q148.473 178.208 145.394 173.624 Q142.339 169.018 142.339 160.291 Q142.339 151.541 145.394 146.958 Q148.473 142.351 154.283 142.351 Z\" fill=\"#000000\" fill-rule=\"evenodd\" fill-opacity=\"1\" /><path clip-path=\"url(#clip910)\" d=\"M184.445 146.055 Q180.834 146.055 179.005 149.62 Q177.2 153.161 177.2 160.291 Q177.2 167.397 179.005 170.962 Q180.834 174.504 184.445 174.504 Q188.079 174.504 189.885 170.962 Q191.713 167.397 191.713 160.291 Q191.713 153.161 189.885 149.62 Q188.079 146.055 184.445 146.055 M184.445 142.351 Q190.255 142.351 193.311 146.958 Q196.389 151.541 196.389 160.291 Q196.389 169.018 193.311 173.624 Q190.255 178.208 184.445 178.208 Q178.635 178.208 175.556 173.624 Q172.501 169.018 172.501 160.291 Q172.501 151.541 175.556 146.958 Q178.635 142.351 184.445 142.351 Z\" fill=\"#000000\" fill-rule=\"evenodd\" fill-opacity=\"1\" /><path clip-path=\"url(#clip910)\" d=\"M214.607 146.055 Q210.996 146.055 209.167 149.62 Q207.362 153.161 207.362 160.291 Q207.362 167.397 209.167 170.962 Q210.996 174.504 214.607 174.504 Q218.241 174.504 220.047 170.962 Q221.875 167.397 221.875 160.291 Q221.875 153.161 220.047 149.62 Q218.241 146.055 214.607 146.055 M214.607 142.351 Q220.417 142.351 223.473 146.958 Q226.551 151.541 226.551 160.291 Q226.551 169.018 223.473 173.624 Q220.417 178.208 214.607 178.208 Q208.797 178.208 205.718 173.624 Q202.662 169.018 202.662 160.291 Q202.662 151.541 205.718 146.958 Q208.797 142.351 214.607 142.351 Z\" fill=\"#000000\" fill-rule=\"evenodd\" fill-opacity=\"1\" /><path clip-path=\"url(#clip910)\" d=\"M244.769 146.055 Q241.158 146.055 239.329 149.62 Q237.523 153.161 237.523 160.291 Q237.523 167.397 239.329 170.962 Q241.158 174.504 244.769 174.504 Q248.403 174.504 250.209 170.962 Q252.037 167.397 252.037 160.291 Q252.037 153.161 250.209 149.62 Q248.403 146.055 244.769 146.055 M244.769 142.351 Q250.579 142.351 253.634 146.958 Q256.713 151.541 256.713 160.291 Q256.713 169.018 253.634 173.624 Q250.579 178.208 244.769 178.208 Q238.959 178.208 235.88 173.624 Q232.824 169.018 232.824 160.291 Q232.824 151.541 235.88 146.958 Q238.959 142.351 244.769 142.351 Z\" fill=\"#000000\" fill-rule=\"evenodd\" fill-opacity=\"1\" /><path clip-path=\"url(#clip910)\" d=\"M35.3266 933.264 L35.3266 942.526 L45.9574 945.2 L45.9574 935.874 L35.3266 933.264 M17.2162 938.039 L30.4251 941.349 L30.4251 932.055 L17.2162 928.713 L17.2162 923.62 L30.4251 926.899 L30.4251 916.968 L35.3266 916.968 L35.3266 928.14 L45.9574 930.75 L45.9574 920.628 L50.8271 920.628 L50.8271 931.991 L64.0042 935.301 L64.0042 940.394 L50.8271 937.116 L50.8271 946.441 L64.0042 949.72 L64.0042 954.844 L50.8271 951.534 L50.8271 961.56 L45.9574 961.56 L45.9574 950.356 L35.3266 947.683 L35.3266 957.931 L30.4251 957.931 L30.4251 946.441 L17.2162 943.195 L17.2162 938.039 Z\" fill=\"#000000\" fill-rule=\"evenodd\" fill-opacity=\"1\" /><path clip-path=\"url(#clip910)\" d=\"M28.3562 885.108 L28.3562 879.251 L64.0042 879.251 L64.0042 885.108 L28.3562 885.108 M14.479 885.108 L14.479 879.251 L21.895 879.251 L21.895 885.108 L14.479 885.108 Z\" fill=\"#000000\" fill-rule=\"evenodd\" fill-opacity=\"1\" /><path clip-path=\"url(#clip910)\" d=\"M18.2347 861.205 L28.3562 861.205 L28.3562 849.142 L32.9077 849.142 L32.9077 861.205 L52.2594 861.205 Q56.6199 861.205 57.8613 860.027 Q59.1026 858.817 59.1026 855.157 L59.1026 849.142 L64.0042 849.142 L64.0042 855.157 Q64.0042 861.937 61.4897 864.515 Q58.9434 867.093 52.2594 867.093 L32.9077 867.093 L32.9077 871.39 L28.3562 871.39 L28.3562 867.093 L18.2347 867.093 L18.2347 861.205 Z\" fill=\"#000000\" fill-rule=\"evenodd\" fill-opacity=\"1\" /><path clip-path=\"url(#clip910)\" d=\"M44.7161 810.947 L47.5806 810.947 L47.5806 837.874 Q53.6281 837.492 56.8109 834.246 Q59.9619 830.967 59.9619 825.143 Q59.9619 821.769 59.1344 818.618 Q58.3069 815.435 56.6518 812.316 L62.1899 812.316 Q63.5267 815.467 64.227 818.777 Q64.9272 822.087 64.9272 825.493 Q64.9272 834.023 59.9619 839.02 Q54.9967 843.985 46.5303 843.985 Q37.7774 843.985 32.6531 839.275 Q27.4968 834.532 27.4968 826.511 Q27.4968 819.318 32.1438 815.149 Q36.7589 810.947 44.7161 810.947 M42.9973 816.804 Q38.1912 816.867 35.3266 819.509 Q32.4621 822.119 32.4621 826.448 Q32.4621 831.349 35.2312 834.309 Q38.0002 837.238 43.0292 837.683 L42.9973 816.804 Z\" fill=\"#000000\" fill-rule=\"evenodd\" fill-opacity=\"1\" /><path clip-path=\"url(#clip910)\" d=\"M33.8307 780.678 Q33.2578 781.665 33.0032 782.843 Q32.7167 783.989 32.7167 785.389 Q32.7167 790.354 35.9632 793.028 Q39.1779 795.67 45.2253 795.67 L64.0042 795.67 L64.0042 801.558 L28.3562 801.558 L28.3562 795.67 L33.8944 795.67 Q30.6479 793.824 29.0883 790.864 Q27.4968 787.903 27.4968 783.67 Q27.4968 783.066 27.5923 782.333 Q27.656 781.601 27.8151 780.71 L33.8307 780.678 Z\" fill=\"#000000\" fill-rule=\"evenodd\" fill-opacity=\"1\" /><path clip-path=\"url(#clip910)\" d=\"M46.0847 758.335 Q46.0847 765.433 47.7079 768.17 Q49.3312 770.907 53.2461 770.907 Q56.3653 770.907 58.2114 768.87 Q60.0256 766.801 60.0256 763.268 Q60.0256 758.398 56.5881 755.47 Q53.1188 752.51 47.3897 752.51 L46.0847 752.51 L46.0847 758.335 M43.6657 746.654 L64.0042 746.654 L64.0042 752.51 L58.5933 752.51 Q61.8398 754.515 63.3994 757.507 Q64.9272 760.499 64.9272 764.828 Q64.9272 770.302 61.8716 773.549 Q58.7843 776.763 53.6281 776.763 Q47.6125 776.763 44.5569 772.753 Q41.5014 768.711 41.5014 760.722 L41.5014 752.51 L40.9285 752.51 Q36.8862 752.51 34.6901 755.184 Q32.4621 757.825 32.4621 762.632 Q32.4621 765.687 33.1941 768.584 Q33.9262 771.48 35.3903 774.154 L29.9795 774.154 Q28.7381 770.939 28.1334 767.915 Q27.4968 764.891 27.4968 762.027 Q27.4968 754.293 31.5072 750.473 Q35.5176 746.654 43.6657 746.654 Z\" fill=\"#000000\" fill-rule=\"evenodd\" fill-opacity=\"1\" /><path clip-path=\"url(#clip910)\" d=\"M18.2347 728.798 L28.3562 728.798 L28.3562 716.735 L32.9077 716.735 L32.9077 728.798 L52.2594 728.798 Q56.6199 728.798 57.8613 727.62 Q59.1026 726.411 59.1026 722.75 L59.1026 716.735 L64.0042 716.735 L64.0042 722.75 Q64.0042 729.53 61.4897 732.108 Q58.9434 734.686 52.2594 734.686 L32.9077 734.686 L32.9077 738.983 L28.3562 738.983 L28.3562 734.686 L18.2347 734.686 L18.2347 728.798 Z\" fill=\"#000000\" fill-rule=\"evenodd\" fill-opacity=\"1\" /><path clip-path=\"url(#clip910)\" d=\"M28.3562 709.032 L28.3562 703.176 L64.0042 703.176 L64.0042 709.032 L28.3562 709.032 M14.479 709.032 L14.479 703.176 L21.895 703.176 L21.895 709.032 L14.479 709.032 Z\" fill=\"#000000\" fill-rule=\"evenodd\" fill-opacity=\"1\" /><path clip-path=\"url(#clip910)\" d=\"M32.4621 677.108 Q32.4621 681.819 36.1542 684.556 Q39.8145 687.293 46.212 687.293 Q52.6095 687.293 56.3017 684.588 Q59.9619 681.851 59.9619 677.108 Q59.9619 672.43 56.2698 669.692 Q52.5777 666.955 46.212 666.955 Q39.8781 666.955 36.186 669.692 Q32.4621 672.43 32.4621 677.108 M27.4968 677.108 Q27.4968 669.469 32.4621 665.109 Q37.4273 660.748 46.212 660.748 Q54.9649 660.748 59.9619 665.109 Q64.9272 669.469 64.9272 677.108 Q64.9272 684.779 59.9619 689.14 Q54.9649 693.468 46.212 693.468 Q37.4273 693.468 32.4621 689.14 Q27.4968 684.779 27.4968 677.108 Z\" fill=\"#000000\" fill-rule=\"evenodd\" fill-opacity=\"1\" /><path clip-path=\"url(#clip910)\" d=\"M42.4881 621.408 L64.0042 621.408 L64.0042 627.265 L42.679 627.265 Q37.6183 627.265 35.1038 629.238 Q32.5894 631.212 32.5894 635.158 Q32.5894 639.901 35.6131 642.638 Q38.6368 645.375 43.8567 645.375 L64.0042 645.375 L64.0042 651.264 L28.3562 651.264 L28.3562 645.375 L33.8944 645.375 Q30.6797 643.275 29.0883 640.442 Q27.4968 637.577 27.4968 633.853 Q27.4968 627.71 31.3163 624.559 Q35.1038 621.408 42.4881 621.408 Z\" fill=\"#000000\" fill-rule=\"evenodd\" fill-opacity=\"1\" /><path clip-path=\"url(#clip910)\" d=\"M29.4065 587.002 L34.9447 587.002 Q33.6716 589.484 33.035 592.158 Q32.3984 594.832 32.3984 597.696 Q32.3984 602.057 33.7352 604.253 Q35.072 606.417 37.7456 606.417 Q39.7826 606.417 40.9603 604.858 Q42.1061 603.298 43.1565 598.587 L43.6021 596.582 Q44.9389 590.344 47.3897 587.734 Q49.8086 585.092 54.1691 585.092 Q59.1344 585.092 62.0308 589.039 Q64.9272 592.954 64.9272 599.829 Q64.9272 602.693 64.3543 605.812 Q63.8132 608.9 62.6992 612.337 L56.6518 612.337 Q58.3387 609.091 59.198 605.94 Q60.0256 602.789 60.0256 599.701 Q60.0256 595.564 58.6251 593.336 Q57.1929 591.108 54.6147 591.108 Q52.2276 591.108 50.9545 592.731 Q49.6813 594.322 48.5037 599.765 L48.0262 601.802 Q46.8804 607.245 44.5251 609.664 Q42.138 612.083 38.0002 612.083 Q32.9713 612.083 30.2341 608.518 Q27.4968 604.953 27.4968 598.396 Q27.4968 595.15 27.9743 592.285 Q28.4517 589.421 29.4065 587.002 Z\" fill=\"#000000\" fill-rule=\"evenodd\" fill-opacity=\"1\" /><path clip-path=\"url(#clip910)\" d=\"M898.99 12.096 L910.008 12.096 L936.825 62.6918 L936.825 12.096 L944.765 12.096 L944.765 72.576 L933.746 72.576 L906.929 21.9802 L906.929 72.576 L898.99 72.576 L898.99 12.096 Z\" fill=\"#000000\" fill-rule=\"evenodd\" fill-opacity=\"1\" /><path clip-path=\"url(#clip910)\" d=\"M959.956 54.671 L959.956 27.2059 L967.409 27.2059 L967.409 54.3874 Q967.409 60.8284 969.921 64.0691 Q972.433 67.2693 977.456 67.2693 Q983.492 67.2693 986.975 63.421 Q990.5 59.5726 990.5 52.9291 L990.5 27.2059 L997.953 27.2059 L997.953 72.576 L990.5 72.576 L990.5 65.6084 Q987.785 69.7404 984.18 71.7658 Q980.615 73.7508 975.876 73.7508 Q968.058 73.7508 964.007 68.8897 Q959.956 64.0286 959.956 54.671 M978.711 26.1121 L978.711 26.1121 Z\" fill=\"#000000\" fill-rule=\"evenodd\" fill-opacity=\"1\" /><path clip-path=\"url(#clip910)\" d=\"M1048.63 35.9153 Q1051.43 30.8922 1055.31 28.5022 Q1059.2 26.1121 1064.47 26.1121 Q1071.56 26.1121 1075.41 31.0947 Q1079.25 36.0368 1079.25 45.1919 L1079.25 72.576 L1071.76 72.576 L1071.76 45.4349 Q1071.76 38.913 1069.45 35.7533 Q1067.14 32.5936 1062.4 32.5936 Q1056.61 32.5936 1053.25 36.4419 Q1049.89 40.2903 1049.89 46.9338 L1049.89 72.576 L1042.39 72.576 L1042.39 45.4349 Q1042.39 38.8725 1040.08 35.7533 Q1037.77 32.5936 1032.95 32.5936 Q1027.24 32.5936 1023.88 36.4824 Q1020.52 40.3308 1020.52 46.9338 L1020.52 72.576 L1013.02 72.576 L1013.02 27.2059 L1020.52 27.2059 L1020.52 34.2544 Q1023.07 30.082 1026.63 28.0971 Q1030.2 26.1121 1035.1 26.1121 Q1040.04 26.1121 1043.49 28.6237 Q1046.97 31.1352 1048.63 35.9153 Z\" fill=\"#000000\" fill-rule=\"evenodd\" fill-opacity=\"1\" /><path clip-path=\"url(#clip910)\" d=\"M1126.69 49.9314 Q1126.69 41.7081 1123.29 37.0496 Q1119.93 32.3505 1114.01 32.3505 Q1108.1 32.3505 1104.69 37.0496 Q1101.33 41.7081 1101.33 49.9314 Q1101.33 58.1548 1104.69 62.8538 Q1108.1 67.5124 1114.01 67.5124 Q1119.93 67.5124 1123.29 62.8538 Q1126.69 58.1548 1126.69 49.9314 M1101.33 34.0924 Q1103.68 30.0415 1107.25 28.0971 Q1110.85 26.1121 1115.83 26.1121 Q1124.1 26.1121 1129.24 32.6746 Q1134.43 39.2371 1134.43 49.9314 Q1134.43 60.6258 1129.24 67.1883 Q1124.1 73.7508 1115.83 73.7508 Q1110.85 73.7508 1107.25 71.8063 Q1103.68 69.8214 1101.33 65.7705 L1101.33 72.576 L1093.84 72.576 L1093.84 9.54393 L1101.33 9.54393 L1101.33 34.0924 Z\" fill=\"#000000\" fill-rule=\"evenodd\" fill-opacity=\"1\" /><path clip-path=\"url(#clip910)\" d=\"M1185.59 48.0275 L1185.59 51.6733 L1151.32 51.6733 Q1151.81 59.3701 1155.94 63.421 Q1160.11 67.4314 1167.52 67.4314 Q1171.82 67.4314 1175.83 66.3781 Q1179.88 65.3249 1183.85 63.2184 L1183.85 70.267 Q1179.84 71.9684 1175.63 72.8596 Q1171.41 73.7508 1167.08 73.7508 Q1156.22 73.7508 1149.86 67.4314 Q1143.54 61.1119 1143.54 50.3365 Q1143.54 39.1965 1149.54 32.6746 Q1155.57 26.1121 1165.78 26.1121 Q1174.94 26.1121 1180.24 32.0264 Q1185.59 37.9003 1185.59 48.0275 M1178.14 45.84 Q1178.06 39.7232 1174.69 36.0774 Q1171.37 32.4315 1165.86 32.4315 Q1159.62 32.4315 1155.86 35.9558 Q1152.13 39.4801 1151.56 45.8805 L1178.14 45.84 Z\" fill=\"#000000\" fill-rule=\"evenodd\" fill-opacity=\"1\" /><path clip-path=\"url(#clip910)\" d=\"M1224.12 34.1734 Q1222.86 33.4443 1221.36 33.1202 Q1219.9 32.7556 1218.12 32.7556 Q1211.8 32.7556 1208.4 36.8875 Q1205.04 40.9789 1205.04 48.6757 L1205.04 72.576 L1197.54 72.576 L1197.54 27.2059 L1205.04 27.2059 L1205.04 34.2544 Q1207.39 30.1225 1211.15 28.1376 Q1214.92 26.1121 1220.31 26.1121 Q1221.08 26.1121 1222.01 26.2337 Q1222.94 26.3147 1224.07 26.5172 L1224.12 34.1734 Z\" fill=\"#000000\" fill-rule=\"evenodd\" fill-opacity=\"1\" /><path clip-path=\"url(#clip910)\" d=\"M1275.89 32.4315 Q1269.89 32.4315 1266.41 37.1306 Q1262.92 41.7891 1262.92 49.9314 Q1262.92 58.0738 1266.37 62.7728 Q1269.85 67.4314 1275.89 67.4314 Q1281.84 67.4314 1285.32 62.7323 Q1288.81 58.0333 1288.81 49.9314 Q1288.81 41.8701 1285.32 37.1711 Q1281.84 32.4315 1275.89 32.4315 M1275.89 26.1121 Q1285.61 26.1121 1291.16 32.4315 Q1296.71 38.7509 1296.71 49.9314 Q1296.71 61.0714 1291.16 67.4314 Q1285.61 73.7508 1275.89 73.7508 Q1266.12 73.7508 1260.57 67.4314 Q1255.06 61.0714 1255.06 49.9314 Q1255.06 38.7509 1260.57 32.4315 Q1266.12 26.1121 1275.89 26.1121 Z\" fill=\"#000000\" fill-rule=\"evenodd\" fill-opacity=\"1\" /><path clip-path=\"url(#clip910)\" d=\"M1332.03 9.54393 L1332.03 15.7418 L1324.9 15.7418 Q1320.89 15.7418 1319.31 17.3622 Q1317.77 18.9825 1317.77 23.1955 L1317.77 27.2059 L1330.05 27.2059 L1330.05 32.9987 L1317.77 32.9987 L1317.77 72.576 L1310.28 72.576 L1310.28 32.9987 L1303.15 32.9987 L1303.15 27.2059 L1310.28 27.2059 L1310.28 24.0462 Q1310.28 16.471 1313.8 13.0277 Q1317.33 9.54393 1324.98 9.54393 L1332.03 9.54393 Z\" fill=\"#000000\" fill-rule=\"evenodd\" fill-opacity=\"1\" /><path clip-path=\"url(#clip910)\" d=\"M1364.64 27.2059 L1372.09 27.2059 L1372.09 72.576 L1364.64 72.576 L1364.64 27.2059 M1364.64 9.54393 L1372.09 9.54393 L1372.09 18.9825 L1364.64 18.9825 L1364.64 9.54393 Z\" fill=\"#000000\" fill-rule=\"evenodd\" fill-opacity=\"1\" /><path clip-path=\"url(#clip910)\" d=\"M1395.06 14.324 L1395.06 27.2059 L1410.42 27.2059 L1410.42 32.9987 L1395.06 32.9987 L1395.06 57.6282 Q1395.06 63.1779 1396.56 64.7578 Q1398.1 66.3376 1402.76 66.3376 L1410.42 66.3376 L1410.42 72.576 L1402.76 72.576 Q1394.13 72.576 1390.85 69.3758 Q1387.57 66.1351 1387.57 57.6282 L1387.57 32.9987 L1382.1 32.9987 L1382.1 27.2059 L1387.57 27.2059 L1387.57 14.324 L1395.06 14.324 Z\" fill=\"#000000\" fill-rule=\"evenodd\" fill-opacity=\"1\" /><path clip-path=\"url(#clip910)\" d=\"M1459.03 48.0275 L1459.03 51.6733 L1424.76 51.6733 Q1425.24 59.3701 1429.37 63.421 Q1433.55 67.4314 1440.96 67.4314 Q1445.25 67.4314 1449.26 66.3781 Q1453.32 65.3249 1457.29 63.2184 L1457.29 70.267 Q1453.27 71.9684 1449.06 72.8596 Q1444.85 73.7508 1440.51 73.7508 Q1429.66 73.7508 1423.3 67.4314 Q1416.98 61.1119 1416.98 50.3365 Q1416.98 39.1965 1422.97 32.6746 Q1429.01 26.1121 1439.22 26.1121 Q1448.37 26.1121 1453.68 32.0264 Q1459.03 37.9003 1459.03 48.0275 M1451.57 45.84 Q1451.49 39.7232 1448.13 36.0774 Q1444.81 32.4315 1439.3 32.4315 Q1433.06 32.4315 1429.29 35.9558 Q1425.57 39.4801 1425 45.8805 L1451.57 45.84 Z\" fill=\"#000000\" fill-rule=\"evenodd\" fill-opacity=\"1\" /><path clip-path=\"url(#clip910)\" d=\"M1497.55 34.1734 Q1496.3 33.4443 1494.8 33.1202 Q1493.34 32.7556 1491.56 32.7556 Q1485.24 32.7556 1481.83 36.8875 Q1478.47 40.9789 1478.47 48.6757 L1478.47 72.576 L1470.98 72.576 L1470.98 27.2059 L1478.47 27.2059 L1478.47 34.2544 Q1480.82 30.1225 1484.59 28.1376 Q1488.36 26.1121 1493.74 26.1121 Q1494.51 26.1121 1495.44 26.2337 Q1496.38 26.3147 1497.51 26.5172 L1497.55 34.1734 Z\" fill=\"#000000\" fill-rule=\"evenodd\" fill-opacity=\"1\" /><path clip-path=\"url(#clip910)\" d=\"M1525.99 49.7694 Q1516.96 49.7694 1513.47 51.8354 Q1509.99 53.9013 1509.99 58.8839 Q1509.99 62.8538 1512.58 65.2034 Q1515.21 67.5124 1519.71 67.5124 Q1525.91 67.5124 1529.63 63.1374 Q1533.4 58.7219 1533.4 51.4303 L1533.4 49.7694 L1525.99 49.7694 M1540.86 46.6907 L1540.86 72.576 L1533.4 72.576 L1533.4 65.6895 Q1530.85 69.8214 1527.04 71.8063 Q1523.23 73.7508 1517.72 73.7508 Q1510.76 73.7508 1506.63 69.8619 Q1502.53 65.9325 1502.53 59.3701 Q1502.53 51.7138 1507.64 47.825 Q1512.78 43.9361 1522.95 43.9361 L1533.4 43.9361 L1533.4 43.2069 Q1533.4 38.0623 1530 35.2672 Q1526.64 32.4315 1520.52 32.4315 Q1516.63 32.4315 1512.94 33.3632 Q1509.26 34.295 1505.86 36.1584 L1505.86 29.2718 Q1509.95 27.692 1513.8 26.9223 Q1517.64 26.1121 1521.29 26.1121 Q1531.13 26.1121 1535.99 31.2163 Q1540.86 36.3204 1540.86 46.6907 Z\" fill=\"#000000\" fill-rule=\"evenodd\" fill-opacity=\"1\" /><path clip-path=\"url(#clip910)\" d=\"M1563.58 14.324 L1563.58 27.2059 L1578.93 27.2059 L1578.93 32.9987 L1563.58 32.9987 L1563.58 57.6282 Q1563.58 63.1779 1565.08 64.7578 Q1566.62 66.3376 1571.28 66.3376 L1578.93 66.3376 L1578.93 72.576 L1571.28 72.576 Q1562.65 72.576 1559.37 69.3758 Q1556.09 66.1351 1556.09 57.6282 L1556.09 32.9987 L1550.62 32.9987 L1550.62 27.2059 L1556.09 27.2059 L1556.09 14.324 L1563.58 14.324 Z\" fill=\"#000000\" fill-rule=\"evenodd\" fill-opacity=\"1\" /><path clip-path=\"url(#clip910)\" d=\"M1588.74 27.2059 L1596.19 27.2059 L1596.19 72.576 L1588.74 72.576 L1588.74 27.2059 M1588.74 9.54393 L1596.19 9.54393 L1596.19 18.9825 L1588.74 18.9825 L1588.74 9.54393 Z\" fill=\"#000000\" fill-rule=\"evenodd\" fill-opacity=\"1\" /><path clip-path=\"url(#clip910)\" d=\"M1629.37 32.4315 Q1623.37 32.4315 1619.89 37.1306 Q1616.4 41.7891 1616.4 49.9314 Q1616.4 58.0738 1619.85 62.7728 Q1623.33 67.4314 1629.37 67.4314 Q1635.32 67.4314 1638.81 62.7323 Q1642.29 58.0333 1642.29 49.9314 Q1642.29 41.8701 1638.81 37.1711 Q1635.32 32.4315 1629.37 32.4315 M1629.37 26.1121 Q1639.09 26.1121 1644.64 32.4315 Q1650.19 38.7509 1650.19 49.9314 Q1650.19 61.0714 1644.64 67.4314 Q1639.09 73.7508 1629.37 73.7508 Q1619.61 73.7508 1614.06 67.4314 Q1608.55 61.0714 1608.55 49.9314 Q1608.55 38.7509 1614.06 32.4315 Q1619.61 26.1121 1629.37 26.1121 Z\" fill=\"#000000\" fill-rule=\"evenodd\" fill-opacity=\"1\" /><path clip-path=\"url(#clip910)\" d=\"M1700.26 45.1919 L1700.26 72.576 L1692.8 72.576 L1692.8 45.4349 Q1692.8 38.994 1690.29 35.7938 Q1687.78 32.5936 1682.76 32.5936 Q1676.72 32.5936 1673.24 36.4419 Q1669.76 40.2903 1669.76 46.9338 L1669.76 72.576 L1662.26 72.576 L1662.26 27.2059 L1669.76 27.2059 L1669.76 34.2544 Q1672.43 30.163 1676.03 28.1376 Q1679.68 26.1121 1684.42 26.1121 Q1692.24 26.1121 1696.25 30.9732 Q1700.26 35.7938 1700.26 45.1919 Z\" fill=\"#000000\" fill-rule=\"evenodd\" fill-opacity=\"1\" /><path clip-path=\"url(#clip910)\" d=\"M1744.05 28.5427 L1744.05 35.5912 Q1740.89 33.9709 1737.49 33.1607 Q1734.08 32.3505 1730.44 32.3505 Q1724.89 32.3505 1722.09 34.0519 Q1719.34 35.7533 1719.34 39.156 Q1719.34 41.7486 1721.32 43.2475 Q1723.31 44.7058 1729.3 46.0426 L1731.86 46.6097 Q1739.8 48.3111 1743.12 51.4303 Q1746.48 54.509 1746.48 60.0587 Q1746.48 66.3781 1741.46 70.0644 Q1736.47 73.7508 1727.72 73.7508 Q1724.08 73.7508 1720.11 73.0216 Q1716.18 72.3329 1711.8 70.9151 L1711.8 63.2184 Q1715.94 65.3654 1719.95 66.4591 Q1723.96 67.5124 1727.89 67.5124 Q1733.15 67.5124 1735.99 65.73 Q1738.82 63.9071 1738.82 60.6258 Q1738.82 57.5877 1736.76 55.9673 Q1734.73 54.3469 1727.8 52.8481 L1725.21 52.2405 Q1718.29 50.7821 1715.21 47.7845 Q1712.13 44.7463 1712.13 39.4801 Q1712.13 33.0797 1716.66 29.5959 Q1721.2 26.1121 1729.55 26.1121 Q1733.68 26.1121 1737.32 26.7198 Q1740.97 27.3274 1744.05 28.5427 Z\" fill=\"#000000\" fill-rule=\"evenodd\" fill-opacity=\"1\" /><path clip-path=\"url(#clip912)\" d=\"\n",
       "M406.019 160.256 L406.019 1386.4 L658.906 1386.4 L658.906 160.256 L406.019 160.256 L406.019 160.256  Z\n",
       "  \" fill=\"#009af9\" fill-rule=\"evenodd\" fill-opacity=\"1\"/>\n",
       "<polyline clip-path=\"url(#clip912)\" style=\"stroke:#000000; stroke-linecap:butt; stroke-linejoin:round; stroke-width:4; stroke-opacity:1; fill:none\" points=\"\n",
       "  406.019,160.256 406.019,1386.4 658.906,1386.4 658.906,160.256 406.019,160.256 \n",
       "  \"/>\n",
       "<path clip-path=\"url(#clip912)\" d=\"\n",
       "M722.128 160.256 L722.128 1386.4 L975.015 1386.4 L975.015 160.256 L722.128 160.256 L722.128 160.256  Z\n",
       "  \" fill=\"#009af9\" fill-rule=\"evenodd\" fill-opacity=\"1\"/>\n",
       "<polyline clip-path=\"url(#clip912)\" style=\"stroke:#000000; stroke-linecap:butt; stroke-linejoin:round; stroke-width:4; stroke-opacity:1; fill:none\" points=\"\n",
       "  722.128,160.256 722.128,1386.4 975.015,1386.4 975.015,160.256 722.128,160.256 \n",
       "  \"/>\n",
       "<path clip-path=\"url(#clip912)\" d=\"\n",
       "M1038.24 160.256 L1038.24 1386.4 L1291.12 1386.4 L1291.12 160.256 L1038.24 160.256 L1038.24 160.256  Z\n",
       "  \" fill=\"#009af9\" fill-rule=\"evenodd\" fill-opacity=\"1\"/>\n",
       "<polyline clip-path=\"url(#clip912)\" style=\"stroke:#000000; stroke-linecap:butt; stroke-linejoin:round; stroke-width:4; stroke-opacity:1; fill:none\" points=\"\n",
       "  1038.24,160.256 1038.24,1386.4 1291.12,1386.4 1291.12,160.256 1038.24,160.256 \n",
       "  \"/>\n",
       "<path clip-path=\"url(#clip912)\" d=\"\n",
       "M1354.35 160.256 L1354.35 1386.4 L1607.23 1386.4 L1607.23 160.256 L1354.35 160.256 L1354.35 160.256  Z\n",
       "  \" fill=\"#009af9\" fill-rule=\"evenodd\" fill-opacity=\"1\"/>\n",
       "<polyline clip-path=\"url(#clip912)\" style=\"stroke:#000000; stroke-linecap:butt; stroke-linejoin:round; stroke-width:4; stroke-opacity:1; fill:none\" points=\"\n",
       "  1354.35,160.256 1354.35,1386.4 1607.23,1386.4 1607.23,160.256 1354.35,160.256 \n",
       "  \"/>\n",
       "<path clip-path=\"url(#clip912)\" d=\"\n",
       "M1670.45 160.256 L1670.45 1386.4 L1923.34 1386.4 L1923.34 160.256 L1670.45 160.256 L1670.45 160.256  Z\n",
       "  \" fill=\"#009af9\" fill-rule=\"evenodd\" fill-opacity=\"1\"/>\n",
       "<polyline clip-path=\"url(#clip912)\" style=\"stroke:#000000; stroke-linecap:butt; stroke-linejoin:round; stroke-width:4; stroke-opacity:1; fill:none\" points=\"\n",
       "  1670.45,160.256 1670.45,1386.4 1923.34,1386.4 1923.34,160.256 1670.45,160.256 \n",
       "  \"/>\n",
       "<path clip-path=\"url(#clip912)\" d=\"\n",
       "M1986.56 160.256 L1986.56 1386.4 L2239.45 1386.4 L2239.45 160.256 L1986.56 160.256 L1986.56 160.256  Z\n",
       "  \" fill=\"#009af9\" fill-rule=\"evenodd\" fill-opacity=\"1\"/>\n",
       "<polyline clip-path=\"url(#clip912)\" style=\"stroke:#000000; stroke-linecap:butt; stroke-linejoin:round; stroke-width:4; stroke-opacity:1; fill:none\" points=\"\n",
       "  1986.56,160.256 1986.56,1386.4 2239.45,1386.4 2239.45,160.256 1986.56,160.256 \n",
       "  \"/>\n",
       "<circle clip-path=\"url(#clip912)\" style=\"fill:#009af9; stroke:none; fill-opacity:0\" cx=\"532.463\" cy=\"160.256\" r=\"2\"/>\n",
       "<circle clip-path=\"url(#clip912)\" style=\"fill:#009af9; stroke:none; fill-opacity:0\" cx=\"848.571\" cy=\"160.256\" r=\"2\"/>\n",
       "<circle clip-path=\"url(#clip912)\" style=\"fill:#009af9; stroke:none; fill-opacity:0\" cx=\"1164.68\" cy=\"160.256\" r=\"2\"/>\n",
       "<circle clip-path=\"url(#clip912)\" style=\"fill:#009af9; stroke:none; fill-opacity:0\" cx=\"1480.79\" cy=\"160.256\" r=\"2\"/>\n",
       "<circle clip-path=\"url(#clip912)\" style=\"fill:#009af9; stroke:none; fill-opacity:0\" cx=\"1796.9\" cy=\"160.256\" r=\"2\"/>\n",
       "<circle clip-path=\"url(#clip912)\" style=\"fill:#009af9; stroke:none; fill-opacity:0\" cx=\"2113.01\" cy=\"160.256\" r=\"2\"/>\n",
       "</svg>\n"
      ]
     },
     "metadata": {},
     "output_type": "display_data"
    },
    {
     "data": {
      "image/svg+xml": [
       "<?xml version=\"1.0\" encoding=\"utf-8\"?>\n",
       "<svg xmlns=\"http://www.w3.org/2000/svg\" xmlns:xlink=\"http://www.w3.org/1999/xlink\" width=\"600\" height=\"400\" viewBox=\"0 0 2400 1600\">\n",
       "<defs>\n",
       "  <clipPath id=\"clip950\">\n",
       "    <rect x=\"0\" y=\"0\" width=\"2400\" height=\"1600\"/>\n",
       "  </clipPath>\n",
       "</defs>\n",
       "<path clip-path=\"url(#clip950)\" d=\"\n",
       "M0 1600 L2400 1600 L2400 0 L0 0  Z\n",
       "  \" fill=\"#ffffff\" fill-rule=\"evenodd\" fill-opacity=\"1\"/>\n",
       "<defs>\n",
       "  <clipPath id=\"clip951\">\n",
       "    <rect x=\"480\" y=\"0\" width=\"1681\" height=\"1600\"/>\n",
       "  </clipPath>\n",
       "</defs>\n",
       "<path clip-path=\"url(#clip950)\" d=\"\n",
       "M339.495 1423.18 L2352.76 1423.18 L2352.76 123.472 L339.495 123.472  Z\n",
       "  \" fill=\"#ffffff\" fill-rule=\"evenodd\" fill-opacity=\"1\"/>\n",
       "<defs>\n",
       "  <clipPath id=\"clip952\">\n",
       "    <rect x=\"339\" y=\"123\" width=\"2014\" height=\"1301\"/>\n",
       "  </clipPath>\n",
       "</defs>\n",
       "<polyline clip-path=\"url(#clip952)\" style=\"stroke:#000000; stroke-linecap:butt; stroke-linejoin:round; stroke-width:2; stroke-opacity:0.1; fill:none\" points=\"\n",
       "  573.8,1423.18 573.8,123.472 \n",
       "  \"/>\n",
       "<polyline clip-path=\"url(#clip952)\" style=\"stroke:#000000; stroke-linecap:butt; stroke-linejoin:round; stroke-width:2; stroke-opacity:0.1; fill:none\" points=\"\n",
       "  882.73,1423.18 882.73,123.472 \n",
       "  \"/>\n",
       "<polyline clip-path=\"url(#clip952)\" style=\"stroke:#000000; stroke-linecap:butt; stroke-linejoin:round; stroke-width:2; stroke-opacity:0.1; fill:none\" points=\"\n",
       "  1191.66,1423.18 1191.66,123.472 \n",
       "  \"/>\n",
       "<polyline clip-path=\"url(#clip952)\" style=\"stroke:#000000; stroke-linecap:butt; stroke-linejoin:round; stroke-width:2; stroke-opacity:0.1; fill:none\" points=\"\n",
       "  1500.59,1423.18 1500.59,123.472 \n",
       "  \"/>\n",
       "<polyline clip-path=\"url(#clip952)\" style=\"stroke:#000000; stroke-linecap:butt; stroke-linejoin:round; stroke-width:2; stroke-opacity:0.1; fill:none\" points=\"\n",
       "  1809.52,1423.18 1809.52,123.472 \n",
       "  \"/>\n",
       "<polyline clip-path=\"url(#clip952)\" style=\"stroke:#000000; stroke-linecap:butt; stroke-linejoin:round; stroke-width:2; stroke-opacity:0.1; fill:none\" points=\"\n",
       "  2118.45,1423.18 2118.45,123.472 \n",
       "  \"/>\n",
       "<polyline clip-path=\"url(#clip950)\" style=\"stroke:#000000; stroke-linecap:butt; stroke-linejoin:round; stroke-width:4; stroke-opacity:1; fill:none\" points=\"\n",
       "  339.495,1423.18 2352.76,1423.18 \n",
       "  \"/>\n",
       "<polyline clip-path=\"url(#clip950)\" style=\"stroke:#000000; stroke-linecap:butt; stroke-linejoin:round; stroke-width:4; stroke-opacity:1; fill:none\" points=\"\n",
       "  573.8,1423.18 573.8,1404.28 \n",
       "  \"/>\n",
       "<polyline clip-path=\"url(#clip950)\" style=\"stroke:#000000; stroke-linecap:butt; stroke-linejoin:round; stroke-width:4; stroke-opacity:1; fill:none\" points=\"\n",
       "  882.73,1423.18 882.73,1404.28 \n",
       "  \"/>\n",
       "<polyline clip-path=\"url(#clip950)\" style=\"stroke:#000000; stroke-linecap:butt; stroke-linejoin:round; stroke-width:4; stroke-opacity:1; fill:none\" points=\"\n",
       "  1191.66,1423.18 1191.66,1404.28 \n",
       "  \"/>\n",
       "<polyline clip-path=\"url(#clip950)\" style=\"stroke:#000000; stroke-linecap:butt; stroke-linejoin:round; stroke-width:4; stroke-opacity:1; fill:none\" points=\"\n",
       "  1500.59,1423.18 1500.59,1404.28 \n",
       "  \"/>\n",
       "<polyline clip-path=\"url(#clip950)\" style=\"stroke:#000000; stroke-linecap:butt; stroke-linejoin:round; stroke-width:4; stroke-opacity:1; fill:none\" points=\"\n",
       "  1809.52,1423.18 1809.52,1404.28 \n",
       "  \"/>\n",
       "<polyline clip-path=\"url(#clip950)\" style=\"stroke:#000000; stroke-linecap:butt; stroke-linejoin:round; stroke-width:4; stroke-opacity:1; fill:none\" points=\"\n",
       "  2118.45,1423.18 2118.45,1404.28 \n",
       "  \"/>\n",
       "<path clip-path=\"url(#clip950)\" d=\"M564.182 1481.64 L571.821 1481.64 L571.821 1455.28 L563.511 1456.95 L563.511 1452.69 L571.775 1451.02 L576.451 1451.02 L576.451 1481.64 L584.09 1481.64 L584.09 1485.58 L564.182 1485.58 L564.182 1481.64 Z\" fill=\"#000000\" fill-rule=\"evenodd\" fill-opacity=\"1\" /><path clip-path=\"url(#clip950)\" d=\"M877.383 1481.64 L893.703 1481.64 L893.703 1485.58 L871.758 1485.58 L871.758 1481.64 Q874.42 1478.89 879.004 1474.26 Q883.61 1469.61 884.791 1468.27 Q887.036 1465.74 887.916 1464.01 Q888.818 1462.25 888.818 1460.56 Q888.818 1457.8 886.874 1456.07 Q884.953 1454.33 881.851 1454.33 Q879.652 1454.33 877.198 1455.09 Q874.767 1455.86 871.99 1457.41 L871.99 1452.69 Q874.814 1451.55 877.267 1450.97 Q879.721 1450.39 881.758 1450.39 Q887.128 1450.39 890.323 1453.08 Q893.517 1455.77 893.517 1460.26 Q893.517 1462.39 892.707 1464.31 Q891.92 1466.2 889.814 1468.8 Q889.235 1469.47 886.133 1472.69 Q883.031 1475.88 877.383 1481.64 Z\" fill=\"#000000\" fill-rule=\"evenodd\" fill-opacity=\"1\" /><path clip-path=\"url(#clip950)\" d=\"M1195.91 1466.95 Q1199.26 1467.66 1201.14 1469.93 Q1203.04 1472.2 1203.04 1475.53 Q1203.04 1480.65 1199.52 1483.45 Q1196 1486.25 1189.52 1486.25 Q1187.34 1486.25 1185.03 1485.81 Q1182.74 1485.39 1180.28 1484.54 L1180.28 1480.02 Q1182.23 1481.16 1184.54 1481.74 Q1186.86 1482.32 1189.38 1482.32 Q1193.78 1482.32 1196.07 1480.58 Q1198.39 1478.84 1198.39 1475.53 Q1198.39 1472.48 1196.23 1470.77 Q1194.1 1469.03 1190.28 1469.03 L1186.26 1469.03 L1186.26 1465.19 L1190.47 1465.19 Q1193.92 1465.19 1195.75 1463.82 Q1197.57 1462.43 1197.57 1459.84 Q1197.57 1457.18 1195.68 1455.77 Q1193.8 1454.33 1190.28 1454.33 Q1188.36 1454.33 1186.16 1454.75 Q1183.96 1455.16 1181.32 1456.04 L1181.32 1451.88 Q1183.99 1451.14 1186.3 1450.77 Q1188.64 1450.39 1190.7 1450.39 Q1196.02 1450.39 1199.13 1452.83 Q1202.23 1455.23 1202.23 1459.35 Q1202.23 1462.22 1200.58 1464.21 Q1198.94 1466.18 1195.91 1466.95 Z\" fill=\"#000000\" fill-rule=\"evenodd\" fill-opacity=\"1\" /><path clip-path=\"url(#clip950)\" d=\"M1503.6 1455.09 L1491.79 1473.54 L1503.6 1473.54 L1503.6 1455.09 M1502.37 1451.02 L1508.25 1451.02 L1508.25 1473.54 L1513.18 1473.54 L1513.18 1477.43 L1508.25 1477.43 L1508.25 1485.58 L1503.6 1485.58 L1503.6 1477.43 L1488 1477.43 L1488 1472.92 L1502.37 1451.02 Z\" fill=\"#000000\" fill-rule=\"evenodd\" fill-opacity=\"1\" /><path clip-path=\"url(#clip950)\" d=\"M1799.8 1451.02 L1818.16 1451.02 L1818.16 1454.96 L1804.08 1454.96 L1804.08 1463.43 Q1805.1 1463.08 1806.12 1462.92 Q1807.14 1462.73 1808.16 1462.73 Q1813.94 1462.73 1817.32 1465.9 Q1820.7 1469.08 1820.7 1474.49 Q1820.7 1480.07 1817.23 1483.17 Q1813.76 1486.25 1807.44 1486.25 Q1805.26 1486.25 1802.99 1485.88 Q1800.75 1485.51 1798.34 1484.77 L1798.34 1480.07 Q1800.42 1481.2 1802.65 1481.76 Q1804.87 1482.32 1807.34 1482.32 Q1811.35 1482.32 1813.69 1480.21 Q1816.03 1478.1 1816.03 1474.49 Q1816.03 1470.88 1813.69 1468.77 Q1811.35 1466.67 1807.34 1466.67 Q1805.47 1466.67 1803.59 1467.08 Q1801.74 1467.5 1799.8 1468.38 L1799.8 1451.02 Z\" fill=\"#000000\" fill-rule=\"evenodd\" fill-opacity=\"1\" /><path clip-path=\"url(#clip950)\" d=\"M2118.86 1466.44 Q2115.71 1466.44 2113.86 1468.59 Q2112.03 1470.74 2112.03 1474.49 Q2112.03 1478.22 2113.86 1480.39 Q2115.71 1482.55 2118.86 1482.55 Q2122 1482.55 2123.83 1480.39 Q2125.68 1478.22 2125.68 1474.49 Q2125.68 1470.74 2123.83 1468.59 Q2122 1466.44 2118.86 1466.44 M2128.14 1451.78 L2128.14 1456.04 Q2126.38 1455.21 2124.57 1454.77 Q2122.79 1454.33 2121.03 1454.33 Q2116.4 1454.33 2113.95 1457.45 Q2111.52 1460.58 2111.17 1466.9 Q2112.54 1464.89 2114.6 1463.82 Q2116.66 1462.73 2119.13 1462.73 Q2124.34 1462.73 2127.35 1465.9 Q2130.38 1469.05 2130.38 1474.49 Q2130.38 1479.82 2127.24 1483.03 Q2124.09 1486.25 2118.86 1486.25 Q2112.86 1486.25 2109.69 1481.67 Q2106.52 1477.06 2106.52 1468.33 Q2106.52 1460.14 2110.41 1455.28 Q2114.3 1450.39 2120.85 1450.39 Q2122.61 1450.39 2124.39 1450.74 Q2126.19 1451.09 2128.14 1451.78 Z\" fill=\"#000000\" fill-rule=\"evenodd\" fill-opacity=\"1\" /><path clip-path=\"url(#clip950)\" d=\"M1223.57 1522.27 L1223.57 1532.4 L1235.63 1532.4 L1235.63 1536.95 L1223.57 1536.95 L1223.57 1556.3 Q1223.57 1560.66 1224.75 1561.9 Q1225.96 1563.14 1229.62 1563.14 L1235.63 1563.14 L1235.63 1568.04 L1229.62 1568.04 Q1222.84 1568.04 1220.26 1565.53 Q1217.68 1562.98 1217.68 1556.3 L1217.68 1536.95 L1213.38 1536.95 L1213.38 1532.4 L1217.68 1532.4 L1217.68 1522.27 L1223.57 1522.27 Z\" fill=\"#000000\" fill-rule=\"evenodd\" fill-opacity=\"1\" /><path clip-path=\"url(#clip950)\" d=\"M1272.97 1546.53 L1272.97 1568.04 L1267.11 1568.04 L1267.11 1546.72 Q1267.11 1541.66 1265.14 1539.14 Q1263.16 1536.63 1259.22 1536.63 Q1254.48 1536.63 1251.74 1539.65 Q1249 1542.68 1249 1547.9 L1249 1568.04 L1243.11 1568.04 L1243.11 1518.52 L1249 1518.52 L1249 1537.93 Q1251.1 1534.72 1253.93 1533.13 Q1256.8 1531.54 1260.52 1531.54 Q1266.67 1531.54 1269.82 1535.36 Q1272.97 1539.14 1272.97 1546.53 Z\" fill=\"#000000\" fill-rule=\"evenodd\" fill-opacity=\"1\" /><path clip-path=\"url(#clip950)\" d=\"M1305.31 1537.87 Q1304.32 1537.3 1303.14 1537.04 Q1302 1536.76 1300.59 1536.76 Q1295.63 1536.76 1292.96 1540 Q1290.31 1543.22 1290.31 1549.27 L1290.31 1568.04 L1284.43 1568.04 L1284.43 1532.4 L1290.31 1532.4 L1290.31 1537.93 Q1292.16 1534.69 1295.12 1533.13 Q1298.08 1531.54 1302.31 1531.54 Q1302.92 1531.54 1303.65 1531.63 Q1304.38 1531.7 1305.27 1531.85 L1305.31 1537.87 Z\" fill=\"#000000\" fill-rule=\"evenodd\" fill-opacity=\"1\" /><path clip-path=\"url(#clip950)\" d=\"M1340.51 1548.76 L1340.51 1551.62 L1313.58 1551.62 Q1313.96 1557.67 1317.21 1560.85 Q1320.49 1564 1326.31 1564 Q1329.69 1564 1332.84 1563.17 Q1336.02 1562.35 1339.14 1560.69 L1339.14 1566.23 Q1335.99 1567.57 1332.68 1568.27 Q1329.37 1568.97 1325.96 1568.97 Q1317.43 1568.97 1312.44 1564 Q1307.47 1559.04 1307.47 1550.57 Q1307.47 1541.82 1312.18 1536.69 Q1316.92 1531.54 1324.94 1531.54 Q1332.14 1531.54 1336.31 1536.18 Q1340.51 1540.8 1340.51 1548.76 M1334.65 1547.04 Q1334.59 1542.23 1331.95 1539.37 Q1329.34 1536.5 1325.01 1536.5 Q1320.11 1536.5 1317.15 1539.27 Q1314.22 1542.04 1313.77 1547.07 L1334.65 1547.04 Z\" fill=\"#000000\" fill-rule=\"evenodd\" fill-opacity=\"1\" /><path clip-path=\"url(#clip950)\" d=\"M1366.32 1550.12 Q1359.22 1550.12 1356.49 1551.75 Q1353.75 1553.37 1353.75 1557.29 Q1353.75 1560.4 1355.79 1562.25 Q1357.85 1564.07 1361.39 1564.07 Q1366.26 1564.07 1369.19 1560.63 Q1372.15 1557.16 1372.15 1551.43 L1372.15 1550.12 L1366.32 1550.12 M1378 1547.71 L1378 1568.04 L1372.15 1568.04 L1372.15 1562.63 Q1370.14 1565.88 1367.15 1567.44 Q1364.16 1568.97 1359.83 1568.97 Q1354.35 1568.97 1351.11 1565.91 Q1347.89 1562.82 1347.89 1557.67 Q1347.89 1551.65 1351.9 1548.6 Q1355.94 1545.54 1363.93 1545.54 L1372.15 1545.54 L1372.15 1544.97 Q1372.15 1540.93 1369.47 1538.73 Q1366.83 1536.5 1362.02 1536.5 Q1358.97 1536.5 1356.07 1537.23 Q1353.18 1537.97 1350.5 1539.43 L1350.5 1534.02 Q1353.72 1532.78 1356.74 1532.17 Q1359.76 1531.54 1362.63 1531.54 Q1370.36 1531.54 1374.18 1535.55 Q1378 1539.56 1378 1547.71 Z\" fill=\"#000000\" fill-rule=\"evenodd\" fill-opacity=\"1\" /><path clip-path=\"url(#clip950)\" d=\"M1413.52 1537.81 L1413.52 1518.52 L1419.38 1518.52 L1419.38 1568.04 L1413.52 1568.04 L1413.52 1562.7 Q1411.68 1565.88 1408.84 1567.44 Q1406.04 1568.97 1402.1 1568.97 Q1395.63 1568.97 1391.56 1563.81 Q1387.52 1558.65 1387.52 1550.25 Q1387.52 1541.85 1391.56 1536.69 Q1395.63 1531.54 1402.1 1531.54 Q1406.04 1531.54 1408.84 1533.1 Q1411.68 1534.62 1413.52 1537.81 M1393.57 1550.25 Q1393.57 1556.71 1396.21 1560.4 Q1398.88 1564.07 1403.53 1564.07 Q1408.18 1564.07 1410.85 1560.4 Q1413.52 1556.71 1413.52 1550.25 Q1413.52 1543.79 1410.85 1540.13 Q1408.18 1536.44 1403.53 1536.44 Q1398.88 1536.44 1396.21 1540.13 Q1393.57 1543.79 1393.57 1550.25 Z\" fill=\"#000000\" fill-rule=\"evenodd\" fill-opacity=\"1\" /><path clip-path=\"url(#clip950)\" d=\"M1431.44 1532.4 L1437.3 1532.4 L1437.3 1568.04 L1431.44 1568.04 L1431.44 1532.4 M1431.44 1518.52 L1437.3 1518.52 L1437.3 1525.93 L1431.44 1525.93 L1431.44 1518.52 Z\" fill=\"#000000\" fill-rule=\"evenodd\" fill-opacity=\"1\" /><path clip-path=\"url(#clip950)\" d=\"M1473.01 1537.81 L1473.01 1518.52 L1478.87 1518.52 L1478.87 1568.04 L1473.01 1568.04 L1473.01 1562.7 Q1471.16 1565.88 1468.33 1567.44 Q1465.53 1568.97 1461.58 1568.97 Q1455.12 1568.97 1451.05 1563.81 Q1447.01 1558.65 1447.01 1550.25 Q1447.01 1541.85 1451.05 1536.69 Q1455.12 1531.54 1461.58 1531.54 Q1465.53 1531.54 1468.33 1533.1 Q1471.16 1534.62 1473.01 1537.81 M1453.05 1550.25 Q1453.05 1556.71 1455.7 1560.4 Q1458.37 1564.07 1463.02 1564.07 Q1467.66 1564.07 1470.34 1560.4 Q1473.01 1556.71 1473.01 1550.25 Q1473.01 1543.79 1470.34 1540.13 Q1467.66 1536.44 1463.02 1536.44 Q1458.37 1536.44 1455.7 1540.13 Q1453.05 1543.79 1453.05 1550.25 Z\" fill=\"#000000\" fill-rule=\"evenodd\" fill-opacity=\"1\" /><polyline clip-path=\"url(#clip952)\" style=\"stroke:#000000; stroke-linecap:butt; stroke-linejoin:round; stroke-width:2; stroke-opacity:0.1; fill:none\" points=\"\n",
       "  339.495,1386.4 2352.76,1386.4 \n",
       "  \"/>\n",
       "<polyline clip-path=\"url(#clip952)\" style=\"stroke:#000000; stroke-linecap:butt; stroke-linejoin:round; stroke-width:2; stroke-opacity:0.1; fill:none\" points=\"\n",
       "  339.495,1163.46 2352.76,1163.46 \n",
       "  \"/>\n",
       "<polyline clip-path=\"url(#clip952)\" style=\"stroke:#000000; stroke-linecap:butt; stroke-linejoin:round; stroke-width:2; stroke-opacity:0.1; fill:none\" points=\"\n",
       "  339.495,940.531 2352.76,940.531 \n",
       "  \"/>\n",
       "<polyline clip-path=\"url(#clip952)\" style=\"stroke:#000000; stroke-linecap:butt; stroke-linejoin:round; stroke-width:2; stroke-opacity:0.1; fill:none\" points=\"\n",
       "  339.495,717.598 2352.76,717.598 \n",
       "  \"/>\n",
       "<polyline clip-path=\"url(#clip952)\" style=\"stroke:#000000; stroke-linecap:butt; stroke-linejoin:round; stroke-width:2; stroke-opacity:0.1; fill:none\" points=\"\n",
       "  339.495,494.666 2352.76,494.666 \n",
       "  \"/>\n",
       "<polyline clip-path=\"url(#clip952)\" style=\"stroke:#000000; stroke-linecap:butt; stroke-linejoin:round; stroke-width:2; stroke-opacity:0.1; fill:none\" points=\"\n",
       "  339.495,271.734 2352.76,271.734 \n",
       "  \"/>\n",
       "<polyline clip-path=\"url(#clip950)\" style=\"stroke:#000000; stroke-linecap:butt; stroke-linejoin:round; stroke-width:4; stroke-opacity:1; fill:none\" points=\"\n",
       "  339.495,1423.18 339.495,123.472 \n",
       "  \"/>\n",
       "<polyline clip-path=\"url(#clip950)\" style=\"stroke:#000000; stroke-linecap:butt; stroke-linejoin:round; stroke-width:4; stroke-opacity:1; fill:none\" points=\"\n",
       "  339.495,1386.4 358.393,1386.4 \n",
       "  \"/>\n",
       "<polyline clip-path=\"url(#clip950)\" style=\"stroke:#000000; stroke-linecap:butt; stroke-linejoin:round; stroke-width:4; stroke-opacity:1; fill:none\" points=\"\n",
       "  339.495,1163.46 358.393,1163.46 \n",
       "  \"/>\n",
       "<polyline clip-path=\"url(#clip950)\" style=\"stroke:#000000; stroke-linecap:butt; stroke-linejoin:round; stroke-width:4; stroke-opacity:1; fill:none\" points=\"\n",
       "  339.495,940.531 358.393,940.531 \n",
       "  \"/>\n",
       "<polyline clip-path=\"url(#clip950)\" style=\"stroke:#000000; stroke-linecap:butt; stroke-linejoin:round; stroke-width:4; stroke-opacity:1; fill:none\" points=\"\n",
       "  339.495,717.598 358.393,717.598 \n",
       "  \"/>\n",
       "<polyline clip-path=\"url(#clip950)\" style=\"stroke:#000000; stroke-linecap:butt; stroke-linejoin:round; stroke-width:4; stroke-opacity:1; fill:none\" points=\"\n",
       "  339.495,494.666 358.393,494.666 \n",
       "  \"/>\n",
       "<polyline clip-path=\"url(#clip950)\" style=\"stroke:#000000; stroke-linecap:butt; stroke-linejoin:round; stroke-width:4; stroke-opacity:1; fill:none\" points=\"\n",
       "  339.495,271.734 358.393,271.734 \n",
       "  \"/>\n",
       "<path clip-path=\"url(#clip950)\" d=\"M291.551 1372.19 Q287.94 1372.19 286.111 1375.76 Q284.306 1379.3 284.306 1386.43 Q284.306 1393.54 286.111 1397.1 Q287.94 1400.64 291.551 1400.64 Q295.185 1400.64 296.991 1397.1 Q298.819 1393.54 298.819 1386.43 Q298.819 1379.3 296.991 1375.76 Q295.185 1372.19 291.551 1372.19 M291.551 1368.49 Q297.361 1368.49 300.417 1373.1 Q303.495 1377.68 303.495 1386.43 Q303.495 1395.16 300.417 1399.76 Q297.361 1404.35 291.551 1404.35 Q285.741 1404.35 282.662 1399.76 Q279.606 1395.16 279.606 1386.43 Q279.606 1377.68 282.662 1373.1 Q285.741 1368.49 291.551 1368.49 Z\" fill=\"#000000\" fill-rule=\"evenodd\" fill-opacity=\"1\" /><path clip-path=\"url(#clip950)\" d=\"M117.825 1183.26 L125.464 1183.26 L125.464 1156.89 L117.154 1158.56 L117.154 1154.3 L125.418 1152.63 L130.093 1152.63 L130.093 1183.26 L137.732 1183.26 L137.732 1187.19 L117.825 1187.19 L117.825 1183.26 Z\" fill=\"#000000\" fill-rule=\"evenodd\" fill-opacity=\"1\" /><path clip-path=\"url(#clip950)\" d=\"M147.177 1181.31 L152.061 1181.31 L152.061 1187.19 L147.177 1187.19 L147.177 1181.31 Z\" fill=\"#000000\" fill-rule=\"evenodd\" fill-opacity=\"1\" /><path clip-path=\"url(#clip950)\" d=\"M172.246 1155.71 Q168.635 1155.71 166.806 1159.27 Q165.001 1162.82 165.001 1169.95 Q165.001 1177.05 166.806 1180.62 Q168.635 1184.16 172.246 1184.16 Q175.88 1184.16 177.686 1180.62 Q179.514 1177.05 179.514 1169.95 Q179.514 1162.82 177.686 1159.27 Q175.88 1155.71 172.246 1155.71 M172.246 1152.01 Q178.056 1152.01 181.112 1156.61 Q184.19 1161.2 184.19 1169.95 Q184.19 1178.67 181.112 1183.28 Q178.056 1187.86 172.246 1187.86 Q166.436 1187.86 163.357 1183.28 Q160.302 1178.67 160.302 1169.95 Q160.302 1161.2 163.357 1156.61 Q166.436 1152.01 172.246 1152.01 Z\" fill=\"#000000\" fill-rule=\"evenodd\" fill-opacity=\"1\" /><path clip-path=\"url(#clip950)\" d=\"M220.579 1161.73 L210 1172.35 L220.579 1182.93 L217.824 1185.73 L207.199 1175.11 L196.575 1185.73 L193.843 1182.93 L204.399 1172.35 L193.843 1161.73 L196.575 1158.93 L207.199 1169.55 L217.824 1158.93 L220.579 1161.73 Z\" fill=\"#000000\" fill-rule=\"evenodd\" fill-opacity=\"1\" /><path clip-path=\"url(#clip950)\" d=\"M232.94 1183.26 L240.579 1183.26 L240.579 1156.89 L232.269 1158.56 L232.269 1154.3 L240.533 1152.63 L245.209 1152.63 L245.209 1183.26 L252.847 1183.26 L252.847 1187.19 L232.94 1187.19 L232.94 1183.26 Z\" fill=\"#000000\" fill-rule=\"evenodd\" fill-opacity=\"1\" /><path clip-path=\"url(#clip950)\" d=\"M272.292 1155.71 Q268.681 1155.71 266.852 1159.27 Q265.046 1162.82 265.046 1169.95 Q265.046 1177.05 266.852 1180.62 Q268.681 1184.16 272.292 1184.16 Q275.926 1184.16 277.732 1180.62 Q279.56 1177.05 279.56 1169.95 Q279.56 1162.82 277.732 1159.27 Q275.926 1155.71 272.292 1155.71 M272.292 1152.01 Q278.102 1152.01 281.157 1156.61 Q284.236 1161.2 284.236 1169.95 Q284.236 1178.67 281.157 1183.28 Q278.102 1187.86 272.292 1187.86 Q266.482 1187.86 263.403 1183.28 Q260.347 1178.67 260.347 1169.95 Q260.347 1161.2 263.403 1156.61 Q266.482 1152.01 272.292 1152.01 Z\" fill=\"#000000\" fill-rule=\"evenodd\" fill-opacity=\"1\" /><path clip-path=\"url(#clip950)\" d=\"M293.866 1146.45 Q291.157 1146.45 289.596 1147.89 Q288.054 1149.34 288.054 1151.88 Q288.054 1154.42 289.596 1155.87 Q291.157 1157.32 293.866 1157.32 Q296.574 1157.32 298.135 1155.87 Q299.696 1154.4 299.696 1151.88 Q299.696 1149.34 298.135 1147.89 Q296.593 1146.45 293.866 1146.45 M290.067 1144.83 Q287.621 1144.23 286.249 1142.55 Q284.894 1140.88 284.894 1138.47 Q284.894 1135.1 287.283 1133.15 Q289.69 1131.19 293.866 1131.19 Q298.06 1131.19 300.448 1133.15 Q302.837 1135.1 302.837 1138.47 Q302.837 1140.88 301.464 1142.55 Q300.11 1144.23 297.684 1144.83 Q300.43 1145.47 301.953 1147.33 Q303.495 1149.19 303.495 1151.88 Q303.495 1155.96 300.994 1158.14 Q298.511 1160.33 293.866 1160.33 Q289.22 1160.33 286.719 1158.14 Q284.236 1155.96 284.236 1151.88 Q284.236 1149.19 285.778 1147.33 Q287.321 1145.47 290.067 1144.83 M288.675 1138.83 Q288.675 1141.01 290.029 1142.23 Q291.402 1143.46 293.866 1143.46 Q296.311 1143.46 297.684 1142.23 Q299.075 1141.01 299.075 1138.83 Q299.075 1136.65 297.684 1135.42 Q296.311 1134.2 293.866 1134.2 Q291.402 1134.2 290.029 1135.42 Q288.675 1136.65 288.675 1138.83 Z\" fill=\"#000000\" fill-rule=\"evenodd\" fill-opacity=\"1\" /><path clip-path=\"url(#clip950)\" d=\"M121.043 960.323 L137.362 960.323 L137.362 964.258 L115.418 964.258 L115.418 960.323 Q118.08 957.569 122.663 952.939 Q127.269 948.286 128.45 946.944 Q130.695 944.421 131.575 942.685 Q132.478 940.925 132.478 939.235 Q132.478 936.481 130.533 934.745 Q128.612 933.009 125.51 933.009 Q123.311 933.009 120.857 933.773 Q118.427 934.536 115.649 936.087 L115.649 931.365 Q118.473 930.231 120.927 929.652 Q123.38 929.073 125.418 929.073 Q130.788 929.073 133.982 931.759 Q137.177 934.444 137.177 938.935 Q137.177 941.064 136.367 942.985 Q135.579 944.884 133.473 947.476 Q132.894 948.147 129.792 951.365 Q126.691 954.559 121.043 960.323 Z\" fill=\"#000000\" fill-rule=\"evenodd\" fill-opacity=\"1\" /><path clip-path=\"url(#clip950)\" d=\"M147.177 958.379 L152.061 958.379 L152.061 964.258 L147.177 964.258 L147.177 958.379 Z\" fill=\"#000000\" fill-rule=\"evenodd\" fill-opacity=\"1\" /><path clip-path=\"url(#clip950)\" d=\"M172.246 932.777 Q168.635 932.777 166.806 936.342 Q165.001 939.884 165.001 947.013 Q165.001 954.12 166.806 957.684 Q168.635 961.226 172.246 961.226 Q175.88 961.226 177.686 957.684 Q179.514 954.12 179.514 947.013 Q179.514 939.884 177.686 936.342 Q175.88 932.777 172.246 932.777 M172.246 929.073 Q178.056 929.073 181.112 933.68 Q184.19 938.263 184.19 947.013 Q184.19 955.74 181.112 960.346 Q178.056 964.93 172.246 964.93 Q166.436 964.93 163.357 960.346 Q160.302 955.74 160.302 947.013 Q160.302 938.263 163.357 933.68 Q166.436 929.073 172.246 929.073 Z\" fill=\"#000000\" fill-rule=\"evenodd\" fill-opacity=\"1\" /><path clip-path=\"url(#clip950)\" d=\"M220.579 938.796 L210 949.421 L220.579 959.999 L217.824 962.8 L207.199 952.175 L196.575 962.8 L193.843 959.999 L204.399 949.421 L193.843 938.796 L196.575 935.995 L207.199 946.62 L217.824 935.995 L220.579 938.796 Z\" fill=\"#000000\" fill-rule=\"evenodd\" fill-opacity=\"1\" /><path clip-path=\"url(#clip950)\" d=\"M232.94 960.323 L240.579 960.323 L240.579 933.958 L232.269 935.624 L232.269 931.365 L240.533 929.698 L245.209 929.698 L245.209 960.323 L252.847 960.323 L252.847 964.258 L232.94 964.258 L232.94 960.323 Z\" fill=\"#000000\" fill-rule=\"evenodd\" fill-opacity=\"1\" /><path clip-path=\"url(#clip950)\" d=\"M272.292 932.777 Q268.681 932.777 266.852 936.342 Q265.046 939.884 265.046 947.013 Q265.046 954.12 266.852 957.684 Q268.681 961.226 272.292 961.226 Q275.926 961.226 277.732 957.684 Q279.56 954.12 279.56 947.013 Q279.56 939.884 277.732 936.342 Q275.926 932.777 272.292 932.777 M272.292 929.073 Q278.102 929.073 281.157 933.68 Q284.236 938.263 284.236 947.013 Q284.236 955.74 281.157 960.346 Q278.102 964.93 272.292 964.93 Q266.482 964.93 263.403 960.346 Q260.347 955.74 260.347 947.013 Q260.347 938.263 263.403 933.68 Q266.482 929.073 272.292 929.073 Z\" fill=\"#000000\" fill-rule=\"evenodd\" fill-opacity=\"1\" /><path clip-path=\"url(#clip950)\" d=\"M293.866 923.513 Q291.157 923.513 289.596 924.962 Q288.054 926.41 288.054 928.949 Q288.054 931.488 289.596 932.936 Q291.157 934.384 293.866 934.384 Q296.574 934.384 298.135 932.936 Q299.696 931.469 299.696 928.949 Q299.696 926.41 298.135 924.962 Q296.593 923.513 293.866 923.513 M290.067 921.896 Q287.621 921.294 286.249 919.62 Q284.894 917.946 284.894 915.539 Q284.894 912.172 287.283 910.216 Q289.69 908.26 293.866 908.26 Q298.06 908.26 300.448 910.216 Q302.837 912.172 302.837 915.539 Q302.837 917.946 301.464 919.62 Q300.11 921.294 297.684 921.896 Q300.43 922.535 301.953 924.397 Q303.495 926.259 303.495 928.949 Q303.495 933.03 300.994 935.212 Q298.511 937.393 293.866 937.393 Q289.22 937.393 286.719 935.212 Q284.236 933.03 284.236 928.949 Q284.236 926.259 285.778 924.397 Q287.321 922.535 290.067 921.896 M288.675 915.896 Q288.675 918.078 290.029 919.3 Q291.402 920.523 293.866 920.523 Q296.311 920.523 297.684 919.3 Q299.075 918.078 299.075 915.896 Q299.075 913.715 297.684 912.492 Q296.311 911.269 293.866 911.269 Q291.402 911.269 290.029 912.492 Q288.675 913.715 288.675 915.896 Z\" fill=\"#000000\" fill-rule=\"evenodd\" fill-opacity=\"1\" /><path clip-path=\"url(#clip950)\" d=\"M131.181 722.692 Q134.538 723.409 136.413 725.678 Q138.311 727.946 138.311 731.28 Q138.311 736.396 134.792 739.196 Q131.274 741.997 124.793 741.997 Q122.617 741.997 120.302 741.558 Q118.01 741.141 115.556 740.284 L115.556 735.771 Q117.501 736.905 119.816 737.483 Q122.13 738.062 124.654 738.062 Q129.052 738.062 131.343 736.326 Q133.658 734.59 133.658 731.28 Q133.658 728.224 131.505 726.511 Q129.376 724.775 125.556 724.775 L121.529 724.775 L121.529 720.933 L125.742 720.933 Q129.191 720.933 131.019 719.567 Q132.848 718.178 132.848 715.585 Q132.848 712.923 130.95 711.511 Q129.075 710.076 125.556 710.076 Q123.635 710.076 121.436 710.493 Q119.237 710.91 116.598 711.789 L116.598 707.623 Q119.26 706.882 121.575 706.511 Q123.913 706.141 125.973 706.141 Q131.297 706.141 134.399 708.572 Q137.501 710.979 137.501 715.099 Q137.501 717.97 135.857 719.96 Q134.214 721.928 131.181 722.692 Z\" fill=\"#000000\" fill-rule=\"evenodd\" fill-opacity=\"1\" /><path clip-path=\"url(#clip950)\" d=\"M147.177 735.446 L152.061 735.446 L152.061 741.326 L147.177 741.326 L147.177 735.446 Z\" fill=\"#000000\" fill-rule=\"evenodd\" fill-opacity=\"1\" /><path clip-path=\"url(#clip950)\" d=\"M172.246 709.845 Q168.635 709.845 166.806 713.41 Q165.001 716.951 165.001 724.081 Q165.001 731.187 166.806 734.752 Q168.635 738.294 172.246 738.294 Q175.88 738.294 177.686 734.752 Q179.514 731.187 179.514 724.081 Q179.514 716.951 177.686 713.41 Q175.88 709.845 172.246 709.845 M172.246 706.141 Q178.056 706.141 181.112 710.748 Q184.19 715.331 184.19 724.081 Q184.19 732.808 181.112 737.414 Q178.056 741.997 172.246 741.997 Q166.436 741.997 163.357 737.414 Q160.302 732.808 160.302 724.081 Q160.302 715.331 163.357 710.748 Q166.436 706.141 172.246 706.141 Z\" fill=\"#000000\" fill-rule=\"evenodd\" fill-opacity=\"1\" /><path clip-path=\"url(#clip950)\" d=\"M220.579 715.863 L210 726.488 L220.579 737.067 L217.824 739.868 L207.199 729.243 L196.575 739.868 L193.843 737.067 L204.399 726.488 L193.843 715.863 L196.575 713.062 L207.199 723.687 L217.824 713.062 L220.579 715.863 Z\" fill=\"#000000\" fill-rule=\"evenodd\" fill-opacity=\"1\" /><path clip-path=\"url(#clip950)\" d=\"M232.94 737.391 L240.579 737.391 L240.579 711.025 L232.269 712.692 L232.269 708.433 L240.533 706.766 L245.209 706.766 L245.209 737.391 L252.847 737.391 L252.847 741.326 L232.94 741.326 L232.94 737.391 Z\" fill=\"#000000\" fill-rule=\"evenodd\" fill-opacity=\"1\" /><path clip-path=\"url(#clip950)\" d=\"M272.292 709.845 Q268.681 709.845 266.852 713.41 Q265.046 716.951 265.046 724.081 Q265.046 731.187 266.852 734.752 Q268.681 738.294 272.292 738.294 Q275.926 738.294 277.732 734.752 Q279.56 731.187 279.56 724.081 Q279.56 716.951 277.732 713.41 Q275.926 709.845 272.292 709.845 M272.292 706.141 Q278.102 706.141 281.157 710.748 Q284.236 715.331 284.236 724.081 Q284.236 732.808 281.157 737.414 Q278.102 741.997 272.292 741.997 Q266.482 741.997 263.403 737.414 Q260.347 732.808 260.347 724.081 Q260.347 715.331 263.403 710.748 Q266.482 706.141 272.292 706.141 Z\" fill=\"#000000\" fill-rule=\"evenodd\" fill-opacity=\"1\" /><path clip-path=\"url(#clip950)\" d=\"M293.866 700.581 Q291.157 700.581 289.596 702.029 Q288.054 703.477 288.054 706.016 Q288.054 708.555 289.596 710.004 Q291.157 711.452 293.866 711.452 Q296.574 711.452 298.135 710.004 Q299.696 708.537 299.696 706.016 Q299.696 703.477 298.135 702.029 Q296.593 700.581 293.866 700.581 M290.067 698.963 Q287.621 698.362 286.249 696.688 Q284.894 695.014 284.894 692.606 Q284.894 689.24 287.283 687.284 Q289.69 685.328 293.866 685.328 Q298.06 685.328 300.448 687.284 Q302.837 689.24 302.837 692.606 Q302.837 695.014 301.464 696.688 Q300.11 698.362 297.684 698.963 Q300.43 699.603 301.953 701.465 Q303.495 703.327 303.495 706.016 Q303.495 710.098 300.994 712.279 Q298.511 714.461 293.866 714.461 Q289.22 714.461 286.719 712.279 Q284.236 710.098 284.236 706.016 Q284.236 703.327 285.778 701.465 Q287.321 699.603 290.067 698.963 M288.675 692.964 Q288.675 695.146 290.029 696.368 Q291.402 697.591 293.866 697.591 Q296.311 697.591 297.684 696.368 Q299.075 695.146 299.075 692.964 Q299.075 690.782 297.684 689.56 Q296.311 688.337 293.866 688.337 Q291.402 688.337 290.029 689.56 Q288.675 690.782 288.675 692.964 Z\" fill=\"#000000\" fill-rule=\"evenodd\" fill-opacity=\"1\" /><path clip-path=\"url(#clip950)\" d=\"M129.862 487.908 L118.056 506.357 L129.862 506.357 L129.862 487.908 M128.635 483.834 L134.515 483.834 L134.515 506.357 L139.445 506.357 L139.445 510.246 L134.515 510.246 L134.515 518.394 L129.862 518.394 L129.862 510.246 L114.26 510.246 L114.26 505.732 L128.635 483.834 Z\" fill=\"#000000\" fill-rule=\"evenodd\" fill-opacity=\"1\" /><path clip-path=\"url(#clip950)\" d=\"M147.177 512.514 L152.061 512.514 L152.061 518.394 L147.177 518.394 L147.177 512.514 Z\" fill=\"#000000\" fill-rule=\"evenodd\" fill-opacity=\"1\" /><path clip-path=\"url(#clip950)\" d=\"M172.246 486.912 Q168.635 486.912 166.806 490.477 Q165.001 494.019 165.001 501.148 Q165.001 508.255 166.806 511.82 Q168.635 515.361 172.246 515.361 Q175.88 515.361 177.686 511.82 Q179.514 508.255 179.514 501.148 Q179.514 494.019 177.686 490.477 Q175.88 486.912 172.246 486.912 M172.246 483.209 Q178.056 483.209 181.112 487.815 Q184.19 492.398 184.19 501.148 Q184.19 509.875 181.112 514.482 Q178.056 519.065 172.246 519.065 Q166.436 519.065 163.357 514.482 Q160.302 509.875 160.302 501.148 Q160.302 492.398 163.357 487.815 Q166.436 483.209 172.246 483.209 Z\" fill=\"#000000\" fill-rule=\"evenodd\" fill-opacity=\"1\" /><path clip-path=\"url(#clip950)\" d=\"M220.579 492.931 L210 503.556 L220.579 514.134 L217.824 516.935 L207.199 506.31 L196.575 516.935 L193.843 514.134 L204.399 503.556 L193.843 492.931 L196.575 490.13 L207.199 500.755 L217.824 490.13 L220.579 492.931 Z\" fill=\"#000000\" fill-rule=\"evenodd\" fill-opacity=\"1\" /><path clip-path=\"url(#clip950)\" d=\"M232.94 514.458 L240.579 514.458 L240.579 488.093 L232.269 489.76 L232.269 485.5 L240.533 483.834 L245.209 483.834 L245.209 514.458 L252.847 514.458 L252.847 518.394 L232.94 518.394 L232.94 514.458 Z\" fill=\"#000000\" fill-rule=\"evenodd\" fill-opacity=\"1\" /><path clip-path=\"url(#clip950)\" d=\"M272.292 486.912 Q268.681 486.912 266.852 490.477 Q265.046 494.019 265.046 501.148 Q265.046 508.255 266.852 511.82 Q268.681 515.361 272.292 515.361 Q275.926 515.361 277.732 511.82 Q279.56 508.255 279.56 501.148 Q279.56 494.019 277.732 490.477 Q275.926 486.912 272.292 486.912 M272.292 483.209 Q278.102 483.209 281.157 487.815 Q284.236 492.398 284.236 501.148 Q284.236 509.875 281.157 514.482 Q278.102 519.065 272.292 519.065 Q266.482 519.065 263.403 514.482 Q260.347 509.875 260.347 501.148 Q260.347 492.398 263.403 487.815 Q266.482 483.209 272.292 483.209 Z\" fill=\"#000000\" fill-rule=\"evenodd\" fill-opacity=\"1\" /><path clip-path=\"url(#clip950)\" d=\"M293.866 477.649 Q291.157 477.649 289.596 479.097 Q288.054 480.545 288.054 483.084 Q288.054 485.623 289.596 487.071 Q291.157 488.519 293.866 488.519 Q296.574 488.519 298.135 487.071 Q299.696 485.604 299.696 483.084 Q299.696 480.545 298.135 479.097 Q296.593 477.649 293.866 477.649 M290.067 476.031 Q287.621 475.429 286.249 473.755 Q284.894 472.081 284.894 469.674 Q284.894 466.307 287.283 464.351 Q289.69 462.395 293.866 462.395 Q298.06 462.395 300.448 464.351 Q302.837 466.307 302.837 469.674 Q302.837 472.081 301.464 473.755 Q300.11 475.429 297.684 476.031 Q300.43 476.671 301.953 478.533 Q303.495 480.394 303.495 483.084 Q303.495 487.165 300.994 489.347 Q298.511 491.529 293.866 491.529 Q289.22 491.529 286.719 489.347 Q284.236 487.165 284.236 483.084 Q284.236 480.394 285.778 478.533 Q287.321 476.671 290.067 476.031 M288.675 470.031 Q288.675 472.213 290.029 473.436 Q291.402 474.658 293.866 474.658 Q296.311 474.658 297.684 473.436 Q299.075 472.213 299.075 470.031 Q299.075 467.85 297.684 466.627 Q296.311 465.405 293.866 465.405 Q291.402 465.405 290.029 466.627 Q288.675 467.85 288.675 470.031 Z\" fill=\"#000000\" fill-rule=\"evenodd\" fill-opacity=\"1\" /><path clip-path=\"url(#clip950)\" d=\"M117.061 260.901 L135.417 260.901 L135.417 264.836 L121.343 264.836 L121.343 273.309 Q122.362 272.961 123.38 272.799 Q124.399 272.614 125.418 272.614 Q131.205 272.614 134.584 275.785 Q137.964 278.957 137.964 284.373 Q137.964 289.952 134.492 293.054 Q131.019 296.133 124.7 296.133 Q122.524 296.133 120.255 295.762 Q118.01 295.392 115.603 294.651 L115.603 289.952 Q117.686 291.086 119.908 291.642 Q122.13 292.197 124.607 292.197 Q128.612 292.197 130.95 290.091 Q133.288 287.984 133.288 284.373 Q133.288 280.762 130.95 278.656 Q128.612 276.549 124.607 276.549 Q122.732 276.549 120.857 276.966 Q119.006 277.383 117.061 278.262 L117.061 260.901 Z\" fill=\"#000000\" fill-rule=\"evenodd\" fill-opacity=\"1\" /><path clip-path=\"url(#clip950)\" d=\"M147.177 289.582 L152.061 289.582 L152.061 295.461 L147.177 295.461 L147.177 289.582 Z\" fill=\"#000000\" fill-rule=\"evenodd\" fill-opacity=\"1\" /><path clip-path=\"url(#clip950)\" d=\"M172.246 263.98 Q168.635 263.98 166.806 267.545 Q165.001 271.086 165.001 278.216 Q165.001 285.322 166.806 288.887 Q168.635 292.429 172.246 292.429 Q175.88 292.429 177.686 288.887 Q179.514 285.322 179.514 278.216 Q179.514 271.086 177.686 267.545 Q175.88 263.98 172.246 263.98 M172.246 260.276 Q178.056 260.276 181.112 264.883 Q184.19 269.466 184.19 278.216 Q184.19 286.943 181.112 291.549 Q178.056 296.133 172.246 296.133 Q166.436 296.133 163.357 291.549 Q160.302 286.943 160.302 278.216 Q160.302 269.466 163.357 264.883 Q166.436 260.276 172.246 260.276 Z\" fill=\"#000000\" fill-rule=\"evenodd\" fill-opacity=\"1\" /><path clip-path=\"url(#clip950)\" d=\"M220.579 269.998 L210 280.623 L220.579 291.202 L217.824 294.003 L207.199 283.378 L196.575 294.003 L193.843 291.202 L204.399 280.623 L193.843 269.998 L196.575 267.198 L207.199 277.822 L217.824 267.198 L220.579 269.998 Z\" fill=\"#000000\" fill-rule=\"evenodd\" fill-opacity=\"1\" /><path clip-path=\"url(#clip950)\" d=\"M232.94 291.526 L240.579 291.526 L240.579 265.16 L232.269 266.827 L232.269 262.568 L240.533 260.901 L245.209 260.901 L245.209 291.526 L252.847 291.526 L252.847 295.461 L232.94 295.461 L232.94 291.526 Z\" fill=\"#000000\" fill-rule=\"evenodd\" fill-opacity=\"1\" /><path clip-path=\"url(#clip950)\" d=\"M272.292 263.98 Q268.681 263.98 266.852 267.545 Q265.046 271.086 265.046 278.216 Q265.046 285.322 266.852 288.887 Q268.681 292.429 272.292 292.429 Q275.926 292.429 277.732 288.887 Q279.56 285.322 279.56 278.216 Q279.56 271.086 277.732 267.545 Q275.926 263.98 272.292 263.98 M272.292 260.276 Q278.102 260.276 281.157 264.883 Q284.236 269.466 284.236 278.216 Q284.236 286.943 281.157 291.549 Q278.102 296.133 272.292 296.133 Q266.482 296.133 263.403 291.549 Q260.347 286.943 260.347 278.216 Q260.347 269.466 263.403 264.883 Q266.482 260.276 272.292 260.276 Z\" fill=\"#000000\" fill-rule=\"evenodd\" fill-opacity=\"1\" /><path clip-path=\"url(#clip950)\" d=\"M293.866 254.716 Q291.157 254.716 289.596 256.164 Q288.054 257.613 288.054 260.152 Q288.054 262.691 289.596 264.139 Q291.157 265.587 293.866 265.587 Q296.574 265.587 298.135 264.139 Q299.696 262.672 299.696 260.152 Q299.696 257.613 298.135 256.164 Q296.593 254.716 293.866 254.716 M290.067 253.099 Q287.621 252.497 286.249 250.823 Q284.894 249.149 284.894 246.742 Q284.894 243.375 287.283 241.419 Q289.69 239.463 293.866 239.463 Q298.06 239.463 300.448 241.419 Q302.837 243.375 302.837 246.742 Q302.837 249.149 301.464 250.823 Q300.11 252.497 297.684 253.099 Q300.43 253.738 301.953 255.6 Q303.495 257.462 303.495 260.152 Q303.495 264.233 300.994 266.415 Q298.511 268.596 293.866 268.596 Q289.22 268.596 286.719 266.415 Q284.236 264.233 284.236 260.152 Q284.236 257.462 285.778 255.6 Q287.321 253.738 290.067 253.099 M288.675 247.099 Q288.675 249.281 290.029 250.503 Q291.402 251.726 293.866 251.726 Q296.311 251.726 297.684 250.503 Q299.075 249.281 299.075 247.099 Q299.075 244.917 297.684 243.695 Q296.311 242.472 293.866 242.472 Q291.402 242.472 290.029 243.695 Q288.675 244.917 288.675 247.099 Z\" fill=\"#000000\" fill-rule=\"evenodd\" fill-opacity=\"1\" /><path clip-path=\"url(#clip950)\" d=\"M28.3562 917.525 L28.3562 911.669 L56.1743 904.348 L28.3562 897.059 L28.3562 890.153 L56.1743 882.832 L28.3562 875.543 L28.3562 869.687 L64.0042 879.013 L64.0042 885.919 L34.7856 893.59 L64.0042 901.293 L64.0042 908.199 L28.3562 917.525 Z\" fill=\"#000000\" fill-rule=\"evenodd\" fill-opacity=\"1\" /><path clip-path=\"url(#clip950)\" d=\"M32.4621 846.993 Q32.4621 851.704 36.1542 854.441 Q39.8145 857.178 46.212 857.178 Q52.6095 857.178 56.3017 854.473 Q59.9619 851.736 59.9619 846.993 Q59.9619 842.314 56.2698 839.577 Q52.5777 836.84 46.212 836.84 Q39.8781 836.84 36.186 839.577 Q32.4621 842.314 32.4621 846.993 M27.4968 846.993 Q27.4968 839.354 32.4621 834.994 Q37.4273 830.633 46.212 830.633 Q54.9649 830.633 59.9619 834.994 Q64.9272 839.354 64.9272 846.993 Q64.9272 854.664 59.9619 859.024 Q54.9649 863.353 46.212 863.353 Q37.4273 863.353 32.4621 859.024 Q27.4968 854.664 27.4968 846.993 Z\" fill=\"#000000\" fill-rule=\"evenodd\" fill-opacity=\"1\" /><path clip-path=\"url(#clip950)\" d=\"M33.8307 800.269 Q33.2578 801.256 33.0032 802.433 Q32.7167 803.579 32.7167 804.979 Q32.7167 809.945 35.9632 812.618 Q39.1779 815.26 45.2253 815.26 L64.0042 815.26 L64.0042 821.148 L28.3562 821.148 L28.3562 815.26 L33.8944 815.26 Q30.6479 813.414 29.0883 810.454 Q27.4968 807.494 27.4968 803.261 Q27.4968 802.656 27.5923 801.924 Q27.656 801.192 27.8151 800.301 L33.8307 800.269 Z\" fill=\"#000000\" fill-rule=\"evenodd\" fill-opacity=\"1\" /><path clip-path=\"url(#clip950)\" d=\"M14.479 794.349 L14.479 788.46 L43.7294 788.46 L28.3562 770.987 L28.3562 763.507 L45.0344 782.413 L64.0042 762.711 L64.0042 770.35 L46.5939 788.46 L64.0042 788.46 L64.0042 794.349 L14.479 794.349 Z\" fill=\"#000000\" fill-rule=\"evenodd\" fill-opacity=\"1\" /><path clip-path=\"url(#clip950)\" d=\"M14.479 756.377 L14.479 750.521 L64.0042 750.521 L64.0042 756.377 L14.479 756.377 Z\" fill=\"#000000\" fill-rule=\"evenodd\" fill-opacity=\"1\" /><path clip-path=\"url(#clip950)\" d=\"M32.4621 724.453 Q32.4621 729.164 36.1542 731.901 Q39.8145 734.638 46.212 734.638 Q52.6095 734.638 56.3017 731.933 Q59.9619 729.196 59.9619 724.453 Q59.9619 719.774 56.2698 717.037 Q52.5777 714.3 46.212 714.3 Q39.8781 714.3 36.186 717.037 Q32.4621 719.774 32.4621 724.453 M27.4968 724.453 Q27.4968 716.814 32.4621 712.454 Q37.4273 708.093 46.212 708.093 Q54.9649 708.093 59.9619 712.454 Q64.9272 716.814 64.9272 724.453 Q64.9272 732.124 59.9619 736.484 Q54.9649 740.813 46.212 740.813 Q37.4273 740.813 32.4621 736.484 Q27.4968 732.124 27.4968 724.453 Z\" fill=\"#000000\" fill-rule=\"evenodd\" fill-opacity=\"1\" /><path clip-path=\"url(#clip950)\" d=\"M46.0847 682.185 Q46.0847 689.283 47.7079 692.02 Q49.3312 694.757 53.2461 694.757 Q56.3653 694.757 58.2114 692.72 Q60.0256 690.651 60.0256 687.118 Q60.0256 682.249 56.5881 679.32 Q53.1188 676.36 47.3897 676.36 L46.0847 676.36 L46.0847 682.185 M43.6657 670.504 L64.0042 670.504 L64.0042 676.36 L58.5933 676.36 Q61.8398 678.366 63.3994 681.357 Q64.9272 684.349 64.9272 688.678 Q64.9272 694.153 61.8716 697.399 Q58.7843 700.614 53.6281 700.614 Q47.6125 700.614 44.5569 696.603 Q41.5014 692.561 41.5014 684.572 L41.5014 676.36 L40.9285 676.36 Q36.8862 676.36 34.6901 679.034 Q32.4621 681.676 32.4621 686.482 Q32.4621 689.537 33.1941 692.434 Q33.9262 695.33 35.3903 698.004 L29.9795 698.004 Q28.7381 694.789 28.1334 691.765 Q27.4968 688.742 27.4968 685.877 Q27.4968 678.143 31.5072 674.323 Q35.5176 670.504 43.6657 670.504 Z\" fill=\"#000000\" fill-rule=\"evenodd\" fill-opacity=\"1\" /><path clip-path=\"url(#clip950)\" d=\"M33.7671 634.983 L14.479 634.983 L14.479 629.127 L64.0042 629.127 L64.0042 634.983 L58.657 634.983 Q61.8398 636.829 63.3994 639.662 Q64.9272 642.463 64.9272 646.41 Q64.9272 652.871 59.771 656.945 Q54.6147 660.987 46.212 660.987 Q37.8093 660.987 32.6531 656.945 Q27.4968 652.871 27.4968 646.41 Q27.4968 642.463 29.0564 639.662 Q30.5842 636.829 33.7671 634.983 M46.212 654.94 Q52.6732 654.94 56.3653 652.298 Q60.0256 649.624 60.0256 644.977 Q60.0256 640.33 56.3653 637.657 Q52.6732 634.983 46.212 634.983 Q39.7508 634.983 36.0905 637.657 Q32.3984 640.33 32.3984 644.977 Q32.3984 649.624 36.0905 652.298 Q39.7508 654.94 46.212 654.94 Z\" fill=\"#000000\" fill-rule=\"evenodd\" fill-opacity=\"1\" /><path clip-path=\"url(#clip950)\" d=\"M1157.58 12.096 L1165.84 12.096 L1178.56 63.2184 L1191.24 12.096 L1200.43 12.096 L1213.15 63.2184 L1225.83 12.096 L1234.14 12.096 L1218.95 72.576 L1208.66 72.576 L1195.9 20.0763 L1183.02 72.576 L1172.73 72.576 L1157.58 12.096 Z\" fill=\"#000000\" fill-rule=\"evenodd\" fill-opacity=\"1\" /><path clip-path=\"url(#clip950)\" d=\"M1257.39 32.4315 Q1251.4 32.4315 1247.91 37.1306 Q1244.43 41.7891 1244.43 49.9314 Q1244.43 58.0738 1247.87 62.7728 Q1251.35 67.4314 1257.39 67.4314 Q1263.35 67.4314 1266.83 62.7323 Q1270.31 58.0333 1270.31 49.9314 Q1270.31 41.8701 1266.83 37.1711 Q1263.35 32.4315 1257.39 32.4315 M1257.39 26.1121 Q1267.11 26.1121 1272.66 32.4315 Q1278.21 38.7509 1278.21 49.9314 Q1278.21 61.0714 1272.66 67.4314 Q1267.11 73.7508 1257.39 73.7508 Q1247.63 73.7508 1242.08 67.4314 Q1236.57 61.0714 1236.57 49.9314 Q1236.57 38.7509 1242.08 32.4315 Q1247.63 26.1121 1257.39 26.1121 Z\" fill=\"#000000\" fill-rule=\"evenodd\" fill-opacity=\"1\" /><path clip-path=\"url(#clip950)\" d=\"M1316.86 34.1734 Q1315.6 33.4443 1314.1 33.1202 Q1312.64 32.7556 1310.86 32.7556 Q1304.54 32.7556 1301.14 36.8875 Q1297.78 40.9789 1297.78 48.6757 L1297.78 72.576 L1290.28 72.576 L1290.28 27.2059 L1297.78 27.2059 L1297.78 34.2544 Q1300.13 30.1225 1303.89 28.1376 Q1307.66 26.1121 1313.05 26.1121 Q1313.82 26.1121 1314.75 26.2337 Q1315.68 26.3147 1316.82 26.5172 L1316.86 34.1734 Z\" fill=\"#000000\" fill-rule=\"evenodd\" fill-opacity=\"1\" /><path clip-path=\"url(#clip950)\" d=\"M1324.39 9.54393 L1331.89 9.54393 L1331.89 46.7717 L1354.13 27.2059 L1363.65 27.2059 L1339.58 48.4326 L1364.66 72.576 L1354.94 72.576 L1331.89 50.4176 L1331.89 72.576 L1324.39 72.576 L1324.39 9.54393 Z\" fill=\"#000000\" fill-rule=\"evenodd\" fill-opacity=\"1\" /><path clip-path=\"url(#clip950)\" d=\"M1372.72 9.54393 L1380.17 9.54393 L1380.17 72.576 L1372.72 72.576 L1372.72 9.54393 Z\" fill=\"#000000\" fill-rule=\"evenodd\" fill-opacity=\"1\" /><path clip-path=\"url(#clip950)\" d=\"M1413.35 32.4315 Q1407.35 32.4315 1403.87 37.1306 Q1400.39 41.7891 1400.39 49.9314 Q1400.39 58.0738 1403.83 62.7728 Q1407.31 67.4314 1413.35 67.4314 Q1419.31 67.4314 1422.79 62.7323 Q1426.27 58.0333 1426.27 49.9314 Q1426.27 41.8701 1422.79 37.1711 Q1419.31 32.4315 1413.35 32.4315 M1413.35 26.1121 Q1423.07 26.1121 1428.62 32.4315 Q1434.17 38.7509 1434.17 49.9314 Q1434.17 61.0714 1428.62 67.4314 Q1423.07 73.7508 1413.35 73.7508 Q1403.59 73.7508 1398.04 67.4314 Q1392.53 61.0714 1392.53 49.9314 Q1392.53 38.7509 1398.04 32.4315 Q1403.59 26.1121 1413.35 26.1121 Z\" fill=\"#000000\" fill-rule=\"evenodd\" fill-opacity=\"1\" /><path clip-path=\"url(#clip950)\" d=\"M1467.15 49.7694 Q1458.11 49.7694 1454.63 51.8354 Q1451.15 53.9013 1451.15 58.8839 Q1451.15 62.8538 1453.74 65.2034 Q1456.37 67.5124 1460.87 67.5124 Q1467.07 67.5124 1470.79 63.1374 Q1474.56 58.7219 1474.56 51.4303 L1474.56 49.7694 L1467.15 49.7694 M1482.01 46.6907 L1482.01 72.576 L1474.56 72.576 L1474.56 65.6895 Q1472.01 69.8214 1468.2 71.8063 Q1464.39 73.7508 1458.88 73.7508 Q1451.91 73.7508 1447.78 69.8619 Q1443.69 65.9325 1443.69 59.3701 Q1443.69 51.7138 1448.8 47.825 Q1453.94 43.9361 1464.11 43.9361 L1474.56 43.9361 L1474.56 43.2069 Q1474.56 38.0623 1471.16 35.2672 Q1467.79 32.4315 1461.68 32.4315 Q1457.79 32.4315 1454.1 33.3632 Q1450.42 34.295 1447.01 36.1584 L1447.01 29.2718 Q1451.1 27.692 1454.95 26.9223 Q1458.8 26.1121 1462.45 26.1121 Q1472.29 26.1121 1477.15 31.2163 Q1482.01 36.3204 1482.01 46.6907 Z\" fill=\"#000000\" fill-rule=\"evenodd\" fill-opacity=\"1\" /><path clip-path=\"url(#clip950)\" d=\"M1527.22 34.0924 L1527.22 9.54393 L1534.67 9.54393 L1534.67 72.576 L1527.22 72.576 L1527.22 65.7705 Q1524.87 69.8214 1521.27 71.8063 Q1517.7 73.7508 1512.68 73.7508 Q1504.46 73.7508 1499.27 67.1883 Q1494.13 60.6258 1494.13 49.9314 Q1494.13 39.2371 1499.27 32.6746 Q1504.46 26.1121 1512.68 26.1121 Q1517.7 26.1121 1521.27 28.0971 Q1524.87 30.0415 1527.22 34.0924 M1501.82 49.9314 Q1501.82 58.1548 1505.18 62.8538 Q1508.59 67.5124 1514.5 67.5124 Q1520.42 67.5124 1523.82 62.8538 Q1527.22 58.1548 1527.22 49.9314 Q1527.22 41.7081 1523.82 37.0496 Q1520.42 32.3505 1514.5 32.3505 Q1508.59 32.3505 1505.18 37.0496 Q1501.82 41.7081 1501.82 49.9314 Z\" fill=\"#000000\" fill-rule=\"evenodd\" fill-opacity=\"1\" /><path clip-path=\"url(#clip952)\" d=\"\n",
       "M450.228 829.054 L450.228 1386.4 L697.372 1386.4 L697.372 829.054 L450.228 829.054 L450.228 829.054  Z\n",
       "  \" fill=\"#009af9\" fill-rule=\"evenodd\" fill-opacity=\"1\"/>\n",
       "<polyline clip-path=\"url(#clip952)\" style=\"stroke:#000000; stroke-linecap:butt; stroke-linejoin:round; stroke-width:4; stroke-opacity:1; fill:none\" points=\"\n",
       "  450.228,829.054 450.228,1386.4 697.372,1386.4 697.372,829.054 450.228,829.054 \n",
       "  \"/>\n",
       "<path clip-path=\"url(#clip952)\" d=\"\n",
       "M759.158 1274.92 L759.158 1386.4 L1006.3 1386.4 L1006.3 1274.92 L759.158 1274.92 L759.158 1274.92  Z\n",
       "  \" fill=\"#009af9\" fill-rule=\"evenodd\" fill-opacity=\"1\"/>\n",
       "<polyline clip-path=\"url(#clip952)\" style=\"stroke:#000000; stroke-linecap:butt; stroke-linejoin:round; stroke-width:4; stroke-opacity:1; fill:none\" points=\"\n",
       "  759.158,1274.92 759.158,1386.4 1006.3,1386.4 1006.3,1274.92 759.158,1274.92 \n",
       "  \"/>\n",
       "<path clip-path=\"url(#clip952)\" d=\"\n",
       "M1068.09 160.256 L1068.09 1386.4 L1315.23 1386.4 L1315.23 160.256 L1068.09 160.256 L1068.09 160.256  Z\n",
       "  \" fill=\"#009af9\" fill-rule=\"evenodd\" fill-opacity=\"1\"/>\n",
       "<polyline clip-path=\"url(#clip952)\" style=\"stroke:#000000; stroke-linecap:butt; stroke-linejoin:round; stroke-width:4; stroke-opacity:1; fill:none\" points=\"\n",
       "  1068.09,160.256 1068.09,1386.4 1315.23,1386.4 1315.23,160.256 1068.09,160.256 \n",
       "  \"/>\n",
       "<path clip-path=\"url(#clip952)\" d=\"\n",
       "M1377.02 1051.99 L1377.02 1386.4 L1624.16 1386.4 L1624.16 1051.99 L1377.02 1051.99 L1377.02 1051.99  Z\n",
       "  \" fill=\"#009af9\" fill-rule=\"evenodd\" fill-opacity=\"1\"/>\n",
       "<polyline clip-path=\"url(#clip952)\" style=\"stroke:#000000; stroke-linecap:butt; stroke-linejoin:round; stroke-width:4; stroke-opacity:1; fill:none\" points=\"\n",
       "  1377.02,1051.99 1377.02,1386.4 1624.16,1386.4 1624.16,1051.99 1377.02,1051.99 \n",
       "  \"/>\n",
       "<path clip-path=\"url(#clip952)\" d=\"\n",
       "M1685.95 606.121 L1685.95 1386.4 L1933.09 1386.4 L1933.09 606.121 L1685.95 606.121 L1685.95 606.121  Z\n",
       "  \" fill=\"#009af9\" fill-rule=\"evenodd\" fill-opacity=\"1\"/>\n",
       "<polyline clip-path=\"url(#clip952)\" style=\"stroke:#000000; stroke-linecap:butt; stroke-linejoin:round; stroke-width:4; stroke-opacity:1; fill:none\" points=\"\n",
       "  1685.95,606.121 1685.95,1386.4 1933.09,1386.4 1933.09,606.121 1685.95,606.121 \n",
       "  \"/>\n",
       "<path clip-path=\"url(#clip952)\" d=\"\n",
       "M1994.88 383.189 L1994.88 1386.4 L2242.02 1386.4 L2242.02 383.189 L1994.88 383.189 L1994.88 383.189  Z\n",
       "  \" fill=\"#009af9\" fill-rule=\"evenodd\" fill-opacity=\"1\"/>\n",
       "<polyline clip-path=\"url(#clip952)\" style=\"stroke:#000000; stroke-linecap:butt; stroke-linejoin:round; stroke-width:4; stroke-opacity:1; fill:none\" points=\"\n",
       "  1994.88,383.189 1994.88,1386.4 2242.02,1386.4 2242.02,383.189 1994.88,383.189 \n",
       "  \"/>\n",
       "<circle clip-path=\"url(#clip952)\" style=\"fill:#009af9; stroke:none; fill-opacity:0\" cx=\"573.8\" cy=\"829.054\" r=\"2\"/>\n",
       "<circle clip-path=\"url(#clip952)\" style=\"fill:#009af9; stroke:none; fill-opacity:0\" cx=\"882.73\" cy=\"1274.92\" r=\"2\"/>\n",
       "<circle clip-path=\"url(#clip952)\" style=\"fill:#009af9; stroke:none; fill-opacity:0\" cx=\"1191.66\" cy=\"160.256\" r=\"2\"/>\n",
       "<circle clip-path=\"url(#clip952)\" style=\"fill:#009af9; stroke:none; fill-opacity:0\" cx=\"1500.59\" cy=\"1051.99\" r=\"2\"/>\n",
       "<circle clip-path=\"url(#clip952)\" style=\"fill:#009af9; stroke:none; fill-opacity:0\" cx=\"1809.52\" cy=\"606.121\" r=\"2\"/>\n",
       "<circle clip-path=\"url(#clip952)\" style=\"fill:#009af9; stroke:none; fill-opacity:0\" cx=\"2118.45\" cy=\"383.189\" r=\"2\"/>\n",
       "</svg>\n"
      ]
     },
     "metadata": {},
     "output_type": "display_data"
    }
   ],
   "source": [
    "b1 = bar(niter, xlab=\"threadid\", ylab=\"# iterations\", title=\"Number of iterations\", legend=false)\n",
    "b2 = bar(load, xlab=\"threadid\", ylab=\"workload\", title=\"Workload\", legend=false)\n",
    "\n",
    "display(b1)\n",
    "display(b2)"
   ]
  },
  {
   "cell_type": "markdown",
   "metadata": {},
   "source": [
    "(There might be a scheduling option for `@threads` that implements load-balancing in the future.)"
   ]
  },
  {
   "cell_type": "markdown",
   "metadata": {},
   "source": [
    "## Multithreading: Things to be aware of"
   ]
  },
  {
   "cell_type": "markdown",
   "metadata": {},
   "source": [
    "### Race conditions and thread safety"
   ]
  },
  {
   "cell_type": "code",
   "execution_count": 68,
   "metadata": {},
   "outputs": [
    {
     "data": {
      "text/plain": [
       "sum_serial (generic function with 1 method)"
      ]
     },
     "execution_count": 68,
     "metadata": {},
     "output_type": "execute_result"
    }
   ],
   "source": [
    "function sum_serial(x)\n",
    "    s = zero(eltype(x))\n",
    "    for i in eachindex(x)\n",
    "        @inbounds s += x[i]\n",
    "    end\n",
    "    return s\n",
    "end"
   ]
  },
  {
   "cell_type": "code",
   "execution_count": 69,
   "metadata": {},
   "outputs": [
    {
     "data": {
      "text/plain": [
       "sum_threads_naive (generic function with 1 method)"
      ]
     },
     "execution_count": 69,
     "metadata": {},
     "output_type": "execute_result"
    }
   ],
   "source": [
    "function sum_threads_naive(x)\n",
    "    s = zero(eltype(x))\n",
    "    @threads for i in eachindex(x)\n",
    "        @inbounds s += x[i]\n",
    "    end\n",
    "    return s\n",
    "end"
   ]
  },
  {
   "cell_type": "code",
   "execution_count": 70,
   "metadata": {},
   "outputs": [],
   "source": [
    "numbers = rand(nthreads()*10_000);"
   ]
  },
  {
   "cell_type": "code",
   "execution_count": 82,
   "metadata": {},
   "outputs": [
    {
     "name": "stdout",
     "output_type": "stream",
     "text": [
      "sum(numbers) = 29925.00755753313\n",
      "sum_serial(numbers) = 29925.007557533165\n",
      "sum_threads_naive(numbers) = 4991.886092001166\n"
     ]
    }
   ],
   "source": [
    "@show sum(numbers);\n",
    "@show sum_serial(numbers);\n",
    "@show sum_threads_naive(numbers);"
   ]
  },
  {
   "cell_type": "markdown",
   "metadata": {},
   "source": [
    "**Wrong** result! Even worse, it's **non-deterministic** and different every time! It's also slow..."
   ]
  },
  {
   "cell_type": "code",
   "execution_count": 86,
   "metadata": {},
   "outputs": [
    {
     "name": "stdout",
     "output_type": "stream",
     "text": [
      "  92.583 μs (0 allocations: 0 bytes)\n",
      "  1.399 ms (120038 allocations: 1.83 MiB)\n"
     ]
    }
   ],
   "source": [
    "@btime sum_serial($numbers);\n",
    "@btime sum_threads_naive($numbers);"
   ]
  },
  {
   "cell_type": "markdown",
   "metadata": {},
   "source": [
    "Reason: There is a [race condition](https://en.wikipedia.org/wiki/Race_condition).\n",
    "\n",
    "Note that race conditions aren't specific to reductions. More generally, they can appear when multiple threads are modifying a shared \"global\" state simultaneously.\n",
    "\n",
    "Not all of Julia and its packages in the ecosystem are thread-safe! In general, it is safer to assume that they're not unless proven otherwise."
   ]
  },
  {
   "cell_type": "markdown",
   "metadata": {},
   "source": [
    "#### Fix 1: Divide the work"
   ]
  },
  {
   "cell_type": "code",
   "execution_count": 83,
   "metadata": {},
   "outputs": [
    {
     "data": {
      "text/plain": [
       "sum_threads_subsums (generic function with 1 method)"
      ]
     },
     "execution_count": 83,
     "metadata": {},
     "output_type": "execute_result"
    }
   ],
   "source": [
    "function sum_threads_subsums(x)\n",
    "    blocksize = length(x) ÷ nthreads()\n",
    "    @assert isinteger(blocksize)\n",
    "    idcs = collect(Iterators.partition(1:length(x), blocksize))\n",
    "    \n",
    "    subsums = zeros(eltype(x), nthreads())\n",
    "    @threads for tid in 1:nthreads()\n",
    "        for i in idcs[tid]\n",
    "            @inbounds subsums[tid] += x[i]\n",
    "        end\n",
    "    end\n",
    "    return sum(subsums)\n",
    "end"
   ]
  },
  {
   "cell_type": "code",
   "execution_count": 84,
   "metadata": {},
   "outputs": [
    {
     "name": "stdout",
     "output_type": "stream",
     "text": [
      "sum(numbers) = 29925.00755753313\n",
      "sum_serial(numbers) = 29925.007557533165\n",
      "sum_threads_subsums(numbers) = 29925.0075575331\n"
     ]
    }
   ],
   "source": [
    "@show sum(numbers);\n",
    "@show sum_serial(numbers);\n",
    "@show sum_threads_subsums(numbers);"
   ]
  },
  {
   "cell_type": "code",
   "execution_count": 85,
   "metadata": {},
   "outputs": [
    {
     "name": "stdout",
     "output_type": "stream",
     "text": [
      "  33.543 μs (38 allocations: 3.33 KiB)\n"
     ]
    }
   ],
   "source": [
    "@btime sum_threads_subsums($numbers);"
   ]
  },
  {
   "cell_type": "markdown",
   "metadata": {},
   "source": [
    "Speedup and correct result. But not ideal:\n",
    "\n",
    "* cumbersome to do this manually\n",
    "* can have more subtle performance issues like [false sharing](https://en.wikipedia.org/wiki/False_sharing#:~:text=In%20computer%20science%2C%20false%20sharing,managed%20by%20the%20caching%20mechanism.)"
   ]
  },
  {
   "cell_type": "markdown",
   "metadata": {},
   "source": [
    "#### Fix 2: Atomics\n",
    "\n",
    "See [Atomic Operations](https://docs.julialang.org/en/v1/manual/multi-threading/#Atomic-Operations) in the Julia doc for more information. But in generaly one shouldn't avoid using them as much as possible since they actually limit the parallelism."
   ]
  },
  {
   "cell_type": "markdown",
   "metadata": {},
   "source": [
    "### Garbage collection\n",
    "\n",
    "[As of now](https://www.youtube.com/watch?v=Ks0p6PQyIPs), **Julia's GC is not parallel** and doesn't work nicely with multithreading.\n",
    "\n",
    "If it gets triggered, it essentially \"stops the world\" (all threads) for clearing up memory.\n",
    "\n",
    "Hence, when using multithreading, it is even more important to **avoid heap allocations!**\n",
    "\n",
    "(If you can't avoid allocations, consider using multiprocessing instead.)"
   ]
  },
  {
   "cell_type": "markdown",
   "metadata": {},
   "source": [
    "## High-level tools for parallel computing"
   ]
  },
  {
   "cell_type": "markdown",
   "metadata": {},
   "source": [
    "### [ThreadsX.jl](https://github.com/tkf/ThreadsX.jl)\n",
    "\n",
    "*Parallelized Base functions*"
   ]
  },
  {
   "cell_type": "code",
   "execution_count": 87,
   "metadata": {},
   "outputs": [],
   "source": [
    "using ThreadsX"
   ]
  },
  {
   "cell_type": "code",
   "execution_count": 88,
   "metadata": {},
   "outputs": [
    {
     "data": {
      "text/plain": [
       "29925.00755753313"
      ]
     },
     "execution_count": 88,
     "metadata": {},
     "output_type": "execute_result"
    }
   ],
   "source": [
    "sum(numbers)"
   ]
  },
  {
   "cell_type": "code",
   "execution_count": 89,
   "metadata": {},
   "outputs": [
    {
     "data": {
      "text/plain": [
       "29925.00755753313"
      ]
     },
     "execution_count": 89,
     "metadata": {},
     "output_type": "execute_result"
    }
   ],
   "source": [
    "ThreadsX.sum(numbers)"
   ]
  },
  {
   "cell_type": "code",
   "execution_count": 90,
   "metadata": {},
   "outputs": [
    {
     "name": "stdout",
     "output_type": "stream",
     "text": [
      "  40.256 μs (543 allocations: 34.67 KiB)\n"
     ]
    }
   ],
   "source": [
    "@btime ThreadsX.sum($numbers);"
   ]
  },
  {
   "cell_type": "markdown",
   "metadata": {},
   "source": [
    "### [FLoops.jl](https://github.com/JuliaFolds/FLoops.jl)\n",
    "\n",
    "*Fast sequential, threaded, and distributed for-loops for Julia*"
   ]
  },
  {
   "cell_type": "code",
   "execution_count": 92,
   "metadata": {},
   "outputs": [],
   "source": [
    "using FLoops"
   ]
  },
  {
   "cell_type": "code",
   "execution_count": 93,
   "metadata": {},
   "outputs": [
    {
     "data": {
      "text/plain": [
       "sum_floops (generic function with 1 method)"
      ]
     },
     "execution_count": 93,
     "metadata": {},
     "output_type": "execute_result"
    }
   ],
   "source": [
    "function sum_floops(x)\n",
    "    @floop for xi in x\n",
    "        @reduce(s = zero(eltype(x)) + xi)\n",
    "    end\n",
    "    return s\n",
    "end"
   ]
  },
  {
   "cell_type": "code",
   "execution_count": 94,
   "metadata": {},
   "outputs": [
    {
     "name": "stdout",
     "output_type": "stream",
     "text": [
      "  35.137 μs (69 allocations: 3.97 KiB)\n"
     ]
    }
   ],
   "source": [
    "@btime sum_floops($numbers);"
   ]
  },
  {
   "cell_type": "code",
   "execution_count": 95,
   "metadata": {},
   "outputs": [
    {
     "data": {
      "text/plain": [
       "true"
      ]
     },
     "execution_count": 95,
     "metadata": {},
     "output_type": "execute_result"
    }
   ],
   "source": [
    "numbers = rand(nthreads()*10_000);\n",
    "\n",
    "sum_floops(numbers) ≈ sum(numbers)"
   ]
  },
  {
   "cell_type": "code",
   "execution_count": 96,
   "metadata": {},
   "outputs": [
    {
     "name": "stdout",
     "output_type": "stream",
     "text": [
      "  92.586 μs (0 allocations: 0 bytes)\n",
      "  34.242 μs (68 allocations: 3.94 KiB)\n"
     ]
    }
   ],
   "source": [
    "@btime sum_serial($numbers);\n",
    "@btime sum_floops($numbers);"
   ]
  },
  {
   "cell_type": "markdown",
   "metadata": {},
   "source": [
    "`@floop` supports different *executors* that allow for easy switching between serial and threaded execution"
   ]
  },
  {
   "cell_type": "code",
   "execution_count": 97,
   "metadata": {},
   "outputs": [
    {
     "data": {
      "text/plain": [
       "sum_floops (generic function with 2 methods)"
      ]
     },
     "execution_count": 97,
     "metadata": {},
     "output_type": "execute_result"
    }
   ],
   "source": [
    "function sum_floops(x, executor)\n",
    "    @floop executor for xi in x\n",
    "        @reduce(s += xi)\n",
    "    end\n",
    "    return s\n",
    "end"
   ]
  },
  {
   "cell_type": "code",
   "execution_count": 98,
   "metadata": {},
   "outputs": [
    {
     "name": "stdout",
     "output_type": "stream",
     "text": [
      "  92.585 μs (0 allocations: 0 bytes)\n",
      "  34.194 μs (61 allocations: 3.83 KiB)\n"
     ]
    }
   ],
   "source": [
    "@btime sum_floops($numbers, $(SequentialEx()));\n",
    "@btime sum_floops($numbers, $(ThreadedEx()));"
   ]
  },
  {
   "cell_type": "markdown",
   "metadata": {},
   "source": [
    "There are many more [executors](https://juliafolds.github.io/FLoops.jl/stable/tutorials/parallel/#tutorials-executor), like `DistributedEx` or `CUDAEx`. See, e.g., [FoldsThreads.jl](https://github.com/JuliaFolds/FoldsThreads.jl) and [FoldsCUDA.jl](https://github.com/JuliaFolds/FoldsCUDA.jl)."
   ]
  },
  {
   "cell_type": "markdown",
   "metadata": {},
   "source": [
    "Under the hood, FLoops is built on top of [Transducers.jl](https://juliafolds.github.io/Transducers.jl/stable/tutorials/tutorial_parallel/) (i.e. it translates for-loop semantics into folds)."
   ]
  },
  {
   "cell_type": "markdown",
   "metadata": {},
   "source": [
    "### [Tullio.jl](https://github.com/mcabbott/Tullio.jl)\n",
    "\n",
    "*Tullio is a very flexible einsum macro* ([Einstein notation](https://en.wikipedia.org/wiki/Einstein_notation))"
   ]
  },
  {
   "cell_type": "code",
   "execution_count": 100,
   "metadata": {},
   "outputs": [],
   "source": [
    "using Tullio"
   ]
  },
  {
   "cell_type": "code",
   "execution_count": 101,
   "metadata": {},
   "outputs": [
    {
     "data": {
      "text/plain": [
       "true"
      ]
     },
     "execution_count": 101,
     "metadata": {},
     "output_type": "execute_result"
    }
   ],
   "source": [
    "A = rand(10,10)\n",
    "B = rand(10,10)\n",
    "\n",
    "C = @tullio C[i,j] := A[i,k] * B[k,j] # matrix multiplication\n",
    "\n",
    "C ≈ A * B"
   ]
  },
  {
   "cell_type": "code",
   "execution_count": 103,
   "metadata": {},
   "outputs": [
    {
     "data": {
      "text/plain": [
       "sum_tullio (generic function with 1 method)"
      ]
     },
     "execution_count": 103,
     "metadata": {},
     "output_type": "execute_result"
    }
   ],
   "source": [
    "sum_tullio(xs) = @tullio S := xs[i]"
   ]
  },
  {
   "cell_type": "code",
   "execution_count": 104,
   "metadata": {},
   "outputs": [
    {
     "name": "stdout",
     "output_type": "stream",
     "text": [
      "  11.196 μs (0 allocations: 0 bytes)\n"
     ]
    }
   ],
   "source": [
    "@btime sum_tullio($numbers);"
   ]
  },
  {
   "cell_type": "markdown",
   "metadata": {},
   "source": [
    "(Uses `fastmath` and other tricks to be faster here.)"
   ]
  },
  {
   "cell_type": "markdown",
   "metadata": {},
   "source": [
    "### [LoopVectorization.jl](https://github.com/JuliaSIMD/LoopVectorization.jl)\n",
    "\n",
    "*Macro(s) for vectorizing loops.*"
   ]
  },
  {
   "cell_type": "code",
   "execution_count": 105,
   "metadata": {},
   "outputs": [],
   "source": [
    "using LoopVectorization"
   ]
  },
  {
   "cell_type": "code",
   "execution_count": 106,
   "metadata": {},
   "outputs": [
    {
     "data": {
      "text/plain": [
       "sum_turbo (generic function with 1 method)"
      ]
     },
     "execution_count": 106,
     "metadata": {},
     "output_type": "execute_result"
    }
   ],
   "source": [
    "function sum_turbo(x)\n",
    "    s = zero(eltype(x))\n",
    "    @tturbo for i in eachindex(x)\n",
    "        @inbounds s += x[i]\n",
    "    end\n",
    "    return s\n",
    "end"
   ]
  },
  {
   "cell_type": "code",
   "execution_count": 107,
   "metadata": {},
   "outputs": [
    {
     "name": "stdout",
     "output_type": "stream",
     "text": [
      "  4.351 μs (0 allocations: 0 bytes)\n"
     ]
    }
   ],
   "source": [
    "@btime sum_turbo($numbers);"
   ]
  },
  {
   "cell_type": "markdown",
   "metadata": {},
   "source": [
    "(Uses all kinds of SIMD tricks to be faster than the others.)"
   ]
  },
  {
   "cell_type": "markdown",
   "metadata": {},
   "source": [
    "## System topology and thread affinity"
   ]
  },
  {
   "cell_type": "markdown",
   "metadata": {},
   "source": [
    "### Hawk compute node"
   ]
  },
  {
   "cell_type": "markdown",
   "metadata": {},
   "source": [
    "<img src=\"../imgs/lstopo_hawk.svg\" width=100%>"
   ]
  },
  {
   "cell_type": "markdown",
   "metadata": {},
   "source": [
    "**Not pinning threads (or pinning them badly) can degrade performance massively!**"
   ]
  },
  {
   "cell_type": "markdown",
   "metadata": {},
   "source": [
    "### Pinning Julia threads to CPU threads\n",
    "\n",
    "What about external tools like `numactl`, `taskset`, etc.? Doesn't work reliably because it [can't distinguish](https://discourse.julialang.org/t/thread-affinitization-pinning-julia-threads-to-cores/58069/5) between Julia threads and other internal threads.\n",
    "\n",
    "**Options:**\n",
    "\n",
    "* Environment variable: `JULIA_EXCLUSIVE=1` (compact pinning)\n",
    "* More control and convenient visualization: [ThreadPinning.jl](https://github.com/carstenbauer/ThreadPinning.jl)\n",
    "  * `compact`: pin to cpu thread 0, 1, 2, 3, ... one after another\n",
    "  * `spread`: alternate between sockets so, e.g., 0, 64, 1, 65, 2, 66, .... (if a socket has 64 cores)\n",
    "  * `numa`: same as `spread` but alternate between NUMA domains so, e.g., 0, 16, 32, 48, 64, .... (if a NUMA domain has 16 cores)\n",
    "  * **Caveat:** currently one works on Linux.\n",
    "\n",
    "<img src=\"../imgs/threadinfo.png\" width=1000px>"
   ]
  }
 ],
 "metadata": {
  "@webio": {
   "lastCommId": null,
   "lastKernelId": null
  },
  "kernelspec": {
   "display_name": "Julia 1.8.0",
   "language": "julia",
   "name": "julia-1.8"
  },
  "language_info": {
   "file_extension": ".jl",
   "mimetype": "application/julia",
   "name": "julia",
   "version": "1.8.0"
  }
 },
 "nbformat": 4,
 "nbformat_minor": 4
}
