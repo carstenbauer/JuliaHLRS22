{
 "cells": [
  {
   "cell_type": "markdown",
   "metadata": {},
   "source": [
    "# Distributed Computing: `Distributed` standard library"
   ]
  },
  {
   "cell_type": "markdown",
   "metadata": {},
   "source": [
    "**What**\n",
    "* **single Julia process -> multiple Julia processes** that coordinate to perform certain computations\n",
    "\n",
    "**Why**\n",
    "* Scaling things up: run computations on multiple CPU cores, potentially even on different machines, e.g. nodes of a supercomputer or a local cluster of desktop machines.\n",
    "* Effectively increase your memory: process a large dataset, which wouldn't fit into local memory, in parallel across multiple machines with separate dedicated RAM.\n",
    "\n",
    "**Julia provides two fundamental implementations and paradigms**\n",
    "* Julia's built-in [`Distributed` standard library](https://docs.julialang.org/en/v1/stdlib/Distributed/)\n",
    "  * master-worker model\n",
    "* [Message Passing Interface (MPI)](https://www.mpi-forum.org/) through [MPI.jl](https://github.com/JuliaParallel/MPI.jl)\n",
    "  * Single Program Multiple Data (SPMD)\n",
    "  \n",
    "The focus of this notebook is on the **`Distributed` standard library.**"
   ]
  },
  {
   "cell_type": "markdown",
   "metadata": {},
   "source": [
    "## `Distributed` standard library\n",
    "\n",
    "Julia's `Distributed` follows a master-worker paradigm for its native distributed parallelism: **One master process coordinates all the worker processes, which perform the actual computations.**"
   ]
  },
  {
   "cell_type": "code",
   "execution_count": 1,
   "metadata": {},
   "outputs": [],
   "source": [
    "using Distributed"
   ]
  },
  {
   "cell_type": "code",
   "execution_count": 2,
   "metadata": {},
   "outputs": [
    {
     "data": {
      "text/plain": [
       "1"
      ]
     },
     "execution_count": 2,
     "metadata": {},
     "output_type": "execute_result"
    }
   ],
   "source": [
    "nprocs()"
   ]
  },
  {
   "cell_type": "code",
   "execution_count": 3,
   "metadata": {},
   "outputs": [
    {
     "data": {
      "text/plain": [
       "1"
      ]
     },
     "execution_count": 3,
     "metadata": {},
     "output_type": "execute_result"
    }
   ],
   "source": [
    "nworkers() # the master is considered a worker as long as there are no real workers"
   ]
  },
  {
   "cell_type": "markdown",
   "metadata": {},
   "source": [
    "To increase the number of workers, i.e. Julia processes, from within a Julia session we can dynamically call **`addprocs`**.\n",
    "\n",
    "Alternatively, when starting Julia from the command line, one can use the `-p` option up front. Example,\n",
    "\n",
    "```\n",
    "julia -p 4\n",
    "```\n",
    "\n",
    "will start Julia with 5 processes, 1 master and 4 workers."
   ]
  },
  {
   "cell_type": "code",
   "execution_count": 4,
   "metadata": {},
   "outputs": [
    {
     "data": {
      "text/plain": [
       "4-element Vector{Int64}:\n",
       " 2\n",
       " 3\n",
       " 4\n",
       " 5"
      ]
     },
     "execution_count": 4,
     "metadata": {},
     "output_type": "execute_result"
    }
   ],
   "source": [
    "addprocs(4)"
   ]
  },
  {
   "cell_type": "markdown",
   "metadata": {},
   "source": [
    "Every process has a Julia internal `pid` (process id). The master is always 1. You can get the workers pids from `workers()`."
   ]
  },
  {
   "cell_type": "code",
   "execution_count": 5,
   "metadata": {},
   "outputs": [
    {
     "data": {
      "text/plain": [
       "4-element Vector{Int64}:\n",
       " 2\n",
       " 3\n",
       " 4\n",
       " 5"
      ]
     },
     "execution_count": 5,
     "metadata": {},
     "output_type": "execute_result"
    }
   ],
   "source": [
    "workers()"
   ]
  },
  {
   "cell_type": "markdown",
   "metadata": {},
   "source": [
    "Note that the 4 worker's pids aren't necessarily 2, 3, 4 and 5 and one shouldn't rely on those literal values. Let's remove the processes and add them once more."
   ]
  },
  {
   "cell_type": "code",
   "execution_count": 6,
   "metadata": {},
   "outputs": [
    {
     "data": {
      "text/plain": [
       "Task (done) @0x00000001234f4fd0"
      ]
     },
     "execution_count": 6,
     "metadata": {},
     "output_type": "execute_result"
    }
   ],
   "source": [
    "rmprocs(workers())"
   ]
  },
  {
   "cell_type": "code",
   "execution_count": 7,
   "metadata": {},
   "outputs": [
    {
     "data": {
      "text/plain": [
       "1"
      ]
     },
     "execution_count": 7,
     "metadata": {},
     "output_type": "execute_result"
    }
   ],
   "source": [
    "nworkers() # only the master is left"
   ]
  },
  {
   "cell_type": "code",
   "execution_count": 8,
   "metadata": {},
   "outputs": [
    {
     "data": {
      "text/plain": [
       "4-element Vector{Int64}:\n",
       " 6\n",
       " 7\n",
       " 8\n",
       " 9"
      ]
     },
     "execution_count": 8,
     "metadata": {},
     "output_type": "execute_result"
    }
   ],
   "source": [
    "addprocs(4)"
   ]
  },
  {
   "cell_type": "code",
   "execution_count": 9,
   "metadata": {},
   "outputs": [
    {
     "data": {
      "text/plain": [
       "4-element Vector{Int64}:\n",
       " 6\n",
       " 7\n",
       " 8\n",
       " 9"
      ]
     },
     "execution_count": 9,
     "metadata": {},
     "output_type": "execute_result"
    }
   ],
   "source": [
    "workers()"
   ]
  },
  {
   "cell_type": "markdown",
   "metadata": {},
   "source": [
    "### One master to rule them all - `@spawn`, `@spawnat`, `@fetch`, `@fetchfrom`, `@everywhere`..."
   ]
  },
  {
   "cell_type": "markdown",
   "metadata": {},
   "source": [
    "To execute commands and start computations on workers we can use the following macros\n",
    "\n",
    "* `@spawn`: run a command or a code block on any worker and return a `Future` to it's result. It's basically a version of `@async` for remote processes.\n",
    "* `@spawnat`: same as `@spawn` but one can choose a specific worker by providing its pid."
   ]
  },
  {
   "cell_type": "markdown",
   "metadata": {},
   "source": [
    "**Example:** Let's say we would like to generate a random matrix on one of the workers."
   ]
  },
  {
   "cell_type": "code",
   "execution_count": 10,
   "metadata": {},
   "outputs": [
    {
     "data": {
      "text/plain": [
       "Future(6, 1, 10, ReentrantLock(nothing, 0x00000000, 0x00, Base.GenericCondition{Base.Threads.SpinLock}(Base.InvasiveLinkedList{Task}(nothing, nothing), Base.Threads.SpinLock(0)), (0, 4965123904, 0)), nothing)"
      ]
     },
     "execution_count": 10,
     "metadata": {},
     "output_type": "execute_result"
    }
   ],
   "source": [
    "@spawn 3+3 # similar to @async"
   ]
  },
  {
   "cell_type": "code",
   "execution_count": 11,
   "metadata": {},
   "outputs": [
    {
     "data": {
      "text/plain": [
       "Future(7, 1, 11, ReentrantLock(nothing, 0x00000000, 0x00, Base.GenericCondition{Base.Threads.SpinLock}(Base.InvasiveLinkedList{Task}(nothing, nothing), Base.Threads.SpinLock(0)), (8, 4518087280, 4518087600)), nothing)"
      ]
     },
     "execution_count": 11,
     "metadata": {},
     "output_type": "execute_result"
    }
   ],
   "source": [
    "result = @spawn 3+3"
   ]
  },
  {
   "cell_type": "code",
   "execution_count": 12,
   "metadata": {},
   "outputs": [
    {
     "data": {
      "text/plain": [
       "6"
      ]
     },
     "execution_count": 12,
     "metadata": {},
     "output_type": "execute_result"
    }
   ],
   "source": [
    "fetch(result)"
   ]
  },
  {
   "cell_type": "markdown",
   "metadata": {},
   "source": [
    "Because the combination of spawning at fetching is so common, there is `@fetch` which combines them."
   ]
  },
  {
   "cell_type": "code",
   "execution_count": 13,
   "metadata": {},
   "outputs": [
    {
     "data": {
      "text/plain": [
       "6"
      ]
     },
     "execution_count": 13,
     "metadata": {},
     "output_type": "execute_result"
    }
   ],
   "source": [
    "@fetch 3+3"
   ]
  },
  {
   "cell_type": "code",
   "execution_count": 14,
   "metadata": {},
   "outputs": [
    {
     "data": {
      "text/plain": [
       "3×3 Matrix{Float64}:\n",
       " 0.456195  0.611805  0.319853\n",
       " 0.877583  0.763865  0.715715\n",
       " 0.208555  0.497212  0.354929"
      ]
     },
     "execution_count": 14,
     "metadata": {},
     "output_type": "execute_result"
    }
   ],
   "source": [
    "@fetch rand(3,3)"
   ]
  },
  {
   "cell_type": "markdown",
   "metadata": {},
   "source": [
    "Which worker did the work?"
   ]
  },
  {
   "cell_type": "code",
   "execution_count": 30,
   "metadata": {},
   "outputs": [
    {
     "name": "stdout",
     "output_type": "stream",
     "text": [
      "      From worker 9:\t9\n"
     ]
    },
    {
     "data": {
      "text/plain": [
       "6"
      ]
     },
     "execution_count": 30,
     "metadata": {},
     "output_type": "execute_result"
    }
   ],
   "source": [
    "@fetch begin\n",
    "    println(myid());\n",
    "    3+3\n",
    "end"
   ]
  },
  {
   "cell_type": "markdown",
   "metadata": {},
   "source": [
    "Using `@spawnat` and `@fetchfrom` we can delegate the work to a specific worker."
   ]
  },
  {
   "cell_type": "code",
   "execution_count": 42,
   "metadata": {},
   "outputs": [
    {
     "name": "stdout",
     "output_type": "stream",
     "text": [
      "      From worker 7:\t7\n"
     ]
    },
    {
     "data": {
      "text/plain": [
       "6"
      ]
     },
     "execution_count": 42,
     "metadata": {},
     "output_type": "execute_result"
    }
   ],
   "source": [
    "@fetchfrom 7 begin\n",
    "    println(myid());\n",
    "    3+3\n",
    "end"
   ]
  },
  {
   "cell_type": "markdown",
   "metadata": {},
   "source": [
    "We can use `@sync` as a blocker to wait for all workers to complete their tasks."
   ]
  },
  {
   "cell_type": "code",
   "execution_count": 43,
   "metadata": {},
   "outputs": [
    {
     "name": "stdout",
     "output_type": "stream",
     "text": [
      "      From worker 8:\tHello\n",
      "      From worker 7:\t class!\n",
      "      From worker 6:\tToday is reverse day!\n",
      "Done!\n"
     ]
    }
   ],
   "source": [
    "@sync begin\n",
    "    pids = workers()\n",
    "    @spawn (sleep(2); println(\"Today is reverse day!\"))\n",
    "    @spawn (sleep(1); println(\" class!\"))\n",
    "    @spawn println(\"Hello\")\n",
    "end;\n",
    "println(\"Done!\")"
   ]
  },
  {
   "cell_type": "markdown",
   "metadata": {},
   "source": [
    "Ok, now that we understood all that, let's delegate a *complicated* calculation"
   ]
  },
  {
   "cell_type": "code",
   "execution_count": 44,
   "metadata": {
    "scrolled": true
   },
   "outputs": [
    {
     "ename": "LoadError",
     "evalue": "On worker 9:\nUndefVarError: #complicated_calculation not defined\nStacktrace:\n  [1] \u001b[0m\u001b[1mdeserialize_datatype\u001b[22m\n\u001b[90m    @ \u001b[39m\u001b[90m~/.julia/juliaup/julia-1.8.0+0.x64/share/julia/stdlib/v1.8/Serialization/src/\u001b[39m\u001b[90m\u001b[4mSerialization.jl:1364\u001b[24m\u001b[39m\n  [2] \u001b[0m\u001b[1mhandle_deserialize\u001b[22m\n\u001b[90m    @ \u001b[39m\u001b[90m~/.julia/juliaup/julia-1.8.0+0.x64/share/julia/stdlib/v1.8/Serialization/src/\u001b[39m\u001b[90m\u001b[4mSerialization.jl:866\u001b[24m\u001b[39m\n  [3] \u001b[0m\u001b[1mdeserialize\u001b[22m\n\u001b[90m    @ \u001b[39m\u001b[90m~/.julia/juliaup/julia-1.8.0+0.x64/share/julia/stdlib/v1.8/Serialization/src/\u001b[39m\u001b[90m\u001b[4mSerialization.jl:813\u001b[24m\u001b[39m\n  [4] \u001b[0m\u001b[1mhandle_deserialize\u001b[22m\n\u001b[90m    @ \u001b[39m\u001b[90m~/.julia/juliaup/julia-1.8.0+0.x64/share/julia/stdlib/v1.8/Serialization/src/\u001b[39m\u001b[90m\u001b[4mSerialization.jl:873\u001b[24m\u001b[39m\n  [5] \u001b[0m\u001b[1mdeserialize\u001b[22m\n\u001b[90m    @ \u001b[39m\u001b[90m~/.julia/juliaup/julia-1.8.0+0.x64/share/julia/stdlib/v1.8/Serialization/src/\u001b[39m\u001b[90m\u001b[4mSerialization.jl:813\u001b[24m\u001b[39m\u001b[90m [inlined]\u001b[39m\n  [6] \u001b[0m\u001b[1mdeserialize_global_from_main\u001b[22m\n\u001b[90m    @ \u001b[39m\u001b[90m~/.julia/juliaup/julia-1.8.0+0.x64/share/julia/stdlib/v1.8/Distributed/src/\u001b[39m\u001b[90m\u001b[4mclusterserialize.jl:160\u001b[24m\u001b[39m\n  [7] \u001b[0m\u001b[1m#5\u001b[22m\n\u001b[90m    @ \u001b[39m\u001b[90m~/.julia/juliaup/julia-1.8.0+0.x64/share/julia/stdlib/v1.8/Distributed/src/\u001b[39m\u001b[90m\u001b[4mclusterserialize.jl:72\u001b[24m\u001b[39m\u001b[90m [inlined]\u001b[39m\n  [8] \u001b[0m\u001b[1mforeach\u001b[22m\n\u001b[90m    @ \u001b[39m\u001b[90m./\u001b[39m\u001b[90m\u001b[4mabstractarray.jl:2774\u001b[24m\u001b[39m\n  [9] \u001b[0m\u001b[1mdeserialize\u001b[22m\n\u001b[90m    @ \u001b[39m\u001b[90m~/.julia/juliaup/julia-1.8.0+0.x64/share/julia/stdlib/v1.8/Distributed/src/\u001b[39m\u001b[90m\u001b[4mclusterserialize.jl:72\u001b[24m\u001b[39m\n [10] \u001b[0m\u001b[1mhandle_deserialize\u001b[22m\n\u001b[90m    @ \u001b[39m\u001b[90m~/.julia/juliaup/julia-1.8.0+0.x64/share/julia/stdlib/v1.8/Serialization/src/\u001b[39m\u001b[90m\u001b[4mSerialization.jl:959\u001b[24m\u001b[39m\n [11] \u001b[0m\u001b[1mdeserialize\u001b[22m\n\u001b[90m    @ \u001b[39m\u001b[90m~/.julia/juliaup/julia-1.8.0+0.x64/share/julia/stdlib/v1.8/Serialization/src/\u001b[39m\u001b[90m\u001b[4mSerialization.jl:813\u001b[24m\u001b[39m\n [12] \u001b[0m\u001b[1mhandle_deserialize\u001b[22m\n\u001b[90m    @ \u001b[39m\u001b[90m~/.julia/juliaup/julia-1.8.0+0.x64/share/julia/stdlib/v1.8/Serialization/src/\u001b[39m\u001b[90m\u001b[4mSerialization.jl:870\u001b[24m\u001b[39m\n [13] \u001b[0m\u001b[1mdeserialize\u001b[22m\n\u001b[90m    @ \u001b[39m\u001b[90m~/.julia/juliaup/julia-1.8.0+0.x64/share/julia/stdlib/v1.8/Serialization/src/\u001b[39m\u001b[90m\u001b[4mSerialization.jl:813\u001b[24m\u001b[39m\n [14] \u001b[0m\u001b[1mhandle_deserialize\u001b[22m\n\u001b[90m    @ \u001b[39m\u001b[90m~/.julia/juliaup/julia-1.8.0+0.x64/share/julia/stdlib/v1.8/Serialization/src/\u001b[39m\u001b[90m\u001b[4mSerialization.jl:873\u001b[24m\u001b[39m\n [15] \u001b[0m\u001b[1mdeserialize\u001b[22m\n\u001b[90m    @ \u001b[39m\u001b[90m~/.julia/juliaup/julia-1.8.0+0.x64/share/julia/stdlib/v1.8/Serialization/src/\u001b[39m\u001b[90m\u001b[4mSerialization.jl:813\u001b[24m\u001b[39m\u001b[90m [inlined]\u001b[39m\n [16] \u001b[0m\u001b[1mdeserialize_msg\u001b[22m\n\u001b[90m    @ \u001b[39m\u001b[90m~/.julia/juliaup/julia-1.8.0+0.x64/share/julia/stdlib/v1.8/Distributed/src/\u001b[39m\u001b[90m\u001b[4mmessages.jl:87\u001b[24m\u001b[39m\n [17] \u001b[0m\u001b[1m#invokelatest#2\u001b[22m\n\u001b[90m    @ \u001b[39m\u001b[90m./\u001b[39m\u001b[90m\u001b[4messentials.jl:729\u001b[24m\u001b[39m\u001b[90m [inlined]\u001b[39m\n [18] \u001b[0m\u001b[1minvokelatest\u001b[22m\n\u001b[90m    @ \u001b[39m\u001b[90m./\u001b[39m\u001b[90m\u001b[4messentials.jl:726\u001b[24m\u001b[39m\u001b[90m [inlined]\u001b[39m\n [19] \u001b[0m\u001b[1mmessage_handler_loop\u001b[22m\n\u001b[90m    @ \u001b[39m\u001b[90m~/.julia/juliaup/julia-1.8.0+0.x64/share/julia/stdlib/v1.8/Distributed/src/\u001b[39m\u001b[90m\u001b[4mprocess_messages.jl:176\u001b[24m\u001b[39m\n [20] \u001b[0m\u001b[1mprocess_tcp_streams\u001b[22m\n\u001b[90m    @ \u001b[39m\u001b[90m~/.julia/juliaup/julia-1.8.0+0.x64/share/julia/stdlib/v1.8/Distributed/src/\u001b[39m\u001b[90m\u001b[4mprocess_messages.jl:133\u001b[24m\u001b[39m\n [21] \u001b[0m\u001b[1m#103\u001b[22m\n\u001b[90m    @ \u001b[39m\u001b[90m./\u001b[39m\u001b[90m\u001b[4mtask.jl:484\u001b[24m\u001b[39m",
     "output_type": "error",
     "traceback": [
      "On worker 9:\nUndefVarError: #complicated_calculation not defined\nStacktrace:\n  [1] \u001b[0m\u001b[1mdeserialize_datatype\u001b[22m\n\u001b[90m    @ \u001b[39m\u001b[90m~/.julia/juliaup/julia-1.8.0+0.x64/share/julia/stdlib/v1.8/Serialization/src/\u001b[39m\u001b[90m\u001b[4mSerialization.jl:1364\u001b[24m\u001b[39m\n  [2] \u001b[0m\u001b[1mhandle_deserialize\u001b[22m\n\u001b[90m    @ \u001b[39m\u001b[90m~/.julia/juliaup/julia-1.8.0+0.x64/share/julia/stdlib/v1.8/Serialization/src/\u001b[39m\u001b[90m\u001b[4mSerialization.jl:866\u001b[24m\u001b[39m\n  [3] \u001b[0m\u001b[1mdeserialize\u001b[22m\n\u001b[90m    @ \u001b[39m\u001b[90m~/.julia/juliaup/julia-1.8.0+0.x64/share/julia/stdlib/v1.8/Serialization/src/\u001b[39m\u001b[90m\u001b[4mSerialization.jl:813\u001b[24m\u001b[39m\n  [4] \u001b[0m\u001b[1mhandle_deserialize\u001b[22m\n\u001b[90m    @ \u001b[39m\u001b[90m~/.julia/juliaup/julia-1.8.0+0.x64/share/julia/stdlib/v1.8/Serialization/src/\u001b[39m\u001b[90m\u001b[4mSerialization.jl:873\u001b[24m\u001b[39m\n  [5] \u001b[0m\u001b[1mdeserialize\u001b[22m\n\u001b[90m    @ \u001b[39m\u001b[90m~/.julia/juliaup/julia-1.8.0+0.x64/share/julia/stdlib/v1.8/Serialization/src/\u001b[39m\u001b[90m\u001b[4mSerialization.jl:813\u001b[24m\u001b[39m\u001b[90m [inlined]\u001b[39m\n  [6] \u001b[0m\u001b[1mdeserialize_global_from_main\u001b[22m\n\u001b[90m    @ \u001b[39m\u001b[90m~/.julia/juliaup/julia-1.8.0+0.x64/share/julia/stdlib/v1.8/Distributed/src/\u001b[39m\u001b[90m\u001b[4mclusterserialize.jl:160\u001b[24m\u001b[39m\n  [7] \u001b[0m\u001b[1m#5\u001b[22m\n\u001b[90m    @ \u001b[39m\u001b[90m~/.julia/juliaup/julia-1.8.0+0.x64/share/julia/stdlib/v1.8/Distributed/src/\u001b[39m\u001b[90m\u001b[4mclusterserialize.jl:72\u001b[24m\u001b[39m\u001b[90m [inlined]\u001b[39m\n  [8] \u001b[0m\u001b[1mforeach\u001b[22m\n\u001b[90m    @ \u001b[39m\u001b[90m./\u001b[39m\u001b[90m\u001b[4mabstractarray.jl:2774\u001b[24m\u001b[39m\n  [9] \u001b[0m\u001b[1mdeserialize\u001b[22m\n\u001b[90m    @ \u001b[39m\u001b[90m~/.julia/juliaup/julia-1.8.0+0.x64/share/julia/stdlib/v1.8/Distributed/src/\u001b[39m\u001b[90m\u001b[4mclusterserialize.jl:72\u001b[24m\u001b[39m\n [10] \u001b[0m\u001b[1mhandle_deserialize\u001b[22m\n\u001b[90m    @ \u001b[39m\u001b[90m~/.julia/juliaup/julia-1.8.0+0.x64/share/julia/stdlib/v1.8/Serialization/src/\u001b[39m\u001b[90m\u001b[4mSerialization.jl:959\u001b[24m\u001b[39m\n [11] \u001b[0m\u001b[1mdeserialize\u001b[22m\n\u001b[90m    @ \u001b[39m\u001b[90m~/.julia/juliaup/julia-1.8.0+0.x64/share/julia/stdlib/v1.8/Serialization/src/\u001b[39m\u001b[90m\u001b[4mSerialization.jl:813\u001b[24m\u001b[39m\n [12] \u001b[0m\u001b[1mhandle_deserialize\u001b[22m\n\u001b[90m    @ \u001b[39m\u001b[90m~/.julia/juliaup/julia-1.8.0+0.x64/share/julia/stdlib/v1.8/Serialization/src/\u001b[39m\u001b[90m\u001b[4mSerialization.jl:870\u001b[24m\u001b[39m\n [13] \u001b[0m\u001b[1mdeserialize\u001b[22m\n\u001b[90m    @ \u001b[39m\u001b[90m~/.julia/juliaup/julia-1.8.0+0.x64/share/julia/stdlib/v1.8/Serialization/src/\u001b[39m\u001b[90m\u001b[4mSerialization.jl:813\u001b[24m\u001b[39m\n [14] \u001b[0m\u001b[1mhandle_deserialize\u001b[22m\n\u001b[90m    @ \u001b[39m\u001b[90m~/.julia/juliaup/julia-1.8.0+0.x64/share/julia/stdlib/v1.8/Serialization/src/\u001b[39m\u001b[90m\u001b[4mSerialization.jl:873\u001b[24m\u001b[39m\n [15] \u001b[0m\u001b[1mdeserialize\u001b[22m\n\u001b[90m    @ \u001b[39m\u001b[90m~/.julia/juliaup/julia-1.8.0+0.x64/share/julia/stdlib/v1.8/Serialization/src/\u001b[39m\u001b[90m\u001b[4mSerialization.jl:813\u001b[24m\u001b[39m\u001b[90m [inlined]\u001b[39m\n [16] \u001b[0m\u001b[1mdeserialize_msg\u001b[22m\n\u001b[90m    @ \u001b[39m\u001b[90m~/.julia/juliaup/julia-1.8.0+0.x64/share/julia/stdlib/v1.8/Distributed/src/\u001b[39m\u001b[90m\u001b[4mmessages.jl:87\u001b[24m\u001b[39m\n [17] \u001b[0m\u001b[1m#invokelatest#2\u001b[22m\n\u001b[90m    @ \u001b[39m\u001b[90m./\u001b[39m\u001b[90m\u001b[4messentials.jl:729\u001b[24m\u001b[39m\u001b[90m [inlined]\u001b[39m\n [18] \u001b[0m\u001b[1minvokelatest\u001b[22m\n\u001b[90m    @ \u001b[39m\u001b[90m./\u001b[39m\u001b[90m\u001b[4messentials.jl:726\u001b[24m\u001b[39m\u001b[90m [inlined]\u001b[39m\n [19] \u001b[0m\u001b[1mmessage_handler_loop\u001b[22m\n\u001b[90m    @ \u001b[39m\u001b[90m~/.julia/juliaup/julia-1.8.0+0.x64/share/julia/stdlib/v1.8/Distributed/src/\u001b[39m\u001b[90m\u001b[4mprocess_messages.jl:176\u001b[24m\u001b[39m\n [20] \u001b[0m\u001b[1mprocess_tcp_streams\u001b[22m\n\u001b[90m    @ \u001b[39m\u001b[90m~/.julia/juliaup/julia-1.8.0+0.x64/share/julia/stdlib/v1.8/Distributed/src/\u001b[39m\u001b[90m\u001b[4mprocess_messages.jl:133\u001b[24m\u001b[39m\n [21] \u001b[0m\u001b[1m#103\u001b[22m\n\u001b[90m    @ \u001b[39m\u001b[90m./\u001b[39m\u001b[90m\u001b[4mtask.jl:484\u001b[24m\u001b[39m",
      "",
      "Stacktrace:",
      " [1] remotecall_fetch(::Function, ::Distributed.Worker; kwargs::Base.Pairs{Symbol, Union{}, Tuple{}, NamedTuple{(), Tuple{}}})",
      "   @ Distributed ~/.julia/juliaup/julia-1.8.0+0.x64/share/julia/stdlib/v1.8/Distributed/src/remotecall.jl:465",
      " [2] remotecall_fetch(::Function, ::Distributed.Worker)",
      "   @ Distributed ~/.julia/juliaup/julia-1.8.0+0.x64/share/julia/stdlib/v1.8/Distributed/src/remotecall.jl:454",
      " [3] remotecall_fetch(::Function, ::Int64; kwargs::Base.Pairs{Symbol, Union{}, Tuple{}, NamedTuple{(), Tuple{}}})",
      "   @ Distributed ~/.julia/juliaup/julia-1.8.0+0.x64/share/julia/stdlib/v1.8/Distributed/src/remotecall.jl:492",
      " [4] remotecall_fetch(::Function, ::Int64)",
      "   @ Distributed ~/.julia/juliaup/julia-1.8.0+0.x64/share/julia/stdlib/v1.8/Distributed/src/remotecall.jl:492",
      " [5] top-level scope",
      "   @ In[44]:8",
      " [6] eval",
      "   @ ./boot.jl:368 [inlined]",
      " [7] include_string(mapexpr::typeof(REPL.softscope), mod::Module, code::String, filename::String)",
      "   @ Base ./loading.jl:1428"
     ]
    }
   ],
   "source": [
    "using Random\n",
    "\n",
    "function complicated_calculation()\n",
    "    sleep(1) # so complex that it takes a long time :)\n",
    "    randexp(5)\n",
    "end\n",
    "\n",
    "@fetch complicated_calculation()"
   ]
  },
  {
   "cell_type": "markdown",
   "metadata": {},
   "source": [
    "What happened?"
   ]
  },
  {
   "cell_type": "markdown",
   "metadata": {},
   "source": [
    "**Every worker is a separate Julia process.** (Think of having multiple Julia REPLs open at once.)\n",
    "\n",
    "We only defined `complicated_calculation()` on the master process. The function doesn't exist on any of the workers yet.\n",
    "\n",
    "The macro `@everywhere` allows us to perform steps on all processes (master and worker). This is particularly useful for loading packages and functions definitions etc."
   ]
  },
  {
   "cell_type": "code",
   "execution_count": 45,
   "metadata": {},
   "outputs": [],
   "source": [
    "@everywhere begin # execute this block on all workers\n",
    "    using Random\n",
    "    \n",
    "    function complicated_calculation()\n",
    "        sleep(1)\n",
    "        randexp(5) # lives in Random\n",
    "    end\n",
    "end"
   ]
  },
  {
   "cell_type": "code",
   "execution_count": 46,
   "metadata": {},
   "outputs": [
    {
     "data": {
      "text/plain": [
       "5-element Vector{Float64}:\n",
       " 0.6710237418692887\n",
       " 1.4397357198845113\n",
       " 0.7428484539865857\n",
       " 1.6067567517086865\n",
       " 0.5521923518284665"
      ]
     },
     "execution_count": 46,
     "metadata": {},
     "output_type": "execute_result"
    }
   ],
   "source": [
    "@fetch complicated_calculation()"
   ]
  },
  {
   "cell_type": "markdown",
   "metadata": {},
   "source": [
    "### Data movement"
   ]
  },
  {
   "cell_type": "markdown",
   "metadata": {},
   "source": [
    "There is a crucial difference between the following two pieces of code. Can you guess what it is? (without reading on 😉)"
   ]
  },
  {
   "cell_type": "code",
   "execution_count": 47,
   "metadata": {},
   "outputs": [
    {
     "data": {
      "text/plain": [
       "method1 (generic function with 1 method)"
      ]
     },
     "execution_count": 47,
     "metadata": {},
     "output_type": "execute_result"
    }
   ],
   "source": [
    "function method1()\n",
    "    A = rand(100,100)\n",
    "    B = rand(100,100)\n",
    "    C = @fetch A^2 * B^2\n",
    "end"
   ]
  },
  {
   "cell_type": "code",
   "execution_count": 48,
   "metadata": {},
   "outputs": [
    {
     "data": {
      "text/plain": [
       "method2 (generic function with 1 method)"
      ]
     },
     "execution_count": 48,
     "metadata": {},
     "output_type": "execute_result"
    }
   ],
   "source": [
    "function method2()\n",
    "    C = @fetch rand(100,100)^2 * rand(100,100)^2\n",
    "end"
   ]
  },
  {
   "cell_type": "markdown",
   "metadata": {},
   "source": [
    "Let's benchmark them."
   ]
  },
  {
   "cell_type": "code",
   "execution_count": 49,
   "metadata": {},
   "outputs": [
    {
     "name": "stdout",
     "output_type": "stream",
     "text": [
      "  909.329 μs (97 allocations: 237.96 KiB)\n",
      "  591.787 μs (75 allocations: 81.11 KiB)\n"
     ]
    }
   ],
   "source": [
    "using BenchmarkTools\n",
    "@btime method1();\n",
    "@btime method2();"
   ]
  },
  {
   "cell_type": "markdown",
   "metadata": {},
   "source": [
    "Method 1 is slower, because `A` and `B` are created on the master process, transferred to a worker, and squared and multiplied on the worker process before the result is finally transferred back to the master.\n",
    "\n",
    "Method 2, on the other hand, creates, squares, and multiplies the random matrix all on the work process and only submits the result to the master.\n",
    "\n",
    "Hence, `method1` is **transferring 3x as much data** between the master and the worker!"
   ]
  },
  {
   "cell_type": "markdown",
   "metadata": {},
   "source": [
    "**Efficient data movement is crucial for efficient parallel computing!**"
   ]
  },
  {
   "cell_type": "markdown",
   "metadata": {},
   "source": [
    "In this toy example, it's rather easy to identify the faster method.\n",
    "\n",
    "In a real program, however, understanding data movement does require more thought and likely some measurement.\n",
    "\n",
    "For example, if the first process needs matrix `A` in a follow-up computation then the first method might be better in this case. Or, if computing `A` is expensive and only the current process has it, then moving it to another process might be unavoidable."
   ]
  },
  {
   "cell_type": "markdown",
   "metadata": {},
   "source": [
    "#### Computer latency at a human scale\n",
    "\n",
    "To understand why thinking about data is important it's instructive to look at the time scales involved in data access.\n",
    "\n",
    "<img src=\"../imgs/latency_human_scales.png\" width=900px>\n",
    "\n",
    "(taken from https://www.prowesscorp.com/computer-latency-at-a-human-scale/)"
   ]
  },
  {
   "cell_type": "markdown",
   "metadata": {},
   "source": [
    "#### Avoid globals (once more)"
   ]
  },
  {
   "cell_type": "code",
   "execution_count": 50,
   "metadata": {},
   "outputs": [
    {
     "data": {
      "text/plain": [
       "4"
      ]
     },
     "execution_count": 50,
     "metadata": {},
     "output_type": "execute_result"
    }
   ],
   "source": [
    "myglobal = 4"
   ]
  },
  {
   "cell_type": "code",
   "execution_count": 51,
   "metadata": {},
   "outputs": [
    {
     "data": {
      "text/plain": [
       "whohas (generic function with 1 method)"
      ]
     },
     "execution_count": 51,
     "metadata": {},
     "output_type": "execute_result"
    }
   ],
   "source": [
    "function whohas(s::String)\n",
    "    @everywhere begin\n",
    "        var = Symbol($s)\n",
    "        if isdefined(Main, var)\n",
    "            println(\"$var exists.\")\n",
    "        else\n",
    "            println(\"Doesn't exist.\")\n",
    "        end\n",
    "    end\n",
    "    nothing\n",
    "end"
   ]
  },
  {
   "cell_type": "code",
   "execution_count": 52,
   "metadata": {},
   "outputs": [
    {
     "name": "stdout",
     "output_type": "stream",
     "text": [
      "myglobal exists.\n",
      "      From worker 7:\tDoesn't exist.\n",
      "      From worker 8:\tDoesn't exist.\n",
      "      From worker 6:\tDoesn't exist.\n",
      "      From worker 9:\tDoesn't exist.\n"
     ]
    }
   ],
   "source": [
    "whohas(\"myglobal\")"
   ]
  },
  {
   "cell_type": "code",
   "execution_count": 53,
   "metadata": {},
   "outputs": [
    {
     "data": {
      "text/plain": [
       "6"
      ]
     },
     "execution_count": 53,
     "metadata": {},
     "output_type": "execute_result"
    }
   ],
   "source": [
    "@fetchfrom 6 myglobal+2"
   ]
  },
  {
   "cell_type": "code",
   "execution_count": 54,
   "metadata": {},
   "outputs": [
    {
     "name": "stdout",
     "output_type": "stream",
     "text": [
      "myglobal exists.\n",
      "      From worker 6:\tmyglobal exists.\n",
      "      From worker 7:\tDoesn't exist.\n",
      "      From worker 9:\tDoesn't exist.\n",
      "      From worker 8:\tDoesn't exist.\n"
     ]
    }
   ],
   "source": [
    "whohas(\"myglobal\")"
   ]
  },
  {
   "cell_type": "markdown",
   "metadata": {},
   "source": [
    "Globals get copied to workers and continue to exist as globals even after the call.\n",
    "\n",
    "This could lead to **memory accumulation** if many globals are used (just as it would in a single Julia session).\n",
    "\n",
    "It's better to avoid them."
   ]
  },
  {
   "cell_type": "markdown",
   "metadata": {},
   "source": [
    "#### Explicit data movement: `Channel` and `RemoteChannel`"
   ]
  },
  {
   "cell_type": "markdown",
   "metadata": {},
   "source": [
    "Implement communication between tasks. Functions: `put!`, `take!`, `fetch`, `isready` and `wait`."
   ]
  },
  {
   "cell_type": "code",
   "execution_count": 55,
   "metadata": {},
   "outputs": [
    {
     "data": {
      "text/plain": [
       "Channel{Int64}(5) (empty)"
      ]
     },
     "execution_count": 55,
     "metadata": {},
     "output_type": "execute_result"
    }
   ],
   "source": [
    "ch = Channel{Int}(5) # a channel that can hold up to 5 integers"
   ]
  },
  {
   "cell_type": "code",
   "execution_count": 56,
   "metadata": {},
   "outputs": [
    {
     "data": {
      "text/plain": [
       "false"
      ]
     },
     "execution_count": 56,
     "metadata": {},
     "output_type": "execute_result"
    }
   ],
   "source": [
    "isready(ch) # something in the channel?"
   ]
  },
  {
   "cell_type": "code",
   "execution_count": 57,
   "metadata": {},
   "outputs": [
    {
     "data": {
      "text/plain": [
       "3"
      ]
     },
     "execution_count": 57,
     "metadata": {},
     "output_type": "execute_result"
    }
   ],
   "source": [
    "put!(ch, 3)"
   ]
  },
  {
   "cell_type": "code",
   "execution_count": 58,
   "metadata": {},
   "outputs": [
    {
     "data": {
      "text/plain": [
       "true"
      ]
     },
     "execution_count": 58,
     "metadata": {},
     "output_type": "execute_result"
    }
   ],
   "source": [
    "isready(ch)"
   ]
  },
  {
   "cell_type": "code",
   "execution_count": 59,
   "metadata": {},
   "outputs": [
    {
     "data": {
      "text/plain": [
       "3"
      ]
     },
     "execution_count": 59,
     "metadata": {},
     "output_type": "execute_result"
    }
   ],
   "source": [
    "fetch(ch)"
   ]
  },
  {
   "cell_type": "code",
   "execution_count": 60,
   "metadata": {},
   "outputs": [
    {
     "data": {
      "text/plain": [
       "3"
      ]
     },
     "execution_count": 60,
     "metadata": {},
     "output_type": "execute_result"
    }
   ],
   "source": [
    "take!(ch)"
   ]
  },
  {
   "cell_type": "code",
   "execution_count": 61,
   "metadata": {},
   "outputs": [
    {
     "data": {
      "text/plain": [
       "false"
      ]
     },
     "execution_count": 61,
     "metadata": {},
     "output_type": "execute_result"
    }
   ],
   "source": [
    "isready(ch)"
   ]
  },
  {
   "cell_type": "code",
   "execution_count": 62,
   "metadata": {},
   "outputs": [
    {
     "data": {
      "text/plain": [
       "4"
      ]
     },
     "execution_count": 62,
     "metadata": {},
     "output_type": "execute_result"
    }
   ],
   "source": [
    "put!(ch, 4)"
   ]
  },
  {
   "cell_type": "code",
   "execution_count": 63,
   "metadata": {},
   "outputs": [
    {
     "data": {
      "text/plain": [
       "4"
      ]
     },
     "execution_count": 63,
     "metadata": {},
     "output_type": "execute_result"
    }
   ],
   "source": [
    "fetch(ch)"
   ]
  },
  {
   "cell_type": "code",
   "execution_count": 64,
   "metadata": {},
   "outputs": [
    {
     "data": {
      "text/plain": [
       "4"
      ]
     },
     "execution_count": 64,
     "metadata": {},
     "output_type": "execute_result"
    }
   ],
   "source": [
    "take!(ch)"
   ]
  },
  {
   "cell_type": "markdown",
   "metadata": {},
   "source": [
    "**Be careful**, `take!` and `put!` are blocking if the channel is empty or full!"
   ]
  },
  {
   "cell_type": "code",
   "execution_count": 65,
   "metadata": {},
   "outputs": [
    {
     "data": {
      "text/plain": [
       "false"
      ]
     },
     "execution_count": 65,
     "metadata": {},
     "output_type": "execute_result"
    }
   ],
   "source": [
    "isready(ch)"
   ]
  },
  {
   "cell_type": "code",
   "execution_count": null,
   "metadata": {},
   "outputs": [],
   "source": [
    "# take!(ch) if we execute this, while isready(ch) == false, the current Julia session will hang."
   ]
  },
  {
   "cell_type": "markdown",
   "metadata": {},
   "source": [
    "##### `RemoteChannel`"
   ]
  },
  {
   "cell_type": "markdown",
   "metadata": {},
   "source": [
    "* A `Channel` is local to a process. Worker 2 cannot directly refer to a `Channel` on worker 3 and vice-versa.\n",
    "\n",
    "\n",
    "* A `RemoteChannel`, however, can put and take values across workers. A `RemoteChannel` can be thought of as a handle to a `Channel`.\n",
    "\n",
    "\n",
    "* Any process with a reference to a `RemoteChannel` can put and take items from the channel. Data is automatically sent to (or retrieved from) the process a `RemoteChannel` is associated with.\n",
    "\n",
    "\n",
    "* The process id, pid, associated with a `RemoteChannel` identifies the process where the backing store, i.e., the backing Channel exists."
   ]
  },
  {
   "cell_type": "code",
   "execution_count": 66,
   "metadata": {},
   "outputs": [
    {
     "data": {
      "text/plain": [
       "4"
      ]
     },
     "execution_count": 66,
     "metadata": {},
     "output_type": "execute_result"
    }
   ],
   "source": [
    "nworkers()"
   ]
  },
  {
   "cell_type": "code",
   "execution_count": 67,
   "metadata": {},
   "outputs": [
    {
     "data": {
      "text/plain": [
       "RemoteChannel{Channel{Int64}}(1, 1, 15894)"
      ]
     },
     "execution_count": 67,
     "metadata": {},
     "output_type": "execute_result"
    }
   ],
   "source": [
    "function do_something()\n",
    "    rc = RemoteChannel(()->Channel{Int}(10)) # lives on the master\n",
    "    @sync for p in workers()\n",
    "        @spawnat p put!(rc, myid())\n",
    "    end\n",
    "    rc\n",
    "end\n",
    "\n",
    "r = do_something()"
   ]
  },
  {
   "cell_type": "code",
   "execution_count": 68,
   "metadata": {},
   "outputs": [
    {
     "data": {
      "text/plain": [
       "true"
      ]
     },
     "execution_count": 68,
     "metadata": {},
     "output_type": "execute_result"
    }
   ],
   "source": [
    "isready(r)"
   ]
  },
  {
   "cell_type": "code",
   "execution_count": 69,
   "metadata": {},
   "outputs": [
    {
     "name": "stdout",
     "output_type": "stream",
     "text": [
      "take!(r) = 7\n",
      "take!(r) = 8\n",
      "take!(r) = 6\n",
      "take!(r) = 9\n"
     ]
    }
   ],
   "source": [
    "while isready(r)\n",
    "    @show take!(r)\n",
    "end"
   ]
  },
  {
   "cell_type": "markdown",
   "metadata": {},
   "source": [
    "The ecosystem also contains a couple of tools, that make data transfer even simpler. See for example [ParallelDataTransfer.jl](https://github.com/ChrisRackauckas/ParallelDataTransfer.jl/)."
   ]
  },
  {
   "cell_type": "markdown",
   "metadata": {},
   "source": [
    "## High-level tools: `@distributed` and `pmap`"
   ]
  },
  {
   "cell_type": "markdown",
   "metadata": {},
   "source": [
    "So far we have seen some of the fundamental building blocks for distributed computing in Julia. However, in practice, one wants to think as little as possible about how to distribute the work and explicitly spawn tasks.\n",
    "\n",
    "Fortunately, many useful parallel computations do not require (much) data movement at all. A common example is a direct Monte Carlo simulation, where multiple processes can handle independent simulation trials simultaneously. (We'll get to that later in the exercises!)\n",
    "\n",
    "Julia provides **high-level convenience** tools to\n",
    " * parallelize loops ([**`@distributed`**](https://docs.julialang.org/en/v1/stdlib/Distributed/#Distributed.@distributed)) and\n",
    " * apply a function to all elements of a collection ([**`pmap`**](https://docs.julialang.org/en/v1/stdlib/Distributed/#Distributed.pmap))\n"
   ]
  },
  {
   "cell_type": "markdown",
   "metadata": {},
   "source": [
    "#### Distributed loops (`@distributed`)"
   ]
  },
  {
   "cell_type": "code",
   "execution_count": 70,
   "metadata": {},
   "outputs": [
    {
     "data": {
      "text/plain": [
       "4"
      ]
     },
     "execution_count": 70,
     "metadata": {},
     "output_type": "execute_result"
    }
   ],
   "source": [
    "using Distributed, BenchmarkTools; rmprocs(workers()); addprocs(4); nworkers()"
   ]
  },
  {
   "cell_type": "markdown",
   "metadata": {},
   "source": [
    "#### Example: Reduction\n",
    "\n",
    "Task: Counting heads in a series of coin tosses."
   ]
  },
  {
   "cell_type": "code",
   "execution_count": 72,
   "metadata": {},
   "outputs": [
    {
     "data": {
      "text/plain": [
       "3×3 Matrix{Bool}:\n",
       " 0  0  0\n",
       " 0  0  0\n",
       " 0  1  1"
      ]
     },
     "execution_count": 72,
     "metadata": {},
     "output_type": "execute_result"
    }
   ],
   "source": [
    "rand(Bool, 3,3)"
   ]
  },
  {
   "cell_type": "code",
   "execution_count": 73,
   "metadata": {},
   "outputs": [
    {
     "name": "stdout",
     "output_type": "stream",
     "text": [
      "  322.239 ms (0 allocations: 0 bytes)\n"
     ]
    }
   ],
   "source": [
    "function count_heads_loop(n)\n",
    "    c = 0\n",
    "    for i = 1:n\n",
    "        c += rand(Bool)\n",
    "    end\n",
    "    return c\n",
    "end\n",
    "\n",
    "N = 200_000_000\n",
    "@btime count_heads_loop($N);"
   ]
  },
  {
   "cell_type": "markdown",
   "metadata": {},
   "source": [
    "Note that these kinds of computations are called **reductions** (with `+` being the **reducer function**)."
   ]
  },
  {
   "cell_type": "code",
   "execution_count": null,
   "metadata": {},
   "outputs": [],
   "source": [
    "reduce(+, map(..., 1:n))"
   ]
  },
  {
   "cell_type": "code",
   "execution_count": 74,
   "metadata": {},
   "outputs": [
    {
     "name": "stdout",
     "output_type": "stream",
     "text": [
      "  327.932 ms (0 allocations: 0 bytes)\n"
     ]
    },
    {
     "data": {
      "text/plain": [
       "99995068"
      ]
     },
     "execution_count": 74,
     "metadata": {},
     "output_type": "execute_result"
    }
   ],
   "source": [
    "count_heads_reduce(n) = mapreduce(i -> rand(Bool), +, 1:n)\n",
    "@btime count_heads_reduce($N)"
   ]
  },
  {
   "cell_type": "code",
   "execution_count": 79,
   "metadata": {},
   "outputs": [
    {
     "data": {
      "text/plain": [
       "count_heads_distributed_loop (generic function with 1 method)"
      ]
     },
     "execution_count": 79,
     "metadata": {},
     "output_type": "execute_result"
    }
   ],
   "source": [
    "function count_heads_distributed_loop(n)\n",
    "    c = @distributed (+) for i in 1:n\n",
    "        Int(rand(Bool))\n",
    "    end\n",
    "    return c\n",
    "end"
   ]
  },
  {
   "cell_type": "code",
   "execution_count": 80,
   "metadata": {},
   "outputs": [
    {
     "name": "stdout",
     "output_type": "stream",
     "text": [
      "  81.166 ms (302 allocations: 12.55 KiB)\n"
     ]
    }
   ],
   "source": [
    "@btime count_heads_distributed_loop($N);"
   ]
  },
  {
   "cell_type": "markdown",
   "metadata": {},
   "source": [
    "The distributed version is about **4x faster**, which is all we could hope for."
   ]
  },
  {
   "cell_type": "markdown",
   "metadata": {},
   "source": [
    "With `@distributed` the work is **evenly distributed** between the workers."
   ]
  },
  {
   "cell_type": "code",
   "execution_count": 81,
   "metadata": {},
   "outputs": [
    {
     "name": "stdout",
     "output_type": "stream",
     "text": [
      "      From worker 12:\t0\n",
      "      From worker 10:\t1\n",
      "      From worker 12:\t0\n",
      "      From worker 10:\t1\n",
      "      From worker 11:\t0\n",
      "      From worker 11:\t1\n",
      "      From worker 13:\t0\n",
      "      From worker 13:\t1\n"
     ]
    }
   ],
   "source": [
    "function count_heads_distributed_verbose(n)\n",
    "    c = @distributed (+) for i in 1:n\n",
    "        x = Int(rand(Bool))\n",
    "        println(x);\n",
    "        x\n",
    "    end\n",
    "    c\n",
    "end\n",
    "\n",
    "count_heads_distributed_verbose(8);"
   ]
  },
  {
   "cell_type": "markdown",
   "metadata": {},
   "source": [
    "However, by using `@distributed` we let Julia decide how to split up the work and can't control it ourselves."
   ]
  },
  {
   "cell_type": "markdown",
   "metadata": {},
   "source": [
    "#### A common mistake"
   ]
  },
  {
   "cell_type": "code",
   "execution_count": 94,
   "metadata": {},
   "outputs": [
    {
     "name": "stdout",
     "output_type": "stream",
     "text": [
      "      From worker 13:\t1\n",
      "      From worker 13:\t2\n",
      "      From worker 12:\t1\n",
      "      From worker 10:\t1\n",
      "      From worker 11:\t1\n",
      "      From worker 12:\t2\n",
      "      From worker 10:\t2\n",
      "      From worker 11:\t2\n",
      "      From worker 11:\t3\n",
      "      From worker 10:\t3\n"
     ]
    }
   ],
   "source": [
    "function g(n)\n",
    "    a = 0\n",
    "    @distributed (+) for i in 1:n\n",
    "        a += 1;\n",
    "        println(a)\n",
    "        a\n",
    "    end\n",
    "\n",
    "end\n",
    "\n",
    "a = g(10);"
   ]
  },
  {
   "cell_type": "markdown",
   "metadata": {},
   "source": [
    "What do you expect the value of `a` to be?"
   ]
  },
  {
   "cell_type": "code",
   "execution_count": 95,
   "metadata": {},
   "outputs": [
    {
     "data": {
      "text/plain": [
       "18"
      ]
     },
     "execution_count": 95,
     "metadata": {},
     "output_type": "execute_result"
    }
   ],
   "source": [
    "a"
   ]
  },
  {
   "cell_type": "markdown",
   "metadata": {},
   "source": [
    "#### Example: `SharedArray`s"
   ]
  },
  {
   "cell_type": "markdown",
   "metadata": {},
   "source": [
    "Apart from `@distributed (reducer) ...` there also is a `@distributed for ...` form. The latter is **non-blocking** and returns a `Task`. (You can think of it as a distributed version of `@spawn` for all the iterations.)\n",
    "\n",
    "However, since the loop body will be executed on different processes, one must be careful to operate on data structures that are available on all processes (similar to the mistake highlighted above)."
   ]
  },
  {
   "cell_type": "code",
   "execution_count": 97,
   "metadata": {},
   "outputs": [
    {
     "data": {
      "text/plain": [
       "square_broken (generic function with 1 method)"
      ]
     },
     "execution_count": 97,
     "metadata": {},
     "output_type": "execute_result"
    }
   ],
   "source": [
    "function square_broken()\n",
    "    A = collect(1:10)\n",
    "    @sync @distributed for i in eachindex(A)\n",
    "        A[i] = A[i]^2\n",
    "    end\n",
    "    return A\n",
    "end"
   ]
  },
  {
   "cell_type": "code",
   "execution_count": 98,
   "metadata": {},
   "outputs": [
    {
     "data": {
      "text/plain": [
       "10-element Vector{Int64}:\n",
       "  1\n",
       "  2\n",
       "  3\n",
       "  4\n",
       "  5\n",
       "  6\n",
       "  7\n",
       "  8\n",
       "  9\n",
       " 10"
      ]
     },
     "execution_count": 98,
     "metadata": {},
     "output_type": "execute_result"
    }
   ],
   "source": [
    "square_broken()"
   ]
  },
  {
   "cell_type": "markdown",
   "metadata": {},
   "source": [
    "To actually make all processes operate on the same array, one can use a `SharedArray`. For this to work, the **processes need to live on the same host**."
   ]
  },
  {
   "cell_type": "code",
   "execution_count": 99,
   "metadata": {},
   "outputs": [],
   "source": [
    "@everywhere using SharedArrays # must be loaded everywhere"
   ]
  },
  {
   "cell_type": "code",
   "execution_count": 100,
   "metadata": {},
   "outputs": [
    {
     "data": {
      "text/plain": [
       "3×2 Matrix{Float64}:\n",
       " 0.969195  0.935103\n",
       " 0.292818  0.0302614\n",
       " 0.508691  0.0683493"
      ]
     },
     "execution_count": 100,
     "metadata": {},
     "output_type": "execute_result"
    }
   ],
   "source": [
    "A = rand(3,2)"
   ]
  },
  {
   "cell_type": "code",
   "execution_count": 101,
   "metadata": {},
   "outputs": [
    {
     "data": {
      "text/plain": [
       "3×2 SharedMatrix{Float64}:\n",
       " 0.969195  0.935103\n",
       " 0.292818  0.0302614\n",
       " 0.508691  0.0683493"
      ]
     },
     "execution_count": 101,
     "metadata": {},
     "output_type": "execute_result"
    }
   ],
   "source": [
    "S = SharedArray(A)"
   ]
  },
  {
   "cell_type": "code",
   "execution_count": 102,
   "metadata": {},
   "outputs": [
    {
     "name": "stdout",
     "output_type": "stream",
     "text": [
      "  215.424 ms (508 allocations: 15.31 KiB)\n",
      "  57.534 ms (574 allocations: 26.09 KiB)\n"
     ]
    }
   ],
   "source": [
    "function square!(X)\n",
    "    for i in eachindex(X)\n",
    "        sleep(0.001) # mimicing some computational cost\n",
    "        X[i] = X[i]^2\n",
    "    end\n",
    "end\n",
    "\n",
    "function square_distributed!(X)\n",
    "    @sync @distributed for i in eachindex(X)\n",
    "        sleep(0.001) # mimicing some computational cost\n",
    "        X[i] = X[i]^2\n",
    "    end\n",
    "end\n",
    "\n",
    "A = rand(10,10)\n",
    "S = SharedArray(A)\n",
    "\n",
    "@btime square!(A);\n",
    "@btime square_distributed!($S);"
   ]
  },
  {
   "cell_type": "markdown",
   "metadata": {},
   "source": [
    "### Parallel map: `pmap`"
   ]
  },
  {
   "cell_type": "markdown",
   "metadata": {},
   "source": [
    "The `square!` functions above are typical `map` operations where a function `f` is applied to all elements of a collection."
   ]
  },
  {
   "cell_type": "code",
   "execution_count": 103,
   "metadata": {},
   "outputs": [
    {
     "data": {
      "text/plain": [
       "10-element Vector{Int64}:\n",
       "   1\n",
       "   4\n",
       "   9\n",
       "  16\n",
       "  25\n",
       "  36\n",
       "  49\n",
       "  64\n",
       "  81\n",
       " 100"
      ]
     },
     "execution_count": 103,
     "metadata": {},
     "output_type": "execute_result"
    }
   ],
   "source": [
    "map(x->x^2, 1:10)"
   ]
  },
  {
   "cell_type": "markdown",
   "metadata": {},
   "source": [
    "Such a pattern can be parallelized in Julia via the high-level function `pmap` (\"parallel map\")."
   ]
  },
  {
   "cell_type": "markdown",
   "metadata": {},
   "source": [
    "#### Example: Singular values of multiple matrices"
   ]
  },
  {
   "cell_type": "code",
   "execution_count": 104,
   "metadata": {},
   "outputs": [
    {
     "data": {
      "text/plain": [
       "4"
      ]
     },
     "execution_count": 104,
     "metadata": {},
     "output_type": "execute_result"
    }
   ],
   "source": [
    "using Distributed, BenchmarkTools; rmprocs(workers()); addprocs(4); nworkers()"
   ]
  },
  {
   "cell_type": "code",
   "execution_count": 105,
   "metadata": {},
   "outputs": [],
   "source": [
    "@everywhere using LinearAlgebra\n",
    "\n",
    "M = Matrix{Float64}[rand(200,200) for i = 1:10];"
   ]
  },
  {
   "cell_type": "code",
   "execution_count": 106,
   "metadata": {},
   "outputs": [
    {
     "data": {
      "text/plain": [
       "2-element Vector{Float64}:\n",
       " 1.0416253690166695\n",
       " 0.38207294202501374"
      ]
     },
     "execution_count": 106,
     "metadata": {},
     "output_type": "execute_result"
    }
   ],
   "source": [
    "svdvals(rand(2,2))"
   ]
  },
  {
   "cell_type": "code",
   "execution_count": 107,
   "metadata": {},
   "outputs": [
    {
     "data": {
      "text/plain": [
       "10-element Vector{Vector{Float64}}:\n",
       " [100.22216010162019, 7.902964826634815, 7.863366839274766, 7.764180940316365, 7.728568696034237, 7.619445432235017, 7.509260755518567, 7.389142363513787, 7.302011040948945, 7.23728664449622  …  0.29583855129634457, 0.27915861522366114, 0.2760055951919928, 0.18987877772113662, 0.1503453058570444, 0.14509688045515612, 0.11594109178982377, 0.10656738289268992, 0.057043219949094115, 0.027303958851537333]\n",
       " [99.72317568478442, 8.04951866464346, 7.966285787199083, 7.745545037655448, 7.604392166260176, 7.598192208719936, 7.524463556383573, 7.446852110118335, 7.400323509879351, 7.207331727567699  …  0.30443464637937667, 0.28743798945022264, 0.21815690833040588, 0.18584889928307266, 0.1448917143135192, 0.12751916317962095, 0.09768315274287644, 0.059353917491157565, 0.03349897112088835, 0.019994795451369916]\n",
       " [100.29116038265839, 7.917122163685977, 7.905278390410856, 7.765393448186639, 7.674170521465391, 7.666093988178944, 7.502556019677619, 7.4325419199829, 7.309690653291943, 7.264184623801171  …  0.31237617702632403, 0.2705366389348803, 0.22047476391421275, 0.21698375104349432, 0.16699212014619455, 0.13252076823689765, 0.10607029552441959, 0.054821930218712636, 0.028429419712111964, 0.012188086204104984]\n",
       " [100.18253739907519, 8.103065418975302, 8.04887869133669, 7.984805185922105, 7.711475923066901, 7.549601479465469, 7.497508756563292, 7.377767169525866, 7.309231097142617, 7.274286933983338  …  0.2901093659947887, 0.2726530574509961, 0.2505392648451845, 0.19787144404530188, 0.16710847963015002, 0.15060066428067526, 0.08725436814172347, 0.06681183016623092, 0.022000961066943752, 0.020043608121275914]\n",
       " [100.2759148656763, 7.906567632529626, 7.8380074978754415, 7.760591101076395, 7.660766029720834, 7.5295611967431455, 7.456014384000478, 7.379211050415497, 7.295487854555353, 7.223490980322626  …  0.28891604959226097, 0.26843872353550846, 0.2160436434250684, 0.16774352575298157, 0.16034799092347002, 0.12907100495015417, 0.11058080754591763, 0.06355550952045932, 0.0429038091165219, 0.01462129315769032]\n",
       " [100.37437675290373, 8.223348662531782, 7.8936018472478535, 7.672950371329152, 7.5814001169432075, 7.4868162070004285, 7.450171409036345, 7.395411793864129, 7.319074111332534, 7.258841343752158  …  0.3357568413660555, 0.30384154819269804, 0.2361157652884173, 0.18955204163402, 0.17326147516505452, 0.1428522353260722, 0.09736655757658702, 0.055241783023800804, 0.03664469712311965, 0.016149905117148724]\n",
       " [100.05024062635029, 7.977685886144242, 7.9317517827642074, 7.800481634019296, 7.750090430497628, 7.685750663991469, 7.5920864957597844, 7.508986184771983, 7.429078747220747, 7.325512486957235  …  0.3422386395707536, 0.31128029609636854, 0.25464715760588885, 0.23536331099234734, 0.20706254534200116, 0.14601131681427412, 0.13374750076609493, 0.07123114743431479, 0.04919862342717468, 0.016089185133530432]\n",
       " [100.03824786489005, 8.044593530506559, 7.82555337463691, 7.712290666536549, 7.592254421927683, 7.54090756566861, 7.461739760099741, 7.301783078989819, 7.270465593359985, 7.199923073993721  …  0.2982938377963289, 0.2739420095294059, 0.24787941403524183, 0.2201456241654081, 0.19147034058802864, 0.15602884987676036, 0.14483168172134253, 0.06451601959568216, 0.03914854517632792, 0.01027185686548043]\n",
       " [100.42565361651769, 8.063070632499489, 7.874295211194942, 7.76157041498176, 7.691895314927634, 7.610946027340226, 7.576124460712777, 7.515214949676247, 7.292573096705877, 7.223822511371928  …  0.31244086273583443, 0.2837493744843274, 0.23476374197469838, 0.20972738471988625, 0.15910365776772825, 0.138809716017955, 0.12422987164657925, 0.10856918058083086, 0.039442030030246565, 0.025317675553057764]\n",
       " [100.2400519277744, 7.974522396647601, 7.874908864465144, 7.7331877690021305, 7.567949466007279, 7.527879783157684, 7.492775154823637, 7.419577539274678, 7.3828567659852755, 7.201767178633219  …  0.2751017892019842, 0.26394686784600185, 0.22383510031117534, 0.19589703518815796, 0.1818992733129808, 0.13591728369463002, 0.11783918915340941, 0.07106187789324636, 0.03856550863467597, 0.019263400323170907]"
      ]
     },
     "execution_count": 107,
     "metadata": {},
     "output_type": "execute_result"
    }
   ],
   "source": [
    "map(svdvals, M)"
   ]
  },
  {
   "cell_type": "code",
   "execution_count": 108,
   "metadata": {},
   "outputs": [
    {
     "data": {
      "text/plain": [
       "10-element Vector{Vector{Float64}}:\n",
       " [100.22216010162019, 7.9029648266348085, 7.863366839274777, 7.7641809403163755, 7.728568696034231, 7.619445432235024, 7.509260755518561, 7.389142363513796, 7.302011040948944, 7.237286644496214  …  0.29583855129634423, 0.27915861522366187, 0.27600559519199364, 0.18987877772113748, 0.15034530585704392, 0.14509688045515634, 0.11594109178982402, 0.10656738289269002, 0.057043219949094434, 0.027303958851537583]\n",
       " [99.72317568478442, 8.049518664643456, 7.966285787199081, 7.745545037655454, 7.6043921662601806, 7.5981922087199525, 7.524463556383573, 7.446852110118339, 7.400323509879348, 7.2073317275676985  …  0.3044346463793764, 0.2874379894502229, 0.21815690833040582, 0.18584889928307255, 0.1448917143135191, 0.12751916317962078, 0.09768315274287591, 0.05935391749115699, 0.03349897112088893, 0.019994795451369517]\n",
       " [100.29116038265839, 7.917122163685977, 7.905278390410855, 7.765393448186638, 7.674170521465394, 7.666093988178941, 7.502556019677615, 7.4325419199828895, 7.309690653291949, 7.264184623801177  …  0.3123761770263235, 0.2705366389348797, 0.22047476391421225, 0.21698375104349493, 0.1669921201461947, 0.1325207682368973, 0.1060702955244197, 0.054821930218713184, 0.028429419712111617, 0.012188086204104961]\n",
       " [100.18253739907519, 8.103065418975296, 8.048878691336682, 7.984805185922108, 7.7114759230668914, 7.549601479465456, 7.497508756563292, 7.3777671695258675, 7.30923109714262, 7.274286933983318  …  0.2901093659947892, 0.27265305745099566, 0.25053926484518463, 0.19787144404530227, 0.16710847963014994, 0.15060066428067556, 0.0872543681417236, 0.066811830166231, 0.022000961066942704, 0.0200436081212749]\n",
       " [100.2759148656763, 7.906567632529624, 7.838007497875448, 7.760591101076394, 7.660766029720833, 7.529561196743144, 7.456014384000495, 7.379211050415497, 7.295487854555345, 7.22349098032262  …  0.28891604959226147, 0.26843872353550924, 0.21604364342506815, 0.1677435257529812, 0.16034799092346882, 0.12907100495015442, 0.11058080754591694, 0.06355550952046012, 0.04290380911652193, 0.014621293157690844]\n",
       " [100.37437675290373, 8.223348662531784, 7.893601847247847, 7.672950371329158, 7.581400116943204, 7.486816207000436, 7.450171409036344, 7.395411793864122, 7.319074111332523, 7.258841343752152  …  0.3357568413660559, 0.30384154819269793, 0.2361157652884174, 0.1895520416340198, 0.1732614751650548, 0.14285223532607247, 0.09736655757658746, 0.05524178302380041, 0.03664469712311994, 0.016149905117149498]\n",
       " [100.05024062635029, 7.977685886144248, 7.9317517827642074, 7.800481634019299, 7.750090430497631, 7.685750663991469, 7.592086495759784, 7.5089861847719765, 7.42907874722075, 7.325512486957238  …  0.3422386395707539, 0.3112802960963688, 0.25464715760588885, 0.23536331099234767, 0.20706254534200053, 0.146011316814275, 0.13374750076609515, 0.07123114743431459, 0.04919862342717396, 0.01608918513353039]\n",
       " [100.03824786489005, 8.044593530506562, 7.825553374636914, 7.712290666536543, 7.592254421927694, 7.540907565668606, 7.461739760099743, 7.3017830789898275, 7.270465593359989, 7.19992307399373  …  0.29829383779632923, 0.2739420095294068, 0.24787941403524014, 0.2201456241654072, 0.19147034058802834, 0.15602884987676063, 0.14483168172134206, 0.06451601959568255, 0.03914854517632746, 0.010271856865479876]\n",
       " [100.42565361651769, 8.063070632499485, 7.874295211194946, 7.761570414981755, 7.691895314927631, 7.610946027340217, 7.576124460712776, 7.515214949676242, 7.29257309670588, 7.223822511371926  …  0.3124408627358358, 0.2837493744843271, 0.23476374197469907, 0.20972738471988597, 0.15910365776772853, 0.13880971601795536, 0.12422987164657846, 0.10856918058083088, 0.0394420300302464, 0.025317675553057795]\n",
       " [100.2400519277744, 7.974522396647601, 7.874908864465137, 7.733187769002137, 7.56794946600728, 7.527879783157684, 7.492775154823628, 7.419577539274678, 7.382856765985278, 7.201767178633223  …  0.2751017892019837, 0.2639468678460016, 0.22383510031117604, 0.1958970351881573, 0.18189927331298023, 0.13591728369462963, 0.11783918915340942, 0.07106187789324686, 0.03856550863467562, 0.0192634003231704]"
      ]
     },
     "execution_count": 108,
     "metadata": {},
     "output_type": "execute_result"
    }
   ],
   "source": [
    "pmap(svdvals, M)"
   ]
  },
  {
   "cell_type": "markdown",
   "metadata": {},
   "source": [
    "Let's check that this indeed utilized multiple workers."
   ]
  },
  {
   "cell_type": "code",
   "execution_count": 110,
   "metadata": {},
   "outputs": [
    {
     "name": "stdout",
     "output_type": "stream",
     "text": [
      "      From worker 17:\t17\n",
      "      From worker 14:\t14\n",
      "      From worker 15:\t15\n",
      "      From worker 16:\t16\n",
      "      From worker 17:\t17\n",
      "      From worker 14:\t14\n",
      "      From worker 15:\t15\n",
      "      From worker 16:\t16\n",
      "      From worker 17:\t17\n",
      "      From worker 14:\t14\n"
     ]
    }
   ],
   "source": [
    "pmap(M) do m\n",
    "    println(myid());\n",
    "    svdvals(m)\n",
    "end;"
   ]
  },
  {
   "cell_type": "code",
   "execution_count": 109,
   "metadata": {},
   "outputs": [
    {
     "name": "stdout",
     "output_type": "stream",
     "text": [
      "      From worker 15:\t15\n",
      "      From worker 16:\t16\n",
      "      From worker 17:\t17\n",
      "      From worker 14:\t14\n",
      "      From worker 15:\t15\n",
      "      From worker 16:\t16\n",
      "      From worker 14:\t14\n",
      "      From worker 17:\t17\n",
      "      From worker 15:\t15\n",
      "      From worker 16:\t16\n"
     ]
    },
    {
     "data": {
      "text/plain": [
       "10-element Vector{Vector{Float64}}:\n",
       " [100.22216010162019, 7.9029648266348085, 7.863366839274777, 7.7641809403163755, 7.728568696034231, 7.619445432235024, 7.509260755518561, 7.389142363513796, 7.302011040948944, 7.237286644496214  …  0.29583855129634423, 0.27915861522366187, 0.27600559519199364, 0.18987877772113748, 0.15034530585704392, 0.14509688045515634, 0.11594109178982402, 0.10656738289269002, 0.057043219949094434, 0.027303958851537583]\n",
       " [99.72317568478442, 8.049518664643456, 7.966285787199081, 7.745545037655454, 7.6043921662601806, 7.5981922087199525, 7.524463556383573, 7.446852110118339, 7.400323509879348, 7.2073317275676985  …  0.3044346463793764, 0.2874379894502229, 0.21815690833040582, 0.18584889928307255, 0.1448917143135191, 0.12751916317962078, 0.09768315274287591, 0.05935391749115699, 0.03349897112088893, 0.019994795451369517]\n",
       " [100.29116038265839, 7.917122163685977, 7.905278390410855, 7.765393448186638, 7.674170521465394, 7.666093988178941, 7.502556019677615, 7.4325419199828895, 7.309690653291949, 7.264184623801177  …  0.3123761770263235, 0.2705366389348797, 0.22047476391421225, 0.21698375104349493, 0.1669921201461947, 0.1325207682368973, 0.1060702955244197, 0.054821930218713184, 0.028429419712111617, 0.012188086204104961]\n",
       " [100.18253739907519, 8.103065418975296, 8.048878691336682, 7.984805185922108, 7.7114759230668914, 7.549601479465456, 7.497508756563292, 7.3777671695258675, 7.30923109714262, 7.274286933983318  …  0.2901093659947892, 0.27265305745099566, 0.25053926484518463, 0.19787144404530227, 0.16710847963014994, 0.15060066428067556, 0.0872543681417236, 0.066811830166231, 0.022000961066942704, 0.0200436081212749]\n",
       " [100.2759148656763, 7.906567632529624, 7.838007497875448, 7.760591101076394, 7.660766029720833, 7.529561196743144, 7.456014384000495, 7.379211050415497, 7.295487854555345, 7.22349098032262  …  0.28891604959226147, 0.26843872353550924, 0.21604364342506815, 0.1677435257529812, 0.16034799092346882, 0.12907100495015442, 0.11058080754591694, 0.06355550952046012, 0.04290380911652193, 0.014621293157690844]\n",
       " [100.37437675290373, 8.223348662531784, 7.893601847247847, 7.672950371329158, 7.581400116943204, 7.486816207000436, 7.450171409036344, 7.395411793864122, 7.319074111332523, 7.258841343752152  …  0.3357568413660559, 0.30384154819269793, 0.2361157652884174, 0.1895520416340198, 0.1732614751650548, 0.14285223532607247, 0.09736655757658746, 0.05524178302380041, 0.03664469712311994, 0.016149905117149498]\n",
       " [100.05024062635029, 7.977685886144248, 7.9317517827642074, 7.800481634019299, 7.750090430497631, 7.685750663991469, 7.592086495759784, 7.5089861847719765, 7.42907874722075, 7.325512486957238  …  0.3422386395707539, 0.3112802960963688, 0.25464715760588885, 0.23536331099234767, 0.20706254534200053, 0.146011316814275, 0.13374750076609515, 0.07123114743431459, 0.04919862342717396, 0.01608918513353039]\n",
       " [100.03824786489005, 8.044593530506562, 7.825553374636914, 7.712290666536543, 7.592254421927694, 7.540907565668606, 7.461739760099743, 7.3017830789898275, 7.270465593359989, 7.19992307399373  …  0.29829383779632923, 0.2739420095294068, 0.24787941403524014, 0.2201456241654072, 0.19147034058802834, 0.15602884987676063, 0.14483168172134206, 0.06451601959568255, 0.03914854517632746, 0.010271856865479876]\n",
       " [100.42565361651769, 8.063070632499485, 7.874295211194946, 7.761570414981755, 7.691895314927631, 7.610946027340217, 7.576124460712776, 7.515214949676242, 7.29257309670588, 7.223822511371926  …  0.3124408627358358, 0.2837493744843271, 0.23476374197469907, 0.20972738471988597, 0.15910365776772853, 0.13880971601795536, 0.12422987164657846, 0.10856918058083088, 0.0394420300302464, 0.025317675553057795]\n",
       " [100.2400519277744, 7.974522396647601, 7.874908864465137, 7.733187769002137, 7.56794946600728, 7.527879783157684, 7.492775154823628, 7.419577539274678, 7.382856765985278, 7.201767178633223  …  0.2751017892019837, 0.2639468678460016, 0.22383510031117604, 0.1958970351881573, 0.18189927331298023, 0.13591728369462963, 0.11783918915340942, 0.07106187789324686, 0.03856550863467562, 0.0192634003231704]"
      ]
     },
     "execution_count": 109,
     "metadata": {},
     "output_type": "execute_result"
    }
   ],
   "source": [
    "pmap(m->begin println(myid()); svdvals(m) end, M)"
   ]
  },
  {
   "cell_type": "code",
   "execution_count": 111,
   "metadata": {},
   "outputs": [
    {
     "name": "stdout",
     "output_type": "stream",
     "text": [
      "  50.904 ms (81 allocations: 4.22 MiB)\n",
      "  15.402 ms (518 allocations: 37.42 KiB)\n"
     ]
    }
   ],
   "source": [
    "@btime map($svdvals, $M);\n",
    "@btime pmap($svdvals, $M);"
   ]
  },
  {
   "cell_type": "code",
   "execution_count": null,
   "metadata": {},
   "outputs": [],
   "source": [
    "map(i->iteration(i), 1:n)"
   ]
  },
  {
   "cell_type": "markdown",
   "metadata": {},
   "source": [
    "### When to choose which? (`@distributed` vs `pmap`)"
   ]
  },
  {
   "cell_type": "markdown",
   "metadata": {},
   "source": [
    "Julia's `pmap` is designed for the case where\n",
    "\n",
    "* one wants to apply **a function to a collection**,\n",
    "* each function call does a **larger amount of work**, and/or\n",
    "* the **workload is non-uniform** (load-balancing).\n",
    "\n",
    "On the other hand, `@distributed` is good for\n",
    "\n",
    "* **reductions**, like sums, where\n",
    "* **each iteration may be tiny**, i.e. perhaps only summing two numbers, and/or\n",
    "* each iteration **takes about the same time** (uniform)"
   ]
  },
  {
   "cell_type": "markdown",
   "metadata": {},
   "source": [
    "## High-level array abstractions: [DistributedArrays.jl](https://github.com/JuliaParallel/DistributedArrays.jl)\n",
    "\n",
    "In a `DArray`, each process has local access to just a chunk of the data, and no two processes share the same chunk. Processes can be on different hosts.\n",
    "\n",
    "Distributed arrays are for example useful if\n",
    "\n",
    "* Expensive calculations should be performed in parallel on parts of the array on different hosts.\n",
    "* The data doesn't fit into the local machines memory (i.e. loading big files in parallel)."
   ]
  },
  {
   "cell_type": "code",
   "execution_count": 113,
   "metadata": {},
   "outputs": [
    {
     "name": "stderr",
     "output_type": "stream",
     "text": [
      "┌ Warning: rmprocs: process 1 not removed\n",
      "└ @ Distributed /Users/julia/.julia/scratchspaces/a66863c6-20e8-4ff4-8a62-49f30b1f605e/agent-cache/default-macmini-x64-6.0/build/default-macmini-x64-6-0/julialang/julia-release-1-dot-8/usr/share/julia/stdlib/v1.8/Distributed/src/cluster.jl:1048\n"
     ]
    }
   ],
   "source": [
    "using Distributed, BenchmarkTools; rmprocs(workers());"
   ]
  },
  {
   "cell_type": "code",
   "execution_count": 114,
   "metadata": {},
   "outputs": [
    {
     "data": {
      "text/plain": [
       "4-element Vector{Int64}:\n",
       " 18\n",
       " 19\n",
       " 20\n",
       " 21"
      ]
     },
     "execution_count": 114,
     "metadata": {},
     "output_type": "execute_result"
    }
   ],
   "source": [
    "# make sure that all workers use the same Julia environment\n",
    "addprocs(4; exeflags=\"--project\")"
   ]
  },
  {
   "cell_type": "code",
   "execution_count": 115,
   "metadata": {},
   "outputs": [
    {
     "name": "stdout",
     "output_type": "stream",
     "text": [
      "Base.active_project() = \"/Users/crstnbr/repos/JuliaWorkshops/JuliaHLRS22/Project.toml\"\n",
      "      From worker 18:\tBase.active_project() = \"/Users/crstnbr/repos/JuliaWorkshops/JuliaHLRS22/Project.toml\"\n",
      "      From worker 21:\tBase.active_project() = \"/Users/crstnbr/repos/JuliaWorkshops/JuliaHLRS22/Project.toml\"\n",
      "      From worker 20:\tBase.active_project() = \"/Users/crstnbr/repos/JuliaWorkshops/JuliaHLRS22/Project.toml\"\n",
      "      From worker 19:\tBase.active_project() = \"/Users/crstnbr/repos/JuliaWorkshops/JuliaHLRS22/Project.toml\"\n"
     ]
    }
   ],
   "source": [
    "# check\n",
    "@everywhere @show Base.active_project()"
   ]
  },
  {
   "cell_type": "code",
   "execution_count": 116,
   "metadata": {},
   "outputs": [],
   "source": [
    "@everywhere using DistributedArrays, LinearAlgebra"
   ]
  },
  {
   "cell_type": "code",
   "execution_count": 117,
   "metadata": {},
   "outputs": [],
   "source": [
    "M = Matrix{Float64}[rand(200,200) for i = 1:10];"
   ]
  },
  {
   "cell_type": "code",
   "execution_count": 118,
   "metadata": {},
   "outputs": [
    {
     "data": {
      "text/plain": [
       "10-element DArray{Matrix{Float64}, 1, Vector{Matrix{Float64}}}:\n",
       " [0.9958450726667368 0.8146647116946115 … 0.8781761651635122 0.8136397144747828; 0.22430577802469576 0.22019411874526984 … 0.6093920446154011 0.7275124529536269; … ; 0.6208343837625583 0.32306908986431093 … 0.6184536708211557 0.586311855579728; 0.1984646471994016 0.501563698963817 … 0.4445045448442775 0.8886762618530463]\n",
       " [0.11521656213503484 0.42507800193048506 … 0.7597256252727945 0.39344835814088364; 0.10057599577712573 0.36392267098261377 … 0.5509618376163837 0.3716381856079186; … ; 0.3937617843406124 0.19941558289146477 … 0.015995849597608136 0.10049928711737932; 0.062006415396738235 0.2651184111822895 … 0.6702086460744835 0.23718258647599]\n",
       " [0.8928494719087141 0.43151467397779353 … 0.7940771420139011 0.5713269166086569; 0.12609181697247107 0.23467631126273214 … 0.5655667634763868 0.012923910054933985; … ; 0.4596890954044771 0.0019073209879029163 … 0.9516825814047944 0.682636229060409; 0.9800171829512591 0.10960564402505357 … 0.423343359985185 0.9823372449983134]\n",
       " [0.41686666553682505 0.8296299597997591 … 0.2745411198033677 0.5897426610986369; 0.6445270317974446 0.8027207028994524 … 0.4832965711259538 0.14988219579309714; … ; 0.5063336461489153 0.3847969434161105 … 0.7908802593032102 0.20333221701302695; 0.7370621458002321 0.8346066111695416 … 0.10608273622531172 0.1318363156717257]\n",
       " [0.5788116348733455 0.9567421011839946 … 0.22246407499009868 0.802952482204104; 0.9860154760205083 0.42563339108683407 … 0.7333993032376799 0.6399879806063253; … ; 0.17260893349691153 0.45866933047099956 … 0.02423392697886273 0.5503324972311987; 0.10392119981700254 0.09389097979109107 … 0.6728471874673926 0.7577809452694456]\n",
       " [0.8795579377282676 0.025763226483293544 … 0.08146352915424926 0.14341457402158653; 0.3106763274905652 0.2380419158043312 … 0.3879010041194272 0.8713016536369632; … ; 0.5819487506790442 0.044396174555974555 … 0.7944531149863427 0.9704084884027265; 0.10393134917038216 0.5417103901207934 … 0.8355982267197862 0.4433980626352112]\n",
       " [0.8860334582467595 0.024517908627282536 … 0.8561158938604696 0.18279102866027774; 0.2739356580482766 0.9276655765999005 … 0.7022744325764054 0.555837104481679; … ; 0.9109994035700765 0.9622742083064576 … 0.011943240736987382 0.030631605750336188; 0.9422929354439721 0.5052454966769164 … 0.8170483128456669 0.8091797887066137]\n",
       " [0.8309061647468461 0.5925100498973419 … 0.19342485876554505 0.4266839649680332; 0.7348062565484348 0.556352949397114 … 0.21879916588908643 0.5997054783155761; … ; 0.5598557621948811 0.7424574588527206 … 0.28591476477318656 0.39687988510713257; 0.23940428831339977 0.05914027139311617 … 0.3766365169528081 0.9950449850457176]\n",
       " [0.9252427686228436 0.1897229948139344 … 0.7106101369820921 0.17261233377668095; 0.6327808809524103 0.5737883407814528 … 0.8917833912277149 0.3373066956634716; … ; 0.5056119061630778 0.2507007559414559 … 0.24164160838352078 0.058767746003200894; 0.5715893105735128 0.5951535700462232 … 0.6653520701586971 0.041233350177685146]\n",
       " [0.17862661329965035 0.19314830220595824 … 0.48783961424083677 0.26355252505793203; 0.5305859071162964 0.5546174847591837 … 0.952577457405938 0.6194067335129506; … ; 0.04338563051947386 0.5649191330328 … 0.3672703887478168 0.3613677311090996; 0.817491982836102 0.2831312726759465 … 0.5994472260746146 0.3832892473133723]"
      ]
     },
     "execution_count": 118,
     "metadata": {},
     "output_type": "execute_result"
    }
   ],
   "source": [
    "D = distribute(M)"
   ]
  },
  {
   "cell_type": "markdown",
   "metadata": {},
   "source": [
    "Which workers hold parts of D?"
   ]
  },
  {
   "cell_type": "code",
   "execution_count": 119,
   "metadata": {},
   "outputs": [
    {
     "data": {
      "text/plain": [
       "4-element Vector{Int64}:\n",
       " 18\n",
       " 19\n",
       " 20\n",
       " 21"
      ]
     },
     "execution_count": 119,
     "metadata": {},
     "output_type": "execute_result"
    }
   ],
   "source": [
    "procs(D)"
   ]
  },
  {
   "cell_type": "code",
   "execution_count": 120,
   "metadata": {},
   "outputs": [
    {
     "data": {
      "text/plain": [
       "4-element Vector{Int64}:\n",
       " 18\n",
       " 19\n",
       " 20\n",
       " 21"
      ]
     },
     "execution_count": 120,
     "metadata": {},
     "output_type": "execute_result"
    }
   ],
   "source": [
    "workers()"
   ]
  },
  {
   "cell_type": "markdown",
   "metadata": {},
   "source": [
    "Which parts do they hold?"
   ]
  },
  {
   "cell_type": "code",
   "execution_count": 121,
   "metadata": {},
   "outputs": [
    {
     "data": {
      "text/plain": [
       "Matrix{Float64}[]"
      ]
     },
     "execution_count": 121,
     "metadata": {},
     "output_type": "execute_result"
    }
   ],
   "source": [
    "localpart(D) # the master doesn't hold anything"
   ]
  },
  {
   "cell_type": "code",
   "execution_count": 122,
   "metadata": {},
   "outputs": [
    {
     "name": "stdout",
     "output_type": "stream",
     "text": [
      "(1:3,)\n",
      "(4:6,)\n",
      "(7:8,)\n",
      "(9:10,)\n"
     ]
    }
   ],
   "source": [
    "# Which parts do they hold?\n",
    "for p in workers()\n",
    "    println(@fetchfrom p DistributedArrays.localindices(D))\n",
    "end"
   ]
  },
  {
   "cell_type": "code",
   "execution_count": 123,
   "metadata": {},
   "outputs": [
    {
     "name": "stdout",
     "output_type": "stream",
     "text": [
      "  50.767 ms (81 allocations: 4.22 MiB)\n",
      "  13.728 ms (576 allocations: 30.41 KiB)\n"
     ]
    }
   ],
   "source": [
    "@btime map($svdvals, $M);\n",
    "@btime map($svdvals, $D);"
   ]
  },
  {
   "cell_type": "code",
   "execution_count": 124,
   "metadata": {},
   "outputs": [
    {
     "name": "stdout",
     "output_type": "stream",
     "text": [
      "  15.486 ms (518 allocations: 37.56 KiB)\n"
     ]
    }
   ],
   "source": [
    "@btime pmap($svdvals, $M);"
   ]
  },
  {
   "cell_type": "markdown",
   "metadata": {},
   "source": [
    "## *Actual* distributed computing: Comments"
   ]
  },
  {
   "cell_type": "markdown",
   "metadata": {},
   "source": [
    "### Creating workers on other machines"
   ]
  },
  {
   "cell_type": "markdown",
   "metadata": {},
   "source": [
    "So far we have worked with multiple process on the same system, because we simply used `addprocs(::Integer)`. To put worker processes on other machines, e.g. nodes of a cluster, we need to modify the initial `addprocs` call appropriately.\n",
    "\n",
    "In Julia, starting worker processes is handled by [ClusterManagers](https://docs.julialang.org/en/v1/manual/distributed-computing/#ClusterManagers).\n",
    "\n",
    "* The default one is `LocalManager`. It is automatically used when running `addprocs(i::Integer)` and we have implicitly used it already.\n",
    "* Another important one is `SSHManager`. It is automatically used when running `addprocs(hostnames::Array)`, e.g. `addprocs([\"node123\", \"node456\"])`. The only requirement is a **passwordless ssh access** to all specified hosts.\n",
    "* Cluster managers for SLURM, PBS, and others are provided in [ClusterManagers.jl](https://github.com/JuliaParallel/ClusterManagers.jl). For SLURM, this will make `addprocs` use `srun` under the hood."
   ]
  },
  {
   "cell_type": "markdown",
   "metadata": {},
   "source": [
    "*Demonstrate in terminal from thp node*\n",
    "\n",
    "```julia\n",
    "using Distributed\n",
    "\n",
    "addprocs([\"l93\", \"l94\"])\n",
    "\n",
    "@everywhere println(gethostname())\n",
    "```"
   ]
  },
  {
   "cell_type": "markdown",
   "metadata": {},
   "source": [
    "One can also start multiple processes on different machines:\n",
    "```julia\n",
    "addprocs([(\"node123\", 2), (\"node456\", 3)]) # starts 2 workers on node123 and 3 workers on node456\n",
    "\n",
    "# Use :auto to start as many processes as CPU threads are available\n",
    "```"
   ]
  },
  {
   "cell_type": "markdown",
   "metadata": {},
   "source": [
    "**Be aware of different paths:**\n",
    "* By default, `addprocs` expects to find the julia executable on the remote machines under the same path as on the host (master).\n",
    "* It will also try to `cd` to the same folder (set the working directory).\n"
   ]
  },
  {
   "cell_type": "markdown",
   "metadata": {},
   "source": [
    "As you can see from `?addprocs`, `addprocs` takes a bunch of keyword arguments, two of which are of particular importance in this regard:\n",
    "\n",
    "* `dir`: working directory for the worker processes\n",
    "* `exename`: path to julia executable (potentially augmented with pre-commands) for the worker processes"
   ]
  },
  {
   "cell_type": "code",
   "execution_count": null,
   "metadata": {},
   "outputs": [],
   "source": [
    "# cleanup\n",
    "rmprocs(workers())"
   ]
  }
 ],
 "metadata": {
  "@webio": {
   "lastCommId": null,
   "lastKernelId": null
  },
  "kernelspec": {
   "display_name": "Julia 1.8.0",
   "language": "julia",
   "name": "julia-1.8"
  },
  "language_info": {
   "file_extension": ".jl",
   "mimetype": "application/julia",
   "name": "julia",
   "version": "1.8.0"
  }
 },
 "nbformat": 4,
 "nbformat_minor": 4
}
