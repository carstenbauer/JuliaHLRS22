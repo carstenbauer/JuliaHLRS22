{
 "cells": [
  {
   "cell_type": "markdown",
   "metadata": {},
   "source": [
    "# SIMD"
   ]
  },
  {
   "cell_type": "markdown",
   "metadata": {},
   "source": [
    "SIMD stands for **\"Single Instruction Multiple Data\"** and falls into the category of instruction level parallelism (vector instructions). Consider this simple example where `A`, `B`, and `C` are vectors:"
   ]
  },
  {
   "cell_type": "code",
   "execution_count": 1,
   "metadata": {},
   "outputs": [
    {
     "data": {
      "text/plain": [
       "vector_add (generic function with 1 method)"
      ]
     },
     "execution_count": 1,
     "metadata": {},
     "output_type": "execute_result"
    }
   ],
   "source": [
    "function vector_add(A, B, C)\n",
    "    for i in eachindex(A, B, C)\n",
    "        @inbounds A[i] = B[i] + C[i]\n",
    "    end\n",
    "end"
   ]
  },
  {
   "cell_type": "markdown",
   "metadata": {},
   "source": [
    "\n",
    "The idea behind SIMD is to perform the add instruction on multiple elements at the same time (instead of separately performing them one after another). The process of splitting up the simple loop addition into multiple vector additions is often denoted as \"loop vectorization\". Since each vectorized addition happens at instruction level, i.e. within a CPU core, the feature set of the CPU determines how many elements we can process in one go."
   ]
  },
  {
   "cell_type": "markdown",
   "metadata": {},
   "source": [
    "<img src=\"../../imgs/simd_vaddpd.png\" width=300px>\n",
    "<img src=\"../../imgs/simd_register_width.png\" width=400px>\n",
    "\n",
    "(**Source:** Node-level performance engineering course by [NHR@FAU](https://hpc.fau.de/))"
   ]
  },
  {
   "cell_type": "markdown",
   "metadata": {},
   "source": [
    "Let's check which \"advanced vector extensions\" (AVX) the system supports."
   ]
  },
  {
   "cell_type": "code",
   "execution_count": 64,
   "metadata": {},
   "outputs": [
    {
     "data": {
      "text/markdown": [
       "| Cpu Property       | Value                                                      |\n",
       "|:------------------ |:---------------------------------------------------------- |\n",
       "| Brand              | Intel(R) Xeon(R) Gold 6148F CPU @ 2.40GHz                  |\n",
       "| Vendor             | :Intel                                                     |\n",
       "| Architecture       | :Skylake                                                   |\n",
       "| Model              | Family: 0x06, Model: 0x55, Stepping: 0x04, Type: 0x00      |\n",
       "| Cores              | 20 physical cores, 40 logical cores (on executing CPU)     |\n",
       "|                    | Hyperthreading hardware capability detected                |\n",
       "| Clock Frequencies  | 2400 / 3700 MHz (base/max), 100 MHz bus                    |\n",
       "| Data Cache         | Level 1:3 : (32, 1024, 28160) kbytes                       |\n",
       "|                    | 64 byte cache line size                                    |\n",
       "| Address Size       | 48 bits virtual, 46 bits physical                          |\n",
       "| SIMD               | 512 bit = 64 byte max. SIMD vector size                    |\n",
       "| Time Stamp Counter | TSC is accessible via `rdtsc`                              |\n",
       "|                    | TSC runs at constant rate (invariant from clock frequency) |\n",
       "| Perf. Monitoring   | Performance Monitoring Counters (PMC) revision 4           |\n",
       "|                    | Available hardware counters per logical core:              |\n",
       "|                    | 3 fixed-function counters of 48 bit width                  |\n",
       "|                    | 8 general-purpose counters of 48 bit width                 |\n",
       "| Hypervisor         | No                                                         |\n"
      ],
      "text/plain": [
       "  Cpu Property       Value                                                     \n",
       "  –––––––––––––––––– ––––––––––––––––––––––––––––––––––––––––––––––––––––––––––\n",
       "  Brand              Intel(R) Xeon(R) Gold 6148F CPU @ 2.40GHz                 \n",
       "  Vendor             :Intel                                                    \n",
       "  Architecture       :Skylake                                                  \n",
       "  Model              Family: 0x06, Model: 0x55, Stepping: 0x04, Type: 0x00     \n",
       "  Cores              20 physical cores, 40 logical cores (on executing CPU)    \n",
       "                     Hyperthreading hardware capability detected               \n",
       "  Clock Frequencies  2400 / 3700 MHz (base/max), 100 MHz bus                   \n",
       "  Data Cache         Level 1:3 : (32, 1024, 28160) kbytes                      \n",
       "                     64 byte cache line size                                   \n",
       "  Address Size       48 bits virtual, 46 bits physical                         \n",
       "  SIMD               512 bit = 64 byte max. SIMD vector size                   \n",
       "  Time Stamp Counter TSC is accessible via `rdtsc`                             \n",
       "                     TSC runs at constant rate (invariant from clock frequency)\n",
       "  Perf. Monitoring   Performance Monitoring Counters (PMC) revision 4          \n",
       "                     Available hardware counters per logical core:             \n",
       "                     3 fixed-function counters of 48 bit width                 \n",
       "                     8 general-purpose counters of 48 bit width                \n",
       "  Hypervisor         No                                                        "
      ]
     },
     "metadata": {},
     "output_type": "display_data"
    }
   ],
   "source": [
    "using CpuId\n",
    "cpuinfo()"
   ]
  },
  {
   "cell_type": "code",
   "execution_count": 65,
   "metadata": {},
   "outputs": [
    {
     "data": {
      "text/plain": [
       "7-element Vector{Symbol}:\n",
       " :AVX\n",
       " :AVX2\n",
       " :AVX512BW\n",
       " :AVX512CD\n",
       " :AVX512DQ\n",
       " :AVX512F\n",
       " :AVX512VL"
      ]
     },
     "metadata": {},
     "output_type": "display_data"
    }
   ],
   "source": [
    "filter(x -> contains(string(x), \"AVX\"), cpufeatures())"
   ]
  },
  {
   "cell_type": "code",
   "execution_count": 66,
   "metadata": {},
   "outputs": [
    {
     "data": {
      "text/plain": [
       "51200"
      ]
     },
     "metadata": {},
     "output_type": "display_data"
    }
   ],
   "source": [
    "SIZE = 512 * 100"
   ]
  },
  {
   "cell_type": "code",
   "execution_count": 67,
   "metadata": {},
   "outputs": [],
   "source": [
    "A = rand(Float64, SIZE)\n",
    "B = rand(Float64, SIZE)\n",
    "C = rand(Float64, SIZE);"
   ]
  },
  {
   "cell_type": "code",
   "execution_count": 68,
   "metadata": {},
   "outputs": [
    {
     "name": "stdout",
     "output_type": "stream",
     "text": [
      "\t\u001b[0m.text\n",
      "\t\u001b[0m.file\t\u001b[0m\"vector_add\"\n",
      "\t\u001b[0m.globl\t\u001b[0mjapi1_vector_add_6155           \u001b[90m# -- Begin function japi1_vector_add_6155\u001b[39m\n",
      "\t\u001b[0m.p2align\t\u001b[33m4\u001b[39m\u001b[0m, \u001b[33m0x90\u001b[39m\n",
      "\t\u001b[0m.type\t\u001b[0mjapi1_vector_add_6155\u001b[0m,\u001b[0m@function\n",
      "\u001b[91mjapi1_vector_add_6155:\u001b[39m                  \u001b[90m# @japi1_vector_add_6155\u001b[39m\n",
      "\t\u001b[0m.cfi_startproc\n",
      "\u001b[90m# %bb.0:                                # %top\u001b[39m\n",
      "\t\u001b[96m\u001b[1mpush\u001b[22m\u001b[39m\t\u001b[0mrbp\n",
      "\t\u001b[0m.cfi_def_cfa_offset \u001b[33m16\u001b[39m\n",
      "\t\u001b[0m.cfi_offset \u001b[0mrbp\u001b[0m, \u001b[33m-16\u001b[39m\n",
      "\t\u001b[96m\u001b[1mmov\u001b[22m\u001b[39m\t\u001b[0mrbp\u001b[0m, \u001b[0mrsp\n",
      "\t\u001b[0m.cfi_def_cfa_register \u001b[0mrbp\n",
      "\t\u001b[96m\u001b[1mpush\u001b[22m\u001b[39m\t\u001b[0mr15\n",
      "\t\u001b[96m\u001b[1mpush\u001b[22m\u001b[39m\t\u001b[0mr14\n",
      "\t\u001b[96m\u001b[1mpush\u001b[22m\u001b[39m\t\u001b[0mr13\n",
      "\t\u001b[96m\u001b[1mpush\u001b[22m\u001b[39m\t\u001b[0mr12\n",
      "\t\u001b[96m\u001b[1mpush\u001b[22m\u001b[39m\t\u001b[0mrbx\n",
      "\t\u001b[96m\u001b[1mand\u001b[22m\u001b[39m\t\u001b[0mrsp\u001b[0m, \u001b[33m-32\u001b[39m\n",
      "\t\u001b[96m\u001b[1msub\u001b[22m\u001b[39m\t\u001b[0mrsp\u001b[0m, \u001b[33m160\u001b[39m\n",
      "\t\u001b[0m.cfi_offset \u001b[0mrbx\u001b[0m, \u001b[33m-56\u001b[39m\n",
      "\t\u001b[0m.cfi_offset \u001b[0mr12\u001b[0m, \u001b[33m-48\u001b[39m\n",
      "\t\u001b[0m.cfi_offset \u001b[0mr13\u001b[0m, \u001b[33m-40\u001b[39m\n",
      "\t\u001b[0m.cfi_offset \u001b[0mr14\u001b[0m, \u001b[33m-32\u001b[39m\n",
      "\t\u001b[0m.cfi_offset \u001b[0mr15\u001b[0m, \u001b[33m-24\u001b[39m\n",
      "\t\u001b[96m\u001b[1mvxorpd\u001b[22m\u001b[39m\t\u001b[0mxmm0\u001b[0m, \u001b[0mxmm0\u001b[0m, \u001b[0mxmm0\n",
      "\t\u001b[96m\u001b[1mvmovapd\u001b[22m\u001b[39m\t\u001b[95mymmword\u001b[39m \u001b[95mptr\u001b[39m \u001b[33m[\u001b[39m\u001b[0mrsp \u001b[0m+ \u001b[33m32\u001b[39m\u001b[33m]\u001b[39m\u001b[0m, \u001b[0mymm0\n",
      "\t\u001b[96m\u001b[1mmov\u001b[22m\u001b[39m\t\u001b[95mqword\u001b[39m \u001b[95mptr\u001b[39m \u001b[33m[\u001b[39m\u001b[0mrsp \u001b[0m+ \u001b[33m64\u001b[39m\u001b[33m]\u001b[39m\u001b[0m, \u001b[33m0\u001b[39m\n",
      "\t\u001b[96m\u001b[1mmov\u001b[22m\u001b[39m\t\u001b[95mqword\u001b[39m \u001b[95mptr\u001b[39m \u001b[33m[\u001b[39m\u001b[0mrsp \u001b[0m+ \u001b[33m128\u001b[39m\u001b[33m]\u001b[39m\u001b[0m, \u001b[0mrsi\n",
      "\t\u001b[0m#APP\n",
      "\t\u001b[96m\u001b[1mmov\u001b[22m\u001b[39m\t\u001b[0mrax\u001b[0m, \u001b[95mqword\u001b[39m \u001b[95mptr\u001b[39m \u001b[0mfs\u001b[0m:\u001b[33m[\u001b[39m\u001b[33m0\u001b[39m\u001b[33m]\u001b[39m\n",
      "\t\u001b[0m#NO_APP\n",
      "\t\u001b[96m\u001b[1mmov\u001b[22m\u001b[39m\t\u001b[0mr12\u001b[0m, \u001b[95mqword\u001b[39m \u001b[95mptr\u001b[39m \u001b[33m[\u001b[39m\u001b[0mrax \u001b[0m- \u001b[33m8\u001b[39m\u001b[33m]\u001b[39m\n",
      "\t\u001b[96m\u001b[1mmov\u001b[22m\u001b[39m\t\u001b[95mqword\u001b[39m \u001b[95mptr\u001b[39m \u001b[33m[\u001b[39m\u001b[0mrsp \u001b[0m+ \u001b[33m32\u001b[39m\u001b[33m]\u001b[39m\u001b[0m, \u001b[33m12\u001b[39m\n",
      "\t\u001b[96m\u001b[1mmov\u001b[22m\u001b[39m\t\u001b[0mrax\u001b[0m, \u001b[95mqword\u001b[39m \u001b[95mptr\u001b[39m \u001b[33m[\u001b[39m\u001b[0mr12\u001b[33m]\u001b[39m\n",
      "\t\u001b[96m\u001b[1mmov\u001b[22m\u001b[39m\t\u001b[95mqword\u001b[39m \u001b[95mptr\u001b[39m \u001b[33m[\u001b[39m\u001b[0mrsp \u001b[0m+ \u001b[33m40\u001b[39m\u001b[33m]\u001b[39m\u001b[0m, \u001b[0mrax\n",
      "\t\u001b[96m\u001b[1mlea\u001b[22m\u001b[39m\t\u001b[0mrax\u001b[0m, \u001b[33m[\u001b[39m\u001b[0mrsp \u001b[0m+ \u001b[33m32\u001b[39m\u001b[33m]\u001b[39m\n",
      "\t\u001b[96m\u001b[1mmov\u001b[22m\u001b[39m\t\u001b[95mqword\u001b[39m \u001b[95mptr\u001b[39m \u001b[33m[\u001b[39m\u001b[0mr12\u001b[33m]\u001b[39m\u001b[0m, \u001b[0mrax\n",
      "\t\u001b[96m\u001b[1mmov\u001b[22m\u001b[39m\t\u001b[0mrdx\u001b[0m, \u001b[95mqword\u001b[39m \u001b[95mptr\u001b[39m \u001b[33m[\u001b[39m\u001b[0mrsi\u001b[33m]\u001b[39m\n",
      "\t\u001b[96m\u001b[1mmov\u001b[22m\u001b[39m\t\u001b[0mrax\u001b[0m, \u001b[95mqword\u001b[39m \u001b[95mptr\u001b[39m \u001b[33m[\u001b[39m\u001b[0mrsi \u001b[0m+ \u001b[33m8\u001b[39m\u001b[33m]\u001b[39m\n",
      "\t\u001b[96m\u001b[1mmov\u001b[22m\u001b[39m\t\u001b[0mrcx\u001b[0m, \u001b[95mqword\u001b[39m \u001b[95mptr\u001b[39m \u001b[33m[\u001b[39m\u001b[0mrsi \u001b[0m+ \u001b[33m16\u001b[39m\u001b[33m]\u001b[39m\n",
      "\t\u001b[96m\u001b[1mmov\u001b[22m\u001b[39m\t\u001b[0mrbx\u001b[0m, \u001b[95mqword\u001b[39m \u001b[95mptr\u001b[39m \u001b[33m[\u001b[39m\u001b[0mrdx \u001b[0m+ \u001b[33m8\u001b[39m\u001b[33m]\u001b[39m\n",
      "\t\u001b[96m\u001b[1mmov\u001b[22m\u001b[39m\t\u001b[0mr14\u001b[0m, \u001b[95mqword\u001b[39m \u001b[95mptr\u001b[39m \u001b[33m[\u001b[39m\u001b[0mrax \u001b[0m+ \u001b[33m8\u001b[39m\u001b[33m]\u001b[39m\n",
      "\t\u001b[96m\u001b[1mmov\u001b[22m\u001b[39m\t\u001b[0mr13\u001b[0m, \u001b[95mqword\u001b[39m \u001b[95mptr\u001b[39m \u001b[33m[\u001b[39m\u001b[0mrcx \u001b[0m+ \u001b[33m8\u001b[39m\u001b[33m]\u001b[39m\n",
      "\t\u001b[96m\u001b[1mcmp\u001b[22m\u001b[39m\t\u001b[0mrbx\u001b[0m, \u001b[0mr14\n",
      "\t\u001b[96m\u001b[1mjne\u001b[22m\u001b[39m\t\u001b[0m.LBB0_12\n",
      "\u001b[90m# %bb.1:                                # %top\u001b[39m\n",
      "\t\u001b[96m\u001b[1mcmp\u001b[22m\u001b[39m\t\u001b[0mrbx\u001b[0m, \u001b[0mr13\n",
      "\t\u001b[96m\u001b[1mjne\u001b[22m\u001b[39m\t\u001b[0m.LBB0_12\n",
      "\u001b[90m# %bb.2:                                # %L37\u001b[39m\n",
      "\t\u001b[96m\u001b[1mtest\u001b[22m\u001b[39m\t\u001b[0mrbx\u001b[0m, \u001b[0mrbx\n",
      "\t\u001b[96m\u001b[1mje\u001b[22m\u001b[39m\t\u001b[0m.LBB0_11\n",
      "\u001b[90m# %bb.3:                                # %L47.preheader\u001b[39m\n",
      "\t\u001b[96m\u001b[1mmov\u001b[22m\u001b[39m\t\u001b[0mrax\u001b[0m, \u001b[95mqword\u001b[39m \u001b[95mptr\u001b[39m \u001b[33m[\u001b[39m\u001b[0mrax\u001b[33m]\u001b[39m\n",
      "\t\u001b[96m\u001b[1mmov\u001b[22m\u001b[39m\t\u001b[0mrcx\u001b[0m, \u001b[95mqword\u001b[39m \u001b[95mptr\u001b[39m \u001b[33m[\u001b[39m\u001b[0mrcx\u001b[33m]\u001b[39m\n",
      "\t\u001b[96m\u001b[1mmov\u001b[22m\u001b[39m\t\u001b[0mrdx\u001b[0m, \u001b[95mqword\u001b[39m \u001b[95mptr\u001b[39m \u001b[33m[\u001b[39m\u001b[0mrdx\u001b[33m]\u001b[39m\n",
      "\t\u001b[96m\u001b[1mmov\u001b[22m\u001b[39m\t\u001b[0mesi\u001b[0m, \u001b[33m1\u001b[39m\n",
      "\t\u001b[96m\u001b[1mcmp\u001b[22m\u001b[39m\t\u001b[0mrbx\u001b[0m, \u001b[33m16\u001b[39m\n",
      "\t\u001b[96m\u001b[1mjb\u001b[22m\u001b[39m\t\u001b[0m.LBB0_9\n",
      "\u001b[90m# %bb.4:                                # %vector.memcheck\u001b[39m\n",
      "\t\u001b[96m\u001b[1mlea\u001b[22m\u001b[39m\t\u001b[0mrdi\u001b[0m, \u001b[33m[\u001b[39m\u001b[0mrdx \u001b[0m+ \u001b[33m8\u001b[39m\u001b[0m*\u001b[0mrbx\u001b[33m]\u001b[39m\n",
      "\t\u001b[96m\u001b[1mlea\u001b[22m\u001b[39m\t\u001b[0mr8\u001b[0m, \u001b[33m[\u001b[39m\u001b[0mrax \u001b[0m+ \u001b[33m8\u001b[39m\u001b[0m*\u001b[0mrbx\u001b[33m]\u001b[39m\n",
      "\t\u001b[96m\u001b[1mlea\u001b[22m\u001b[39m\t\u001b[0mr9\u001b[0m, \u001b[33m[\u001b[39m\u001b[0mrcx \u001b[0m+ \u001b[33m8\u001b[39m\u001b[0m*\u001b[0mrbx\u001b[33m]\u001b[39m\n",
      "\t\u001b[96m\u001b[1mcmp\u001b[22m\u001b[39m\t\u001b[0mrdx\u001b[0m, \u001b[0mr8\n",
      "\t\u001b[96m\u001b[1msetb\u001b[22m\u001b[39m\t\u001b[0mr10b\n",
      "\t\u001b[96m\u001b[1mcmp\u001b[22m\u001b[39m\t\u001b[0mrax\u001b[0m, \u001b[0mrdi\n",
      "\t\u001b[96m\u001b[1msetb\u001b[22m\u001b[39m\t\u001b[0mr11b\n",
      "\t\u001b[96m\u001b[1mcmp\u001b[22m\u001b[39m\t\u001b[0mrdx\u001b[0m, \u001b[0mr9\n",
      "\t\u001b[96m\u001b[1msetb\u001b[22m\u001b[39m\t\u001b[0mr9b\n",
      "\t\u001b[96m\u001b[1mcmp\u001b[22m\u001b[39m\t\u001b[0mrcx\u001b[0m, \u001b[0mrdi\n",
      "\t\u001b[96m\u001b[1msetb\u001b[22m\u001b[39m\t\u001b[0mr8b\n",
      "\t\u001b[96m\u001b[1mtest\u001b[22m\u001b[39m\t\u001b[0mr10b\u001b[0m, \u001b[0mr11b\n",
      "\t\u001b[96m\u001b[1mjne\u001b[22m\u001b[39m\t\u001b[0m.LBB0_9\n",
      "\u001b[90m# %bb.5:                                # %vector.memcheck\u001b[39m\n",
      "\t\u001b[96m\u001b[1mand\u001b[22m\u001b[39m\t\u001b[0mr9b\u001b[0m, \u001b[0mr8b\n",
      "\t\u001b[96m\u001b[1mjne\u001b[22m\u001b[39m\t\u001b[0m.LBB0_9\n",
      "\u001b[90m# %bb.6:                                # %vector.ph\u001b[39m\n",
      "\t\u001b[96m\u001b[1mmov\u001b[22m\u001b[39m\t\u001b[0mr8\u001b[0m, \u001b[0mrbx\n",
      "\t\u001b[96m\u001b[1mand\u001b[22m\u001b[39m\t\u001b[0mr8\u001b[0m, \u001b[33m-16\u001b[39m\n",
      "\t\u001b[96m\u001b[1mlea\u001b[22m\u001b[39m\t\u001b[0mrsi\u001b[0m, \u001b[33m[\u001b[39m\u001b[0mr8 \u001b[0m+ \u001b[33m1\u001b[39m\u001b[33m]\u001b[39m\n",
      "\t\u001b[96m\u001b[1mxor\u001b[22m\u001b[39m\t\u001b[0medi\u001b[0m, \u001b[0medi\n",
      "\t\u001b[0m.p2align\t\u001b[33m4\u001b[39m\u001b[0m, \u001b[33m0x90\u001b[39m\n",
      "\u001b[91m.LBB0_7:\u001b[39m                                \u001b[90m# %vector.body\u001b[39m\n",
      "                                        \u001b[90m# =>This Inner Loop Header: Depth=1\u001b[39m\n",
      "\t\u001b[96m\u001b[1mvmovupd\u001b[22m\u001b[39m\t\u001b[0mymm0\u001b[0m, \u001b[95mymmword\u001b[39m \u001b[95mptr\u001b[39m \u001b[33m[\u001b[39m\u001b[0mrax \u001b[0m+ \u001b[33m8\u001b[39m\u001b[0m*\u001b[0mrdi\u001b[33m]\u001b[39m\n",
      "\t\u001b[96m\u001b[1mvmovupd\u001b[22m\u001b[39m\t\u001b[0mymm1\u001b[0m, \u001b[95mymmword\u001b[39m \u001b[95mptr\u001b[39m \u001b[33m[\u001b[39m\u001b[0mrax \u001b[0m+ \u001b[33m8\u001b[39m\u001b[0m*\u001b[0mrdi \u001b[0m+ \u001b[33m32\u001b[39m\u001b[33m]\u001b[39m\n",
      "\t\u001b[96m\u001b[1mvmovupd\u001b[22m\u001b[39m\t\u001b[0mymm2\u001b[0m, \u001b[95mymmword\u001b[39m \u001b[95mptr\u001b[39m \u001b[33m[\u001b[39m\u001b[0mrax \u001b[0m+ \u001b[33m8\u001b[39m\u001b[0m*\u001b[0mrdi \u001b[0m+ \u001b[33m64\u001b[39m\u001b[33m]\u001b[39m\n",
      "\t\u001b[96m\u001b[1mvmovupd\u001b[22m\u001b[39m\t\u001b[0mymm3\u001b[0m, \u001b[95mymmword\u001b[39m \u001b[95mptr\u001b[39m \u001b[33m[\u001b[39m\u001b[0mrax \u001b[0m+ \u001b[33m8\u001b[39m\u001b[0m*\u001b[0mrdi \u001b[0m+ \u001b[33m96\u001b[39m\u001b[33m]\u001b[39m\n",
      "\t\u001b[96m\u001b[1mvaddpd\u001b[22m\u001b[39m\t\u001b[0mymm0\u001b[0m, \u001b[0mymm0\u001b[0m, \u001b[95mymmword\u001b[39m \u001b[95mptr\u001b[39m \u001b[33m[\u001b[39m\u001b[0mrcx \u001b[0m+ \u001b[33m8\u001b[39m\u001b[0m*\u001b[0mrdi\u001b[33m]\u001b[39m\n",
      "\t\u001b[96m\u001b[1mvaddpd\u001b[22m\u001b[39m\t\u001b[0mymm1\u001b[0m, \u001b[0mymm1\u001b[0m, \u001b[95mymmword\u001b[39m \u001b[95mptr\u001b[39m \u001b[33m[\u001b[39m\u001b[0mrcx \u001b[0m+ \u001b[33m8\u001b[39m\u001b[0m*\u001b[0mrdi \u001b[0m+ \u001b[33m32\u001b[39m\u001b[33m]\u001b[39m\n",
      "\t\u001b[96m\u001b[1mvaddpd\u001b[22m\u001b[39m\t\u001b[0mymm2\u001b[0m, \u001b[0mymm2\u001b[0m, \u001b[95mymmword\u001b[39m \u001b[95mptr\u001b[39m \u001b[33m[\u001b[39m\u001b[0mrcx \u001b[0m+ \u001b[33m8\u001b[39m\u001b[0m*\u001b[0mrdi \u001b[0m+ \u001b[33m64\u001b[39m\u001b[33m]\u001b[39m\n",
      "\t\u001b[96m\u001b[1mvaddpd\u001b[22m\u001b[39m\t\u001b[0mymm3\u001b[0m, \u001b[0mymm3\u001b[0m, \u001b[95mymmword\u001b[39m \u001b[95mptr\u001b[39m \u001b[33m[\u001b[39m\u001b[0mrcx \u001b[0m+ \u001b[33m8\u001b[39m\u001b[0m*\u001b[0mrdi \u001b[0m+ \u001b[33m96\u001b[39m\u001b[33m]\u001b[39m\n",
      "\t\u001b[96m\u001b[1mvmovupd\u001b[22m\u001b[39m\t\u001b[95mymmword\u001b[39m \u001b[95mptr\u001b[39m \u001b[33m[\u001b[39m\u001b[0mrdx \u001b[0m+ \u001b[33m8\u001b[39m\u001b[0m*\u001b[0mrdi\u001b[33m]\u001b[39m\u001b[0m, \u001b[0mymm0\n",
      "\t\u001b[96m\u001b[1mvmovupd\u001b[22m\u001b[39m\t\u001b[95mymmword\u001b[39m \u001b[95mptr\u001b[39m \u001b[33m[\u001b[39m\u001b[0mrdx \u001b[0m+ \u001b[33m8\u001b[39m\u001b[0m*\u001b[0mrdi \u001b[0m+ \u001b[33m32\u001b[39m\u001b[33m]\u001b[39m\u001b[0m, \u001b[0mymm1\n",
      "\t\u001b[96m\u001b[1mvmovupd\u001b[22m\u001b[39m\t\u001b[95mymmword\u001b[39m \u001b[95mptr\u001b[39m \u001b[33m[\u001b[39m\u001b[0mrdx \u001b[0m+ \u001b[33m8\u001b[39m\u001b[0m*\u001b[0mrdi \u001b[0m+ \u001b[33m64\u001b[39m\u001b[33m]\u001b[39m\u001b[0m, \u001b[0mymm2\n",
      "\t\u001b[96m\u001b[1mvmovupd\u001b[22m\u001b[39m\t\u001b[95mymmword\u001b[39m \u001b[95mptr\u001b[39m \u001b[33m[\u001b[39m\u001b[0mrdx \u001b[0m+ \u001b[33m8\u001b[39m\u001b[0m*\u001b[0mrdi \u001b[0m+ \u001b[33m96\u001b[39m\u001b[33m]\u001b[39m\u001b[0m, \u001b[0mymm3\n",
      "\t\u001b[96m\u001b[1madd\u001b[22m\u001b[39m\t\u001b[0mrdi\u001b[0m, \u001b[33m16\u001b[39m\n",
      "\t\u001b[96m\u001b[1mcmp\u001b[22m\u001b[39m\t\u001b[0mr8\u001b[0m, \u001b[0mrdi\n",
      "\t\u001b[96m\u001b[1mjne\u001b[22m\u001b[39m\t\u001b[0m.LBB0_7\n",
      "\u001b[90m# %bb.8:                                # %middle.block\u001b[39m\n",
      "\t\u001b[96m\u001b[1mcmp\u001b[22m\u001b[39m\t\u001b[0mrbx\u001b[0m, \u001b[0mr8\n",
      "\t\u001b[96m\u001b[1mje\u001b[22m\u001b[39m\t\u001b[0m.LBB0_11\n",
      "\u001b[91m.LBB0_9:\u001b[39m                                \u001b[90m# %L47.preheader46\u001b[39m\n",
      "\t\u001b[96m\u001b[1mdec\u001b[22m\u001b[39m\t\u001b[0mrsi\n",
      "\t\u001b[0m.p2align\t\u001b[33m4\u001b[39m\u001b[0m, \u001b[33m0x90\u001b[39m\n",
      "\u001b[91m.LBB0_10:\u001b[39m                               \u001b[90m# %L47\u001b[39m\n",
      "                                        \u001b[90m# =>This Inner Loop Header: Depth=1\u001b[39m\n",
      "\t\u001b[96m\u001b[1mvmovsd\u001b[22m\u001b[39m\t\u001b[0mxmm0\u001b[0m, \u001b[95mqword\u001b[39m \u001b[95mptr\u001b[39m \u001b[33m[\u001b[39m\u001b[0mrax \u001b[0m+ \u001b[33m8\u001b[39m\u001b[0m*\u001b[0mrsi\u001b[33m]\u001b[39m   \u001b[90m# xmm0 = mem[0],zero\u001b[39m\n",
      "\t\u001b[96m\u001b[1mvaddsd\u001b[22m\u001b[39m\t\u001b[0mxmm0\u001b[0m, \u001b[0mxmm0\u001b[0m, \u001b[95mqword\u001b[39m \u001b[95mptr\u001b[39m \u001b[33m[\u001b[39m\u001b[0mrcx \u001b[0m+ \u001b[33m8\u001b[39m\u001b[0m*\u001b[0mrsi\u001b[33m]\u001b[39m\n",
      "\t\u001b[96m\u001b[1mvmovsd\u001b[22m\u001b[39m\t\u001b[95mqword\u001b[39m \u001b[95mptr\u001b[39m \u001b[33m[\u001b[39m\u001b[0mrdx \u001b[0m+ \u001b[33m8\u001b[39m\u001b[0m*\u001b[0mrsi\u001b[33m]\u001b[39m\u001b[0m, \u001b[0mxmm0\n",
      "\t\u001b[96m\u001b[1minc\u001b[22m\u001b[39m\t\u001b[0mrsi\n",
      "\t\u001b[96m\u001b[1mcmp\u001b[22m\u001b[39m\t\u001b[0mrbx\u001b[0m, \u001b[0mrsi\n",
      "\t\u001b[96m\u001b[1mjne\u001b[22m\u001b[39m\t\u001b[0m.LBB0_10\n",
      "\u001b[91m.LBB0_11:\u001b[39m                               \u001b[90m# %L66\u001b[39m\n",
      "\t\u001b[96m\u001b[1mmov\u001b[22m\u001b[39m\t\u001b[0mrax\u001b[0m, \u001b[95mqword\u001b[39m \u001b[95mptr\u001b[39m \u001b[33m[\u001b[39m\u001b[0mrsp \u001b[0m+ \u001b[33m40\u001b[39m\u001b[33m]\u001b[39m\n",
      "\t\u001b[96m\u001b[1mmov\u001b[22m\u001b[39m\t\u001b[95mqword\u001b[39m \u001b[95mptr\u001b[39m \u001b[33m[\u001b[39m\u001b[0mr12\u001b[33m]\u001b[39m\u001b[0m, \u001b[0mrax\n",
      "\t\u001b[96m\u001b[1mmovabs\u001b[22m\u001b[39m\t\u001b[0mrax\u001b[0m, \u001b[33m23455919865864\u001b[39m\n",
      "\t\u001b[96m\u001b[1mlea\u001b[22m\u001b[39m\t\u001b[0mrsp\u001b[0m, \u001b[33m[\u001b[39m\u001b[0mrbp \u001b[0m- \u001b[33m40\u001b[39m\u001b[33m]\u001b[39m\n",
      "\t\u001b[96m\u001b[1mpop\u001b[22m\u001b[39m\t\u001b[0mrbx\n",
      "\t\u001b[96m\u001b[1mpop\u001b[22m\u001b[39m\t\u001b[0mr12\n",
      "\t\u001b[96m\u001b[1mpop\u001b[22m\u001b[39m\t\u001b[0mr13\n",
      "\t\u001b[96m\u001b[1mpop\u001b[22m\u001b[39m\t\u001b[0mr14\n",
      "\t\u001b[96m\u001b[1mpop\u001b[22m\u001b[39m\t\u001b[0mr15\n",
      "\t\u001b[96m\u001b[1mpop\u001b[22m\u001b[39m\t\u001b[0mrbp\n",
      "\t\u001b[0m.cfi_def_cfa \u001b[0mrsp\u001b[0m, \u001b[33m8\u001b[39m\n",
      "\t\u001b[96m\u001b[1mvzeroupper\u001b[22m\u001b[39m\n",
      "\t\u001b[96m\u001b[1mret\u001b[22m\u001b[39m\n",
      "\u001b[91m.LBB0_12:\u001b[39m                               \u001b[90m# %L19\u001b[39m\n",
      "\t\u001b[0m.cfi_def_cfa \u001b[0mrbp\u001b[0m, \u001b[33m16\u001b[39m\n",
      "\t\u001b[96m\u001b[1mmov\u001b[22m\u001b[39m\t\u001b[0mrdi\u001b[0m, \u001b[95mqword\u001b[39m \u001b[95mptr\u001b[39m \u001b[33m[\u001b[39m\u001b[0mr12 \u001b[0m+ \u001b[33m16\u001b[39m\u001b[33m]\u001b[39m\n",
      "\t\u001b[96m\u001b[1mmovabs\u001b[22m\u001b[39m\t\u001b[0mr15\u001b[0m, \u001b[95moffset\u001b[39m \u001b[93mijl_gc_pool_alloc\u001b[39m\n",
      "\t\u001b[96m\u001b[1mmov\u001b[22m\u001b[39m\t\u001b[0mesi\u001b[0m, \u001b[33m1392\u001b[39m\n",
      "\t\u001b[96m\u001b[1mmov\u001b[22m\u001b[39m\t\u001b[0medx\u001b[0m, \u001b[33m16\u001b[39m\n",
      "\t\u001b[96m\u001b[1mvzeroupper\u001b[22m\u001b[39m\n",
      "\t\u001b[96m\u001b[1mcall\u001b[22m\u001b[39m\t\u001b[0mr15\n",
      "\t\u001b[96m\u001b[1mmov\u001b[22m\u001b[39m\t\u001b[95mqword\u001b[39m \u001b[95mptr\u001b[39m \u001b[33m[\u001b[39m\u001b[0mrsp \u001b[0m+ \u001b[33m24\u001b[39m\u001b[33m]\u001b[39m\u001b[0m, \u001b[0mrax       \u001b[90m# 8-byte Spill\u001b[39m\n",
      "\t\u001b[96m\u001b[1mmovabs\u001b[22m\u001b[39m\t\u001b[0mrcx\u001b[0m, \u001b[33m23455669498256\u001b[39m\n",
      "\t\u001b[96m\u001b[1mmov\u001b[22m\u001b[39m\t\u001b[95mqword\u001b[39m \u001b[95mptr\u001b[39m \u001b[33m[\u001b[39m\u001b[0mrax \u001b[0m- \u001b[33m8\u001b[39m\u001b[33m]\u001b[39m\u001b[0m, \u001b[0mrcx\n",
      "\t\u001b[96m\u001b[1mmov\u001b[22m\u001b[39m\t\u001b[95mqword\u001b[39m \u001b[95mptr\u001b[39m \u001b[33m[\u001b[39m\u001b[0mrax\u001b[33m]\u001b[39m\u001b[0m, \u001b[0mrbx\n",
      "\t\u001b[96m\u001b[1mmov\u001b[22m\u001b[39m\t\u001b[95mqword\u001b[39m \u001b[95mptr\u001b[39m \u001b[33m[\u001b[39m\u001b[0mrsp \u001b[0m+ \u001b[33m64\u001b[39m\u001b[33m]\u001b[39m\u001b[0m, \u001b[0mrax\n",
      "\t\u001b[96m\u001b[1mmov\u001b[22m\u001b[39m\t\u001b[0mrdi\u001b[0m, \u001b[95mqword\u001b[39m \u001b[95mptr\u001b[39m \u001b[33m[\u001b[39m\u001b[0mr12 \u001b[0m+ \u001b[33m16\u001b[39m\u001b[33m]\u001b[39m\n",
      "\t\u001b[96m\u001b[1mmov\u001b[22m\u001b[39m\t\u001b[0mesi\u001b[0m, \u001b[33m1392\u001b[39m\n",
      "\t\u001b[96m\u001b[1mmov\u001b[22m\u001b[39m\t\u001b[0medx\u001b[0m, \u001b[33m16\u001b[39m\n",
      "\t\u001b[96m\u001b[1mcall\u001b[22m\u001b[39m\t\u001b[0mr15\n",
      "\t\u001b[96m\u001b[1mmov\u001b[22m\u001b[39m\t\u001b[0mrcx\u001b[0m, \u001b[0mr15\n",
      "\t\u001b[96m\u001b[1mmov\u001b[22m\u001b[39m\t\u001b[0mr15\u001b[0m, \u001b[0mrax\n",
      "\t\u001b[96m\u001b[1mmovabs\u001b[22m\u001b[39m\t\u001b[0mrbx\u001b[0m, \u001b[33m23455669498256\u001b[39m\n",
      "\t\u001b[96m\u001b[1mmov\u001b[22m\u001b[39m\t\u001b[95mqword\u001b[39m \u001b[95mptr\u001b[39m \u001b[33m[\u001b[39m\u001b[0mrax \u001b[0m- \u001b[33m8\u001b[39m\u001b[33m]\u001b[39m\u001b[0m, \u001b[0mrbx\n",
      "\t\u001b[96m\u001b[1mmov\u001b[22m\u001b[39m\t\u001b[95mqword\u001b[39m \u001b[95mptr\u001b[39m \u001b[33m[\u001b[39m\u001b[0mrax\u001b[33m]\u001b[39m\u001b[0m, \u001b[0mr14\n",
      "\t\u001b[96m\u001b[1mmov\u001b[22m\u001b[39m\t\u001b[95mqword\u001b[39m \u001b[95mptr\u001b[39m \u001b[33m[\u001b[39m\u001b[0mrsp \u001b[0m+ \u001b[33m56\u001b[39m\u001b[33m]\u001b[39m\u001b[0m, \u001b[0mrax\n",
      "\t\u001b[96m\u001b[1mmov\u001b[22m\u001b[39m\t\u001b[0mrdi\u001b[0m, \u001b[95mqword\u001b[39m \u001b[95mptr\u001b[39m \u001b[33m[\u001b[39m\u001b[0mr12 \u001b[0m+ \u001b[33m16\u001b[39m\u001b[33m]\u001b[39m\n",
      "\t\u001b[96m\u001b[1mmov\u001b[22m\u001b[39m\t\u001b[0mesi\u001b[0m, \u001b[33m1392\u001b[39m\n",
      "\t\u001b[96m\u001b[1mmov\u001b[22m\u001b[39m\t\u001b[0medx\u001b[0m, \u001b[33m16\u001b[39m\n",
      "\t\u001b[96m\u001b[1mcall\u001b[22m\u001b[39m\t\u001b[0mrcx\n",
      "\t\u001b[96m\u001b[1mmov\u001b[22m\u001b[39m\t\u001b[95mqword\u001b[39m \u001b[95mptr\u001b[39m \u001b[33m[\u001b[39m\u001b[0mrax \u001b[0m- \u001b[33m8\u001b[39m\u001b[33m]\u001b[39m\u001b[0m, \u001b[0mrbx\n",
      "\t\u001b[96m\u001b[1mmov\u001b[22m\u001b[39m\t\u001b[95mqword\u001b[39m \u001b[95mptr\u001b[39m \u001b[33m[\u001b[39m\u001b[0mrax\u001b[33m]\u001b[39m\u001b[0m, \u001b[0mr13\n",
      "\t\u001b[96m\u001b[1mmov\u001b[22m\u001b[39m\t\u001b[95mqword\u001b[39m \u001b[95mptr\u001b[39m \u001b[33m[\u001b[39m\u001b[0mrsp \u001b[0m+ \u001b[33m48\u001b[39m\u001b[33m]\u001b[39m\u001b[0m, \u001b[0mrax\n",
      "\t\u001b[96m\u001b[1mmovabs\u001b[22m\u001b[39m\t\u001b[0mrcx\u001b[0m, \u001b[33m23455668572512\u001b[39m\n",
      "\t\u001b[96m\u001b[1mmov\u001b[22m\u001b[39m\t\u001b[95mqword\u001b[39m \u001b[95mptr\u001b[39m \u001b[33m[\u001b[39m\u001b[0mrsp \u001b[0m+ \u001b[33m96\u001b[39m\u001b[33m]\u001b[39m\u001b[0m, \u001b[0mrcx\n",
      "\t\u001b[96m\u001b[1mmov\u001b[22m\u001b[39m\t\u001b[0mrcx\u001b[0m, \u001b[95mqword\u001b[39m \u001b[95mptr\u001b[39m \u001b[33m[\u001b[39m\u001b[0mrsp \u001b[0m+ \u001b[33m24\u001b[39m\u001b[33m]\u001b[39m       \u001b[90m# 8-byte Reload\u001b[39m\n",
      "\t\u001b[96m\u001b[1mmov\u001b[22m\u001b[39m\t\u001b[95mqword\u001b[39m \u001b[95mptr\u001b[39m \u001b[33m[\u001b[39m\u001b[0mrsp \u001b[0m+ \u001b[33m104\u001b[39m\u001b[33m]\u001b[39m\u001b[0m, \u001b[0mrcx\n",
      "\t\u001b[96m\u001b[1mmov\u001b[22m\u001b[39m\t\u001b[95mqword\u001b[39m \u001b[95mptr\u001b[39m \u001b[33m[\u001b[39m\u001b[0mrsp \u001b[0m+ \u001b[33m112\u001b[39m\u001b[33m]\u001b[39m\u001b[0m, \u001b[0mr15\n",
      "\t\u001b[96m\u001b[1mmov\u001b[22m\u001b[39m\t\u001b[95mqword\u001b[39m \u001b[95mptr\u001b[39m \u001b[33m[\u001b[39m\u001b[0mrsp \u001b[0m+ \u001b[33m120\u001b[39m\u001b[33m]\u001b[39m\u001b[0m, \u001b[0mrax\n",
      "\t\u001b[96m\u001b[1mmovabs\u001b[22m\u001b[39m\t\u001b[0mrax\u001b[0m, \u001b[95moffset\u001b[39m \u001b[93mj1_throw_eachindex_mismatch_indices_6156\u001b[39m\n",
      "\t\u001b[96m\u001b[1mmovabs\u001b[22m\u001b[39m\t\u001b[0mrdi\u001b[0m, \u001b[33m23455738991632\u001b[39m\n",
      "\t\u001b[96m\u001b[1mlea\u001b[22m\u001b[39m\t\u001b[0mrsi\u001b[0m, \u001b[33m[\u001b[39m\u001b[0mrsp \u001b[0m+ \u001b[33m96\u001b[39m\u001b[33m]\u001b[39m\n",
      "\t\u001b[96m\u001b[1mmov\u001b[22m\u001b[39m\t\u001b[0medx\u001b[0m, \u001b[33m4\u001b[39m\n",
      "\t\u001b[96m\u001b[1mcall\u001b[22m\u001b[39m\t\u001b[0mrax\n",
      "\t\u001b[96m\u001b[1mud2\u001b[22m\u001b[39m\n",
      "\u001b[91m.Lfunc_end0:\u001b[39m\n",
      "\t\u001b[0m.size\t\u001b[0mjapi1_vector_add_6155\u001b[0m, \u001b[0m.Lfunc_end0-japi1_vector_add_6155\n",
      "\t\u001b[0m.cfi_endproc\n",
      "                                        \u001b[90m# -- End function\u001b[39m\n",
      "\t\u001b[0m.section\t\u001b[0m\".note.GNU-stack\"\u001b[0m,\u001b[0m\"\"\u001b[0m,\u001b[0m@progbits\n"
     ]
    }
   ],
   "source": [
    "@code_native debuginfo=:none syntax=:intel vector_add(A,B,C)"
   ]
  },
  {
   "cell_type": "markdown",
   "metadata": {},
   "source": [
    "## It's not always so simple: Reduction"
   ]
  },
  {
   "cell_type": "code",
   "execution_count": 69,
   "metadata": {},
   "outputs": [
    {
     "data": {
      "text/plain": [
       "vector_dot (generic function with 1 method)"
      ]
     },
     "metadata": {},
     "output_type": "display_data"
    }
   ],
   "source": [
    "function vector_dot(B, C)\n",
    "    a = zero(eltype(B))\n",
    "    for i in eachindex(B,C)\n",
    "        @inbounds a += B[i] * C[i]\n",
    "    end\n",
    "    return a\n",
    "end"
   ]
  },
  {
   "cell_type": "code",
   "execution_count": 70,
   "metadata": {},
   "outputs": [
    {
     "name": "stdout",
     "output_type": "stream",
     "text": [
      "\t\u001b[0m.text\n",
      "\t\u001b[0m.file\t\u001b[0m\"vector_dot\"\n",
      "\t\u001b[0m.globl\t\u001b[0mjulia_vector_dot_6178           \u001b[90m# -- Begin function julia_vector_dot_6178\u001b[39m\n",
      "\t\u001b[0m.p2align\t\u001b[33m4\u001b[39m\u001b[0m, \u001b[33m0x90\u001b[39m\n",
      "\t\u001b[0m.type\t\u001b[0mjulia_vector_dot_6178\u001b[0m,\u001b[0m@function\n",
      "\u001b[91mjulia_vector_dot_6178:\u001b[39m                  \u001b[90m# @julia_vector_dot_6178\u001b[39m\n",
      "\t\u001b[0m.cfi_startproc\n",
      "\u001b[90m# %bb.0:                                # %top\u001b[39m\n",
      "\t\u001b[96m\u001b[1mpush\u001b[22m\u001b[39m\t\u001b[0mrbp\n",
      "\t\u001b[0m.cfi_def_cfa_offset \u001b[33m16\u001b[39m\n",
      "\t\u001b[0m.cfi_offset \u001b[0mrbp\u001b[0m, \u001b[33m-16\u001b[39m\n",
      "\t\u001b[96m\u001b[1mmov\u001b[22m\u001b[39m\t\u001b[0mrbp\u001b[0m, \u001b[0mrsp\n",
      "\t\u001b[0m.cfi_def_cfa_register \u001b[0mrbp\n",
      "\t\u001b[96m\u001b[1mpush\u001b[22m\u001b[39m\t\u001b[0mr15\n",
      "\t\u001b[96m\u001b[1mpush\u001b[22m\u001b[39m\t\u001b[0mr14\n",
      "\t\u001b[96m\u001b[1mpush\u001b[22m\u001b[39m\t\u001b[0mr13\n",
      "\t\u001b[96m\u001b[1mpush\u001b[22m\u001b[39m\t\u001b[0mr12\n",
      "\t\u001b[96m\u001b[1mpush\u001b[22m\u001b[39m\t\u001b[0mrbx\n",
      "\t\u001b[96m\u001b[1mand\u001b[22m\u001b[39m\t\u001b[0mrsp\u001b[0m, \u001b[33m-32\u001b[39m\n",
      "\t\u001b[96m\u001b[1msub\u001b[22m\u001b[39m\t\u001b[0mrsp\u001b[0m, \u001b[33m96\u001b[39m\n",
      "\t\u001b[0m.cfi_offset \u001b[0mrbx\u001b[0m, \u001b[33m-56\u001b[39m\n",
      "\t\u001b[0m.cfi_offset \u001b[0mr12\u001b[0m, \u001b[33m-48\u001b[39m\n",
      "\t\u001b[0m.cfi_offset \u001b[0mr13\u001b[0m, \u001b[33m-40\u001b[39m\n",
      "\t\u001b[0m.cfi_offset \u001b[0mr14\u001b[0m, \u001b[33m-32\u001b[39m\n",
      "\t\u001b[0m.cfi_offset \u001b[0mr15\u001b[0m, \u001b[33m-24\u001b[39m\n",
      "\t\u001b[96m\u001b[1mvxorpd\u001b[22m\u001b[39m\t\u001b[0mxmm0\u001b[0m, \u001b[0mxmm0\u001b[0m, \u001b[0mxmm0\n",
      "\t\u001b[96m\u001b[1mvmovapd\u001b[22m\u001b[39m\t\u001b[95mymmword\u001b[39m \u001b[95mptr\u001b[39m \u001b[33m[\u001b[39m\u001b[0mrsp\u001b[33m]\u001b[39m\u001b[0m, \u001b[0mymm0\n",
      "\t\u001b[0m#APP\n",
      "\t\u001b[96m\u001b[1mmov\u001b[22m\u001b[39m\t\u001b[0mrax\u001b[0m, \u001b[95mqword\u001b[39m \u001b[95mptr\u001b[39m \u001b[0mfs\u001b[0m:\u001b[33m[\u001b[39m\u001b[33m0\u001b[39m\u001b[33m]\u001b[39m\n",
      "\t\u001b[0m#NO_APP\n",
      "\t\u001b[96m\u001b[1mmov\u001b[22m\u001b[39m\t\u001b[0mr15\u001b[0m, \u001b[95mqword\u001b[39m \u001b[95mptr\u001b[39m \u001b[33m[\u001b[39m\u001b[0mrax \u001b[0m- \u001b[33m8\u001b[39m\u001b[33m]\u001b[39m\n",
      "\t\u001b[96m\u001b[1mmov\u001b[22m\u001b[39m\t\u001b[95mqword\u001b[39m \u001b[95mptr\u001b[39m \u001b[33m[\u001b[39m\u001b[0mrsp\u001b[33m]\u001b[39m\u001b[0m, \u001b[33m8\u001b[39m\n",
      "\t\u001b[96m\u001b[1mmov\u001b[22m\u001b[39m\t\u001b[0mrax\u001b[0m, \u001b[95mqword\u001b[39m \u001b[95mptr\u001b[39m \u001b[33m[\u001b[39m\u001b[0mr15\u001b[33m]\u001b[39m\n",
      "\t\u001b[96m\u001b[1mmov\u001b[22m\u001b[39m\t\u001b[95mqword\u001b[39m \u001b[95mptr\u001b[39m \u001b[33m[\u001b[39m\u001b[0mrsp \u001b[0m+ \u001b[33m8\u001b[39m\u001b[33m]\u001b[39m\u001b[0m, \u001b[0mrax\n",
      "\t\u001b[96m\u001b[1mmov\u001b[22m\u001b[39m\t\u001b[0mrax\u001b[0m, \u001b[0mrsp\n",
      "\t\u001b[96m\u001b[1mmov\u001b[22m\u001b[39m\t\u001b[95mqword\u001b[39m \u001b[95mptr\u001b[39m \u001b[33m[\u001b[39m\u001b[0mr15\u001b[33m]\u001b[39m\u001b[0m, \u001b[0mrax\n",
      "\t\u001b[96m\u001b[1mmov\u001b[22m\u001b[39m\t\u001b[0mrbx\u001b[0m, \u001b[95mqword\u001b[39m \u001b[95mptr\u001b[39m \u001b[33m[\u001b[39m\u001b[0mrdi \u001b[0m+ \u001b[33m8\u001b[39m\u001b[33m]\u001b[39m\n",
      "\t\u001b[96m\u001b[1mmov\u001b[22m\u001b[39m\t\u001b[0mr12\u001b[0m, \u001b[95mqword\u001b[39m \u001b[95mptr\u001b[39m \u001b[33m[\u001b[39m\u001b[0mrsi \u001b[0m+ \u001b[33m8\u001b[39m\u001b[33m]\u001b[39m\n",
      "\t\u001b[96m\u001b[1mcmp\u001b[22m\u001b[39m\t\u001b[0mrbx\u001b[0m, \u001b[0mr12\n",
      "\t\u001b[96m\u001b[1mjne\u001b[22m\u001b[39m\t\u001b[0m.LBB0_6\n",
      "\u001b[90m# %bb.1:                                # %L26\u001b[39m\n",
      "\t\u001b[96m\u001b[1mtest\u001b[22m\u001b[39m\t\u001b[0mrbx\u001b[0m, \u001b[0mrbx\n",
      "\t\u001b[96m\u001b[1mje\u001b[22m\u001b[39m\t\u001b[0m.LBB0_2\n",
      "\u001b[90m# %bb.3:                                # %L36.preheader\u001b[39m\n",
      "\t\u001b[96m\u001b[1mmov\u001b[22m\u001b[39m\t\u001b[0mrax\u001b[0m, \u001b[95mqword\u001b[39m \u001b[95mptr\u001b[39m \u001b[33m[\u001b[39m\u001b[0mrdi\u001b[33m]\u001b[39m\n",
      "\t\u001b[96m\u001b[1mmov\u001b[22m\u001b[39m\t\u001b[0mrcx\u001b[0m, \u001b[95mqword\u001b[39m \u001b[95mptr\u001b[39m \u001b[33m[\u001b[39m\u001b[0mrsi\u001b[33m]\u001b[39m\n",
      "\t\u001b[96m\u001b[1mvxorpd\u001b[22m\u001b[39m\t\u001b[0mxmm0\u001b[0m, \u001b[0mxmm0\u001b[0m, \u001b[0mxmm0\n",
      "\t\u001b[96m\u001b[1mxor\u001b[22m\u001b[39m\t\u001b[0medx\u001b[0m, \u001b[0medx\n",
      "\t\u001b[0m.p2align\t\u001b[33m4\u001b[39m\u001b[0m, \u001b[33m0x90\u001b[39m\n",
      "\u001b[91m.LBB0_4:\u001b[39m                                \u001b[90m# %L36\u001b[39m\n",
      "                                        \u001b[90m# =>This Inner Loop Header: Depth=1\u001b[39m\n",
      "\t\u001b[96m\u001b[1mvmovsd\u001b[22m\u001b[39m\t\u001b[0mxmm1\u001b[0m, \u001b[95mqword\u001b[39m \u001b[95mptr\u001b[39m \u001b[33m[\u001b[39m\u001b[0mrax \u001b[0m+ \u001b[33m8\u001b[39m\u001b[0m*\u001b[0mrdx\u001b[33m]\u001b[39m   \u001b[90m# xmm1 = mem[0],zero\u001b[39m\n",
      "\t\u001b[96m\u001b[1mvmulsd\u001b[22m\u001b[39m\t\u001b[0mxmm1\u001b[0m, \u001b[0mxmm1\u001b[0m, \u001b[95mqword\u001b[39m \u001b[95mptr\u001b[39m \u001b[33m[\u001b[39m\u001b[0mrcx \u001b[0m+ \u001b[33m8\u001b[39m\u001b[0m*\u001b[0mrdx\u001b[33m]\u001b[39m\n",
      "\t\u001b[96m\u001b[1mvaddsd\u001b[22m\u001b[39m\t\u001b[0mxmm0\u001b[0m, \u001b[0mxmm0\u001b[0m, \u001b[0mxmm1\n",
      "\t\u001b[96m\u001b[1minc\u001b[22m\u001b[39m\t\u001b[0mrdx\n",
      "\t\u001b[96m\u001b[1mcmp\u001b[22m\u001b[39m\t\u001b[0mrbx\u001b[0m, \u001b[0mrdx\n",
      "\t\u001b[96m\u001b[1mjne\u001b[22m\u001b[39m\t\u001b[0m.LBB0_4\n",
      "\t\u001b[96m\u001b[1mjmp\u001b[22m\u001b[39m\t\u001b[0m.LBB0_5\n",
      "\u001b[91m.LBB0_2:\u001b[39m\n",
      "\t\u001b[96m\u001b[1mvxorpd\u001b[22m\u001b[39m\t\u001b[0mxmm0\u001b[0m, \u001b[0mxmm0\u001b[0m, \u001b[0mxmm0\n",
      "\u001b[91m.LBB0_5:\u001b[39m                                \u001b[90m# %L56\u001b[39m\n",
      "\t\u001b[96m\u001b[1mmov\u001b[22m\u001b[39m\t\u001b[0mrax\u001b[0m, \u001b[95mqword\u001b[39m \u001b[95mptr\u001b[39m \u001b[33m[\u001b[39m\u001b[0mrsp \u001b[0m+ \u001b[33m8\u001b[39m\u001b[33m]\u001b[39m\n",
      "\t\u001b[96m\u001b[1mmov\u001b[22m\u001b[39m\t\u001b[95mqword\u001b[39m \u001b[95mptr\u001b[39m \u001b[33m[\u001b[39m\u001b[0mr15\u001b[33m]\u001b[39m\u001b[0m, \u001b[0mrax\n",
      "\t\u001b[96m\u001b[1mlea\u001b[22m\u001b[39m\t\u001b[0mrsp\u001b[0m, \u001b[33m[\u001b[39m\u001b[0mrbp \u001b[0m- \u001b[33m40\u001b[39m\u001b[33m]\u001b[39m\n",
      "\t\u001b[96m\u001b[1mpop\u001b[22m\u001b[39m\t\u001b[0mrbx\n",
      "\t\u001b[96m\u001b[1mpop\u001b[22m\u001b[39m\t\u001b[0mr12\n",
      "\t\u001b[96m\u001b[1mpop\u001b[22m\u001b[39m\t\u001b[0mr13\n",
      "\t\u001b[96m\u001b[1mpop\u001b[22m\u001b[39m\t\u001b[0mr14\n",
      "\t\u001b[96m\u001b[1mpop\u001b[22m\u001b[39m\t\u001b[0mr15\n",
      "\t\u001b[96m\u001b[1mpop\u001b[22m\u001b[39m\t\u001b[0mrbp\n",
      "\t\u001b[0m.cfi_def_cfa \u001b[0mrsp\u001b[0m, \u001b[33m8\u001b[39m\n",
      "\t\u001b[96m\u001b[1mvzeroupper\u001b[22m\u001b[39m\n",
      "\t\u001b[96m\u001b[1mret\u001b[22m\u001b[39m\n",
      "\u001b[91m.LBB0_6:\u001b[39m                                \u001b[90m# %L13\u001b[39m\n",
      "\t\u001b[0m.cfi_def_cfa \u001b[0mrbp\u001b[0m, \u001b[33m16\u001b[39m\n",
      "\t\u001b[96m\u001b[1mmov\u001b[22m\u001b[39m\t\u001b[0mrdi\u001b[0m, \u001b[95mqword\u001b[39m \u001b[95mptr\u001b[39m \u001b[33m[\u001b[39m\u001b[0mr15 \u001b[0m+ \u001b[33m16\u001b[39m\u001b[33m]\u001b[39m\n",
      "\t\u001b[96m\u001b[1mmovabs\u001b[22m\u001b[39m\t\u001b[0mr14\u001b[0m, \u001b[95moffset\u001b[39m \u001b[93mijl_gc_pool_alloc\u001b[39m\n",
      "\t\u001b[96m\u001b[1mmov\u001b[22m\u001b[39m\t\u001b[0mesi\u001b[0m, \u001b[33m1392\u001b[39m\n",
      "\t\u001b[96m\u001b[1mmov\u001b[22m\u001b[39m\t\u001b[0medx\u001b[0m, \u001b[33m16\u001b[39m\n",
      "\t\u001b[96m\u001b[1mvzeroupper\u001b[22m\u001b[39m\n",
      "\t\u001b[96m\u001b[1mcall\u001b[22m\u001b[39m\t\u001b[0mr14\n",
      "\t\u001b[96m\u001b[1mmov\u001b[22m\u001b[39m\t\u001b[0mrcx\u001b[0m, \u001b[0mr14\n",
      "\t\u001b[96m\u001b[1mmov\u001b[22m\u001b[39m\t\u001b[0mr14\u001b[0m, \u001b[0mrax\n",
      "\t\u001b[96m\u001b[1mmovabs\u001b[22m\u001b[39m\t\u001b[0mr13\u001b[0m, \u001b[33m23455669498256\u001b[39m\n",
      "\t\u001b[96m\u001b[1mmov\u001b[22m\u001b[39m\t\u001b[95mqword\u001b[39m \u001b[95mptr\u001b[39m \u001b[33m[\u001b[39m\u001b[0mrax \u001b[0m- \u001b[33m8\u001b[39m\u001b[33m]\u001b[39m\u001b[0m, \u001b[0mr13\n",
      "\t\u001b[96m\u001b[1mmov\u001b[22m\u001b[39m\t\u001b[95mqword\u001b[39m \u001b[95mptr\u001b[39m \u001b[33m[\u001b[39m\u001b[0mrax\u001b[33m]\u001b[39m\u001b[0m, \u001b[0mrbx\n",
      "\t\u001b[96m\u001b[1mmov\u001b[22m\u001b[39m\t\u001b[95mqword\u001b[39m \u001b[95mptr\u001b[39m \u001b[33m[\u001b[39m\u001b[0mrsp \u001b[0m+ \u001b[33m24\u001b[39m\u001b[33m]\u001b[39m\u001b[0m, \u001b[0mrax\n",
      "\t\u001b[96m\u001b[1mmov\u001b[22m\u001b[39m\t\u001b[0mrdi\u001b[0m, \u001b[95mqword\u001b[39m \u001b[95mptr\u001b[39m \u001b[33m[\u001b[39m\u001b[0mr15 \u001b[0m+ \u001b[33m16\u001b[39m\u001b[33m]\u001b[39m\n",
      "\t\u001b[96m\u001b[1mmov\u001b[22m\u001b[39m\t\u001b[0mesi\u001b[0m, \u001b[33m1392\u001b[39m\n",
      "\t\u001b[96m\u001b[1mmov\u001b[22m\u001b[39m\t\u001b[0medx\u001b[0m, \u001b[33m16\u001b[39m\n",
      "\t\u001b[96m\u001b[1mcall\u001b[22m\u001b[39m\t\u001b[0mrcx\n",
      "\t\u001b[96m\u001b[1mmov\u001b[22m\u001b[39m\t\u001b[95mqword\u001b[39m \u001b[95mptr\u001b[39m \u001b[33m[\u001b[39m\u001b[0mrax \u001b[0m- \u001b[33m8\u001b[39m\u001b[33m]\u001b[39m\u001b[0m, \u001b[0mr13\n",
      "\t\u001b[96m\u001b[1mmov\u001b[22m\u001b[39m\t\u001b[95mqword\u001b[39m \u001b[95mptr\u001b[39m \u001b[33m[\u001b[39m\u001b[0mrax\u001b[33m]\u001b[39m\u001b[0m, \u001b[0mr12\n",
      "\t\u001b[96m\u001b[1mmov\u001b[22m\u001b[39m\t\u001b[95mqword\u001b[39m \u001b[95mptr\u001b[39m \u001b[33m[\u001b[39m\u001b[0mrsp \u001b[0m+ \u001b[33m16\u001b[39m\u001b[33m]\u001b[39m\u001b[0m, \u001b[0mrax\n",
      "\t\u001b[96m\u001b[1mmovabs\u001b[22m\u001b[39m\t\u001b[0mrcx\u001b[0m, \u001b[33m23455668572512\u001b[39m\n",
      "\t\u001b[96m\u001b[1mmov\u001b[22m\u001b[39m\t\u001b[95mqword\u001b[39m \u001b[95mptr\u001b[39m \u001b[33m[\u001b[39m\u001b[0mrsp \u001b[0m+ \u001b[33m48\u001b[39m\u001b[33m]\u001b[39m\u001b[0m, \u001b[0mrcx\n",
      "\t\u001b[96m\u001b[1mmov\u001b[22m\u001b[39m\t\u001b[95mqword\u001b[39m \u001b[95mptr\u001b[39m \u001b[33m[\u001b[39m\u001b[0mrsp \u001b[0m+ \u001b[33m56\u001b[39m\u001b[33m]\u001b[39m\u001b[0m, \u001b[0mr14\n",
      "\t\u001b[96m\u001b[1mmov\u001b[22m\u001b[39m\t\u001b[95mqword\u001b[39m \u001b[95mptr\u001b[39m \u001b[33m[\u001b[39m\u001b[0mrsp \u001b[0m+ \u001b[33m64\u001b[39m\u001b[33m]\u001b[39m\u001b[0m, \u001b[0mrax\n",
      "\t\u001b[96m\u001b[1mmovabs\u001b[22m\u001b[39m\t\u001b[0mrax\u001b[0m, \u001b[95moffset\u001b[39m \u001b[93mj1_throw_eachindex_mismatch_indices_6180\u001b[39m\n",
      "\t\u001b[96m\u001b[1mmovabs\u001b[22m\u001b[39m\t\u001b[0mrdi\u001b[0m, \u001b[33m23455738991632\u001b[39m\n",
      "\t\u001b[96m\u001b[1mlea\u001b[22m\u001b[39m\t\u001b[0mrsi\u001b[0m, \u001b[33m[\u001b[39m\u001b[0mrsp \u001b[0m+ \u001b[33m48\u001b[39m\u001b[33m]\u001b[39m\n",
      "\t\u001b[96m\u001b[1mmov\u001b[22m\u001b[39m\t\u001b[0medx\u001b[0m, \u001b[33m3\u001b[39m\n",
      "\t\u001b[96m\u001b[1mcall\u001b[22m\u001b[39m\t\u001b[0mrax\n",
      "\t\u001b[96m\u001b[1mud2\u001b[22m\u001b[39m\n",
      "\u001b[91m.Lfunc_end0:\u001b[39m\n",
      "\t\u001b[0m.size\t\u001b[0mjulia_vector_dot_6178\u001b[0m, \u001b[0m.Lfunc_end0-julia_vector_dot_6178\n",
      "\t\u001b[0m.cfi_endproc\n",
      "                                        \u001b[90m# -- End function\u001b[39m\n",
      "\t\u001b[0m.section\t\u001b[0m\".note.GNU-stack\"\u001b[0m,\u001b[0m\"\"\u001b[0m,\u001b[0m@progbits\n"
     ]
    }
   ],
   "source": [
    "@code_native debuginfo=:none syntax=:intel vector_dot(B, C)"
   ]
  },
  {
   "cell_type": "markdown",
   "metadata": {},
   "source": [
    "Note the `vaddsd` instruction and usage of `xmmi` registers (128 bit)."
   ]
  },
  {
   "cell_type": "markdown",
   "metadata": {},
   "source": [
    "How could this loop be vectorized?"
   ]
  },
  {
   "cell_type": "code",
   "execution_count": 71,
   "metadata": {},
   "outputs": [
    {
     "data": {
      "text/plain": [
       "vector_dot_unrolled4 (generic function with 1 method)"
      ]
     },
     "metadata": {},
     "output_type": "display_data"
    }
   ],
   "source": [
    "function vector_dot_unrolled4(B, C)\n",
    "    a1 = zero(eltype(B))\n",
    "    a2 = zero(eltype(B))\n",
    "    a3 = zero(eltype(B))\n",
    "    a4 = zero(eltype(B))\n",
    "    @inbounds for i in 1:4:length(B)-4\n",
    "        a1 += B[i] * C[i]\n",
    "        a2 += B[i+1] * C[i+1]\n",
    "        a3 += B[i+2] * C[i+2]\n",
    "        a4 += B[i+3] * C[i+3]\n",
    "    end\n",
    "    return a1+a2+a3+a4\n",
    "end"
   ]
  },
  {
   "cell_type": "code",
   "execution_count": 72,
   "metadata": {},
   "outputs": [
    {
     "name": "stdout",
     "output_type": "stream",
     "text": [
      "\t\u001b[0m.text\n",
      "\t\u001b[0m.file\t\u001b[0m\"vector_dot_unrolled4\"\n",
      "\t\u001b[0m.globl\t\u001b[0mjulia_vector_dot_unrolled4_6202 \u001b[90m# -- Begin function julia_vector_dot_unrolled4_6202\u001b[39m\n",
      "\t\u001b[0m.p2align\t\u001b[33m4\u001b[39m\u001b[0m, \u001b[33m0x90\u001b[39m\n",
      "\t\u001b[0m.type\t\u001b[0mjulia_vector_dot_unrolled4_6202\u001b[0m,\u001b[0m@function\n",
      "\u001b[91mjulia_vector_dot_unrolled4_6202:\u001b[39m        \u001b[90m# @julia_vector_dot_unrolled4_6202\u001b[39m\n",
      "\t\u001b[0m.cfi_startproc\n",
      "\u001b[90m# %bb.0:                                # %top\u001b[39m\n",
      "\t\u001b[96m\u001b[1mpush\u001b[22m\u001b[39m\t\u001b[0mr14\n",
      "\t\u001b[0m.cfi_def_cfa_offset \u001b[33m16\u001b[39m\n",
      "\t\u001b[96m\u001b[1mpush\u001b[22m\u001b[39m\t\u001b[0mrbx\n",
      "\t\u001b[0m.cfi_def_cfa_offset \u001b[33m24\u001b[39m\n",
      "\t\u001b[96m\u001b[1msub\u001b[22m\u001b[39m\t\u001b[0mrsp\u001b[0m, \u001b[33m8\u001b[39m\n",
      "\t\u001b[0m.cfi_def_cfa_offset \u001b[33m32\u001b[39m\n",
      "\t\u001b[0m.cfi_offset \u001b[0mrbx\u001b[0m, \u001b[33m-24\u001b[39m\n",
      "\t\u001b[0m.cfi_offset \u001b[0mr14\u001b[0m, \u001b[33m-16\u001b[39m\n",
      "\t\u001b[96m\u001b[1mmov\u001b[22m\u001b[39m\t\u001b[0mr14\u001b[0m, \u001b[0mrsi\n",
      "\t\u001b[96m\u001b[1mmov\u001b[22m\u001b[39m\t\u001b[0mrbx\u001b[0m, \u001b[0mrdi\n",
      "\t\u001b[96m\u001b[1mmov\u001b[22m\u001b[39m\t\u001b[0mrdx\u001b[0m, \u001b[95mqword\u001b[39m \u001b[95mptr\u001b[39m \u001b[33m[\u001b[39m\u001b[0mrdi \u001b[0m+ \u001b[33m8\u001b[39m\u001b[33m]\u001b[39m\n",
      "\t\u001b[96m\u001b[1madd\u001b[22m\u001b[39m\t\u001b[0mrdx\u001b[0m, \u001b[33m-4\u001b[39m\n",
      "\t\u001b[96m\u001b[1mmovabs\u001b[22m\u001b[39m\t\u001b[0mrax\u001b[0m, \u001b[95moffset\u001b[39m \u001b[93mj_steprange_last_6204\u001b[39m\n",
      "\t\u001b[96m\u001b[1mmov\u001b[22m\u001b[39m\t\u001b[0medi\u001b[0m, \u001b[33m1\u001b[39m\n",
      "\t\u001b[96m\u001b[1mmov\u001b[22m\u001b[39m\t\u001b[0mesi\u001b[0m, \u001b[33m4\u001b[39m\n",
      "\t\u001b[96m\u001b[1mcall\u001b[22m\u001b[39m\t\u001b[0mrax\n",
      "\t\u001b[96m\u001b[1mtest\u001b[22m\u001b[39m\t\u001b[0mrax\u001b[0m, \u001b[0mrax\n",
      "\t\u001b[96m\u001b[1mjle\u001b[22m\u001b[39m\t\u001b[0m.LBB0_1\n",
      "\u001b[90m# %bb.2:                                # %L19.preheader\u001b[39m\n",
      "\t\u001b[96m\u001b[1mmov\u001b[22m\u001b[39m\t\u001b[0mrcx\u001b[0m, \u001b[95mqword\u001b[39m \u001b[95mptr\u001b[39m \u001b[33m[\u001b[39m\u001b[0mrbx\u001b[33m]\u001b[39m\n",
      "\t\u001b[96m\u001b[1mmov\u001b[22m\u001b[39m\t\u001b[0mrdx\u001b[0m, \u001b[95mqword\u001b[39m \u001b[95mptr\u001b[39m \u001b[33m[\u001b[39m\u001b[0mr14\u001b[33m]\u001b[39m\n",
      "\t\u001b[96m\u001b[1madd\u001b[22m\u001b[39m\t\u001b[0mrax\u001b[0m, \u001b[33m3\u001b[39m\n",
      "\t\u001b[96m\u001b[1mvxorpd\u001b[22m\u001b[39m\t\u001b[0mxmm0\u001b[0m, \u001b[0mxmm0\u001b[0m, \u001b[0mxmm0\n",
      "\t\u001b[96m\u001b[1mxor\u001b[22m\u001b[39m\t\u001b[0mesi\u001b[0m, \u001b[0mesi\n",
      "\t\u001b[0m.p2align\t\u001b[33m4\u001b[39m\u001b[0m, \u001b[33m0x90\u001b[39m\n",
      "\u001b[91m.LBB0_3:\u001b[39m                                \u001b[90m# %L19\u001b[39m\n",
      "                                        \u001b[90m# =>This Inner Loop Header: Depth=1\u001b[39m\n",
      "\t\u001b[96m\u001b[1mvmovupd\u001b[22m\u001b[39m\t\u001b[0mymm1\u001b[0m, \u001b[95mymmword\u001b[39m \u001b[95mptr\u001b[39m \u001b[33m[\u001b[39m\u001b[0mrcx \u001b[0m+ \u001b[33m8\u001b[39m\u001b[0m*\u001b[0mrsi\u001b[33m]\u001b[39m\n",
      "\t\u001b[96m\u001b[1mvmulpd\u001b[22m\u001b[39m\t\u001b[0mymm1\u001b[0m, \u001b[0mymm1\u001b[0m, \u001b[95mymmword\u001b[39m \u001b[95mptr\u001b[39m \u001b[33m[\u001b[39m\u001b[0mrdx \u001b[0m+ \u001b[33m8\u001b[39m\u001b[0m*\u001b[0mrsi\u001b[33m]\u001b[39m\n",
      "\t\u001b[96m\u001b[1mvaddpd\u001b[22m\u001b[39m\t\u001b[0mymm0\u001b[0m, \u001b[0mymm0\u001b[0m, \u001b[0mymm1\n",
      "\t\u001b[96m\u001b[1madd\u001b[22m\u001b[39m\t\u001b[0mrsi\u001b[0m, \u001b[33m4\u001b[39m\n",
      "\t\u001b[96m\u001b[1mcmp\u001b[22m\u001b[39m\t\u001b[0mrax\u001b[0m, \u001b[0mrsi\n",
      "\t\u001b[96m\u001b[1mjne\u001b[22m\u001b[39m\t\u001b[0m.LBB0_3\n",
      "\t\u001b[96m\u001b[1mjmp\u001b[22m\u001b[39m\t\u001b[0m.LBB0_4\n",
      "\u001b[91m.LBB0_1:\u001b[39m\n",
      "\t\u001b[96m\u001b[1mvxorpd\u001b[22m\u001b[39m\t\u001b[0mxmm0\u001b[0m, \u001b[0mxmm0\u001b[0m, \u001b[0mxmm0\n",
      "\u001b[91m.LBB0_4:\u001b[39m                                \u001b[90m# %L60\u001b[39m\n",
      "\t\u001b[96m\u001b[1mvpermilpd\u001b[22m\u001b[39m\t\u001b[0mxmm1\u001b[0m, \u001b[0mxmm0\u001b[0m, \u001b[33m1\u001b[39m           \u001b[90m# xmm1 = xmm0[1,0]\u001b[39m\n",
      "\t\u001b[96m\u001b[1mvaddsd\u001b[22m\u001b[39m\t\u001b[0mxmm1\u001b[0m, \u001b[0mxmm1\u001b[0m, \u001b[0mxmm0\n",
      "\t\u001b[96m\u001b[1mvextractf128\u001b[22m\u001b[39m\t\u001b[0mxmm0\u001b[0m, \u001b[0mymm0\u001b[0m, \u001b[33m1\u001b[39m\n",
      "\t\u001b[96m\u001b[1mvaddsd\u001b[22m\u001b[39m\t\u001b[0mxmm1\u001b[0m, \u001b[0mxmm0\u001b[0m, \u001b[0mxmm1\n",
      "\t\u001b[96m\u001b[1mvpermilpd\u001b[22m\u001b[39m\t\u001b[0mxmm0\u001b[0m, \u001b[0mxmm0\u001b[0m, \u001b[33m1\u001b[39m           \u001b[90m# xmm0 = xmm0[1,0]\u001b[39m\n",
      "\t\u001b[96m\u001b[1mvaddsd\u001b[22m\u001b[39m\t\u001b[0mxmm0\u001b[0m, \u001b[0mxmm0\u001b[0m, \u001b[0mxmm1\n",
      "\t\u001b[96m\u001b[1madd\u001b[22m\u001b[39m\t\u001b[0mrsp\u001b[0m, \u001b[33m8\u001b[39m\n",
      "\t\u001b[0m.cfi_def_cfa_offset \u001b[33m24\u001b[39m\n",
      "\t\u001b[96m\u001b[1mpop\u001b[22m\u001b[39m\t\u001b[0mrbx\n",
      "\t\u001b[0m.cfi_def_cfa_offset \u001b[33m16\u001b[39m\n",
      "\t\u001b[96m\u001b[1mpop\u001b[22m\u001b[39m\t\u001b[0mr14\n",
      "\t\u001b[0m.cfi_def_cfa_offset \u001b[33m8\u001b[39m\n",
      "\t\u001b[96m\u001b[1mvzeroupper\u001b[22m\u001b[39m\n",
      "\t\u001b[96m\u001b[1mret\u001b[22m\u001b[39m\n",
      "\u001b[91m.Lfunc_end0:\u001b[39m\n",
      "\t\u001b[0m.size\t\u001b[0mjulia_vector_dot_unrolled4_6202\u001b[0m, \u001b[0m.Lfunc_end0-julia_vector_dot_unrolled4_6202\n",
      "\t\u001b[0m.cfi_endproc\n",
      "                                        \u001b[90m# -- End function\u001b[39m\n",
      "\t\u001b[0m.section\t\u001b[0m\".note.GNU-stack\"\u001b[0m,\u001b[0m\"\"\u001b[0m,\u001b[0m@progbits\n"
     ]
    }
   ],
   "source": [
    "@code_native debuginfo=:none syntax=:intel vector_dot_unrolled4(B, C)"
   ]
  },
  {
   "cell_type": "code",
   "execution_count": 73,
   "metadata": {},
   "outputs": [
    {
     "name": "stdout",
     "output_type": "stream",
     "text": [
      "  55.521 μs (0 allocations: 0 bytes)\n",
      "  14.395 μs (0 allocations: 0 bytes)\n"
     ]
    }
   ],
   "source": [
    "using BenchmarkTools\n",
    "@btime vector_dot($B, $C);\n",
    "@btime vector_dot_unrolled4($B, $C);"
   ]
  },
  {
   "cell_type": "markdown",
   "metadata": {},
   "source": [
    "To \"force\" automatic SIMD vectorization in Julia, you can use the `@simd` macro."
   ]
  },
  {
   "cell_type": "code",
   "execution_count": 74,
   "metadata": {},
   "outputs": [
    {
     "data": {
      "text/plain": [
       "vector_dot_simd (generic function with 1 method)"
      ]
     },
     "metadata": {},
     "output_type": "display_data"
    }
   ],
   "source": [
    "function vector_dot_simd(B, C)\n",
    "    a = zero(eltype(B))\n",
    "    @simd for i in eachindex(B,C)\n",
    "        @inbounds a += B[i] * C[i]\n",
    "    end\n",
    "    return a\n",
    "end"
   ]
  },
  {
   "cell_type": "markdown",
   "metadata": {},
   "source": [
    "By using the `@simd` macro, we are asserting several properties of the loop:\n",
    "\n",
    "* It is safe to execute iterations in arbitrary or overlapping order, with special consideration for reduction variables.\n",
    "* Floating-point operations on reduction variables can be reordered, possibly causing different results than without `@simd`."
   ]
  },
  {
   "cell_type": "code",
   "execution_count": 75,
   "metadata": {},
   "outputs": [
    {
     "name": "stdout",
     "output_type": "stream",
     "text": [
      "  9.293 μs (0 allocations: 0 bytes)\n"
     ]
    }
   ],
   "source": [
    "@btime vector_dot_simd($B, $C);"
   ]
  },
  {
   "cell_type": "markdown",
   "metadata": {},
   "source": [
    "This is a huge speedup for just a little extra `@simd`!"
   ]
  },
  {
   "cell_type": "code",
   "execution_count": 76,
   "metadata": {},
   "outputs": [
    {
     "name": "stdout",
     "output_type": "stream",
     "text": [
      "\t\u001b[0m.text\n",
      "\t\u001b[0m.file\t\u001b[0m\"vector_dot_simd\"\n",
      "\t\u001b[0m.globl\t\u001b[0mjulia_vector_dot_simd_6281      \u001b[90m# -- Begin function julia_vector_dot_simd_6281\u001b[39m\n",
      "\t\u001b[0m.p2align\t\u001b[33m4\u001b[39m\u001b[0m, \u001b[33m0x90\u001b[39m\n",
      "\t\u001b[0m.type\t\u001b[0mjulia_vector_dot_simd_6281\u001b[0m,\u001b[0m@function\n",
      "\u001b[91mjulia_vector_dot_simd_6281:\u001b[39m             \u001b[90m# @julia_vector_dot_simd_6281\u001b[39m\n",
      "\t\u001b[0m.cfi_startproc\n",
      "\u001b[90m# %bb.0:                                # %top\u001b[39m\n",
      "\t\u001b[96m\u001b[1mpush\u001b[22m\u001b[39m\t\u001b[0mrbp\n",
      "\t\u001b[0m.cfi_def_cfa_offset \u001b[33m16\u001b[39m\n",
      "\t\u001b[0m.cfi_offset \u001b[0mrbp\u001b[0m, \u001b[33m-16\u001b[39m\n",
      "\t\u001b[96m\u001b[1mmov\u001b[22m\u001b[39m\t\u001b[0mrbp\u001b[0m, \u001b[0mrsp\n",
      "\t\u001b[0m.cfi_def_cfa_register \u001b[0mrbp\n",
      "\t\u001b[96m\u001b[1mpush\u001b[22m\u001b[39m\t\u001b[0mr15\n",
      "\t\u001b[96m\u001b[1mpush\u001b[22m\u001b[39m\t\u001b[0mr14\n",
      "\t\u001b[96m\u001b[1mpush\u001b[22m\u001b[39m\t\u001b[0mr13\n",
      "\t\u001b[96m\u001b[1mpush\u001b[22m\u001b[39m\t\u001b[0mr12\n",
      "\t\u001b[96m\u001b[1mpush\u001b[22m\u001b[39m\t\u001b[0mrbx\n",
      "\t\u001b[96m\u001b[1mand\u001b[22m\u001b[39m\t\u001b[0mrsp\u001b[0m, \u001b[33m-32\u001b[39m\n",
      "\t\u001b[96m\u001b[1msub\u001b[22m\u001b[39m\t\u001b[0mrsp\u001b[0m, \u001b[33m96\u001b[39m\n",
      "\t\u001b[0m.cfi_offset \u001b[0mrbx\u001b[0m, \u001b[33m-56\u001b[39m\n",
      "\t\u001b[0m.cfi_offset \u001b[0mr12\u001b[0m, \u001b[33m-48\u001b[39m\n",
      "\t\u001b[0m.cfi_offset \u001b[0mr13\u001b[0m, \u001b[33m-40\u001b[39m\n",
      "\t\u001b[0m.cfi_offset \u001b[0mr14\u001b[0m, \u001b[33m-32\u001b[39m\n",
      "\t\u001b[0m.cfi_offset \u001b[0mr15\u001b[0m, \u001b[33m-24\u001b[39m\n",
      "\t\u001b[96m\u001b[1mvxorpd\u001b[22m\u001b[39m\t\u001b[0mxmm0\u001b[0m, \u001b[0mxmm0\u001b[0m, \u001b[0mxmm0\n",
      "\t\u001b[96m\u001b[1mvmovapd\u001b[22m\u001b[39m\t\u001b[95mymmword\u001b[39m \u001b[95mptr\u001b[39m \u001b[33m[\u001b[39m\u001b[0mrsp\u001b[33m]\u001b[39m\u001b[0m, \u001b[0mymm0\n",
      "\t\u001b[0m#APP\n",
      "\t\u001b[96m\u001b[1mmov\u001b[22m\u001b[39m\t\u001b[0mrax\u001b[0m, \u001b[95mqword\u001b[39m \u001b[95mptr\u001b[39m \u001b[0mfs\u001b[0m:\u001b[33m[\u001b[39m\u001b[33m0\u001b[39m\u001b[33m]\u001b[39m\n",
      "\t\u001b[0m#NO_APP\n",
      "\t\u001b[96m\u001b[1mmov\u001b[22m\u001b[39m\t\u001b[0mr15\u001b[0m, \u001b[95mqword\u001b[39m \u001b[95mptr\u001b[39m \u001b[33m[\u001b[39m\u001b[0mrax \u001b[0m- \u001b[33m8\u001b[39m\u001b[33m]\u001b[39m\n",
      "\t\u001b[96m\u001b[1mmov\u001b[22m\u001b[39m\t\u001b[95mqword\u001b[39m \u001b[95mptr\u001b[39m \u001b[33m[\u001b[39m\u001b[0mrsp\u001b[33m]\u001b[39m\u001b[0m, \u001b[33m8\u001b[39m\n",
      "\t\u001b[96m\u001b[1mmov\u001b[22m\u001b[39m\t\u001b[0mrax\u001b[0m, \u001b[95mqword\u001b[39m \u001b[95mptr\u001b[39m \u001b[33m[\u001b[39m\u001b[0mr15\u001b[33m]\u001b[39m\n",
      "\t\u001b[96m\u001b[1mmov\u001b[22m\u001b[39m\t\u001b[95mqword\u001b[39m \u001b[95mptr\u001b[39m \u001b[33m[\u001b[39m\u001b[0mrsp \u001b[0m+ \u001b[33m8\u001b[39m\u001b[33m]\u001b[39m\u001b[0m, \u001b[0mrax\n",
      "\t\u001b[96m\u001b[1mmov\u001b[22m\u001b[39m\t\u001b[0mrax\u001b[0m, \u001b[0mrsp\n",
      "\t\u001b[96m\u001b[1mmov\u001b[22m\u001b[39m\t\u001b[95mqword\u001b[39m \u001b[95mptr\u001b[39m \u001b[33m[\u001b[39m\u001b[0mr15\u001b[33m]\u001b[39m\u001b[0m, \u001b[0mrax\n",
      "\t\u001b[96m\u001b[1mmov\u001b[22m\u001b[39m\t\u001b[0mrbx\u001b[0m, \u001b[95mqword\u001b[39m \u001b[95mptr\u001b[39m \u001b[33m[\u001b[39m\u001b[0mrdi \u001b[0m+ \u001b[33m8\u001b[39m\u001b[33m]\u001b[39m\n",
      "\t\u001b[96m\u001b[1mmov\u001b[22m\u001b[39m\t\u001b[0mr12\u001b[0m, \u001b[95mqword\u001b[39m \u001b[95mptr\u001b[39m \u001b[33m[\u001b[39m\u001b[0mrsi \u001b[0m+ \u001b[33m8\u001b[39m\u001b[33m]\u001b[39m\n",
      "\t\u001b[96m\u001b[1mcmp\u001b[22m\u001b[39m\t\u001b[0mrbx\u001b[0m, \u001b[0mr12\n",
      "\t\u001b[96m\u001b[1mjne\u001b[22m\u001b[39m\t\u001b[0m.LBB0_10\n",
      "\u001b[90m# %bb.1:                                # %L28\u001b[39m\n",
      "\t\u001b[96m\u001b[1mtest\u001b[22m\u001b[39m\t\u001b[0mrbx\u001b[0m, \u001b[0mrbx\n",
      "\t\u001b[96m\u001b[1mje\u001b[22m\u001b[39m\t\u001b[0m.LBB0_2\n",
      "\u001b[90m# %bb.3:                                # %L35.lr.ph\u001b[39m\n",
      "\t\u001b[96m\u001b[1mmov\u001b[22m\u001b[39m\t\u001b[0mrax\u001b[0m, \u001b[95mqword\u001b[39m \u001b[95mptr\u001b[39m \u001b[33m[\u001b[39m\u001b[0mrdi\u001b[33m]\u001b[39m\n",
      "\t\u001b[96m\u001b[1mmov\u001b[22m\u001b[39m\t\u001b[0mrcx\u001b[0m, \u001b[95mqword\u001b[39m \u001b[95mptr\u001b[39m \u001b[33m[\u001b[39m\u001b[0mrsi\u001b[33m]\u001b[39m\n",
      "\t\u001b[96m\u001b[1mcmp\u001b[22m\u001b[39m\t\u001b[0mrbx\u001b[0m, \u001b[33m16\u001b[39m\n",
      "\t\u001b[96m\u001b[1mjae\u001b[22m\u001b[39m\t\u001b[0m.LBB0_5\n",
      "\u001b[90m# %bb.4:\u001b[39m\n",
      "\t\u001b[96m\u001b[1mvxorpd\u001b[22m\u001b[39m\t\u001b[0mxmm0\u001b[0m, \u001b[0mxmm0\u001b[0m, \u001b[0mxmm0\n",
      "\t\u001b[96m\u001b[1mxor\u001b[22m\u001b[39m\t\u001b[0medx\u001b[0m, \u001b[0medx\n",
      "\t\u001b[96m\u001b[1mjmp\u001b[22m\u001b[39m\t\u001b[0m.LBB0_8\n",
      "\u001b[91m.LBB0_2:\u001b[39m\n",
      "\t\u001b[96m\u001b[1mvxorpd\u001b[22m\u001b[39m\t\u001b[0mxmm0\u001b[0m, \u001b[0mxmm0\u001b[0m, \u001b[0mxmm0\n",
      "\t\u001b[96m\u001b[1mjmp\u001b[22m\u001b[39m\t\u001b[0m.LBB0_9\n",
      "\u001b[91m.LBB0_5:\u001b[39m                                \u001b[90m# %vector.ph\u001b[39m\n",
      "\t\u001b[96m\u001b[1mmov\u001b[22m\u001b[39m\t\u001b[0mrdx\u001b[0m, \u001b[0mrbx\n",
      "\t\u001b[96m\u001b[1mand\u001b[22m\u001b[39m\t\u001b[0mrdx\u001b[0m, \u001b[33m-16\u001b[39m\n",
      "\t\u001b[96m\u001b[1mvxorpd\u001b[22m\u001b[39m\t\u001b[0mxmm0\u001b[0m, \u001b[0mxmm0\u001b[0m, \u001b[0mxmm0\n",
      "\t\u001b[96m\u001b[1mxor\u001b[22m\u001b[39m\t\u001b[0mesi\u001b[0m, \u001b[0mesi\n",
      "\t\u001b[96m\u001b[1mvxorpd\u001b[22m\u001b[39m\t\u001b[0mxmm1\u001b[0m, \u001b[0mxmm1\u001b[0m, \u001b[0mxmm1\n",
      "\t\u001b[96m\u001b[1mvxorpd\u001b[22m\u001b[39m\t\u001b[0mxmm2\u001b[0m, \u001b[0mxmm2\u001b[0m, \u001b[0mxmm2\n",
      "\t\u001b[96m\u001b[1mvxorpd\u001b[22m\u001b[39m\t\u001b[0mxmm3\u001b[0m, \u001b[0mxmm3\u001b[0m, \u001b[0mxmm3\n",
      "\t\u001b[0m.p2align\t\u001b[33m4\u001b[39m\u001b[0m, \u001b[33m0x90\u001b[39m\n",
      "\u001b[91m.LBB0_6:\u001b[39m                                \u001b[90m# %vector.body\u001b[39m\n",
      "                                        \u001b[90m# =>This Inner Loop Header: Depth=1\u001b[39m\n",
      "\t\u001b[96m\u001b[1mvmovupd\u001b[22m\u001b[39m\t\u001b[0mymm4\u001b[0m, \u001b[95mymmword\u001b[39m \u001b[95mptr\u001b[39m \u001b[33m[\u001b[39m\u001b[0mrax \u001b[0m+ \u001b[33m8\u001b[39m\u001b[0m*\u001b[0mrsi\u001b[33m]\u001b[39m\n",
      "\t\u001b[96m\u001b[1mvmovupd\u001b[22m\u001b[39m\t\u001b[0mymm5\u001b[0m, \u001b[95mymmword\u001b[39m \u001b[95mptr\u001b[39m \u001b[33m[\u001b[39m\u001b[0mrax \u001b[0m+ \u001b[33m8\u001b[39m\u001b[0m*\u001b[0mrsi \u001b[0m+ \u001b[33m32\u001b[39m\u001b[33m]\u001b[39m\n",
      "\t\u001b[96m\u001b[1mvmovupd\u001b[22m\u001b[39m\t\u001b[0mymm6\u001b[0m, \u001b[95mymmword\u001b[39m \u001b[95mptr\u001b[39m \u001b[33m[\u001b[39m\u001b[0mrax \u001b[0m+ \u001b[33m8\u001b[39m\u001b[0m*\u001b[0mrsi \u001b[0m+ \u001b[33m64\u001b[39m\u001b[33m]\u001b[39m\n",
      "\t\u001b[96m\u001b[1mvmovupd\u001b[22m\u001b[39m\t\u001b[0mymm7\u001b[0m, \u001b[95mymmword\u001b[39m \u001b[95mptr\u001b[39m \u001b[33m[\u001b[39m\u001b[0mrax \u001b[0m+ \u001b[33m8\u001b[39m\u001b[0m*\u001b[0mrsi \u001b[0m+ \u001b[33m96\u001b[39m\u001b[33m]\u001b[39m\n",
      "\t\u001b[96m\u001b[1mvfmadd231pd\u001b[22m\u001b[39m\t\u001b[0mymm0\u001b[0m, \u001b[0mymm4\u001b[0m, \u001b[95mymmword\u001b[39m \u001b[95mptr\u001b[39m \u001b[33m[\u001b[39m\u001b[0mrcx \u001b[0m+ \u001b[33m8\u001b[39m\u001b[0m*\u001b[0mrsi\u001b[33m]\u001b[39m \u001b[90m# ymm0 = (ymm4 * mem) + ymm0\u001b[39m\n",
      "\t\u001b[96m\u001b[1mvfmadd231pd\u001b[22m\u001b[39m\t\u001b[0mymm1\u001b[0m, \u001b[0mymm5\u001b[0m, \u001b[95mymmword\u001b[39m \u001b[95mptr\u001b[39m \u001b[33m[\u001b[39m\u001b[0mrcx \u001b[0m+ \u001b[33m8\u001b[39m\u001b[0m*\u001b[0mrsi \u001b[0m+ \u001b[33m32\u001b[39m\u001b[33m]\u001b[39m \u001b[90m# ymm1 = (ymm5 * mem) + ymm1\u001b[39m\n",
      "\t\u001b[96m\u001b[1mvfmadd231pd\u001b[22m\u001b[39m\t\u001b[0mymm2\u001b[0m, \u001b[0mymm6\u001b[0m, \u001b[95mymmword\u001b[39m \u001b[95mptr\u001b[39m \u001b[33m[\u001b[39m\u001b[0mrcx \u001b[0m+ \u001b[33m8\u001b[39m\u001b[0m*\u001b[0mrsi \u001b[0m+ \u001b[33m64\u001b[39m\u001b[33m]\u001b[39m \u001b[90m# ymm2 = (ymm6 * mem) + ymm2\u001b[39m\n",
      "\t\u001b[96m\u001b[1mvfmadd231pd\u001b[22m\u001b[39m\t\u001b[0mymm3\u001b[0m, \u001b[0mymm7\u001b[0m, \u001b[95mymmword\u001b[39m \u001b[95mptr\u001b[39m \u001b[33m[\u001b[39m\u001b[0mrcx \u001b[0m+ \u001b[33m8\u001b[39m\u001b[0m*\u001b[0mrsi \u001b[0m+ \u001b[33m96\u001b[39m\u001b[33m]\u001b[39m \u001b[90m# ymm3 = (ymm7 * mem) + ymm3\u001b[39m\n",
      "\t\u001b[96m\u001b[1madd\u001b[22m\u001b[39m\t\u001b[0mrsi\u001b[0m, \u001b[33m16\u001b[39m\n",
      "\t\u001b[96m\u001b[1mcmp\u001b[22m\u001b[39m\t\u001b[0mrdx\u001b[0m, \u001b[0mrsi\n",
      "\t\u001b[96m\u001b[1mjne\u001b[22m\u001b[39m\t\u001b[0m.LBB0_6\n",
      "\u001b[90m# %bb.7:                                # %middle.block\u001b[39m\n",
      "\t\u001b[96m\u001b[1mvaddpd\u001b[22m\u001b[39m\t\u001b[0mymm0\u001b[0m, \u001b[0mymm1\u001b[0m, \u001b[0mymm0\n",
      "\t\u001b[96m\u001b[1mvaddpd\u001b[22m\u001b[39m\t\u001b[0mymm0\u001b[0m, \u001b[0mymm2\u001b[0m, \u001b[0mymm0\n",
      "\t\u001b[96m\u001b[1mvaddpd\u001b[22m\u001b[39m\t\u001b[0mymm0\u001b[0m, \u001b[0mymm3\u001b[0m, \u001b[0mymm0\n",
      "\t\u001b[96m\u001b[1mvextractf128\u001b[22m\u001b[39m\t\u001b[0mxmm1\u001b[0m, \u001b[0mymm0\u001b[0m, \u001b[33m1\u001b[39m\n",
      "\t\u001b[96m\u001b[1mvaddpd\u001b[22m\u001b[39m\t\u001b[0mxmm0\u001b[0m, \u001b[0mxmm0\u001b[0m, \u001b[0mxmm1\n",
      "\t\u001b[96m\u001b[1mvpermilpd\u001b[22m\u001b[39m\t\u001b[0mxmm1\u001b[0m, \u001b[0mxmm0\u001b[0m, \u001b[33m1\u001b[39m           \u001b[90m# xmm1 = xmm0[1,0]\u001b[39m\n",
      "\t\u001b[96m\u001b[1mvaddsd\u001b[22m\u001b[39m\t\u001b[0mxmm0\u001b[0m, \u001b[0mxmm0\u001b[0m, \u001b[0mxmm1\n",
      "\t\u001b[96m\u001b[1mcmp\u001b[22m\u001b[39m\t\u001b[0mrbx\u001b[0m, \u001b[0mrdx\n",
      "\t\u001b[96m\u001b[1mje\u001b[22m\u001b[39m\t\u001b[0m.LBB0_9\n",
      "\t\u001b[0m.p2align\t\u001b[33m4\u001b[39m\u001b[0m, \u001b[33m0x90\u001b[39m\n",
      "\u001b[91m.LBB0_8:\u001b[39m                                \u001b[90m# %L35\u001b[39m\n",
      "                                        \u001b[90m# =>This Inner Loop Header: Depth=1\u001b[39m\n",
      "\t\u001b[96m\u001b[1mvmovsd\u001b[22m\u001b[39m\t\u001b[0mxmm1\u001b[0m, \u001b[95mqword\u001b[39m \u001b[95mptr\u001b[39m \u001b[33m[\u001b[39m\u001b[0mrax \u001b[0m+ \u001b[33m8\u001b[39m\u001b[0m*\u001b[0mrdx\u001b[33m]\u001b[39m   \u001b[90m# xmm1 = mem[0],zero\u001b[39m\n",
      "\t\u001b[96m\u001b[1mvfmadd231sd\u001b[22m\u001b[39m\t\u001b[0mxmm0\u001b[0m, \u001b[0mxmm1\u001b[0m, \u001b[95mqword\u001b[39m \u001b[95mptr\u001b[39m \u001b[33m[\u001b[39m\u001b[0mrcx \u001b[0m+ \u001b[33m8\u001b[39m\u001b[0m*\u001b[0mrdx\u001b[33m]\u001b[39m \u001b[90m# xmm0 = (xmm1 * mem) + xmm0\u001b[39m\n",
      "\t\u001b[96m\u001b[1minc\u001b[22m\u001b[39m\t\u001b[0mrdx\n",
      "\t\u001b[96m\u001b[1mcmp\u001b[22m\u001b[39m\t\u001b[0mrbx\u001b[0m, \u001b[0mrdx\n",
      "\t\u001b[96m\u001b[1mjne\u001b[22m\u001b[39m\t\u001b[0m.LBB0_8\n",
      "\u001b[91m.LBB0_9:\u001b[39m                                \u001b[90m# %L54\u001b[39m\n",
      "\t\u001b[96m\u001b[1mmov\u001b[22m\u001b[39m\t\u001b[0mrax\u001b[0m, \u001b[95mqword\u001b[39m \u001b[95mptr\u001b[39m \u001b[33m[\u001b[39m\u001b[0mrsp \u001b[0m+ \u001b[33m8\u001b[39m\u001b[33m]\u001b[39m\n",
      "\t\u001b[96m\u001b[1mmov\u001b[22m\u001b[39m\t\u001b[95mqword\u001b[39m \u001b[95mptr\u001b[39m \u001b[33m[\u001b[39m\u001b[0mr15\u001b[33m]\u001b[39m\u001b[0m, \u001b[0mrax\n",
      "\t\u001b[96m\u001b[1mlea\u001b[22m\u001b[39m\t\u001b[0mrsp\u001b[0m, \u001b[33m[\u001b[39m\u001b[0mrbp \u001b[0m- \u001b[33m40\u001b[39m\u001b[33m]\u001b[39m\n",
      "\t\u001b[96m\u001b[1mpop\u001b[22m\u001b[39m\t\u001b[0mrbx\n",
      "\t\u001b[96m\u001b[1mpop\u001b[22m\u001b[39m\t\u001b[0mr12\n",
      "\t\u001b[96m\u001b[1mpop\u001b[22m\u001b[39m\t\u001b[0mr13\n",
      "\t\u001b[96m\u001b[1mpop\u001b[22m\u001b[39m\t\u001b[0mr14\n",
      "\t\u001b[96m\u001b[1mpop\u001b[22m\u001b[39m\t\u001b[0mr15\n",
      "\t\u001b[96m\u001b[1mpop\u001b[22m\u001b[39m\t\u001b[0mrbp\n",
      "\t\u001b[0m.cfi_def_cfa \u001b[0mrsp\u001b[0m, \u001b[33m8\u001b[39m\n",
      "\t\u001b[96m\u001b[1mvzeroupper\u001b[22m\u001b[39m\n",
      "\t\u001b[96m\u001b[1mret\u001b[22m\u001b[39m\n",
      "\u001b[91m.LBB0_10:\u001b[39m                               \u001b[90m# %L14\u001b[39m\n",
      "\t\u001b[0m.cfi_def_cfa \u001b[0mrbp\u001b[0m, \u001b[33m16\u001b[39m\n",
      "\t\u001b[96m\u001b[1mmov\u001b[22m\u001b[39m\t\u001b[0mrdi\u001b[0m, \u001b[95mqword\u001b[39m \u001b[95mptr\u001b[39m \u001b[33m[\u001b[39m\u001b[0mr15 \u001b[0m+ \u001b[33m16\u001b[39m\u001b[33m]\u001b[39m\n",
      "\t\u001b[96m\u001b[1mmovabs\u001b[22m\u001b[39m\t\u001b[0mr14\u001b[0m, \u001b[95moffset\u001b[39m \u001b[93mijl_gc_pool_alloc\u001b[39m\n",
      "\t\u001b[96m\u001b[1mmov\u001b[22m\u001b[39m\t\u001b[0mesi\u001b[0m, \u001b[33m1392\u001b[39m\n",
      "\t\u001b[96m\u001b[1mmov\u001b[22m\u001b[39m\t\u001b[0medx\u001b[0m, \u001b[33m16\u001b[39m\n",
      "\t\u001b[96m\u001b[1mvzeroupper\u001b[22m\u001b[39m\n",
      "\t\u001b[96m\u001b[1mcall\u001b[22m\u001b[39m\t\u001b[0mr14\n",
      "\t\u001b[96m\u001b[1mmov\u001b[22m\u001b[39m\t\u001b[0mrcx\u001b[0m, \u001b[0mr14\n",
      "\t\u001b[96m\u001b[1mmov\u001b[22m\u001b[39m\t\u001b[0mr14\u001b[0m, \u001b[0mrax\n",
      "\t\u001b[96m\u001b[1mmovabs\u001b[22m\u001b[39m\t\u001b[0mr13\u001b[0m, \u001b[33m23455669498256\u001b[39m\n",
      "\t\u001b[96m\u001b[1mmov\u001b[22m\u001b[39m\t\u001b[95mqword\u001b[39m \u001b[95mptr\u001b[39m \u001b[33m[\u001b[39m\u001b[0mrax \u001b[0m- \u001b[33m8\u001b[39m\u001b[33m]\u001b[39m\u001b[0m, \u001b[0mr13\n",
      "\t\u001b[96m\u001b[1mmov\u001b[22m\u001b[39m\t\u001b[95mqword\u001b[39m \u001b[95mptr\u001b[39m \u001b[33m[\u001b[39m\u001b[0mrax\u001b[33m]\u001b[39m\u001b[0m, \u001b[0mrbx\n",
      "\t\u001b[96m\u001b[1mmov\u001b[22m\u001b[39m\t\u001b[95mqword\u001b[39m \u001b[95mptr\u001b[39m \u001b[33m[\u001b[39m\u001b[0mrsp \u001b[0m+ \u001b[33m24\u001b[39m\u001b[33m]\u001b[39m\u001b[0m, \u001b[0mrax\n",
      "\t\u001b[96m\u001b[1mmov\u001b[22m\u001b[39m\t\u001b[0mrdi\u001b[0m, \u001b[95mqword\u001b[39m \u001b[95mptr\u001b[39m \u001b[33m[\u001b[39m\u001b[0mr15 \u001b[0m+ \u001b[33m16\u001b[39m\u001b[33m]\u001b[39m\n",
      "\t\u001b[96m\u001b[1mmov\u001b[22m\u001b[39m\t\u001b[0mesi\u001b[0m, \u001b[33m1392\u001b[39m\n",
      "\t\u001b[96m\u001b[1mmov\u001b[22m\u001b[39m\t\u001b[0medx\u001b[0m, \u001b[33m16\u001b[39m\n",
      "\t\u001b[96m\u001b[1mcall\u001b[22m\u001b[39m\t\u001b[0mrcx\n",
      "\t\u001b[96m\u001b[1mmov\u001b[22m\u001b[39m\t\u001b[95mqword\u001b[39m \u001b[95mptr\u001b[39m \u001b[33m[\u001b[39m\u001b[0mrax \u001b[0m- \u001b[33m8\u001b[39m\u001b[33m]\u001b[39m\u001b[0m, \u001b[0mr13\n",
      "\t\u001b[96m\u001b[1mmov\u001b[22m\u001b[39m\t\u001b[95mqword\u001b[39m \u001b[95mptr\u001b[39m \u001b[33m[\u001b[39m\u001b[0mrax\u001b[33m]\u001b[39m\u001b[0m, \u001b[0mr12\n",
      "\t\u001b[96m\u001b[1mmov\u001b[22m\u001b[39m\t\u001b[95mqword\u001b[39m \u001b[95mptr\u001b[39m \u001b[33m[\u001b[39m\u001b[0mrsp \u001b[0m+ \u001b[33m16\u001b[39m\u001b[33m]\u001b[39m\u001b[0m, \u001b[0mrax\n",
      "\t\u001b[96m\u001b[1mmovabs\u001b[22m\u001b[39m\t\u001b[0mrcx\u001b[0m, \u001b[33m23455668572512\u001b[39m\n",
      "\t\u001b[96m\u001b[1mmov\u001b[22m\u001b[39m\t\u001b[95mqword\u001b[39m \u001b[95mptr\u001b[39m \u001b[33m[\u001b[39m\u001b[0mrsp \u001b[0m+ \u001b[33m48\u001b[39m\u001b[33m]\u001b[39m\u001b[0m, \u001b[0mrcx\n",
      "\t\u001b[96m\u001b[1mmov\u001b[22m\u001b[39m\t\u001b[95mqword\u001b[39m \u001b[95mptr\u001b[39m \u001b[33m[\u001b[39m\u001b[0mrsp \u001b[0m+ \u001b[33m56\u001b[39m\u001b[33m]\u001b[39m\u001b[0m, \u001b[0mr14\n",
      "\t\u001b[96m\u001b[1mmov\u001b[22m\u001b[39m\t\u001b[95mqword\u001b[39m \u001b[95mptr\u001b[39m \u001b[33m[\u001b[39m\u001b[0mrsp \u001b[0m+ \u001b[33m64\u001b[39m\u001b[33m]\u001b[39m\u001b[0m, \u001b[0mrax\n",
      "\t\u001b[96m\u001b[1mmovabs\u001b[22m\u001b[39m\t\u001b[0mrax\u001b[0m, \u001b[95moffset\u001b[39m \u001b[93mj1_throw_eachindex_mismatch_indices_6284\u001b[39m\n",
      "\t\u001b[96m\u001b[1mmovabs\u001b[22m\u001b[39m\t\u001b[0mrdi\u001b[0m, \u001b[33m23455738991632\u001b[39m\n",
      "\t\u001b[96m\u001b[1mlea\u001b[22m\u001b[39m\t\u001b[0mrsi\u001b[0m, \u001b[33m[\u001b[39m\u001b[0mrsp \u001b[0m+ \u001b[33m48\u001b[39m\u001b[33m]\u001b[39m\n",
      "\t\u001b[96m\u001b[1mmov\u001b[22m\u001b[39m\t\u001b[0medx\u001b[0m, \u001b[33m3\u001b[39m\n",
      "\t\u001b[96m\u001b[1mcall\u001b[22m\u001b[39m\t\u001b[0mrax\n",
      "\t\u001b[96m\u001b[1mud2\u001b[22m\u001b[39m\n",
      "\u001b[91m.Lfunc_end0:\u001b[39m\n",
      "\t\u001b[0m.size\t\u001b[0mjulia_vector_dot_simd_6281\u001b[0m, \u001b[0m.Lfunc_end0-julia_vector_dot_simd_6281\n",
      "\t\u001b[0m.cfi_endproc\n",
      "                                        \u001b[90m# -- End function\u001b[39m\n",
      "\t\u001b[0m.section\t\u001b[0m\".note.GNU-stack\"\u001b[0m,\u001b[0m\"\"\u001b[0m,\u001b[0m@progbits\n"
     ]
    }
   ],
   "source": [
    "@code_native debuginfo=:none syntax=:intel vector_dot_simd(B, C)"
   ]
  },
  {
   "cell_type": "markdown",
   "metadata": {},
   "source": [
    "Note the `vfmadd231pd` instruction and usage of `ymmi` AVX registers (256 bit)."
   ]
  },
  {
   "cell_type": "markdown",
   "metadata": {},
   "source": [
    "Data types matter:\n",
    "* Floating-point addition is **non-associative** and the order of operations is important.\n",
    "* Integer addition is **associative** and the order of operations has no impact."
   ]
  },
  {
   "cell_type": "markdown",
   "metadata": {},
   "source": [
    "Let's check what happens for `Int64` input."
   ]
  },
  {
   "cell_type": "code",
   "execution_count": 77,
   "metadata": {},
   "outputs": [
    {
     "name": "stdout",
     "output_type": "stream",
     "text": [
      "  11.050 μs (0 allocations: 0 bytes)\n",
      "  11.078 μs (0 allocations: 0 bytes)\n"
     ]
    }
   ],
   "source": [
    "B_int = rand(Int64, SIZE)\n",
    "C_int = rand(Int64, SIZE)\n",
    "@btime vector_dot($B_int, $C_int);\n",
    "@btime vector_dot_simd($B_int, $C_int);"
   ]
  },
  {
   "cell_type": "markdown",
   "metadata": {},
   "source": [
    "As expected, there is no difference between the two variants."
   ]
  },
  {
   "cell_type": "markdown",
   "metadata": {},
   "source": [
    "### SIMD is hard..."
   ]
  },
  {
   "cell_type": "markdown",
   "metadata": {},
   "source": [
    "* Autovectorization is a hard problem (it needs to prove a lot of things about the code!)\n",
    "* Not every code / loop is readily vectorizable\n",
    "  * Keep your loops simple, e.g. avoid conditionals, control flow, and function calls if possible!\n",
    "  * Loop length should be countable up front\n",
    "  * Contiguous data access\n",
    "  * (Align data structures to SIMD width boundary)\n",
    "\n",
    "**Keep it simple!**"
   ]
  },
  {
   "cell_type": "markdown",
   "metadata": {},
   "source": [
    "### [LoopVectorization.jl](https://github.com/JuliaSIMD/LoopVectorization.jl)"
   ]
  },
  {
   "cell_type": "markdown",
   "metadata": {},
   "source": [
    "Think of `@turbo` as a more sophisticated version of `@simd`. Hopefully, these features will at some point just be part of Julia's compiler."
   ]
  },
  {
   "cell_type": "code",
   "execution_count": 79,
   "metadata": {},
   "outputs": [
    {
     "name": "stdout",
     "output_type": "stream",
     "text": [
      "  9.297 μs (0 allocations: 0 bytes)\n",
      "  6.331 μs (0 allocations: 0 bytes)\n"
     ]
    }
   ],
   "source": [
    "using LoopVectorization\n",
    "\n",
    "function vector_dot_turbo(B, C)\n",
    "    a = zero(eltype(B))\n",
    "    @turbo for i in eachindex(B,C)\n",
    "        @inbounds a += B[i] * C[i]\n",
    "    end\n",
    "    return a\n",
    "end\n",
    "\n",
    "@btime vector_dot_simd($B, $C);\n",
    "@btime vector_dot_turbo($B, $C);"
   ]
  },
  {
   "cell_type": "code",
   "execution_count": 80,
   "metadata": {},
   "outputs": [
    {
     "name": "stdout",
     "output_type": "stream",
     "text": [
      "\t\u001b[0m.text\n",
      "\t\u001b[0m.file\t\u001b[0m\"vector_dot_turbo\"\n",
      "\t\u001b[0m.globl\t\u001b[0mjulia_vector_dot_turbo_6512     \u001b[90m# -- Begin function julia_vector_dot_turbo_6512\u001b[39m\n",
      "\t\u001b[0m.p2align\t\u001b[33m4\u001b[39m\u001b[0m, \u001b[33m0x90\u001b[39m\n",
      "\t\u001b[0m.type\t\u001b[0mjulia_vector_dot_turbo_6512\u001b[0m,\u001b[0m@function\n",
      "\u001b[91mjulia_vector_dot_turbo_6512:\u001b[39m            \u001b[90m# @julia_vector_dot_turbo_6512\u001b[39m\n",
      "\t\u001b[0m.cfi_startproc\n",
      "\u001b[90m# %bb.0:                                # %top\u001b[39m\n",
      "\t\u001b[96m\u001b[1mpush\u001b[22m\u001b[39m\t\u001b[0mrbp\n",
      "\t\u001b[0m.cfi_def_cfa_offset \u001b[33m16\u001b[39m\n",
      "\t\u001b[0m.cfi_offset \u001b[0mrbp\u001b[0m, \u001b[33m-16\u001b[39m\n",
      "\t\u001b[96m\u001b[1mmov\u001b[22m\u001b[39m\t\u001b[0mrbp\u001b[0m, \u001b[0mrsp\n",
      "\t\u001b[0m.cfi_def_cfa_register \u001b[0mrbp\n",
      "\t\u001b[96m\u001b[1mpush\u001b[22m\u001b[39m\t\u001b[0mr15\n",
      "\t\u001b[96m\u001b[1mpush\u001b[22m\u001b[39m\t\u001b[0mr14\n",
      "\t\u001b[96m\u001b[1mpush\u001b[22m\u001b[39m\t\u001b[0mr13\n",
      "\t\u001b[96m\u001b[1mpush\u001b[22m\u001b[39m\t\u001b[0mr12\n",
      "\t\u001b[96m\u001b[1mpush\u001b[22m\u001b[39m\t\u001b[0mrbx\n",
      "\t\u001b[96m\u001b[1mand\u001b[22m\u001b[39m\t\u001b[0mrsp\u001b[0m, \u001b[33m-32\u001b[39m\n",
      "\t\u001b[96m\u001b[1msub\u001b[22m\u001b[39m\t\u001b[0mrsp\u001b[0m, \u001b[33m96\u001b[39m\n",
      "\t\u001b[0m.cfi_offset \u001b[0mrbx\u001b[0m, \u001b[33m-56\u001b[39m\n",
      "\t\u001b[0m.cfi_offset \u001b[0mr12\u001b[0m, \u001b[33m-48\u001b[39m\n",
      "\t\u001b[0m.cfi_offset \u001b[0mr13\u001b[0m, \u001b[33m-40\u001b[39m\n",
      "\t\u001b[0m.cfi_offset \u001b[0mr14\u001b[0m, \u001b[33m-32\u001b[39m\n",
      "\t\u001b[0m.cfi_offset \u001b[0mr15\u001b[0m, \u001b[33m-24\u001b[39m\n",
      "\t\u001b[96m\u001b[1mvxorpd\u001b[22m\u001b[39m\t\u001b[0mxmm0\u001b[0m, \u001b[0mxmm0\u001b[0m, \u001b[0mxmm0\n",
      "\t\u001b[96m\u001b[1mvmovapd\u001b[22m\u001b[39m\t\u001b[95mymmword\u001b[39m \u001b[95mptr\u001b[39m \u001b[33m[\u001b[39m\u001b[0mrsp\u001b[33m]\u001b[39m\u001b[0m, \u001b[0mymm0\n",
      "\t\u001b[0m#APP\n",
      "\t\u001b[96m\u001b[1mmov\u001b[22m\u001b[39m\t\u001b[0mrax\u001b[0m, \u001b[95mqword\u001b[39m \u001b[95mptr\u001b[39m \u001b[0mfs\u001b[0m:\u001b[33m[\u001b[39m\u001b[33m0\u001b[39m\u001b[33m]\u001b[39m\n",
      "\t\u001b[0m#NO_APP\n",
      "\t\u001b[96m\u001b[1mmov\u001b[22m\u001b[39m\t\u001b[0mr15\u001b[0m, \u001b[95mqword\u001b[39m \u001b[95mptr\u001b[39m \u001b[33m[\u001b[39m\u001b[0mrax \u001b[0m- \u001b[33m8\u001b[39m\u001b[33m]\u001b[39m\n",
      "\t\u001b[96m\u001b[1mmov\u001b[22m\u001b[39m\t\u001b[95mqword\u001b[39m \u001b[95mptr\u001b[39m \u001b[33m[\u001b[39m\u001b[0mrsp\u001b[33m]\u001b[39m\u001b[0m, \u001b[33m8\u001b[39m\n",
      "\t\u001b[96m\u001b[1mmov\u001b[22m\u001b[39m\t\u001b[0mrax\u001b[0m, \u001b[95mqword\u001b[39m \u001b[95mptr\u001b[39m \u001b[33m[\u001b[39m\u001b[0mr15\u001b[33m]\u001b[39m\n",
      "\t\u001b[96m\u001b[1mmov\u001b[22m\u001b[39m\t\u001b[95mqword\u001b[39m \u001b[95mptr\u001b[39m \u001b[33m[\u001b[39m\u001b[0mrsp \u001b[0m+ \u001b[33m8\u001b[39m\u001b[33m]\u001b[39m\u001b[0m, \u001b[0mrax\n",
      "\t\u001b[96m\u001b[1mmov\u001b[22m\u001b[39m\t\u001b[0mrax\u001b[0m, \u001b[0mrsp\n",
      "\t\u001b[96m\u001b[1mmov\u001b[22m\u001b[39m\t\u001b[95mqword\u001b[39m \u001b[95mptr\u001b[39m \u001b[33m[\u001b[39m\u001b[0mr15\u001b[33m]\u001b[39m\u001b[0m, \u001b[0mrax\n",
      "\t\u001b[96m\u001b[1mmov\u001b[22m\u001b[39m\t\u001b[0mr12\u001b[0m, \u001b[95mqword\u001b[39m \u001b[95mptr\u001b[39m \u001b[33m[\u001b[39m\u001b[0mrdi \u001b[0m+ \u001b[33m8\u001b[39m\u001b[33m]\u001b[39m\n",
      "\t\u001b[96m\u001b[1mmov\u001b[22m\u001b[39m\t\u001b[0mrbx\u001b[0m, \u001b[95mqword\u001b[39m \u001b[95mptr\u001b[39m \u001b[33m[\u001b[39m\u001b[0mrsi \u001b[0m+ \u001b[33m8\u001b[39m\u001b[33m]\u001b[39m\n",
      "\t\u001b[96m\u001b[1mcmp\u001b[22m\u001b[39m\t\u001b[0mr12\u001b[0m, \u001b[0mrbx\n",
      "\t\u001b[96m\u001b[1mjne\u001b[22m\u001b[39m\t\u001b[0m.LBB0_14\n",
      "\u001b[90m# %bb.1:                                # %L32\u001b[39m\n",
      "\t\u001b[96m\u001b[1mmovabs\u001b[22m\u001b[39m\t\u001b[0mrbx\u001b[0m, \u001b[33m9223372036854775776\u001b[39m\n",
      "\t\u001b[96m\u001b[1mmov\u001b[22m\u001b[39m\t\u001b[0mrcx\u001b[0m, \u001b[95mqword\u001b[39m \u001b[95mptr\u001b[39m \u001b[33m[\u001b[39m\u001b[0mrdi\u001b[33m]\u001b[39m\n",
      "\t\u001b[96m\u001b[1mmov\u001b[22m\u001b[39m\t\u001b[0mrax\u001b[0m, \u001b[95mqword\u001b[39m \u001b[95mptr\u001b[39m \u001b[33m[\u001b[39m\u001b[0mrsi\u001b[33m]\u001b[39m\n",
      "\t\u001b[96m\u001b[1mcmp\u001b[22m\u001b[39m\t\u001b[0mr12\u001b[0m, \u001b[33m32\u001b[39m\n",
      "\t\u001b[96m\u001b[1mja\u001b[22m\u001b[39m\t\u001b[0m.LBB0_4\n",
      "\u001b[90m# %bb.2:                                # %L32\u001b[39m\n",
      "\t\u001b[96m\u001b[1mlea\u001b[22m\u001b[39m\t\u001b[0mrdx\u001b[0m, \u001b[33m[\u001b[39m\u001b[0mr12 \u001b[0m- \u001b[33m1\u001b[39m\u001b[33m]\u001b[39m\n",
      "\t\u001b[96m\u001b[1mcmp\u001b[22m\u001b[39m\t\u001b[0mrdx\u001b[0m, \u001b[33m31\u001b[39m\n",
      "\t\u001b[96m\u001b[1mje\u001b[22m\u001b[39m\t\u001b[0m.LBB0_4\n",
      "\u001b[90m# %bb.3:\u001b[39m\n",
      "\t\u001b[96m\u001b[1mxor\u001b[22m\u001b[39m\t\u001b[0medx\u001b[0m, \u001b[0medx\n",
      "\t\u001b[96m\u001b[1mvxorpd\u001b[22m\u001b[39m\t\u001b[0mxmm0\u001b[0m, \u001b[0mxmm0\u001b[0m, \u001b[0mxmm0\n",
      "\t\u001b[96m\u001b[1mvxorpd\u001b[22m\u001b[39m\t\u001b[0mxmm1\u001b[0m, \u001b[0mxmm1\u001b[0m, \u001b[0mxmm1\n",
      "\t\u001b[96m\u001b[1mjmp\u001b[22m\u001b[39m\t\u001b[0m.LBB0_7\n",
      "\u001b[91m.LBB0_4:\u001b[39m                                \u001b[90m# %L48.preheader\u001b[39m\n",
      "\t\u001b[96m\u001b[1mmov\u001b[22m\u001b[39m\t\u001b[0mrdx\u001b[0m, \u001b[0mr12\n",
      "\t\u001b[96m\u001b[1mand\u001b[22m\u001b[39m\t\u001b[0mrdx\u001b[0m, \u001b[0mrbx\n",
      "\t\u001b[96m\u001b[1mvxorpd\u001b[22m\u001b[39m\t\u001b[0mxmm1\u001b[0m, \u001b[0mxmm1\u001b[0m, \u001b[0mxmm1\n",
      "\t\u001b[96m\u001b[1mxor\u001b[22m\u001b[39m\t\u001b[0mesi\u001b[0m, \u001b[0mesi\n",
      "\t\u001b[96m\u001b[1mvxorpd\u001b[22m\u001b[39m\t\u001b[0mxmm0\u001b[0m, \u001b[0mxmm0\u001b[0m, \u001b[0mxmm0\n",
      "\t\u001b[96m\u001b[1mvxorpd\u001b[22m\u001b[39m\t\u001b[0mxmm2\u001b[0m, \u001b[0mxmm2\u001b[0m, \u001b[0mxmm2\n",
      "\t\u001b[96m\u001b[1mvxorpd\u001b[22m\u001b[39m\t\u001b[0mxmm3\u001b[0m, \u001b[0mxmm3\u001b[0m, \u001b[0mxmm3\n",
      "\t\u001b[0m.p2align\t\u001b[33m4\u001b[39m\u001b[0m, \u001b[33m0x90\u001b[39m\n",
      "\u001b[91m.LBB0_5:\u001b[39m                                \u001b[90m# %L59\u001b[39m\n",
      "                                        \u001b[90m# =>This Inner Loop Header: Depth=1\u001b[39m\n",
      "\t\u001b[96m\u001b[1mvmovupd\u001b[22m\u001b[39m\t\u001b[0mzmm4\u001b[0m, \u001b[95mzmmword\u001b[39m \u001b[95mptr\u001b[39m \u001b[33m[\u001b[39m\u001b[0mrcx \u001b[0m+ \u001b[33m8\u001b[39m\u001b[0m*\u001b[0mrsi\u001b[33m]\u001b[39m\n",
      "\t\u001b[96m\u001b[1mvmovupd\u001b[22m\u001b[39m\t\u001b[0mzmm5\u001b[0m, \u001b[95mzmmword\u001b[39m \u001b[95mptr\u001b[39m \u001b[33m[\u001b[39m\u001b[0mrcx \u001b[0m+ \u001b[33m8\u001b[39m\u001b[0m*\u001b[0mrsi \u001b[0m+ \u001b[33m64\u001b[39m\u001b[33m]\u001b[39m\n",
      "\t\u001b[96m\u001b[1mvmovupd\u001b[22m\u001b[39m\t\u001b[0mzmm6\u001b[0m, \u001b[95mzmmword\u001b[39m \u001b[95mptr\u001b[39m \u001b[33m[\u001b[39m\u001b[0mrcx \u001b[0m+ \u001b[33m8\u001b[39m\u001b[0m*\u001b[0mrsi \u001b[0m+ \u001b[33m128\u001b[39m\u001b[33m]\u001b[39m\n",
      "\t\u001b[96m\u001b[1mvmovupd\u001b[22m\u001b[39m\t\u001b[0mzmm7\u001b[0m, \u001b[95mzmmword\u001b[39m \u001b[95mptr\u001b[39m \u001b[33m[\u001b[39m\u001b[0mrcx \u001b[0m+ \u001b[33m8\u001b[39m\u001b[0m*\u001b[0mrsi \u001b[0m+ \u001b[33m192\u001b[39m\u001b[33m]\u001b[39m\n",
      "\t\u001b[96m\u001b[1mvfmadd231pd\u001b[22m\u001b[39m\t\u001b[0mzmm3\u001b[0m, \u001b[0mzmm4\u001b[0m, \u001b[95mzmmword\u001b[39m \u001b[95mptr\u001b[39m \u001b[33m[\u001b[39m\u001b[0mrax \u001b[0m+ \u001b[33m8\u001b[39m\u001b[0m*\u001b[0mrsi\u001b[33m]\u001b[39m \u001b[90m# zmm3 = (zmm4 * mem) + zmm3\u001b[39m\n",
      "\t\u001b[96m\u001b[1mvfmadd231pd\u001b[22m\u001b[39m\t\u001b[0mzmm2\u001b[0m, \u001b[0mzmm5\u001b[0m, \u001b[95mzmmword\u001b[39m \u001b[95mptr\u001b[39m \u001b[33m[\u001b[39m\u001b[0mrax \u001b[0m+ \u001b[33m8\u001b[39m\u001b[0m*\u001b[0mrsi \u001b[0m+ \u001b[33m64\u001b[39m\u001b[33m]\u001b[39m \u001b[90m# zmm2 = (zmm5 * mem) + zmm2\u001b[39m\n",
      "\t\u001b[96m\u001b[1mvfmadd231pd\u001b[22m\u001b[39m\t\u001b[0mzmm0\u001b[0m, \u001b[0mzmm6\u001b[0m, \u001b[95mzmmword\u001b[39m \u001b[95mptr\u001b[39m \u001b[33m[\u001b[39m\u001b[0mrax \u001b[0m+ \u001b[33m8\u001b[39m\u001b[0m*\u001b[0mrsi \u001b[0m+ \u001b[33m128\u001b[39m\u001b[33m]\u001b[39m \u001b[90m# zmm0 = (zmm6 * mem) + zmm0\u001b[39m\n",
      "\t\u001b[96m\u001b[1mvfmadd231pd\u001b[22m\u001b[39m\t\u001b[0mzmm1\u001b[0m, \u001b[0mzmm7\u001b[0m, \u001b[95mzmmword\u001b[39m \u001b[95mptr\u001b[39m \u001b[33m[\u001b[39m\u001b[0mrax \u001b[0m+ \u001b[33m8\u001b[39m\u001b[0m*\u001b[0mrsi \u001b[0m+ \u001b[33m192\u001b[39m\u001b[33m]\u001b[39m \u001b[90m# zmm1 = (zmm7 * mem) + zmm1\u001b[39m\n",
      "\t\u001b[96m\u001b[1madd\u001b[22m\u001b[39m\t\u001b[0mrsi\u001b[0m, \u001b[33m32\u001b[39m\n",
      "\t\u001b[96m\u001b[1mcmp\u001b[22m\u001b[39m\t\u001b[0mrdx\u001b[0m, \u001b[0mrsi\n",
      "\t\u001b[96m\u001b[1mjne\u001b[22m\u001b[39m\t\u001b[0m.LBB0_5\n",
      "\u001b[90m# %bb.6:                                # %L78\u001b[39m\n",
      "\t\u001b[96m\u001b[1mvaddpd\u001b[22m\u001b[39m\t\u001b[0mzmm0\u001b[0m, \u001b[0mzmm3\u001b[0m, \u001b[0mzmm0\n",
      "\t\u001b[96m\u001b[1mvaddpd\u001b[22m\u001b[39m\t\u001b[0mzmm1\u001b[0m, \u001b[0mzmm2\u001b[0m, \u001b[0mzmm1\n",
      "\u001b[91m.LBB0_7:\u001b[39m                                \u001b[90m# %L83\u001b[39m\n",
      "\t\u001b[96m\u001b[1madd\u001b[22m\u001b[39m\t\u001b[0mrbx\u001b[0m, \u001b[33m16\u001b[39m\n",
      "\t\u001b[96m\u001b[1mand\u001b[22m\u001b[39m\t\u001b[0mrbx\u001b[0m, \u001b[0mr12\n",
      "\t\u001b[96m\u001b[1mcmp\u001b[22m\u001b[39m\t\u001b[0mrdx\u001b[0m, \u001b[0mrbx\n",
      "\t\u001b[96m\u001b[1mje\u001b[22m\u001b[39m\t\u001b[0m.LBB0_9\n",
      "\u001b[90m# %bb.8:                                # %L98\u001b[39m\n",
      "\t\u001b[96m\u001b[1mvmovupd\u001b[22m\u001b[39m\t\u001b[0mzmm2\u001b[0m, \u001b[95mzmmword\u001b[39m \u001b[95mptr\u001b[39m \u001b[33m[\u001b[39m\u001b[0mrcx \u001b[0m+ \u001b[33m8\u001b[39m\u001b[0m*\u001b[0mrdx\u001b[33m]\u001b[39m\n",
      "\t\u001b[96m\u001b[1mvmovupd\u001b[22m\u001b[39m\t\u001b[0mzmm3\u001b[0m, \u001b[95mzmmword\u001b[39m \u001b[95mptr\u001b[39m \u001b[33m[\u001b[39m\u001b[0mrcx \u001b[0m+ \u001b[33m8\u001b[39m\u001b[0m*\u001b[0mrdx \u001b[0m+ \u001b[33m64\u001b[39m\u001b[33m]\u001b[39m\n",
      "\t\u001b[96m\u001b[1mvfmadd231pd\u001b[22m\u001b[39m\t\u001b[0mzmm0\u001b[0m, \u001b[0mzmm2\u001b[0m, \u001b[95mzmmword\u001b[39m \u001b[95mptr\u001b[39m \u001b[33m[\u001b[39m\u001b[0mrax \u001b[0m+ \u001b[33m8\u001b[39m\u001b[0m*\u001b[0mrdx\u001b[33m]\u001b[39m \u001b[90m# zmm0 = (zmm2 * mem) + zmm0\u001b[39m\n",
      "\t\u001b[96m\u001b[1mvfmadd231pd\u001b[22m\u001b[39m\t\u001b[0mzmm1\u001b[0m, \u001b[0mzmm3\u001b[0m, \u001b[95mzmmword\u001b[39m \u001b[95mptr\u001b[39m \u001b[33m[\u001b[39m\u001b[0mrax \u001b[0m+ \u001b[33m8\u001b[39m\u001b[0m*\u001b[0mrdx \u001b[0m+ \u001b[33m64\u001b[39m\u001b[33m]\u001b[39m \u001b[90m# zmm1 = (zmm3 * mem) + zmm1\u001b[39m\n",
      "\t\u001b[96m\u001b[1mor\u001b[22m\u001b[39m\t\u001b[0mrdx\u001b[0m, \u001b[33m16\u001b[39m\n",
      "\u001b[91m.LBB0_9:\u001b[39m                                \u001b[90m# %L107\u001b[39m\n",
      "\t\u001b[96m\u001b[1mcmp\u001b[22m\u001b[39m\t\u001b[0mrdx\u001b[0m, \u001b[0mr12\n",
      "\t\u001b[96m\u001b[1mjge\u001b[22m\u001b[39m\t\u001b[0m.LBB0_13\n",
      "\u001b[90m# %bb.10:                               # %L118\u001b[39m\n",
      "\t\u001b[96m\u001b[1mmov\u001b[22m\u001b[39m\t\u001b[0mesi\u001b[0m, \u001b[0mr12d\n",
      "\t\u001b[96m\u001b[1mand\u001b[22m\u001b[39m\t\u001b[0mesi\u001b[0m, \u001b[33m7\u001b[39m\n",
      "\t\u001b[96m\u001b[1mmov\u001b[22m\u001b[39m\t\u001b[0medi\u001b[0m, \u001b[33m8\u001b[39m\n",
      "\t\u001b[96m\u001b[1mcmovne\u001b[22m\u001b[39m\t\u001b[0medi\u001b[0m, \u001b[0mesi\n",
      "\t\u001b[96m\u001b[1mmov\u001b[22m\u001b[39m\t\u001b[0mesi\u001b[0m, \u001b[33m-1\u001b[39m\n",
      "\t\u001b[96m\u001b[1mbzhi\u001b[22m\u001b[39m\t\u001b[0mesi\u001b[0m, \u001b[0mesi\u001b[0m, \u001b[0medi\n",
      "\t\u001b[96m\u001b[1madd\u001b[22m\u001b[39m\t\u001b[0mr12\u001b[0m, \u001b[33m-9\u001b[39m\n",
      "\t\u001b[96m\u001b[1mcmp\u001b[22m\u001b[39m\t\u001b[0mr12\u001b[0m, \u001b[0mrdx\n",
      "\t\u001b[96m\u001b[1mjge\u001b[22m\u001b[39m\t\u001b[0m.LBB0_12\n",
      "\u001b[90m# %bb.11:                               # %L129\u001b[39m\n",
      "\t\u001b[96m\u001b[1mkmovd\u001b[22m\u001b[39m\t\u001b[0mk1\u001b[0m, \u001b[0mesi\n",
      "\t\u001b[96m\u001b[1mvmovupd\u001b[22m\u001b[39m\t\u001b[0mzmm2 \u001b[33m{\u001b[39m\u001b[0mk1\u001b[33m}\u001b[39m \u001b[33m{\u001b[39m\u001b[95mz\u001b[39m\u001b[33m}\u001b[39m\u001b[0m, \u001b[95mzmmword\u001b[39m \u001b[95mptr\u001b[39m \u001b[33m[\u001b[39m\u001b[0mrcx \u001b[0m+ \u001b[33m8\u001b[39m\u001b[0m*\u001b[0mrdx\u001b[33m]\u001b[39m\n",
      "\t\u001b[96m\u001b[1mvmovupd\u001b[22m\u001b[39m\t\u001b[0mzmm3 \u001b[33m{\u001b[39m\u001b[0mk1\u001b[33m}\u001b[39m \u001b[33m{\u001b[39m\u001b[95mz\u001b[39m\u001b[33m}\u001b[39m\u001b[0m, \u001b[95mzmmword\u001b[39m \u001b[95mptr\u001b[39m \u001b[33m[\u001b[39m\u001b[0mrax \u001b[0m+ \u001b[33m8\u001b[39m\u001b[0m*\u001b[0mrdx\u001b[33m]\u001b[39m\n",
      "\t\u001b[96m\u001b[1mvfmadd231pd\u001b[22m\u001b[39m\t\u001b[0mzmm0 \u001b[33m{\u001b[39m\u001b[0mk1\u001b[33m}\u001b[39m\u001b[0m, \u001b[0mzmm2\u001b[0m, \u001b[0mzmm3   \u001b[90m# zmm0 {%k1} = (zmm2 * zmm3) + zmm0\u001b[39m\n",
      "\t\u001b[96m\u001b[1mjmp\u001b[22m\u001b[39m\t\u001b[0m.LBB0_13\n",
      "\u001b[91m.LBB0_12:\u001b[39m                               \u001b[90m# %L137\u001b[39m\n",
      "\t\u001b[96m\u001b[1mvmovupd\u001b[22m\u001b[39m\t\u001b[0mzmm2\u001b[0m, \u001b[95mzmmword\u001b[39m \u001b[95mptr\u001b[39m \u001b[33m[\u001b[39m\u001b[0mrcx \u001b[0m+ \u001b[33m8\u001b[39m\u001b[0m*\u001b[0mrdx\u001b[33m]\u001b[39m\n",
      "\t\u001b[96m\u001b[1mkmovd\u001b[22m\u001b[39m\t\u001b[0mk1\u001b[0m, \u001b[0mesi\n",
      "\t\u001b[96m\u001b[1mvmovupd\u001b[22m\u001b[39m\t\u001b[0mzmm3 \u001b[33m{\u001b[39m\u001b[0mk1\u001b[33m}\u001b[39m \u001b[33m{\u001b[39m\u001b[95mz\u001b[39m\u001b[33m}\u001b[39m\u001b[0m, \u001b[95mzmmword\u001b[39m \u001b[95mptr\u001b[39m \u001b[33m[\u001b[39m\u001b[0mrcx \u001b[0m+ \u001b[33m8\u001b[39m\u001b[0m*\u001b[0mrdx \u001b[0m+ \u001b[33m64\u001b[39m\u001b[33m]\u001b[39m\n",
      "\t\u001b[96m\u001b[1mvmovupd\u001b[22m\u001b[39m\t\u001b[0mzmm4 \u001b[33m{\u001b[39m\u001b[0mk1\u001b[33m}\u001b[39m \u001b[33m{\u001b[39m\u001b[95mz\u001b[39m\u001b[33m}\u001b[39m\u001b[0m, \u001b[95mzmmword\u001b[39m \u001b[95mptr\u001b[39m \u001b[33m[\u001b[39m\u001b[0mrax \u001b[0m+ \u001b[33m8\u001b[39m\u001b[0m*\u001b[0mrdx \u001b[0m+ \u001b[33m64\u001b[39m\u001b[33m]\u001b[39m\n",
      "\t\u001b[96m\u001b[1mvfmadd231pd\u001b[22m\u001b[39m\t\u001b[0mzmm0\u001b[0m, \u001b[0mzmm2\u001b[0m, \u001b[95mzmmword\u001b[39m \u001b[95mptr\u001b[39m \u001b[33m[\u001b[39m\u001b[0mrax \u001b[0m+ \u001b[33m8\u001b[39m\u001b[0m*\u001b[0mrdx\u001b[33m]\u001b[39m \u001b[90m# zmm0 = (zmm2 * mem) + zmm0\u001b[39m\n",
      "\t\u001b[96m\u001b[1mvfmadd231pd\u001b[22m\u001b[39m\t\u001b[0mzmm1 \u001b[33m{\u001b[39m\u001b[0mk1\u001b[33m}\u001b[39m\u001b[0m, \u001b[0mzmm3\u001b[0m, \u001b[0mzmm4   \u001b[90m# zmm1 {%k1} = (zmm3 * zmm4) + zmm1\u001b[39m\n",
      "\u001b[91m.LBB0_13:\u001b[39m                               \u001b[90m# %L147\u001b[39m\n",
      "\t\u001b[96m\u001b[1mvaddpd\u001b[22m\u001b[39m\t\u001b[0mzmm0\u001b[0m, \u001b[0mzmm0\u001b[0m, \u001b[0mzmm1\n",
      "\t\u001b[96m\u001b[1mvextractf64x4\u001b[22m\u001b[39m\t\u001b[0mymm1\u001b[0m, \u001b[0mzmm0\u001b[0m, \u001b[33m1\u001b[39m\n",
      "\t\u001b[96m\u001b[1mvaddpd\u001b[22m\u001b[39m\t\u001b[0mzmm0\u001b[0m, \u001b[0mzmm0\u001b[0m, \u001b[0mzmm1\n",
      "\t\u001b[96m\u001b[1mvextractf128\u001b[22m\u001b[39m\t\u001b[0mxmm1\u001b[0m, \u001b[0mymm0\u001b[0m, \u001b[33m1\u001b[39m\n",
      "\t\u001b[96m\u001b[1mvaddpd\u001b[22m\u001b[39m\t\u001b[0mxmm0\u001b[0m, \u001b[0mxmm0\u001b[0m, \u001b[0mxmm1\n",
      "\t\u001b[96m\u001b[1mvpermilpd\u001b[22m\u001b[39m\t\u001b[0mxmm1\u001b[0m, \u001b[0mxmm0\u001b[0m, \u001b[33m1\u001b[39m           \u001b[90m# xmm1 = xmm0[1,0]\u001b[39m\n",
      "\t\u001b[96m\u001b[1mvaddsd\u001b[22m\u001b[39m\t\u001b[0mxmm0\u001b[0m, \u001b[0mxmm0\u001b[0m, \u001b[0mxmm1\n",
      "\t\u001b[96m\u001b[1mmov\u001b[22m\u001b[39m\t\u001b[0mrax\u001b[0m, \u001b[95mqword\u001b[39m \u001b[95mptr\u001b[39m \u001b[33m[\u001b[39m\u001b[0mrsp \u001b[0m+ \u001b[33m8\u001b[39m\u001b[33m]\u001b[39m\n",
      "\t\u001b[96m\u001b[1mmov\u001b[22m\u001b[39m\t\u001b[95mqword\u001b[39m \u001b[95mptr\u001b[39m \u001b[33m[\u001b[39m\u001b[0mr15\u001b[33m]\u001b[39m\u001b[0m, \u001b[0mrax\n",
      "\t\u001b[96m\u001b[1mlea\u001b[22m\u001b[39m\t\u001b[0mrsp\u001b[0m, \u001b[33m[\u001b[39m\u001b[0mrbp \u001b[0m- \u001b[33m40\u001b[39m\u001b[33m]\u001b[39m\n",
      "\t\u001b[96m\u001b[1mpop\u001b[22m\u001b[39m\t\u001b[0mrbx\n",
      "\t\u001b[96m\u001b[1mpop\u001b[22m\u001b[39m\t\u001b[0mr12\n",
      "\t\u001b[96m\u001b[1mpop\u001b[22m\u001b[39m\t\u001b[0mr13\n",
      "\t\u001b[96m\u001b[1mpop\u001b[22m\u001b[39m\t\u001b[0mr14\n",
      "\t\u001b[96m\u001b[1mpop\u001b[22m\u001b[39m\t\u001b[0mr15\n",
      "\t\u001b[96m\u001b[1mpop\u001b[22m\u001b[39m\t\u001b[0mrbp\n",
      "\t\u001b[0m.cfi_def_cfa \u001b[0mrsp\u001b[0m, \u001b[33m8\u001b[39m\n",
      "\t\u001b[96m\u001b[1mvzeroupper\u001b[22m\u001b[39m\n",
      "\t\u001b[96m\u001b[1mret\u001b[22m\u001b[39m\n",
      "\u001b[91m.LBB0_14:\u001b[39m                               \u001b[90m# %L13\u001b[39m\n",
      "\t\u001b[0m.cfi_def_cfa \u001b[0mrbp\u001b[0m, \u001b[33m16\u001b[39m\n",
      "\t\u001b[96m\u001b[1mmov\u001b[22m\u001b[39m\t\u001b[0mrdi\u001b[0m, \u001b[95mqword\u001b[39m \u001b[95mptr\u001b[39m \u001b[33m[\u001b[39m\u001b[0mr15 \u001b[0m+ \u001b[33m16\u001b[39m\u001b[33m]\u001b[39m\n",
      "\t\u001b[96m\u001b[1mmovabs\u001b[22m\u001b[39m\t\u001b[0mr14\u001b[0m, \u001b[95moffset\u001b[39m \u001b[93mijl_gc_pool_alloc\u001b[39m\n",
      "\t\u001b[96m\u001b[1mmov\u001b[22m\u001b[39m\t\u001b[0mesi\u001b[0m, \u001b[33m1392\u001b[39m\n",
      "\t\u001b[96m\u001b[1mmov\u001b[22m\u001b[39m\t\u001b[0medx\u001b[0m, \u001b[33m16\u001b[39m\n",
      "\t\u001b[96m\u001b[1mvzeroupper\u001b[22m\u001b[39m\n",
      "\t\u001b[96m\u001b[1mcall\u001b[22m\u001b[39m\t\u001b[0mr14\n",
      "\t\u001b[96m\u001b[1mmov\u001b[22m\u001b[39m\t\u001b[0mrcx\u001b[0m, \u001b[0mr14\n",
      "\t\u001b[96m\u001b[1mmov\u001b[22m\u001b[39m\t\u001b[0mr14\u001b[0m, \u001b[0mrax\n",
      "\t\u001b[96m\u001b[1mmovabs\u001b[22m\u001b[39m\t\u001b[0mr13\u001b[0m, \u001b[33m23455669498256\u001b[39m\n",
      "\t\u001b[96m\u001b[1mmov\u001b[22m\u001b[39m\t\u001b[95mqword\u001b[39m \u001b[95mptr\u001b[39m \u001b[33m[\u001b[39m\u001b[0mrax \u001b[0m- \u001b[33m8\u001b[39m\u001b[33m]\u001b[39m\u001b[0m, \u001b[0mr13\n",
      "\t\u001b[96m\u001b[1mmov\u001b[22m\u001b[39m\t\u001b[95mqword\u001b[39m \u001b[95mptr\u001b[39m \u001b[33m[\u001b[39m\u001b[0mrax\u001b[33m]\u001b[39m\u001b[0m, \u001b[0mr12\n",
      "\t\u001b[96m\u001b[1mmov\u001b[22m\u001b[39m\t\u001b[95mqword\u001b[39m \u001b[95mptr\u001b[39m \u001b[33m[\u001b[39m\u001b[0mrsp \u001b[0m+ \u001b[33m24\u001b[39m\u001b[33m]\u001b[39m\u001b[0m, \u001b[0mrax\n",
      "\t\u001b[96m\u001b[1mmov\u001b[22m\u001b[39m\t\u001b[0mrdi\u001b[0m, \u001b[95mqword\u001b[39m \u001b[95mptr\u001b[39m \u001b[33m[\u001b[39m\u001b[0mr15 \u001b[0m+ \u001b[33m16\u001b[39m\u001b[33m]\u001b[39m\n",
      "\t\u001b[96m\u001b[1mmov\u001b[22m\u001b[39m\t\u001b[0mesi\u001b[0m, \u001b[33m1392\u001b[39m\n",
      "\t\u001b[96m\u001b[1mmov\u001b[22m\u001b[39m\t\u001b[0medx\u001b[0m, \u001b[33m16\u001b[39m\n",
      "\t\u001b[96m\u001b[1mcall\u001b[22m\u001b[39m\t\u001b[0mrcx\n",
      "\t\u001b[96m\u001b[1mmov\u001b[22m\u001b[39m\t\u001b[95mqword\u001b[39m \u001b[95mptr\u001b[39m \u001b[33m[\u001b[39m\u001b[0mrax \u001b[0m- \u001b[33m8\u001b[39m\u001b[33m]\u001b[39m\u001b[0m, \u001b[0mr13\n",
      "\t\u001b[96m\u001b[1mmov\u001b[22m\u001b[39m\t\u001b[95mqword\u001b[39m \u001b[95mptr\u001b[39m \u001b[33m[\u001b[39m\u001b[0mrax\u001b[33m]\u001b[39m\u001b[0m, \u001b[0mrbx\n",
      "\t\u001b[96m\u001b[1mmov\u001b[22m\u001b[39m\t\u001b[95mqword\u001b[39m \u001b[95mptr\u001b[39m \u001b[33m[\u001b[39m\u001b[0mrsp \u001b[0m+ \u001b[33m16\u001b[39m\u001b[33m]\u001b[39m\u001b[0m, \u001b[0mrax\n",
      "\t\u001b[96m\u001b[1mmovabs\u001b[22m\u001b[39m\t\u001b[0mrcx\u001b[0m, \u001b[33m23455668572512\u001b[39m\n",
      "\t\u001b[96m\u001b[1mmov\u001b[22m\u001b[39m\t\u001b[95mqword\u001b[39m \u001b[95mptr\u001b[39m \u001b[33m[\u001b[39m\u001b[0mrsp \u001b[0m+ \u001b[33m48\u001b[39m\u001b[33m]\u001b[39m\u001b[0m, \u001b[0mrcx\n",
      "\t\u001b[96m\u001b[1mmov\u001b[22m\u001b[39m\t\u001b[95mqword\u001b[39m \u001b[95mptr\u001b[39m \u001b[33m[\u001b[39m\u001b[0mrsp \u001b[0m+ \u001b[33m56\u001b[39m\u001b[33m]\u001b[39m\u001b[0m, \u001b[0mr14\n",
      "\t\u001b[96m\u001b[1mmov\u001b[22m\u001b[39m\t\u001b[95mqword\u001b[39m \u001b[95mptr\u001b[39m \u001b[33m[\u001b[39m\u001b[0mrsp \u001b[0m+ \u001b[33m64\u001b[39m\u001b[33m]\u001b[39m\u001b[0m, \u001b[0mrax\n",
      "\t\u001b[96m\u001b[1mmovabs\u001b[22m\u001b[39m\t\u001b[0mrax\u001b[0m, \u001b[95moffset\u001b[39m \u001b[93mj1_throw_eachindex_mismatch_indices_6568\u001b[39m\n",
      "\t\u001b[96m\u001b[1mmovabs\u001b[22m\u001b[39m\t\u001b[0mrdi\u001b[0m, \u001b[33m23455738991632\u001b[39m\n",
      "\t\u001b[96m\u001b[1mlea\u001b[22m\u001b[39m\t\u001b[0mrsi\u001b[0m, \u001b[33m[\u001b[39m\u001b[0mrsp \u001b[0m+ \u001b[33m48\u001b[39m\u001b[33m]\u001b[39m\n",
      "\t\u001b[96m\u001b[1mmov\u001b[22m\u001b[39m\t\u001b[0medx\u001b[0m, \u001b[33m3\u001b[39m\n",
      "\t\u001b[96m\u001b[1mcall\u001b[22m\u001b[39m\t\u001b[0mrax\n",
      "\t\u001b[96m\u001b[1mud2\u001b[22m\u001b[39m\n",
      "\u001b[91m.Lfunc_end0:\u001b[39m\n",
      "\t\u001b[0m.size\t\u001b[0mjulia_vector_dot_turbo_6512\u001b[0m, \u001b[0m.Lfunc_end0-julia_vector_dot_turbo_6512\n",
      "\t\u001b[0m.cfi_endproc\n",
      "                                        \u001b[90m# -- End function\u001b[39m\n",
      "\t\u001b[0m.section\t\u001b[0m\".note.GNU-stack\"\u001b[0m,\u001b[0m\"\"\u001b[0m,\u001b[0m@progbits\n"
     ]
    }
   ],
   "source": [
    "@code_native debuginfo=:none syntax=:intel vector_dot_turbo(B, C)"
   ]
  },
  {
   "cell_type": "markdown",
   "metadata": {},
   "source": [
    "Note the usage of the `zmmi` AVX512 registers! (512 bit)"
   ]
  },
  {
   "cell_type": "markdown",
   "metadata": {},
   "source": [
    "## Structure of Array vs Array of Structure"
   ]
  },
  {
   "cell_type": "markdown",
   "metadata": {},
   "source": [
    "Data layout can matter!"
   ]
  },
  {
   "cell_type": "code",
   "execution_count": 101,
   "metadata": {},
   "outputs": [
    {
     "data": {
      "text/plain": [
       "51200-element Vector{ComplexF64}:\n",
       "   0.6118049598601762 + 0.8536982158092113im\n",
       "  0.06975145408896988 + 0.6378074534656512im\n",
       "  0.19980319856163942 + 0.713440640999059im\n",
       "  0.10101616584846729 + 0.21614202906466506im\n",
       "   0.7836387038522062 + 0.005947223529423229im\n",
       "    0.388050530478658 + 0.10130749016030716im\n",
       "   0.8089462249702304 + 0.003234986558072195im\n",
       "  0.06950366802448227 + 0.5308309613486356im\n",
       "  0.36566424785573026 + 0.18185495157041853im\n",
       "  0.10350044554804927 + 0.3256597424080613im\n",
       "                      ⋮\n",
       "   0.8828535299141503 + 0.7232214761323134im\n",
       "   0.7340014363483335 + 0.16868353705606975im\n",
       "   0.8485240348220299 + 0.927671845557969im\n",
       "  0.14894152489435653 + 0.13279162350786522im\n",
       "   0.7909127665639123 + 0.6267623351645433im\n",
       " 0.044503651354593665 + 0.91240304867587im\n",
       "    0.255426299323801 + 0.183458989629396im\n",
       "   0.8523984559786467 + 0.11417197997728701im\n",
       "   0.6508067809207818 + 0.3749041127417122im"
      ]
     },
     "metadata": {},
     "output_type": "display_data"
    }
   ],
   "source": [
    "# Array of structure\n",
    "AoS = [complex(rand(),rand()) for i in 1:SIZE]"
   ]
  },
  {
   "cell_type": "code",
   "execution_count": 102,
   "metadata": {},
   "outputs": [
    {
     "name": "stdout",
     "output_type": "stream",
     "text": [
      "  15.833 μs (0 allocations: 0 bytes)\n"
     ]
    }
   ],
   "source": [
    "@btime sum($AoS);"
   ]
  },
  {
   "cell_type": "markdown",
   "metadata": {},
   "source": [
    "### [StructArrays.jl](https://github.com/JuliaArrays/StructArrays.jl)"
   ]
  },
  {
   "cell_type": "code",
   "execution_count": 83,
   "metadata": {},
   "outputs": [],
   "source": [
    "using StructArrays"
   ]
  },
  {
   "cell_type": "code",
   "execution_count": 103,
   "metadata": {},
   "outputs": [
    {
     "data": {
      "text/plain": [
       "51200-element StructArray(::Vector{Float64}, ::Vector{Float64}) with eltype Complex:\n",
       "  0.6752932843739214 + 0.3740534765644722im\n",
       "  0.9133277434458186 + 0.04237138799660711im\n",
       " 0.42766703314137977 + 0.5806069884469464im\n",
       " 0.23846156503652116 + 0.9055620820351987im\n",
       "  0.8758282747071988 + 0.38373308355279556im\n",
       "  0.5102917564236148 + 0.9902329671462641im\n",
       "  0.9406760055730625 + 0.06391341806269157im\n",
       "  0.4605806811378489 + 0.1631384926741708im\n",
       "  0.6513022153930962 + 0.2988130428834155im\n",
       "   0.726751046419119 + 0.5574045066340347im\n",
       "                     ⋮\n",
       " 0.23390987977869948 + 0.6836293205101093im\n",
       "  0.5262189853387025 + 0.20462208709362195im\n",
       " 0.35371784657163474 + 0.8225701898433732im\n",
       "  0.6612915646192037 + 0.32757967013126477im\n",
       " 0.48720720888974056 + 0.8955974530405787im\n",
       "  0.9550500600454312 + 0.15531406346372012im\n",
       "  0.8223482288318515 + 0.06016168340051198im\n",
       "  0.9805717769539437 + 0.1291311284286223im\n",
       "  0.2592282899440891 + 0.6076283714202433im"
      ]
     },
     "metadata": {},
     "output_type": "display_data"
    }
   ],
   "source": [
    "SoA = StructArray{Complex}((rand(SIZE), rand(SIZE)))"
   ]
  },
  {
   "cell_type": "code",
   "execution_count": 104,
   "metadata": {},
   "outputs": [
    {
     "name": "stdout",
     "output_type": "stream",
     "text": [
      "  11.092 μs (0 allocations: 0 bytes)\n"
     ]
    }
   ],
   "source": [
    "@btime sum($SoA);"
   ]
  },
  {
   "cell_type": "markdown",
   "metadata": {},
   "source": [
    "**Resources:**\n",
    "\n",
    "* [LoopVectorization.jl video on youtube](https://www.youtube.com/watch?v=qz2kJdVDWi0)\n",
    "* [SIMD and SIMD-intrinsics in Julia](http://kristofferc.github.io/post/intrinsics/)\n",
    "* [Optimizing Serial Code](https://mitmath.github.io/18337/lecture2/optimizing)"
   ]
  }
 ],
 "metadata": {
  "kernelspec": {
   "display_name": "Julia 1.8.0",
   "language": "julia",
   "name": "julia-1.8"
  },
  "language_info": {
   "file_extension": ".jl",
   "mimetype": "application/julia",
   "name": "julia",
   "version": "1.8.0"
  }
 },
 "nbformat": 4,
 "nbformat_minor": 4
}
