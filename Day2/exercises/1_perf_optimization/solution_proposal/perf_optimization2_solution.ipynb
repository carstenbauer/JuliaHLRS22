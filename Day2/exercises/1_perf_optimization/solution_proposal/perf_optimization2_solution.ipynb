{
 "cells": [
  {
   "cell_type": "markdown",
   "metadata": {},
   "source": [
    "# Exercise: Performance Optimization 2"
   ]
  },
  {
   "cell_type": "markdown",
   "metadata": {},
   "source": [
    "Optimize the following function."
   ]
  },
  {
   "cell_type": "code",
   "execution_count": 2,
   "metadata": {},
   "outputs": [
    {
     "data": {
      "text/plain": [
       "work! (generic function with 1 method)"
      ]
     },
     "metadata": {},
     "output_type": "display_data"
    }
   ],
   "source": [
    "function work!(A, B, v, N)\n",
    "    val = 0\n",
    "    for i in 1:N\n",
    "        for j in 1:N\n",
    "            val = mod(v[i],256);\n",
    "            A[i,j] = B[i,j]*(sin(val)*sin(val)-cos(val)*cos(val));\n",
    "        end\n",
    "    end\n",
    "end"
   ]
  },
  {
   "cell_type": "markdown",
   "metadata": {},
   "source": [
    "The (fixed) input is given by:"
   ]
  },
  {
   "cell_type": "code",
   "execution_count": 3,
   "metadata": {},
   "outputs": [],
   "source": [
    "N = 4000\n",
    "A = zeros(N,N)\n",
    "B = rand(N,N)\n",
    "v = rand(Int, N);\n",
    "\n",
    "work!(A,B,v,N)"
   ]
  },
  {
   "cell_type": "markdown",
   "metadata": {},
   "source": [
    "You can benchmark as follows"
   ]
  },
  {
   "cell_type": "code",
   "execution_count": 4,
   "metadata": {},
   "outputs": [
    {
     "name": "stdout",
     "output_type": "stream",
     "text": [
      "  801.315 ms (0 allocations: 0 bytes)\n"
     ]
    }
   ],
   "source": [
    "using BenchmarkTools\n",
    "@btime work!($A, $B, $v, $N);"
   ]
  },
  {
   "cell_type": "markdown",
   "metadata": {},
   "source": [
    "## Optimizations"
   ]
  },
  {
   "cell_type": "code",
   "execution_count": 1,
   "metadata": {},
   "outputs": [
    {
     "data": {
      "text/plain": [
       "\"ln-0002\""
      ]
     },
     "metadata": {},
     "output_type": "display_data"
    }
   ],
   "source": [
    "gethostname()"
   ]
  },
  {
   "cell_type": "markdown",
   "metadata": {},
   "source": [
    "### Analytic optimization"
   ]
  },
  {
   "cell_type": "code",
   "execution_count": 5,
   "metadata": {},
   "outputs": [
    {
     "data": {
      "text/plain": [
       "\u001b[32m\u001b[1mTest Passed\u001b[22m\u001b[39m"
      ]
     },
     "metadata": {},
     "output_type": "display_data"
    }
   ],
   "source": [
    "using Test\n",
    "x = rand()\n",
    "@test 1-2*cos(x)*cos(x) ≈ sin(x)*sin(x)-cos(x)*cos(x)\n",
    "@test -cos(2*x) ≈ sin(x)*sin(x)-cos(x)*cos(x)"
   ]
  },
  {
   "cell_type": "code",
   "execution_count": 6,
   "metadata": {},
   "outputs": [
    {
     "name": "stdout",
     "output_type": "stream",
     "text": [
      "  342.049 ms (0 allocations: 0 bytes)\n"
     ]
    }
   ],
   "source": [
    "function work2!(A, B, v, N)\n",
    "    val = 0\n",
    "    for i in 1:N\n",
    "        for j in 1:N\n",
    "            val = mod(v[i],256);\n",
    "            A[i,j] = B[i,j]*(-cos(2*val));\n",
    "        end\n",
    "    end\n",
    "end\n",
    "\n",
    "@btime work2!($A, $B, $v, $N);"
   ]
  },
  {
   "cell_type": "markdown",
   "metadata": {},
   "source": [
    "### Analytic + pulling out val computation"
   ]
  },
  {
   "cell_type": "code",
   "execution_count": 7,
   "metadata": {},
   "outputs": [
    {
     "name": "stdout",
     "output_type": "stream",
     "text": [
      "  148.668 ms (0 allocations: 0 bytes)\n"
     ]
    }
   ],
   "source": [
    "function work3!(A, B, v, N)\n",
    "    val = 0.0\n",
    "    for i in 1:N\n",
    "        val = -cos(2*mod(v[i],256))\n",
    "        for j in 1:N\n",
    "            A[i,j] = B[i,j]*val;\n",
    "        end\n",
    "    end;\n",
    "end\n",
    "\n",
    "@btime work3!($A, $B, $v, $N);"
   ]
  },
  {
   "cell_type": "markdown",
   "metadata": {},
   "source": [
    "### Analytic + separate out val computation"
   ]
  },
  {
   "cell_type": "code",
   "execution_count": 8,
   "metadata": {},
   "outputs": [
    {
     "name": "stdout",
     "output_type": "stream",
     "text": [
      "  149.229 ms (2 allocations: 31.30 KiB)\n"
     ]
    }
   ],
   "source": [
    "function work4!(A, B, v, N)\n",
    "    val = [-cos(2*mod(x,256)) for x in v]\n",
    "    \n",
    "    for i in 1:N\n",
    "        for j in 1:N\n",
    "            A[i,j] = B[i,j]*val[i];\n",
    "        end\n",
    "    end;\n",
    "end\n",
    "\n",
    "@btime work4!($A, $B, $v, $N);"
   ]
  },
  {
   "cell_type": "markdown",
   "metadata": {},
   "source": [
    "### Analytic + separate out val computation + switch order of loops"
   ]
  },
  {
   "cell_type": "code",
   "execution_count": 9,
   "metadata": {},
   "outputs": [
    {
     "name": "stdout",
     "output_type": "stream",
     "text": [
      "  21.587 ms (2 allocations: 31.30 KiB)\n"
     ]
    }
   ],
   "source": [
    "function work5!(A, B, v, N)\n",
    "    val = [-cos(2*mod(x,256)) for x in v]\n",
    "    \n",
    "    for j in 1:N\n",
    "        for i in 1:N\n",
    "            A[i,j] = B[i,j]*val[i];\n",
    "        end\n",
    "    end;\n",
    "end\n",
    "\n",
    "@btime work5!($A, $B, $v, $N);"
   ]
  },
  {
   "cell_type": "markdown",
   "metadata": {},
   "source": [
    "### Analytic + separate out val computation + switch order of loops + `@inbounds`"
   ]
  },
  {
   "cell_type": "code",
   "execution_count": 10,
   "metadata": {},
   "outputs": [
    {
     "name": "stdout",
     "output_type": "stream",
     "text": [
      "  19.629 ms (2 allocations: 31.30 KiB)\n"
     ]
    }
   ],
   "source": [
    "function work6!(A, B, v, N)\n",
    "    val = [-cos(2*mod(x,256)) for x in v]\n",
    "    \n",
    "    @inbounds for j in 1:N\n",
    "        for i in 1:N\n",
    "            A[i,j] = B[i,j]*val[i];\n",
    "        end\n",
    "    end;\n",
    "end\n",
    "\n",
    "@btime work6!($A, $B, $v, $N);"
   ]
  },
  {
   "cell_type": "markdown",
   "metadata": {},
   "source": [
    "### Analytic + separate out val computation + switch order of loops + `@inbounds` + lookup table"
   ]
  },
  {
   "cell_type": "code",
   "execution_count": 11,
   "metadata": {},
   "outputs": [
    {
     "name": "stdout",
     "output_type": "stream",
     "text": [
      "  19.543 ms (2 allocations: 31.30 KiB)\n"
     ]
    }
   ],
   "source": [
    "lookup = [ -cos(2*j) for j in 0:255 ]\n",
    "\n",
    "function work7!(A, B, v, N, lookup)\n",
    "    @inbounds val = [lookup[mod(x,256)+1] for x in v]\n",
    "    \n",
    "    @inbounds for j in 1:N\n",
    "        for i in 1:N\n",
    "            A[i,j] = B[i,j]*val[i];\n",
    "        end\n",
    "    end;\n",
    "end\n",
    "\n",
    "@btime work7!($A, $B, $v, $N, $lookup);"
   ]
  },
  {
   "cell_type": "code",
   "execution_count": 12,
   "metadata": {},
   "outputs": [],
   "source": []
  },
  {
   "cell_type": "code",
   "execution_count": 13,
   "metadata": {},
   "outputs": [],
   "source": []
  },
  {
   "cell_type": "markdown",
   "metadata": {},
   "source": [
    "### Analytic + separate out val computation + switch order of loops + `@inbounds` + Multi-threading"
   ]
  },
  {
   "cell_type": "code",
   "execution_count": 14,
   "metadata": {},
   "outputs": [
    {
     "data": {
      "text/plain": [
       "40"
      ]
     },
     "metadata": {},
     "output_type": "display_data"
    }
   ],
   "source": [
    "using Hwloc\n",
    "Hwloc.num_physical_cores()"
   ]
  },
  {
   "cell_type": "code",
   "execution_count": 15,
   "metadata": {},
   "outputs": [
    {
     "data": {
      "text/plain": [
       "10"
      ]
     },
     "metadata": {},
     "output_type": "display_data"
    }
   ],
   "source": [
    "Base.Threads.nthreads()"
   ]
  },
  {
   "cell_type": "code",
   "execution_count": 16,
   "metadata": {},
   "outputs": [],
   "source": [
    "using ThreadPinning\n",
    "pinthreads(:compact)"
   ]
  },
  {
   "cell_type": "code",
   "execution_count": 17,
   "metadata": {},
   "outputs": [
    {
     "name": "stdout",
     "output_type": "stream",
     "text": [
      "  4.117 ms (63 allocations: 36.73 KiB)\n"
     ]
    }
   ],
   "source": [
    "import Base.Threads: @threads\n",
    "\n",
    "function work6_threaded!(A, B, v, N)\n",
    "    val = [-cos(2*mod(x,256)) for x in v]\n",
    "    \n",
    "    @inbounds @threads for j in 1:N\n",
    "        for i in 1:N\n",
    "            A[i,j] = B[i,j]*val[i];\n",
    "        end\n",
    "    end;\n",
    "end\n",
    "\n",
    "@btime work6_threaded!($A, $B, $v, $N);"
   ]
  },
  {
   "cell_type": "code",
   "execution_count": 18,
   "metadata": {},
   "outputs": [
    {
     "name": "stdout",
     "output_type": "stream",
     "text": [
      "Performance: 3895.011901695742 MIt/s\n"
     ]
    }
   ],
   "source": [
    "runtime = @belapsed work6_threaded!($A, $B, $v, $N);\n",
    "perf = N * N * 1e-6 / runtime # MIt/s\n",
    "println(\"Performance: $perf MIt/s\")"
   ]
  },
  {
   "cell_type": "markdown",
   "metadata": {},
   "source": [
    "## Bonus Question: Performance limit?\n",
    "\n",
    "Look at your final optimized version of `work!`.\n",
    "\n",
    "* What is conceptually limiting the performance? I.e. is the function compute- or memory-bound?\n",
    "* How fast can it \"theoretically\" be? Can you estimate a performance bound?"
   ]
  },
  {
   "cell_type": "code",
   "execution_count": 25,
   "metadata": {},
   "outputs": [
    {
     "name": "stdout",
     "output_type": "stream",
     "text": [
      "╔══╡ Multi-threaded:\n",
      "╠══╡ (10 threads)\n",
      "╟─ COPY:  101507.1 MB/s\n",
      "╟─ SCALE: 99775.6 MB/s\n",
      "╟─ ADD:   101038.2 MB/s\n",
      "╟─ TRIAD: 100720.1 MB/s\n",
      "╟─────────────────────\n",
      "║ Median: 100879.1 MB/s\n",
      "╚═════════════════════\n"
     ]
    },
    {
     "data": {
      "text/plain": [
       "(median = 100879.1, minimum = 99775.6, maximum = 101507.1)"
      ]
     },
     "metadata": {},
     "output_type": "display_data"
    }
   ],
   "source": [
    "using STREAMBenchmark\n",
    "membw = memory_bandwidth(verbose=true, write_allocate=true)"
   ]
  },
  {
   "cell_type": "code",
   "execution_count": 30,
   "metadata": {},
   "outputs": [
    {
     "name": "stdout",
     "output_type": "stream",
     "text": [
      "Memory bounded performance: 4229.46 MIt/s\n",
      "Memory bounded runtime estimate: 3.7829888449116433 ms\n"
     ]
    }
   ],
   "source": [
    "bs = membw.maximum * 1e-3 # [GB/s] max memory bandwidth\n",
    "flops = 1\n",
    "traffic = 3 * 8 # [B/iter] in each iteration\n",
    "\n",
    "I = flops / traffic\n",
    "perf_membound = round(I * bs * 1000, digits=2)\n",
    "runtime_membound = N * N * 1e-6 / perf_membound # in s\n",
    "println(\"Memory bounded performance: \", perf_membound, \" MIt/s\")\n",
    "println(\"Memory bounded runtime estimate: \", runtime_membound * 1e3, \" ms\")"
   ]
  },
  {
   "cell_type": "code",
   "execution_count": 31,
   "metadata": {},
   "outputs": [
    {
     "name": "stdout",
     "output_type": "stream",
     "text": [
      "runtime = 0.004018645\n",
      "runtime_membound = 0.0037829888449116434\n",
      "\n",
      "We achieve about 94.1% of the (practical) memory bound estimate.\n"
     ]
    }
   ],
   "source": [
    "# comparison\n",
    "runtime = @belapsed work6_threaded!($A, $B, $v, $N)\n",
    "@show runtime\n",
    "@show runtime_membound\n",
    "ratio = runtime_membound / runtime\n",
    "println(\"\\nWe achieve about \", round(ratio * 100; digits=1), \"% of the (practical) memory bound estimate.\")"
   ]
  }
 ],
 "metadata": {
  "@webio": {
   "lastCommId": null,
   "lastKernelId": null
  },
  "kernelspec": {
   "display_name": "Julia 1.8.0",
   "language": "julia",
   "name": "julia-1.8"
  },
  "language_info": {
   "file_extension": ".jl",
   "mimetype": "application/julia",
   "name": "julia",
   "version": "1.8.0"
  }
 },
 "nbformat": 4,
 "nbformat_minor": 4
}
