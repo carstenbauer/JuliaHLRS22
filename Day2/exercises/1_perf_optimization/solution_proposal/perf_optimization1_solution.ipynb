{
 "cells": [
  {
   "cell_type": "markdown",
   "metadata": {},
   "source": [
    "# Exercise: Performance Optimization 1"
   ]
  },
  {
   "cell_type": "markdown",
   "metadata": {},
   "source": [
    "Optimize the following code.\n",
    "\n",
    "(The type and size of the input is fixed/may not be changed.)"
   ]
  },
  {
   "cell_type": "code",
   "execution_count": 1,
   "metadata": {},
   "outputs": [],
   "source": [
    "function work!(A, N)\n",
    "    D = zeros(N,N)\n",
    "    for i in 1:N\n",
    "        D = b[i]*c*A\n",
    "        b[i] = sum(D)\n",
    "    end\n",
    "end\n",
    "\n",
    "N = 100\n",
    "A = rand(N,N)\n",
    "b = rand(N)\n",
    "c = 1.23\n",
    "\n",
    "work!(A,N)"
   ]
  },
  {
   "cell_type": "code",
   "execution_count": 2,
   "metadata": {},
   "outputs": [
    {
     "name": "stdout",
     "output_type": "stream",
     "text": [
      "  3.885 ms (402 allocations: 7.71 MiB)\n"
     ]
    }
   ],
   "source": [
    "using BenchmarkTools\n",
    "@btime work!($A, $N);"
   ]
  },
  {
   "cell_type": "markdown",
   "metadata": {},
   "source": [
    "## Optimizations"
   ]
  },
  {
   "cell_type": "markdown",
   "metadata": {},
   "source": [
    "### Avoiding globals"
   ]
  },
  {
   "cell_type": "code",
   "execution_count": 3,
   "metadata": {},
   "outputs": [
    {
     "name": "stdout",
     "output_type": "stream",
     "text": [
      "MethodInstance for work!(::Matrix{Float64}, ::Int64)\n",
      "  from work!(A, N) in Main at In[1]:1\n",
      "Arguments\n",
      "  #self#\u001b[36m::Core.Const(work!)\u001b[39m\n",
      "  A\u001b[36m::Matrix{Float64}\u001b[39m\n",
      "  N\u001b[36m::Int64\u001b[39m\n",
      "Locals\n",
      "  @_4\u001b[33m\u001b[1m::Union{Nothing, Tuple{Int64, Int64}}\u001b[22m\u001b[39m\n",
      "  D\u001b[91m\u001b[1m::Any\u001b[22m\u001b[39m\n",
      "  i\u001b[36m::Int64\u001b[39m\n",
      "Body\u001b[36m::Nothing\u001b[39m\n",
      "\u001b[90m1 ─\u001b[39m       (D = Main.zeros(N, N))\n",
      "\u001b[90m│  \u001b[39m %2  = (1:N)\u001b[36m::Core.PartialStruct(UnitRange{Int64}, Any[Core.Const(1), Int64])\u001b[39m\n",
      "\u001b[90m│  \u001b[39m       (@_4 = Base.iterate(%2))\n",
      "\u001b[90m│  \u001b[39m %4  = (@_4 === nothing)\u001b[36m::Bool\u001b[39m\n",
      "\u001b[90m│  \u001b[39m %5  = Base.not_int(%4)\u001b[36m::Bool\u001b[39m\n",
      "\u001b[90m└──\u001b[39m       goto #4 if not %5\n",
      "\u001b[90m2 ┄\u001b[39m %7  = @_4\u001b[36m::Tuple{Int64, Int64}\u001b[39m\n",
      "\u001b[90m│  \u001b[39m       (i = Core.getfield(%7, 1))\n",
      "\u001b[90m│  \u001b[39m %9  = Core.getfield(%7, 2)\u001b[36m::Int64\u001b[39m\n",
      "\u001b[90m│  \u001b[39m %10 = Base.getindex(Main.b, i)\u001b[91m\u001b[1m::Any\u001b[22m\u001b[39m\n",
      "\u001b[90m│  \u001b[39m       (D = %10 * Main.c * A)\n",
      "\u001b[90m│  \u001b[39m %12 = Main.sum(D)\u001b[91m\u001b[1m::Any\u001b[22m\u001b[39m\n",
      "\u001b[90m│  \u001b[39m       Base.setindex!(Main.b, %12, i)\n",
      "\u001b[90m│  \u001b[39m       (@_4 = Base.iterate(%2, %9))\n",
      "\u001b[90m│  \u001b[39m %15 = (@_4 === nothing)\u001b[36m::Bool\u001b[39m\n",
      "\u001b[90m│  \u001b[39m %16 = Base.not_int(%15)\u001b[36m::Bool\u001b[39m\n",
      "\u001b[90m└──\u001b[39m       goto #4 if not %16\n",
      "\u001b[90m3 ─\u001b[39m       goto #2\n",
      "\u001b[90m4 ┄\u001b[39m       return nothing\n",
      "\n"
     ]
    }
   ],
   "source": [
    "@code_warntype work!(A,N)"
   ]
  },
  {
   "cell_type": "code",
   "execution_count": 4,
   "metadata": {},
   "outputs": [
    {
     "data": {
      "text/plain": [
       "work1! (generic function with 1 method)"
      ]
     },
     "execution_count": 4,
     "metadata": {},
     "output_type": "execute_result"
    }
   ],
   "source": [
    "function work1!(A, N, b, c) # b and c are now function arguments\n",
    "    D = zeros(N,N)\n",
    "    for i in 1:N\n",
    "        D = b[i]*c*A\n",
    "        b[i] = sum(D)\n",
    "    end\n",
    "end"
   ]
  },
  {
   "cell_type": "code",
   "execution_count": 5,
   "metadata": {},
   "outputs": [
    {
     "name": "stdout",
     "output_type": "stream",
     "text": [
      "MethodInstance for work1!(::Matrix{Float64}, ::Int64, ::Vector{Float64}, ::Float64)\n",
      "  from work1!(A, N, b, c) in Main at In[4]:1\n",
      "Arguments\n",
      "  #self#\u001b[36m::Core.Const(work1!)\u001b[39m\n",
      "  A\u001b[36m::Matrix{Float64}\u001b[39m\n",
      "  N\u001b[36m::Int64\u001b[39m\n",
      "  b\u001b[36m::Vector{Float64}\u001b[39m\n",
      "  c\u001b[36m::Float64\u001b[39m\n",
      "Locals\n",
      "  @_6\u001b[33m\u001b[1m::Union{Nothing, Tuple{Int64, Int64}}\u001b[22m\u001b[39m\n",
      "  D\u001b[36m::Matrix{Float64}\u001b[39m\n",
      "  i\u001b[36m::Int64\u001b[39m\n",
      "Body\u001b[36m::Nothing\u001b[39m\n",
      "\u001b[90m1 ─\u001b[39m       (D = Main.zeros(N, N))\n",
      "\u001b[90m│  \u001b[39m %2  = (1:N)\u001b[36m::Core.PartialStruct(UnitRange{Int64}, Any[Core.Const(1), Int64])\u001b[39m\n",
      "\u001b[90m│  \u001b[39m       (@_6 = Base.iterate(%2))\n",
      "\u001b[90m│  \u001b[39m %4  = (@_6 === nothing)\u001b[36m::Bool\u001b[39m\n",
      "\u001b[90m│  \u001b[39m %5  = Base.not_int(%4)\u001b[36m::Bool\u001b[39m\n",
      "\u001b[90m└──\u001b[39m       goto #4 if not %5\n",
      "\u001b[90m2 ┄\u001b[39m %7  = @_6\u001b[36m::Tuple{Int64, Int64}\u001b[39m\n",
      "\u001b[90m│  \u001b[39m       (i = Core.getfield(%7, 1))\n",
      "\u001b[90m│  \u001b[39m %9  = Core.getfield(%7, 2)\u001b[36m::Int64\u001b[39m\n",
      "\u001b[90m│  \u001b[39m %10 = Base.getindex(b, i)\u001b[36m::Float64\u001b[39m\n",
      "\u001b[90m│  \u001b[39m       (D = %10 * c * A)\n",
      "\u001b[90m│  \u001b[39m %12 = Main.sum(D)\u001b[36m::Float64\u001b[39m\n",
      "\u001b[90m│  \u001b[39m       Base.setindex!(b, %12, i)\n",
      "\u001b[90m│  \u001b[39m       (@_6 = Base.iterate(%2, %9))\n",
      "\u001b[90m│  \u001b[39m %15 = (@_6 === nothing)\u001b[36m::Bool\u001b[39m\n",
      "\u001b[90m│  \u001b[39m %16 = Base.not_int(%15)\u001b[36m::Bool\u001b[39m\n",
      "\u001b[90m└──\u001b[39m       goto #4 if not %16\n",
      "\u001b[90m3 ─\u001b[39m       goto #2\n",
      "\u001b[90m4 ┄\u001b[39m       return nothing\n",
      "\n"
     ]
    }
   ],
   "source": [
    "@code_warntype work1!(A,N,b,c)"
   ]
  },
  {
   "cell_type": "code",
   "execution_count": 6,
   "metadata": {},
   "outputs": [
    {
     "name": "stdout",
     "output_type": "stream",
     "text": [
      "  3.831 ms (202 allocations: 7.71 MiB)\n"
     ]
    }
   ],
   "source": [
    "@btime work1!($A, $N, $b, $c);"
   ]
  },
  {
   "cell_type": "markdown",
   "metadata": {},
   "source": [
    "### Avoiding globals + temporary allocations"
   ]
  },
  {
   "cell_type": "code",
   "execution_count": 7,
   "metadata": {},
   "outputs": [
    {
     "name": "stdout",
     "output_type": "stream",
     "text": [
      "  469.669 μs (302 allocations: 85.98 KiB)\n"
     ]
    }
   ],
   "source": [
    "function work2!(A, N, b)\n",
    "    D = zeros(N,N)\n",
    "    for i in 1:N\n",
    "        @. D = b[i]*c*A\n",
    "        b[i] = sum(D)\n",
    "    end\n",
    "end\n",
    "\n",
    "@btime work2!($A, $N, $b);"
   ]
  },
  {
   "cell_type": "code",
   "execution_count": 8,
   "metadata": {},
   "outputs": [
    {
     "name": "stdout",
     "output_type": "stream",
     "text": [
      "  395.802 μs (2 allocations: 78.17 KiB)\n"
     ]
    }
   ],
   "source": [
    "function work3!(A, N, b, c)\n",
    "    D = zeros(N,N)\n",
    "    for i in 1:N\n",
    "        @inbounds for j in eachindex(D)\n",
    "            D[j] = b[i]*c*A[j]\n",
    "        end\n",
    "        b[i] = sum(D)\n",
    "    end\n",
    "end\n",
    "\n",
    "@btime work3!($A, $N, $b, $c);"
   ]
  },
  {
   "cell_type": "markdown",
   "metadata": {},
   "source": [
    "### Avoiding globals + temporary allocations and merging `sum` with loop"
   ]
  },
  {
   "cell_type": "code",
   "execution_count": 9,
   "metadata": {},
   "outputs": [
    {
     "name": "stdout",
     "output_type": "stream",
     "text": [
      "  251.117 μs (2 allocations: 78.17 KiB)\n"
     ]
    }
   ],
   "source": [
    "function work4!(A, N, b, c)\n",
    "    D = zeros(N,N)\n",
    "    for i in 1:N\n",
    "        s = zero(eltype(D))\n",
    "        @inbounds @simd for j in eachindex(D)\n",
    "            D[j] = b[i]*c*A[j]\n",
    "            s += D[j]\n",
    "        end\n",
    "        b[i] = s\n",
    "    end\n",
    "end\n",
    "\n",
    "@btime work4!($A, $N, $b, $c);"
   ]
  },
  {
   "cell_type": "markdown",
   "metadata": {},
   "source": [
    "### Realizing that one can factor out `b` and `c`"
   ]
  },
  {
   "cell_type": "code",
   "execution_count": 10,
   "metadata": {},
   "outputs": [
    {
     "name": "stdout",
     "output_type": "stream",
     "text": [
      "  1.490 μs (0 allocations: 0 bytes)\n"
     ]
    }
   ],
   "source": [
    "# function work!(A, N)\n",
    "#     D = zeros(N,N)\n",
    "#     for i in 1:N\n",
    "#         D = b[i]*c*A\n",
    "#         b[i] = sum(D)\n",
    "#     end\n",
    "# end\n",
    "\n",
    "# function work!(A, N)\n",
    "#     for i in 1:N\n",
    "#         b[i] = sum(b[i]*c*A)\n",
    "#     end\n",
    "# end\n",
    "\n",
    "# function work!(A, N)\n",
    "#     for i in 1:N\n",
    "#         b[i] = b[i]*c*sum(A)\n",
    "#     end\n",
    "# end\n",
    "\n",
    "# function work!(A, N)\n",
    "#     D = c*sum(A)\n",
    "#     for i in 1:N\n",
    "#         b[i] *= D\n",
    "#     end\n",
    "# end\n",
    "\n",
    "function work5!(A, N, b, c)\n",
    "    D = c * sum(A)\n",
    "    b .*= D\n",
    "end\n",
    "\n",
    "@btime work5!($A, $N, $b, $c);"
   ]
  },
  {
   "cell_type": "code",
   "execution_count": null,
   "metadata": {},
   "outputs": [],
   "source": [
    "@. x = x * x # -> x. = x .* x"
   ]
  },
  {
   "cell_type": "code",
   "execution_count": null,
   "metadata": {},
   "outputs": [],
   "source": [
    "tmp\n",
    "for i in eachindex(x)\n",
    "     = x[i] * x[i]\n",
    "end\n",
    "x = tmp"
   ]
  }
 ],
 "metadata": {
  "@webio": {
   "lastCommId": null,
   "lastKernelId": null
  },
  "kernelspec": {
   "display_name": "Julia 1.8.0",
   "language": "julia",
   "name": "julia-1.8"
  },
  "language_info": {
   "file_extension": ".jl",
   "mimetype": "application/julia",
   "name": "julia",
   "version": "1.8.0"
  }
 },
 "nbformat": 4,
 "nbformat_minor": 4
}
