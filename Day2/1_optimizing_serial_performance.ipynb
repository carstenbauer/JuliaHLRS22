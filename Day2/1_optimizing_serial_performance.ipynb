{
 "cells": [
  {
   "cell_type": "markdown",
   "metadata": {},
   "source": [
    "# Optimizing \"Serial\" Performance"
   ]
  },
  {
   "cell_type": "markdown",
   "metadata": {},
   "source": [
    "At the heart of fast parallel code must be fast serial code. Parallelism can make a good serial code faster. But it can also make a bad code even worse. One can write terribly slow code in any language, including Julia. In this notebook we want to understand what makes Julia code slow and how to detect and avoid common pitfalls. This will lead to multiple concrete performance tips that will help you speed up your Julia code and to write more efficient code in the first place.\n",
    "\n",
    "By far the most common reasons for slow Julia code are\n",
    "\n",
    "* **too many (unnecessary) allocations**\n",
    "* **break-down of type inference** (e.g. type instabilities)"
   ]
  },
  {
   "cell_type": "markdown",
   "metadata": {},
   "source": [
    "## Avoid unnecessary allocations"
   ]
  },
  {
   "cell_type": "markdown",
   "metadata": {},
   "source": [
    "Dynamic heap allocations are costly compared to floating point operations. Avoid them, in particular in \"hot\" loops, because they may trigger garbage collection."
   ]
  },
  {
   "cell_type": "code",
   "execution_count": 14,
   "metadata": {},
   "outputs": [],
   "source": [
    "using BenchmarkTools"
   ]
  },
  {
   "cell_type": "code",
   "execution_count": 15,
   "metadata": {},
   "outputs": [
    {
     "name": "stdout",
     "output_type": "stream",
     "text": [
      "  1.984 ns (0 allocations: 0 bytes)\n",
      "  43.464 ns (1 allocation: 64 bytes)\n"
     ]
    }
   ],
   "source": [
    "@btime 1.2 + 3.4;\n",
    "@btime Vector{Float64}(undef, 1);"
   ]
  },
  {
   "cell_type": "markdown",
   "metadata": {},
   "source": [
    "### Example 1: Element-wise operations"
   ]
  },
  {
   "cell_type": "code",
   "execution_count": 43,
   "metadata": {},
   "outputs": [
    {
     "data": {
      "text/plain": [
       "f (generic function with 1 method)"
      ]
     },
     "execution_count": 43,
     "metadata": {},
     "output_type": "execute_result"
    }
   ],
   "source": [
    "function f()\n",
    "  x = [1,2,3]\n",
    "  for i in 1:100_000\n",
    "    x = x + 2*x\n",
    "  end\n",
    "  return x\n",
    "end"
   ]
  },
  {
   "cell_type": "code",
   "execution_count": 44,
   "metadata": {},
   "outputs": [
    {
     "name": "stdout",
     "output_type": "stream",
     "text": [
      "  10.868 ms (200001 allocations: 15.26 MiB)\n"
     ]
    }
   ],
   "source": [
    "@btime f();"
   ]
  },
  {
   "cell_type": "markdown",
   "metadata": {},
   "source": [
    "* Huge number of allocations!\n",
    "* Bad sign that they scale with the number of iterations!"
   ]
  },
  {
   "cell_type": "markdown",
   "metadata": {},
   "source": [
    "#### Fix 1: Write explicit loops"
   ]
  },
  {
   "cell_type": "code",
   "execution_count": 53,
   "metadata": {},
   "outputs": [
    {
     "name": "stdout",
     "output_type": "stream",
     "text": [
      "  231.478 μs (1 allocation: 80 bytes)\n"
     ]
    }
   ],
   "source": [
    "function f()\n",
    "    x = [1,2,3]\n",
    "    for i in 1:100_000\n",
    "        for k in eachindex(x)\n",
    "            x[k] = x[k] + 2 * x[k]\n",
    "        end\n",
    "    end\n",
    "    return x\n",
    "end\n",
    "\n",
    "@btime f();"
   ]
  },
  {
   "cell_type": "markdown",
   "metadata": {},
   "source": [
    "#### Fix 2: Broadcasting (aka \"More Dots\")"
   ]
  },
  {
   "cell_type": "markdown",
   "metadata": {},
   "source": [
    "(Recommendation: Old but great [blog post](https://julialang.org/blog/2017/01/moredots) by Steven G. Johnson ([related notebook](https://github.com/JuliaLang/www.julialang.org/blob/master/blog/_posts/moredots/More-Dots.ipynb)))"
   ]
  },
  {
   "cell_type": "code",
   "execution_count": 46,
   "metadata": {},
   "outputs": [
    {
     "name": "stdout",
     "output_type": "stream",
     "text": [
      "  4.816 ms (100001 allocations: 7.63 MiB)\n"
     ]
    }
   ],
   "source": [
    "function f()\n",
    "    x = [1,2,3]\n",
    "    for i in 1:100_000\n",
    "        x = x .+ 2 .* x\n",
    "    end\n",
    "    return x\n",
    "end\n",
    "\n",
    "@btime f();"
   ]
  },
  {
   "cell_type": "code",
   "execution_count": 54,
   "metadata": {},
   "outputs": [
    {
     "name": "stdout",
     "output_type": "stream",
     "text": [
      "  269.983 μs (1 allocation: 80 bytes)\n"
     ]
    }
   ],
   "source": [
    "function f()\n",
    "    x = [1,2,3]\n",
    "    for i in 1:100_000\n",
    "        x .= x .+ 2 .* x\n",
    "        # or put @. in front\n",
    "    end\n",
    "    return x\n",
    "end\n",
    "\n",
    "@btime f();"
   ]
  },
  {
   "cell_type": "markdown",
   "metadata": {},
   "source": [
    "#### Fix 3: Immutable datatypes (if possible)"
   ]
  },
  {
   "cell_type": "code",
   "execution_count": 48,
   "metadata": {},
   "outputs": [
    {
     "name": "stdout",
     "output_type": "stream",
     "text": [
      "  77.152 μs (0 allocations: 0 bytes)\n"
     ]
    }
   ],
   "source": [
    "using StaticArrays\n",
    "\n",
    "function f()\n",
    "  x = @SVector [1,2,3]\n",
    "  for i in 1:100_000\n",
    "    x = x + 2*x\n",
    "  end\n",
    "  return x\n",
    "end\n",
    "\n",
    "@btime f();"
   ]
  },
  {
   "cell_type": "markdown",
   "metadata": {},
   "source": [
    "No dynamic heap allocations at all!"
   ]
  },
  {
   "cell_type": "markdown",
   "metadata": {},
   "source": [
    "### Example 2: Linear Algebra"
   ]
  },
  {
   "cell_type": "code",
   "execution_count": 232,
   "metadata": {},
   "outputs": [
    {
     "data": {
      "text/plain": [
       "f (generic function with 5 methods)"
      ]
     },
     "execution_count": 232,
     "metadata": {},
     "output_type": "execute_result"
    }
   ],
   "source": [
    "function f()\n",
    "    A = rand(100,100)\n",
    "    B = rand(100,100)\n",
    "    s = 0.0\n",
    "    for i in 1:1000\n",
    "        C = A * B\n",
    "        s += C[i]\n",
    "    end\n",
    "    return A\n",
    "end"
   ]
  },
  {
   "cell_type": "code",
   "execution_count": 233,
   "metadata": {},
   "outputs": [
    {
     "name": "stdout",
     "output_type": "stream",
     "text": [
      "  310.779 ms (2004 allocations: 76.49 MiB)\n"
     ]
    }
   ],
   "source": [
    "@btime f();"
   ]
  },
  {
   "cell_type": "markdown",
   "metadata": {},
   "source": [
    "#### Fix: Preallocate and reuse memory + in-place matrix-multipy"
   ]
  },
  {
   "cell_type": "code",
   "execution_count": 234,
   "metadata": {},
   "outputs": [
    {
     "data": {
      "text/plain": [
       "f (generic function with 5 methods)"
      ]
     },
     "execution_count": 234,
     "metadata": {},
     "output_type": "execute_result"
    }
   ],
   "source": [
    "using LinearAlgebra\n",
    "\n",
    "function f()\n",
    "    A = rand(100,100)\n",
    "    B = rand(100,100)\n",
    "    C = zeros(100,100) # preallocate\n",
    "    s = 0.0\n",
    "    for i in 1:1000\n",
    "        mul!(C, A, B) # reuse / in-place matmul\n",
    "        s += C[i]\n",
    "    end\n",
    "    return A\n",
    "end"
   ]
  },
  {
   "cell_type": "code",
   "execution_count": 235,
   "metadata": {},
   "outputs": [
    {
     "name": "stdout",
     "output_type": "stream",
     "text": [
      "  155.633 ms (6 allocations: 234.52 KiB)\n"
     ]
    }
   ],
   "source": [
    "@btime f();"
   ]
  },
  {
   "cell_type": "markdown",
   "metadata": {},
   "source": [
    "### Example 3: Array slicing"
   ]
  },
  {
   "cell_type": "markdown",
   "metadata": {},
   "source": [
    "By default, array-slicing creates copies!"
   ]
  },
  {
   "cell_type": "code",
   "execution_count": 66,
   "metadata": {},
   "outputs": [],
   "source": [
    "using BenchmarkTools\n",
    "\n",
    "X = rand(3,3);"
   ]
  },
  {
   "cell_type": "code",
   "execution_count": 73,
   "metadata": {},
   "outputs": [
    {
     "name": "stdout",
     "output_type": "stream",
     "text": [
      "  198.000 ns (4 allocations: 320 bytes)\n"
     ]
    }
   ],
   "source": [
    "f(Y) = Y[:,1] .+ Y[:,2] .+ Y[:,3]\n",
    "\n",
    "@btime f($X);"
   ]
  },
  {
   "cell_type": "markdown",
   "metadata": {},
   "source": [
    "#### Fix: Views"
   ]
  },
  {
   "cell_type": "code",
   "execution_count": 74,
   "metadata": {},
   "outputs": [
    {
     "name": "stdout",
     "output_type": "stream",
     "text": [
      "  57.017 ns (1 allocation: 80 bytes)\n"
     ]
    }
   ],
   "source": [
    "f(Y) = @views Y[:,1] .+ Y[:,2] .+ Y[:,3]\n",
    "\n",
    "# expands to\n",
    "# f(Y) = view(Y, 1:3, 1) .+ view(Y, 1:3, 2) .+ view(Y, 1:3, 3)\n",
    "\n",
    "@btime f($X);"
   ]
  },
  {
   "cell_type": "markdown",
   "metadata": {},
   "source": [
    "(Note that [copying data isn't always bad](https://docs.julialang.org/en/v1/manual/performance-tips/#Copying-data-is-not-always-bad))"
   ]
  },
  {
   "cell_type": "markdown",
   "metadata": {},
   "source": [
    "### Example 4: Vectorized style"
   ]
  },
  {
   "cell_type": "code",
   "execution_count": 191,
   "metadata": {},
   "outputs": [
    {
     "name": "stdout",
     "output_type": "stream",
     "text": [
      "  221.042 ns (2 allocations: 288 bytes)\n"
     ]
    }
   ],
   "source": [
    "@btime sum(map(sin, [k for k in 1:10]));"
   ]
  },
  {
   "cell_type": "markdown",
   "metadata": {},
   "source": [
    "#### Fix: Generators and Laziness"
   ]
  },
  {
   "cell_type": "code",
   "execution_count": 190,
   "metadata": {},
   "outputs": [
    {
     "name": "stdout",
     "output_type": "stream",
     "text": [
      "  100.365 ns (0 allocations: 0 bytes)\n"
     ]
    }
   ],
   "source": [
    "@btime sum(sin(k) for k in 1:10); # generator"
   ]
  },
  {
   "cell_type": "code",
   "execution_count": 189,
   "metadata": {},
   "outputs": [
    {
     "name": "stdout",
     "output_type": "stream",
     "text": [
      "  98.978 ns (0 allocations: 0 bytes)\n"
     ]
    }
   ],
   "source": [
    "@btime sum(sin, k for k in 1:10); # two-argument version of sum"
   ]
  },
  {
   "cell_type": "code",
   "execution_count": 192,
   "metadata": {},
   "outputs": [
    {
     "name": "stdout",
     "output_type": "stream",
     "text": [
      "  215.955 ns (2 allocations: 288 bytes)\n"
     ]
    }
   ],
   "source": [
    "@btime first(map(sin, [k for k in 1:10]));"
   ]
  },
  {
   "cell_type": "code",
   "execution_count": 193,
   "metadata": {},
   "outputs": [
    {
     "name": "stdout",
     "output_type": "stream",
     "text": [
      "  56.129 ns (1 allocation: 144 bytes)\n"
     ]
    }
   ],
   "source": [
    "@btime first(Iterators.map(sin, [k for k in 1:10])); # lazy map"
   ]
  },
  {
   "cell_type": "markdown",
   "metadata": {},
   "source": [
    "## Type inference: Avoid type instabilities"
   ]
  },
  {
   "cell_type": "markdown",
   "metadata": {},
   "source": [
    "**Type stability**: A function `f` is type stable if for a given set of input argument types the return type is always the same.\n",
    "\n",
    "In particular, it means that the type of the output of `f` cannot vary depending on the **values** of the inputs.\n",
    "\n",
    "**Type instability**: The return type of a function `f` is not predictable just from the type of the input arguments alone.\n",
    "\n",
    "Instructive example: `f(x) = rand() > 0.5 ? 1.23 : \"string\"`"
   ]
  },
  {
   "cell_type": "markdown",
   "metadata": {},
   "source": [
    "### Example: Global scope"
   ]
  },
  {
   "cell_type": "markdown",
   "metadata": {},
   "source": [
    "A typical cause of type instability are global variables.\n",
    "\n",
    "From a compiler perspective, variables defined in global scope **can change their value and even their type(!) any time**."
   ]
  },
  {
   "cell_type": "code",
   "execution_count": 241,
   "metadata": {},
   "outputs": [
    {
     "data": {
      "text/plain": [
       "f (generic function with 5 methods)"
      ]
     },
     "execution_count": 241,
     "metadata": {},
     "output_type": "execute_result"
    }
   ],
   "source": [
    "a = 2.0\n",
    "b = 3.0\n",
    "\n",
    "f() = 2*a+b"
   ]
  },
  {
   "cell_type": "code",
   "execution_count": 242,
   "metadata": {},
   "outputs": [
    {
     "data": {
      "text/plain": [
       "7.0"
      ]
     },
     "execution_count": 242,
     "metadata": {},
     "output_type": "execute_result"
    }
   ],
   "source": [
    "f()"
   ]
  },
  {
   "cell_type": "code",
   "execution_count": 243,
   "metadata": {},
   "outputs": [
    {
     "name": "stdout",
     "output_type": "stream",
     "text": [
      "\u001b[90m;  @ In[241]:4 within `f`\u001b[39m\n",
      "\u001b[95mdefine\u001b[39m \u001b[95mnonnull\u001b[39m \u001b[33m{\u001b[39m\u001b[33m}\u001b[39m\u001b[0m* \u001b[93m@julia_f_5051\u001b[39m\u001b[33m(\u001b[39m\u001b[33m)\u001b[39m \u001b[0m#0 \u001b[33m{\u001b[39m\n",
      "\u001b[91mtop:\u001b[39m\n",
      "  \u001b[0m%0 \u001b[0m= \u001b[96m\u001b[1malloca\u001b[22m\u001b[39m \u001b[33m[\u001b[39m\u001b[33m2\u001b[39m \u001b[0mx \u001b[33m{\u001b[39m\u001b[33m}\u001b[39m\u001b[0m*\u001b[33m]\u001b[39m\u001b[0m, \u001b[95malign\u001b[39m \u001b[33m8\u001b[39m\n",
      "  \u001b[0m%gcframe2 \u001b[0m= \u001b[96m\u001b[1malloca\u001b[22m\u001b[39m \u001b[33m[\u001b[39m\u001b[33m4\u001b[39m \u001b[0mx \u001b[33m{\u001b[39m\u001b[33m}\u001b[39m\u001b[0m*\u001b[33m]\u001b[39m\u001b[0m, \u001b[95malign\u001b[39m \u001b[33m16\u001b[39m\n",
      "  \u001b[0m%gcframe2.sub \u001b[0m= \u001b[96m\u001b[1mgetelementptr\u001b[22m\u001b[39m \u001b[95minbounds\u001b[39m \u001b[33m[\u001b[39m\u001b[33m4\u001b[39m \u001b[0mx \u001b[33m{\u001b[39m\u001b[33m}\u001b[39m\u001b[0m*\u001b[33m]\u001b[39m\u001b[0m, \u001b[33m[\u001b[39m\u001b[33m4\u001b[39m \u001b[0mx \u001b[33m{\u001b[39m\u001b[33m}\u001b[39m\u001b[0m*\u001b[33m]\u001b[39m\u001b[0m* \u001b[0m%gcframe2\u001b[0m, \u001b[36mi64\u001b[39m \u001b[33m0\u001b[39m\u001b[0m, \u001b[36mi64\u001b[39m \u001b[33m0\u001b[39m\n",
      "  \u001b[0m%.sub \u001b[0m= \u001b[96m\u001b[1mgetelementptr\u001b[22m\u001b[39m \u001b[95minbounds\u001b[39m \u001b[33m[\u001b[39m\u001b[33m2\u001b[39m \u001b[0mx \u001b[33m{\u001b[39m\u001b[33m}\u001b[39m\u001b[0m*\u001b[33m]\u001b[39m\u001b[0m, \u001b[33m[\u001b[39m\u001b[33m2\u001b[39m \u001b[0mx \u001b[33m{\u001b[39m\u001b[33m}\u001b[39m\u001b[0m*\u001b[33m]\u001b[39m\u001b[0m* \u001b[0m%0\u001b[0m, \u001b[36mi64\u001b[39m \u001b[33m0\u001b[39m\u001b[0m, \u001b[36mi64\u001b[39m \u001b[33m0\u001b[39m\n",
      "  \u001b[0m%1 \u001b[0m= \u001b[96m\u001b[1mbitcast\u001b[22m\u001b[39m \u001b[33m[\u001b[39m\u001b[33m4\u001b[39m \u001b[0mx \u001b[33m{\u001b[39m\u001b[33m}\u001b[39m\u001b[0m*\u001b[33m]\u001b[39m\u001b[0m* \u001b[0m%gcframe2 \u001b[95mto\u001b[39m \u001b[36mi8\u001b[39m\u001b[0m*\n",
      "  \u001b[96m\u001b[1mcall\u001b[22m\u001b[39m \u001b[36mvoid\u001b[39m \u001b[93m@llvm.memset.p0i8.i32\u001b[39m\u001b[33m(\u001b[39m\u001b[36mi8\u001b[39m\u001b[0m* \u001b[95mnoundef\u001b[39m \u001b[95mnonnull\u001b[39m \u001b[95malign\u001b[39m \u001b[33m16\u001b[39m \u001b[95mdereferenceable\u001b[39m\u001b[33m(\u001b[39m\u001b[33m32\u001b[39m\u001b[33m)\u001b[39m \u001b[0m%1\u001b[0m, \u001b[36mi8\u001b[39m \u001b[33m0\u001b[39m\u001b[0m, \u001b[36mi32\u001b[39m \u001b[33m32\u001b[39m\u001b[0m, \u001b[36mi1\u001b[39m \u001b[95mfalse\u001b[39m\u001b[33m)\u001b[39m\n",
      "  \u001b[0m%2 \u001b[0m= \u001b[96m\u001b[1mcall\u001b[22m\u001b[39m \u001b[33m{\u001b[39m\u001b[33m}\u001b[39m\u001b[0m*** \u001b[95minttoptr\u001b[39m \u001b[33m(\u001b[39m\u001b[36mi64\u001b[39m \u001b[33m140703178657749\u001b[39m \u001b[95mto\u001b[39m \u001b[33m{\u001b[39m\u001b[33m}\u001b[39m\u001b[0m*** \u001b[33m(\u001b[39m\u001b[36mi64\u001b[39m\u001b[33m)\u001b[39m\u001b[0m*\u001b[33m)\u001b[39m\u001b[33m(\u001b[39m\u001b[36mi64\u001b[39m \u001b[33m260\u001b[39m\u001b[33m)\u001b[39m \u001b[0m#3\n",
      "  \u001b[0m%3 \u001b[0m= \u001b[96m\u001b[1mbitcast\u001b[22m\u001b[39m \u001b[33m[\u001b[39m\u001b[33m4\u001b[39m \u001b[0mx \u001b[33m{\u001b[39m\u001b[33m}\u001b[39m\u001b[0m*\u001b[33m]\u001b[39m\u001b[0m* \u001b[0m%gcframe2 \u001b[95mto\u001b[39m \u001b[36mi64\u001b[39m\u001b[0m*\n",
      "  \u001b[96m\u001b[1mstore\u001b[22m\u001b[39m \u001b[36mi64\u001b[39m \u001b[33m8\u001b[39m\u001b[0m, \u001b[36mi64\u001b[39m\u001b[0m* \u001b[0m%3\u001b[0m, \u001b[95malign\u001b[39m \u001b[33m16\u001b[39m\n",
      "  \u001b[0m%4 \u001b[0m= \u001b[96m\u001b[1mload\u001b[22m\u001b[39m \u001b[33m{\u001b[39m\u001b[33m}\u001b[39m\u001b[0m**\u001b[0m, \u001b[33m{\u001b[39m\u001b[33m}\u001b[39m\u001b[0m*** \u001b[0m%2\u001b[0m, \u001b[95malign\u001b[39m \u001b[33m8\u001b[39m\n",
      "  \u001b[0m%5 \u001b[0m= \u001b[96m\u001b[1mgetelementptr\u001b[22m\u001b[39m \u001b[95minbounds\u001b[39m \u001b[33m[\u001b[39m\u001b[33m4\u001b[39m \u001b[0mx \u001b[33m{\u001b[39m\u001b[33m}\u001b[39m\u001b[0m*\u001b[33m]\u001b[39m\u001b[0m, \u001b[33m[\u001b[39m\u001b[33m4\u001b[39m \u001b[0mx \u001b[33m{\u001b[39m\u001b[33m}\u001b[39m\u001b[0m*\u001b[33m]\u001b[39m\u001b[0m* \u001b[0m%gcframe2\u001b[0m, \u001b[36mi64\u001b[39m \u001b[33m0\u001b[39m\u001b[0m, \u001b[36mi64\u001b[39m \u001b[33m1\u001b[39m\n",
      "  \u001b[0m%6 \u001b[0m= \u001b[96m\u001b[1mbitcast\u001b[22m\u001b[39m \u001b[33m{\u001b[39m\u001b[33m}\u001b[39m\u001b[0m** \u001b[0m%5 \u001b[95mto\u001b[39m \u001b[33m{\u001b[39m\u001b[33m}\u001b[39m\u001b[0m***\n",
      "  \u001b[96m\u001b[1mstore\u001b[22m\u001b[39m \u001b[33m{\u001b[39m\u001b[33m}\u001b[39m\u001b[0m** \u001b[0m%4\u001b[0m, \u001b[33m{\u001b[39m\u001b[33m}\u001b[39m\u001b[0m*** \u001b[0m%6\u001b[0m, \u001b[95malign\u001b[39m \u001b[33m8\u001b[39m\n",
      "  \u001b[0m%7 \u001b[0m= \u001b[96m\u001b[1mbitcast\u001b[22m\u001b[39m \u001b[33m{\u001b[39m\u001b[33m}\u001b[39m\u001b[0m*** \u001b[0m%2 \u001b[95mto\u001b[39m \u001b[33m{\u001b[39m\u001b[33m}\u001b[39m\u001b[0m***\n",
      "  \u001b[96m\u001b[1mstore\u001b[22m\u001b[39m \u001b[33m{\u001b[39m\u001b[33m}\u001b[39m\u001b[0m** \u001b[0m%gcframe2.sub\u001b[0m, \u001b[33m{\u001b[39m\u001b[33m}\u001b[39m\u001b[0m*** \u001b[0m%7\u001b[0m, \u001b[95malign\u001b[39m \u001b[33m8\u001b[39m\n",
      "  \u001b[0m%8 \u001b[0m= \u001b[96m\u001b[1mload\u001b[22m\u001b[39m \u001b[95matomic\u001b[39m \u001b[33m{\u001b[39m\u001b[33m}\u001b[39m\u001b[0m*\u001b[0m, \u001b[33m{\u001b[39m\u001b[33m}\u001b[39m\u001b[0m** \u001b[95minttoptr\u001b[39m \u001b[33m(\u001b[39m\u001b[36mi64\u001b[39m \u001b[33m4757679832\u001b[39m \u001b[95mto\u001b[39m \u001b[33m{\u001b[39m\u001b[33m}\u001b[39m\u001b[0m**\u001b[33m)\u001b[39m \u001b[95munordered\u001b[39m\u001b[0m, \u001b[95malign\u001b[39m \u001b[33m8\u001b[39m\n",
      "  \u001b[0m%9 \u001b[0m= \u001b[96m\u001b[1mgetelementptr\u001b[22m\u001b[39m \u001b[95minbounds\u001b[39m \u001b[33m[\u001b[39m\u001b[33m4\u001b[39m \u001b[0mx \u001b[33m{\u001b[39m\u001b[33m}\u001b[39m\u001b[0m*\u001b[33m]\u001b[39m\u001b[0m, \u001b[33m[\u001b[39m\u001b[33m4\u001b[39m \u001b[0mx \u001b[33m{\u001b[39m\u001b[33m}\u001b[39m\u001b[0m*\u001b[33m]\u001b[39m\u001b[0m* \u001b[0m%gcframe2\u001b[0m, \u001b[36mi64\u001b[39m \u001b[33m0\u001b[39m\u001b[0m, \u001b[36mi64\u001b[39m \u001b[33m2\u001b[39m\n",
      "  \u001b[96m\u001b[1mstore\u001b[22m\u001b[39m \u001b[33m{\u001b[39m\u001b[33m}\u001b[39m\u001b[0m* \u001b[0m%8\u001b[0m, \u001b[33m{\u001b[39m\u001b[33m}\u001b[39m\u001b[0m** \u001b[0m%9\u001b[0m, \u001b[95malign\u001b[39m \u001b[33m16\u001b[39m\n",
      "  \u001b[96m\u001b[1mstore\u001b[22m\u001b[39m \u001b[33m{\u001b[39m\u001b[33m}\u001b[39m\u001b[0m* \u001b[95minttoptr\u001b[39m \u001b[33m(\u001b[39m\u001b[36mi64\u001b[39m \u001b[33m4548108448\u001b[39m \u001b[95mto\u001b[39m \u001b[33m{\u001b[39m\u001b[33m}\u001b[39m\u001b[0m*\u001b[33m)\u001b[39m\u001b[0m, \u001b[33m{\u001b[39m\u001b[33m}\u001b[39m\u001b[0m** \u001b[0m%.sub\u001b[0m, \u001b[95malign\u001b[39m \u001b[33m8\u001b[39m\n",
      "  \u001b[0m%10 \u001b[0m= \u001b[96m\u001b[1mgetelementptr\u001b[22m\u001b[39m \u001b[95minbounds\u001b[39m \u001b[33m[\u001b[39m\u001b[33m2\u001b[39m \u001b[0mx \u001b[33m{\u001b[39m\u001b[33m}\u001b[39m\u001b[0m*\u001b[33m]\u001b[39m\u001b[0m, \u001b[33m[\u001b[39m\u001b[33m2\u001b[39m \u001b[0mx \u001b[33m{\u001b[39m\u001b[33m}\u001b[39m\u001b[0m*\u001b[33m]\u001b[39m\u001b[0m* \u001b[0m%0\u001b[0m, \u001b[36mi64\u001b[39m \u001b[33m0\u001b[39m\u001b[0m, \u001b[36mi64\u001b[39m \u001b[33m1\u001b[39m\n",
      "  \u001b[96m\u001b[1mstore\u001b[22m\u001b[39m \u001b[33m{\u001b[39m\u001b[33m}\u001b[39m\u001b[0m* \u001b[0m%8\u001b[0m, \u001b[33m{\u001b[39m\u001b[33m}\u001b[39m\u001b[0m** \u001b[0m%10\u001b[0m, \u001b[95malign\u001b[39m \u001b[33m8\u001b[39m\n",
      "  \u001b[0m%11 \u001b[0m= \u001b[96m\u001b[1mcall\u001b[22m\u001b[39m \u001b[95mnonnull\u001b[39m \u001b[33m{\u001b[39m\u001b[33m}\u001b[39m\u001b[0m* \u001b[93m@ijl_apply_generic\u001b[39m\u001b[33m(\u001b[39m\u001b[33m{\u001b[39m\u001b[33m}\u001b[39m\u001b[0m* \u001b[95minttoptr\u001b[39m \u001b[33m(\u001b[39m\u001b[36mi64\u001b[39m \u001b[33m4998411472\u001b[39m \u001b[95mto\u001b[39m \u001b[33m{\u001b[39m\u001b[33m}\u001b[39m\u001b[0m*\u001b[33m)\u001b[39m\u001b[0m, \u001b[33m{\u001b[39m\u001b[33m}\u001b[39m\u001b[0m** \u001b[95mnonnull\u001b[39m \u001b[0m%.sub\u001b[0m, \u001b[36mi32\u001b[39m \u001b[33m2\u001b[39m\u001b[33m)\u001b[39m\n",
      "  \u001b[0m%12 \u001b[0m= \u001b[96m\u001b[1mload\u001b[22m\u001b[39m \u001b[95matomic\u001b[39m \u001b[33m{\u001b[39m\u001b[33m}\u001b[39m\u001b[0m*\u001b[0m, \u001b[33m{\u001b[39m\u001b[33m}\u001b[39m\u001b[0m** \u001b[95minttoptr\u001b[39m \u001b[33m(\u001b[39m\u001b[36mi64\u001b[39m \u001b[33m4744518552\u001b[39m \u001b[95mto\u001b[39m \u001b[33m{\u001b[39m\u001b[33m}\u001b[39m\u001b[0m**\u001b[33m)\u001b[39m \u001b[95munordered\u001b[39m\u001b[0m, \u001b[95malign\u001b[39m \u001b[33m8\u001b[39m\n",
      "  \u001b[0m%13 \u001b[0m= \u001b[96m\u001b[1mgetelementptr\u001b[22m\u001b[39m \u001b[95minbounds\u001b[39m \u001b[33m[\u001b[39m\u001b[33m4\u001b[39m \u001b[0mx \u001b[33m{\u001b[39m\u001b[33m}\u001b[39m\u001b[0m*\u001b[33m]\u001b[39m\u001b[0m, \u001b[33m[\u001b[39m\u001b[33m4\u001b[39m \u001b[0mx \u001b[33m{\u001b[39m\u001b[33m}\u001b[39m\u001b[0m*\u001b[33m]\u001b[39m\u001b[0m* \u001b[0m%gcframe2\u001b[0m, \u001b[36mi64\u001b[39m \u001b[33m0\u001b[39m\u001b[0m, \u001b[36mi64\u001b[39m \u001b[33m3\u001b[39m\n",
      "  \u001b[96m\u001b[1mstore\u001b[22m\u001b[39m \u001b[33m{\u001b[39m\u001b[33m}\u001b[39m\u001b[0m* \u001b[0m%11\u001b[0m, \u001b[33m{\u001b[39m\u001b[33m}\u001b[39m\u001b[0m** \u001b[0m%13\u001b[0m, \u001b[95malign\u001b[39m \u001b[33m8\u001b[39m\n",
      "  \u001b[96m\u001b[1mstore\u001b[22m\u001b[39m \u001b[33m{\u001b[39m\u001b[33m}\u001b[39m\u001b[0m* \u001b[0m%12\u001b[0m, \u001b[33m{\u001b[39m\u001b[33m}\u001b[39m\u001b[0m** \u001b[0m%9\u001b[0m, \u001b[95malign\u001b[39m \u001b[33m16\u001b[39m\n",
      "  \u001b[96m\u001b[1mstore\u001b[22m\u001b[39m \u001b[33m{\u001b[39m\u001b[33m}\u001b[39m\u001b[0m* \u001b[0m%11\u001b[0m, \u001b[33m{\u001b[39m\u001b[33m}\u001b[39m\u001b[0m** \u001b[0m%.sub\u001b[0m, \u001b[95malign\u001b[39m \u001b[33m8\u001b[39m\n",
      "  \u001b[96m\u001b[1mstore\u001b[22m\u001b[39m \u001b[33m{\u001b[39m\u001b[33m}\u001b[39m\u001b[0m* \u001b[0m%12\u001b[0m, \u001b[33m{\u001b[39m\u001b[33m}\u001b[39m\u001b[0m** \u001b[0m%10\u001b[0m, \u001b[95malign\u001b[39m \u001b[33m8\u001b[39m\n",
      "  \u001b[0m%14 \u001b[0m= \u001b[96m\u001b[1mcall\u001b[22m\u001b[39m \u001b[95mnonnull\u001b[39m \u001b[33m{\u001b[39m\u001b[33m}\u001b[39m\u001b[0m* \u001b[93m@ijl_apply_generic\u001b[39m\u001b[33m(\u001b[39m\u001b[33m{\u001b[39m\u001b[33m}\u001b[39m\u001b[0m* \u001b[95minttoptr\u001b[39m \u001b[33m(\u001b[39m\u001b[36mi64\u001b[39m \u001b[33m4993025936\u001b[39m \u001b[95mto\u001b[39m \u001b[33m{\u001b[39m\u001b[33m}\u001b[39m\u001b[0m*\u001b[33m)\u001b[39m\u001b[0m, \u001b[33m{\u001b[39m\u001b[33m}\u001b[39m\u001b[0m** \u001b[95mnonnull\u001b[39m \u001b[0m%.sub\u001b[0m, \u001b[36mi32\u001b[39m \u001b[33m2\u001b[39m\u001b[33m)\u001b[39m\n",
      "  \u001b[0m%15 \u001b[0m= \u001b[96m\u001b[1mload\u001b[22m\u001b[39m \u001b[33m{\u001b[39m\u001b[33m}\u001b[39m\u001b[0m*\u001b[0m, \u001b[33m{\u001b[39m\u001b[33m}\u001b[39m\u001b[0m** \u001b[0m%5\u001b[0m, \u001b[95malign\u001b[39m \u001b[33m8\u001b[39m\n",
      "  \u001b[0m%16 \u001b[0m= \u001b[96m\u001b[1mbitcast\u001b[22m\u001b[39m \u001b[33m{\u001b[39m\u001b[33m}\u001b[39m\u001b[0m*** \u001b[0m%2 \u001b[95mto\u001b[39m \u001b[33m{\u001b[39m\u001b[33m}\u001b[39m\u001b[0m**\n",
      "  \u001b[96m\u001b[1mstore\u001b[22m\u001b[39m \u001b[33m{\u001b[39m\u001b[33m}\u001b[39m\u001b[0m* \u001b[0m%15\u001b[0m, \u001b[33m{\u001b[39m\u001b[33m}\u001b[39m\u001b[0m** \u001b[0m%16\u001b[0m, \u001b[95malign\u001b[39m \u001b[33m8\u001b[39m\n",
      "  \u001b[96m\u001b[1mret\u001b[22m\u001b[39m \u001b[33m{\u001b[39m\u001b[33m}\u001b[39m\u001b[0m* \u001b[0m%14\n",
      "\u001b[33m}\u001b[39m\n"
     ]
    }
   ],
   "source": [
    "@code_llvm f()"
   ]
  },
  {
   "cell_type": "code",
   "execution_count": 244,
   "metadata": {},
   "outputs": [
    {
     "name": "stdout",
     "output_type": "stream",
     "text": [
      "MethodInstance for f()\n",
      "  from f() in Main at In[241]:4\n",
      "Arguments\n",
      "  #self#\u001b[36m::Core.Const(f)\u001b[39m\n",
      "Body\u001b[91m\u001b[1m::Any\u001b[22m\u001b[39m\n",
      "\u001b[90m1 ─\u001b[39m %1 = (2 * Main.a)\u001b[91m\u001b[1m::Any\u001b[22m\u001b[39m\n",
      "\u001b[90m│  \u001b[39m %2 = (%1 + Main.b)\u001b[91m\u001b[1m::Any\u001b[22m\u001b[39m\n",
      "\u001b[90m└──\u001b[39m      return %2\n",
      "\n"
     ]
    }
   ],
   "source": [
    "@code_warntype f()"
   ]
  },
  {
   "cell_type": "markdown",
   "metadata": {},
   "source": [
    "#### Fix 1: Work in local scope"
   ]
  },
  {
   "cell_type": "code",
   "execution_count": 97,
   "metadata": {},
   "outputs": [
    {
     "data": {
      "text/plain": [
       "7.0"
      ]
     },
     "execution_count": 97,
     "metadata": {},
     "output_type": "execute_result"
    }
   ],
   "source": [
    "function local_scope()\n",
    "    a=2.0\n",
    "    b=3.0\n",
    "    \n",
    "    f() = 2a+b\n",
    "    \n",
    "    return f() \n",
    "end\n",
    "\n",
    "local_scope()"
   ]
  },
  {
   "cell_type": "code",
   "execution_count": 98,
   "metadata": {},
   "outputs": [
    {
     "name": "stdout",
     "output_type": "stream",
     "text": [
      "\u001b[90m;  @ In[97]:1 within `local_scope`\u001b[39m\n",
      "\u001b[95mdefine\u001b[39m \u001b[36mdouble\u001b[39m \u001b[93m@julia_local_scope_6406\u001b[39m\u001b[33m(\u001b[39m\u001b[33m)\u001b[39m \u001b[0m#0 \u001b[33m{\u001b[39m\n",
      "\u001b[91mtop:\u001b[39m\n",
      "  \u001b[96m\u001b[1mret\u001b[22m\u001b[39m \u001b[36mdouble\u001b[39m \u001b[33m7.000000e+00\u001b[39m\n",
      "\u001b[33m}\u001b[39m\n"
     ]
    }
   ],
   "source": [
    "@code_llvm local_scope()"
   ]
  },
  {
   "cell_type": "markdown",
   "metadata": {},
   "source": [
    "This is fast.\n",
    "\n",
    "In fact, it's not just fast, but **as fast as it can be**! Julia has figured out the result of the calculation at compile-time and returns just the literal, i.e. `local_scope() = 7`."
   ]
  },
  {
   "cell_type": "code",
   "execution_count": 99,
   "metadata": {},
   "outputs": [
    {
     "name": "stdout",
     "output_type": "stream",
     "text": [
      "MethodInstance for local_scope()\n",
      "  from local_scope() in Main at In[97]:1\n",
      "Arguments\n",
      "  #self#\u001b[36m::Core.Const(local_scope)\u001b[39m\n",
      "Locals\n",
      "  f\u001b[36m::var\"#f#7\"{Float64, Float64}\u001b[39m\n",
      "  b\u001b[36m::Float64\u001b[39m\n",
      "  a\u001b[36m::Float64\u001b[39m\n",
      "Body\u001b[36m::Float64\u001b[39m\n",
      "\u001b[90m1 ─\u001b[39m      (a = 2.0)\n",
      "\u001b[90m│  \u001b[39m      (b = 3.0)\n",
      "\u001b[90m│  \u001b[39m %3 = Main.:(var\"#f#7\")\u001b[36m::Core.Const(var\"#f#7\")\u001b[39m\n",
      "\u001b[90m│  \u001b[39m %4 = Core.typeof(b::Core.Const(3.0))\u001b[36m::Core.Const(Float64)\u001b[39m\n",
      "\u001b[90m│  \u001b[39m %5 = Core.typeof(a::Core.Const(2.0))\u001b[36m::Core.Const(Float64)\u001b[39m\n",
      "\u001b[90m│  \u001b[39m %6 = Core.apply_type(%3, %4, %5)\u001b[36m::Core.Const(var\"#f#7\"{Float64, Float64})\u001b[39m\n",
      "\u001b[90m│  \u001b[39m %7 = b\u001b[36m::Core.Const(3.0)\u001b[39m\n",
      "\u001b[90m│  \u001b[39m      (f = %new(%6, %7, a::Core.Const(2.0)))\n",
      "\u001b[90m│  \u001b[39m %9 = (f::Core.Const(var\"#f#7\"{Float64, Float64}(3.0, 2.0)))()\u001b[36m::Core.Const(7.0)\u001b[39m\n",
      "\u001b[90m└──\u001b[39m      return %9\n",
      "\n"
     ]
    }
   ],
   "source": [
    "@code_warntype local_scope()"
   ]
  },
  {
   "cell_type": "markdown",
   "metadata": {},
   "source": [
    "#### Fix 2: Make globals `const`ant"
   ]
  },
  {
   "cell_type": "code",
   "execution_count": 100,
   "metadata": {},
   "outputs": [
    {
     "data": {
      "text/plain": [
       "7.0"
      ]
     },
     "execution_count": 100,
     "metadata": {},
     "output_type": "execute_result"
    }
   ],
   "source": [
    "const A=2.0\n",
    "const B=3.0\n",
    "\n",
    "f() = 2A+B\n",
    "\n",
    "f()"
   ]
  },
  {
   "cell_type": "code",
   "execution_count": 101,
   "metadata": {},
   "outputs": [
    {
     "name": "stdout",
     "output_type": "stream",
     "text": [
      "\u001b[90m;  @ In[100]:4 within `f`\u001b[39m\n",
      "\u001b[95mdefine\u001b[39m \u001b[36mdouble\u001b[39m \u001b[93m@julia_f_6534\u001b[39m\u001b[33m(\u001b[39m\u001b[33m)\u001b[39m \u001b[0m#0 \u001b[33m{\u001b[39m\n",
      "\u001b[91mtop:\u001b[39m\n",
      "  \u001b[96m\u001b[1mret\u001b[22m\u001b[39m \u001b[36mdouble\u001b[39m \u001b[33m7.000000e+00\u001b[39m\n",
      "\u001b[33m}\u001b[39m\n"
     ]
    }
   ],
   "source": [
    "@code_llvm f()"
   ]
  },
  {
   "cell_type": "code",
   "execution_count": 103,
   "metadata": {},
   "outputs": [
    {
     "name": "stdout",
     "output_type": "stream",
     "text": [
      "MethodInstance for f()\n",
      "  from f() in Main at In[100]:4\n",
      "Arguments\n",
      "  #self#\u001b[36m::Core.Const(f)\u001b[39m\n",
      "Body\u001b[36m::Float64\u001b[39m\n",
      "\u001b[90m1 ─\u001b[39m %1 = (2 * Main.A)\u001b[36m::Core.Const(4.0)\u001b[39m\n",
      "\u001b[90m│  \u001b[39m %2 = (%1 + Main.B)\u001b[36m::Core.Const(7.0)\u001b[39m\n",
      "\u001b[90m└──\u001b[39m      return %2\n",
      "\n"
     ]
    }
   ],
   "source": [
    "@code_warntype f()"
   ]
  },
  {
   "cell_type": "markdown",
   "metadata": {},
   "source": [
    "#### Fix 3: Write self-contained functions"
   ]
  },
  {
   "cell_type": "code",
   "execution_count": 108,
   "metadata": {},
   "outputs": [
    {
     "data": {
      "text/plain": [
       "f (generic function with 3 methods)"
      ]
     },
     "execution_count": 108,
     "metadata": {},
     "output_type": "execute_result"
    }
   ],
   "source": [
    "f(a,b) = 2a+b"
   ]
  },
  {
   "cell_type": "code",
   "execution_count": 114,
   "metadata": {},
   "outputs": [
    {
     "name": "stdout",
     "output_type": "stream",
     "text": [
      "\u001b[95mdefine\u001b[39m \u001b[36mdouble\u001b[39m \u001b[93m@julia_f_6582\u001b[39m\u001b[33m(\u001b[39m\u001b[36mdouble\u001b[39m \u001b[0m%0\u001b[0m, \u001b[36mdouble\u001b[39m \u001b[0m%1\u001b[33m)\u001b[39m \u001b[0m#0 \u001b[33m{\u001b[39m\n",
      "\u001b[91mtop:\u001b[39m\n",
      "  \u001b[0m%2 \u001b[0m= \u001b[96m\u001b[1mfmul\u001b[22m\u001b[39m \u001b[36mdouble\u001b[39m \u001b[0m%0\u001b[0m, \u001b[33m2.000000e+00\u001b[39m\n",
      "  \u001b[0m%3 \u001b[0m= \u001b[96m\u001b[1mfadd\u001b[22m\u001b[39m \u001b[36mdouble\u001b[39m \u001b[0m%2\u001b[0m, \u001b[0m%1\n",
      "  \u001b[96m\u001b[1mret\u001b[22m\u001b[39m \u001b[36mdouble\u001b[39m \u001b[0m%3\n",
      "\u001b[33m}\u001b[39m\n"
     ]
    }
   ],
   "source": [
    "@code_llvm debuginfo=:none f(2.0,3.0)"
   ]
  },
  {
   "cell_type": "markdown",
   "metadata": {},
   "source": [
    "**Write functions not scripts!**"
   ]
  },
  {
   "cell_type": "markdown",
   "metadata": {},
   "source": [
    "### Example: Multiple `return` statements"
   ]
  },
  {
   "cell_type": "code",
   "execution_count": 195,
   "metadata": {},
   "outputs": [
    {
     "data": {
      "text/plain": [
       "f (generic function with 4 methods)"
      ]
     },
     "execution_count": 195,
     "metadata": {},
     "output_type": "execute_result"
    }
   ],
   "source": [
    "function f(x, flag)\n",
    "    if flag\n",
    "        return 1:3\n",
    "    else\n",
    "        return [1,2,3]\n",
    "    end\n",
    "end"
   ]
  },
  {
   "cell_type": "code",
   "execution_count": 196,
   "metadata": {},
   "outputs": [
    {
     "name": "stdout",
     "output_type": "stream",
     "text": [
      "MethodInstance for f(::Vector{Float64}, ::Bool)\n",
      "  from f(x, flag) in Main at In[195]:1\n",
      "Arguments\n",
      "  #self#\u001b[36m::Core.Const(f)\u001b[39m\n",
      "  x\u001b[36m::Vector{Float64}\u001b[39m\n",
      "  flag\u001b[36m::Bool\u001b[39m\n",
      "Body\u001b[91m\u001b[1m::Union{UnitRange{Int64}, Vector{Int64}}\u001b[22m\u001b[39m\n",
      "\u001b[90m1 ─\u001b[39m      goto #3 if not flag\n",
      "\u001b[90m2 ─\u001b[39m %2 = (1:3)\u001b[36m::Core.Const(1:3)\u001b[39m\n",
      "\u001b[90m└──\u001b[39m      return %2\n",
      "\u001b[90m3 ─\u001b[39m %4 = Base.vect(1, 2, 3)\u001b[36m::Vector{Int64}\u001b[39m\n",
      "\u001b[90m└──\u001b[39m      return %4\n",
      "\n"
     ]
    }
   ],
   "source": [
    "@code_warntype f(rand(10), true)"
   ]
  },
  {
   "cell_type": "code",
   "execution_count": 199,
   "metadata": {},
   "outputs": [
    {
     "data": {
      "text/plain": [
       "UnitRange{Int64}"
      ]
     },
     "execution_count": 199,
     "metadata": {},
     "output_type": "execute_result"
    }
   ],
   "source": [
    "typeof(f(x, true))"
   ]
  },
  {
   "cell_type": "code",
   "execution_count": 200,
   "metadata": {},
   "outputs": [
    {
     "data": {
      "text/plain": [
       "Vector{Int64}\u001b[90m (alias for \u001b[39m\u001b[90mArray{Int64, 1}\u001b[39m\u001b[90m)\u001b[39m"
      ]
     },
     "execution_count": 200,
     "metadata": {},
     "output_type": "execute_result"
    }
   ],
   "source": [
    "typeof(f(x, false))"
   ]
  },
  {
   "cell_type": "markdown",
   "metadata": {},
   "source": [
    "#### Fix: Single `return` statement"
   ]
  },
  {
   "cell_type": "code",
   "execution_count": 204,
   "metadata": {},
   "outputs": [
    {
     "data": {
      "text/plain": [
       "f (generic function with 4 methods)"
      ]
     },
     "execution_count": 204,
     "metadata": {},
     "output_type": "execute_result"
    }
   ],
   "source": [
    "function f(x, flag)\n",
    "    result = Vector{Int64}(undef, 3)\n",
    "    if flag\n",
    "        result .= 1:3\n",
    "    else\n",
    "        result .= [1,2,3]\n",
    "    end\n",
    "    return result\n",
    "end"
   ]
  },
  {
   "cell_type": "code",
   "execution_count": 205,
   "metadata": {},
   "outputs": [
    {
     "name": "stdout",
     "output_type": "stream",
     "text": [
      "MethodInstance for f(::Vector{Float64}, ::Bool)\n",
      "  from f(x, flag) in Main at In[204]:1\n",
      "Arguments\n",
      "  #self#\u001b[36m::Core.Const(f)\u001b[39m\n",
      "  x\u001b[36m::Vector{Float64}\u001b[39m\n",
      "  flag\u001b[36m::Bool\u001b[39m\n",
      "Locals\n",
      "  result\u001b[36m::Vector{Int64}\u001b[39m\n",
      "Body\u001b[36m::Vector{Int64}\u001b[39m\n",
      "\u001b[90m1 ─\u001b[39m %1  = Core.apply_type(Main.Vector, Main.Int64)\u001b[36m::Core.Const(Vector{Int64})\u001b[39m\n",
      "\u001b[90m│  \u001b[39m       (result = (%1)(Main.undef, 3))\n",
      "\u001b[90m└──\u001b[39m       goto #3 if not flag\n",
      "\u001b[90m2 ─\u001b[39m %4  = result\u001b[36m::Vector{Int64}\u001b[39m\n",
      "\u001b[90m│  \u001b[39m %5  = (1:3)\u001b[36m::Core.Const(1:3)\u001b[39m\n",
      "\u001b[90m│  \u001b[39m %6  = Base.broadcasted(Base.identity, %5)\u001b[36m::Core.Const(Base.Broadcast.Broadcasted(identity, (1:3,)))\u001b[39m\n",
      "\u001b[90m│  \u001b[39m       Base.materialize!(%4, %6)\n",
      "\u001b[90m└──\u001b[39m       goto #4\n",
      "\u001b[90m3 ─\u001b[39m %9  = result\u001b[36m::Vector{Int64}\u001b[39m\n",
      "\u001b[90m│  \u001b[39m %10 = Base.vect(1, 2, 3)\u001b[36m::Vector{Int64}\u001b[39m\n",
      "\u001b[90m│  \u001b[39m %11 = Base.broadcasted(Base.identity, %10)\u001b[36m::Base.Broadcast.Broadcasted{Base.Broadcast.DefaultArrayStyle{1}, Nothing, typeof(identity), Tuple{Vector{Int64}}}\u001b[39m\n",
      "\u001b[90m└──\u001b[39m       Base.materialize!(%9, %11)\n",
      "\u001b[90m4 ┄\u001b[39m       return result\n",
      "\n"
     ]
    }
   ],
   "source": [
    "@code_warntype f(x, true)"
   ]
  },
  {
   "cell_type": "markdown",
   "metadata": {},
   "source": [
    "## Type inference: Avoid abstract field types"
   ]
  },
  {
   "cell_type": "markdown",
   "metadata": {},
   "source": [
    "A common reason for type inference to break are not-concretely typed fields in `struct`s."
   ]
  },
  {
   "cell_type": "markdown",
   "metadata": {},
   "source": [
    "### Example"
   ]
  },
  {
   "cell_type": "code",
   "execution_count": 4,
   "metadata": {},
   "outputs": [],
   "source": [
    "using BenchmarkTools"
   ]
  },
  {
   "cell_type": "code",
   "execution_count": 1,
   "metadata": {},
   "outputs": [
    {
     "data": {
      "text/plain": [
       "f (generic function with 1 method)"
      ]
     },
     "execution_count": 1,
     "metadata": {},
     "output_type": "execute_result"
    }
   ],
   "source": [
    "struct MyType\n",
    "    x::Number\n",
    "    y\n",
    "end\n",
    "\n",
    "f(a::MyType) = a.x^2 + sqrt(a.x)"
   ]
  },
  {
   "cell_type": "code",
   "execution_count": 2,
   "metadata": {},
   "outputs": [
    {
     "name": "stdout",
     "output_type": "stream",
     "text": [
      "MethodInstance for f(::MyType)\n",
      "  from f(a::MyType) in Main at In[1]:6\n",
      "Arguments\n",
      "  #self#\u001b[36m::Core.Const(f)\u001b[39m\n",
      "  a\u001b[36m::MyType\u001b[39m\n",
      "Body\u001b[91m\u001b[1m::Any\u001b[22m\u001b[39m\n",
      "\u001b[90m1 ─\u001b[39m %1 = Base.getproperty(a, :x)\u001b[91m\u001b[1m::Number\u001b[22m\u001b[39m\n",
      "\u001b[90m│  \u001b[39m %2 = Core.apply_type(Base.Val, 2)\u001b[36m::Core.Const(Val{2})\u001b[39m\n",
      "\u001b[90m│  \u001b[39m %3 = (%2)()\u001b[36m::Core.Const(Val{2}())\u001b[39m\n",
      "\u001b[90m│  \u001b[39m %4 = Base.literal_pow(Main.:^, %1, %3)\u001b[91m\u001b[1m::Any\u001b[22m\u001b[39m\n",
      "\u001b[90m│  \u001b[39m %5 = Base.getproperty(a, :x)\u001b[91m\u001b[1m::Number\u001b[22m\u001b[39m\n",
      "\u001b[90m│  \u001b[39m %6 = Main.sqrt(%5)\u001b[91m\u001b[1m::Any\u001b[22m\u001b[39m\n",
      "\u001b[90m│  \u001b[39m %7 = (%4 + %6)\u001b[91m\u001b[1m::Any\u001b[22m\u001b[39m\n",
      "\u001b[90m└──\u001b[39m      return %7\n",
      "\n"
     ]
    }
   ],
   "source": [
    "a = MyType(3.0, \"test\")\n",
    "\n",
    "@code_warntype f(a);"
   ]
  },
  {
   "cell_type": "code",
   "execution_count": 5,
   "metadata": {},
   "outputs": [
    {
     "name": "stdout",
     "output_type": "stream",
     "text": [
      "  84.316 ns (3 allocations: 48 bytes)\n"
     ]
    }
   ],
   "source": [
    "@btime f($a);"
   ]
  },
  {
   "cell_type": "code",
   "execution_count": 6,
   "metadata": {},
   "outputs": [
    {
     "data": {
      "text/plain": [
       "MyType"
      ]
     },
     "execution_count": 6,
     "metadata": {},
     "output_type": "execute_result"
    }
   ],
   "source": [
    "typeof(a)"
   ]
  },
  {
   "cell_type": "markdown",
   "metadata": {},
   "source": [
    "**Note:** Technically not a type instability according to our definition because the return type is always `Any`.\n",
    "\n",
    "**\"Type stability\"**: A function `f` is type stable if for a given set of input argument types the return type is always the same and *concrete*."
   ]
  },
  {
   "cell_type": "markdown",
   "metadata": {},
   "source": [
    "#### Fix 1: Concrete typing"
   ]
  },
  {
   "cell_type": "code",
   "execution_count": 206,
   "metadata": {},
   "outputs": [
    {
     "data": {
      "text/plain": [
       "f (generic function with 5 methods)"
      ]
     },
     "execution_count": 206,
     "metadata": {},
     "output_type": "execute_result"
    }
   ],
   "source": [
    "struct MyTypeConcrete\n",
    "    x::Float64\n",
    "    y::String\n",
    "end\n",
    "\n",
    "f(b::MyTypeConcrete) = b.x^2 + sqrt(b.x)"
   ]
  },
  {
   "cell_type": "code",
   "execution_count": 207,
   "metadata": {},
   "outputs": [
    {
     "name": "stdout",
     "output_type": "stream",
     "text": [
      "MethodInstance for f(::MyTypeConcrete)\n",
      "  from f(b::MyTypeConcrete) in Main at In[206]:6\n",
      "Arguments\n",
      "  #self#\u001b[36m::Core.Const(f)\u001b[39m\n",
      "  b\u001b[36m::MyTypeConcrete\u001b[39m\n",
      "Body\u001b[36m::Float64\u001b[39m\n",
      "\u001b[90m1 ─\u001b[39m %1 = Base.getproperty(b, :x)\u001b[36m::Float64\u001b[39m\n",
      "\u001b[90m│  \u001b[39m %2 = Core.apply_type(Base.Val, 2)\u001b[36m::Core.Const(Val{2})\u001b[39m\n",
      "\u001b[90m│  \u001b[39m %3 = (%2)()\u001b[36m::Core.Const(Val{2}())\u001b[39m\n",
      "\u001b[90m│  \u001b[39m %4 = Base.literal_pow(Main.:^, %1, %3)\u001b[36m::Float64\u001b[39m\n",
      "\u001b[90m│  \u001b[39m %5 = Base.getproperty(b, :x)\u001b[36m::Float64\u001b[39m\n",
      "\u001b[90m│  \u001b[39m %6 = Main.sqrt(%5)\u001b[36m::Float64\u001b[39m\n",
      "\u001b[90m│  \u001b[39m %7 = (%4 + %6)\u001b[36m::Float64\u001b[39m\n",
      "\u001b[90m└──\u001b[39m      return %7\n",
      "\n"
     ]
    }
   ],
   "source": [
    "b = MyTypeConcrete(3.0, \"test\")\n",
    "@code_warntype f(b)"
   ]
  },
  {
   "cell_type": "code",
   "execution_count": 208,
   "metadata": {},
   "outputs": [
    {
     "name": "stdout",
     "output_type": "stream",
     "text": [
      "  4.291 ns (0 allocations: 0 bytes)\n"
     ]
    }
   ],
   "source": [
    "@btime f($b);"
   ]
  },
  {
   "cell_type": "markdown",
   "metadata": {},
   "source": [
    "#### Fix 2: Type parameters"
   ]
  },
  {
   "cell_type": "markdown",
   "metadata": {},
   "source": [
    "But what if I want to accept any kind of, say, `Number` and `AbstractString` for our type?"
   ]
  },
  {
   "cell_type": "code",
   "execution_count": 15,
   "metadata": {},
   "outputs": [
    {
     "data": {
      "text/plain": [
       "f (generic function with 3 methods)"
      ]
     },
     "execution_count": 15,
     "metadata": {},
     "output_type": "execute_result"
    }
   ],
   "source": [
    "struct MyTypeParametric{A<:Number, B<:AbstractString}\n",
    "    x::A\n",
    "    y::B\n",
    "end\n",
    "\n",
    "f(c::MyTypeParametric) = c.x^2 + sqrt(c.x)"
   ]
  },
  {
   "cell_type": "code",
   "execution_count": 17,
   "metadata": {},
   "outputs": [
    {
     "data": {
      "text/plain": [
       "MyTypeParametric{Float64, String}(3.0, \"test\")"
      ]
     },
     "execution_count": 17,
     "metadata": {},
     "output_type": "execute_result"
    }
   ],
   "source": [
    "c = MyTypeParametric(3.0, \"test\")"
   ]
  },
  {
   "cell_type": "code",
   "execution_count": 19,
   "metadata": {},
   "outputs": [
    {
     "name": "stdout",
     "output_type": "stream",
     "text": [
      "MethodInstance for f(::MyTypeParametric{Float64, String})\n",
      "  from f(c::MyTypeParametric) in Main at In[15]:6\n",
      "Arguments\n",
      "  #self#\u001b[36m::Core.Const(f)\u001b[39m\n",
      "  c\u001b[36m::MyTypeParametric{Float64, String}\u001b[39m\n",
      "Body\u001b[36m::Float64\u001b[39m\n",
      "\u001b[90m1 ─\u001b[39m %1 = Base.getproperty(c, :x)\u001b[36m::Float64\u001b[39m\n",
      "\u001b[90m│  \u001b[39m %2 = Core.apply_type(Base.Val, 2)\u001b[36m::Core.Const(Val{2})\u001b[39m\n",
      "\u001b[90m│  \u001b[39m %3 = (%2)()\u001b[36m::Core.Const(Val{2}())\u001b[39m\n",
      "\u001b[90m│  \u001b[39m %4 = Base.literal_pow(Main.:^, %1, %3)\u001b[36m::Float64\u001b[39m\n",
      "\u001b[90m│  \u001b[39m %5 = Base.getproperty(c, :x)\u001b[36m::Float64\u001b[39m\n",
      "\u001b[90m│  \u001b[39m %6 = Main.sqrt(%5)\u001b[36m::Float64\u001b[39m\n",
      "\u001b[90m│  \u001b[39m %7 = (%4 + %6)\u001b[36m::Float64\u001b[39m\n",
      "\u001b[90m└──\u001b[39m      return %7\n",
      "\n"
     ]
    }
   ],
   "source": [
    "@code_warntype f(c)"
   ]
  },
  {
   "cell_type": "markdown",
   "metadata": {},
   "source": [
    "From the type alone the compiler knows what the structure contains and can produce optimal code:"
   ]
  },
  {
   "cell_type": "code",
   "execution_count": 14,
   "metadata": {},
   "outputs": [
    {
     "name": "stdout",
     "output_type": "stream",
     "text": [
      "  4.357 ns (0 allocations: 0 bytes)\n"
     ]
    }
   ],
   "source": [
    "@btime f($c);"
   ]
  },
  {
   "cell_type": "code",
   "execution_count": 20,
   "metadata": {},
   "outputs": [
    {
     "data": {
      "text/plain": [
       "MyTypeParametric{Float32, SubString{String}}(3.0f0, \"test\")"
      ]
     },
     "execution_count": 20,
     "metadata": {},
     "output_type": "execute_result"
    }
   ],
   "source": [
    "c = MyTypeParametric(Float32(3.0), SubString(\"test\"))"
   ]
  },
  {
   "cell_type": "code",
   "execution_count": 21,
   "metadata": {},
   "outputs": [
    {
     "name": "stdout",
     "output_type": "stream",
     "text": [
      "  3.909 ns (0 allocations: 0 bytes)\n"
     ]
    }
   ],
   "source": [
    "@btime f($c);"
   ]
  },
  {
   "cell_type": "markdown",
   "metadata": {},
   "source": [
    "## Type inference: Avoid untyped containers"
   ]
  },
  {
   "cell_type": "markdown",
   "metadata": {},
   "source": [
    "### Example"
   ]
  },
  {
   "cell_type": "code",
   "execution_count": 127,
   "metadata": {},
   "outputs": [
    {
     "name": "stdout",
     "output_type": "stream",
     "text": [
      "  468.765 ns (3 allocations: 464 bytes)\n"
     ]
    }
   ],
   "source": [
    "function f()\n",
    "    numbers = []\n",
    "    for i in 1:10\n",
    "        push!(numbers, i)\n",
    "    end\n",
    "    sum(numbers)\n",
    "end\n",
    "\n",
    "@btime f();"
   ]
  },
  {
   "cell_type": "code",
   "execution_count": 128,
   "metadata": {},
   "outputs": [
    {
     "name": "stdout",
     "output_type": "stream",
     "text": [
      "MethodInstance for f()\n",
      "  from f() in Main at In[127]:1\n",
      "Arguments\n",
      "  #self#\u001b[36m::Core.Const(f)\u001b[39m\n",
      "Locals\n",
      "  @_2\u001b[33m\u001b[1m::Union{Nothing, Tuple{Int64, Int64}}\u001b[22m\u001b[39m\n",
      "  numbers\u001b[36m::Vector{Any}\u001b[39m\n",
      "  i\u001b[36m::Int64\u001b[39m\n",
      "Body\u001b[91m\u001b[1m::Any\u001b[22m\u001b[39m\n",
      "\u001b[90m1 ─\u001b[39m       (numbers = Base.vect())\n",
      "\u001b[90m│  \u001b[39m %2  = (1:10)\u001b[36m::Core.Const(1:10)\u001b[39m\n",
      "\u001b[90m│  \u001b[39m       (@_2 = Base.iterate(%2))\n",
      "\u001b[90m│  \u001b[39m %4  = (@_2::Core.Const((1, 1)) === nothing)\u001b[36m::Core.Const(false)\u001b[39m\n",
      "\u001b[90m│  \u001b[39m %5  = Base.not_int(%4)\u001b[36m::Core.Const(true)\u001b[39m\n",
      "\u001b[90m└──\u001b[39m       goto #4 if not %5\n",
      "\u001b[90m2 ┄\u001b[39m %7  = @_2\u001b[36m::Tuple{Int64, Int64}\u001b[39m\n",
      "\u001b[90m│  \u001b[39m       (i = Core.getfield(%7, 1))\n",
      "\u001b[90m│  \u001b[39m %9  = Core.getfield(%7, 2)\u001b[36m::Int64\u001b[39m\n",
      "\u001b[90m│  \u001b[39m       Main.push!(numbers, i)\n",
      "\u001b[90m│  \u001b[39m       (@_2 = Base.iterate(%2, %9))\n",
      "\u001b[90m│  \u001b[39m %12 = (@_2 === nothing)\u001b[36m::Bool\u001b[39m\n",
      "\u001b[90m│  \u001b[39m %13 = Base.not_int(%12)\u001b[36m::Bool\u001b[39m\n",
      "\u001b[90m└──\u001b[39m       goto #4 if not %13\n",
      "\u001b[90m3 ─\u001b[39m       goto #2\n",
      "\u001b[90m4 ┄\u001b[39m %16 = Main.sum(numbers)\u001b[91m\u001b[1m::Any\u001b[22m\u001b[39m\n",
      "\u001b[90m└──\u001b[39m       return %16\n",
      "\n"
     ]
    }
   ],
   "source": [
    "@code_warntype f()"
   ]
  },
  {
   "cell_type": "code",
   "execution_count": 212,
   "metadata": {},
   "outputs": [
    {
     "data": {
      "text/plain": [
       "Vector{Any}\u001b[90m (alias for \u001b[39m\u001b[90mArray{Any, 1}\u001b[39m\u001b[90m)\u001b[39m"
      ]
     },
     "execution_count": 212,
     "metadata": {},
     "output_type": "execute_result"
    }
   ],
   "source": [
    "typeof([])"
   ]
  },
  {
   "cell_type": "code",
   "execution_count": 131,
   "metadata": {},
   "outputs": [
    {
     "name": "stdout",
     "output_type": "stream",
     "text": [
      "  199.894 ns (3 allocations: 480 bytes)\n"
     ]
    }
   ],
   "source": [
    "function f()\n",
    "    numbers = Int[]\n",
    "    for i in 1:10\n",
    "        push!(numbers, i)\n",
    "    end\n",
    "    sum(numbers)\n",
    "end\n",
    "\n",
    "@btime f();"
   ]
  },
  {
   "cell_type": "code",
   "execution_count": 132,
   "metadata": {},
   "outputs": [
    {
     "name": "stdout",
     "output_type": "stream",
     "text": [
      "MethodInstance for f()\n",
      "  from f() in Main at In[131]:1\n",
      "Arguments\n",
      "  #self#\u001b[36m::Core.Const(f)\u001b[39m\n",
      "Locals\n",
      "  @_2\u001b[33m\u001b[1m::Union{Nothing, Tuple{Int64, Int64}}\u001b[22m\u001b[39m\n",
      "  numbers\u001b[36m::Vector{Int64}\u001b[39m\n",
      "  i\u001b[36m::Int64\u001b[39m\n",
      "Body\u001b[36m::Int64\u001b[39m\n",
      "\u001b[90m1 ─\u001b[39m       (numbers = Base.getindex(Main.Int))\n",
      "\u001b[90m│  \u001b[39m %2  = (1:10)\u001b[36m::Core.Const(1:10)\u001b[39m\n",
      "\u001b[90m│  \u001b[39m       (@_2 = Base.iterate(%2))\n",
      "\u001b[90m│  \u001b[39m %4  = (@_2::Core.Const((1, 1)) === nothing)\u001b[36m::Core.Const(false)\u001b[39m\n",
      "\u001b[90m│  \u001b[39m %5  = Base.not_int(%4)\u001b[36m::Core.Const(true)\u001b[39m\n",
      "\u001b[90m└──\u001b[39m       goto #4 if not %5\n",
      "\u001b[90m2 ┄\u001b[39m %7  = @_2\u001b[36m::Tuple{Int64, Int64}\u001b[39m\n",
      "\u001b[90m│  \u001b[39m       (i = Core.getfield(%7, 1))\n",
      "\u001b[90m│  \u001b[39m %9  = Core.getfield(%7, 2)\u001b[36m::Int64\u001b[39m\n",
      "\u001b[90m│  \u001b[39m       Main.push!(numbers, i)\n",
      "\u001b[90m│  \u001b[39m       (@_2 = Base.iterate(%2, %9))\n",
      "\u001b[90m│  \u001b[39m %12 = (@_2 === nothing)\u001b[36m::Bool\u001b[39m\n",
      "\u001b[90m│  \u001b[39m %13 = Base.not_int(%12)\u001b[36m::Bool\u001b[39m\n",
      "\u001b[90m└──\u001b[39m       goto #4 if not %13\n",
      "\u001b[90m3 ─\u001b[39m       goto #2\n",
      "\u001b[90m4 ┄\u001b[39m %16 = Main.sum(numbers)\u001b[36m::Int64\u001b[39m\n",
      "\u001b[90m└──\u001b[39m       return %16\n",
      "\n"
     ]
    }
   ],
   "source": [
    "@code_warntype f()"
   ]
  },
  {
   "cell_type": "markdown",
   "metadata": {},
   "source": [
    "## Type inference: Avoid changing variable types"
   ]
  },
  {
   "cell_type": "markdown",
   "metadata": {},
   "source": [
    "Variables in a function should not change type."
   ]
  },
  {
   "cell_type": "markdown",
   "metadata": {},
   "source": [
    "### Example"
   ]
  },
  {
   "cell_type": "code",
   "execution_count": 56,
   "metadata": {},
   "outputs": [
    {
     "data": {
      "text/plain": [
       "f (generic function with 5 methods)"
      ]
     },
     "execution_count": 56,
     "metadata": {},
     "output_type": "execute_result"
    }
   ],
   "source": [
    "function f()\n",
    "    x = 1\n",
    "    for i = 1:10\n",
    "        x /= rand()\n",
    "    end\n",
    "    return x\n",
    "end"
   ]
  },
  {
   "cell_type": "code",
   "execution_count": 60,
   "metadata": {},
   "outputs": [
    {
     "name": "stdout",
     "output_type": "stream",
     "text": [
      "MethodInstance for f()\n",
      "  from f() in Main at In[56]:1\n",
      "Arguments\n",
      "  #self#\u001b[36m::Core.Const(f)\u001b[39m\n",
      "Locals\n",
      "  @_2\u001b[33m\u001b[1m::Union{Nothing, Tuple{Int64, Int64}}\u001b[22m\u001b[39m\n",
      "  x\u001b[91m\u001b[1m::Union{Float64, Int64}\u001b[22m\u001b[39m\n",
      "  i\u001b[36m::Int64\u001b[39m\n",
      "Body\u001b[36m::Float64\u001b[39m\n",
      "\u001b[90m1 ─\u001b[39m       (x = 1)\n",
      "\u001b[90m│  \u001b[39m %2  = (1:10)\u001b[36m::Core.Const(1:10)\u001b[39m\n",
      "\u001b[90m│  \u001b[39m       (@_2 = Base.iterate(%2))\n",
      "\u001b[90m│  \u001b[39m %4  = (@_2::Core.Const((1, 1)) === nothing)\u001b[36m::Core.Const(false)\u001b[39m\n",
      "\u001b[90m│  \u001b[39m %5  = Base.not_int(%4)\u001b[36m::Core.Const(true)\u001b[39m\n",
      "\u001b[90m└──\u001b[39m       goto #4 if not %5\n",
      "\u001b[90m2 ┄\u001b[39m %7  = @_2\u001b[36m::Tuple{Int64, Int64}\u001b[39m\n",
      "\u001b[90m│  \u001b[39m       (i = Core.getfield(%7, 1))\n",
      "\u001b[90m│  \u001b[39m %9  = Core.getfield(%7, 2)\u001b[36m::Int64\u001b[39m\n",
      "\u001b[90m│  \u001b[39m %10 = x\u001b[91m\u001b[1m::Union{Float64, Int64}\u001b[22m\u001b[39m\n",
      "\u001b[90m│  \u001b[39m %11 = Main.rand()\u001b[36m::Float64\u001b[39m\n",
      "\u001b[90m│  \u001b[39m       (x = %10 / %11)\n",
      "\u001b[90m│  \u001b[39m       (@_2 = Base.iterate(%2, %9))\n",
      "\u001b[90m│  \u001b[39m %14 = (@_2 === nothing)\u001b[36m::Bool\u001b[39m\n",
      "\u001b[90m│  \u001b[39m %15 = Base.not_int(%14)\u001b[36m::Bool\u001b[39m\n",
      "\u001b[90m└──\u001b[39m       goto #4 if not %15\n",
      "\u001b[90m3 ─\u001b[39m       goto #2\n",
      "\u001b[90m4 ┄\u001b[39m       return x::Float64\n",
      "\n"
     ]
    }
   ],
   "source": [
    "@code_warntype f()"
   ]
  },
  {
   "cell_type": "markdown",
   "metadata": {},
   "source": [
    "(On a side note: since the type can only vary between `Float64` and `Int64`, Julia can still produce reasonable code by *union splitting*. I recommend reading [this blog post](https://julialang.org/blog/2018/08/union-splitting) by Tim Holy.)"
   ]
  },
  {
   "cell_type": "markdown",
   "metadata": {},
   "source": [
    "#### Fix 1: Initialize with correct type"
   ]
  },
  {
   "cell_type": "code",
   "execution_count": 66,
   "metadata": {},
   "outputs": [
    {
     "data": {
      "text/plain": [
       "f (generic function with 5 methods)"
      ]
     },
     "execution_count": 66,
     "metadata": {},
     "output_type": "execute_result"
    }
   ],
   "source": [
    "function f()\n",
    "    x = 1.0\n",
    "    for i = 1:10\n",
    "        x /= rand()\n",
    "    end\n",
    "    return x\n",
    "end"
   ]
  },
  {
   "cell_type": "code",
   "execution_count": 69,
   "metadata": {},
   "outputs": [
    {
     "name": "stdout",
     "output_type": "stream",
     "text": [
      "MethodInstance for f()\n",
      "  from f() in Main at In[66]:1\n",
      "Arguments\n",
      "  #self#\u001b[36m::Core.Const(f)\u001b[39m\n",
      "Locals\n",
      "  @_2\u001b[33m\u001b[1m::Union{Nothing, Tuple{Int64, Int64}}\u001b[22m\u001b[39m\n",
      "  x\u001b[36m::Float64\u001b[39m\n",
      "  i\u001b[36m::Int64\u001b[39m\n",
      "Body\u001b[36m::Float64\u001b[39m\n",
      "\u001b[90m1 ─\u001b[39m       (x = 1.0)\n",
      "\u001b[90m│  \u001b[39m %2  = (1:10)\u001b[36m::Core.Const(1:10)\u001b[39m\n",
      "\u001b[90m│  \u001b[39m       (@_2 = Base.iterate(%2))\n",
      "\u001b[90m│  \u001b[39m %4  = (@_2::Core.Const((1, 1)) === nothing)\u001b[36m::Core.Const(false)\u001b[39m\n",
      "\u001b[90m│  \u001b[39m %5  = Base.not_int(%4)\u001b[36m::Core.Const(true)\u001b[39m\n",
      "\u001b[90m└──\u001b[39m       goto #4 if not %5\n",
      "\u001b[90m2 ┄\u001b[39m %7  = @_2\u001b[36m::Tuple{Int64, Int64}\u001b[39m\n",
      "\u001b[90m│  \u001b[39m       (i = Core.getfield(%7, 1))\n",
      "\u001b[90m│  \u001b[39m %9  = Core.getfield(%7, 2)\u001b[36m::Int64\u001b[39m\n",
      "\u001b[90m│  \u001b[39m %10 = x\u001b[36m::Float64\u001b[39m\n",
      "\u001b[90m│  \u001b[39m %11 = Main.rand()\u001b[36m::Float64\u001b[39m\n",
      "\u001b[90m│  \u001b[39m       (x = %10 / %11)\n",
      "\u001b[90m│  \u001b[39m       (@_2 = Base.iterate(%2, %9))\n",
      "\u001b[90m│  \u001b[39m %14 = (@_2 === nothing)\u001b[36m::Bool\u001b[39m\n",
      "\u001b[90m│  \u001b[39m %15 = Base.not_int(%14)\u001b[36m::Bool\u001b[39m\n",
      "\u001b[90m└──\u001b[39m       goto #4 if not %15\n",
      "\u001b[90m3 ─\u001b[39m       goto #2\n",
      "\u001b[90m4 ┄\u001b[39m       return x\n",
      "\n"
     ]
    }
   ],
   "source": [
    "@code_warntype f()"
   ]
  },
  {
   "cell_type": "code",
   "execution_count": 28,
   "metadata": {},
   "outputs": [
    {
     "name": "stdout",
     "output_type": "stream",
     "text": [
      "Variables\n",
      "  #self#\u001b[36m::Core.Const(h)\u001b[39m\n",
      "  @_2\u001b[33m\u001b[1m::Union{Nothing, Tuple{Int64, Int64}}\u001b[22m\u001b[39m\n",
      "  x\u001b[36m::Float64\u001b[39m\n",
      "  i\u001b[36m::Int64\u001b[39m\n",
      "\n",
      "Body\u001b[36m::Float64\u001b[39m\n",
      "\u001b[90m1 ─\u001b[39m       (x = 1.0)\n",
      "\u001b[90m│  \u001b[39m %2  = (1:10)\u001b[36m::Core.Const(1:10)\u001b[39m\n",
      "\u001b[90m│  \u001b[39m       (@_2 = Base.iterate(%2))\n",
      "\u001b[90m│  \u001b[39m %4  = (@_2::Core.Const((1, 1)) === nothing)\u001b[36m::Core.Const(false)\u001b[39m\n",
      "\u001b[90m│  \u001b[39m %5  = Base.not_int(%4)\u001b[36m::Core.Const(true)\u001b[39m\n",
      "\u001b[90m└──\u001b[39m       goto #4 if not %5\n",
      "\u001b[90m2 ┄\u001b[39m %7  = @_2::Tuple{Int64, Int64}\u001b[36m::Tuple{Int64, Int64}\u001b[39m\n",
      "\u001b[90m│  \u001b[39m       (i = Core.getfield(%7, 1))\n",
      "\u001b[90m│  \u001b[39m %9  = Core.getfield(%7, 2)\u001b[36m::Int64\u001b[39m\n",
      "\u001b[90m│  \u001b[39m       (x = x / 2)\n",
      "\u001b[90m│  \u001b[39m       (@_2 = Base.iterate(%2, %9))\n",
      "\u001b[90m│  \u001b[39m %12 = (@_2 === nothing)\u001b[36m::Bool\u001b[39m\n",
      "\u001b[90m│  \u001b[39m %13 = Base.not_int(%12)\u001b[36m::Bool\u001b[39m\n",
      "\u001b[90m└──\u001b[39m       goto #4 if not %13\n",
      "\u001b[90m3 ─\u001b[39m       goto #2\n",
      "\u001b[90m4 ┄\u001b[39m       return x\n"
     ]
    }
   ],
   "source": [
    "@code_warntype h()"
   ]
  },
  {
   "cell_type": "markdown",
   "metadata": {},
   "source": [
    "#### Fix 2: Specify types (to get errors or to heal the problem by conversion)"
   ]
  },
  {
   "cell_type": "code",
   "execution_count": 74,
   "metadata": {},
   "outputs": [
    {
     "data": {
      "text/plain": [
       "f (generic function with 5 methods)"
      ]
     },
     "execution_count": 74,
     "metadata": {},
     "output_type": "execute_result"
    }
   ],
   "source": [
    "function f()\n",
    "    x::Float64 = 1 # implicit conversion\n",
    "    for i = 1:10\n",
    "        x /= rand()\n",
    "    end\n",
    "    return x\n",
    "end"
   ]
  },
  {
   "cell_type": "code",
   "execution_count": 73,
   "metadata": {},
   "outputs": [
    {
     "name": "stdout",
     "output_type": "stream",
     "text": [
      "MethodInstance for f()\n",
      "  from f() in Main at In[71]:1\n",
      "Arguments\n",
      "  #self#\u001b[36m::Core.Const(f)\u001b[39m\n",
      "Locals\n",
      "  @_2\u001b[33m\u001b[1m::Union{Nothing, Tuple{Int64, Int64}}\u001b[22m\u001b[39m\n",
      "  x\u001b[36m::Float64\u001b[39m\n",
      "  i\u001b[36m::Int64\u001b[39m\n",
      "Body\u001b[36m::Float64\u001b[39m\n",
      "\u001b[90m1 ─\u001b[39m %1  = Base.convert(Main.Float64, 1)\u001b[36m::Core.Const(1.0)\u001b[39m\n",
      "\u001b[90m│  \u001b[39m       (x = Core.typeassert(%1, Main.Float64))\n",
      "\u001b[90m│  \u001b[39m %3  = (1:10)\u001b[36m::Core.Const(1:10)\u001b[39m\n",
      "\u001b[90m│  \u001b[39m       (@_2 = Base.iterate(%3))\n",
      "\u001b[90m│  \u001b[39m %5  = (@_2::Core.Const((1, 1)) === nothing)\u001b[36m::Core.Const(false)\u001b[39m\n",
      "\u001b[90m│  \u001b[39m %6  = Base.not_int(%5)\u001b[36m::Core.Const(true)\u001b[39m\n",
      "\u001b[90m└──\u001b[39m       goto #4 if not %6\n",
      "\u001b[90m2 ┄\u001b[39m %8  = @_2\u001b[36m::Tuple{Int64, Int64}\u001b[39m\n",
      "\u001b[90m│  \u001b[39m       (i = Core.getfield(%8, 1))\n",
      "\u001b[90m│  \u001b[39m %10 = Core.getfield(%8, 2)\u001b[36m::Int64\u001b[39m\n",
      "\u001b[90m│  \u001b[39m %11 = x\u001b[36m::Float64\u001b[39m\n",
      "\u001b[90m│  \u001b[39m %12 = Main.rand()\u001b[36m::Float64\u001b[39m\n",
      "\u001b[90m│  \u001b[39m %13 = (%11 / %12)\u001b[36m::Float64\u001b[39m\n",
      "\u001b[90m│  \u001b[39m %14 = Base.convert(Main.Float64, %13)\u001b[36m::Float64\u001b[39m\n",
      "\u001b[90m│  \u001b[39m       (x = Core.typeassert(%14, Main.Float64))\n",
      "\u001b[90m│  \u001b[39m       (@_2 = Base.iterate(%3, %10))\n",
      "\u001b[90m│  \u001b[39m %17 = (@_2 === nothing)\u001b[36m::Bool\u001b[39m\n",
      "\u001b[90m│  \u001b[39m %18 = Base.not_int(%17)\u001b[36m::Bool\u001b[39m\n",
      "\u001b[90m└──\u001b[39m       goto #4 if not %18\n",
      "\u001b[90m3 ─\u001b[39m       goto #2\n",
      "\u001b[90m4 ┄\u001b[39m       return x\n",
      "\n"
     ]
    }
   ],
   "source": [
    "@code_warntype f()"
   ]
  },
  {
   "cell_type": "markdown",
   "metadata": {},
   "source": [
    "#### Fix 3: Special-case first iteration"
   ]
  },
  {
   "cell_type": "code",
   "execution_count": 75,
   "metadata": {},
   "outputs": [
    {
     "data": {
      "text/plain": [
       "f (generic function with 5 methods)"
      ]
     },
     "execution_count": 75,
     "metadata": {},
     "output_type": "execute_result"
    }
   ],
   "source": [
    "function f()\n",
    "    x = 1/rand()\n",
    "    for i = 2:10\n",
    "        x /= rand()\n",
    "    end\n",
    "    return x\n",
    "end"
   ]
  },
  {
   "cell_type": "code",
   "execution_count": 76,
   "metadata": {},
   "outputs": [
    {
     "name": "stdout",
     "output_type": "stream",
     "text": [
      "MethodInstance for f()\n",
      "  from f() in Main at In[75]:1\n",
      "Arguments\n",
      "  #self#\u001b[36m::Core.Const(f)\u001b[39m\n",
      "Locals\n",
      "  @_2\u001b[33m\u001b[1m::Union{Nothing, Tuple{Int64, Int64}}\u001b[22m\u001b[39m\n",
      "  x\u001b[36m::Float64\u001b[39m\n",
      "  i\u001b[36m::Int64\u001b[39m\n",
      "Body\u001b[36m::Float64\u001b[39m\n",
      "\u001b[90m1 ─\u001b[39m %1  = Main.rand()\u001b[36m::Float64\u001b[39m\n",
      "\u001b[90m│  \u001b[39m       (x = 1 / %1)\n",
      "\u001b[90m│  \u001b[39m %3  = (2:10)\u001b[36m::Core.Const(2:10)\u001b[39m\n",
      "\u001b[90m│  \u001b[39m       (@_2 = Base.iterate(%3))\n",
      "\u001b[90m│  \u001b[39m %5  = (@_2::Core.Const((2, 2)) === nothing)\u001b[36m::Core.Const(false)\u001b[39m\n",
      "\u001b[90m│  \u001b[39m %6  = Base.not_int(%5)\u001b[36m::Core.Const(true)\u001b[39m\n",
      "\u001b[90m└──\u001b[39m       goto #4 if not %6\n",
      "\u001b[90m2 ┄\u001b[39m %8  = @_2\u001b[36m::Tuple{Int64, Int64}\u001b[39m\n",
      "\u001b[90m│  \u001b[39m       (i = Core.getfield(%8, 1))\n",
      "\u001b[90m│  \u001b[39m %10 = Core.getfield(%8, 2)\u001b[36m::Int64\u001b[39m\n",
      "\u001b[90m│  \u001b[39m %11 = x\u001b[36m::Float64\u001b[39m\n",
      "\u001b[90m│  \u001b[39m %12 = Main.rand()\u001b[36m::Float64\u001b[39m\n",
      "\u001b[90m│  \u001b[39m       (x = %11 / %12)\n",
      "\u001b[90m│  \u001b[39m       (@_2 = Base.iterate(%3, %10))\n",
      "\u001b[90m│  \u001b[39m %15 = (@_2 === nothing)\u001b[36m::Bool\u001b[39m\n",
      "\u001b[90m│  \u001b[39m %16 = Base.not_int(%15)\u001b[36m::Bool\u001b[39m\n",
      "\u001b[90m└──\u001b[39m       goto #4 if not %16\n",
      "\u001b[90m3 ─\u001b[39m       goto #2\n",
      "\u001b[90m4 ┄\u001b[39m       return x\n",
      "\n"
     ]
    }
   ],
   "source": [
    "@code_warntype f()"
   ]
  },
  {
   "cell_type": "markdown",
   "metadata": {},
   "source": [
    "## Type inference: Isolate unavoidable type instabilities"
   ]
  },
  {
   "cell_type": "markdown",
   "metadata": {},
   "source": [
    "Type instabilities can occur very naturally, for example when reading unknown user files or user input. Hence, not every instability can be avoided.\n",
    "\n",
    "If that's the case, isolate your expensive computation from the instability by putting it in a separate *kernel function* (also known as introducing a *function barrier*)."
   ]
  },
  {
   "cell_type": "code",
   "execution_count": 216,
   "metadata": {},
   "outputs": [
    {
     "data": {
      "text/plain": [
       "5-element Vector{Union{Float64, Int64, String}}:\n",
       " 4\n",
       " 2.0\n",
       "  \"test\"\n",
       " 3.2\n",
       " 1"
      ]
     },
     "execution_count": 216,
     "metadata": {},
     "output_type": "execute_result"
    }
   ],
   "source": [
    "data = Union{Int64,Float64,String}[4, 2.0, \"test\", 3.2, 1]"
   ]
  },
  {
   "cell_type": "code",
   "execution_count": 225,
   "metadata": {},
   "outputs": [
    {
     "data": {
      "text/plain": [
       "computation (generic function with 1 method)"
      ]
     },
     "execution_count": 225,
     "metadata": {},
     "output_type": "execute_result"
    }
   ],
   "source": [
    "function computation(data)\n",
    "    x = 1.0\n",
    "    for i in 1:100\n",
    "        x = sin(data[1])\n",
    "        x += data[2]\n",
    "        x *= data[4]\n",
    "    end\n",
    "    return x\n",
    "end"
   ]
  },
  {
   "cell_type": "code",
   "execution_count": 226,
   "metadata": {},
   "outputs": [
    {
     "name": "stdout",
     "output_type": "stream",
     "text": [
      "MethodInstance for computation(::Vector{Union{Float64, Int64, String}})\n",
      "  from computation(data) in Main at In[225]:1\n",
      "Arguments\n",
      "  #self#\u001b[36m::Core.Const(computation)\u001b[39m\n",
      "  data\u001b[36m::Vector{Union{Float64, Int64, String}}\u001b[39m\n",
      "Locals\n",
      "  @_3\u001b[33m\u001b[1m::Union{Nothing, Tuple{Int64, Int64}}\u001b[22m\u001b[39m\n",
      "  x\u001b[36m::Float64\u001b[39m\n",
      "  i\u001b[36m::Int64\u001b[39m\n",
      "Body\u001b[36m::Float64\u001b[39m\n",
      "\u001b[90m1 ─\u001b[39m       (x = 1.0)\n",
      "\u001b[90m│  \u001b[39m %2  = (1:100)\u001b[36m::Core.Const(1:100)\u001b[39m\n",
      "\u001b[90m│  \u001b[39m       (@_3 = Base.iterate(%2))\n",
      "\u001b[90m│  \u001b[39m %4  = (@_3::Core.Const((1, 1)) === nothing)\u001b[36m::Core.Const(false)\u001b[39m\n",
      "\u001b[90m│  \u001b[39m %5  = Base.not_int(%4)\u001b[36m::Core.Const(true)\u001b[39m\n",
      "\u001b[90m└──\u001b[39m       goto #4 if not %5\n",
      "\u001b[90m2 ┄\u001b[39m %7  = @_3\u001b[36m::Tuple{Int64, Int64}\u001b[39m\n",
      "\u001b[90m│  \u001b[39m       (i = Core.getfield(%7, 1))\n",
      "\u001b[90m│  \u001b[39m %9  = Core.getfield(%7, 2)\u001b[36m::Int64\u001b[39m\n",
      "\u001b[90m│  \u001b[39m %10 = Base.getindex(data, 1)\u001b[91m\u001b[1m::Union{Float64, Int64, String}\u001b[22m\u001b[39m\n",
      "\u001b[90m│  \u001b[39m       (x = Main.sin(%10))\n",
      "\u001b[90m│  \u001b[39m %12 = x\u001b[36m::Float64\u001b[39m\n",
      "\u001b[90m│  \u001b[39m %13 = Base.getindex(data, 2)\u001b[91m\u001b[1m::Union{Float64, Int64, String}\u001b[22m\u001b[39m\n",
      "\u001b[90m│  \u001b[39m       (x = %12 + %13)\n",
      "\u001b[90m│  \u001b[39m %15 = x\u001b[36m::Float64\u001b[39m\n",
      "\u001b[90m│  \u001b[39m %16 = Base.getindex(data, 4)\u001b[91m\u001b[1m::Union{Float64, Int64, String}\u001b[22m\u001b[39m\n",
      "\u001b[90m│  \u001b[39m       (x = %15 * %16)\n",
      "\u001b[90m│  \u001b[39m       (@_3 = Base.iterate(%2, %9))\n",
      "\u001b[90m│  \u001b[39m %19 = (@_3 === nothing)\u001b[36m::Bool\u001b[39m\n",
      "\u001b[90m│  \u001b[39m %20 = Base.not_int(%19)\u001b[36m::Bool\u001b[39m\n",
      "\u001b[90m└──\u001b[39m       goto #4 if not %20\n",
      "\u001b[90m3 ─\u001b[39m       goto #2\n",
      "\u001b[90m4 ┄\u001b[39m       return x\n",
      "\n"
     ]
    }
   ],
   "source": [
    "@code_warntype computation(data)"
   ]
  },
  {
   "cell_type": "code",
   "execution_count": 227,
   "metadata": {},
   "outputs": [
    {
     "name": "stdout",
     "output_type": "stream",
     "text": [
      "  1.449 μs (0 allocations: 0 bytes)\n"
     ]
    }
   ],
   "source": [
    "@btime computation($data);"
   ]
  },
  {
   "cell_type": "code",
   "execution_count": 228,
   "metadata": {},
   "outputs": [
    {
     "data": {
      "text/plain": [
       "_computation_kernel (generic function with 1 method)"
      ]
     },
     "execution_count": 228,
     "metadata": {},
     "output_type": "execute_result"
    }
   ],
   "source": [
    "function computation(data)\n",
    "    a = data[1]\n",
    "    b = data[2]\n",
    "    c = data[4]\n",
    "    return _computation_kernel(a,b,c)\n",
    "end\n",
    "\n",
    "function _computation_kernel(a,b,c)\n",
    "    x = 1.0\n",
    "    for i in 1:100\n",
    "        x = sin(a)\n",
    "        x += b\n",
    "        x *= c\n",
    "    end\n",
    "    return x\n",
    "end"
   ]
  },
  {
   "cell_type": "code",
   "execution_count": 229,
   "metadata": {},
   "outputs": [
    {
     "name": "stdout",
     "output_type": "stream",
     "text": [
      "MethodInstance for computation(::Vector{Union{Float64, Int64, String}})\n",
      "  from computation(data) in Main at In[228]:1\n",
      "Arguments\n",
      "  #self#\u001b[36m::Core.Const(computation)\u001b[39m\n",
      "  data\u001b[36m::Vector{Union{Float64, Int64, String}}\u001b[39m\n",
      "Locals\n",
      "  c\u001b[91m\u001b[1m::Union{Float64, Int64, String}\u001b[22m\u001b[39m\n",
      "  b\u001b[91m\u001b[1m::Union{Float64, Int64, String}\u001b[22m\u001b[39m\n",
      "  a\u001b[91m\u001b[1m::Union{Float64, Int64, String}\u001b[22m\u001b[39m\n",
      "Body\u001b[36m::Float64\u001b[39m\n",
      "\u001b[90m1 ─\u001b[39m      (a = Base.getindex(data, 1))\n",
      "\u001b[90m│  \u001b[39m      (b = Base.getindex(data, 2))\n",
      "\u001b[90m│  \u001b[39m      (c = Base.getindex(data, 4))\n",
      "\u001b[90m│  \u001b[39m %4 = Main._computation_kernel(a, b, c)\u001b[36m::Float64\u001b[39m\n",
      "\u001b[90m└──\u001b[39m      return %4\n",
      "\n"
     ]
    }
   ],
   "source": [
    "@code_warntype computation(data)"
   ]
  },
  {
   "cell_type": "code",
   "execution_count": 230,
   "metadata": {},
   "outputs": [
    {
     "name": "stdout",
     "output_type": "stream",
     "text": [
      "MethodInstance for _computation_kernel(::Int64, ::Float64, ::Float64)\n",
      "  from _computation_kernel(a, b, c) in Main at In[228]:8\n",
      "Arguments\n",
      "  #self#\u001b[36m::Core.Const(_computation_kernel)\u001b[39m\n",
      "  a\u001b[36m::Int64\u001b[39m\n",
      "  b\u001b[36m::Float64\u001b[39m\n",
      "  c\u001b[36m::Float64\u001b[39m\n",
      "Locals\n",
      "  @_5\u001b[33m\u001b[1m::Union{Nothing, Tuple{Int64, Int64}}\u001b[22m\u001b[39m\n",
      "  x\u001b[36m::Float64\u001b[39m\n",
      "  i\u001b[36m::Int64\u001b[39m\n",
      "Body\u001b[36m::Float64\u001b[39m\n",
      "\u001b[90m1 ─\u001b[39m       (x = 1.0)\n",
      "\u001b[90m│  \u001b[39m %2  = (1:100)\u001b[36m::Core.Const(1:100)\u001b[39m\n",
      "\u001b[90m│  \u001b[39m       (@_5 = Base.iterate(%2))\n",
      "\u001b[90m│  \u001b[39m %4  = (@_5::Core.Const((1, 1)) === nothing)\u001b[36m::Core.Const(false)\u001b[39m\n",
      "\u001b[90m│  \u001b[39m %5  = Base.not_int(%4)\u001b[36m::Core.Const(true)\u001b[39m\n",
      "\u001b[90m└──\u001b[39m       goto #4 if not %5\n",
      "\u001b[90m2 ┄\u001b[39m %7  = @_5\u001b[36m::Tuple{Int64, Int64}\u001b[39m\n",
      "\u001b[90m│  \u001b[39m       (i = Core.getfield(%7, 1))\n",
      "\u001b[90m│  \u001b[39m %9  = Core.getfield(%7, 2)\u001b[36m::Int64\u001b[39m\n",
      "\u001b[90m│  \u001b[39m       (x = Main.sin(a))\n",
      "\u001b[90m│  \u001b[39m       (x = x + b)\n",
      "\u001b[90m│  \u001b[39m       (x = x * c)\n",
      "\u001b[90m│  \u001b[39m       (@_5 = Base.iterate(%2, %9))\n",
      "\u001b[90m│  \u001b[39m %14 = (@_5 === nothing)\u001b[36m::Bool\u001b[39m\n",
      "\u001b[90m│  \u001b[39m %15 = Base.not_int(%14)\u001b[36m::Bool\u001b[39m\n",
      "\u001b[90m└──\u001b[39m       goto #4 if not %15\n",
      "\u001b[90m3 ─\u001b[39m       goto #2\n",
      "\u001b[90m4 ┄\u001b[39m       return x\n",
      "\n"
     ]
    }
   ],
   "source": [
    "@code_warntype _computation_kernel(data[1], data[2], data[4])"
   ]
  },
  {
   "cell_type": "code",
   "execution_count": 231,
   "metadata": {},
   "outputs": [
    {
     "name": "stdout",
     "output_type": "stream",
     "text": [
      "  1.130 μs (1 allocation: 16 bytes)\n"
     ]
    }
   ],
   "source": [
    "@btime computation($data);"
   ]
  },
  {
   "cell_type": "markdown",
   "metadata": {},
   "source": [
    "Note that the computational kernel function is fully type inferred."
   ]
  },
  {
   "cell_type": "markdown",
   "metadata": {},
   "source": [
    "## General performance tips"
   ]
  },
  {
   "cell_type": "markdown",
   "metadata": {},
   "source": [
    "### Access arrays in column-major order"
   ]
  },
  {
   "cell_type": "markdown",
   "metadata": {},
   "source": [
    "<img src=\"../imgs/column-major-2D.png\" width=800px>\n",
    "(<a href=https://mitmath.github.io/18337/lecture2/optimizing>Image source</a>)"
   ]
  },
  {
   "cell_type": "markdown",
   "metadata": {},
   "source": [
    "**Fastest varying loop index goes first.**"
   ]
  },
  {
   "cell_type": "code",
   "execution_count": 236,
   "metadata": {},
   "outputs": [
    {
     "data": {
      "text/plain": [
       "frow (generic function with 1 method)"
      ]
     },
     "execution_count": 236,
     "metadata": {},
     "output_type": "execute_result"
    }
   ],
   "source": [
    "M = rand(1000,1000);\n",
    "\n",
    "function fcol(M)\n",
    "    for col in 1:size(M, 2)\n",
    "        for row in 1:size(M, 1)\n",
    "            M[row, col] = 42\n",
    "        end\n",
    "    end\n",
    "    nothing\n",
    "end\n",
    "\n",
    "function frow(M)\n",
    "    for row in 1:size(M, 1)\n",
    "        for col in 1:size(M, 2)\n",
    "            M[row, col] = 42\n",
    "        end\n",
    "    end\n",
    "    nothing\n",
    "end"
   ]
  },
  {
   "cell_type": "code",
   "execution_count": 153,
   "metadata": {},
   "outputs": [
    {
     "name": "stdout",
     "output_type": "stream",
     "text": [
      "  302.666 μs (0 allocations: 0 bytes)\n"
     ]
    }
   ],
   "source": [
    "@btime fcol($M)"
   ]
  },
  {
   "cell_type": "code",
   "execution_count": 154,
   "metadata": {},
   "outputs": [
    {
     "name": "stdout",
     "output_type": "stream",
     "text": [
      "  1.825 ms (0 allocations: 0 bytes)\n"
     ]
    }
   ],
   "source": [
    "@btime frow($M)"
   ]
  },
  {
   "cell_type": "markdown",
   "metadata": {},
   "source": [
    "Lots of cache misses for `frow`!"
   ]
  },
  {
   "cell_type": "markdown",
   "metadata": {},
   "source": [
    "### Performance annotations"
   ]
  },
  {
   "cell_type": "markdown",
   "metadata": {},
   "source": [
    "#### `@inbounds`\n",
    "\n",
    "Disables bounds checks. (Julia may segfault if you use it wrongly!)"
   ]
  },
  {
   "cell_type": "code",
   "execution_count": 104,
   "metadata": {},
   "outputs": [
    {
     "name": "stdout",
     "output_type": "stream",
     "text": [
      "  231.436 μs (1 allocation: 80 bytes)\n"
     ]
    }
   ],
   "source": [
    "function f()\n",
    "    x = [1,2,3]\n",
    "    for i in 1:100_000\n",
    "        for k in 1:3\n",
    "            x[k] = x[k] + 2 * x[k]\n",
    "        end\n",
    "    end\n",
    "    return x\n",
    "end\n",
    "\n",
    "@btime f();"
   ]
  },
  {
   "cell_type": "code",
   "execution_count": 105,
   "metadata": {},
   "outputs": [
    {
     "name": "stdout",
     "output_type": "stream",
     "text": [
      "  115.766 μs (1 allocation: 80 bytes)\n"
     ]
    }
   ],
   "source": [
    "function f_inbounds()\n",
    "    x = [1,2,3]\n",
    "    for i in 1:100_000\n",
    "        for k in 1:3\n",
    "            @inbounds x[k] = x[k] + 2 * x[k]\n",
    "        end\n",
    "    end\n",
    "    return x\n",
    "end\n",
    "\n",
    "@btime f_inbounds();"
   ]
  },
  {
   "cell_type": "markdown",
   "metadata": {},
   "source": [
    "#### `@simd`\n",
    "\n",
    "Enables SIMD optimizations that are potentially *unsafe*. Julia may execute loop iterations in arbitrary or overlapping order."
   ]
  },
  {
   "cell_type": "code",
   "execution_count": 109,
   "metadata": {},
   "outputs": [
    {
     "data": {
      "text/plain": [
       "f (generic function with 3 methods)"
      ]
     },
     "execution_count": 109,
     "metadata": {},
     "output_type": "execute_result"
    }
   ],
   "source": [
    "function f(x)\n",
    "    s = zero(eltype(x))\n",
    "    for xi in eachindex(x)\n",
    "        s += xi\n",
    "    end\n",
    "    return s\n",
    "end"
   ]
  },
  {
   "cell_type": "code",
   "execution_count": 110,
   "metadata": {},
   "outputs": [],
   "source": [
    "x = rand(1000);"
   ]
  },
  {
   "cell_type": "code",
   "execution_count": 111,
   "metadata": {},
   "outputs": [
    {
     "name": "stdout",
     "output_type": "stream",
     "text": [
      "  1.524 μs (0 allocations: 0 bytes)\n"
     ]
    }
   ],
   "source": [
    "@btime f($x);"
   ]
  },
  {
   "cell_type": "code",
   "execution_count": 112,
   "metadata": {},
   "outputs": [
    {
     "data": {
      "text/plain": [
       "f_simd (generic function with 1 method)"
      ]
     },
     "execution_count": 112,
     "metadata": {},
     "output_type": "execute_result"
    }
   ],
   "source": [
    "function f_simd(x)\n",
    "    s = zero(eltype(x))\n",
    "    @simd for xi in eachindex(x)\n",
    "        s += xi\n",
    "    end\n",
    "    return s\n",
    "end"
   ]
  },
  {
   "cell_type": "code",
   "execution_count": 113,
   "metadata": {},
   "outputs": [
    {
     "name": "stdout",
     "output_type": "stream",
     "text": [
      "  965.650 ns (0 allocations: 0 bytes)\n"
     ]
    }
   ],
   "source": [
    "@btime f_simd($x);"
   ]
  },
  {
   "cell_type": "markdown",
   "metadata": {},
   "source": [
    "(For integer input both versions have the same speed because integer addition is associative, in contrast to floating point arithmetics.)"
   ]
  },
  {
   "cell_type": "markdown",
   "metadata": {},
   "source": [
    "#### `@fastmath`\n",
    "\n",
    "Enables lots of floating point optimizations that are potentially *unsafe*! It trades accuracy for speed, so, [Beware of fast-math](https://simonbyrne.github.io/notes/fastmath/). (See the [LLVM Language Reference Manual](https://llvm.org/docs/LangRef.html#fast-math-flags) for more information on which compiler options it sets.)\n",
    "\n",
    "There is `julia --math-mode=fast` to enable fast math globally."
   ]
  },
  {
   "cell_type": "markdown",
   "metadata": {},
   "source": [
    "##### Harmless example: FMA - Fused Multiply Add"
   ]
  },
  {
   "cell_type": "code",
   "execution_count": 72,
   "metadata": {},
   "outputs": [
    {
     "data": {
      "text/plain": [
       "f (generic function with 3 methods)"
      ]
     },
     "execution_count": 72,
     "metadata": {},
     "output_type": "execute_result"
    }
   ],
   "source": [
    "f(a,b,c) = a*b+c"
   ]
  },
  {
   "cell_type": "code",
   "execution_count": 74,
   "metadata": {},
   "outputs": [
    {
     "name": "stdout",
     "output_type": "stream",
     "text": [
      "\t\u001b[0m.section\t\u001b[0m__TEXT\u001b[0m,\u001b[0m__text\u001b[0m,\u001b[0mregular\u001b[0m,\u001b[0mpure_instructions\n",
      "\t\u001b[0m.build_version \u001b[0mmacos\u001b[0m, \u001b[33m12\u001b[39m\u001b[0m, \u001b[33m0\u001b[39m\n",
      "\t\u001b[0m.globl\t\u001b[0m_julia_f_5940                   \u001b[0m## \u001b[0m-- \u001b[0mBegin \u001b[0mfunction \u001b[0mjulia_f_5940\n",
      "\t\u001b[0m.p2align\t\u001b[33m4\u001b[39m\u001b[0m, \u001b[33m0x90\u001b[39m\n",
      "\u001b[91m_julia_f_5940:\u001b[39m                          \u001b[0m## \u001b[0m@julia_f_5940\n",
      "\t\u001b[0m.cfi_startproc\n",
      "\u001b[0m## \u001b[0m%bb.0\u001b[0m:                               \u001b[0m## \u001b[0m%top\n",
      "\t\u001b[96m\u001b[1mvmulsd\u001b[22m\u001b[39m\t\u001b[0m%xmm1\u001b[0m, \u001b[0m%xmm0\u001b[0m, \u001b[0m%xmm0\n",
      "\t\u001b[96m\u001b[1mvaddsd\u001b[22m\u001b[39m\t\u001b[0m%xmm2\u001b[0m, \u001b[0m%xmm0\u001b[0m, \u001b[0m%xmm0\n",
      "\t\u001b[96m\u001b[1mretq\u001b[22m\u001b[39m\n",
      "\t\u001b[0m.cfi_endproc\n",
      "                                        \u001b[0m## \u001b[0m-- \u001b[0mEnd \u001b[0mfunction\n",
      "\u001b[0m.subsections_via_symbols\n"
     ]
    }
   ],
   "source": [
    "@code_native debuginfo=:none f(1.0,2.0,3.0)"
   ]
  },
  {
   "cell_type": "markdown",
   "metadata": {},
   "source": [
    "<img src=\"../imgs/skylake_microarchitecture.png\" width=700px>\n",
    "\n",
    "**Source:** [Intel® 64 and IA-32 Architectures Optimization Reference Manual](https://software.intel.com/sites/default/files/managed/9e/bc/64-ia-32-architectures-optimization-manual.pdf)"
   ]
  },
  {
   "cell_type": "code",
   "execution_count": 75,
   "metadata": {},
   "outputs": [
    {
     "data": {
      "text/plain": [
       "f_fastmath (generic function with 1 method)"
      ]
     },
     "execution_count": 75,
     "metadata": {},
     "output_type": "execute_result"
    }
   ],
   "source": [
    "f_fastmath(a,b,c) = @fastmath a*b+c"
   ]
  },
  {
   "cell_type": "code",
   "execution_count": 77,
   "metadata": {},
   "outputs": [
    {
     "name": "stdout",
     "output_type": "stream",
     "text": [
      "\t\u001b[0m.section\t\u001b[0m__TEXT\u001b[0m,\u001b[0m__text\u001b[0m,\u001b[0mregular\u001b[0m,\u001b[0mpure_instructions\n",
      "\t\u001b[0m.build_version \u001b[0mmacos\u001b[0m, \u001b[33m12\u001b[39m\u001b[0m, \u001b[33m0\u001b[39m\n",
      "\t\u001b[0m.globl\t\u001b[0m_julia_f_fastmath_5970          \u001b[0m## \u001b[0m-- \u001b[0mBegin \u001b[0mfunction \u001b[0mjulia_f_fastmath_5970\n",
      "\t\u001b[0m.p2align\t\u001b[33m4\u001b[39m\u001b[0m, \u001b[33m0x90\u001b[39m\n",
      "\u001b[91m_julia_f_fastmath_5970:\u001b[39m                 \u001b[0m## \u001b[0m@julia_f_fastmath_5970\n",
      "\t\u001b[0m.cfi_startproc\n",
      "\u001b[0m## \u001b[0m%bb.0\u001b[0m:                               \u001b[0m## \u001b[0m%top\n",
      "\t\u001b[96m\u001b[1mvfmadd213sd\u001b[22m\u001b[39m\t\u001b[0m%xmm2\u001b[0m, \u001b[0m%xmm1\u001b[0m, \u001b[0m%xmm0     \u001b[0m## \u001b[0mxmm0 \u001b[0m= \u001b[33m(\u001b[39m\u001b[0mxmm1 \u001b[0m* \u001b[0mxmm0\u001b[33m)\u001b[39m \u001b[0m+ \u001b[0mxmm2\n",
      "\t\u001b[96m\u001b[1mretq\u001b[22m\u001b[39m\n",
      "\t\u001b[0m.cfi_endproc\n",
      "                                        \u001b[0m## \u001b[0m-- \u001b[0mEnd \u001b[0mfunction\n",
      "\u001b[0m.subsections_via_symbols\n"
     ]
    }
   ],
   "source": [
    "@code_native debuginfo=:none f_fastmath(1.0,2.0,3.0)"
   ]
  },
  {
   "cell_type": "markdown",
   "metadata": {},
   "source": [
    "(In this specific case, [MuladdMacro.jl](https://github.com/SciML/MuladdMacro.jl) is a *safe* alternative.)"
   ]
  },
  {
   "cell_type": "markdown",
   "metadata": {},
   "source": [
    "### CPU operations vary in cost"
   ]
  },
  {
   "cell_type": "markdown",
   "metadata": {},
   "source": [
    "http://ithare.com/infographics-operation-costs-in-cpu-clock-cycles/"
   ]
  },
  {
   "cell_type": "markdown",
   "metadata": {},
   "source": [
    "#### Example: Division vs multiplication"
   ]
  },
  {
   "cell_type": "code",
   "execution_count": 234,
   "metadata": {},
   "outputs": [
    {
     "name": "stdout",
     "output_type": "stream",
     "text": [
      "  935.000 ns (1 allocation: 7.94 KiB)\n",
      "  555.878 ns (1 allocation: 7.94 KiB)\n"
     ]
    }
   ],
   "source": [
    "x = rand(1000)\n",
    "@btime $x ./ 1000;\n",
    "@btime $x .* 1e-3;"
   ]
  },
  {
   "cell_type": "markdown",
   "metadata": {},
   "source": [
    "## Analysis Tools"
   ]
  },
  {
   "cell_type": "markdown",
   "metadata": {},
   "source": [
    "### [Traceur.jl](https://github.com/MikeInnes/Traceur.jl)\n",
    "\n",
    "**Basic automatic performance trap checker**. Essentially a codified version of the [performance tips](https://docs.julialang.org/en/v1/manual/performance-tips/) in the Julia documentation.\n",
    "\n",
    "Important macro: [`@trace`](http://traceur.junolab.org/latest/#Traceur.@trace)"
   ]
  },
  {
   "cell_type": "code",
   "execution_count": 48,
   "metadata": {},
   "outputs": [
    {
     "name": "stderr",
     "output_type": "stream",
     "text": [
      "┌ Warning: uses global variable Main.a\n",
      "└ @ In[48]:6\n",
      "┌ Warning: uses global variable Main.b\n",
      "└ @ In[48]:6\n",
      "┌ Warning: dynamic dispatch to 2 * Main.a\n",
      "└ @ In[48]:6\n",
      "┌ Warning: dynamic dispatch to 2 * Main.a + Main.b\n",
      "└ @ In[48]:6\n",
      "┌ Warning: f returns Any\n",
      "└ @ In[48]:6\n"
     ]
    },
    {
     "data": {
      "text/plain": [
       "7.0"
      ]
     },
     "execution_count": 48,
     "metadata": {},
     "output_type": "execute_result"
    }
   ],
   "source": [
    "using Traceur\n",
    "\n",
    "a = 2.0\n",
    "b = 3.0\n",
    "\n",
    "f() = 2*a+b\n",
    "\n",
    "@trace f()"
   ]
  },
  {
   "cell_type": "markdown",
   "metadata": {},
   "source": [
    "### [JET.jl](https://github.com/aviatesk/JET.jl)\n",
    "\n",
    "**Static** code analyzer. (Doesn't execute the code!)\n",
    "\n",
    "Important macros:\n",
    "* `@report_opt`: check for potential optimization problems ([optimization analysis](https://aviatesk.github.io/JET.jl/stable/optanalysis/))\n",
    "* `@report_call`: check for potential (general) errors ([error analysis](https://aviatesk.github.io/JET.jl/stable/jetanalysis/))"
   ]
  },
  {
   "cell_type": "code",
   "execution_count": 64,
   "metadata": {},
   "outputs": [
    {
     "data": {
      "text/plain": [
       "\u001b[7m═════ 2 possible errors found ═════\u001b[27m\n",
       "\u001b[91m┌ @ In[64]:6 \u001b[39m\u001b[0m2\u001b[0m \u001b[0m*\u001b[0m \u001b[0m%1\n",
       "\u001b[91m│ \u001b[39m\u001b[91mruntime dispatch detected\u001b[39m\u001b[91m: \u001b[39m\u001b[0m\u001b[1m(\u001b[22m\u001b[0m\u001b[1m2\u001b[22m\u001b[0m\u001b[1m \u001b[22m\u001b[0m\u001b[1m*\u001b[22m\u001b[0m\u001b[1m \u001b[22m\u001b[0m\u001b[1m%1\u001b[22m\u001b[96m\u001b[1m::Any\u001b[22m\u001b[39m\u001b[0m\u001b[1m)\u001b[22m\u001b[96m\u001b[1m::Any\u001b[22m\u001b[39m\n",
       "\u001b[91m└────────────\u001b[39m\n",
       "\u001b[91m┌ @ In[64]:6 \u001b[39m\u001b[0m%2\u001b[0m \u001b[0m+\u001b[0m \u001b[0m%3\n",
       "\u001b[91m│ \u001b[39m\u001b[91mruntime dispatch detected\u001b[39m\u001b[91m: \u001b[39m\u001b[0m\u001b[1m(\u001b[22m\u001b[0m\u001b[1m%2\u001b[22m\u001b[96m\u001b[1m::Any\u001b[22m\u001b[39m\u001b[0m\u001b[1m \u001b[22m\u001b[0m\u001b[1m+\u001b[22m\u001b[0m\u001b[1m \u001b[22m\u001b[0m\u001b[1m%3\u001b[22m\u001b[96m\u001b[1m::Any\u001b[22m\u001b[39m\u001b[0m\u001b[1m)\u001b[22m\u001b[96m\u001b[1m::Any\u001b[22m\u001b[39m\n",
       "\u001b[91m└────────────\u001b[39m\n"
      ]
     },
     "execution_count": 64,
     "metadata": {},
     "output_type": "execute_result"
    }
   ],
   "source": [
    "using JET\n",
    "\n",
    "a = 2.0\n",
    "b = 3.0\n",
    "\n",
    "f() = 2*a+b\n",
    "\n",
    "@report_opt f() # check for possible optimization problems"
   ]
  },
  {
   "cell_type": "code",
   "execution_count": 66,
   "metadata": {},
   "outputs": [
    {
     "data": {
      "text/plain": [
       "\u001b[7m═════ 1 possible error found ═════\u001b[27m\n",
       "\u001b[91m┌ @ In[66]:1 \u001b[39m\u001b[0mx\u001b[0m \u001b[0m+\u001b[0m \u001b[0m2\n",
       "\u001b[91m│ \u001b[39m\u001b[91mvariable Main.x is not defined\u001b[39m\n",
       "\u001b[91m└────────────\u001b[39m\n"
      ]
     },
     "execution_count": 66,
     "metadata": {},
     "output_type": "execute_result"
    }
   ],
   "source": [
    "f() = x + 2\n",
    "\n",
    "@report_call f() # check for possible errors"
   ]
  },
  {
   "cell_type": "code",
   "execution_count": 67,
   "metadata": {},
   "outputs": [
    {
     "data": {
      "text/plain": [
       "\u001b[7m═════ 1 possible error found ═════\u001b[27m\n",
       "\u001b[91m┌ @ In[66]:1 \u001b[39m\u001b[0m%1\u001b[0m \u001b[0m+\u001b[0m \u001b[0m2\n",
       "\u001b[91m│ \u001b[39m\u001b[91mruntime dispatch detected\u001b[39m\u001b[91m: \u001b[39m\u001b[0m\u001b[1m(\u001b[22m\u001b[0m\u001b[1m%1\u001b[22m\u001b[96m\u001b[1m::Any\u001b[22m\u001b[39m\u001b[0m\u001b[1m \u001b[22m\u001b[0m\u001b[1m+\u001b[22m\u001b[0m\u001b[1m \u001b[22m\u001b[0m\u001b[1m2\u001b[22m\u001b[0m\u001b[1m)\u001b[22m\u001b[96m\u001b[1m::Any\u001b[22m\u001b[39m\n",
       "\u001b[91m└────────────\u001b[39m\n"
      ]
     },
     "execution_count": 67,
     "metadata": {},
     "output_type": "execute_result"
    }
   ],
   "source": [
    "@report_opt f()"
   ]
  },
  {
   "cell_type": "code",
   "execution_count": 68,
   "metadata": {},
   "outputs": [
    {
     "data": {
      "text/plain": [
       "\u001b[7m═════ 2 possible errors found ═════\u001b[27m\n",
       "\u001b[35m┌ @ reduce.jl:549 \u001b[39m\u001b[0mBase.:(var\"#sum#266\")\u001b[0m(\u001b[0mpairs\u001b[0m(\u001b[0mNamedTuple\u001b[0m(\u001b[0m)\u001b[0m)\u001b[0m, \u001b[0m#self#\u001b[0m, \u001b[0ma\u001b[0m)\n",
       "\u001b[35m│\u001b[39m\u001b[34m┌ @ reduce.jl:549 \u001b[39m\u001b[0msum\u001b[0m(\u001b[0midentity\u001b[0m, \u001b[0ma\u001b[0m)\n",
       "\u001b[35m│\u001b[39m\u001b[34m│\u001b[39m\u001b[33m┌ @ reduce.jl:520 \u001b[39m\u001b[0mBase.:(var\"#sum#265\")\u001b[0m(\u001b[0mpairs\u001b[0m(\u001b[0mNamedTuple\u001b[0m(\u001b[0m)\u001b[0m)\u001b[0m, \u001b[0m#self#\u001b[0m, \u001b[0mf\u001b[0m, \u001b[0ma\u001b[0m)\n",
       "\u001b[35m│\u001b[39m\u001b[34m│\u001b[39m\u001b[33m│\u001b[39m\u001b[32m┌ @ reduce.jl:520 \u001b[39m\u001b[0mmapreduce\u001b[0m(\u001b[0mf\u001b[0m, \u001b[0mBase.add_sum\u001b[0m, \u001b[0ma\u001b[0m)\n",
       "\u001b[35m│\u001b[39m\u001b[34m│\u001b[39m\u001b[33m│\u001b[39m\u001b[32m│\u001b[39m\u001b[35m┌ @ reduce.jl:294 \u001b[39m\u001b[0mBase.:(var\"#mapreduce#262\")\u001b[0m(\u001b[0mpairs\u001b[0m(\u001b[0mNamedTuple\u001b[0m(\u001b[0m)\u001b[0m)\u001b[0m, \u001b[0m#self#\u001b[0m, \u001b[0mf\u001b[0m, \u001b[0mop\u001b[0m, \u001b[0mitr\u001b[0m)\n",
       "\u001b[35m│\u001b[39m\u001b[34m│\u001b[39m\u001b[33m│\u001b[39m\u001b[32m│\u001b[39m\u001b[35m│\u001b[39m\u001b[34m┌ @ reduce.jl:294 \u001b[39m\u001b[0mmapfoldl\u001b[0m(\u001b[0mf\u001b[0m, \u001b[0mop\u001b[0m, \u001b[0mitr\u001b[0m)\n",
       "\u001b[35m│\u001b[39m\u001b[34m│\u001b[39m\u001b[33m│\u001b[39m\u001b[32m│\u001b[39m\u001b[35m│\u001b[39m\u001b[34m│\u001b[39m\u001b[33m┌ @ reduce.jl:162 \u001b[39m\u001b[0mBase.:(var\"#mapfoldl#258\")\u001b[0m(\u001b[0mBase._InitialValue\u001b[0m(\u001b[0m)\u001b[0m, \u001b[0m#self#\u001b[0m, \u001b[0mf\u001b[0m, \u001b[0mop\u001b[0m, \u001b[0mitr\u001b[0m)\n",
       "\u001b[35m│\u001b[39m\u001b[34m│\u001b[39m\u001b[33m│\u001b[39m\u001b[32m│\u001b[39m\u001b[35m│\u001b[39m\u001b[34m│\u001b[39m\u001b[33m│\u001b[39m\u001b[32m┌ @ reduce.jl:162 \u001b[39m\u001b[0mBase.mapfoldl_impl\u001b[0m(\u001b[0mf\u001b[0m, \u001b[0mop\u001b[0m, \u001b[0minit\u001b[0m, \u001b[0mitr\u001b[0m)\n",
       "\u001b[35m│\u001b[39m\u001b[34m│\u001b[39m\u001b[33m│\u001b[39m\u001b[32m│\u001b[39m\u001b[35m│\u001b[39m\u001b[34m│\u001b[39m\u001b[33m│\u001b[39m\u001b[32m│\u001b[39m\u001b[35m┌ @ reduce.jl:44 \u001b[39m\u001b[0mBase.foldl_impl\u001b[0m(\u001b[0mop′\u001b[0m, \u001b[0mnt\u001b[0m, \u001b[0mitr′\u001b[0m)\n",
       "\u001b[35m│\u001b[39m\u001b[34m│\u001b[39m\u001b[33m│\u001b[39m\u001b[32m│\u001b[39m\u001b[35m│\u001b[39m\u001b[34m│\u001b[39m\u001b[33m│\u001b[39m\u001b[32m│\u001b[39m\u001b[35m│\u001b[39m\u001b[34m┌ @ reduce.jl:48 \u001b[39m\u001b[0mv\u001b[0m = \u001b[0mBase._foldl_impl\u001b[0m(\u001b[0mop\u001b[0m, \u001b[0mnt\u001b[0m, \u001b[0mitr\u001b[0m)\n",
       "\u001b[35m│\u001b[39m\u001b[34m│\u001b[39m\u001b[33m│\u001b[39m\u001b[32m│\u001b[39m\u001b[35m│\u001b[39m\u001b[34m│\u001b[39m\u001b[33m│\u001b[39m\u001b[32m│\u001b[39m\u001b[35m│\u001b[39m\u001b[34m│\u001b[39m\u001b[33m┌ @ reduce.jl:62 \u001b[39m\u001b[0mv\u001b[0m = \u001b[0mop\u001b[0m(\u001b[0mv\u001b[0m, \u001b[0my\u001b[0m[\u001b[0m1\u001b[0m]\u001b[0m)\n",
       "\u001b[35m│\u001b[39m\u001b[34m│\u001b[39m\u001b[33m│\u001b[39m\u001b[32m│\u001b[39m\u001b[35m│\u001b[39m\u001b[34m│\u001b[39m\u001b[33m│\u001b[39m\u001b[32m│\u001b[39m\u001b[35m│\u001b[39m\u001b[34m│\u001b[39m\u001b[33m│\u001b[39m\u001b[32m┌ @ reduce.jl:81 \u001b[39m\u001b[0mop\u001b[0m.\u001b[0mrf\u001b[0m(\u001b[0macc\u001b[0m, \u001b[0mx\u001b[0m)\n",
       "\u001b[35m│\u001b[39m\u001b[34m│\u001b[39m\u001b[33m│\u001b[39m\u001b[32m│\u001b[39m\u001b[35m│\u001b[39m\u001b[34m│\u001b[39m\u001b[33m│\u001b[39m\u001b[32m│\u001b[39m\u001b[35m│\u001b[39m\u001b[34m│\u001b[39m\u001b[33m│\u001b[39m\u001b[32m│\u001b[39m\u001b[91m┌ @ reduce.jl:24 \u001b[39m\u001b[0mx\u001b[0m \u001b[0m+\u001b[0m \u001b[0my\n",
       "\u001b[35m│\u001b[39m\u001b[34m│\u001b[39m\u001b[33m│\u001b[39m\u001b[32m│\u001b[39m\u001b[35m│\u001b[39m\u001b[34m│\u001b[39m\u001b[33m│\u001b[39m\u001b[32m│\u001b[39m\u001b[35m│\u001b[39m\u001b[34m│\u001b[39m\u001b[33m│\u001b[39m\u001b[32m│\u001b[39m\u001b[91m│ \u001b[39m\u001b[91mno matching method found `+(::Char, ::Char)`\u001b[39m\u001b[91m: \u001b[39m\u001b[0m\u001b[1m(\u001b[22m\u001b[0m\u001b[1mx\u001b[22m\u001b[96m\u001b[1m::Char\u001b[22m\u001b[39m\u001b[0m\u001b[1m \u001b[22m\u001b[0m\u001b[1m+\u001b[22m\u001b[0m\u001b[1m \u001b[22m\u001b[0m\u001b[1my\u001b[22m\u001b[96m\u001b[1m::Char\u001b[22m\u001b[39m\u001b[0m\u001b[1m)\u001b[22m\u001b[96m\u001b[1m::Union{}\u001b[22m\u001b[39m\n",
       "\u001b[35m│\u001b[39m\u001b[34m│\u001b[39m\u001b[33m│\u001b[39m\u001b[32m│\u001b[39m\u001b[35m│\u001b[39m\u001b[34m│\u001b[39m\u001b[33m│\u001b[39m\u001b[32m│\u001b[39m\u001b[35m│\u001b[39m\u001b[34m│\u001b[39m\u001b[33m│\u001b[39m\u001b[32m│\u001b[39m\u001b[91m└────────────────\u001b[39m\n",
       "\u001b[35m│\u001b[39m\u001b[34m│\u001b[39m\u001b[33m│\u001b[39m\u001b[32m│\u001b[39m\u001b[35m│\u001b[39m\u001b[34m│\u001b[39m\u001b[33m│\u001b[39m\u001b[32m│\u001b[39m\u001b[35m│\u001b[39m\u001b[34m┌ @ reduce.jl:49 \u001b[39m\u001b[0mBase.reduce_empty_iter\u001b[0m(\u001b[0mop\u001b[0m, \u001b[0mitr\u001b[0m)\n",
       "\u001b[35m│\u001b[39m\u001b[34m│\u001b[39m\u001b[33m│\u001b[39m\u001b[32m│\u001b[39m\u001b[35m│\u001b[39m\u001b[34m│\u001b[39m\u001b[33m│\u001b[39m\u001b[32m│\u001b[39m\u001b[35m│\u001b[39m\u001b[34m│\u001b[39m\u001b[33m┌ @ reduce.jl:370 \u001b[39m\u001b[0mBase.reduce_empty_iter\u001b[0m(\u001b[0mop\u001b[0m, \u001b[0mitr\u001b[0m, \u001b[0mBase.IteratorEltype\u001b[0m(\u001b[0mitr\u001b[0m)\u001b[0m)\n",
       "\u001b[35m│\u001b[39m\u001b[34m│\u001b[39m\u001b[33m│\u001b[39m\u001b[32m│\u001b[39m\u001b[35m│\u001b[39m\u001b[34m│\u001b[39m\u001b[33m│\u001b[39m\u001b[32m│\u001b[39m\u001b[35m│\u001b[39m\u001b[34m│\u001b[39m\u001b[33m│\u001b[39m\u001b[32m┌ @ reduce.jl:371 \u001b[39m\u001b[0mBase.reduce_empty\u001b[0m(\u001b[0mop\u001b[0m, \u001b[0meltype\u001b[0m(\u001b[0mitr\u001b[0m)\u001b[0m)\n",
       "\u001b[35m│\u001b[39m\u001b[34m│\u001b[39m\u001b[33m│\u001b[39m\u001b[32m│\u001b[39m\u001b[35m│\u001b[39m\u001b[34m│\u001b[39m\u001b[33m│\u001b[39m\u001b[32m│\u001b[39m\u001b[35m│\u001b[39m\u001b[34m│\u001b[39m\u001b[33m│\u001b[39m\u001b[32m│\u001b[39m\u001b[35m┌ @ reduce.jl:347 \u001b[39m\u001b[0mBase.reduce_empty\u001b[0m(\u001b[0mop\u001b[0m.\u001b[0mrf\u001b[0m, \u001b[0mT\u001b[0m)\n",
       "\u001b[35m│\u001b[39m\u001b[34m│\u001b[39m\u001b[33m│\u001b[39m\u001b[32m│\u001b[39m\u001b[35m│\u001b[39m\u001b[34m│\u001b[39m\u001b[33m│\u001b[39m\u001b[32m│\u001b[39m\u001b[35m│\u001b[39m\u001b[34m│\u001b[39m\u001b[33m│\u001b[39m\u001b[32m│\u001b[39m\u001b[35m│\u001b[39m\u001b[34m┌ @ reduce.jl:339 \u001b[39m\u001b[0mBase.reduce_empty\u001b[0m(\u001b[0m+\u001b[0m, \u001b[0mT\u001b[0m)\n",
       "\u001b[35m│\u001b[39m\u001b[34m│\u001b[39m\u001b[33m│\u001b[39m\u001b[32m│\u001b[39m\u001b[35m│\u001b[39m\u001b[34m│\u001b[39m\u001b[33m│\u001b[39m\u001b[32m│\u001b[39m\u001b[35m│\u001b[39m\u001b[34m│\u001b[39m\u001b[33m│\u001b[39m\u001b[32m│\u001b[39m\u001b[35m│\u001b[39m\u001b[34m│\u001b[39m\u001b[91m┌ @ reduce.jl:330 \u001b[39m\u001b[0mzero\u001b[0m(\u001b[0mT\u001b[0m)\n",
       "\u001b[35m│\u001b[39m\u001b[34m│\u001b[39m\u001b[33m│\u001b[39m\u001b[32m│\u001b[39m\u001b[35m│\u001b[39m\u001b[34m│\u001b[39m\u001b[33m│\u001b[39m\u001b[32m│\u001b[39m\u001b[35m│\u001b[39m\u001b[34m│\u001b[39m\u001b[33m│\u001b[39m\u001b[32m│\u001b[39m\u001b[35m│\u001b[39m\u001b[34m│\u001b[39m\u001b[91m│ \u001b[39m\u001b[91mno matching method found `zero(::Type{Char})`\u001b[39m\u001b[91m: \u001b[39m\u001b[0m\u001b[1mzero\u001b[22m\u001b[0m\u001b[1m(\u001b[22m\u001b[0m\u001b[1mT\u001b[22m\u001b[96m\u001b[1m::Type{Char}\u001b[22m\u001b[39m\u001b[0m\u001b[1m)\u001b[22m\u001b[96m\u001b[1m::Union{}\u001b[22m\u001b[39m\n",
       "\u001b[35m│\u001b[39m\u001b[34m│\u001b[39m\u001b[33m│\u001b[39m\u001b[32m│\u001b[39m\u001b[35m│\u001b[39m\u001b[34m│\u001b[39m\u001b[33m│\u001b[39m\u001b[32m│\u001b[39m\u001b[35m│\u001b[39m\u001b[34m│\u001b[39m\u001b[33m│\u001b[39m\u001b[32m│\u001b[39m\u001b[35m│\u001b[39m\u001b[34m│\u001b[39m\u001b[91m└─────────────────\u001b[39m\n"
      ]
     },
     "execution_count": 68,
     "metadata": {},
     "output_type": "execute_result"
    }
   ],
   "source": [
    "@report_call sum(\"Stuttgart\")"
   ]
  },
  {
   "cell_type": "markdown",
   "metadata": {},
   "source": [
    "### [Cthulhu.jl](https://github.com/JuliaDebug/Cthulhu.jl)\n",
    "\n",
    "**Interactive code explorer** that let's you navigate through a nested function call-tree and apply macros like `@code_*`, or `@which`, and more. For example, one can recursively apply `@code_warntype` at different levels to detect the origin of a type instability. (Note though that it might take some time to master Cthulhu.)\n",
    "\n",
    "Important macro: `@descend` (or directly `@descend_code_warntype`)\n",
    "\n",
    "(Cthulhu isn't a debugger! It has only \"static\" information.)"
   ]
  },
  {
   "cell_type": "code",
   "execution_count": 71,
   "metadata": {},
   "outputs": [
    {
     "data": {
      "text/plain": [
       "f (generic function with 2 methods)"
      ]
     },
     "execution_count": 71,
     "metadata": {},
     "output_type": "execute_result"
    }
   ],
   "source": [
    "using Cthulhu\n",
    "\n",
    "A = rand(10,10)\n",
    "B = rand(10,10)\n",
    "\n",
    "# @descend A*B # doesn't work in Jupyter -> use REPL"
   ]
  },
  {
   "cell_type": "markdown",
   "metadata": {},
   "source": [
    "# Core messages of this Notebook\n",
    "\n",
    "* **Wrap code in self-contained functions** in performance critical applications, i.e. avoid global scope.\n",
    "* Write **type-stable code** (check with `@code_warntype`).\n",
    "* Use **views** instead of copies to avoid unnecessary allocations.\n",
    "* Use **broadcasting (more dots)** to avoid temporary allocations in vectorized code (or write out loops).\n",
    "* **Types should always have concrete fields.** If you don't know them in advance, use type parameters.\n",
    "* Be aware of **column major order** when looping over arrays."
   ]
  }
 ],
 "metadata": {
  "@webio": {
   "lastCommId": null,
   "lastKernelId": null
  },
  "kernelspec": {
   "display_name": "Julia 1.8.0",
   "language": "julia",
   "name": "julia-1.8"
  },
  "language_info": {
   "file_extension": ".jl",
   "mimetype": "application/julia",
   "name": "julia",
   "version": "1.8.0"
  }
 },
 "nbformat": 4,
 "nbformat_minor": 4
}
