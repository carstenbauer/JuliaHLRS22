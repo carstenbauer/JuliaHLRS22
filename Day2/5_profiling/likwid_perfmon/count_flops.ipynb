{
 "cells": [
  {
   "cell_type": "code",
   "execution_count": null,
   "id": "63a4570a",
   "metadata": {},
   "outputs": [],
   "source": [
    "using LIKWID"
   ]
  },
  {
   "cell_type": "code",
   "execution_count": null,
   "id": "30a73a9e",
   "metadata": {},
   "outputs": [],
   "source": [
    "function matmul(n, k=n)\n",
    "    A = rand(n, k)\n",
    "    B = rand(k, n)\n",
    "    C = zeros(n, n)\n",
    "    # simple matmul implementation\n",
    "    for n in axes(C, 2), m in axes(C, 1)\n",
    "        Cmn = zero(eltype(C))\n",
    "        for k in axes(A, 2)\n",
    "            tmp = A[m, k] * B[k, n]\n",
    "            Cmn += tmp\n",
    "        end\n",
    "        C[m, n] = Cmn\n",
    "    end\n",
    "    return C\n",
    "end"
   ]
  },
  {
   "cell_type": "code",
   "execution_count": null,
   "id": "de81a7ec",
   "metadata": {},
   "outputs": [],
   "source": [
    "metrics, events = @perfmon \"FLOPS_DP\" matmul(1000, 100);"
   ]
  },
  {
   "cell_type": "code",
   "execution_count": null,
   "id": "390971d0",
   "metadata": {},
   "outputs": [],
   "source": [
    "function count_flops(f)\n",
    "    metrics, events = perfmon(f, \"FLOPS_DP\"; print=false)\n",
    "    flops_per_second = metrics[\"FLOPS_DP\"][1][\"DP [MFLOP/s]\"] * 1e6\n",
    "    runtime = metrics[\"FLOPS_DP\"][1][\"Runtime (RDTSC) [s]\"]\n",
    "    flops = round(Int, flops_per_second * runtime)\n",
    "    return flops\n",
    "end"
   ]
  },
  {
   "cell_type": "code",
   "execution_count": null,
   "id": "2ec7ae62",
   "metadata": {},
   "outputs": [],
   "source": [
    "N = 1000\n",
    "K = 100\n",
    "count_flops(() -> matmul(N, K))"
   ]
  },
  {
   "cell_type": "code",
   "execution_count": null,
   "id": "606b3eea",
   "metadata": {},
   "outputs": [],
   "source": [
    "using Test\n",
    "nflops_rand = 2 * N * K\n",
    "nflops_matmul = 2 * N^2 * K\n",
    "@test count_flops(() -> matmul(N, K)) ≈ nflops_matmul + nflops_rand"
   ]
  }
 ],
 "metadata": {
  "jupytext": {
   "cell_metadata_filter": "-all",
   "main_language": "julia",
   "notebook_metadata_filter": "-all"
  },
  "kernelspec": {
   "display_name": "Julia 1.8.0",
   "language": "julia",
   "name": "julia-1.8"
  },
  "language_info": {
   "file_extension": ".jl",
   "mimetype": "application/julia",
   "name": "julia",
   "version": "1.8.0"
  }
 },
 "nbformat": 4,
 "nbformat_minor": 5
}
